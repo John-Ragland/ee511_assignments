{
 "cells": [
  {
   "cell_type": "code",
   "execution_count": 1,
   "metadata": {},
   "outputs": [],
   "source": [
    "import numpy as np\n",
    "import tools\n",
    "import torch\n",
    "import torch.nn as nn\n",
    "import torch.nn.functional as F\n",
    "\n",
    "# Some magic so that the notebook will reload external python modules;\n",
    "# see http://stackoverflow.com/questions/1907993/autoreload-of-modules-in-ipython\n",
    "%load_ext autoreload\n",
    "%autoreload 2"
   ]
  },
  {
   "cell_type": "markdown",
   "metadata": {},
   "source": [
    "## Load the Data and Calculate Vocabulary"
   ]
  },
  {
   "cell_type": "code",
   "execution_count": 2,
   "metadata": {},
   "outputs": [],
   "source": [
    "Languages = {\n",
    "    'en':'English', \n",
    "    'es':'Spanish', \n",
    "    'pt':'Portuguese', \n",
    "    'gl':'Galician', \n",
    "    'eu':'Basque', \n",
    "    'ca':'Catalan', \n",
    "    'fr':'French', \n",
    "    'it':'Italian', \n",
    "    'de':'German'\n",
    "}"
   ]
  },
  {
   "source": [
    "## Load the Data, Calculate Vocabulary and Perplexity"
   ],
   "cell_type": "markdown",
   "metadata": {}
  },
  {
   "cell_type": "code",
   "execution_count": 3,
   "metadata": {},
   "outputs": [
    {
     "name": "stdout",
     "output_type": "stream",
     "text": [
      "Converting Training Data...\n",
      "Converting Test Data...\n",
      "Converting Validation Data...\n",
      "99.99149587549961555\r"
     ]
    }
   ],
   "source": [
    "# Load Data\n",
    "data = tools.Data()\n",
    "print('Size of the vocabulary: %d characters' % len(data.vocab))"
   ]
  },
  {
   "cell_type": "code",
   "execution_count": 4,
   "metadata": {},
   "outputs": [
    {
     "name": "stdout",
     "output_type": "stream",
     "text": [
      "80175\n11759\n14960\n"
     ]
    }
   ],
   "source": [
    "# Data is list of tensors (each tensor is single tweet)\n",
    "print(len(data.train))\n",
    "print(len(data.val))\n",
    "print(len(data.test))\n",
    "\n",
    "# print(f'\\n{data.train.tweet[0].size()}')\n",
    "# Tensor Dimensions (sequency length, batch size, vocab)"
   ]
  },
  {
   "cell_type": "code",
   "execution_count": 5,
   "metadata": {},
   "outputs": [
    {
     "name": "stdout",
     "output_type": "stream",
     "text": [
      "80175\n",
      "11759\n",
      "14960\n",
      "\n",
      "torch.Size([115, 1, 509])\n"
     ]
    }
   ],
   "source": [
    "# Data is list of tensors (each tensor is single tweet)\n",
    "print(len(Data.train))\n",
    "print(len(Data.val))\n",
    "print(len(Data.test))\n",
    "\n",
    "print(f'\\n{Data.train[0].size()}')\n",
    "# Tensor Dimensions (sequence length, batch size, vocab)"
   ]
  },
  {
   "cell_type": "markdown",
   "metadata": {},
   "source": [
    "## Calculate Percent out of vocab for Training and Validation"
   ]
  },
  {
   "cell_type": "code",
   "execution_count": 6,
   "metadata": {},
   "outputs": [
    {
     "name": "stdout",
     "output_type": "stream",
     "text": [
      "Percent of Invalid Characters - Train:  3.0009 %\n",
      "Percent of Invalid Characters - Val:    3.8949 %\n"
     ]
    }
   ],
   "source": [
    "num_invalid_train = 0\n",
    "num_invalid_val = 0\n",
    "for k in range(len(Data.train)):\n",
    "    num_invalid_train += torch.sum(Data.train[k][:, :, 0]).double()\n",
    "\n",
    "for k in range(len(Data.val)):\n",
    "    num_invalid_val += torch.sum(Data.val[k][:, :, 0]).double()\n",
    "    \n",
    "print(f'Percent of Invalid Characters - Train: {num_invalid_train / len(Data.train) * 100 : 5.5} %')\n",
    "print(f'Percent of Invalid Characters - Val:   {num_invalid_val / len(Data.val) * 100 : 5.5} %')"
   ]
  },
  {
   "cell_type": "markdown",
   "metadata": {},
   "source": [
    "## PREPLEXITY? Implement after model?\n",
    "seems helpful: https://stackoverflow.com/questions/59209086/calculate-perplexity-in-pytorch"
   ]
  },
  {
   "cell_type": "markdown",
   "metadata": {},
   "source": [
    "## Model"
   ]
  },
  {
   "cell_type": "code",
   "execution_count": 7,
   "metadata": {},
   "outputs": [],
   "source": [
    "class MyRNN(nn.Module):\n",
    "    def __init__(self, vocab_size, lang_size=9, char_vec_size=12, lang_vec_size=2, hidden_size=50):\n",
    "        \n",
    "        super(MyRNN, self).__init__()\n",
    "        self.vocab_size = vocab_size\n",
    "        self.lang_size = lang_size\n",
    "        self.char_vec_size = char_vec_size\n",
    "        self.lang_vec_size = lang_vec_size\n",
    "        self.hidden_size = hidden_size\n",
    "        \n",
    "        self.char_encoder = nn.Embedding(self.vocab_size, self.char_vec_size)\n",
    "        self.lang_encoder = nn.Embedding(self.lang_size, self.lang_vec_size)\n",
    "        # the current hidden size = char_vec_size\n",
    "        self.gru = nn.GRU(self.char_vec_size+self.lang_vec_size, self.hidden_size, num_layers=1)\n",
    "        self.linear = nn.Linear(self.hidden_size, self.char_vec_size)\n",
    "        self.decoder = nn.Linear(self.char_vec_size, self.vocab_size)\n",
    "        \n",
    "        # This shares the encoder and decoder weights as described in lecture.\n",
    "        self.decoder.weight = self.char_encoder.weight\n",
    "        self.decoder.bias.data.zero_()\n",
    "        \n",
    "        \n",
    "        weight = torch.ones(vocab_size)\n",
    "        # scores over PAD is not counted\n",
    "        weight[PAD] = 0\n",
    "        self.sm = nn.LogSoftmax(dim=1)\n",
    "        self.crit = nn.NLLLoss(weight)\n",
    "\n",
    "    def forward(self, input, hidden=None):\n",
    "        emb = pack(torch.cat((self.char_encoder(input[0]), self.lang_encoder(input[1])), -1), input[2])\n",
    "        output, hidden_t = self.gru(emb, hidden)\n",
    "        output = unpack(output)[0]\n",
    "        output = F.tanh(self.linear(output))\n",
    "        output = self.decoder(output)\n",
    "        return output, hidden_t\n",
    "\n",
    "    # Predefined loss function\n",
    "    def loss(self, prediction, label, reduction='elementwise_mean'):\n",
    "        prediction = prediction.view(-1, self.vocab_size)\n",
    "        prediction = self.sm(prediction)\n",
    "        loss_val = self.crit(prediction, label.view(-1))\n",
    "        return loss_val"
   ]
  },
  {
   "cell_type": "code",
   "execution_count": 8,
   "metadata": {},
   "outputs": [
    {
     "name": "stdout",
     "output_type": "stream",
     "text": [
      "torch.Size([1, 9])\n"
     ]
    }
   ],
   "source": [
    "input = Data.string_to_tensor('This is a test')\n",
    "hidden = torch.zeros(1, 128)\n",
    "\n",
    "output, next_hidden = rnn(input[0], hidden)\n",
    "print(output.size())"
   ]
  },
  {
   "cell_type": "markdown",
   "metadata": {},
   "source": [
    "## Model (John)"
   ]
  },
  {
   "cell_type": "code",
   "execution_count": null,
   "metadata": {},
   "outputs": [],
   "source": [
    "\n"
   ]
  }
 ],
 "metadata": {
  "kernelspec": {
   "display_name": "Python 3",
   "language": "python",
   "name": "python3"
  },
  "language_info": {
   "codemirror_mode": {
    "name": "ipython",
    "version": 3
   },
   "file_extension": ".py",
   "mimetype": "text/x-python",
   "name": "python",
   "nbconvert_exporter": "python",
   "pygments_lexer": "ipython3",
   "version": "3.9.1"
  }
 },
 "nbformat": 4,
 "nbformat_minor": 4
}
