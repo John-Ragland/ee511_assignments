{
 "cells": [
  {
   "cell_type": "code",
   "execution_count": 2,
   "metadata": {},
   "outputs": [],
   "source": [
    "import numpy as np\n",
    "import tools\n",
    "import torch\n",
    "import torch.nn as nn\n",
    "import torch.nn.functional as F\n",
    "\n",
    "# Some magic so that the notebook will reload external python modules;\n",
    "# see http://stackoverflow.com/questions/1907993/autoreload-of-modules-in-ipython\n",
    "%load_ext autoreload\n",
    "%autoreload 2"
   ]
  },
  {
   "cell_type": "code",
   "execution_count": 3,
   "metadata": {},
   "outputs": [],
   "source": [
    "Languages = {\n",
    "    'en':'English', \n",
    "    'es':'Spanish', \n",
    "    'pt':'Portuguese', \n",
    "    'gl':'Galician', \n",
    "    'eu':'Basque', \n",
    "    'ca':'Catalan', \n",
    "    'fr':'French', \n",
    "    'it':'Italian', \n",
    "    'de':'German'\n",
    "}"
   ]
  },
  {
   "source": [
    "## Load the Data, Calculate Vocabulary and Perplexity"
   ],
   "cell_type": "markdown",
   "metadata": {}
  },
  {
   "cell_type": "code",
   "execution_count": 14,
   "metadata": {},
   "outputs": [
    {
     "output_type": "stream",
     "name": "stdout",
     "text": [
      "Size of the vocabulary: 509 characters\n"
     ]
    }
   ],
   "source": [
    "# Load Data\n",
    "data = tools.Data()\n",
    "print('Size of the vocabulary: %d characters' % len(data.vocab))"
   ]
  },
  {
   "cell_type": "code",
   "execution_count": 16,
   "metadata": {},
   "outputs": [
    {
     "output_type": "stream",
     "name": "stdout",
     "text": [
      "Preplexity measurement is 34.11\n"
     ]
    }
   ],
   "source": [
    "preplexity = data.get_perplexity()\n",
    "print('Preplexity measurement is %.2f' % preplexity)"
   ]
  },
  {
   "cell_type": "code",
   "execution_count": 24,
   "metadata": {},
   "outputs": [
    {
     "output_type": "stream",
     "name": "stdout",
     "text": [
      "Percent of Invalid Characters - Train: 0.04622%\nPercent of Invalid Characters - Val: 0.05987%\n"
     ]
    }
   ],
   "source": [
    "print('Percent of Invalid Characters - Train: %.5f%%' \n",
    "    % ((data.train_freq[data.vocab.index('<N>')] / data.train_freq.sum()) * 100.0))\n",
    "print('Percent of Invalid Characters - Val: %.5f%%' \n",
    "    % ((data.val_freq[data.vocab.index('<N>')] / data.val_freq.sum()) * 100.0))"
   ]
  },
  {
   "cell_type": "markdown",
   "metadata": {},
   "source": [
    "## Model (Doruk)"
   ]
  },
  {
   "cell_type": "code",
   "execution_count": null,
   "metadata": {},
   "outputs": [],
   "source": []
  },
  {
   "cell_type": "markdown",
   "metadata": {},
   "source": [
    "## Model (John)"
   ]
  },
  {
   "cell_type": "code",
   "execution_count": null,
   "metadata": {},
   "outputs": [],
   "source": [
    "\n"
   ]
  }
 ],
 "metadata": {
  "kernelspec": {
   "display_name": "Python 3",
   "language": "python",
   "name": "python3"
  },
  "language_info": {
   "codemirror_mode": {
    "name": "ipython",
    "version": 3
   },
   "file_extension": ".py",
   "mimetype": "text/x-python",
   "name": "python",
   "nbconvert_exporter": "python",
   "pygments_lexer": "ipython3",
   "version": "3.8.3-final"
  }
 },
 "nbformat": 4,
 "nbformat_minor": 4
}