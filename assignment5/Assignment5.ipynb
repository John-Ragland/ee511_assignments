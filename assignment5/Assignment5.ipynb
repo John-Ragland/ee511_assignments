{
 "cells": [
  {
   "cell_type": "code",
   "execution_count": 135,
   "metadata": {},
   "outputs": [
    {
     "name": "stdout",
     "output_type": "stream",
     "text": [
      "The autoreload extension is already loaded. To reload it, use:\n",
      "  %reload_ext autoreload\n"
     ]
    }
   ],
   "source": [
    "import numpy as np\n",
    "import tools\n",
    "import torch\n",
    "\n",
    "# Some magic so that the notebook will reload external python modules;\n",
    "# see http://stackoverflow.com/questions/1907993/autoreload-of-modules-in-ipython\n",
    "%load_ext autoreload\n",
    "%autoreload 2"
   ]
  },
  {
   "cell_type": "code",
   "execution_count": 194,
   "metadata": {},
   "outputs": [
    {
     "name": "stdout",
     "output_type": "stream",
     "text": [
      "Converting Training Data...\n",
      "Converting Test Data...\n",
      "Converting Validation Data...\n",
      "99.99149587549961555\r"
     ]
    }
   ],
   "source": [
    "# Load Data\n",
    "Data = tools.Data()\n",
    "Data.load_data()"
   ]
  },
  {
   "cell_type": "code",
   "execution_count": 170,
   "metadata": {},
   "outputs": [],
   "source": [
    "# Tests converting to Tensors\n",
    "vocab = Data.get_vocab()\n",
    "tweet = 'testг'\n",
    "tweet_tensor = tools.stringToTensor(tweet, vocab)"
   ]
  },
  {
   "cell_type": "code",
   "execution_count": 242,
   "metadata": {},
   "outputs": [
    {
     "name": "stdout",
     "output_type": "stream",
     "text": [
      "80175\n",
      "11759\n",
      "14960\n",
      "\n",
      "torch.Size([115, 1, 509])\n"
     ]
    }
   ],
   "source": [
    "# Data is list of tensors (each tensor is single tweet)\n",
    "print(len(Data.train))\n",
    "print(len(Data.val))\n",
    "print(len(Data.test))\n",
    "\n",
    "print(f'\\n{Data.train[0].size()}')\n",
    "# Tensor Dimensions (sequency length, batch size, vocab)"
   ]
  },
  {
   "cell_type": "markdown",
   "metadata": {},
   "source": [
    "## Calculate Percent out of vocab for Training and Validation"
   ]
  },
  {
   "cell_type": "code",
   "execution_count": 237,
   "metadata": {},
   "outputs": [
    {
     "name": "stdout",
     "output_type": "stream",
     "text": [
      "Percent of Invalid Characters - Train: 3.0009 %\n",
      "Percent of Invalid Characters - Val:   3.8949 %\n"
     ]
    }
   ],
   "source": [
    "num_invalid_train = 0\n",
    "num_invalid_val = 0\n",
    "for k in range(len(Data.train)):\n",
    "    num_invalid_train += torch.sum(Data.train[k][:,:,0]).double()\n",
    "\n",
    "for k in range(len(Data.val)):\n",
    "    num_invalid_val += torch.sum(Data.val[k][:,:,0]).double()\n",
    "    \n",
    "print(f'Percent of Invalid Characters - Train: {num_invalid_train/len(Data.train)*100:5.5} %')\n",
    "print(f'Percent of Invalid Characters - Val:   {num_invalid_val/len(Data.val)*100:5.5} %')"
   ]
  }
 ],
 "metadata": {
  "kernelspec": {
   "display_name": "Python 3",
   "language": "python",
   "name": "python3"
  },
  "language_info": {
   "codemirror_mode": {
    "name": "ipython",
    "version": 3
   },
   "file_extension": ".py",
   "mimetype": "text/x-python",
   "name": "python",
   "nbconvert_exporter": "python",
   "pygments_lexer": "ipython3",
   "version": "3.9.1"
  }
 },
 "nbformat": 4,
 "nbformat_minor": 4
}
