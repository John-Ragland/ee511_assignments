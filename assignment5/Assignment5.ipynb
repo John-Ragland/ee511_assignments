{
 "cells": [
  {
   "cell_type": "code",
   "execution_count": 53,
   "metadata": {},
   "outputs": [
    {
     "output_type": "stream",
     "name": "stdout",
     "text": [
      "The autoreload extension is already loaded. To reload it, use:\n  %reload_ext autoreload\n"
     ]
    }
   ],
   "source": [
    "import numpy as np\n",
    "import tools\n",
    "import torch\n",
    "import torch.nn as nn\n",
    "import torch.nn.functional as F\n",
    "from torch.utils.data import TensorDataset, DataLoader\n",
    "import torch.optim as optim\n",
    "from torch.nn.utils.rnn import pad_packed_sequence as unpack\n",
    "from torch.nn.utils.rnn import pack_padded_sequence as pack\n",
    "\n",
    "# Some magic so that the notebook will reload external python modules;\n",
    "# see http://stackoverflow.com/questions/1907993/autoreload-of-modules-in-ipython\n",
    "%load_ext autoreload\n",
    "%autoreload 2"
   ]
  },
  {
   "cell_type": "code",
   "execution_count": 16,
   "metadata": {},
   "outputs": [],
   "source": [
    "lan_codes = ['en', 'es', 'pt', 'gl', 'eu', 'ca', 'fr', 'it', 'de']\n",
    "Languages = ['English', 'Spanish', 'Portuguese', 'Galician', 'Basque', 'Catalan', 'French', 'Italian', 'German']"
   ]
  },
  {
   "source": [
    "## Load the Data, Calculate Vocabulary and Perplexity"
   ],
   "cell_type": "markdown",
   "metadata": {}
  },
  {
   "cell_type": "code",
   "execution_count": 19,
   "metadata": {},
   "outputs": [
    {
     "output_type": "stream",
     "name": "stdout",
     "text": [
      "Size of the vocabulary: 509 characters\n"
     ]
    }
   ],
   "source": [
    "# Load Data\n",
    "data = tools.Data()\n",
    "print('Size of the vocabulary: %d characters' % len(data.vocab))"
   ]
  },
  {
   "cell_type": "code",
   "execution_count": 20,
   "metadata": {},
   "outputs": [
    {
     "output_type": "stream",
     "name": "stdout",
     "text": [
      "Preplexity measurement is 34.11\n"
     ]
    }
   ],
   "source": [
    "preplexity = data.get_perplexity()\n",
    "print('Preplexity measurement is %.2f' % preplexity)"
   ]
  },
  {
   "cell_type": "code",
   "execution_count": 21,
   "metadata": {},
   "outputs": [
    {
     "output_type": "stream",
     "name": "stdout",
     "text": [
      "Percent of Invalid Characters - Train: 0.04622%\nPercent of Invalid Characters - Val: 0.05987%\n"
     ]
    }
   ],
   "source": [
    "print('Percent of Invalid Characters - Train: %.5f%%' \n",
    "    % ((data.train_freq[data.vocab.index('<N>')] / data.train_freq.sum()) * 100.0))\n",
    "print('Percent of Invalid Characters - Val: %.5f%%' \n",
    "    % ((data.val_freq[data.vocab.index('<N>')] / data.val_freq.sum()) * 100.0))"
   ]
  },
  {
   "cell_type": "markdown",
   "metadata": {},
   "source": [
    "## Model (Doruk)"
   ]
  },
  {
   "cell_type": "code",
   "execution_count": 147,
   "metadata": {},
   "outputs": [],
   "source": [
    "class MyRNN(nn.Module):\n",
    "    def __init__(self, vocab_size, PAD, lang_size=9, char_vec_size=12, lang_vec_size=2, hidden_size=50):\n",
    "        \n",
    "        super(MyRNN, self).__init__()\n",
    "        self.vocab_size = vocab_size\n",
    "        self.lang_size = lang_size\n",
    "        self.char_vec_size = char_vec_size\n",
    "        self.lang_vec_size = lang_vec_size\n",
    "        self.hidden_size = hidden_size\n",
    "        \n",
    "        self.char_encoder = nn.Embedding(self.vocab_size, self.char_vec_size)\n",
    "        self.lang_encoder = nn.Embedding(self.lang_size, self.lang_vec_size)\n",
    "        # the current hidden size = char_vec_size\n",
    "        self.gru = nn.GRU(self.char_vec_size+self.lang_vec_size, self.hidden_size, num_layers=1)\n",
    "        self.linear = nn.Linear(self.hidden_size, self.char_vec_size)\n",
    "        self.decoder = nn.Linear(self.char_vec_size, self.vocab_size)\n",
    "        \n",
    "        # This shares the encoder and decoder weights as described in lecture.\n",
    "        self.decoder.weight = self.char_encoder.weight\n",
    "        self.decoder.bias.data.zero_()\n",
    "        \n",
    "        \n",
    "        weight = torch.ones(vocab_size)\n",
    "        # scores over PAD is not counted\n",
    "        weight[PAD] = 0\n",
    "        self.sm = nn.LogSoftmax(dim=1)\n",
    "        self.crit = nn.NLLLoss(weight, size_average=False)\n",
    "\n",
    "    def forward(self, tweets, lang, hidden=None):\n",
    "        emb = torch.cat((self.lang_encoder(lang), self.char_encoder(tweets)), -1)\n",
    "        output, hidden_t = self.gru(emb, hidden)\n",
    "        output = F.tanh(self.linear(output))\n",
    "        output = self.decoder(output)\n",
    "        return output, hidden_t\n",
    "\n",
    "    # Predefined loss function\n",
    "    def loss(self, prediction, label, reduction='elementwise_mean'):\n",
    "        prediction = prediction.view(-1, self.vocab_size)\n",
    "        prediction = self.sm(prediction)\n",
    "        loss_val = self.crit(prediction, label.view(-1))\n",
    "        return loss_val"
   ]
  },
  {
   "cell_type": "code",
   "execution_count": 148,
   "metadata": {},
   "outputs": [],
   "source": [
    "BATCH_SIZE = 64\n",
    "FEATURE_SIZE = 15\n",
    "TEST_BATCH_SIZE = 256\n",
    "EPOCHS = 10\n",
    "LEARNING_RATE = 0.001\n",
    "WEIGHT_DECAY = 0.0005\n",
    "MOMENTUM = 0.5\n",
    "LOG_INTERVAL = 10000\n",
    "device = torch.device(\"cpu\")"
   ]
  },
  {
   "cell_type": "code",
   "execution_count": 142,
   "metadata": {
    "tags": []
   },
   "outputs": [],
   "source": [
    "# this cell takes a few minutes to run\n",
    "train_tweets, train_lans = tools.data_encoding(data.train, data.vocab, lan_codes)\n",
    "val_tweets, val_lans = tools.data_encoding(data.val, data.vocab, lan_codes)\n",
    "test_tweets, test_lans = tools.data_encoding(data.test, data.vocab, lan_codes)"
   ]
  },
  {
   "cell_type": "code",
   "execution_count": 149,
   "metadata": {},
   "outputs": [],
   "source": [
    "train_loader = tools.get_data_loader(train_tweets, train_lans, BATCH_SIZE)\n",
    "val_loader = tools.get_data_loader(val_tweets, val_lans, BATCH_SIZE)\n",
    "test_loader = tools.get_data_loader(test_tweets, test_lans , BATCH_SIZE)"
   ]
  },
  {
   "cell_type": "code",
   "execution_count": 150,
   "metadata": {},
   "outputs": [],
   "source": [
    "model = MyRNN(len(data.vocab), data.vocab.index('</S>'))\n",
    "optimizer = optim.Adam(model.parameters(), lr=LEARNING_RATE, weight_decay=WEIGHT_DECAY)"
   ]
  },
  {
   "cell_type": "code",
   "execution_count": 151,
   "metadata": {},
   "outputs": [
    {
     "output_type": "stream",
     "name": "stdout",
     "text": [
      "tensor([[0, 0, 0,  ..., 0, 0, 0],\n",
      "        [0, 2, 2,  ..., 2, 2, 0],\n",
      "        [0, 0, 0,  ..., 0, 0, 0],\n",
      "        ...,\n",
      "        [0, 0, 0,  ..., 0, 0, 0],\n",
      "        [0, 0, 0,  ..., 0, 0, 0],\n",
      "        [0, 0, 0,  ..., 0, 0, 0]])\n",
      "Train Epoch: 0 [0/80175 (0%)]\tLoss: 119091.679688\n",
      "tensor([[0, 2, 2,  ..., 2, 2, 0],\n",
      "        [0, 1, 1,  ..., 1, 1, 0],\n",
      "        [0, 0, 0,  ..., 0, 0, 0],\n",
      "        ...,\n",
      "        [0, 0, 0,  ..., 0, 0, 0],\n",
      "        [0, 0, 0,  ..., 0, 0, 0],\n",
      "        [0, 2, 2,  ..., 2, 2, 0]])\n",
      "tensor([[0, 6, 6,  ..., 6, 6, 0],\n",
      "        [0, 1, 1,  ..., 1, 1, 0],\n",
      "        [0, 2, 2,  ..., 2, 2, 0],\n",
      "        ...,\n",
      "        [0, 1, 1,  ..., 1, 1, 0],\n",
      "        [0, 1, 1,  ..., 1, 1, 0],\n",
      "        [0, 2, 2,  ..., 2, 2, 0]])\n",
      "tensor([[0, 1, 1,  ..., 1, 1, 0],\n",
      "        [0, 2, 2,  ..., 2, 2, 0],\n",
      "        [0, 7, 7,  ..., 7, 7, 0],\n",
      "        ...,\n",
      "        [0, 0, 0,  ..., 0, 0, 0],\n",
      "        [0, 0, 0,  ..., 0, 0, 0],\n",
      "        [0, 8, 8,  ..., 8, 8, 0]])\n",
      "tensor([[0, 2, 2,  ..., 2, 2, 0],\n",
      "        [0, 0, 0,  ..., 0, 0, 0],\n",
      "        [0, 2, 2,  ..., 2, 2, 0],\n",
      "        ...,\n",
      "        [0, 2, 2,  ..., 2, 2, 0],\n",
      "        [0, 0, 0,  ..., 0, 0, 0],\n",
      "        [0, 2, 2,  ..., 2, 2, 0]])\n",
      "tensor([[0, 4, 4,  ..., 4, 4, 0],\n",
      "        [0, 6, 6,  ..., 6, 6, 0],\n",
      "        [0, 0, 0,  ..., 0, 0, 0],\n",
      "        ...,\n",
      "        [0, 6, 6,  ..., 6, 6, 0],\n",
      "        [0, 2, 2,  ..., 2, 2, 0],\n",
      "        [0, 0, 0,  ..., 0, 0, 0]])\n",
      "tensor([[0, 2, 2,  ..., 2, 2, 0],\n",
      "        [0, 1, 1,  ..., 1, 1, 0],\n",
      "        [0, 1, 1,  ..., 1, 1, 0],\n",
      "        ...,\n",
      "        [0, 2, 2,  ..., 2, 2, 0],\n",
      "        [0, 1, 1,  ..., 1, 1, 0],\n",
      "        [0, 0, 0,  ..., 0, 0, 0]])\n",
      "tensor([[0, 0, 0,  ..., 0, 0, 0],\n",
      "        [0, 1, 1,  ..., 1, 1, 0],\n",
      "        [0, 1, 1,  ..., 1, 1, 0],\n",
      "        ...,\n",
      "        [0, 1, 1,  ..., 1, 1, 0],\n",
      "        [0, 6, 6,  ..., 6, 6, 0],\n",
      "        [0, 0, 0,  ..., 0, 0, 0]])\n",
      "tensor([[0, 0, 0,  ..., 0, 0, 0],\n",
      "        [0, 2, 2,  ..., 2, 2, 0],\n",
      "        [0, 2, 2,  ..., 2, 2, 0],\n",
      "        ...,\n",
      "        [0, 6, 6,  ..., 6, 6, 0],\n",
      "        [0, 2, 2,  ..., 2, 2, 0],\n",
      "        [0, 2, 2,  ..., 2, 2, 0]])\n",
      "tensor([[0, 0, 0,  ..., 0, 0, 0],\n",
      "        [0, 2, 2,  ..., 2, 2, 0],\n",
      "        [0, 0, 0,  ..., 0, 0, 0],\n",
      "        ...,\n",
      "        [0, 0, 0,  ..., 0, 0, 0],\n",
      "        [0, 0, 0,  ..., 0, 0, 0],\n",
      "        [0, 1, 1,  ..., 1, 1, 0]])\n",
      "tensor([[0, 0, 0,  ..., 0, 0, 0],\n",
      "        [0, 7, 7,  ..., 7, 7, 0],\n",
      "        [0, 1, 1,  ..., 1, 1, 0],\n",
      "        ...,\n",
      "        [0, 1, 1,  ..., 1, 1, 0],\n",
      "        [0, 0, 0,  ..., 0, 0, 0],\n",
      "        [0, 1, 1,  ..., 1, 1, 0]])\n",
      "tensor([[0, 2, 2,  ..., 2, 2, 0],\n",
      "        [0, 2, 2,  ..., 2, 2, 0],\n",
      "        [0, 2, 2,  ..., 2, 2, 0],\n",
      "        ...,\n",
      "        [0, 1, 1,  ..., 1, 1, 0],\n",
      "        [0, 1, 1,  ..., 1, 1, 0],\n",
      "        [0, 2, 2,  ..., 2, 2, 0]])\n",
      "tensor([[0, 1, 1,  ..., 1, 1, 0],\n",
      "        [0, 0, 0,  ..., 0, 0, 0],\n",
      "        [0, 0, 0,  ..., 0, 0, 0],\n",
      "        ...,\n",
      "        [0, 1, 1,  ..., 1, 1, 0],\n",
      "        [0, 2, 2,  ..., 2, 2, 0],\n",
      "        [0, 6, 6,  ..., 6, 6, 0]])\n",
      "tensor([[0, 1, 1,  ..., 1, 1, 0],\n",
      "        [0, 1, 1,  ..., 1, 1, 0],\n",
      "        [0, 2, 2,  ..., 2, 2, 0],\n",
      "        ...,\n",
      "        [0, 2, 2,  ..., 2, 2, 0],\n",
      "        [0, 0, 0,  ..., 0, 0, 0],\n",
      "        [0, 0, 0,  ..., 0, 0, 0]])\n",
      "tensor([[0, 1, 1,  ..., 1, 1, 0],\n",
      "        [0, 0, 0,  ..., 0, 0, 0],\n",
      "        [0, 5, 5,  ..., 5, 5, 0],\n",
      "        ...,\n",
      "        [0, 2, 2,  ..., 2, 2, 0],\n",
      "        [0, 2, 2,  ..., 2, 2, 0],\n",
      "        [0, 7, 7,  ..., 7, 7, 0]])\n",
      "tensor([[0, 0, 0,  ..., 0, 0, 0],\n",
      "        [0, 6, 6,  ..., 6, 6, 0],\n",
      "        [0, 7, 7,  ..., 7, 7, 0],\n",
      "        ...,\n",
      "        [0, 1, 1,  ..., 1, 1, 0],\n",
      "        [0, 0, 0,  ..., 0, 0, 0],\n",
      "        [0, 2, 2,  ..., 2, 2, 0]])\n",
      "tensor([[0, 0, 0,  ..., 0, 0, 0],\n",
      "        [0, 2, 2,  ..., 2, 2, 0],\n",
      "        [0, 6, 6,  ..., 6, 6, 0],\n",
      "        ...,\n",
      "        [0, 1, 1,  ..., 1, 1, 0],\n",
      "        [0, 1, 1,  ..., 1, 1, 0],\n",
      "        [0, 2, 2,  ..., 2, 2, 0]])\n",
      "tensor([[0, 1, 1,  ..., 1, 1, 0],\n",
      "        [0, 4, 4,  ..., 4, 4, 0],\n",
      "        [0, 1, 1,  ..., 1, 1, 0],\n",
      "        ...,\n",
      "        [0, 1, 1,  ..., 1, 1, 0],\n",
      "        [0, 2, 2,  ..., 2, 2, 0],\n",
      "        [0, 1, 1,  ..., 1, 1, 0]])\n",
      "tensor([[0, 0, 0,  ..., 0, 0, 0],\n",
      "        [0, 2, 2,  ..., 2, 2, 0],\n",
      "        [0, 1, 1,  ..., 1, 1, 0],\n",
      "        ...,\n",
      "        [0, 3, 3,  ..., 3, 3, 0],\n",
      "        [0, 2, 2,  ..., 2, 2, 0],\n",
      "        [0, 2, 2,  ..., 2, 2, 0]])\n",
      "tensor([[0, 7, 7,  ..., 7, 7, 0],\n",
      "        [0, 1, 1,  ..., 1, 1, 0],\n",
      "        [0, 6, 6,  ..., 6, 6, 0],\n",
      "        ...,\n",
      "        [0, 2, 2,  ..., 2, 2, 0],\n",
      "        [0, 2, 2,  ..., 2, 2, 0],\n",
      "        [0, 1, 1,  ..., 1, 1, 0]])\n",
      "tensor([[0, 6, 6,  ..., 6, 6, 0],\n",
      "        [0, 0, 0,  ..., 0, 0, 0],\n",
      "        [0, 1, 1,  ..., 1, 1, 0],\n",
      "        ...,\n",
      "        [0, 4, 4,  ..., 4, 4, 0],\n",
      "        [0, 1, 1,  ..., 1, 1, 0],\n",
      "        [0, 8, 8,  ..., 8, 8, 0]])\n",
      "tensor([[0, 2, 2,  ..., 2, 2, 0],\n",
      "        [0, 1, 1,  ..., 1, 1, 0],\n",
      "        [0, 2, 2,  ..., 2, 2, 0],\n",
      "        ...,\n",
      "        [0, 0, 0,  ..., 0, 0, 0],\n",
      "        [0, 0, 0,  ..., 0, 0, 0],\n",
      "        [0, 1, 1,  ..., 1, 1, 0]])\n",
      "tensor([[0, 8, 8,  ..., 8, 8, 0],\n",
      "        [0, 1, 1,  ..., 1, 1, 0],\n",
      "        [0, 0, 0,  ..., 0, 0, 0],\n",
      "        ...,\n",
      "        [0, 5, 5,  ..., 5, 5, 0],\n",
      "        [0, 0, 0,  ..., 0, 0, 0],\n",
      "        [0, 1, 1,  ..., 1, 1, 0]])\n",
      "tensor([[0, 1, 1,  ..., 1, 1, 0],\n",
      "        [0, 1, 1,  ..., 1, 1, 0],\n",
      "        [0, 0, 0,  ..., 0, 0, 0],\n",
      "        ...,\n",
      "        [0, 2, 2,  ..., 2, 2, 0],\n",
      "        [0, 0, 0,  ..., 0, 0, 0],\n",
      "        [0, 2, 2,  ..., 2, 2, 0]])\n",
      "tensor([[0, 1, 1,  ..., 1, 1, 0],\n",
      "        [0, 2, 2,  ..., 2, 2, 0],\n",
      "        [0, 1, 1,  ..., 1, 1, 0],\n",
      "        ...,\n",
      "        [0, 2, 2,  ..., 2, 2, 0],\n",
      "        [0, 0, 0,  ..., 0, 0, 0],\n",
      "        [0, 2, 2,  ..., 2, 2, 0]])\n",
      "tensor([[0, 2, 2,  ..., 2, 2, 0],\n",
      "        [0, 0, 0,  ..., 0, 0, 0],\n",
      "        [0, 0, 0,  ..., 0, 0, 0],\n",
      "        ...,\n",
      "        [0, 5, 5,  ..., 5, 5, 0],\n",
      "        [0, 6, 6,  ..., 6, 6, 0],\n",
      "        [0, 8, 8,  ..., 8, 8, 0]])\n",
      "tensor([[0, 0, 0,  ..., 0, 0, 0],\n",
      "        [0, 1, 1,  ..., 1, 1, 0],\n",
      "        [0, 6, 6,  ..., 6, 6, 0],\n",
      "        ...,\n",
      "        [0, 1, 1,  ..., 1, 1, 0],\n",
      "        [0, 0, 0,  ..., 0, 0, 0],\n",
      "        [0, 5, 5,  ..., 5, 5, 0]])\n",
      "tensor([[0, 1, 1,  ..., 1, 1, 0],\n",
      "        [0, 2, 2,  ..., 2, 2, 0],\n",
      "        [0, 6, 6,  ..., 6, 6, 0],\n",
      "        ...,\n",
      "        [0, 2, 2,  ..., 2, 2, 0],\n",
      "        [0, 1, 1,  ..., 1, 1, 0],\n",
      "        [0, 0, 0,  ..., 0, 0, 0]])\n",
      "tensor([[0, 0, 0,  ..., 0, 0, 0],\n",
      "        [0, 0, 0,  ..., 0, 0, 0],\n",
      "        [0, 6, 6,  ..., 6, 6, 0],\n",
      "        ...,\n",
      "        [0, 0, 0,  ..., 0, 0, 0],\n",
      "        [0, 1, 1,  ..., 1, 1, 0],\n",
      "        [0, 0, 0,  ..., 0, 0, 0]])\n",
      "tensor([[0, 0, 0,  ..., 0, 0, 0],\n",
      "        [0, 2, 2,  ..., 2, 2, 0],\n",
      "        [0, 1, 1,  ..., 1, 1, 0],\n",
      "        ...,\n",
      "        [0, 0, 0,  ..., 0, 0, 0],\n",
      "        [0, 0, 0,  ..., 0, 0, 0],\n",
      "        [0, 2, 2,  ..., 2, 2, 0]])\n"
     ]
    },
    {
     "output_type": "error",
     "ename": "KeyboardInterrupt",
     "evalue": "",
     "traceback": [
      "\u001b[0;31m---------------------------------------------------------------------------\u001b[0m",
      "\u001b[0;31mKeyboardInterrupt\u001b[0m                         Traceback (most recent call last)",
      "\u001b[0;32m<ipython-input-151-aabab2dc015d>\u001b[0m in \u001b[0;36m<module>\u001b[0;34m\u001b[0m\n\u001b[0;32m----> 1\u001b[0;31m \u001b[0mtools\u001b[0m\u001b[0;34m.\u001b[0m\u001b[0mtrain\u001b[0m\u001b[0;34m(\u001b[0m\u001b[0mmodel\u001b[0m\u001b[0;34m,\u001b[0m \u001b[0mdevice\u001b[0m\u001b[0;34m,\u001b[0m \u001b[0mtrain_loader\u001b[0m\u001b[0;34m,\u001b[0m \u001b[0moptimizer\u001b[0m\u001b[0;34m,\u001b[0m \u001b[0mEPOCHS\u001b[0m\u001b[0;34m,\u001b[0m \u001b[0mLOG_INTERVAL\u001b[0m\u001b[0;34m,\u001b[0m \u001b[0mverbose\u001b[0m\u001b[0;34m=\u001b[0m\u001b[0;32mTrue\u001b[0m\u001b[0;34m)\u001b[0m\u001b[0;34m\u001b[0m\u001b[0;34m\u001b[0m\u001b[0m\n\u001b[0m",
      "\u001b[0;32m~/Documents/UW/UW_Classes/21wi_EE511/ee511_assignments/assignment5/tools.py\u001b[0m in \u001b[0;36mtrain\u001b[0;34m(model, device, train_loader, optimizer, epochs, log_interval, verbose)\u001b[0m\n\u001b[1;32m     99\u001b[0m             \u001b[0moutput\u001b[0m\u001b[0;34m,\u001b[0m \u001b[0mhidden\u001b[0m \u001b[0;34m=\u001b[0m \u001b[0mmodel\u001b[0m\u001b[0;34m(\u001b[0m\u001b[0mdata\u001b[0m\u001b[0;34m,\u001b[0m \u001b[0mlabel\u001b[0m\u001b[0;34m)\u001b[0m\u001b[0;34m\u001b[0m\u001b[0;34m\u001b[0m\u001b[0m\n\u001b[1;32m    100\u001b[0m             \u001b[0mloss\u001b[0m \u001b[0;34m=\u001b[0m \u001b[0mmodel\u001b[0m\u001b[0;34m.\u001b[0m\u001b[0mloss\u001b[0m\u001b[0;34m(\u001b[0m\u001b[0moutput\u001b[0m\u001b[0;34m,\u001b[0m \u001b[0mlabel\u001b[0m\u001b[0;34m)\u001b[0m\u001b[0;34m\u001b[0m\u001b[0;34m\u001b[0m\u001b[0m\n\u001b[0;32m--> 101\u001b[0;31m             \u001b[0mloss\u001b[0m\u001b[0;34m.\u001b[0m\u001b[0mbackward\u001b[0m\u001b[0;34m(\u001b[0m\u001b[0;34m)\u001b[0m\u001b[0;34m\u001b[0m\u001b[0;34m\u001b[0m\u001b[0m\n\u001b[0m\u001b[1;32m    102\u001b[0m             \u001b[0moptimizer\u001b[0m\u001b[0;34m.\u001b[0m\u001b[0mstep\u001b[0m\u001b[0;34m(\u001b[0m\u001b[0;34m)\u001b[0m\u001b[0;34m\u001b[0m\u001b[0;34m\u001b[0m\u001b[0m\n\u001b[1;32m    103\u001b[0m             \u001b[0;32mif\u001b[0m \u001b[0mverbose\u001b[0m \u001b[0;32mand\u001b[0m \u001b[0mbatch_idx\u001b[0m \u001b[0;34m%\u001b[0m \u001b[0mlog_interval\u001b[0m \u001b[0;34m==\u001b[0m \u001b[0;36m0\u001b[0m\u001b[0;34m:\u001b[0m\u001b[0;34m\u001b[0m\u001b[0;34m\u001b[0m\u001b[0m\n",
      "\u001b[0;32m~/opt/anaconda3/lib/python3.8/site-packages/torch/tensor.py\u001b[0m in \u001b[0;36mbackward\u001b[0;34m(self, gradient, retain_graph, create_graph)\u001b[0m\n\u001b[1;32m    219\u001b[0m                 \u001b[0mretain_graph\u001b[0m\u001b[0;34m=\u001b[0m\u001b[0mretain_graph\u001b[0m\u001b[0;34m,\u001b[0m\u001b[0;34m\u001b[0m\u001b[0;34m\u001b[0m\u001b[0m\n\u001b[1;32m    220\u001b[0m                 create_graph=create_graph)\n\u001b[0;32m--> 221\u001b[0;31m         \u001b[0mtorch\u001b[0m\u001b[0;34m.\u001b[0m\u001b[0mautograd\u001b[0m\u001b[0;34m.\u001b[0m\u001b[0mbackward\u001b[0m\u001b[0;34m(\u001b[0m\u001b[0mself\u001b[0m\u001b[0;34m,\u001b[0m \u001b[0mgradient\u001b[0m\u001b[0;34m,\u001b[0m \u001b[0mretain_graph\u001b[0m\u001b[0;34m,\u001b[0m \u001b[0mcreate_graph\u001b[0m\u001b[0;34m)\u001b[0m\u001b[0;34m\u001b[0m\u001b[0;34m\u001b[0m\u001b[0m\n\u001b[0m\u001b[1;32m    222\u001b[0m \u001b[0;34m\u001b[0m\u001b[0m\n\u001b[1;32m    223\u001b[0m     \u001b[0;32mdef\u001b[0m \u001b[0mregister_hook\u001b[0m\u001b[0;34m(\u001b[0m\u001b[0mself\u001b[0m\u001b[0;34m,\u001b[0m \u001b[0mhook\u001b[0m\u001b[0;34m)\u001b[0m\u001b[0;34m:\u001b[0m\u001b[0;34m\u001b[0m\u001b[0;34m\u001b[0m\u001b[0m\n",
      "\u001b[0;32m~/opt/anaconda3/lib/python3.8/site-packages/torch/autograd/__init__.py\u001b[0m in \u001b[0;36mbackward\u001b[0;34m(tensors, grad_tensors, retain_graph, create_graph, grad_variables)\u001b[0m\n\u001b[1;32m    128\u001b[0m         \u001b[0mretain_graph\u001b[0m \u001b[0;34m=\u001b[0m \u001b[0mcreate_graph\u001b[0m\u001b[0;34m\u001b[0m\u001b[0;34m\u001b[0m\u001b[0m\n\u001b[1;32m    129\u001b[0m \u001b[0;34m\u001b[0m\u001b[0m\n\u001b[0;32m--> 130\u001b[0;31m     Variable._execution_engine.run_backward(\n\u001b[0m\u001b[1;32m    131\u001b[0m         \u001b[0mtensors\u001b[0m\u001b[0;34m,\u001b[0m \u001b[0mgrad_tensors_\u001b[0m\u001b[0;34m,\u001b[0m \u001b[0mretain_graph\u001b[0m\u001b[0;34m,\u001b[0m \u001b[0mcreate_graph\u001b[0m\u001b[0;34m,\u001b[0m\u001b[0;34m\u001b[0m\u001b[0;34m\u001b[0m\u001b[0m\n\u001b[1;32m    132\u001b[0m         allow_unreachable=True)  # allow_unreachable flag\n",
      "\u001b[0;31mKeyboardInterrupt\u001b[0m: "
     ]
    }
   ],
   "source": [
    "tools.train(model, device, train_loader, optimizer, EPOCHS, LOG_INTERVAL, verbose=True)"
   ]
  },
  {
   "cell_type": "markdown",
   "metadata": {},
   "source": [
    "## Model (John)"
   ]
  },
  {
   "cell_type": "code",
   "execution_count": null,
   "metadata": {},
   "outputs": [],
   "source": [
    "\n"
   ]
  }
 ],
 "metadata": {
  "kernelspec": {
   "display_name": "Python 3",
   "language": "python",
   "name": "python3"
  },
  "language_info": {
   "codemirror_mode": {
    "name": "ipython",
    "version": 3
   },
   "file_extension": ".py",
   "mimetype": "text/x-python",
   "name": "python",
   "nbconvert_exporter": "python",
   "pygments_lexer": "ipython3",
   "version": "3.8.3-final"
  }
 },
 "nbformat": 4,
 "nbformat_minor": 4
}