{
 "cells": [
  {
   "cell_type": "code",
   "execution_count": 1,
   "metadata": {},
   "outputs": [],
   "source": [
    "import numpy as np\n",
    "import tools\n",
    "import torch\n",
    "import torch.nn as nn\n",
    "import torch.nn.functional as F\n",
    "\n",
    "# Some magic so that the notebook will reload external python modules;\n",
    "# see http://stackoverflow.com/questions/1907993/autoreload-of-modules-in-ipython\n",
    "%load_ext autoreload\n",
    "%autoreload 2"
   ]
  },
  {
   "cell_type": "markdown",
   "metadata": {},
   "source": [
    "## Load the Data and Calculate Vocabulary"
   ]
  },
  {
   "cell_type": "code",
   "execution_count": 2,
   "metadata": {},
   "outputs": [],
   "source": [
    "Languages = {\n",
    "    'en':'English', \n",
    "    'es':'Spanish', \n",
    "    'pt':'Portuguese', \n",
    "    'gl':'Galician', \n",
    "    'eu':'Basque', \n",
    "    'ca':'Catalan', \n",
    "    'fr':'French', \n",
    "    'it':'Italian', \n",
    "    'de':'German'\n",
    "}\n",
    "\n",
    "lan_id = {\n",
    "    'en':0, \n",
    "    'es':1, \n",
    "    'pt':2, \n",
    "    'gl':3, \n",
    "    'eu':4, \n",
    "    'ca':5, \n",
    "    'fr':6, \n",
    "    'it':7, \n",
    "    'de':8\n",
    "}"
   ]
  },
  {
   "cell_type": "code",
   "execution_count": 9,
   "metadata": {},
   "outputs": [
    {
     "name": "stdout",
     "output_type": "stream",
     "text": [
      "Converting Training Data...\n",
      "Converting Test Data...\n",
      "Converting Validation Data...\n",
      "     Stacking Tensor...\r"
     ]
    }
   ],
   "source": [
    "# Load Data\n",
    "Data = tools.Data()\n",
    "Data.load_data()"
   ]
  },
  {
   "cell_type": "code",
   "execution_count": null,
   "metadata": {},
   "outputs": [],
   "source": [
    "print('Size of the vocabulary: %d characters' % len(Data.vocab))"
   ]
  },
  {
   "cell_type": "code",
   "execution_count": 45,
   "metadata": {},
   "outputs": [
    {
     "name": "stdout",
     "output_type": "stream",
     "text": [
      "Number of Training Samples:    80175\n",
      "Number of Validation Samples:  11759\n",
      "Number of Test Samples:        14960\n",
      "\n",
      "torch.Size([161, 80175, 509])\n"
     ]
    }
   ],
   "source": [
    "# Data is list of tensors (each tensor is single tweet)\n",
    "print(f'Number of Training Samples:    {Data.train.size()[1]}')\n",
    "print(f'Number of Validation Samples:  {Data.val.size()[1]}')\n",
    "print(f'Number of Test Samples:        {Data.test.size()[1]}')\n",
    "\n",
    "print(f'\\n{Data.train.size()}')\n",
    "# Tensor Dimensions (sequence, batch, vocab)"
   ]
  },
  {
   "cell_type": "code",
   "execution_count": 30,
   "metadata": {},
   "outputs": [],
   "source": [
    "temp = torch.cat(Data.train, dim=1)"
   ]
  },
  {
   "cell_type": "code",
   "execution_count": 39,
   "metadata": {},
   "outputs": [
    {
     "data": {
      "text/plain": [
       "0.018639350309967995"
      ]
     },
     "execution_count": 39,
     "metadata": {},
     "output_type": "execute_result"
    }
   ],
   "source": [
    "float(torch.sum(temp[:,:,0])/torch.numel(temp[:,:,0])*100)"
   ]
  },
  {
   "cell_type": "code",
   "execution_count": 92,
   "metadata": {},
   "outputs": [],
   "source": [
    "labels = Data.train_pd['lan'].to_numpy()\n",
    "labels_int = []\n",
    "for k, label in enumerate(labels):\n",
    "    labels_int.append(lan_id[label])\n",
    "\n",
    "labels_tens = torch.tensor(labels_int)\n",
    "\n",
    "one_hot = torch.nn.functional.one_hot(labels_tens)"
   ]
  },
  {
   "cell_type": "code",
   "execution_count": 4,
   "metadata": {},
   "outputs": [
    {
     "ename": "AttributeError",
     "evalue": "'Data' object has no attribute 'val_pd'",
     "output_type": "error",
     "traceback": [
      "\u001b[0;31m---------------------------------------------------------------------------\u001b[0m",
      "\u001b[0;31mAttributeError\u001b[0m                            Traceback (most recent call last)",
      "\u001b[0;32m<ipython-input-4-37ba21dd4aff>\u001b[0m in \u001b[0;36m<module>\u001b[0;34m\u001b[0m\n\u001b[0;32m----> 1\u001b[0;31m \u001b[0monehot\u001b[0m \u001b[0;34m=\u001b[0m \u001b[0mData\u001b[0m\u001b[0;34m.\u001b[0m\u001b[0mlabel_to_tensor\u001b[0m\u001b[0;34m(\u001b[0m\u001b[0mData\u001b[0m\u001b[0;34m.\u001b[0m\u001b[0mval_pd\u001b[0m\u001b[0;34m[\u001b[0m\u001b[0;34m'lan'\u001b[0m\u001b[0;34m]\u001b[0m\u001b[0;34m.\u001b[0m\u001b[0mto_numpy\u001b[0m\u001b[0;34m(\u001b[0m\u001b[0;34m)\u001b[0m\u001b[0;34m)\u001b[0m\u001b[0;34m\u001b[0m\u001b[0;34m\u001b[0m\u001b[0m\n\u001b[0m\u001b[1;32m      2\u001b[0m \u001b[0monehot\u001b[0m\u001b[0;34m.\u001b[0m\u001b[0msize\u001b[0m\u001b[0;34m(\u001b[0m\u001b[0;34m)\u001b[0m\u001b[0;34m\u001b[0m\u001b[0;34m\u001b[0m\u001b[0m\n",
      "\u001b[0;31mAttributeError\u001b[0m: 'Data' object has no attribute 'val_pd'"
     ]
    }
   ],
   "source": [
    "onehot = Data.label_to_tensor(Data.val_pd['lan'].to_numpy())\n",
    "onehot.size()"
   ]
  },
  {
   "cell_type": "code",
   "execution_count": 22,
   "metadata": {},
   "outputs": [
    {
     "name": "stdout",
     "output_type": "stream",
     "text": [
      "tensor([0, 0, 0, 0, 0, 0, 0, 1, 0])\n",
      "7\n"
     ]
    }
   ],
   "source": []
  },
  {
   "cell_type": "markdown",
   "metadata": {},
   "source": [
    "## Calculate Percent out of vocab for Training and Validation"
   ]
  },
  {
   "cell_type": "code",
   "execution_count": 32,
   "metadata": {},
   "outputs": [
    {
     "name": "stdout",
     "output_type": "stream",
     "text": [
      "Percent of Invalid Characters - Train:  3.0009 %\n",
      "Percent of Invalid Characters - Val:    3.8949 %\n"
     ]
    }
   ],
   "source": [
    "num_invalid_train = 0\n",
    "num_invalid_val = 0\n",
    "for k in range(len(Data.train)):\n",
    "    num_invalid_train += torch.sum(Data.train[k][:, :, 0]).double()\n",
    "\n",
    "for k in range(len(Data.val)):\n",
    "    num_invalid_val += torch.sum(Data.val[k][:, :, 0]).double()\n",
    "    \n",
    "print(f'Percent of Invalid Characters - Train: {num_invalid_train / len(Data.train) * 100 : 5.5} %')\n",
    "print(f'Percent of Invalid Characters - Val:   {num_invalid_val / len(Data.val) * 100 : 5.5} %')"
   ]
  },
  {
   "cell_type": "markdown",
   "metadata": {},
   "source": [
    "## PREPLEXITY? Implement after model?\n",
    "seems helpful: https://stackoverflow.com/questions/59209086/calculate-perplexity-in-pytorch"
   ]
  },
  {
   "cell_type": "markdown",
   "metadata": {},
   "source": [
    "## Model"
   ]
  },
  {
   "cell_type": "code",
   "execution_count": 7,
   "metadata": {},
   "outputs": [],
   "source": [
    "# playing around, just following the NLP from scratch tutorial\n",
    "class RNN(nn.Module):\n",
    "    def __init__(self, input_size, hidden_size, output_size):\n",
    "        super(RNN, self).__init__()\n",
    "\n",
    "        self.hidden_size = hidden_size\n",
    "\n",
    "        self.i2h = nn.Linear(input_size + hidden_size, hidden_size)\n",
    "        self.i2o = nn.Linear(input_size + hidden_size, output_size)\n",
    "        self.softmax = nn.LogSoftmax(dim=1)\n",
    "\n",
    "    def forward(self, input, hidden):\n",
    "        combined = torch.cat((input, hidden), 1)\n",
    "        hidden = self.i2h(combined)\n",
    "        output = self.i2o(combined)\n",
    "        output = self.softmax(output)\n",
    "        return output, hidden\n",
    "\n",
    "    def initHidden(self):\n",
    "        return torch.zeros(1, self.hidden_size)\n",
    "\n",
    "rnn = RNN(len(Data.vocab), 128, len(Languages))"
   ]
  },
  {
   "cell_type": "code",
   "execution_count": 8,
   "metadata": {},
   "outputs": [
    {
     "name": "stdout",
     "output_type": "stream",
     "text": [
      "torch.Size([1, 9])\n"
     ]
    }
   ],
   "source": [
    "input = Data.string_to_tensor('This is a test')\n",
    "hidden = torch.zeros(1, 128)\n",
    "\n",
    "output, next_hidden = rnn(input[0], hidden)\n",
    "print(output.size())"
   ]
  },
  {
   "cell_type": "markdown",
   "metadata": {},
   "source": [
    "## Model (John)"
   ]
  },
  {
   "cell_type": "code",
   "execution_count": null,
   "metadata": {},
   "outputs": [],
   "source": [
    "\n"
   ]
  }
 ],
 "metadata": {
  "kernelspec": {
   "display_name": "Python 3",
   "language": "python",
   "name": "python3"
  },
  "language_info": {
   "codemirror_mode": {
    "name": "ipython",
    "version": 3
   },
   "file_extension": ".py",
   "mimetype": "text/x-python",
   "name": "python",
   "nbconvert_exporter": "python",
   "pygments_lexer": "ipython3",
   "version": "3.9.1"
  }
 },
 "nbformat": 4,
 "nbformat_minor": 4
}
