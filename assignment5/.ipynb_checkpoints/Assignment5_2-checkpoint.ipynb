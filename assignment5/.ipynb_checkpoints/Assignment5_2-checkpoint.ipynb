{
 "cells": [
  {
   "cell_type": "code",
   "execution_count": 1,
   "metadata": {},
   "outputs": [],
   "source": [
    "import numpy as np\n",
    "import tools\n",
    "import torch\n",
    "import torch.nn as nn\n",
    "import torch.nn.functional as F\n",
    "from torch.utils.data import TensorDataset, DataLoader\n",
    "import torch.optim as optim\n",
    "from matplotlib import pyplot as plt\n",
    "# Some magic so that the notebook will reload external python modules;\n",
    "# see http://stackoverflow.com/questions/1907993/autoreload-of-modules-in-ipython\n",
    "%load_ext autoreload\n",
    "%autoreload 2"
   ]
  },
  {
   "cell_type": "code",
   "execution_count": 2,
   "metadata": {},
   "outputs": [],
   "source": [
    "lan_codes = ['en', 'es', 'pt', 'gl', 'eu', 'ca', 'fr', 'it', 'de']\n",
    "Languages = ['English', 'Spanish', 'Portuguese', 'Galician', 'Basque', 'Catalan', 'French', 'Italian', 'German']"
   ]
  },
  {
   "cell_type": "markdown",
   "metadata": {},
   "source": [
    "## Load the Data, Calculate Vocabulary and Perplexity"
   ]
  },
  {
   "cell_type": "code",
   "execution_count": 3,
   "metadata": {},
   "outputs": [
    {
     "name": "stdout",
     "output_type": "stream",
     "text": [
      "Size of the vocabulary: 509 characters\n"
     ]
    }
   ],
   "source": [
    "# Load Data\n",
    "data = tools.Data()\n",
    "print('Size of the vocabulary: %d characters' % len(data.vocab))"
   ]
  },
  {
   "cell_type": "code",
   "execution_count": 4,
   "metadata": {},
   "outputs": [
    {
     "name": "stdout",
     "output_type": "stream",
     "text": [
      "Perplexity measurement is 34.11\n"
     ]
    }
   ],
   "source": [
    "preplexity = data.get_perplexity()\n",
    "print('Perplexity measurement is %.2f' % preplexity)"
   ]
  },
  {
   "cell_type": "code",
   "execution_count": 5,
   "metadata": {},
   "outputs": [
    {
     "name": "stdout",
     "output_type": "stream",
     "text": [
      "Percent of Invalid Characters - Train: 0.04622%\n",
      "Percent of Invalid Characters - Val: 0.05987%\n"
     ]
    }
   ],
   "source": [
    "print('Percent of Invalid Characters - Train: %.5f%%' \n",
    "    % ((data.train_freq[data.vocab.index('<N>')] / data.train_freq.sum()) * 100.0))\n",
    "print('Percent of Invalid Characters - Val: %.5f%%' \n",
    "    % ((data.val_freq[data.vocab.index('<N>')] / data.val_freq.sum()) * 100.0))"
   ]
  },
  {
   "cell_type": "markdown",
   "metadata": {},
   "source": [
    "## Model"
   ]
  },
  {
   "cell_type": "code",
   "execution_count": 6,
   "metadata": {},
   "outputs": [],
   "source": [
    "class MyRNN(nn.Module):\n",
    "    def __init__(self, vocab_size, lang_size=9, char_vec_size=12, lang_vec_size=2, hidden_size=50, PAD=0):\n",
    "        super(MyRNN, self).__init__()\n",
    "        self.vocab_size = vocab_size\n",
    "        self.lang_size = lang_size\n",
    "        self.char_vec_size = char_vec_size\n",
    "        self.lang_vec_size = lang_vec_size\n",
    "        self.hidden_size = hidden_size\n",
    "        \n",
    "        self.char_encoder = nn.Embedding(self.vocab_size, self.char_vec_size)\n",
    "        self.lang_encoder = nn.Embedding(self.lang_size, self.lang_vec_size)\n",
    "        # the current hidden size = char_vec_size\n",
    "        self.gru = nn.GRU(self.char_vec_size+self.lang_vec_size, self.hidden_size, num_layers=1)\n",
    "        self.linear = nn.Linear(self.hidden_size, self.char_vec_size)\n",
    "        self.decoder = nn.Linear(self.char_vec_size, self.vocab_size)\n",
    "        \n",
    "        # This shares the encoder and decoder weights as described in lecture.\n",
    "        self.decoder.weight = self.char_encoder.weight\n",
    "        self.decoder.bias.data.zero_()\n",
    "        \n",
    "        \n",
    "        weight = torch.ones(vocab_size)\n",
    "        # scores over PAD is not counted\n",
    "        weight[PAD] = 0\n",
    "        self.sm = nn.LogSoftmax(dim=1)\n",
    "        self.crit = nn.NLLLoss(weight, size_average=False)\n",
    "\n",
    "    def forward(self, tweets, lang, hidden=None):\n",
    "        emb = torch.cat((self.lang_encoder(lang), self.char_encoder(tweets)), -1)\n",
    "        output, hidden_t = self.gru(emb, hidden)\n",
    "        output = F.tanh(self.linear(output))\n",
    "        output = self.decoder(output)\n",
    "        return output, hidden_t\n",
    "\n",
    "    # Predefined loss function\n",
    "    def loss(self, prediction, label, reduction='elementwise_mean'):\n",
    "        prediction = prediction.view(-1, self.vocab_size)\n",
    "        prediction = self.sm(prediction)\n",
    "        loss_val = self.crit(prediction, label.view(-1))\n",
    "        return loss_val"
   ]
  },
  {
   "cell_type": "code",
   "execution_count": 7,
   "metadata": {},
   "outputs": [],
   "source": [
    "BATCH_SIZE = 64\n",
    "FEATURE_SIZE = 15\n",
    "TEST_BATCH_SIZE = 256\n",
    "EPOCHS = 10\n",
    "LEARNING_RATE = 0.001\n",
    "WEIGHT_DECAY = 0.0005\n",
    "MOMENTUM = 0.5\n",
    "LOG_INTERVAL = 500\n",
    "device = torch.device(\"cpu\")"
   ]
  },
  {
   "cell_type": "code",
   "execution_count": 8,
   "metadata": {
    "tags": []
   },
   "outputs": [],
   "source": [
    "# this cell takes a few minutes to run\n",
    "train_tweets, train_lans = tools.data_encoding(data.train, data.vocab, lan_codes)\n",
    "val_tweets, val_lans = tools.data_encoding(data.val, data.vocab, lan_codes)\n",
    "test_tweets, test_lans = tools.data_encoding(data.test, data.vocab, lan_codes)"
   ]
  },
  {
   "cell_type": "code",
   "execution_count": 9,
   "metadata": {},
   "outputs": [],
   "source": [
    "train_loader = tools.get_data_loader(train_tweets, train_lans, BATCH_SIZE, shuffle=True)\n",
    "val_loader = tools.get_data_loader(val_tweets, val_lans, BATCH_SIZE)\n",
    "test_loader = tools.get_data_loader(test_tweets, test_lans , BATCH_SIZE)"
   ]
  },
  {
   "cell_type": "code",
   "execution_count": 10,
   "metadata": {},
   "outputs": [
    {
     "name": "stderr",
     "output_type": "stream",
     "text": [
      "/Users/jhrag/opt/anaconda3/envs/ee511/lib/python3.9/site-packages/torch/nn/_reduction.py:44: UserWarning: size_average and reduce args will be deprecated, please use reduction='sum' instead.\n",
      "  warnings.warn(warning.format(ret))\n"
     ]
    }
   ],
   "source": [
    "model = MyRNN(len(data.vocab), PAD=data.vocab.index('</S>'))\n",
    "optimizer = optim.Adam(model.parameters(), lr=LEARNING_RATE, weight_decay=WEIGHT_DECAY)"
   ]
  },
  {
   "cell_type": "code",
   "execution_count": null,
   "metadata": {},
   "outputs": [
    {
     "name": "stderr",
     "output_type": "stream",
     "text": [
      "/Users/jhrag/opt/anaconda3/envs/ee511/lib/python3.9/site-packages/torch/nn/functional.py:1628: UserWarning: nn.functional.tanh is deprecated. Use torch.tanh instead.\n",
      "  warnings.warn(\"nn.functional.tanh is deprecated. Use torch.tanh instead.\")\n"
     ]
    },
    {
     "name": "stdout",
     "output_type": "stream",
     "text": [
      "Train Epoch: 0 [0/80175 (0%)]\tLoss: 81058.171875\n",
      "Train Epoch: 0 [32000/80175 (40%)]\tLoss: 3482.036133\n"
     ]
    }
   ],
   "source": [
    "tools.train(model, device, train_loader, optimizer, EPOCHS, LOG_INTERVAL,verbose=True)"
   ]
  },
  {
   "cell_type": "code",
   "execution_count": null,
   "metadata": {},
   "outputs": [],
   "source": [
    "tools.test(model, device, test_loader)"
   ]
  },
  {
   "cell_type": "markdown",
   "metadata": {},
   "source": [
    "## Building Prediction Method"
   ]
  },
  {
   "cell_type": "code",
   "execution_count": null,
   "metadata": {},
   "outputs": [],
   "source": [
    "tweets_val = torch.tensor(val_tweets, dtype=torch.long, device=torch.device(\"cpu\"))\n",
    "language_val = torch.tensor(val_lans, dtype=torch.long, device=torch.device(\"cpu\"))"
   ]
  },
  {
   "cell_type": "code",
   "execution_count": null,
   "metadata": {},
   "outputs": [],
   "source": [
    "def predict(model, device, data):\n",
    "    '''\n",
    "    lan - language id (0-8)\n",
    "    '''\n",
    "    model.eval()\n",
    "    test_loss = 0\n",
    "    test_ppl = 0\n",
    "    first_loop = True\n",
    "    with torch.no_grad():\n",
    "\n",
    "        for lan in range(9):\n",
    "            label = torch.ones(data.size(), dtype=torch.long)*lan\n",
    "            data, label = data.to(device), label.to(device)\n",
    "            output, hidden = model(data, label)\n",
    "            \n",
    "            output = F.log_softmax(output, dim=2)\n",
    "            #convert to numpy\n",
    "            data_np = data.numpy()\n",
    "            output_np = output.numpy()\n",
    "\n",
    "            # calculate log prob for each letter of sequence (using output matrix)     \n",
    "            prob = np.zeros(data_np.shape)\n",
    "            for batch in range(output_np.shape[0]):\n",
    "                for char in range(output_np.shape[1]):\n",
    "                    prob[batch, char] = output_np[batch, char, data_np[batch, char]]\n",
    "\n",
    "            if lan == 0:\n",
    "                total_prob = np.sum(prob, axis=1)\n",
    "            else:\n",
    "                total_prob = np.vstack((np.sum(prob, axis=1),total_prob))\n",
    "        \n",
    "        # Choose language with highest character probability\n",
    "        output = np.argmax(total_prob,axis=0)\n",
    "        return output\n",
    "\n",
    "pred = predict(model, device, tweets_val[:1000,:])"
   ]
  },
  {
   "cell_type": "code",
   "execution_count": null,
   "metadata": {},
   "outputs": [],
   "source": [
    "print(f'Percent Correct: {np.sum(pred == val_lans[:1000,0])/pred.shape[0]*100}')"
   ]
  },
  {
   "cell_type": "code",
   "execution_count": null,
   "metadata": {},
   "outputs": [],
   "source": [
    "print(prob[:30])\n",
    "print(val_lans[:30,0].astype(int))"
   ]
  },
  {
   "cell_type": "markdown",
   "metadata": {},
   "source": [
    "## Understanding Model Output"
   ]
  },
  {
   "cell_type": "code",
   "execution_count": 246,
   "metadata": {},
   "outputs": [],
   "source": [
    "def test(model, device, test_loader):\n",
    "    model.eval()\n",
    "    test_loss = 0\n",
    "    test_ppl = 0\n",
    "    with torch.no_grad():\n",
    "        for data, label in test_loader:\n",
    "            data, label = data.to(device), label.to(device)\n",
    "            output, hidden = model(data, label)\n",
    "            return output, hidden, input_data, input_label\n",
    "            test_loss += model.loss(output, label).item()\n",
    "            test_ppl += math.exp(F.cross_entropy(output.view(-1, 509), label.view(-1), ignore_index=507))\n",
    "\n",
    "    test_loss /= len(test_loader.dataset)\n",
    "    test_ppl /= len(test_loader.dataset)\n",
    "    print('test_ppl : ' + str(test_ppl))\n",
    "    print('test_loss : ' + str(test_loss))\n",
    "    \n",
    "    return test_loss, test_ppl\n"
   ]
  },
  {
   "cell_type": "code",
   "execution_count": 247,
   "metadata": {},
   "outputs": [
    {
     "name": "stdout",
     "output_type": "stream",
     "text": [
      "torch.Size([64, 282, 509])\n",
      "torch.Size([1, 282, 50])\n",
      "torch.Size([64, 282])\n",
      "torch.Size([64, 282])\n",
      "(80175, 282)\n"
     ]
    }
   ],
   "source": [
    "print(output.size())\n",
    "print(hidden.size())\n",
    "print(input_data.size())\n",
    "print(input_label.size())\n",
    "\n",
    "output_np = output.numpy()\n",
    "input_np = input_data.numpy()\n",
    "\n",
    "print(train_tweets.shape)"
   ]
  },
  {
   "cell_type": "code",
   "execution_count": 248,
   "metadata": {},
   "outputs": [
    {
     "data": {
      "text/plain": [
       "tensor([[[-2.4818, -0.8084,  6.5227,  ..., -1.1392,  1.5219, -2.8674],\n",
       "         [-4.5427, -1.2450,  4.9231,  ..., -1.1142,  1.2687, -1.2153],\n",
       "         [-1.4200,  0.1716,  7.3109,  ..., -1.3143,  1.9762, -3.5480],\n",
       "         ...,\n",
       "         [-1.1582,  0.9264,  7.8384,  ..., -1.2702,  2.2328, -4.0198],\n",
       "         [-1.1582,  0.9264,  7.8384,  ..., -1.2702,  2.2328, -4.0198],\n",
       "         [-1.1582,  0.9264,  7.8384,  ..., -1.2702,  2.2328, -4.0198]],\n",
       "\n",
       "        [[-1.9740, -0.1071,  7.9504,  ..., -1.2237,  2.1967, -3.6512],\n",
       "         [-3.2058, -0.9986,  7.5842,  ..., -1.4399,  2.1403, -2.8306],\n",
       "         [-1.5717,  0.9238,  8.6058,  ..., -1.3325,  2.6930, -3.9434],\n",
       "         ...,\n",
       "         [-0.0657,  3.1273,  7.8197,  ..., -0.8086,  2.4213, -5.0161],\n",
       "         [-0.0657,  3.1273,  7.8197,  ..., -0.8086,  2.4213, -5.0161],\n",
       "         [-0.0657,  3.1273,  7.8197,  ..., -0.8086,  2.4213, -5.0161]],\n",
       "\n",
       "        [[-1.0748,  1.1423,  8.1526,  ..., -1.0914,  2.3910, -4.2921],\n",
       "         [-3.0909, -0.5738,  7.6684,  ..., -1.3497,  2.2048, -3.1081],\n",
       "         [-0.6294,  2.2505,  8.2488,  ..., -1.0414,  2.5915, -4.6036],\n",
       "         ...,\n",
       "         [ 0.5198,  3.7140,  7.4891,  ..., -0.6828,  2.2798, -5.1962],\n",
       "         [ 0.5198,  3.7140,  7.4891,  ..., -0.6828,  2.2798, -5.1962],\n",
       "         [ 0.5198,  3.7140,  7.4891,  ..., -0.6828,  2.2798, -5.1962]],\n",
       "\n",
       "        ...,\n",
       "\n",
       "        [[ 0.4582,  3.5469,  7.4667,  ..., -0.6925,  2.2481, -5.0994],\n",
       "         [ 0.9007,  3.5611,  6.9875,  ..., -0.6732,  1.9420, -5.0081],\n",
       "         [ 0.7155,  3.5884,  7.2332,  ..., -0.6769,  2.0890, -5.1951],\n",
       "         ...,\n",
       "         [ 0.5281,  3.8019,  7.4952,  ..., -0.6705,  2.2960, -5.2186],\n",
       "         [ 0.5281,  3.8019,  7.4952,  ..., -0.6705,  2.2960, -5.2186],\n",
       "         [ 0.5281,  3.8019,  7.4952,  ..., -0.6705,  2.2960, -5.2186]],\n",
       "\n",
       "        [[ 0.4582,  3.5469,  7.4667,  ..., -0.6925,  2.2481, -5.0994],\n",
       "         [ 0.5638,  3.3991,  7.2368,  ..., -0.7058,  2.0704, -5.1506],\n",
       "         [ 0.5247,  3.4372,  7.3739,  ..., -0.7002,  2.1383, -5.3300],\n",
       "         ...,\n",
       "         [ 0.5281,  3.8019,  7.4952,  ..., -0.6705,  2.2960, -5.2186],\n",
       "         [ 0.5281,  3.8019,  7.4952,  ..., -0.6705,  2.2960, -5.2186],\n",
       "         [ 0.5281,  3.8019,  7.4952,  ..., -0.6705,  2.2960, -5.2186]],\n",
       "\n",
       "        [[ 0.4582,  3.5469,  7.4667,  ..., -0.6925,  2.2481, -5.0994],\n",
       "         [ 0.4116,  3.3973,  7.3070,  ..., -0.7551,  2.1561, -4.7730],\n",
       "         [ 1.1953,  3.5235,  6.7937,  ..., -0.6455,  1.7771, -5.3311],\n",
       "         ...,\n",
       "         [ 0.5281,  3.8019,  7.4952,  ..., -0.6705,  2.2960, -5.2186],\n",
       "         [ 0.5281,  3.8019,  7.4952,  ..., -0.6705,  2.2960, -5.2186],\n",
       "         [ 0.5281,  3.8019,  7.4952,  ..., -0.6705,  2.2960, -5.2186]]])"
      ]
     },
     "execution_count": 248,
     "metadata": {},
     "output_type": "execute_result"
    }
   ],
   "source": [
    "output"
   ]
  },
  {
   "cell_type": "code",
   "execution_count": null,
   "metadata": {},
   "outputs": [],
   "source": []
  }
 ],
 "metadata": {
  "kernelspec": {
   "display_name": "Python 3",
   "language": "python",
   "name": "python3"
  },
  "language_info": {
   "codemirror_mode": {
    "name": "ipython",
    "version": 3
   },
   "file_extension": ".py",
   "mimetype": "text/x-python",
   "name": "python",
   "nbconvert_exporter": "python",
   "pygments_lexer": "ipython3",
   "version": "3.9.1"
  }
 },
 "nbformat": 4,
 "nbformat_minor": 4
}
