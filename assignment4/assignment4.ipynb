{
 "cells": [
  {
   "cell_type": "markdown",
   "metadata": {},
   "source": [
    "# EE 511 Assignment 4 - PartII\n",
    "University of Washington<br>\n",
    "Code by John Ragland and Doruk Arisoy<br>\n",
    "Winter 2021"
   ]
  },
  {
   "cell_type": "code",
   "execution_count": 1,
   "metadata": {},
   "outputs": [],
   "source": [
    "# Suppress Warnings\n",
    "def warn(*args, **kwargs):\n",
    "    pass\n",
    "import warnings\n",
    "warnings.warn = warn\n",
    "\n",
    "import random\n",
    "import numpy as np\n",
    "import tools\n",
    "import loadgalaxy\n",
    "import matplotlib.pyplot as plt\n",
    "import torch\n",
    "import torch.nn as nn \n",
    "import torch.optim as optim\n",
    "import torch.nn.functional as F\n",
    "from torch.utils.data import TensorDataset, DataLoader\n",
    "from sklearn.decomposition import PCA\n",
    "\n",
    "# Some magic so that the notebook will reload external python modules;\n",
    "# see http://stackoverflow.com/questions/1907993/autoreload-of-modules-in-ipython\n",
    "%load_ext autoreload\n",
    "%autoreload 2"
   ]
  },
  {
   "cell_type": "markdown",
   "metadata": {},
   "source": [
    "## Load the data"
   ]
  },
  {
   "cell_type": "code",
   "execution_count": null,
   "metadata": {},
   "outputs": [
    {
     "name": "stdout",
     "output_type": "stream",
     "text": [
      "Loading Training Data...\n",
      "    30.79\r"
     ]
    }
   ],
   "source": [
    "imgs_train, imgs_val, imgs_test = loadgalaxy.LoadData()"
   ]
  },
  {
   "cell_type": "code",
   "execution_count": null,
   "metadata": {},
   "outputs": [],
   "source": [
    "# Plot Random Sample of Images\n",
    "img_idx = random.sample(range(0, len(imgs_train)-1), 50)\n",
    "fig, axes = plt.subplots(5,10, figsize=(10,5))\n",
    "\n",
    "for k, ax in enumerate(fig.get_axes()):\n",
    "    plt.sca(ax)\n",
    "    plt.imshow(np.reshape(imgs_train[img_idx[k]],(20,20)),cmap='gray')\n",
    "    plt.axis('off')"
   ]
  },
  {
   "cell_type": "markdown",
   "metadata": {},
   "source": [
    "## Play around with PCA"
   ]
  },
  {
   "cell_type": "code",
   "execution_count": null,
   "metadata": {},
   "outputs": [],
   "source": [
    "pca = PCA(n_components=25)\n",
    "converted_val = pca.fit_transform(imgs_val)\n",
    "converted_test = pca.fit_transform(imgs_test)\n",
    "inverted_val = pca.inverse_transform(converted_val)\n",
    "inverted_test = pca.inverse_transform(converted_test)\n",
    "\n",
    "criterion = nn.MSELoss()\n",
    "print('PCA MSE on validation: %.2f' % criterion(torch.Tensor(inverted_val), torch.Tensor(imgs_val)))\n",
    "print('PCA MSE on testing: %.2f' % criterion(torch.Tensor(inverted_test), torch.Tensor(imgs_test)))"
   ]
  },
  {
   "cell_type": "markdown",
   "metadata": {},
   "source": [
    "## Train an autoencoder"
   ]
  },
  {
   "cell_type": "code",
   "execution_count": null,
   "metadata": {},
   "outputs": [],
   "source": [
    "class Net(nn.Module):\n",
    "    def __init__(self):\n",
    "        super(Net, self).__init__()\n",
    "        self.fc1 = nn.Linear(400, 200)\n",
    "        self.fc2 = nn.Linear(200, 100)\n",
    "        self.fc3 = nn.Linear(100, 25)\n",
    "        self.fc4 = nn.Linear(25, 100)\n",
    "        self.fc5 = nn.Linear(100, 200)\n",
    "        self.fc6 = nn.Linear(200, 400)\n",
    "\n",
    "    def forward_encoder(self, x):\n",
    "        x = x / 255.0\n",
    "        x = F.leaky_relu(self.fc1(x))\n",
    "        x = F.leaky_relu(self.fc2(x))\n",
    "        x = F.leaky_relu(self.fc3(x))\n",
    "        return x\n",
    "    \n",
    "    def forward_decoder(self, x):\n",
    "        x = F.leaky_relu(self.fc4(x))\n",
    "        x = F.leaky_relu(self.fc5(x))\n",
    "        x = self.fc6(x)\n",
    "        return x * 255\n",
    "    \n",
    "    def forward(self, x, path='full'):\n",
    "        '''\n",
    "        Parameters\n",
    "        ----------\n",
    "        x : pytorch tensor\n",
    "            Input data\n",
    "        path : str\n",
    "            'full' (Default) does full encoder -> decoder cycle\n",
    "            'enc' only encodes data (output vector will be)\n",
    "        '''\n",
    "\n",
    "        if path == 'full':\n",
    "            x = self.forward_encoder(x)\n",
    "            x = self.forward_decoder(x)\n",
    "        elif path == 'enc':\n",
    "            x = self.forward_encoder(x)\n",
    "        else:\n",
    "            raise Exception('Invalid path options \"full\", \"enc\"')\n",
    "            \n",
    "        return x"
   ]
  },
  {
   "cell_type": "code",
   "execution_count": null,
   "metadata": {},
   "outputs": [],
   "source": [
    "BATCH_SIZE = 100\n",
    "TEST_BATCH_SIZE = 1000\n",
    "EPOCHS = 80\n",
    "LEARNING_RATE = 0.001\n",
    "MOMENTUM = 0.5\n",
    "SEED = 0\n",
    "LOG_INTERVAL = 10000"
   ]
  },
  {
   "cell_type": "code",
   "execution_count": null,
   "metadata": {},
   "outputs": [],
   "source": [
    "torch.manual_seed(SEED)\n",
    "device = torch.device(\"cpu\")\n",
    "print('Using device', device)\n",
    "import multiprocessing\n",
    "print('num cpus:', multiprocessing.cpu_count()) \n",
    "criterion = nn.MSELoss()"
   ]
  },
  {
   "cell_type": "code",
   "execution_count": null,
   "metadata": {},
   "outputs": [],
   "source": [
    "data_train = torch.Tensor(imgs_train)\n",
    "data_train = TensorDataset(data_train, data_train)\n",
    "data_valid = torch.Tensor(imgs_val)\n",
    "data_valid = TensorDataset(data_valid, data_valid)\n",
    "data_test = torch.Tensor(imgs_test)\n",
    "data_test = TensorDataset(data_test, data_test)\n",
    "\n",
    "train_loader = DataLoader(dataset = data_train, batch_size = BATCH_SIZE, shuffle = True) \n",
    "valid_loader = DataLoader(dataset = data_valid, batch_size = BATCH_SIZE,  shuffle = False)\n",
    "test_loader = DataLoader(dataset = data_test, batch_size = BATCH_SIZE,  shuffle = False)"
   ]
  },
  {
   "cell_type": "code",
   "execution_count": null,
   "metadata": {
    "tags": []
   },
   "outputs": [],
   "source": [
    "model = Net()\n",
    "optimizer = optim.SGD(model.parameters(), lr=LEARNING_RATE, momentum=MOMENTUM)\n",
    "tools.train(model, device, train_loader, optimizer, EPOCHS, LOG_INTERVAL, criterion, verbose=True)"
   ]
  },
  {
   "cell_type": "code",
   "execution_count": null,
   "metadata": {},
   "outputs": [],
   "source": [
    "print('Total MSE loss on validation data: %.2f' % tools.average_loss(model, criterion, imgs_val))\n",
    "print('Total MSE loss on testing data: %.2f' % tools.average_loss(model, criterion, imgs_test))"
   ]
  },
  {
   "cell_type": "code",
   "execution_count": null,
   "metadata": {},
   "outputs": [],
   "source": [
    "img_idx = random.sample(range(0, len(imgs_val)-1), 10)\n",
    "\n",
    "fig1, axes1 = plt.subplots(1,10,figsize=(15,2))\n",
    "fig1.suptitle('Original Validation Image')\n",
    "for k, ax in enumerate(fig1.get_axes()):\n",
    "    plt.sca(ax)\n",
    "    plt.imshow(np.reshape(imgs_val[img_idx[k]], (20,20)), cmap='gray')\n",
    "    plt.axis('off')\n",
    "\n",
    "fig2, axes2 = plt.subplots(1,10,figsize=(15,2))\n",
    "fig2.suptitle('Output of Encoder and Decoder')\n",
    "for k, ax in enumerate(fig2.get_axes()):\n",
    "    output = model(torch.Tensor(imgs_val[k]))\n",
    "    plt.sca(ax)\n",
    "    plt.imshow(output.data.reshape(20,20), cmap='gray')\n",
    "    plt.axis('off')\n"
   ]
  },
  {
   "cell_type": "markdown",
   "metadata": {},
   "source": [
    "## PCA vs Autoencoder Visual Comparison"
   ]
  },
  {
   "cell_type": "code",
   "execution_count": null,
   "metadata": {},
   "outputs": [],
   "source": [
    "auto_losses = tools.loss_array(model, criterion, imgs_test)"
   ]
  },
  {
   "cell_type": "code",
   "execution_count": null,
   "metadata": {},
   "outputs": [],
   "source": [
    "i = 0\n",
    "while auto_losses[i] >= criterion(torch.Tensor(inverted_test[i]), torch.Tensor(imgs_test[i])):\n",
    "    i += 1\n",
    "\n",
    "fig, (ax1, ax2, ax3) = plt.subplots(1, 3, figsize=(10,2))\n",
    "plt.sca(ax1)\n",
    "ax1.set_title('Original')\n",
    "plt.imshow(np.reshape(imgs_test[i], (20,20)), cmap='gray')\n",
    "plt.axis('off')\n",
    "plt.sca(ax2)\n",
    "ax2.set_title('Autoencoder')\n",
    "plt.imshow(model(torch.Tensor(imgs_test[i])).data.reshape(20,20), cmap='gray')\n",
    "plt.axis('off')\n",
    "plt.sca(ax3)\n",
    "ax3.set_title('PCA')\n",
    "plt.imshow(np.reshape(inverted_test[i], (20,20)), cmap='gray')\n",
    "plt.axis('off')"
   ]
  },
  {
   "cell_type": "code",
   "execution_count": null,
   "metadata": {},
   "outputs": [],
   "source": [
    "j = 0\n",
    "while auto_losses[j] <= criterion(torch.Tensor(inverted_test[j]), torch.Tensor(imgs_test[j])):\n",
    "    j += 1\n",
    "\n",
    "fig, (ax1, ax2, ax3) = plt.subplots(1, 3, figsize=(10,2))\n",
    "plt.sca(ax1)\n",
    "ax1.set_title('Original')\n",
    "plt.imshow(np.reshape(imgs_test[j], (20,20)), cmap='gray')\n",
    "plt.axis('off')\n",
    "plt.sca(ax2)\n",
    "ax2.set_title('Autoencoder')\n",
    "plt.imshow(model(torch.Tensor(imgs_test[j])).data.reshape(20,20), cmap='gray')\n",
    "plt.axis('off')\n",
    "plt.sca(ax3)\n",
    "ax3.set_title('PCA')\n",
    "plt.imshow(np.reshape(inverted_test[j], (20,20)), cmap='gray')\n",
    "plt.axis('off')"
   ]
  },
  {
   "cell_type": "markdown",
   "metadata": {},
   "source": [
    "## Looking for Similar Images"
   ]
  },
  {
   "cell_type": "code",
   "execution_count": null,
   "metadata": {},
   "outputs": [],
   "source": [
    "# Encode Images and Renmae converted_test\n",
    "imgs_enc_tens = model(torch.Tensor(imgs_test), path='enc')\n",
    "imgs_enc = imgs_enc_tens.detach().cpu().numpy()\n",
    "imgs_pca = converted_test"
   ]
  },
  {
   "cell_type": "code",
   "execution_count": null,
   "metadata": {},
   "outputs": [],
   "source": [
    "# Train KNN Classifier with arbitrary labels\n",
    "y = np.zeros(imgs_enc.shape[0])\n",
    "knn_enc = tools.KNearestNeighbor()\n",
    "knn_enc.train(imgs_enc,y)\n",
    "dists = knn_enc.compute_distances(np.expand_dims(imgs_enc[i,:],axis=0))\n",
    "idx_enc = np.ndarray.flatten(dists.argsort())[1:6]\n",
    "\n",
    "fig, axes = plt.subplots(1, 6, figsize=(10,2))\n",
    "plt.figtext(.5,1.1,'Image Where Autoencoder is Better', fontsize=18, ha='center')\n",
    "fig.suptitle('5 Nearest Neighbors to Original Image (using autoencoder)')\n",
    "k = 0\n",
    "for k, ax in enumerate(fig.get_axes()):\n",
    "    plt.sca(ax)\n",
    "    if k == 0:\n",
    "        plt.imshow(np.reshape(imgs_test[i], (20,20)), cmap='gray')\n",
    "        plt.title('Original')\n",
    "    else:\n",
    "        plt.imshow(np.reshape(imgs_test[idx_enc[k-1]],(20,20)), cmap='gray')\n",
    "        plt.title(f'{k}')\n",
    "        \n",
    "    plt.axis('off')\n",
    "    \n",
    "fig.savefig('5nn-AE_better_AE.png',bbox_inches='tight')"
   ]
  },
  {
   "cell_type": "code",
   "execution_count": null,
   "metadata": {},
   "outputs": [],
   "source": [
    "# Train KNN Classifier with arbitrary labels\n",
    "y = np.zeros(imgs_enc.shape[0])\n",
    "knn_enc = tools.KNearestNeighbor()\n",
    "knn_enc.train(imgs_enc,y)\n",
    "dists = knn_enc.compute_distances(np.expand_dims(imgs_enc[j,:],axis=0))\n",
    "idx_enc = np.ndarray.flatten(dists.argsort())[1:6]\n",
    "\n",
    "fig, axes = plt.subplots(1, 6, figsize=(10,2))\n",
    "plt.figtext(.5,1.1,'Image Where PCA is Better', fontsize=18, ha='center')\n",
    "fig.suptitle('5 Nearest Neighbors to Original Image (using autoencoder)')\n",
    "k = 0\n",
    "for k, ax in enumerate(fig.get_axes()):\n",
    "    plt.sca(ax)\n",
    "    if k == 0:\n",
    "        plt.imshow(np.reshape(imgs_test[j], (20,20)), cmap='gray')\n",
    "        plt.title('Original')\n",
    "    else:\n",
    "        plt.imshow(np.reshape(imgs_test[idx_enc[k-1]],(20,20)), cmap='gray')\n",
    "        plt.title(f'{k}')\n",
    "        \n",
    "    plt.axis('off')\n",
    "    \n",
    "fig.savefig('5nn-PCA_better_AE.png',bbox_inches='tight')"
   ]
  },
  {
   "cell_type": "code",
   "execution_count": null,
   "metadata": {},
   "outputs": [],
   "source": [
    "# Train KNN Classifier with arbitrary labels\n",
    "y = np.zeros(imgs_pca.shape[0])\n",
    "knn_pca = tools.KNearestNeighbor()\n",
    "knn_pca.train(imgs_pca,y)\n",
    "dists = knn_pca.compute_distances(np.expand_dims(imgs_pca[i,:],axis=0))\n",
    "idx_pca = np.ndarray.flatten(dists.argsort())[1:6]\n",
    "\n",
    "fig, axes = plt.subplots(1, 6, figsize=(10,2))\n",
    "plt.figtext(.5,1.1,'Image Where Autoencoder is Better', fontsize=18, ha='center')\n",
    "fig.suptitle('5 Nearest Neighbors to Original Image (using PCA)')\n",
    "k = 0\n",
    "for k, ax in enumerate(fig.get_axes()):\n",
    "    plt.sca(ax)\n",
    "    if k == 0:\n",
    "        plt.imshow(np.reshape(imgs_test[i], (20,20)), cmap='gray')\n",
    "        plt.title('Original')\n",
    "    else:\n",
    "        plt.imshow(np.reshape(imgs_test[idx_enc[k-1]],(20,20)), cmap='gray')\n",
    "        plt.title(f'{k}')\n",
    "        \n",
    "    plt.axis('off')\n",
    "    \n",
    "fig.savefig('5nn-AE_better_PCA.png',bbox_inches='tight')"
   ]
  },
  {
   "cell_type": "code",
   "execution_count": null,
   "metadata": {},
   "outputs": [],
   "source": [
    "# Train KNN Classifier with arbitrary labels\n",
    "y = np.zeros(imgs_pca.shape[0])\n",
    "knn_pca = tools.KNearestNeighbor()\n",
    "knn_pca.train(imgs_pca,y)\n",
    "dists = knn_pca.compute_distances(np.expand_dims(imgs_pca[j,:],axis=0))\n",
    "idx_pca = np.ndarray.flatten(dists.argsort())[1:6]\n",
    "\n",
    "fig, axes = plt.subplots(1, 6, figsize=(10,2))\n",
    "plt.figtext(.5,1.1,'Image Where PCA is Better', fontsize=18, ha='center')\n",
    "fig.suptitle('5 Nearest Neighbors to Original Image (using PCA)')\n",
    "k = 0\n",
    "for k, ax in enumerate(fig.get_axes()):\n",
    "    plt.sca(ax)\n",
    "    if k == 0:\n",
    "        plt.imshow(np.reshape(imgs_test[j], (20,20)), cmap='gray')\n",
    "        plt.title('Original')\n",
    "    else:\n",
    "        plt.imshow(np.reshape(imgs_test[idx_enc[k-1]],(20,20)), cmap='gray')\n",
    "        plt.title(f'{k}')\n",
    "        \n",
    "    plt.axis('off')\n",
    "    \n",
    "fig.savefig('5nn-PCA_better_PCA.png',bbox_inches='tight')"
   ]
  },
  {
   "cell_type": "code",
   "execution_count": null,
   "metadata": {},
   "outputs": [],
   "source": []
  },
  {
   "cell_type": "code",
   "execution_count": null,
   "metadata": {},
   "outputs": [],
   "source": []
  }
 ],
 "metadata": {
  "kernelspec": {
   "display_name": "Python 3",
   "language": "python",
   "name": "python3"
  },
  "language_info": {
   "codemirror_mode": {
    "name": "ipython",
    "version": 3
   },
   "file_extension": ".py",
   "mimetype": "text/x-python",
   "name": "python",
   "nbconvert_exporter": "python",
   "pygments_lexer": "ipython3",
   "version": "3.9.1"
  }
 },
 "nbformat": 4,
 "nbformat_minor": 2
}
