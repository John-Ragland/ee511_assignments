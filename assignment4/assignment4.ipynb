{
 "metadata": {
  "language_info": {
   "codemirror_mode": {
    "name": "ipython",
    "version": 3
   },
   "file_extension": ".py",
   "mimetype": "text/x-python",
   "name": "python",
   "nbconvert_exporter": "python",
   "pygments_lexer": "ipython3",
   "version": "3.8.3-final"
  },
  "orig_nbformat": 2,
  "kernelspec": {
   "name": "python3",
   "display_name": "Python 3",
   "language": "python"
  }
 },
 "nbformat": 4,
 "nbformat_minor": 2,
 "cells": [
  {
   "source": [
    "# EE 511 Assignment 4 - PartII\n",
    "University of Washington<br>\n",
    "Code by John Ragland and Doruk Arisoy<br>\n",
    "Winter 2021"
   ],
   "cell_type": "markdown",
   "metadata": {}
  },
  {
   "cell_type": "code",
   "execution_count": 6,
   "metadata": {},
   "outputs": [
    {
     "output_type": "stream",
     "name": "stdout",
     "text": [
      "The autoreload extension is already loaded. To reload it, use:\n  %reload_ext autoreload\n"
     ]
    }
   ],
   "source": [
    "# Suppress Warnings\n",
    "def warn(*args, **kwargs):\n",
    "    pass\n",
    "import warnings\n",
    "warnings.warn = warn\n",
    "\n",
    "import numpy as np\n",
    "import tools\n",
    "import loadgalaxy\n",
    "import matplotlib.pyplot as plt\n",
    "import torch\n",
    "import torch.nn as nn \n",
    "import torch.optim as optim\n",
    "import torch.nn.functional as F\n",
    "from torch.utils.data import TensorDataset, DataLoader\n",
    "from sklearn.decomposition import PCA\n",
    "\n",
    "# Some magic so that the notebook will reload external python modules;\n",
    "# see http://stackoverflow.com/questions/1907993/autoreload-of-modules-in-ipython\n",
    "%load_ext autoreload\n",
    "%autoreload 2"
   ]
  },
  {
   "source": [
    "## Load the data"
   ],
   "cell_type": "markdown",
   "metadata": {}
  },
  {
   "cell_type": "code",
   "execution_count": 3,
   "metadata": {},
   "outputs": [
    {
     "output_type": "stream",
     "name": "stdout",
     "text": [
      "(40872, 20, 20)\n(10382, 20, 20)\n(10324, 20, 20)\n"
     ]
    }
   ],
   "source": [
    "imgs_train = loadgalaxy.LoadDir('galaxy/train')\n",
    "imgs_val = loadgalaxy.LoadDir('galaxy/val')\n",
    "imgs_test = loadgalaxy.LoadDir('galaxy/test')\n",
    "print(imgs_train.shape)\n",
    "print(imgs_val.shape)\n",
    "print(imgs_test.shape)"
   ]
  },
  {
   "cell_type": "code",
   "execution_count": 19,
   "metadata": {},
   "outputs": [
    {
     "output_type": "display_data",
     "data": {
      "text/plain": "<Figure size 432x288 with 1 Axes>",
      "image/svg+xml": "<?xml version=\"1.0\" encoding=\"utf-8\" standalone=\"no\"?>\n<!DOCTYPE svg PUBLIC \"-//W3C//DTD SVG 1.1//EN\"\n  \"http://www.w3.org/Graphics/SVG/1.1/DTD/svg11.dtd\">\n<!-- Created with matplotlib (https://matplotlib.org/) -->\n<svg height=\"248.518125pt\" version=\"1.1\" viewBox=\"0 0 261.105625 248.518125\" width=\"261.105625pt\" xmlns=\"http://www.w3.org/2000/svg\" xmlns:xlink=\"http://www.w3.org/1999/xlink\">\n <defs>\n  <style type=\"text/css\">\n*{stroke-linecap:butt;stroke-linejoin:round;}\n  </style>\n </defs>\n <g id=\"figure_1\">\n  <g id=\"patch_1\">\n   <path d=\"M 0 248.518125 \nL 261.105625 248.518125 \nL 261.105625 0 \nL 0 0 \nz\n\" style=\"fill:none;\"/>\n  </g>\n  <g id=\"axes_1\">\n   <g id=\"patch_2\">\n    <path d=\"M 36.465625 224.64 \nL 253.905625 224.64 \nL 253.905625 7.2 \nL 36.465625 7.2 \nz\n\" style=\"fill:#ffffff;\"/>\n   </g>\n   <g clip-path=\"url(#pae2a4e7e81)\">\n    <image height=\"218\" id=\"image8d2033d1d5\" transform=\"scale(1 -1)translate(0 -218)\" width=\"218\" x=\"36.465625\" xlink:href=\"data:image/png;base64,\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\" y=\"-6.64\"/>\n   </g>\n   <g id=\"matplotlib.axis_1\">\n    <g id=\"xtick_1\">\n     <g id=\"line2d_1\">\n      <defs>\n       <path d=\"M 0 0 \nL 0 3.5 \n\" id=\"m2f4c5d136e\" style=\"stroke:#000000;stroke-width:0.8;\"/>\n      </defs>\n      <g>\n       <use style=\"stroke:#000000;stroke-width:0.8;\" x=\"41.901625\" xlink:href=\"#m2f4c5d136e\" y=\"224.64\"/>\n      </g>\n     </g>\n     <g id=\"text_1\">\n      <!-- 0 -->\n      <defs>\n       <path d=\"M 31.78125 66.40625 \nQ 24.171875 66.40625 20.328125 58.90625 \nQ 16.5 51.421875 16.5 36.375 \nQ 16.5 21.390625 20.328125 13.890625 \nQ 24.171875 6.390625 31.78125 6.390625 \nQ 39.453125 6.390625 43.28125 13.890625 \nQ 47.125 21.390625 47.125 36.375 \nQ 47.125 51.421875 43.28125 58.90625 \nQ 39.453125 66.40625 31.78125 66.40625 \nz\nM 31.78125 74.21875 \nQ 44.046875 74.21875 50.515625 64.515625 \nQ 56.984375 54.828125 56.984375 36.375 \nQ 56.984375 17.96875 50.515625 8.265625 \nQ 44.046875 -1.421875 31.78125 -1.421875 \nQ 19.53125 -1.421875 13.0625 8.265625 \nQ 6.59375 17.96875 6.59375 36.375 \nQ 6.59375 54.828125 13.0625 64.515625 \nQ 19.53125 74.21875 31.78125 74.21875 \nz\n\" id=\"DejaVuSans-48\"/>\n      </defs>\n      <g transform=\"translate(38.720375 239.238438)scale(0.1 -0.1)\">\n       <use xlink:href=\"#DejaVuSans-48\"/>\n      </g>\n     </g>\n    </g>\n    <g id=\"xtick_2\">\n     <g id=\"line2d_2\">\n      <g>\n       <use style=\"stroke:#000000;stroke-width:0.8;\" x=\"96.261625\" xlink:href=\"#m2f4c5d136e\" y=\"224.64\"/>\n      </g>\n     </g>\n     <g id=\"text_2\">\n      <!-- 5 -->\n      <defs>\n       <path d=\"M 10.796875 72.90625 \nL 49.515625 72.90625 \nL 49.515625 64.59375 \nL 19.828125 64.59375 \nL 19.828125 46.734375 \nQ 21.96875 47.46875 24.109375 47.828125 \nQ 26.265625 48.1875 28.421875 48.1875 \nQ 40.625 48.1875 47.75 41.5 \nQ 54.890625 34.8125 54.890625 23.390625 \nQ 54.890625 11.625 47.5625 5.09375 \nQ 40.234375 -1.421875 26.90625 -1.421875 \nQ 22.3125 -1.421875 17.546875 -0.640625 \nQ 12.796875 0.140625 7.71875 1.703125 \nL 7.71875 11.625 \nQ 12.109375 9.234375 16.796875 8.0625 \nQ 21.484375 6.890625 26.703125 6.890625 \nQ 35.15625 6.890625 40.078125 11.328125 \nQ 45.015625 15.765625 45.015625 23.390625 \nQ 45.015625 31 40.078125 35.4375 \nQ 35.15625 39.890625 26.703125 39.890625 \nQ 22.75 39.890625 18.8125 39.015625 \nQ 14.890625 38.140625 10.796875 36.28125 \nz\n\" id=\"DejaVuSans-53\"/>\n      </defs>\n      <g transform=\"translate(93.080375 239.238438)scale(0.1 -0.1)\">\n       <use xlink:href=\"#DejaVuSans-53\"/>\n      </g>\n     </g>\n    </g>\n    <g id=\"xtick_3\">\n     <g id=\"line2d_3\">\n      <g>\n       <use style=\"stroke:#000000;stroke-width:0.8;\" x=\"150.621625\" xlink:href=\"#m2f4c5d136e\" y=\"224.64\"/>\n      </g>\n     </g>\n     <g id=\"text_3\">\n      <!-- 10 -->\n      <defs>\n       <path d=\"M 12.40625 8.296875 \nL 28.515625 8.296875 \nL 28.515625 63.921875 \nL 10.984375 60.40625 \nL 10.984375 69.390625 \nL 28.421875 72.90625 \nL 38.28125 72.90625 \nL 38.28125 8.296875 \nL 54.390625 8.296875 \nL 54.390625 0 \nL 12.40625 0 \nz\n\" id=\"DejaVuSans-49\"/>\n      </defs>\n      <g transform=\"translate(144.259125 239.238438)scale(0.1 -0.1)\">\n       <use xlink:href=\"#DejaVuSans-49\"/>\n       <use x=\"63.623047\" xlink:href=\"#DejaVuSans-48\"/>\n      </g>\n     </g>\n    </g>\n    <g id=\"xtick_4\">\n     <g id=\"line2d_4\">\n      <g>\n       <use style=\"stroke:#000000;stroke-width:0.8;\" x=\"204.981625\" xlink:href=\"#m2f4c5d136e\" y=\"224.64\"/>\n      </g>\n     </g>\n     <g id=\"text_4\">\n      <!-- 15 -->\n      <g transform=\"translate(198.619125 239.238438)scale(0.1 -0.1)\">\n       <use xlink:href=\"#DejaVuSans-49\"/>\n       <use x=\"63.623047\" xlink:href=\"#DejaVuSans-53\"/>\n      </g>\n     </g>\n    </g>\n   </g>\n   <g id=\"matplotlib.axis_2\">\n    <g id=\"ytick_1\">\n     <g id=\"line2d_5\">\n      <defs>\n       <path d=\"M 0 0 \nL -3.5 0 \n\" id=\"mec41599d7a\" style=\"stroke:#000000;stroke-width:0.8;\"/>\n      </defs>\n      <g>\n       <use style=\"stroke:#000000;stroke-width:0.8;\" x=\"36.465625\" xlink:href=\"#mec41599d7a\" y=\"12.636\"/>\n      </g>\n     </g>\n     <g id=\"text_5\">\n      <!-- 0.0 -->\n      <defs>\n       <path d=\"M 10.6875 12.40625 \nL 21 12.40625 \nL 21 0 \nL 10.6875 0 \nz\n\" id=\"DejaVuSans-46\"/>\n      </defs>\n      <g transform=\"translate(13.5625 16.435219)scale(0.1 -0.1)\">\n       <use xlink:href=\"#DejaVuSans-48\"/>\n       <use x=\"63.623047\" xlink:href=\"#DejaVuSans-46\"/>\n       <use x=\"95.410156\" xlink:href=\"#DejaVuSans-48\"/>\n      </g>\n     </g>\n    </g>\n    <g id=\"ytick_2\">\n     <g id=\"line2d_6\">\n      <g>\n       <use style=\"stroke:#000000;stroke-width:0.8;\" x=\"36.465625\" xlink:href=\"#mec41599d7a\" y=\"39.816\"/>\n      </g>\n     </g>\n     <g id=\"text_6\">\n      <!-- 2.5 -->\n      <defs>\n       <path d=\"M 19.1875 8.296875 \nL 53.609375 8.296875 \nL 53.609375 0 \nL 7.328125 0 \nL 7.328125 8.296875 \nQ 12.9375 14.109375 22.625 23.890625 \nQ 32.328125 33.6875 34.8125 36.53125 \nQ 39.546875 41.84375 41.421875 45.53125 \nQ 43.3125 49.21875 43.3125 52.78125 \nQ 43.3125 58.59375 39.234375 62.25 \nQ 35.15625 65.921875 28.609375 65.921875 \nQ 23.96875 65.921875 18.8125 64.3125 \nQ 13.671875 62.703125 7.8125 59.421875 \nL 7.8125 69.390625 \nQ 13.765625 71.78125 18.9375 73 \nQ 24.125 74.21875 28.421875 74.21875 \nQ 39.75 74.21875 46.484375 68.546875 \nQ 53.21875 62.890625 53.21875 53.421875 \nQ 53.21875 48.921875 51.53125 44.890625 \nQ 49.859375 40.875 45.40625 35.40625 \nQ 44.1875 33.984375 37.640625 27.21875 \nQ 31.109375 20.453125 19.1875 8.296875 \nz\n\" id=\"DejaVuSans-50\"/>\n      </defs>\n      <g transform=\"translate(13.5625 43.615219)scale(0.1 -0.1)\">\n       <use xlink:href=\"#DejaVuSans-50\"/>\n       <use x=\"63.623047\" xlink:href=\"#DejaVuSans-46\"/>\n       <use x=\"95.410156\" xlink:href=\"#DejaVuSans-53\"/>\n      </g>\n     </g>\n    </g>\n    <g id=\"ytick_3\">\n     <g id=\"line2d_7\">\n      <g>\n       <use style=\"stroke:#000000;stroke-width:0.8;\" x=\"36.465625\" xlink:href=\"#mec41599d7a\" y=\"66.996\"/>\n      </g>\n     </g>\n     <g id=\"text_7\">\n      <!-- 5.0 -->\n      <g transform=\"translate(13.5625 70.795219)scale(0.1 -0.1)\">\n       <use xlink:href=\"#DejaVuSans-53\"/>\n       <use x=\"63.623047\" xlink:href=\"#DejaVuSans-46\"/>\n       <use x=\"95.410156\" xlink:href=\"#DejaVuSans-48\"/>\n      </g>\n     </g>\n    </g>\n    <g id=\"ytick_4\">\n     <g id=\"line2d_8\">\n      <g>\n       <use style=\"stroke:#000000;stroke-width:0.8;\" x=\"36.465625\" xlink:href=\"#mec41599d7a\" y=\"94.176\"/>\n      </g>\n     </g>\n     <g id=\"text_8\">\n      <!-- 7.5 -->\n      <defs>\n       <path d=\"M 8.203125 72.90625 \nL 55.078125 72.90625 \nL 55.078125 68.703125 \nL 28.609375 0 \nL 18.3125 0 \nL 43.21875 64.59375 \nL 8.203125 64.59375 \nz\n\" id=\"DejaVuSans-55\"/>\n      </defs>\n      <g transform=\"translate(13.5625 97.975219)scale(0.1 -0.1)\">\n       <use xlink:href=\"#DejaVuSans-55\"/>\n       <use x=\"63.623047\" xlink:href=\"#DejaVuSans-46\"/>\n       <use x=\"95.410156\" xlink:href=\"#DejaVuSans-53\"/>\n      </g>\n     </g>\n    </g>\n    <g id=\"ytick_5\">\n     <g id=\"line2d_9\">\n      <g>\n       <use style=\"stroke:#000000;stroke-width:0.8;\" x=\"36.465625\" xlink:href=\"#mec41599d7a\" y=\"121.356\"/>\n      </g>\n     </g>\n     <g id=\"text_9\">\n      <!-- 10.0 -->\n      <g transform=\"translate(7.2 125.155219)scale(0.1 -0.1)\">\n       <use xlink:href=\"#DejaVuSans-49\"/>\n       <use x=\"63.623047\" xlink:href=\"#DejaVuSans-48\"/>\n       <use x=\"127.246094\" xlink:href=\"#DejaVuSans-46\"/>\n       <use x=\"159.033203\" xlink:href=\"#DejaVuSans-48\"/>\n      </g>\n     </g>\n    </g>\n    <g id=\"ytick_6\">\n     <g id=\"line2d_10\">\n      <g>\n       <use style=\"stroke:#000000;stroke-width:0.8;\" x=\"36.465625\" xlink:href=\"#mec41599d7a\" y=\"148.536\"/>\n      </g>\n     </g>\n     <g id=\"text_10\">\n      <!-- 12.5 -->\n      <g transform=\"translate(7.2 152.335219)scale(0.1 -0.1)\">\n       <use xlink:href=\"#DejaVuSans-49\"/>\n       <use x=\"63.623047\" xlink:href=\"#DejaVuSans-50\"/>\n       <use x=\"127.246094\" xlink:href=\"#DejaVuSans-46\"/>\n       <use x=\"159.033203\" xlink:href=\"#DejaVuSans-53\"/>\n      </g>\n     </g>\n    </g>\n    <g id=\"ytick_7\">\n     <g id=\"line2d_11\">\n      <g>\n       <use style=\"stroke:#000000;stroke-width:0.8;\" x=\"36.465625\" xlink:href=\"#mec41599d7a\" y=\"175.716\"/>\n      </g>\n     </g>\n     <g id=\"text_11\">\n      <!-- 15.0 -->\n      <g transform=\"translate(7.2 179.515219)scale(0.1 -0.1)\">\n       <use xlink:href=\"#DejaVuSans-49\"/>\n       <use x=\"63.623047\" xlink:href=\"#DejaVuSans-53\"/>\n       <use x=\"127.246094\" xlink:href=\"#DejaVuSans-46\"/>\n       <use x=\"159.033203\" xlink:href=\"#DejaVuSans-48\"/>\n      </g>\n     </g>\n    </g>\n    <g id=\"ytick_8\">\n     <g id=\"line2d_12\">\n      <g>\n       <use style=\"stroke:#000000;stroke-width:0.8;\" x=\"36.465625\" xlink:href=\"#mec41599d7a\" y=\"202.896\"/>\n      </g>\n     </g>\n     <g id=\"text_12\">\n      <!-- 17.5 -->\n      <g transform=\"translate(7.2 206.695219)scale(0.1 -0.1)\">\n       <use xlink:href=\"#DejaVuSans-49\"/>\n       <use x=\"63.623047\" xlink:href=\"#DejaVuSans-55\"/>\n       <use x=\"127.246094\" xlink:href=\"#DejaVuSans-46\"/>\n       <use x=\"159.033203\" xlink:href=\"#DejaVuSans-53\"/>\n      </g>\n     </g>\n    </g>\n   </g>\n   <g id=\"patch_3\">\n    <path d=\"M 36.465625 224.64 \nL 36.465625 7.2 \n\" style=\"fill:none;stroke:#000000;stroke-linecap:square;stroke-linejoin:miter;stroke-width:0.8;\"/>\n   </g>\n   <g id=\"patch_4\">\n    <path d=\"M 253.905625 224.64 \nL 253.905625 7.2 \n\" style=\"fill:none;stroke:#000000;stroke-linecap:square;stroke-linejoin:miter;stroke-width:0.8;\"/>\n   </g>\n   <g id=\"patch_5\">\n    <path d=\"M 36.465625 224.64 \nL 253.905625 224.64 \n\" style=\"fill:none;stroke:#000000;stroke-linecap:square;stroke-linejoin:miter;stroke-width:0.8;\"/>\n   </g>\n   <g id=\"patch_6\">\n    <path d=\"M 36.465625 7.2 \nL 253.905625 7.2 \n\" style=\"fill:none;stroke:#000000;stroke-linecap:square;stroke-linejoin:miter;stroke-width:0.8;\"/>\n   </g>\n  </g>\n </g>\n <defs>\n  <clipPath id=\"pae2a4e7e81\">\n   <rect height=\"217.44\" width=\"217.44\" x=\"36.465625\" y=\"7.2\"/>\n  </clipPath>\n </defs>\n</svg>\n",
      "image/png": "[encoded data removed]"
     },
     "metadata": {
      "needs_background": "light"
     }
    }
   ],
   "source": [
    "imgs_train = imgs_train.reshape(40872, 400)\n",
    "imgs_val = imgs_val.reshape(10382, 400)\n",
    "imgs_test = imgs_test.reshape(10324, 400)\n",
    "imgplot = plt.imshow(imgs_train[0].reshape(20, 20))\n",
    "plt.show()"
   ]
  },
  {
   "source": [
    "## Play around with PCA"
   ],
   "cell_type": "markdown",
   "metadata": {}
  },
  {
   "cell_type": "code",
   "execution_count": 118,
   "metadata": {},
   "outputs": [
    {
     "output_type": "stream",
     "name": "stdout",
     "text": [
      "PCA MSE on validation: 37.39\nPCA MSE on testing: 37.30\n"
     ]
    }
   ],
   "source": [
    "pca = PCA(n_components=25)\n",
    "converted_val = pca.fit_transform(imgs_val)\n",
    "inverted_val = pca.inverse_transform(converted_val)\n",
    "converted_test = pca.fit_transform(imgs_test)\n",
    "inverted_test = pca.inverse_transform(converted_test)\n",
    "\n",
    "criterion = nn.MSELoss()\n",
    "print('PCA MSE on validation: %.2f' % criterion(torch.Tensor(inverted_val), torch.Tensor(imgs_val)))\n",
    "print('PCA MSE on testing: %.2f' % criterion(torch.Tensor(inverted_test), torch.Tensor(imgs_test)))"
   ]
  },
  {
   "source": [
    "## Train an autoencoder"
   ],
   "cell_type": "markdown",
   "metadata": {}
  },
  {
   "cell_type": "code",
   "execution_count": 97,
   "metadata": {},
   "outputs": [],
   "source": [
    "class Net(nn.Module):\n",
    "    def __init__(self):\n",
    "        super(Net, self).__init__()\n",
    "        self.fc1 = nn.Linear(400, 100)\n",
    "        self.fc2 = nn.Linear(100, 25)\n",
    "        self.fc3 = nn.Linear(25, 100)\n",
    "        self.fc4 = nn.Linear(100, 400)\n",
    "\n",
    "    def forward(self, x):\n",
    "        x = x / 255.0\n",
    "        x = F.relu(self.fc1(x))\n",
    "        x = F.relu(self.fc2(x))\n",
    "        x = F.relu(self.fc3(x))\n",
    "        x = self.fc4(x)\n",
    "        return x * 255"
   ]
  },
  {
   "cell_type": "code",
   "execution_count": 137,
   "metadata": {},
   "outputs": [],
   "source": [
    "BATCH_SIZE = 100\n",
    "TEST_BATCH_SIZE = 1000\n",
    "EPOCHS = 20\n",
    "LEARNING_RATE = 0.002\n",
    "MOMENTUM = 0.5\n",
    "SEED = 0\n",
    "LOG_INTERVAL = 100"
   ]
  },
  {
   "cell_type": "code",
   "execution_count": 138,
   "metadata": {},
   "outputs": [
    {
     "output_type": "stream",
     "name": "stdout",
     "text": [
      "Using device cpu\nnum cpus: 4\n"
     ]
    }
   ],
   "source": [
    "torch.manual_seed(SEED)\n",
    "device = torch.device(\"cpu\")\n",
    "print('Using device', device)\n",
    "import multiprocessing\n",
    "print('num cpus:', multiprocessing.cpu_count()) \n",
    "criterion = nn.MSELoss()"
   ]
  },
  {
   "cell_type": "code",
   "execution_count": 139,
   "metadata": {},
   "outputs": [],
   "source": [
    "data_train = torch.Tensor(imgs_train)\n",
    "data_train = TensorDataset(data_train, data_train)\n",
    "data_valid = torch.Tensor(imgs_val)\n",
    "data_valid = TensorDataset(data_valid, data_valid)\n",
    "data_test = torch.Tensor(imgs_test)\n",
    "data_test = TensorDataset(data_test, data_test)\n",
    "\n",
    "train_loader = DataLoader(dataset = data_train, batch_size = BATCH_SIZE, shuffle = True) \n",
    "valid_loader = DataLoader(dataset = data_valid, batch_size = BATCH_SIZE,  shuffle = False)\n",
    "test_loader = DataLoader(dataset = data_test, batch_size = BATCH_SIZE,  shuffle = False)"
   ]
  },
  {
   "cell_type": "code",
   "execution_count": 140,
   "metadata": {
    "tags": []
   },
   "outputs": [
    {
     "output_type": "stream",
     "name": "stdout",
     "text": [
      "Train Epoch: 0 [0/40872 (0%)]\tLoss: 803.883789\n",
      "Train Epoch: 0 [10000/40872 (24%)]\tLoss: 111.968552\n",
      "Train Epoch: 0 [20000/40872 (49%)]\tLoss: 107.682884\n",
      "Train Epoch: 0 [30000/40872 (73%)]\tLoss: 115.874496\n",
      "Train Epoch: 0 [40000/40872 (98%)]\tLoss: 92.735947\n",
      "Train Epoch: 1 [0/40872 (0%)]\tLoss: 85.359451\n",
      "Train Epoch: 1 [10000/40872 (24%)]\tLoss: 103.916641\n",
      "Train Epoch: 1 [20000/40872 (49%)]\tLoss: 92.647339\n",
      "Train Epoch: 1 [30000/40872 (73%)]\tLoss: 97.284416\n",
      "Train Epoch: 1 [40000/40872 (98%)]\tLoss: 76.381142\n",
      "Train Epoch: 2 [0/40872 (0%)]\tLoss: 115.528610\n",
      "Train Epoch: 2 [10000/40872 (24%)]\tLoss: 84.812706\n",
      "Train Epoch: 2 [20000/40872 (49%)]\tLoss: 87.763359\n",
      "Train Epoch: 2 [30000/40872 (73%)]\tLoss: 102.309784\n",
      "Train Epoch: 2 [40000/40872 (98%)]\tLoss: 71.550003\n",
      "Train Epoch: 3 [0/40872 (0%)]\tLoss: 64.861923\n",
      "Train Epoch: 3 [10000/40872 (24%)]\tLoss: 91.610916\n",
      "Train Epoch: 3 [20000/40872 (49%)]\tLoss: 91.888191\n",
      "Train Epoch: 3 [30000/40872 (73%)]\tLoss: 114.727165\n",
      "Train Epoch: 3 [40000/40872 (98%)]\tLoss: 108.660126\n",
      "Train Epoch: 4 [0/40872 (0%)]\tLoss: 75.697227\n",
      "Train Epoch: 4 [10000/40872 (24%)]\tLoss: 65.598442\n",
      "Train Epoch: 4 [20000/40872 (49%)]\tLoss: 98.467354\n",
      "Train Epoch: 4 [30000/40872 (73%)]\tLoss: 67.145859\n",
      "Train Epoch: 4 [40000/40872 (98%)]\tLoss: 61.024376\n",
      "Train Epoch: 5 [0/40872 (0%)]\tLoss: 73.889847\n",
      "Train Epoch: 5 [10000/40872 (24%)]\tLoss: 99.969994\n",
      "Train Epoch: 5 [20000/40872 (49%)]\tLoss: 62.272205\n",
      "Train Epoch: 5 [30000/40872 (73%)]\tLoss: 61.185642\n",
      "Train Epoch: 5 [40000/40872 (98%)]\tLoss: 82.719856\n",
      "Train Epoch: 6 [0/40872 (0%)]\tLoss: 74.014381\n",
      "Train Epoch: 6 [10000/40872 (24%)]\tLoss: 79.169304\n",
      "Train Epoch: 6 [20000/40872 (49%)]\tLoss: 69.059624\n",
      "Train Epoch: 6 [30000/40872 (73%)]\tLoss: 61.135475\n",
      "Train Epoch: 6 [40000/40872 (98%)]\tLoss: 45.612148\n",
      "Train Epoch: 7 [0/40872 (0%)]\tLoss: 123.343849\n",
      "Train Epoch: 7 [10000/40872 (24%)]\tLoss: 71.334709\n",
      "Train Epoch: 7 [20000/40872 (49%)]\tLoss: 53.854889\n",
      "Train Epoch: 7 [30000/40872 (73%)]\tLoss: 80.370430\n",
      "Train Epoch: 7 [40000/40872 (98%)]\tLoss: 72.091225\n",
      "Train Epoch: 8 [0/40872 (0%)]\tLoss: 63.114231\n",
      "Train Epoch: 8 [10000/40872 (24%)]\tLoss: 71.059044\n",
      "Train Epoch: 8 [20000/40872 (49%)]\tLoss: 59.529633\n",
      "Train Epoch: 8 [30000/40872 (73%)]\tLoss: 59.897251\n",
      "Train Epoch: 8 [40000/40872 (98%)]\tLoss: 50.727360\n",
      "Train Epoch: 9 [0/40872 (0%)]\tLoss: 76.713142\n",
      "Train Epoch: 9 [10000/40872 (24%)]\tLoss: 63.166611\n",
      "Train Epoch: 9 [20000/40872 (49%)]\tLoss: 61.693562\n",
      "Train Epoch: 9 [30000/40872 (73%)]\tLoss: 66.584679\n",
      "Train Epoch: 9 [40000/40872 (98%)]\tLoss: 73.391884\n",
      "Train Epoch: 10 [0/40872 (0%)]\tLoss: 61.878006\n",
      "Train Epoch: 10 [10000/40872 (24%)]\tLoss: 63.806789\n",
      "Train Epoch: 10 [20000/40872 (49%)]\tLoss: 72.257484\n",
      "Train Epoch: 10 [30000/40872 (73%)]\tLoss: 60.199177\n",
      "Train Epoch: 10 [40000/40872 (98%)]\tLoss: 62.064468\n",
      "Train Epoch: 11 [0/40872 (0%)]\tLoss: 68.209366\n",
      "Train Epoch: 11 [10000/40872 (24%)]\tLoss: 62.872330\n",
      "Train Epoch: 11 [20000/40872 (49%)]\tLoss: 62.235214\n",
      "Train Epoch: 11 [30000/40872 (73%)]\tLoss: 54.828411\n",
      "Train Epoch: 11 [40000/40872 (98%)]\tLoss: 50.136299\n",
      "Train Epoch: 12 [0/40872 (0%)]\tLoss: 58.705688\n",
      "Train Epoch: 12 [10000/40872 (24%)]\tLoss: 51.591656\n",
      "Train Epoch: 12 [20000/40872 (49%)]\tLoss: 66.887733\n",
      "Train Epoch: 12 [30000/40872 (73%)]\tLoss: 78.793846\n",
      "Train Epoch: 12 [40000/40872 (98%)]\tLoss: 51.594364\n",
      "Train Epoch: 13 [0/40872 (0%)]\tLoss: 64.041115\n",
      "Train Epoch: 13 [10000/40872 (24%)]\tLoss: 55.310543\n",
      "Train Epoch: 13 [20000/40872 (49%)]\tLoss: 51.496571\n",
      "Train Epoch: 13 [30000/40872 (73%)]\tLoss: 52.102589\n",
      "Train Epoch: 13 [40000/40872 (98%)]\tLoss: 56.134876\n",
      "Train Epoch: 14 [0/40872 (0%)]\tLoss: 54.451050\n",
      "Train Epoch: 14 [10000/40872 (24%)]\tLoss: 56.407181\n",
      "Train Epoch: 14 [20000/40872 (49%)]\tLoss: 56.707245\n",
      "Train Epoch: 14 [30000/40872 (73%)]\tLoss: 48.652245\n",
      "Train Epoch: 14 [40000/40872 (98%)]\tLoss: 53.260838\n",
      "Train Epoch: 15 [0/40872 (0%)]\tLoss: 64.001091\n",
      "Train Epoch: 15 [10000/40872 (24%)]\tLoss: 39.659187\n",
      "Train Epoch: 15 [20000/40872 (49%)]\tLoss: 52.174950\n",
      "Train Epoch: 15 [30000/40872 (73%)]\tLoss: 61.572948\n",
      "Train Epoch: 15 [40000/40872 (98%)]\tLoss: 52.703850\n",
      "Train Epoch: 16 [0/40872 (0%)]\tLoss: 43.355633\n",
      "Train Epoch: 16 [10000/40872 (24%)]\tLoss: 66.187988\n",
      "Train Epoch: 16 [20000/40872 (49%)]\tLoss: 53.717350\n",
      "Train Epoch: 16 [30000/40872 (73%)]\tLoss: 46.102600\n",
      "Train Epoch: 16 [40000/40872 (98%)]\tLoss: 55.670879\n",
      "Train Epoch: 17 [0/40872 (0%)]\tLoss: 61.969475\n",
      "Train Epoch: 17 [10000/40872 (24%)]\tLoss: 54.014713\n",
      "Train Epoch: 17 [20000/40872 (49%)]\tLoss: 45.163277\n",
      "Train Epoch: 17 [30000/40872 (73%)]\tLoss: 48.006611\n",
      "Train Epoch: 17 [40000/40872 (98%)]\tLoss: 51.931992\n",
      "Train Epoch: 18 [0/40872 (0%)]\tLoss: 45.407516\n",
      "Train Epoch: 18 [10000/40872 (24%)]\tLoss: 48.708344\n",
      "Train Epoch: 18 [20000/40872 (49%)]\tLoss: 57.365738\n",
      "Train Epoch: 18 [30000/40872 (73%)]\tLoss: 54.233788\n",
      "Train Epoch: 18 [40000/40872 (98%)]\tLoss: 47.947586\n",
      "Train Epoch: 19 [0/40872 (0%)]\tLoss: 49.082455\n",
      "Train Epoch: 19 [10000/40872 (24%)]\tLoss: 49.301960\n",
      "Train Epoch: 19 [20000/40872 (49%)]\tLoss: 40.928894\n",
      "Train Epoch: 19 [30000/40872 (73%)]\tLoss: 49.698235\n",
      "Train Epoch: 19 [40000/40872 (98%)]\tLoss: 64.082703\n",
      "Train Epoch: 20 [0/40872 (0%)]\tLoss: 44.959335\n",
      "Train Epoch: 20 [10000/40872 (24%)]\tLoss: 51.521393\n",
      "Train Epoch: 20 [20000/40872 (49%)]\tLoss: 46.977905\n",
      "Train Epoch: 20 [30000/40872 (73%)]\tLoss: 47.075207\n",
      "Train Epoch: 20 [40000/40872 (98%)]\tLoss: 55.046021\n"
     ]
    }
   ],
   "source": [
    "model = Net()\n",
    "optimizer = optim.SGD(model.parameters(), lr=LEARNING_RATE, momentum=MOMENTUM)\n",
    "tools.train(model, device, train_loader, optimizer, EPOCHS, LOG_INTERVAL, criterion, verbose=True)"
   ]
  },
  {
   "cell_type": "code",
   "execution_count": 142,
   "metadata": {},
   "outputs": [
    {
     "output_type": "stream",
     "name": "stdout",
     "text": [
      "Total MSE loss on validation data: 48.27\n"
     ]
    }
   ],
   "source": [
    "loss = 0\n",
    "for im in imgs_val:\n",
    "    im_tensor = torch.Tensor(im)\n",
    "    ouput = model(im_tensor)\n",
    "    loss += criterion(ouput, im_tensor)\n",
    "print('Total MSE loss on validation data: %.2f' % (loss/len(imgs_val)))"
   ]
  },
  {
   "cell_type": "code",
   "execution_count": 143,
   "metadata": {},
   "outputs": [
    {
     "output_type": "display_data",
     "data": {
      "text/plain": "<Figure size 432x288 with 1 Axes>",
      "image/svg+xml": "<?xml version=\"1.0\" encoding=\"utf-8\" standalone=\"no\"?>\n<!DOCTYPE svg PUBLIC \"-//W3C//DTD SVG 1.1//EN\"\n  \"http://www.w3.org/Graphics/SVG/1.1/DTD/svg11.dtd\">\n<!-- Created with matplotlib (https://matplotlib.org/) -->\n<svg height=\"248.518125pt\" version=\"1.1\" viewBox=\"0 0 261.105625 248.518125\" width=\"261.105625pt\" xmlns=\"http://www.w3.org/2000/svg\" xmlns:xlink=\"http://www.w3.org/1999/xlink\">\n <defs>\n  <style type=\"text/css\">\n*{stroke-linecap:butt;stroke-linejoin:round;}\n  </style>\n </defs>\n <g id=\"figure_1\">\n  <g id=\"patch_1\">\n   <path d=\"M 0 248.518125 \nL 261.105625 248.518125 \nL 261.105625 0 \nL 0 0 \nz\n\" style=\"fill:none;\"/>\n  </g>\n  <g id=\"axes_1\">\n   <g id=\"patch_2\">\n    <path d=\"M 36.465625 224.64 \nL 253.905625 224.64 \nL 253.905625 7.2 \nL 36.465625 7.2 \nz\n\" style=\"fill:#ffffff;\"/>\n   </g>\n   <g clip-path=\"url(#p6702f5cce7)\">\n    <image height=\"218\" id=\"image56a5011013\" transform=\"scale(1 -1)translate(0 -218)\" width=\"218\" x=\"36.465625\" xlink:href=\"data:image/png;base64,\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\" y=\"-6.64\"/>\n   </g>\n   <g id=\"matplotlib.axis_1\">\n    <g id=\"xtick_1\">\n     <g id=\"line2d_1\">\n      <defs>\n       <path d=\"M 0 0 \nL 0 3.5 \n\" id=\"m8eba933cc9\" style=\"stroke:#000000;stroke-width:0.8;\"/>\n      </defs>\n      <g>\n       <use style=\"stroke:#000000;stroke-width:0.8;\" x=\"41.901625\" xlink:href=\"#m8eba933cc9\" y=\"224.64\"/>\n      </g>\n     </g>\n     <g id=\"text_1\">\n      <!-- 0 -->\n      <defs>\n       <path d=\"M 31.78125 66.40625 \nQ 24.171875 66.40625 20.328125 58.90625 \nQ 16.5 51.421875 16.5 36.375 \nQ 16.5 21.390625 20.328125 13.890625 \nQ 24.171875 6.390625 31.78125 6.390625 \nQ 39.453125 6.390625 43.28125 13.890625 \nQ 47.125 21.390625 47.125 36.375 \nQ 47.125 51.421875 43.28125 58.90625 \nQ 39.453125 66.40625 31.78125 66.40625 \nz\nM 31.78125 74.21875 \nQ 44.046875 74.21875 50.515625 64.515625 \nQ 56.984375 54.828125 56.984375 36.375 \nQ 56.984375 17.96875 50.515625 8.265625 \nQ 44.046875 -1.421875 31.78125 -1.421875 \nQ 19.53125 -1.421875 13.0625 8.265625 \nQ 6.59375 17.96875 6.59375 36.375 \nQ 6.59375 54.828125 13.0625 64.515625 \nQ 19.53125 74.21875 31.78125 74.21875 \nz\n\" id=\"DejaVuSans-48\"/>\n      </defs>\n      <g transform=\"translate(38.720375 239.238438)scale(0.1 -0.1)\">\n       <use xlink:href=\"#DejaVuSans-48\"/>\n      </g>\n     </g>\n    </g>\n    <g id=\"xtick_2\">\n     <g id=\"line2d_2\">\n      <g>\n       <use style=\"stroke:#000000;stroke-width:0.8;\" x=\"96.261625\" xlink:href=\"#m8eba933cc9\" y=\"224.64\"/>\n      </g>\n     </g>\n     <g id=\"text_2\">\n      <!-- 5 -->\n      <defs>\n       <path d=\"M 10.796875 72.90625 \nL 49.515625 72.90625 \nL 49.515625 64.59375 \nL 19.828125 64.59375 \nL 19.828125 46.734375 \nQ 21.96875 47.46875 24.109375 47.828125 \nQ 26.265625 48.1875 28.421875 48.1875 \nQ 40.625 48.1875 47.75 41.5 \nQ 54.890625 34.8125 54.890625 23.390625 \nQ 54.890625 11.625 47.5625 5.09375 \nQ 40.234375 -1.421875 26.90625 -1.421875 \nQ 22.3125 -1.421875 17.546875 -0.640625 \nQ 12.796875 0.140625 7.71875 1.703125 \nL 7.71875 11.625 \nQ 12.109375 9.234375 16.796875 8.0625 \nQ 21.484375 6.890625 26.703125 6.890625 \nQ 35.15625 6.890625 40.078125 11.328125 \nQ 45.015625 15.765625 45.015625 23.390625 \nQ 45.015625 31 40.078125 35.4375 \nQ 35.15625 39.890625 26.703125 39.890625 \nQ 22.75 39.890625 18.8125 39.015625 \nQ 14.890625 38.140625 10.796875 36.28125 \nz\n\" id=\"DejaVuSans-53\"/>\n      </defs>\n      <g transform=\"translate(93.080375 239.238438)scale(0.1 -0.1)\">\n       <use xlink:href=\"#DejaVuSans-53\"/>\n      </g>\n     </g>\n    </g>\n    <g id=\"xtick_3\">\n     <g id=\"line2d_3\">\n      <g>\n       <use style=\"stroke:#000000;stroke-width:0.8;\" x=\"150.621625\" xlink:href=\"#m8eba933cc9\" y=\"224.64\"/>\n      </g>\n     </g>\n     <g id=\"text_3\">\n      <!-- 10 -->\n      <defs>\n       <path d=\"M 12.40625 8.296875 \nL 28.515625 8.296875 \nL 28.515625 63.921875 \nL 10.984375 60.40625 \nL 10.984375 69.390625 \nL 28.421875 72.90625 \nL 38.28125 72.90625 \nL 38.28125 8.296875 \nL 54.390625 8.296875 \nL 54.390625 0 \nL 12.40625 0 \nz\n\" id=\"DejaVuSans-49\"/>\n      </defs>\n      <g transform=\"translate(144.259125 239.238438)scale(0.1 -0.1)\">\n       <use xlink:href=\"#DejaVuSans-49\"/>\n       <use x=\"63.623047\" xlink:href=\"#DejaVuSans-48\"/>\n      </g>\n     </g>\n    </g>\n    <g id=\"xtick_4\">\n     <g id=\"line2d_4\">\n      <g>\n       <use style=\"stroke:#000000;stroke-width:0.8;\" x=\"204.981625\" xlink:href=\"#m8eba933cc9\" y=\"224.64\"/>\n      </g>\n     </g>\n     <g id=\"text_4\">\n      <!-- 15 -->\n      <g transform=\"translate(198.619125 239.238438)scale(0.1 -0.1)\">\n       <use xlink:href=\"#DejaVuSans-49\"/>\n       <use x=\"63.623047\" xlink:href=\"#DejaVuSans-53\"/>\n      </g>\n     </g>\n    </g>\n   </g>\n   <g id=\"matplotlib.axis_2\">\n    <g id=\"ytick_1\">\n     <g id=\"line2d_5\">\n      <defs>\n       <path d=\"M 0 0 \nL -3.5 0 \n\" id=\"m1b05846384\" style=\"stroke:#000000;stroke-width:0.8;\"/>\n      </defs>\n      <g>\n       <use style=\"stroke:#000000;stroke-width:0.8;\" x=\"36.465625\" xlink:href=\"#m1b05846384\" y=\"12.636\"/>\n      </g>\n     </g>\n     <g id=\"text_5\">\n      <!-- 0.0 -->\n      <defs>\n       <path d=\"M 10.6875 12.40625 \nL 21 12.40625 \nL 21 0 \nL 10.6875 0 \nz\n\" id=\"DejaVuSans-46\"/>\n      </defs>\n      <g transform=\"translate(13.5625 16.435219)scale(0.1 -0.1)\">\n       <use xlink:href=\"#DejaVuSans-48\"/>\n       <use x=\"63.623047\" xlink:href=\"#DejaVuSans-46\"/>\n       <use x=\"95.410156\" xlink:href=\"#DejaVuSans-48\"/>\n      </g>\n     </g>\n    </g>\n    <g id=\"ytick_2\">\n     <g id=\"line2d_6\">\n      <g>\n       <use style=\"stroke:#000000;stroke-width:0.8;\" x=\"36.465625\" xlink:href=\"#m1b05846384\" y=\"39.816\"/>\n      </g>\n     </g>\n     <g id=\"text_6\">\n      <!-- 2.5 -->\n      <defs>\n       <path d=\"M 19.1875 8.296875 \nL 53.609375 8.296875 \nL 53.609375 0 \nL 7.328125 0 \nL 7.328125 8.296875 \nQ 12.9375 14.109375 22.625 23.890625 \nQ 32.328125 33.6875 34.8125 36.53125 \nQ 39.546875 41.84375 41.421875 45.53125 \nQ 43.3125 49.21875 43.3125 52.78125 \nQ 43.3125 58.59375 39.234375 62.25 \nQ 35.15625 65.921875 28.609375 65.921875 \nQ 23.96875 65.921875 18.8125 64.3125 \nQ 13.671875 62.703125 7.8125 59.421875 \nL 7.8125 69.390625 \nQ 13.765625 71.78125 18.9375 73 \nQ 24.125 74.21875 28.421875 74.21875 \nQ 39.75 74.21875 46.484375 68.546875 \nQ 53.21875 62.890625 53.21875 53.421875 \nQ 53.21875 48.921875 51.53125 44.890625 \nQ 49.859375 40.875 45.40625 35.40625 \nQ 44.1875 33.984375 37.640625 27.21875 \nQ 31.109375 20.453125 19.1875 8.296875 \nz\n\" id=\"DejaVuSans-50\"/>\n      </defs>\n      <g transform=\"translate(13.5625 43.615219)scale(0.1 -0.1)\">\n       <use xlink:href=\"#DejaVuSans-50\"/>\n       <use x=\"63.623047\" xlink:href=\"#DejaVuSans-46\"/>\n       <use x=\"95.410156\" xlink:href=\"#DejaVuSans-53\"/>\n      </g>\n     </g>\n    </g>\n    <g id=\"ytick_3\">\n     <g id=\"line2d_7\">\n      <g>\n       <use style=\"stroke:#000000;stroke-width:0.8;\" x=\"36.465625\" xlink:href=\"#m1b05846384\" y=\"66.996\"/>\n      </g>\n     </g>\n     <g id=\"text_7\">\n      <!-- 5.0 -->\n      <g transform=\"translate(13.5625 70.795219)scale(0.1 -0.1)\">\n       <use xlink:href=\"#DejaVuSans-53\"/>\n       <use x=\"63.623047\" xlink:href=\"#DejaVuSans-46\"/>\n       <use x=\"95.410156\" xlink:href=\"#DejaVuSans-48\"/>\n      </g>\n     </g>\n    </g>\n    <g id=\"ytick_4\">\n     <g id=\"line2d_8\">\n      <g>\n       <use style=\"stroke:#000000;stroke-width:0.8;\" x=\"36.465625\" xlink:href=\"#m1b05846384\" y=\"94.176\"/>\n      </g>\n     </g>\n     <g id=\"text_8\">\n      <!-- 7.5 -->\n      <defs>\n       <path d=\"M 8.203125 72.90625 \nL 55.078125 72.90625 \nL 55.078125 68.703125 \nL 28.609375 0 \nL 18.3125 0 \nL 43.21875 64.59375 \nL 8.203125 64.59375 \nz\n\" id=\"DejaVuSans-55\"/>\n      </defs>\n      <g transform=\"translate(13.5625 97.975219)scale(0.1 -0.1)\">\n       <use xlink:href=\"#DejaVuSans-55\"/>\n       <use x=\"63.623047\" xlink:href=\"#DejaVuSans-46\"/>\n       <use x=\"95.410156\" xlink:href=\"#DejaVuSans-53\"/>\n      </g>\n     </g>\n    </g>\n    <g id=\"ytick_5\">\n     <g id=\"line2d_9\">\n      <g>\n       <use style=\"stroke:#000000;stroke-width:0.8;\" x=\"36.465625\" xlink:href=\"#m1b05846384\" y=\"121.356\"/>\n      </g>\n     </g>\n     <g id=\"text_9\">\n      <!-- 10.0 -->\n      <g transform=\"translate(7.2 125.155219)scale(0.1 -0.1)\">\n       <use xlink:href=\"#DejaVuSans-49\"/>\n       <use x=\"63.623047\" xlink:href=\"#DejaVuSans-48\"/>\n       <use x=\"127.246094\" xlink:href=\"#DejaVuSans-46\"/>\n       <use x=\"159.033203\" xlink:href=\"#DejaVuSans-48\"/>\n      </g>\n     </g>\n    </g>\n    <g id=\"ytick_6\">\n     <g id=\"line2d_10\">\n      <g>\n       <use style=\"stroke:#000000;stroke-width:0.8;\" x=\"36.465625\" xlink:href=\"#m1b05846384\" y=\"148.536\"/>\n      </g>\n     </g>\n     <g id=\"text_10\">\n      <!-- 12.5 -->\n      <g transform=\"translate(7.2 152.335219)scale(0.1 -0.1)\">\n       <use xlink:href=\"#DejaVuSans-49\"/>\n       <use x=\"63.623047\" xlink:href=\"#DejaVuSans-50\"/>\n       <use x=\"127.246094\" xlink:href=\"#DejaVuSans-46\"/>\n       <use x=\"159.033203\" xlink:href=\"#DejaVuSans-53\"/>\n      </g>\n     </g>\n    </g>\n    <g id=\"ytick_7\">\n     <g id=\"line2d_11\">\n      <g>\n       <use style=\"stroke:#000000;stroke-width:0.8;\" x=\"36.465625\" xlink:href=\"#m1b05846384\" y=\"175.716\"/>\n      </g>\n     </g>\n     <g id=\"text_11\">\n      <!-- 15.0 -->\n      <g transform=\"translate(7.2 179.515219)scale(0.1 -0.1)\">\n       <use xlink:href=\"#DejaVuSans-49\"/>\n       <use x=\"63.623047\" xlink:href=\"#DejaVuSans-53\"/>\n       <use x=\"127.246094\" xlink:href=\"#DejaVuSans-46\"/>\n       <use x=\"159.033203\" xlink:href=\"#DejaVuSans-48\"/>\n      </g>\n     </g>\n    </g>\n    <g id=\"ytick_8\">\n     <g id=\"line2d_12\">\n      <g>\n       <use style=\"stroke:#000000;stroke-width:0.8;\" x=\"36.465625\" xlink:href=\"#m1b05846384\" y=\"202.896\"/>\n      </g>\n     </g>\n     <g id=\"text_12\">\n      <!-- 17.5 -->\n      <g transform=\"translate(7.2 206.695219)scale(0.1 -0.1)\">\n       <use xlink:href=\"#DejaVuSans-49\"/>\n       <use x=\"63.623047\" xlink:href=\"#DejaVuSans-55\"/>\n       <use x=\"127.246094\" xlink:href=\"#DejaVuSans-46\"/>\n       <use x=\"159.033203\" xlink:href=\"#DejaVuSans-53\"/>\n      </g>\n     </g>\n    </g>\n   </g>\n   <g id=\"patch_3\">\n    <path d=\"M 36.465625 224.64 \nL 36.465625 7.2 \n\" style=\"fill:none;stroke:#000000;stroke-linecap:square;stroke-linejoin:miter;stroke-width:0.8;\"/>\n   </g>\n   <g id=\"patch_4\">\n    <path d=\"M 253.905625 224.64 \nL 253.905625 7.2 \n\" style=\"fill:none;stroke:#000000;stroke-linecap:square;stroke-linejoin:miter;stroke-width:0.8;\"/>\n   </g>\n   <g id=\"patch_5\">\n    <path d=\"M 36.465625 224.64 \nL 253.905625 224.64 \n\" style=\"fill:none;stroke:#000000;stroke-linecap:square;stroke-linejoin:miter;stroke-width:0.8;\"/>\n   </g>\n   <g id=\"patch_6\">\n    <path d=\"M 36.465625 7.2 \nL 253.905625 7.2 \n\" style=\"fill:none;stroke:#000000;stroke-linecap:square;stroke-linejoin:miter;stroke-width:0.8;\"/>\n   </g>\n  </g>\n </g>\n <defs>\n  <clipPath id=\"p6702f5cce7\">\n   <rect height=\"217.44\" width=\"217.44\" x=\"36.465625\" y=\"7.2\"/>\n  </clipPath>\n </defs>\n</svg>\n",
      "image/png": "[encoded data removed]"
     },
     "metadata": {
      "needs_background": "light"
     }
    },
    {
     "output_type": "display_data",
     "data": {
      "text/plain": "<Figure size 432x288 with 1 Axes>",
      "image/svg+xml": "<?xml version=\"1.0\" encoding=\"utf-8\" standalone=\"no\"?>\n<!DOCTYPE svg PUBLIC \"-//W3C//DTD SVG 1.1//EN\"\n  \"http://www.w3.org/Graphics/SVG/1.1/DTD/svg11.dtd\">\n<!-- Created with matplotlib (https://matplotlib.org/) -->\n<svg height=\"248.518125pt\" version=\"1.1\" viewBox=\"0 0 261.105625 248.518125\" width=\"261.105625pt\" xmlns=\"http://www.w3.org/2000/svg\" xmlns:xlink=\"http://www.w3.org/1999/xlink\">\n <defs>\n  <style type=\"text/css\">\n*{stroke-linecap:butt;stroke-linejoin:round;}\n  </style>\n </defs>\n <g id=\"figure_1\">\n  <g id=\"patch_1\">\n   <path d=\"M 0 248.518125 \nL 261.105625 248.518125 \nL 261.105625 0 \nL 0 0 \nz\n\" style=\"fill:none;\"/>\n  </g>\n  <g id=\"axes_1\">\n   <g id=\"patch_2\">\n    <path d=\"M 36.465625 224.64 \nL 253.905625 224.64 \nL 253.905625 7.2 \nL 36.465625 7.2 \nz\n\" style=\"fill:#ffffff;\"/>\n   </g>\n   <g clip-path=\"url(#pd5bf1b7ba2)\">\n    <image height=\"218\" id=\"imagebac8c4621d\" transform=\"scale(1 -1)translate(0 -218)\" width=\"218\" x=\"36.465625\" xlink:href=\"data:image/png;base64,\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\" y=\"-6.64\"/>\n   </g>\n   <g id=\"matplotlib.axis_1\">\n    <g id=\"xtick_1\">\n     <g id=\"line2d_1\">\n      <defs>\n       <path d=\"M 0 0 \nL 0 3.5 \n\" id=\"m4fbfd7ce73\" style=\"stroke:#000000;stroke-width:0.8;\"/>\n      </defs>\n      <g>\n       <use style=\"stroke:#000000;stroke-width:0.8;\" x=\"41.901625\" xlink:href=\"#m4fbfd7ce73\" y=\"224.64\"/>\n      </g>\n     </g>\n     <g id=\"text_1\">\n      <!-- 0 -->\n      <defs>\n       <path d=\"M 31.78125 66.40625 \nQ 24.171875 66.40625 20.328125 58.90625 \nQ 16.5 51.421875 16.5 36.375 \nQ 16.5 21.390625 20.328125 13.890625 \nQ 24.171875 6.390625 31.78125 6.390625 \nQ 39.453125 6.390625 43.28125 13.890625 \nQ 47.125 21.390625 47.125 36.375 \nQ 47.125 51.421875 43.28125 58.90625 \nQ 39.453125 66.40625 31.78125 66.40625 \nz\nM 31.78125 74.21875 \nQ 44.046875 74.21875 50.515625 64.515625 \nQ 56.984375 54.828125 56.984375 36.375 \nQ 56.984375 17.96875 50.515625 8.265625 \nQ 44.046875 -1.421875 31.78125 -1.421875 \nQ 19.53125 -1.421875 13.0625 8.265625 \nQ 6.59375 17.96875 6.59375 36.375 \nQ 6.59375 54.828125 13.0625 64.515625 \nQ 19.53125 74.21875 31.78125 74.21875 \nz\n\" id=\"DejaVuSans-48\"/>\n      </defs>\n      <g transform=\"translate(38.720375 239.238438)scale(0.1 -0.1)\">\n       <use xlink:href=\"#DejaVuSans-48\"/>\n      </g>\n     </g>\n    </g>\n    <g id=\"xtick_2\">\n     <g id=\"line2d_2\">\n      <g>\n       <use style=\"stroke:#000000;stroke-width:0.8;\" x=\"96.261625\" xlink:href=\"#m4fbfd7ce73\" y=\"224.64\"/>\n      </g>\n     </g>\n     <g id=\"text_2\">\n      <!-- 5 -->\n      <defs>\n       <path d=\"M 10.796875 72.90625 \nL 49.515625 72.90625 \nL 49.515625 64.59375 \nL 19.828125 64.59375 \nL 19.828125 46.734375 \nQ 21.96875 47.46875 24.109375 47.828125 \nQ 26.265625 48.1875 28.421875 48.1875 \nQ 40.625 48.1875 47.75 41.5 \nQ 54.890625 34.8125 54.890625 23.390625 \nQ 54.890625 11.625 47.5625 5.09375 \nQ 40.234375 -1.421875 26.90625 -1.421875 \nQ 22.3125 -1.421875 17.546875 -0.640625 \nQ 12.796875 0.140625 7.71875 1.703125 \nL 7.71875 11.625 \nQ 12.109375 9.234375 16.796875 8.0625 \nQ 21.484375 6.890625 26.703125 6.890625 \nQ 35.15625 6.890625 40.078125 11.328125 \nQ 45.015625 15.765625 45.015625 23.390625 \nQ 45.015625 31 40.078125 35.4375 \nQ 35.15625 39.890625 26.703125 39.890625 \nQ 22.75 39.890625 18.8125 39.015625 \nQ 14.890625 38.140625 10.796875 36.28125 \nz\n\" id=\"DejaVuSans-53\"/>\n      </defs>\n      <g transform=\"translate(93.080375 239.238438)scale(0.1 -0.1)\">\n       <use xlink:href=\"#DejaVuSans-53\"/>\n      </g>\n     </g>\n    </g>\n    <g id=\"xtick_3\">\n     <g id=\"line2d_3\">\n      <g>\n       <use style=\"stroke:#000000;stroke-width:0.8;\" x=\"150.621625\" xlink:href=\"#m4fbfd7ce73\" y=\"224.64\"/>\n      </g>\n     </g>\n     <g id=\"text_3\">\n      <!-- 10 -->\n      <defs>\n       <path d=\"M 12.40625 8.296875 \nL 28.515625 8.296875 \nL 28.515625 63.921875 \nL 10.984375 60.40625 \nL 10.984375 69.390625 \nL 28.421875 72.90625 \nL 38.28125 72.90625 \nL 38.28125 8.296875 \nL 54.390625 8.296875 \nL 54.390625 0 \nL 12.40625 0 \nz\n\" id=\"DejaVuSans-49\"/>\n      </defs>\n      <g transform=\"translate(144.259125 239.238438)scale(0.1 -0.1)\">\n       <use xlink:href=\"#DejaVuSans-49\"/>\n       <use x=\"63.623047\" xlink:href=\"#DejaVuSans-48\"/>\n      </g>\n     </g>\n    </g>\n    <g id=\"xtick_4\">\n     <g id=\"line2d_4\">\n      <g>\n       <use style=\"stroke:#000000;stroke-width:0.8;\" x=\"204.981625\" xlink:href=\"#m4fbfd7ce73\" y=\"224.64\"/>\n      </g>\n     </g>\n     <g id=\"text_4\">\n      <!-- 15 -->\n      <g transform=\"translate(198.619125 239.238438)scale(0.1 -0.1)\">\n       <use xlink:href=\"#DejaVuSans-49\"/>\n       <use x=\"63.623047\" xlink:href=\"#DejaVuSans-53\"/>\n      </g>\n     </g>\n    </g>\n   </g>\n   <g id=\"matplotlib.axis_2\">\n    <g id=\"ytick_1\">\n     <g id=\"line2d_5\">\n      <defs>\n       <path d=\"M 0 0 \nL -3.5 0 \n\" id=\"md0a1d0db2f\" style=\"stroke:#000000;stroke-width:0.8;\"/>\n      </defs>\n      <g>\n       <use style=\"stroke:#000000;stroke-width:0.8;\" x=\"36.465625\" xlink:href=\"#md0a1d0db2f\" y=\"12.636\"/>\n      </g>\n     </g>\n     <g id=\"text_5\">\n      <!-- 0.0 -->\n      <defs>\n       <path d=\"M 10.6875 12.40625 \nL 21 12.40625 \nL 21 0 \nL 10.6875 0 \nz\n\" id=\"DejaVuSans-46\"/>\n      </defs>\n      <g transform=\"translate(13.5625 16.435219)scale(0.1 -0.1)\">\n       <use xlink:href=\"#DejaVuSans-48\"/>\n       <use x=\"63.623047\" xlink:href=\"#DejaVuSans-46\"/>\n       <use x=\"95.410156\" xlink:href=\"#DejaVuSans-48\"/>\n      </g>\n     </g>\n    </g>\n    <g id=\"ytick_2\">\n     <g id=\"line2d_6\">\n      <g>\n       <use style=\"stroke:#000000;stroke-width:0.8;\" x=\"36.465625\" xlink:href=\"#md0a1d0db2f\" y=\"39.816\"/>\n      </g>\n     </g>\n     <g id=\"text_6\">\n      <!-- 2.5 -->\n      <defs>\n       <path d=\"M 19.1875 8.296875 \nL 53.609375 8.296875 \nL 53.609375 0 \nL 7.328125 0 \nL 7.328125 8.296875 \nQ 12.9375 14.109375 22.625 23.890625 \nQ 32.328125 33.6875 34.8125 36.53125 \nQ 39.546875 41.84375 41.421875 45.53125 \nQ 43.3125 49.21875 43.3125 52.78125 \nQ 43.3125 58.59375 39.234375 62.25 \nQ 35.15625 65.921875 28.609375 65.921875 \nQ 23.96875 65.921875 18.8125 64.3125 \nQ 13.671875 62.703125 7.8125 59.421875 \nL 7.8125 69.390625 \nQ 13.765625 71.78125 18.9375 73 \nQ 24.125 74.21875 28.421875 74.21875 \nQ 39.75 74.21875 46.484375 68.546875 \nQ 53.21875 62.890625 53.21875 53.421875 \nQ 53.21875 48.921875 51.53125 44.890625 \nQ 49.859375 40.875 45.40625 35.40625 \nQ 44.1875 33.984375 37.640625 27.21875 \nQ 31.109375 20.453125 19.1875 8.296875 \nz\n\" id=\"DejaVuSans-50\"/>\n      </defs>\n      <g transform=\"translate(13.5625 43.615219)scale(0.1 -0.1)\">\n       <use xlink:href=\"#DejaVuSans-50\"/>\n       <use x=\"63.623047\" xlink:href=\"#DejaVuSans-46\"/>\n       <use x=\"95.410156\" xlink:href=\"#DejaVuSans-53\"/>\n      </g>\n     </g>\n    </g>\n    <g id=\"ytick_3\">\n     <g id=\"line2d_7\">\n      <g>\n       <use style=\"stroke:#000000;stroke-width:0.8;\" x=\"36.465625\" xlink:href=\"#md0a1d0db2f\" y=\"66.996\"/>\n      </g>\n     </g>\n     <g id=\"text_7\">\n      <!-- 5.0 -->\n      <g transform=\"translate(13.5625 70.795219)scale(0.1 -0.1)\">\n       <use xlink:href=\"#DejaVuSans-53\"/>\n       <use x=\"63.623047\" xlink:href=\"#DejaVuSans-46\"/>\n       <use x=\"95.410156\" xlink:href=\"#DejaVuSans-48\"/>\n      </g>\n     </g>\n    </g>\n    <g id=\"ytick_4\">\n     <g id=\"line2d_8\">\n      <g>\n       <use style=\"stroke:#000000;stroke-width:0.8;\" x=\"36.465625\" xlink:href=\"#md0a1d0db2f\" y=\"94.176\"/>\n      </g>\n     </g>\n     <g id=\"text_8\">\n      <!-- 7.5 -->\n      <defs>\n       <path d=\"M 8.203125 72.90625 \nL 55.078125 72.90625 \nL 55.078125 68.703125 \nL 28.609375 0 \nL 18.3125 0 \nL 43.21875 64.59375 \nL 8.203125 64.59375 \nz\n\" id=\"DejaVuSans-55\"/>\n      </defs>\n      <g transform=\"translate(13.5625 97.975219)scale(0.1 -0.1)\">\n       <use xlink:href=\"#DejaVuSans-55\"/>\n       <use x=\"63.623047\" xlink:href=\"#DejaVuSans-46\"/>\n       <use x=\"95.410156\" xlink:href=\"#DejaVuSans-53\"/>\n      </g>\n     </g>\n    </g>\n    <g id=\"ytick_5\">\n     <g id=\"line2d_9\">\n      <g>\n       <use style=\"stroke:#000000;stroke-width:0.8;\" x=\"36.465625\" xlink:href=\"#md0a1d0db2f\" y=\"121.356\"/>\n      </g>\n     </g>\n     <g id=\"text_9\">\n      <!-- 10.0 -->\n      <g transform=\"translate(7.2 125.155219)scale(0.1 -0.1)\">\n       <use xlink:href=\"#DejaVuSans-49\"/>\n       <use x=\"63.623047\" xlink:href=\"#DejaVuSans-48\"/>\n       <use x=\"127.246094\" xlink:href=\"#DejaVuSans-46\"/>\n       <use x=\"159.033203\" xlink:href=\"#DejaVuSans-48\"/>\n      </g>\n     </g>\n    </g>\n    <g id=\"ytick_6\">\n     <g id=\"line2d_10\">\n      <g>\n       <use style=\"stroke:#000000;stroke-width:0.8;\" x=\"36.465625\" xlink:href=\"#md0a1d0db2f\" y=\"148.536\"/>\n      </g>\n     </g>\n     <g id=\"text_10\">\n      <!-- 12.5 -->\n      <g transform=\"translate(7.2 152.335219)scale(0.1 -0.1)\">\n       <use xlink:href=\"#DejaVuSans-49\"/>\n       <use x=\"63.623047\" xlink:href=\"#DejaVuSans-50\"/>\n       <use x=\"127.246094\" xlink:href=\"#DejaVuSans-46\"/>\n       <use x=\"159.033203\" xlink:href=\"#DejaVuSans-53\"/>\n      </g>\n     </g>\n    </g>\n    <g id=\"ytick_7\">\n     <g id=\"line2d_11\">\n      <g>\n       <use style=\"stroke:#000000;stroke-width:0.8;\" x=\"36.465625\" xlink:href=\"#md0a1d0db2f\" y=\"175.716\"/>\n      </g>\n     </g>\n     <g id=\"text_11\">\n      <!-- 15.0 -->\n      <g transform=\"translate(7.2 179.515219)scale(0.1 -0.1)\">\n       <use xlink:href=\"#DejaVuSans-49\"/>\n       <use x=\"63.623047\" xlink:href=\"#DejaVuSans-53\"/>\n       <use x=\"127.246094\" xlink:href=\"#DejaVuSans-46\"/>\n       <use x=\"159.033203\" xlink:href=\"#DejaVuSans-48\"/>\n      </g>\n     </g>\n    </g>\n    <g id=\"ytick_8\">\n     <g id=\"line2d_12\">\n      <g>\n       <use style=\"stroke:#000000;stroke-width:0.8;\" x=\"36.465625\" xlink:href=\"#md0a1d0db2f\" y=\"202.896\"/>\n      </g>\n     </g>\n     <g id=\"text_12\">\n      <!-- 17.5 -->\n      <g transform=\"translate(7.2 206.695219)scale(0.1 -0.1)\">\n       <use xlink:href=\"#DejaVuSans-49\"/>\n       <use x=\"63.623047\" xlink:href=\"#DejaVuSans-55\"/>\n       <use x=\"127.246094\" xlink:href=\"#DejaVuSans-46\"/>\n       <use x=\"159.033203\" xlink:href=\"#DejaVuSans-53\"/>\n      </g>\n     </g>\n    </g>\n   </g>\n   <g id=\"patch_3\">\n    <path d=\"M 36.465625 224.64 \nL 36.465625 7.2 \n\" style=\"fill:none;stroke:#000000;stroke-linecap:square;stroke-linejoin:miter;stroke-width:0.8;\"/>\n   </g>\n   <g id=\"patch_4\">\n    <path d=\"M 253.905625 224.64 \nL 253.905625 7.2 \n\" style=\"fill:none;stroke:#000000;stroke-linecap:square;stroke-linejoin:miter;stroke-width:0.8;\"/>\n   </g>\n   <g id=\"patch_5\">\n    <path d=\"M 36.465625 224.64 \nL 253.905625 224.64 \n\" style=\"fill:none;stroke:#000000;stroke-linecap:square;stroke-linejoin:miter;stroke-width:0.8;\"/>\n   </g>\n   <g id=\"patch_6\">\n    <path d=\"M 36.465625 7.2 \nL 253.905625 7.2 \n\" style=\"fill:none;stroke:#000000;stroke-linecap:square;stroke-linejoin:miter;stroke-width:0.8;\"/>\n   </g>\n  </g>\n </g>\n <defs>\n  <clipPath id=\"pd5bf1b7ba2\">\n   <rect height=\"217.44\" width=\"217.44\" x=\"36.465625\" y=\"7.2\"/>\n  </clipPath>\n </defs>\n</svg>\n",
      "image/png": "[encoded data removed]"
     },
     "metadata": {
      "needs_background": "light"
     }
    }
   ],
   "source": [
    "ouput = model(torch.Tensor(imgs_val[0]))\n",
    "imgplot = plt.imshow(imgs_val[0].reshape(20, 20))\n",
    "plt.show()\n",
    "imgplot = plt.imshow(ouput.data.reshape(20, 20))\n",
    "plt.show()"
   ]
  },
  {
   "cell_type": "code",
   "execution_count": null,
   "metadata": {},
   "outputs": [],
   "source": []
  }
 ]
}