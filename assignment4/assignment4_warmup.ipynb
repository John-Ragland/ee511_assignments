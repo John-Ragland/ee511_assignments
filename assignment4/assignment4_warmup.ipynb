{
 "cells": [
  {
   "cell_type": "markdown",
   "metadata": {},
   "source": [
    "# EE 511 Assignment 4 - PartI\n",
    "University of Washington<br>\n",
    "Code by John Ragland and Doruk Arisoy<br>\n",
    "Winter 2021"
   ]
  },
  {
   "cell_type": "code",
   "execution_count": 1,
   "metadata": {},
   "outputs": [],
   "source": [
    "# Suppress Warnings\n",
    "def warn(*args, **kwargs):\n",
    "    pass\n",
    "import warnings\n",
    "warnings.warn = warn\n",
    "\n",
    "import numpy as np\n",
    "import tools\n",
    "import matplotlib.pyplot as plt\n",
    "import torch\n",
    "import torch.nn as nn \n",
    "import torch.optim as optim\n",
    "import torch.nn.functional as F\n",
    "from torch.utils.data import TensorDataset, DataLoader\n",
    "\n",
    "# Some magic so that the notebook will reload external python modules;\n",
    "# see http://stackoverflow.com/questions/1907993/autoreload-of-modules-in-ipython\n",
    "%load_ext autoreload\n",
    "%autoreload 2"
   ]
  },
  {
   "cell_type": "markdown",
   "metadata": {},
   "source": [
    "## Generate samples"
   ]
  },
  {
   "cell_type": "code",
   "execution_count": 2,
   "metadata": {},
   "outputs": [
    {
     "data": {
      "text/plain": [
       "array([0.202, 0.074, 0.502, 0.222])"
      ]
     },
     "execution_count": 2,
     "metadata": {},
     "output_type": "execute_result"
    }
   ],
   "source": [
    "x1_train, x2_train, labels_train = tools.generate_data(500) \n",
    "np.bincount(labels_train) / 500.0"
   ]
  },
  {
   "cell_type": "code",
   "execution_count": 3,
   "metadata": {},
   "outputs": [
    {
     "data": {
      "text/plain": [
       "array([0.224, 0.09 , 0.482, 0.204])"
      ]
     },
     "execution_count": 3,
     "metadata": {},
     "output_type": "execute_result"
    }
   ],
   "source": [
    "x1_valid, x2_valid, labels_valid = tools.generate_data(500) \n",
    "np.bincount(labels_valid) / 500.0"
   ]
  },
  {
   "cell_type": "code",
   "execution_count": 4,
   "metadata": {},
   "outputs": [
    {
     "data": {
      "text/plain": [
       "array([0.436, 0.176, 0.914, 0.474])"
      ]
     },
     "execution_count": 4,
     "metadata": {},
     "output_type": "execute_result"
    }
   ],
   "source": [
    "x1_test, x2_test, labels_test = tools.generate_data(1000) \n",
    "np.bincount(labels_test) / 500.0"
   ]
  },
  {
   "cell_type": "code",
   "execution_count": 5,
   "metadata": {},
   "outputs": [],
   "source": [
    "class Net(nn.Module):\n",
    "    def __init__(self):\n",
    "        super(Net, self).__init__()\n",
    "        self.fc1 = nn.Linear(2, 15)\n",
    "        self.fc2 = nn.Linear(15, 4)\n",
    "\n",
    "    def forward(self, x):\n",
    "        x = F.tanh(self.fc1(x))\n",
    "        x = self.fc2(x)\n",
    "        return x"
   ]
  },
  {
   "cell_type": "code",
   "execution_count": 6,
   "metadata": {},
   "outputs": [],
   "source": [
    "BATCH_SIZE = 10\n",
    "TEST_BATCH_SIZE = 1000\n",
    "EPOCHS = 140\n",
    "LEARNING_RATE = 0.15\n",
    "MOMENTUM = 0.5\n",
    "SEED = 0\n",
    "LOG_INTERVAL = 100"
   ]
  },
  {
   "cell_type": "code",
   "execution_count": 7,
   "metadata": {},
   "outputs": [
    {
     "name": "stdout",
     "output_type": "stream",
     "text": [
      "Using device cpu\n",
      "num cpus: 12\n"
     ]
    }
   ],
   "source": [
    "torch.manual_seed(SEED)\n",
    "device = torch.device(\"cpu\")\n",
    "print('Using device', device)\n",
    "import multiprocessing\n",
    "print('num cpus:', multiprocessing.cpu_count()) \n",
    "criterion = nn.CrossEntropyLoss()"
   ]
  },
  {
   "cell_type": "code",
   "execution_count": 8,
   "metadata": {},
   "outputs": [],
   "source": [
    "data_train = torch.Tensor(np.array([x1_train, x2_train]).T)\n",
    "data_train = TensorDataset(data_train, torch.tensor(labels_train, dtype=torch.long, device=device))\n",
    "data_valid = torch.Tensor(np.array([x1_valid, x2_valid]).T)\n",
    "data_valid = TensorDataset(data_valid, torch.tensor(labels_valid, dtype=torch.long, device=device))\n",
    "data_test = torch.Tensor(np.array([x1_test, x2_test]).T)\n",
    "data_test = TensorDataset(data_test, torch.tensor(labels_test, dtype=torch.long, device=device))\n",
    "\n",
    "train_loader = DataLoader(dataset = data_train, batch_size = BATCH_SIZE, shuffle = True) \n",
    "valid_loader = DataLoader(dataset = data_valid, batch_size = BATCH_SIZE,  shuffle = False)\n",
    "test_loader = DataLoader(dataset = data_test, batch_size = BATCH_SIZE,  shuffle = False)"
   ]
  },
  {
   "cell_type": "code",
   "execution_count": 9,
   "metadata": {
    "tags": []
   },
   "outputs": [
    {
     "name": "stdout",
     "output_type": "stream",
     "text": [
      "Test set: Average loss: 0.1351, Accuracy: 156/500 (31%)\n",
      "Test set: Average loss: 0.1050, Accuracy: 277/500 (55%)\n",
      "Test set: Average loss: 0.0725, Accuracy: 340/500 (68%)\n",
      "Test set: Average loss: 0.0646, Accuracy: 350/500 (70%)\n",
      "Test set: Average loss: 0.0630, Accuracy: 378/500 (76%)\n",
      "Test set: Average loss: 0.0651, Accuracy: 358/500 (72%)\n",
      "Test set: Average loss: 0.0573, Accuracy: 390/500 (78%)\n",
      "Test set: Average loss: 0.0528, Accuracy: 399/500 (80%)\n",
      "Test set: Average loss: 0.0538, Accuracy: 401/500 (80%)\n",
      "Test set: Average loss: 0.0537, Accuracy: 380/500 (76%)\n",
      "Test set: Average loss: 0.0466, Accuracy: 403/500 (81%)\n",
      "Test set: Average loss: 0.0585, Accuracy: 368/500 (74%)\n",
      "Test set: Average loss: 0.0502, Accuracy: 395/500 (79%)\n",
      "Test set: Average loss: 0.0469, Accuracy: 408/500 (82%)\n",
      "Test set: Average loss: 0.0509, Accuracy: 400/500 (80%)\n",
      "Test set: Average loss: 0.0554, Accuracy: 382/500 (76%)\n",
      "Test set: Average loss: 0.0564, Accuracy: 392/500 (78%)\n",
      "Test set: Average loss: 0.0493, Accuracy: 393/500 (79%)\n",
      "Test set: Average loss: 0.0444, Accuracy: 418/500 (84%)\n",
      "Test set: Average loss: 0.0538, Accuracy: 397/500 (79%)\n",
      "Best learning rate 0.18\n"
     ]
    }
   ],
   "source": [
    "best_lr = 0\n",
    "best_result = 0\n",
    "for lr in np.arange(0, 0.2, 0.01):\n",
    "    model = Net()\n",
    "    optimizer = optim.SGD(model.parameters(), lr=lr, momentum=MOMENTUM)\n",
    "    tools.train(model, device, train_loader, optimizer, EPOCHS, LOG_INTERVAL, criterion)\n",
    "    result = tools.test(model, device, valid_loader, criterion)\n",
    "    if result > best_result:\n",
    "        best_result = result\n",
    "        best_lr = lr\n",
    "\n",
    "LEARNING_RATE = best_lr\n",
    "print('Best learning rate %.2f' % LEARNING_RATE)"
   ]
  },
  {
   "cell_type": "code",
   "execution_count": 10,
   "metadata": {},
   "outputs": [
    {
     "name": "stdout",
     "output_type": "stream",
     "text": [
      "Test set: Average loss: 0.1230, Accuracy: 237/500 (47%)\n",
      "Test set: Average loss: 0.0907, Accuracy: 327/500 (65%)\n",
      "Test set: Average loss: 0.0750, Accuracy: 316/500 (63%)\n",
      "Test set: Average loss: 0.0683, Accuracy: 356/500 (71%)\n",
      "Test set: Average loss: 0.0680, Accuracy: 364/500 (73%)\n",
      "Test set: Average loss: 0.0697, Accuracy: 344/500 (69%)\n",
      "Test set: Average loss: 0.0667, Accuracy: 337/500 (67%)\n",
      "Test set: Average loss: 0.0633, Accuracy: 361/500 (72%)\n",
      "Test set: Average loss: 0.0510, Accuracy: 401/500 (80%)\n",
      "Test set: Average loss: 0.0536, Accuracy: 393/500 (79%)\n",
      "Test set: Average loss: 0.0548, Accuracy: 385/500 (77%)\n",
      "Test set: Average loss: 0.0513, Accuracy: 385/500 (77%)\n",
      "Test set: Average loss: 0.0550, Accuracy: 397/500 (79%)\n",
      "Test set: Average loss: 0.0533, Accuracy: 391/500 (78%)\n",
      "Test set: Average loss: 0.0436, Accuracy: 436/500 (87%)\n",
      "Test set: Average loss: 0.0473, Accuracy: 407/500 (81%)\n",
      "Test set: Average loss: 0.0410, Accuracy: 433/500 (87%)\n",
      "Test set: Average loss: 0.0583, Accuracy: 406/500 (81%)\n",
      "Test set: Average loss: 0.0483, Accuracy: 416/500 (83%)\n",
      "Test set: Average loss: 0.0462, Accuracy: 405/500 (81%)\n",
      "Best number of epochs 140.00\n"
     ]
    }
   ],
   "source": [
    "best_epoch = 0\n",
    "best_result = 0\n",
    "for epoch in np.arange(0, 200, 10):\n",
    "    model = Net()\n",
    "    optimizer = optim.SGD(model.parameters(), lr=LEARNING_RATE, momentum=MOMENTUM)\n",
    "    tools.train(model, device, train_loader, optimizer, epoch, LOG_INTERVAL, criterion)\n",
    "    result = tools.test(model, device, valid_loader, criterion)\n",
    "    if result > best_result:\n",
    "        best_result = result\n",
    "        best_epoch = epoch\n",
    "\n",
    "EPOCHS = best_epoch\n",
    "print('Best number of epochs %.2f' % EPOCHS)"
   ]
  },
  {
   "cell_type": "code",
   "execution_count": 11,
   "metadata": {},
   "outputs": [],
   "source": [
    "model = Net()\n",
    "optimizer = optim.SGD(model.parameters(), lr=LEARNING_RATE, momentum=MOMENTUM)\n",
    "tools.train(model, device, train_loader, optimizer, EPOCHS, LOG_INTERVAL, criterion)"
   ]
  },
  {
   "cell_type": "markdown",
   "metadata": {},
   "source": [
    "## Evaluation"
   ]
  },
  {
   "cell_type": "code",
   "execution_count": 12,
   "metadata": {},
   "outputs": [
    {
     "name": "stdout",
     "output_type": "stream",
     "text": [
      "Test set: Average loss: 0.0638, Accuracy: 757/1000 (76%)\n"
     ]
    },
    {
     "data": {
      "text/plain": [
       "75.7"
      ]
     },
     "execution_count": 12,
     "metadata": {},
     "output_type": "execute_result"
    }
   ],
   "source": [
    "tools.test(model, device, test_loader, criterion)"
   ]
  },
  {
   "cell_type": "code",
   "execution_count": 13,
   "metadata": {},
   "outputs": [
    {
     "data": {
      "image/png": "[encoded data removed]",
      "text/plain": [
       "<Figure size 432x288 with 1 Axes>"
      ]
     },
     "metadata": {
      "needs_background": "light"
     },
     "output_type": "display_data"
    }
   ],
   "source": [
    "plt.title(\"Ground Truth\")\n",
    "tools.plot(x1_test, x2_test, labels_test)"
   ]
  },
  {
   "cell_type": "code",
   "execution_count": 14,
   "metadata": {},
   "outputs": [],
   "source": [
    "pred = torch.Tensor(np.array([x1_test, x2_test]).T)\n",
    "output = model(pred)\n",
    "pred = output.max(1, keepdim=True)[1]"
   ]
  },
  {
   "cell_type": "code",
   "execution_count": 15,
   "metadata": {},
   "outputs": [
    {
     "data": {
      "image/png": "[encoded data removed]",
      "text/plain": [
       "<Figure size 432x288 with 1 Axes>"
      ]
     },
     "metadata": {
      "needs_background": "light"
     },
     "output_type": "display_data"
    }
   ],
   "source": [
    "plt.title(\"Predictions\")\n",
    "tools.plot(x1_test, x2_test, pred)"
   ]
  },
  {
   "cell_type": "code",
   "execution_count": null,
   "metadata": {},
   "outputs": [],
   "source": []
  }
 ],
 "metadata": {
  "kernelspec": {
   "display_name": "Python 3",
   "language": "python",
   "name": "python3"
  },
  "language_info": {
   "codemirror_mode": {
    "name": "ipython",
    "version": 3
   },
   "file_extension": ".py",
   "mimetype": "text/x-python",
   "name": "python",
   "nbconvert_exporter": "python",
   "pygments_lexer": "ipython3",
   "version": "3.9.1"
  }
 },
 "nbformat": 4,
 "nbformat_minor": 2
}
