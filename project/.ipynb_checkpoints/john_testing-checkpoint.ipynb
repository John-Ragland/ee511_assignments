{
 "cells": [
  {
   "cell_type": "code",
   "execution_count": 1,
   "metadata": {},
   "outputs": [],
   "source": [
    "import numpy as np\n",
    "import pandas as pd\n",
    "import pickle\n",
    "import project_tools as tools\n",
    "from matplotlib import pyplot as plt\n",
    "from sklearn.linear_model import LinearRegression\n",
    "from sklearn.metrics import mean_squared_error\n",
    "from sklearn.linear_model import Ridge\n",
    "from sklearn.model_selection import train_test_split\n",
    "\n",
    "import torch\n",
    "from torch import nn\n",
    "import torch.optim as optim\n",
    "from torch.utils.data import TensorDataset, DataLoader\n",
    "# Some magic so that the notebook will reload external python modules;\n",
    "# see http://stackoverflow.com/questions/1907993/autoreload-of-modules-in-ipython\n",
    "%load_ext autoreload\n",
    "%autoreload 2"
   ]
  },
  {
   "cell_type": "code",
   "execution_count": 2,
   "metadata": {},
   "outputs": [],
   "source": [
    "original_stats, original_games, original_records, original_teams, original_spread, original_rankings = tools.load_data_pkl()"
   ]
  },
  {
   "cell_type": "code",
   "execution_count": 3,
   "metadata": {},
   "outputs": [
    {
     "data": {
      "text/html": [
       "<div>\n",
       "<style scoped>\n",
       "    .dataframe tbody tr th:only-of-type {\n",
       "        vertical-align: middle;\n",
       "    }\n",
       "\n",
       "    .dataframe tbody tr th {\n",
       "        vertical-align: top;\n",
       "    }\n",
       "\n",
       "    .dataframe thead th {\n",
       "        text-align: right;\n",
       "    }\n",
       "</style>\n",
       "<table border=\"1\" class=\"dataframe\">\n",
       "  <thead>\n",
       "    <tr style=\"text-align: right;\">\n",
       "      <th></th>\n",
       "      <th>id</th>\n",
       "      <th>season</th>\n",
       "      <th>week</th>\n",
       "      <th>home_team</th>\n",
       "      <th>away_team</th>\n",
       "      <th>excitement_index</th>\n",
       "      <th>result</th>\n",
       "      <th>spread</th>\n",
       "      <th>homeWinProb</th>\n",
       "      <th>home_games</th>\n",
       "      <th>...</th>\n",
       "      <th>kickReturns_spread</th>\n",
       "      <th>interceptionTDs_spread</th>\n",
       "      <th>tacklesForLoss_spread</th>\n",
       "      <th>sacks_spread</th>\n",
       "      <th>home_for</th>\n",
       "      <th>home_against</th>\n",
       "      <th>away_for</th>\n",
       "      <th>away_against</th>\n",
       "      <th>away_wins</th>\n",
       "      <th>home_wins</th>\n",
       "    </tr>\n",
       "  </thead>\n",
       "  <tbody>\n",
       "    <tr>\n",
       "      <th>0</th>\n",
       "      <td>332412579</td>\n",
       "      <td>2013</td>\n",
       "      <td>1</td>\n",
       "      <td>South Carolina</td>\n",
       "      <td>North Carolina</td>\n",
       "      <td>4.258906</td>\n",
       "      <td>17.0</td>\n",
       "      <td>11.5</td>\n",
       "      <td>0.751</td>\n",
       "      <td>0.0</td>\n",
       "      <td>...</td>\n",
       "      <td>0.000000</td>\n",
       "      <td>0.000000</td>\n",
       "      <td>0.000000</td>\n",
       "      <td>0.000000</td>\n",
       "      <td>0.000000</td>\n",
       "      <td>0.000000</td>\n",
       "      <td>0.000000</td>\n",
       "      <td>0.000000</td>\n",
       "      <td>0.0</td>\n",
       "      <td>0.0</td>\n",
       "    </tr>\n",
       "    <tr>\n",
       "      <th>1</th>\n",
       "      <td>332410135</td>\n",
       "      <td>2013</td>\n",
       "      <td>1</td>\n",
       "      <td>Minnesota</td>\n",
       "      <td>UNLV</td>\n",
       "      <td>5.598996</td>\n",
       "      <td>28.0</td>\n",
       "      <td>17.0</td>\n",
       "      <td>0.841</td>\n",
       "      <td>0.0</td>\n",
       "      <td>...</td>\n",
       "      <td>0.000000</td>\n",
       "      <td>0.000000</td>\n",
       "      <td>0.000000</td>\n",
       "      <td>0.000000</td>\n",
       "      <td>0.000000</td>\n",
       "      <td>0.000000</td>\n",
       "      <td>0.000000</td>\n",
       "      <td>0.000000</td>\n",
       "      <td>0.0</td>\n",
       "      <td>0.0</td>\n",
       "    </tr>\n",
       "    <tr>\n",
       "      <th>2</th>\n",
       "      <td>332412116</td>\n",
       "      <td>2013</td>\n",
       "      <td>1</td>\n",
       "      <td>UCF</td>\n",
       "      <td>Akron</td>\n",
       "      <td>4.055377</td>\n",
       "      <td>31.0</td>\n",
       "      <td>28.0</td>\n",
       "      <td>0.950</td>\n",
       "      <td>0.0</td>\n",
       "      <td>...</td>\n",
       "      <td>0.000000</td>\n",
       "      <td>0.000000</td>\n",
       "      <td>0.000000</td>\n",
       "      <td>0.000000</td>\n",
       "      <td>0.000000</td>\n",
       "      <td>0.000000</td>\n",
       "      <td>0.000000</td>\n",
       "      <td>0.000000</td>\n",
       "      <td>0.0</td>\n",
       "      <td>0.0</td>\n",
       "    </tr>\n",
       "    <tr>\n",
       "      <th>3</th>\n",
       "      <td>332410189</td>\n",
       "      <td>2013</td>\n",
       "      <td>1</td>\n",
       "      <td>Bowling Green</td>\n",
       "      <td>Tulsa</td>\n",
       "      <td>5.352316</td>\n",
       "      <td>27.0</td>\n",
       "      <td>-3.0</td>\n",
       "      <td>0.430</td>\n",
       "      <td>0.0</td>\n",
       "      <td>...</td>\n",
       "      <td>0.000000</td>\n",
       "      <td>0.000000</td>\n",
       "      <td>0.000000</td>\n",
       "      <td>0.000000</td>\n",
       "      <td>0.000000</td>\n",
       "      <td>0.000000</td>\n",
       "      <td>0.000000</td>\n",
       "      <td>0.000000</td>\n",
       "      <td>0.0</td>\n",
       "      <td>0.0</td>\n",
       "    </tr>\n",
       "    <tr>\n",
       "      <th>4</th>\n",
       "      <td>332410254</td>\n",
       "      <td>2013</td>\n",
       "      <td>1</td>\n",
       "      <td>Utah</td>\n",
       "      <td>Utah State</td>\n",
       "      <td>7.013360</td>\n",
       "      <td>4.0</td>\n",
       "      <td>4.5</td>\n",
       "      <td>0.604</td>\n",
       "      <td>0.0</td>\n",
       "      <td>...</td>\n",
       "      <td>0.000000</td>\n",
       "      <td>0.000000</td>\n",
       "      <td>0.000000</td>\n",
       "      <td>0.000000</td>\n",
       "      <td>0.000000</td>\n",
       "      <td>0.000000</td>\n",
       "      <td>0.000000</td>\n",
       "      <td>0.000000</td>\n",
       "      <td>0.0</td>\n",
       "      <td>0.0</td>\n",
       "    </tr>\n",
       "    <tr>\n",
       "      <th>...</th>\n",
       "      <td>...</td>\n",
       "      <td>...</td>\n",
       "      <td>...</td>\n",
       "      <td>...</td>\n",
       "      <td>...</td>\n",
       "      <td>...</td>\n",
       "      <td>...</td>\n",
       "      <td>...</td>\n",
       "      <td>...</td>\n",
       "      <td>...</td>\n",
       "      <td>...</td>\n",
       "      <td>...</td>\n",
       "      <td>...</td>\n",
       "      <td>...</td>\n",
       "      <td>...</td>\n",
       "      <td>...</td>\n",
       "      <td>...</td>\n",
       "      <td>...</td>\n",
       "      <td>...</td>\n",
       "      <td>...</td>\n",
       "      <td>...</td>\n",
       "    </tr>\n",
       "    <tr>\n",
       "      <th>4150</th>\n",
       "      <td>401056705</td>\n",
       "      <td>2018</td>\n",
       "      <td>14</td>\n",
       "      <td>Georgia</td>\n",
       "      <td>Alabama</td>\n",
       "      <td>7.803290</td>\n",
       "      <td>-7.0</td>\n",
       "      <td>-12.0</td>\n",
       "      <td>0.240</td>\n",
       "      <td>12.0</td>\n",
       "      <td>...</td>\n",
       "      <td>-0.500000</td>\n",
       "      <td>-0.250000</td>\n",
       "      <td>-3.083333</td>\n",
       "      <td>-1.583333</td>\n",
       "      <td>40.083333</td>\n",
       "      <td>17.166667</td>\n",
       "      <td>49.000000</td>\n",
       "      <td>13.750000</td>\n",
       "      <td>11.0</td>\n",
       "      <td>10.0</td>\n",
       "    </tr>\n",
       "    <tr>\n",
       "      <th>4151</th>\n",
       "      <td>401056700</td>\n",
       "      <td>2018</td>\n",
       "      <td>14</td>\n",
       "      <td>Boise State</td>\n",
       "      <td>Fresno State</td>\n",
       "      <td>8.524009</td>\n",
       "      <td>-3.0</td>\n",
       "      <td>1.5</td>\n",
       "      <td>0.535</td>\n",
       "      <td>12.0</td>\n",
       "      <td>...</td>\n",
       "      <td>0.250000</td>\n",
       "      <td>-0.166667</td>\n",
       "      <td>1.000000</td>\n",
       "      <td>1.166667</td>\n",
       "      <td>37.000000</td>\n",
       "      <td>22.333333</td>\n",
       "      <td>36.250000</td>\n",
       "      <td>13.500000</td>\n",
       "      <td>8.0</td>\n",
       "      <td>11.0</td>\n",
       "    </tr>\n",
       "    <tr>\n",
       "      <th>4152</th>\n",
       "      <td>401056697</td>\n",
       "      <td>2018</td>\n",
       "      <td>14</td>\n",
       "      <td>Pittsburgh</td>\n",
       "      <td>Clemson</td>\n",
       "      <td>0.534431</td>\n",
       "      <td>-32.0</td>\n",
       "      <td>-28.0</td>\n",
       "      <td>0.050</td>\n",
       "      <td>12.0</td>\n",
       "      <td>...</td>\n",
       "      <td>0.333333</td>\n",
       "      <td>-0.083333</td>\n",
       "      <td>-3.583333</td>\n",
       "      <td>-1.500000</td>\n",
       "      <td>28.000000</td>\n",
       "      <td>27.750000</td>\n",
       "      <td>45.666667</td>\n",
       "      <td>14.000000</td>\n",
       "      <td>11.0</td>\n",
       "      <td>6.0</td>\n",
       "    </tr>\n",
       "    <tr>\n",
       "      <th>4153</th>\n",
       "      <td>401056702</td>\n",
       "      <td>2018</td>\n",
       "      <td>14</td>\n",
       "      <td>Ohio State</td>\n",
       "      <td>Northwestern</td>\n",
       "      <td>3.123918</td>\n",
       "      <td>21.0</td>\n",
       "      <td>16.5</td>\n",
       "      <td>0.834</td>\n",
       "      <td>12.0</td>\n",
       "      <td>...</td>\n",
       "      <td>0.666667</td>\n",
       "      <td>0.083333</td>\n",
       "      <td>1.666667</td>\n",
       "      <td>1.166667</td>\n",
       "      <td>43.333333</td>\n",
       "      <td>25.833333</td>\n",
       "      <td>23.666667</td>\n",
       "      <td>21.666667</td>\n",
       "      <td>8.0</td>\n",
       "      <td>11.0</td>\n",
       "    </tr>\n",
       "    <tr>\n",
       "      <th>4154</th>\n",
       "      <td>401013376</td>\n",
       "      <td>2018</td>\n",
       "      <td>15</td>\n",
       "      <td>Army</td>\n",
       "      <td>Navy</td>\n",
       "      <td>3.805508</td>\n",
       "      <td>7.0</td>\n",
       "      <td>7.0</td>\n",
       "      <td>0.660</td>\n",
       "      <td>11.0</td>\n",
       "      <td>...</td>\n",
       "      <td>-0.772727</td>\n",
       "      <td>0.000000</td>\n",
       "      <td>1.787879</td>\n",
       "      <td>0.613636</td>\n",
       "      <td>30.818182</td>\n",
       "      <td>18.727273</td>\n",
       "      <td>26.250000</td>\n",
       "      <td>34.916667</td>\n",
       "      <td>2.0</td>\n",
       "      <td>5.0</td>\n",
       "    </tr>\n",
       "  </tbody>\n",
       "</table>\n",
       "<p>4155 rows × 48 columns</p>\n",
       "</div>"
      ],
      "text/plain": [
       "             id  season  week       home_team       away_team  \\\n",
       "0     332412579    2013     1  South Carolina  North Carolina   \n",
       "1     332410135    2013     1       Minnesota            UNLV   \n",
       "2     332412116    2013     1             UCF           Akron   \n",
       "3     332410189    2013     1   Bowling Green           Tulsa   \n",
       "4     332410254    2013     1            Utah      Utah State   \n",
       "...         ...     ...   ...             ...             ...   \n",
       "4150  401056705    2018    14         Georgia         Alabama   \n",
       "4151  401056700    2018    14     Boise State    Fresno State   \n",
       "4152  401056697    2018    14      Pittsburgh         Clemson   \n",
       "4153  401056702    2018    14      Ohio State    Northwestern   \n",
       "4154  401013376    2018    15            Army            Navy   \n",
       "\n",
       "      excitement_index  result  spread  homeWinProb  home_games  ...  \\\n",
       "0             4.258906    17.0    11.5        0.751         0.0  ...   \n",
       "1             5.598996    28.0    17.0        0.841         0.0  ...   \n",
       "2             4.055377    31.0    28.0        0.950         0.0  ...   \n",
       "3             5.352316    27.0    -3.0        0.430         0.0  ...   \n",
       "4             7.013360     4.0     4.5        0.604         0.0  ...   \n",
       "...                ...     ...     ...          ...         ...  ...   \n",
       "4150          7.803290    -7.0   -12.0        0.240        12.0  ...   \n",
       "4151          8.524009    -3.0     1.5        0.535        12.0  ...   \n",
       "4152          0.534431   -32.0   -28.0        0.050        12.0  ...   \n",
       "4153          3.123918    21.0    16.5        0.834        12.0  ...   \n",
       "4154          3.805508     7.0     7.0        0.660        11.0  ...   \n",
       "\n",
       "      kickReturns_spread  interceptionTDs_spread  tacklesForLoss_spread  \\\n",
       "0               0.000000                0.000000               0.000000   \n",
       "1               0.000000                0.000000               0.000000   \n",
       "2               0.000000                0.000000               0.000000   \n",
       "3               0.000000                0.000000               0.000000   \n",
       "4               0.000000                0.000000               0.000000   \n",
       "...                  ...                     ...                    ...   \n",
       "4150           -0.500000               -0.250000              -3.083333   \n",
       "4151            0.250000               -0.166667               1.000000   \n",
       "4152            0.333333               -0.083333              -3.583333   \n",
       "4153            0.666667                0.083333               1.666667   \n",
       "4154           -0.772727                0.000000               1.787879   \n",
       "\n",
       "      sacks_spread   home_for  home_against   away_for  away_against  \\\n",
       "0         0.000000   0.000000      0.000000   0.000000      0.000000   \n",
       "1         0.000000   0.000000      0.000000   0.000000      0.000000   \n",
       "2         0.000000   0.000000      0.000000   0.000000      0.000000   \n",
       "3         0.000000   0.000000      0.000000   0.000000      0.000000   \n",
       "4         0.000000   0.000000      0.000000   0.000000      0.000000   \n",
       "...            ...        ...           ...        ...           ...   \n",
       "4150     -1.583333  40.083333     17.166667  49.000000     13.750000   \n",
       "4151      1.166667  37.000000     22.333333  36.250000     13.500000   \n",
       "4152     -1.500000  28.000000     27.750000  45.666667     14.000000   \n",
       "4153      1.166667  43.333333     25.833333  23.666667     21.666667   \n",
       "4154      0.613636  30.818182     18.727273  26.250000     34.916667   \n",
       "\n",
       "      away_wins  home_wins  \n",
       "0           0.0        0.0  \n",
       "1           0.0        0.0  \n",
       "2           0.0        0.0  \n",
       "3           0.0        0.0  \n",
       "4           0.0        0.0  \n",
       "...         ...        ...  \n",
       "4150       11.0       10.0  \n",
       "4151        8.0       11.0  \n",
       "4152       11.0        6.0  \n",
       "4153        8.0       11.0  \n",
       "4154        2.0        5.0  \n",
       "\n",
       "[4155 rows x 48 columns]"
      ]
     },
     "execution_count": 3,
     "metadata": {},
     "output_type": "execute_result"
    }
   ],
   "source": [
    "games = tools.get_games_df('train')\n",
    "games"
   ]
  },
  {
   "cell_type": "markdown",
   "metadata": {},
   "source": [
    "## Single Variable Linear Regression"
   ]
  },
  {
   "cell_type": "code",
   "execution_count": 5,
   "metadata": {},
   "outputs": [],
   "source": [
    "pd.options.display.max_columns = None\n",
    "train = games[games['season'] < 2018]\n",
    "valid = games[games['season'] == 2018]\n",
    "\n",
    "X_train = train['home_wins'].to_numpy() - train['away_wins'].to_numpy()\n",
    "y_train = train['result'].to_numpy()\n",
    "\n",
    "X_valid = valid['home_wins'].to_numpy() - valid['away_wins'].to_numpy()\n",
    "y_valid = valid['result'].to_numpy()"
   ]
  },
  {
   "cell_type": "code",
   "execution_count": 113,
   "metadata": {},
   "outputs": [],
   "source": [
    "pd.options.display.max_columns = None\n",
    "train = games[games['season'] < 2018]\n",
    "valid = games[games['season'] == 2018]\n",
    "\n",
    "X_train = train['totalYards_spread'].to_numpy()\n",
    "y_train = train['result'].to_numpy()\n",
    "\n",
    "X_valid = valid['totalYards_spread'].to_numpy()\n",
    "y_valid = valid['result'].to_numpy()"
   ]
  },
  {
   "cell_type": "code",
   "execution_count": 7,
   "metadata": {},
   "outputs": [
    {
     "data": {
      "image/png": "[encoded data removed]",
      "text/plain": [
       "<Figure size 432x288 with 1 Axes>"
      ]
     },
     "metadata": {
      "needs_background": "light"
     },
     "output_type": "display_data"
    }
   ],
   "source": [
    "baseline_model = LinearRegression().fit(X_train.reshape(-1, 1), y_train)\n",
    "\n",
    "x = np.linspace(-10, 10, 500)\n",
    "y = baseline_model.coef_[0] * x + baseline_model.intercept_\n",
    "\n",
    "plt.xlabel('win percentage difference')\n",
    "plt.ylabel('game result')\n",
    "plt.plot(X_train, y_train, '.', color='black')\n",
    "plt.plot(x, y, '-r', label=\"f(x) = %.3fx + %.3f\" % (baseline_model.coef_[0], baseline_model.intercept_))\n",
    "plt.legend()\n",
    "plt.grid()"
   ]
  },
  {
   "cell_type": "code",
   "execution_count": 8,
   "metadata": {},
   "outputs": [
    {
     "name": "stdout",
     "output_type": "stream",
     "text": [
      "RMSE on train = 18.97 points\n",
      "RMSE on valid = 19.74 points\n"
     ]
    }
   ],
   "source": [
    "prediction_train = baseline_model.predict(X_train.reshape(-1, 1))\n",
    "prediction_valid = baseline_model.predict(X_valid.reshape(-1, 1))\n",
    "print('RMSE on train = %.2f points' % mean_squared_error(y_train, prediction_train, squared=False))\n",
    "print('RMSE on valid = %.2f points' % mean_squared_error(y_valid, prediction_valid, squared=False))"
   ]
  },
  {
   "cell_type": "markdown",
   "metadata": {},
   "source": [
    "## Ridge Regression Baseline"
   ]
  },
  {
   "cell_type": "code",
   "execution_count": 63,
   "metadata": {},
   "outputs": [],
   "source": [
    "X= games.drop(['home_team','away_team','result'], axis=1).to_numpy()\n",
    "y = games['result']\n",
    "\n",
    "X_train, X_valid, y_train, y_valid = train_test_split(X, y, test_size=0.1, random_state=0)"
   ]
  },
  {
   "cell_type": "code",
   "execution_count": 64,
   "metadata": {},
   "outputs": [
    {
     "data": {
      "text/plain": [
       "LinearRegression()"
      ]
     },
     "execution_count": 64,
     "metadata": {},
     "output_type": "execute_result"
    }
   ],
   "source": [
    "LinRegMod = LinearRegression()\n",
    "LinRegMod.fit(X_train, y_train)"
   ]
  },
  {
   "cell_type": "code",
   "execution_count": 65,
   "metadata": {},
   "outputs": [
    {
     "name": "stdout",
     "output_type": "stream",
     "text": [
      "RMSE on train = 15.79 points\n",
      "Percent Correct (W/L) = 75.85%\n",
      "\n",
      "RMSE on valid = 15.94 points\n",
      "Percent Correct (W/L) = 75.0%\n"
     ]
    }
   ],
   "source": [
    "pred_train = LinRegMod.predict(X_train)\n",
    "print('RMSE on train = %.2f points' % mean_squared_error(y_train, pred_train, squared=False))\n",
    "print(f'Percent Correct (W/L) = {np.sum(np.sign(pred_train)==np.sign(y_train))/len(y_train)*100:.4}%\\n')\n",
    "\n",
    "pred_valid = LinRegMod.predict(X_valid)\n",
    "print('RMSE on valid = %.2f points' % mean_squared_error(y_valid, pred_valid, squared=False))\n",
    "print(f'Percent Correct (W/L) = {np.sum(np.sign(pred_valid)==np.sign(y_valid))/len(y_valid)*100:.4}%')"
   ]
  },
  {
   "cell_type": "markdown",
   "metadata": {},
   "source": [
    "## Playing around with a Neural Net"
   ]
  },
  {
   "cell_type": "code",
   "execution_count": 25,
   "metadata": {},
   "outputs": [],
   "source": [
    "BATCH_SIZE = 200\n",
    "EPOCHS = 300\n",
    "LEARNING_RATE = 0.00001\n",
    "MOMENTUM = 0.5"
   ]
  },
  {
   "cell_type": "code",
   "execution_count": 26,
   "metadata": {},
   "outputs": [
    {
     "name": "stdout",
     "output_type": "stream",
     "text": [
      "Using device cpu\n"
     ]
    }
   ],
   "source": [
    "torch.manual_seed(0)\n",
    "device = torch.device(\"cpu\")\n",
    "print('Using device', device)"
   ]
  },
  {
   "cell_type": "code",
   "execution_count": 27,
   "metadata": {},
   "outputs": [],
   "source": [
    "train_in = games.drop(columns=['home_team','away_team','result'])\n",
    "train_out = games.result\n",
    "\n",
    "data_train_vals = torch.tensor(train_in.to_numpy(), dtype=torch.float, device=device)\n",
    "data_train_labels = torch.tensor(train_out.to_numpy(), dtype=torch.float, device=device)\n",
    "data_train = TensorDataset(data_train_vals, data_train_labels)\n",
    "train_loader = DataLoader(dataset = data_train, batch_size = BATCH_SIZE, shuffle = True) "
   ]
  },
  {
   "cell_type": "code",
   "execution_count": 28,
   "metadata": {},
   "outputs": [],
   "source": [
    "class Network(nn.Module):\n",
    "    def __init__(self):\n",
    "        super().__init__()\n",
    "        \n",
    "        # Inputs to hidden layer linear transformation\n",
    "        self.h1 = nn.Linear(45, 15)\n",
    "        self.h2 = nn.Linear(15, 5)\n",
    "        self.output = nn.Linear(5,1)\n",
    "        \n",
    "        \n",
    "    def forward(self, x):\n",
    "        # Pass the input tensor through each of our operations\n",
    "        x = self.h1(x)\n",
    "        x = self.h2(x)\n",
    "        x = self.output(x)\n",
    "        return x\n",
    "    \n",
    "def train(model, device, train_loader, optimizer, epochs, criterion, verbose=False):\n",
    "    loss_log = []\n",
    "    for epoch in range(epochs):\n",
    "        model.train()\n",
    "        batch_loss = 0\n",
    "        for data, label in train_loader:\n",
    "            data, label = data.to(device), label.to(device)\n",
    "            optimizer.zero_grad()\n",
    "            output = model(data)\n",
    "            loss = criterion(output, label)\n",
    "            loss.backward()\n",
    "            optimizer.step()\n",
    "            batch_loss += loss.item()\n",
    "        if verbose & (epoch % 100 == 0):\n",
    "            print('Train Epoch: %d  \\tLoss: %.6f' % (epoch, np.sqrt(batch_loss/len(train_loader))))\n",
    "        loss_log.append(np.sqrt(batch_loss/len(train_loader)))\n",
    "            \n",
    "    return loss_log\n",
    "\n",
    "def test(model, device, test_loader, criterion):\n",
    "    model.eval()\n",
    "    test_loss = 0\n",
    "    correct = 0\n",
    "    with torch.no_grad():\n",
    "        for data, label in test_loader:\n",
    "            data, label = data.to(device), label.to(device)\n",
    "            output = model(data)\n",
    "            test_loss += criterion(output, label).item()\n",
    "    print('Test set: Average loss: %.4f' % np.sqrt(test_loss/len(test_loader)))\n",
    "\n",
    "    return test_loss\n",
    "\n",
    "model = Network()"
   ]
  },
  {
   "cell_type": "code",
   "execution_count": 29,
   "metadata": {},
   "outputs": [],
   "source": [
    "# model = nn.Sequential(nn.Linear(45,1))"
   ]
  },
  {
   "cell_type": "code",
   "execution_count": 30,
   "metadata": {},
   "outputs": [],
   "source": [
    "optimizer = torch.optim.Adam(model.parameters(), lr=LEARNING_RATE)\n",
    "criterion = nn.MSELoss()"
   ]
  },
  {
   "cell_type": "code",
   "execution_count": null,
   "metadata": {},
   "outputs": [
    {
     "name": "stdout",
     "output_type": "stream",
     "text": [
      "Train Epoch: 0  \tLoss: 4385329.967146\n",
      "Train Epoch: 100  \tLoss: 65.358536\n"
     ]
    }
   ],
   "source": [
    "loss_log = train(model, device, train_loader, optimizer, EPOCHS, criterion, verbose=True)"
   ]
  },
  {
   "cell_type": "code",
   "execution_count": null,
   "metadata": {},
   "outputs": [],
   "source": [
    "plt.plot(loss_log)\n",
    "plt.ylabel('Loss')\n",
    "plt.xlabel('Epoch')\n",
    "plt.title('Training Linear NN')"
   ]
  },
  {
   "cell_type": "code",
   "execution_count": null,
   "metadata": {},
   "outputs": [],
   "source": [
    "l = test(model, device, train_loader, criterion)"
   ]
  },
  {
   "cell_type": "markdown",
   "metadata": {},
   "source": [
    "# Testing Performance Against Vegas"
   ]
  },
  {
   "cell_type": "code",
   "execution_count": 38,
   "metadata": {},
   "outputs": [],
   "source": [
    "spread = torch.from_numpy(games['spread'].to_numpy())\n",
    "result = torch.from_numpy(games['result'].to_numpy())\n",
    "pred = result + (torch.rand(result.size())-0.5)*25\n",
    "\n",
    "\n",
    "spread_v_pred = torch.sign(pred - spread)\n",
    "spread_v_result = torch.sign(result - spread)"
   ]
  },
  {
   "cell_type": "code",
   "execution_count": 39,
   "metadata": {},
   "outputs": [
    {
     "name": "stdout",
     "output_type": "stream",
     "text": [
      "predic: 50.14184522628784\n",
      "spread: 21.5\n",
      "svp:    1.0\n",
      "svr:    1.0\n",
      "result: 45.0\n"
     ]
    }
   ],
   "source": [
    "idx = 101\n",
    "print(f'predic: {pred[idx]}')\n",
    "print(f'spread: {spread[idx]}')\n",
    "print(f'svp:    {spread_v_pred[idx]}')\n",
    "print(f'svr:    {spread_v_result[idx]}')\n",
    "print(f'result: {result[idx]}')"
   ]
  },
  {
   "cell_type": "code",
   "execution_count": 40,
   "metadata": {},
   "outputs": [
    {
     "data": {
      "text/plain": [
       "tensor(0.0171)"
      ]
     },
     "execution_count": 40,
     "metadata": {},
     "output_type": "execute_result"
    }
   ],
   "source": [
    "winning_percentage = torch.sum(bet == result)/result.size()[0]\n",
    "winning_percentage.float()"
   ]
  },
  {
   "cell_type": "code",
   "execution_count": 41,
   "metadata": {},
   "outputs": [],
   "source": [
    "def predict_betting_wins(pred, spread, result):\n",
    "    '''\n",
    "    predict the percent of the time that you beat vegas in betting\n",
    "    \n",
    "    Paramters\n",
    "    ---------\n",
    "    prediction : torch.tensor\n",
    "        vector of predictions of length (N,) where N is number of games\n",
    "    spread : torch.tensor\n",
    "        vector of vegas spreads of length (N,) where N is number of games\n",
    "    result : torch.tensor\n",
    "        vector of actual game results of length (N,) where N is number of games\n",
    "        \n",
    "    Returns\n",
    "    -------\n",
    "    winning_percentage : float\n",
    "        percent of time that vegas is beat\n",
    "    '''\n",
    "    \n",
    "    spread_v_pred = torch.sign(pred - spread)\n",
    "    print(spread_v_pred[0])\n",
    "    spread_v_result = torch.sign(result - spread)\n",
    "    print(spread_v_result[0])\n",
    "    winning_percentage = torch.sum(spread_v_result == spread_v_pred)/result.size()[0]*100\n",
    "    \n",
    "    return winning_percentage"
   ]
  },
  {
   "cell_type": "code",
   "execution_count": 42,
   "metadata": {},
   "outputs": [
    {
     "name": "stdout",
     "output_type": "stream",
     "text": [
      "tensor(-1., dtype=torch.float64)\n",
      "tensor(1., dtype=torch.float64)\n"
     ]
    }
   ],
   "source": [
    "wp = predict_betting_wins(pred, spread, result)"
   ]
  },
  {
   "cell_type": "code",
   "execution_count": 43,
   "metadata": {},
   "outputs": [
    {
     "data": {
      "text/plain": [
       "tensor(83.0084)"
      ]
     },
     "execution_count": 43,
     "metadata": {},
     "output_type": "execute_result"
    }
   ],
   "source": [
    "wp"
   ]
  },
  {
   "cell_type": "code",
   "execution_count": null,
   "metadata": {},
   "outputs": [],
   "source": []
  }
 ],
 "metadata": {
  "kernelspec": {
   "display_name": "Python 3",
   "language": "python",
   "name": "python3"
  },
  "language_info": {
   "codemirror_mode": {
    "name": "ipython",
    "version": 3
   },
   "file_extension": ".py",
   "mimetype": "text/x-python",
   "name": "python",
   "nbconvert_exporter": "python",
   "pygments_lexer": "ipython3",
   "version": "3.9.1"
  }
 },
 "nbformat": 4,
 "nbformat_minor": 4
}
