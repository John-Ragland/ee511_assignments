{
 "metadata": {
  "language_info": {
   "codemirror_mode": {
    "name": "ipython",
    "version": 3
   },
   "file_extension": ".py",
   "mimetype": "text/x-python",
   "name": "python",
   "nbconvert_exporter": "python",
   "pygments_lexer": "ipython3",
   "version": "3.8.3-final"
  },
  "orig_nbformat": 2,
  "kernelspec": {
   "name": "python3",
   "display_name": "Python 3",
   "language": "python"
  }
 },
 "nbformat": 4,
 "nbformat_minor": 2,
 "cells": [
  {
   "cell_type": "code",
   "execution_count": null,
   "metadata": {},
   "outputs": [],
   "source": [
    "import pandas as pd\n",
    "import numpy as np"
   ]
  },
  {
   "cell_type": "code",
   "execution_count": 54,
   "metadata": {},
   "outputs": [],
   "source": [
    "year = 2020 \n",
    "\n",
    "frames = []\n",
    "df = pd.read_json(('https://api.collegefootballdata.com/games?year=%d&seasonType=both' % year))\n",
    "frames = [df]\n",
    "\n",
    "while year >= 1980:\n",
    "    year -= 1\n",
    "    frames.append(pd.read_json(('https://api.collegefootballdata.com/games?year=%d&seasonType=both' % year)))\n",
    "\n",
    "data = pd.concat(frames)"
   ]
  },
  {
   "source": [
    "https://stackoverflow.com/questions/41463119/join-two-dataframes-on-common-column-in-python"
   ],
   "cell_type": "markdown",
   "metadata": {}
  }
 ]
}