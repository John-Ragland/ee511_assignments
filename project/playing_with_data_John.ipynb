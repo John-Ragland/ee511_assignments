{
 "cells": [
  {
   "cell_type": "code",
   "execution_count": 1,
   "metadata": {},
   "outputs": [],
   "source": [
    "import numpy as np\n",
    "import pandas as pd\n",
    "from matplotlib import pyplot as plt\n",
    "from sklearn.linear_model import LinearRegression\n",
    "from sklearn.metrics import mean_squared_error"
   ]
  },
  {
   "cell_type": "code",
   "execution_count": 2,
   "metadata": {},
   "outputs": [],
   "source": [
    "def get_data(data_type, start_year, end_year=2020):\n",
    "    website = 'https://api.collegefootballdata.com/' + data_type   \n",
    "    frames = [pd.read_json((website + '?year=%d&seasonType=both' % end_year))]\n",
    "    for year in range(start_year, end_year):\n",
    "        frames.append(pd.read_json((website + '?year=%d&seasonType=both' % year)))\n",
    "    return pd.concat(frames)"
   ]
  },
  {
   "cell_type": "code",
   "execution_count": 60,
   "metadata": {},
   "outputs": [],
   "source": [
    "game_stats = get_data('stats/game/advanced',start_year=2019, end_year=2019)\n",
    "game_data = get_data('games',start_year=2004, end_year=2004)"
   ]
  },
  {
   "cell_type": "code",
   "execution_count": 57,
   "metadata": {},
   "outputs": [
    {
     "name": "stdout",
     "output_type": "stream",
     "text": [
      "463\n",
      "724\n"
     ]
    }
   ],
   "source": [
    "print(len(game_stats.gameId.unique()))\n",
    "print(len(game_data.id.unique()))"
   ]
  },
  {
   "cell_type": "code",
   "execution_count": 72,
   "metadata": {},
   "outputs": [
    {
     "data": {
      "text/html": [
       "<div>\n",
       "<style scoped>\n",
       "    .dataframe tbody tr th:only-of-type {\n",
       "        vertical-align: middle;\n",
       "    }\n",
       "\n",
       "    .dataframe tbody tr th {\n",
       "        vertical-align: top;\n",
       "    }\n",
       "\n",
       "    .dataframe thead th {\n",
       "        text-align: right;\n",
       "    }\n",
       "</style>\n",
       "<table border=\"1\" class=\"dataframe\">\n",
       "  <thead>\n",
       "    <tr style=\"text-align: right;\">\n",
       "      <th></th>\n",
       "      <th>gameId</th>\n",
       "      <th>week</th>\n",
       "      <th>team</th>\n",
       "      <th>opponent</th>\n",
       "      <th>offense</th>\n",
       "      <th>defense</th>\n",
       "    </tr>\n",
       "  </thead>\n",
       "  <tbody>\n",
       "    <tr>\n",
       "      <th>4</th>\n",
       "      <td>401110722</td>\n",
       "      <td>1</td>\n",
       "      <td>Auburn</td>\n",
       "      <td>Oregon</td>\n",
       "      <td>{'plays': 75, 'drives': 14, 'ppa': -0.00281675...</td>\n",
       "      <td>{'plays': 66, 'drives': 14, 'ppa': 0.110448852...</td>\n",
       "    </tr>\n",
       "    <tr>\n",
       "      <th>1742</th>\n",
       "      <td>401135287</td>\n",
       "      <td>1</td>\n",
       "      <td>Auburn</td>\n",
       "      <td>Minnesota</td>\n",
       "      <td>{'plays': 52, 'drives': 10, 'ppa': 0.091411066...</td>\n",
       "      <td>{'plays': 69, 'drives': 12, 'ppa': 0.276397055...</td>\n",
       "    </tr>\n",
       "  </tbody>\n",
       "</table>\n",
       "</div>"
      ],
      "text/plain": [
       "         gameId  week    team   opponent  \\\n",
       "4     401110722     1  Auburn     Oregon   \n",
       "1742  401135287     1  Auburn  Minnesota   \n",
       "\n",
       "                                                offense  \\\n",
       "4     {'plays': 75, 'drives': 14, 'ppa': -0.00281675...   \n",
       "1742  {'plays': 52, 'drives': 10, 'ppa': 0.091411066...   \n",
       "\n",
       "                                                defense  \n",
       "4     {'plays': 66, 'drives': 14, 'ppa': 0.110448852...  \n",
       "1742  {'plays': 69, 'drives': 12, 'ppa': 0.276397055...  "
      ]
     },
     "execution_count": 72,
     "metadata": {},
     "output_type": "execute_result"
    }
   ],
   "source": [
    "game_stats[(game_stats['team'] == 'Auburn') & (game_stats['week'] == 1)]"
   ]
  },
  {
   "cell_type": "code",
   "execution_count": null,
   "metadata": {},
   "outputs": [],
   "source": []
  }
 ],
 "metadata": {
  "kernelspec": {
   "display_name": "Python 3",
   "language": "python",
   "name": "python3"
  },
  "language_info": {
   "codemirror_mode": {
    "name": "ipython",
    "version": 3
   },
   "file_extension": ".py",
   "mimetype": "text/x-python",
   "name": "python",
   "nbconvert_exporter": "python",
   "pygments_lexer": "ipython3",
   "version": "3.9.1"
  }
 },
 "nbformat": 4,
 "nbformat_minor": 4
}
