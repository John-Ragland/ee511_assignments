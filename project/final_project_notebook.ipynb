{
  "nbformat": 4,
  "nbformat_minor": 0,
  "metadata": {
    "colab": {
      "name": "EE511_Project.ipynb",
      "provenance": [],
      "collapsed_sections": [],
      "include_colab_link": true
    },
    "kernelspec": {
      "display_name": "Python 3",
      "language": "python",
      "name": "python3"
    },
    "language_info": {
      "codemirror_mode": {
        "name": "ipython",
        "version": 3
      },
      "file_extension": ".py",
      "mimetype": "text/x-python",
      "name": "python",
      "nbconvert_exporter": "python",
      "pygments_lexer": "ipython3",
      "version": "3.8.3-final"
    },
    "accelerator": "GPU"
  },
  "cells": [
    {
      "cell_type": "markdown",
      "metadata": {
        "id": "view-in-github",
        "colab_type": "text"
      },
      "source": [
        "<a href=\"https://colab.research.google.com/github/John-Ragland/ee511_assignments/blob/main/project/final_project_notebook.ipynb\" target=\"_parent\"><img src=\"https://colab.research.google.com/assets/colab-badge.svg\" alt=\"Open In Colab\"/></a>"
      ]
    },
    {
      "cell_type": "markdown",
      "metadata": {
        "id": "vibcOMuPsohz"
      },
      "source": [
        "# Table of Contents\n",
        "* [Setup & Data Retrieval](#set-up)\n",
        "* [Baseline Models](#baseline)\n",
        "  + [Vegas Baseline](#vegas) : Spread RMSE=16.54, Winner acc=75.7%\n",
        "  + [Simple Linear Baseline](#simple-linear) : Spread RMSE=20.5, Winner acc=72.1%\n",
        "* [More Complex Models](#complex-models)\n",
        "  + [Complex Linear Model](#linear-complex) : Spread RMSE=16.66, Winner acc=%75.2\n",
        "  + [L1 Regularization](#l1) : Spread RMSE=23.22, Winner acc=65%\n",
        "  + [Random Forest Model](#random-forest) : Winner acc=76%\n",
        "* [Neural Networks](#nn)\n",
        "  + [Linear NN for Predicting the Spread](#linear-spread-nn) : Spread RMSE=12.45\n",
        "  + [Linear NN for Predicting the Winner](#linear-winner-nn) : Winner acc=83%\n",
        "* [Compare to Vegas](#compare-vegas)\n",
        "* [Summary](#summary)\n",
        "\n"
      ]
    },
    {
      "cell_type": "markdown",
      "metadata": {
        "id": "0iWWUiEstgqs"
      },
      "source": [
        "# Setup the Notebook and Get Data<a name=\"set-up\"></a>"
      ]
    },
    {
      "cell_type": "code",
      "metadata": {
        "id": "HHKM4gIXPMUY"
      },
      "source": [
        "# Suppress Warnings\n",
        "def warn(*args, **kwargs):\n",
        "    pass\n",
        "import warnings\n",
        "warnings.warn = warn\n",
        "\n",
        "import numpy as np\n",
        "import pandas as pd\n",
        "from matplotlib import pyplot as plt\n",
        "from sklearn.linear_model import LinearRegression, Lasso\n",
        "from sklearn.metrics import mean_squared_error\n",
        "from sklearn.preprocessing import OneHotEncoder\n",
        "from sklearn.ensemble import RandomForestClassifier\n",
        "import torch\n",
        "import torch.nn as nn \n",
        "import torch.optim as optim\n",
        "import torch.nn.functional as F\n",
        "from torch.utils.data import TensorDataset, DataLoader\n",
        "from sklearn.model_selection import KFold"
      ],
      "execution_count": 1,
      "outputs": []
    },
    {
      "cell_type": "code",
      "metadata": {
        "id": "4ZFeQkdrPMUe"
      },
      "source": [
        "# look_back = 3 # games\n",
        "def get_data(data_type, start_year, end_year=2020, week=None):\n",
        "    website = 'https://api.collegefootballdata.com/' + data_type\n",
        "    frames = []\n",
        "    for year in range(start_year, end_year+1):\n",
        "        url = website + '?year=%d' % year\n",
        "        if week:\n",
        "          # start = max(week - look_back, 1)\n",
        "          # url += '&startWeek=%d' % start\n",
        "          url += '&endWeek=%d' % week\n",
        "        frames.append(pd.read_json(url))\n",
        "    return pd.concat(frames)"
      ],
      "execution_count": 2,
      "outputs": []
    },
    {
      "cell_type": "code",
      "metadata": {
        "id": "l5tADrqecXas"
      },
      "source": [
        "def get_weekly_stats(start_year):\n",
        "  frames = []\n",
        "  for week in range(1, 16):\n",
        "    week_frame = get_data('stats/season', start_year, week=week)\n",
        "    week_frame['week'] = week+1\n",
        "    frames.append(week_frame)\n",
        "  return pd.concat(frames)"
      ],
      "execution_count": 3,
      "outputs": []
    },
    {
      "cell_type": "code",
      "metadata": {
        "id": "4Lqv3yilW45-"
      },
      "source": [
        "# collect the data\n",
        "begin = 2013\n",
        "original_stats = get_weekly_stats(begin)\n",
        "original_games = get_data('games', begin)\n",
        "original_teams = pd.read_json('https://api.collegefootballdata.com/teams')\n",
        "original_spread = get_data('metrics/wp/pregame', begin)\n",
        "original_rankings = get_data('rankings', begin)"
      ],
      "execution_count": 4,
      "outputs": []
    },
    {
      "cell_type": "code",
      "metadata": {
        "id": "XktiXvr3olJX",
        "colab": {
          "base_uri": "https://localhost:8080/"
        },
        "outputId": "3324f138-6322-448c-cab6-4c4e14ef2941"
      },
      "source": [
        "# get the games and calculate spread (result)\n",
        "games = original_games\n",
        "games = games.assign(result = (games.home_points-games.away_points))\n",
        "games = games.loc[:, games.columns.intersection(['id', 'season', 'week', 'home_team', 'away_team', 'result', 'excitement_index'])]\n",
        "\n",
        "# add pregame predictions\n",
        "spreads = original_spread.loc[:, original_spread.columns.intersection(['gameId', 'spread', 'homeWinProb'])]\n",
        "spreads.spread *= -1\n",
        "games = pd.merge(games, spreads, how='left', left_on=['id'], right_on=['gameId']).drop(['gameId'], axis=1)\n",
        "\n",
        "# get the list of stats\n",
        "stats = original_stats\n",
        "stats = stats.drop(columns=['conference'])\n",
        "w = stats.loc[(stats.team == 'Washington') & (stats.season == begin)]\n",
        "stat_cols = w.statName.to_list()\n",
        "stat_cols = list(set(stat_cols)) # remove duplicates\n",
        "stat_cols.sort()\n",
        "stat_cols.remove('games')\n",
        "print(stat_cols)\n",
        "\n",
        "# add each stat of both teams\n",
        "s = stats.loc[(stats.statName == 'games')]\n",
        "s = s.drop(columns=['statName'])\n",
        "games = pd.merge(games, s.rename(columns={'statValue': 'home_games'}), how='left', left_on=['season', 'home_team', 'week'], right_on=['season', 'team', 'week']).drop(['team'], axis=1)\n",
        "games = pd.merge(games, s.rename(columns={'statValue': 'away_games'}), how='left', left_on=['season', 'away_team', 'week'], right_on=['season', 'team', 'week']).drop(['team'], axis=1)\n",
        "\n",
        "for stat in stat_cols:\n",
        "  s = stats.loc[(stats.statName == stat)]\n",
        "  s = s.drop(columns=['statName'])\n",
        "  games = pd.merge(games, s.rename(columns={'statValue': 'home_'+stat}), how='left', left_on=['season', 'home_team', 'week'], right_on=['season', 'team', 'week']).drop(['team'], axis=1)\n",
        "  games = pd.merge(games, s.rename(columns={'statValue': 'away_'+stat}), how='left', left_on=['season', 'away_team', 'week'], right_on=['season', 'team', 'week']).drop(['team'], axis=1)\n",
        "  games = games.fillna(0)\n",
        "  games[stat] = (games['home_'+stat]/games.home_games) - (games['away_'+stat]/games.away_games)\n",
        "  games = games.drop(columns=['home_'+stat, 'away_'+stat])\n",
        "\n",
        "games = games.fillna(0)"
      ],
      "execution_count": 5,
      "outputs": [
        {
          "output_type": "stream",
          "text": [
            "['firstDowns', 'fourthDownConversions', 'fourthDowns', 'fumblesLost', 'fumblesRecovered', 'interceptionTDs', 'interceptionYards', 'interceptions', 'kickReturnTDs', 'kickReturnYards', 'kickReturns', 'netPassingYards', 'passAttempts', 'passCompletions', 'passesIntercepted', 'passingTDs', 'penalties', 'penaltyYards', 'possessionTime', 'puntReturnTDs', 'puntReturnYards', 'puntReturns', 'rushingAttempts', 'rushingTDs', 'rushingYards', 'thirdDownConversions', 'thirdDowns', 'totalYards', 'turnovers']\n"
          ],
          "name": "stdout"
        }
      ]
    },
    {
      "cell_type": "code",
      "metadata": {
        "id": "HGMQRCUjLlvN"
      },
      "source": [
        "# create the table for total points a team scored for and against before a given week\n",
        "points_per_game = original_teams.loc[:, original_teams.columns.intersection(['school'])]\n",
        "points_per_game['year'] = 2020\n",
        "one_season = points_per_game.copy()\n",
        "for year in range(2004, 2020):\n",
        "  temp = one_season.copy()\n",
        "  temp['year'] = year\n",
        "  points_per_game = pd.concat([points_per_game, temp], ignore_index=True)\n",
        "\n",
        "points_per_game[('points_for_week1')] = 0.0\n",
        "points_per_game[('points_against_week1')] = 0.0\n",
        "scores = original_games.loc[:, original_games.columns.intersection(['season', 'week', 'home_team', 'away_team', 'home_points', 'away_points'])]\n",
        "scores['week'] += 1\n",
        "for week in range(2, 16):\n",
        "  this_scores = scores.loc[scores.week == week]\n",
        "  this_scores = this_scores.rename(columns={'home_points': ('points_for_week%d' % week), 'away_points': ('points_against_week%d' % week)})\n",
        "  points_per_game = pd.merge(points_per_game, this_scores, how='left', left_on=['school', 'year'], right_on=['home_team', 'season']).drop(['home_team', 'away_team', 'season', 'week'], axis=1)\n",
        "  this_scores = scores.loc[scores.week == week]\n",
        "  this_scores = this_scores.rename(columns={'away_points': ('points_for_week%d' % week), 'home_points': ('points_against_week%d' % week)})\n",
        "  points_per_game = pd.merge(points_per_game, this_scores, how='left', left_on=['school', 'year'], right_on=['away_team', 'season']).drop(['home_team', 'away_team', 'season', 'week'], axis=1)\n",
        "  points_per_game = points_per_game.fillna(0)\n",
        "  points_per_game[('points_for_week%d' % week)] = points_per_game[('points_for_week%d_x' % week)] + points_per_game[('points_for_week%d_y' % week)]\n",
        "  points_per_game[('points_against_week%d' % week)] = points_per_game[('points_against_week%d_x' % week)] + points_per_game[('points_against_week%d_y' % week)]\n",
        "  points_per_game = points_per_game.drop(columns=[('points_for_week%d_x' % week), ('points_for_week%d_y' % week), ('points_against_week%d_x' % week), ('points_against_week%d_y' % week)])\n",
        "\n",
        "for week in range(2, 16):\n",
        "  points_per_game[('points_for_week%d' % week)] += points_per_game[('points_for_week%d' % (week-1))]\n",
        "  points_per_game[('points_against_week%d' % week)] += points_per_game[('points_against_week%d' % (week-1))]\n",
        "\n",
        "for week in range(1,16):\n",
        "  points = points_per_game.loc[:, points_per_game.columns.intersection(['year', 'school', ('points_for_week%d' % week), ('points_against_week%d' % week)])]\n",
        "  points = points.rename(columns={('points_for_week%d' % week): 'home_for', ('points_against_week%d' % week): 'home_against'})\n",
        "  points['week'] = week\n",
        "  games = pd.merge(games, points, how='left', left_on=['home_team', 'season', 'week'], right_on=['school', 'year', 'week']).drop(['school', 'year'], axis=1)\n",
        "  points = points.rename(columns={'home_for': 'away_for', 'home_against': 'away_against'})\n",
        "  games = pd.merge(games, points, how='left', left_on=['away_team', 'season', 'week'], right_on=['school', 'year', 'week']).drop(['school', 'year'], axis=1)\n",
        "  if (week > 1):\n",
        "    games['home_for'] = games['home_for_x'].fillna(0) + games['home_for_y'].fillna(0)\n",
        "    games['home_against'] = games['home_against_x'].fillna(0) + games['home_against_y'].fillna(0)\n",
        "    games['away_for'] = games['away_for_x'].fillna(0) + games['away_for_y'].fillna(0)\n",
        "    games['away_against'] = games['away_against_x'].fillna(0) + games['away_against_y'].fillna(0)\n",
        "    games = games.drop(columns=['home_for_x', 'home_for_y', 'home_against_x', 'home_against_y', 'away_for_x', 'away_for_y', 'away_against_x', 'away_against_y'])\n",
        "\n",
        "games['home_for'] /= games['home_games']\n",
        "games['home_against'] /= games['home_games']\n",
        "games['away_for'] /= games['away_games']\n",
        "games['away_against'] /= games['away_games']\n",
        "games = games.fillna(0)\n",
        "\n",
        "# points_per_game.loc[points_per_game.school == 'Washington']"
      ],
      "execution_count": 6,
      "outputs": []
    },
    {
      "cell_type": "code",
      "metadata": {
        "id": "mO5O5r2aZie9"
      },
      "source": [
        "# add ap-top 25 rankings for each team, -1 if not ranked\n",
        "rankings = original_rankings.drop(columns = ['seasonType'])\n",
        "rankings['rank1_name'] = [d[0].get('poll') for d in rankings.polls]\n",
        "rankings['rank1_ranks'] = [d[0].get('ranks') for d in rankings.polls]\n",
        "rankings['rank2_name'] = [d[1].get('poll') for d in rankings.polls]\n",
        "rankings['rank2_ranks'] = [d[1].get('ranks') for d in rankings.polls]\n",
        "rankings.loc[rankings['rank1_name'] == 'AP Top 25', 'ap'] = rankings.loc[rankings['rank1_name'] == 'AP Top 25'].rank1_ranks\n",
        "rankings.loc[rankings['rank2_name'] == 'AP Top 25', 'ap'] = rankings.loc[rankings['rank2_name'] == 'AP Top 25'].rank2_ranks\n",
        "rankings = rankings.drop(columns=['rank1_name', 'rank2_name', 'rank1_ranks', 'rank2_ranks', 'polls'])\n",
        "rankings = rankings.reset_index(drop=True)\n",
        "rankings = rankings.explode('ap').reset_index(drop=True)\n",
        "rankings['school'] = [d.get('school') for d in rankings.ap]\n",
        "rankings['rank'] = [d.get('rank') for d in rankings.ap]\n",
        "rankings = rankings.drop(columns=['ap'])\n",
        "games = pd.merge(games, rankings.rename(columns={'rank': 'home_rank'}), how='left', left_on=['season', 'week', 'home_team'], right_on=['season', 'week', 'school']).drop(['school'], axis=1)\n",
        "games = pd.merge(games, rankings.rename(columns={'rank': 'away_rank'}), how='left', left_on=['season', 'week', 'away_team'], right_on=['season', 'week', 'school']).drop(['school'], axis=1)\n",
        "games = games.fillna(-1)\n"
      ],
      "execution_count": 7,
      "outputs": []
    },
    {
      "cell_type": "code",
      "metadata": {
        "id": "URAp-fVEA8Rn"
      },
      "source": [
        "# Add record up to game\n",
        "# Create list of teams\n",
        "teams = pd.concat((games['home_team'], games['away_team'])).unique()\n",
        "\n",
        "# Create Team ID\n",
        "team_id = np.arange(0,len(teams))\n",
        "team2id = dict(zip(teams, team_id))\n",
        "\n",
        "num_seasons = len(games['season'].unique())\n",
        "season2id = dict(zip(games['season'].unique(), np.arange(0,num_seasons)))\n",
        "# Create Wins Lookup Table\n",
        "win_data = np.zeros((num_seasons, len(teams),17))\n",
        "#print(win_data.shape) #(season, team, week)\n",
        "\n",
        "# loop through every game in games df\n",
        "for k in range(len(games)):\n",
        "  home_team = games['home_team'][k]\n",
        "  away_team = games['away_team'][k]\n",
        "  result = np.sign(games['result'][k])\n",
        "  week = games['week'][k]\n",
        "  season = games['season'][k]\n",
        "  \n",
        "  home_id = team2id[home_team]\n",
        "  away_id = team2id[away_team]\n",
        "  seas_id = season2id[season]\n",
        "  if result == 1: # Home team won\n",
        "      win_data[seas_id, home_id, (week+1):] += 1\n",
        "  else: # Away team won\n",
        "      win_data[seas_id, away_id, (week+1):] += 1\n",
        "\n",
        "# populate games df\n",
        "away_wins = []\n",
        "home_wins = []\n",
        "for k in range(len(games)):\n",
        "    week = games['week'][k]\n",
        "    home = games['home_team'][k]\n",
        "    away = games['away_team'][k]\n",
        "    season = games['season'][k]\n",
        "    away_wins.append(win_data[season2id[season],team2id[away],week])\n",
        "    home_wins.append(win_data[season2id[season],team2id[home],week])\n",
        "    \n",
        "games['home_wins'] = home_wins/games.home_games\n",
        "games['away_wins'] = away_wins/games.away_games\n",
        "games = games.fillna(0)\n",
        "games.replace(np.inf, 0, inplace=True)\n",
        "games.replace(-np.inf, 0, inplace=True)\n",
        "games['win_difference'] = games['home_wins'] - games['away_wins']\n",
        "games = games.drop(columns=['home_wins', 'away_wins'])"
      ],
      "execution_count": 8,
      "outputs": []
    },
    {
      "cell_type": "code",
      "metadata": {
        "id": "CWDx2UKm02LE"
      },
      "source": [
        "def split_data(val_season=2018, test_season=2019):\n",
        "  games_copy = games.copy()\n",
        "  games_copy = games_copy.drop(columns=['id', 'home_team', 'away_team'])\n",
        "  games_copy = games_copy.fillna(0)\n",
        "  \n",
        "  test = games_copy.loc[games_copy.season == test_season]\n",
        "  test = test.drop(columns=['season'])\n",
        "  if val_season:\n",
        "    valid = games_copy.loc[games_copy.season == val_season]\n",
        "    valid = valid.drop(columns=['season'])\n",
        "    train = games_copy.loc[(games_copy.season != val_season) & (games_copy.season != test_season)]\n",
        "    train = train.drop(columns=['season'])\n",
        "    return train, valid, test\n",
        "  else:\n",
        "    train = games_copy.loc[games_copy.season != test_season]\n",
        "    train = train.drop(columns=['season'])\n",
        "    return train, test"
      ],
      "execution_count": 9,
      "outputs": []
    },
    {
      "cell_type": "code",
      "metadata": {
        "id": "4HHeYhQuwkEj",
        "colab": {
          "base_uri": "https://localhost:8080/"
        },
        "outputId": "407a521b-1a8e-43de-d22a-3f934550ab43"
      },
      "source": [
        "torch.manual_seed(0)\n",
        "gpu = torch.cuda.is_available()\n",
        "if gpu:\n",
        "  device = torch.device('cuda')\n",
        "else:\n",
        "  device = torch.device('cpu')\n",
        "\n",
        "print('Using device', device)"
      ],
      "execution_count": 10,
      "outputs": [
        {
          "output_type": "stream",
          "text": [
            "Using device cuda\n"
          ],
          "name": "stdout"
        }
      ]
    },
    {
      "cell_type": "code",
      "metadata": {
        "id": "2yJhCvsS7Faw"
      },
      "source": [
        "# Getting Spread Result Vector\n",
        "spread_winner_vector = (np.sign((games['spread'] - games['result']).to_numpy())+1)/2\n",
        "spread_winner = np.zeros((spread_winner_vector.shape[0],2))\n",
        "\n",
        "for k in range(len(spread_winner_vector)):  \n",
        "  if spread_winner_vector[k] == 0:\n",
        "    spread_winner[k,0] = 1\n",
        "  else:\n",
        "    spread_winner[k,1]=1"
      ],
      "execution_count": 224,
      "outputs": []
    },
    {
      "cell_type": "markdown",
      "metadata": {
        "id": "U9wuveVtsO-L"
      },
      "source": [
        "# Baseline Models<a name=\"baseline\"></a>"
      ]
    },
    {
      "cell_type": "markdown",
      "metadata": {
        "id": "MewJ9jzs6oYm"
      },
      "source": [
        "## Vegas Spread Results<a name=\"vegas\"></a>"
      ]
    },
    {
      "cell_type": "code",
      "metadata": {
        "colab": {
          "base_uri": "https://localhost:8080/"
        },
        "id": "KzJNzK9-uGAd",
        "outputId": "8ce804fd-43d1-4d75-f04f-5d3233634509"
      },
      "source": [
        "games_copy = games.copy()\n",
        "vegas_in = games_copy.spread.to_numpy()\n",
        "vegas_out = games_copy.result.to_numpy()\n",
        "\n",
        "print('Vegas spread RMSE = %.2f points' % mean_squared_error(vegas_in, vegas_out, squared=False))\n",
        "\n",
        "vegas_pred = vegas_in\n",
        "vegas_pred[vegas_pred>0] = 1 # home win\n",
        "vegas_pred[vegas_pred<0] = 0 # away win\n",
        "\n",
        "truth = vegas_out\n",
        "truth[truth>0] =  1\n",
        "truth[truth<0] = 0\n",
        "\n",
        "print('Game winner accuracy = %.3f%%' % ((np.sum(vegas_pred==truth) / len(truth))*100.0))"
      ],
      "execution_count": 11,
      "outputs": [
        {
          "output_type": "stream",
          "text": [
            "Vegas spread RMSE = 16.54 points\n",
            "Game winner accuracy = 75.742%\n"
          ],
          "name": "stdout"
        }
      ]
    },
    {
      "cell_type": "markdown",
      "metadata": {
        "id": "f94XS4VVXUET"
      },
      "source": [
        "## Simple linear baseline model<a name=\"simple-linear\"></a>"
      ]
    },
    {
      "cell_type": "code",
      "metadata": {
        "id": "DWqxzx_ST-Ej"
      },
      "source": [
        "train, test = split_data(val_season=None) # no need for validation in this model\n",
        "train_in = train.win_difference\n",
        "train_out = train.result\n",
        "\n",
        "train_in = train.win_difference.to_numpy()\n",
        "train_out = train.result.to_numpy()\n",
        "test_in = test.win_difference.to_numpy()\n",
        "test_out = test.result.to_numpy()\n",
        "baseline_model = LinearRegression().fit(train_in.reshape(-1, 1), train_out)"
      ],
      "execution_count": 12,
      "outputs": []
    },
    {
      "cell_type": "code",
      "metadata": {
        "colab": {
          "base_uri": "https://localhost:8080/",
          "height": 0
        },
        "id": "qLLFds6-PMUo",
        "outputId": "97317fe7-c3ed-4d0f-9b41-271f51149709"
      },
      "source": [
        "x = np.linspace(-1, 1, 500)\n",
        "y = baseline_model.coef_ * x + baseline_model.intercept_\n",
        "y = baseline_model.predict(x.reshape(-1, 1))\n",
        "\n",
        "plt.xlabel('win percentage difference')\n",
        "plt.ylabel('game result')\n",
        "plt.plot(train_in, train_out, '.', color='black')\n",
        "plt.plot(x, y, '-r', label=\"f(x) = %.3fx + %.3f\" % (baseline_model.coef_, baseline_model.intercept_))\n",
        "plt.legend()\n",
        "plt.grid()\n",
        "\n",
        "prediction = baseline_model.predict(test_in.reshape(-1, 1))\n",
        "print('Spread RMSE = %.2f points' % mean_squared_error(test_out, prediction, squared=False))\n",
        "\n",
        "temp_pred = prediction\n",
        "temp_pred[temp_pred>0] = 1\n",
        "temp_pred[temp_pred<0] = 0\n",
        "\n",
        "temp_tru = test_out\n",
        "temp_tru[temp_tru>0] = 1\n",
        "temp_tru[temp_tru<0] = 0\n",
        "\n",
        "print('Game winner accuracy = %.3f%%' % ((np.sum(temp_pred==temp_tru) / len(temp_tru))*100.0))"
      ],
      "execution_count": 13,
      "outputs": [
        {
          "output_type": "stream",
          "text": [
            "Spread RMSE = 20.53 points\n",
            "Game winner accuracy = 72.052%\n"
          ],
          "name": "stdout"
        },
        {
          "output_type": "display_data",
          "data": {
            "image/png": "[encoded data removed]",
            "text/plain": [
              "<Figure size 432x288 with 1 Axes>"
            ]
          },
          "metadata": {
            "tags": [],
            "needs_background": "light"
          }
        }
      ]
    },
    {
      "cell_type": "markdown",
      "metadata": {
        "id": "Q58rFM-zu6_d"
      },
      "source": [
        "# More Complex Models<a name=\"complex-models\"></a>"
      ]
    },
    {
      "cell_type": "markdown",
      "metadata": {
        "id": "Kyjyl17aXMdM"
      },
      "source": [
        "## Linear model with more features<a name=\"linear-complex\"></a>"
      ]
    },
    {
      "cell_type": "code",
      "metadata": {
        "id": "yeguM4J2UMu7"
      },
      "source": [
        "train, valid, test = split_data()\n",
        "\n",
        "train_in = train.drop(columns=['result'])\n",
        "train_out = train.result\n",
        "valid_in = valid.drop(columns=['result'])\n",
        "valid_out = valid.result\n",
        "test_in = test.drop(columns=['result'])\n",
        "test_out = test.result"
      ],
      "execution_count": 14,
      "outputs": []
    },
    {
      "cell_type": "code",
      "metadata": {
        "colab": {
          "base_uri": "https://localhost:8080/"
        },
        "id": "R6lVGQ7Sbxhd",
        "outputId": "06379fdc-8c83-4c0d-e321-366bf96b628f"
      },
      "source": [
        "model = LinearRegression().fit(train_in, train_out)\n",
        "prediction = model.predict(test_in)\n",
        "print('Spread RMSE = %.2f points' % mean_squared_error(test_out, prediction, squared=False))\n",
        "\n",
        "temp_pred = prediction\n",
        "temp_pred[temp_pred>0] = 1\n",
        "temp_pred[temp_pred<0] = 0\n",
        "\n",
        "temp_tru = test_out\n",
        "temp_tru[temp_tru>0] = 1\n",
        "temp_tru[temp_tru<0] = 0\n",
        "\n",
        "print('Game winner accuracy = %.3f%%' % ((np.sum(temp_pred==temp_tru) / len(temp_tru))*100.0))"
      ],
      "execution_count": 15,
      "outputs": [
        {
          "output_type": "stream",
          "text": [
            "Spread RMSE = 15.47 points\n",
            "Game winner accuracy = 77.712%\n"
          ],
          "name": "stdout"
        }
      ]
    },
    {
      "cell_type": "markdown",
      "metadata": {
        "id": "wY4oyKInPsV0"
      },
      "source": [
        "## Linear model with L1 Regularization<a name=\"l1\"></a>"
      ]
    },
    {
      "cell_type": "code",
      "metadata": {
        "id": "3mXkTG44LX3C"
      },
      "source": [
        "alphas = np.linspace(0,600,50)\n",
        "kf = KFold(n_splits=10, shuffle=True, random_state=42)\n",
        "mse_valid = []\n",
        "mse_train = []\n",
        "num_nonzero = []\n",
        "\n",
        "for alpha in alphas:\n",
        "    large_model_lasso = Lasso(alpha=alpha, random_state=77)\n",
        "    mse_kfold = []\n",
        "    # Iterate through all folds\n",
        "    for train_index, test_index in kf.split(train_in):        \n",
        "        large_model_lasso.fit(train_in.iloc[train_index], train_out.iloc[train_index])\n",
        "        kf_test_pred = large_model_lasso.predict(train_in.iloc[test_index])\n",
        "        error = mean_squared_error(train_out.iloc[test_index], kf_test_pred, squared=False)\n",
        "        mse_kfold.append(error)\n",
        "\n",
        "    # count number of nonzero coefficients\n",
        "    num_nonzero.append(np.sum(large_model_lasso.coef_ != 0))\n",
        "    \n",
        "    # create error arrays\n",
        "    mse_train.append(np.mean(mse_kfold))\n",
        "    large_model_lasso.fit(train_in, train_out)\n",
        "    pred_valid = large_model_lasso.predict(valid_in)\n",
        "    mse_valid.append(mean_squared_error(valid_out, pred_valid, squared=False))"
      ],
      "execution_count": 16,
      "outputs": []
    },
    {
      "cell_type": "code",
      "metadata": {
        "colab": {
          "base_uri": "https://localhost:8080/",
          "height": 0
        },
        "id": "iIihisD7NStN",
        "outputId": "2c247dd5-dba6-422e-9cff-b92273f7c45e"
      },
      "source": [
        "best_alpha = alphas[np.argmin(mse_valid)]\n",
        "print('Optimum Alpha at %.2f' % best_alpha)\n",
        "print('Optimum Alpha Validation RMSE: %.2f points' % np.min(mse_valid))\n",
        "\n",
        "plt.plot(alphas,mse_valid, linewidth=3)\n",
        "plt.plot(alphas,mse_train, linewidth=3)\n",
        "plt.plot(best_alpha,np.min(mse_valid),'r.',markersize=10)\n",
        "plt.plot(alphas[np.argmin(mse_train)],np.min(mse_train),'r.',markersize=10)\n",
        "\n",
        "plt.legend(['RMSE for Validation Set','RMSE for Validation Fold of Training Set'])\n",
        "plt.xlabel('α')\n",
        "plt.ylabel('Root Mean Square Error (points)')\n",
        "plt.title('RMSE vs. Regularization Constant (L1)')\n",
        "plt.grid()\n",
        "plt.ylim([0, 50])"
      ],
      "execution_count": 17,
      "outputs": [
        {
          "output_type": "stream",
          "text": [
            "Optimum Alpha at 0.00\n",
            "Optimum Alpha Validation RMSE: 16.66 points\n"
          ],
          "name": "stdout"
        },
        {
          "output_type": "execute_result",
          "data": {
            "text/plain": [
              "(0.0, 50.0)"
            ]
          },
          "metadata": {
            "tags": []
          },
          "execution_count": 17
        },
        {
          "output_type": "display_data",
          "data": {
            "image/png": "[encoded data removed]",
            "text/plain": [
              "<Figure size 432x288 with 1 Axes>"
            ]
          },
          "metadata": {
            "tags": [],
            "needs_background": "light"
          }
        }
      ]
    },
    {
      "cell_type": "code",
      "metadata": {
        "colab": {
          "base_uri": "https://localhost:8080/"
        },
        "id": "pBwPUhDaOpJe",
        "outputId": "79a9ec6c-e0f4-4135-fe19-68d121e1fd0e"
      },
      "source": [
        "lasso_model = Lasso(alpha=best_alpha, random_state=77)\n",
        "lasso_model.fit(train_in, train_out)\n",
        "prediction = lasso_model.predict(test_in)\n",
        "print('Spread RMSE = %.2f points' % mean_squared_error(test_out, prediction, squared=False))\n",
        "\n",
        "temp_pred = prediction\n",
        "temp_pred[temp_pred>0] = 1\n",
        "temp_pred[temp_pred<0] = 0\n",
        "\n",
        "temp_tru = test_out\n",
        "temp_tru[temp_tru>0] = 1\n",
        "temp_tru[temp_tru<0] = 0\n",
        "\n",
        "print('Game winner accuracy = %.3f%%' % ((np.sum(temp_pred==temp_tru) / len(temp_tru))*100.0))"
      ],
      "execution_count": 18,
      "outputs": [
        {
          "output_type": "stream",
          "text": [
            "Spread RMSE = 18.35 points\n",
            "Game winner accuracy = 77.476%\n"
          ],
          "name": "stdout"
        }
      ]
    },
    {
      "cell_type": "markdown",
      "metadata": {
        "id": "CPOwNqTSxrlq"
      },
      "source": [
        "## Random Forest<a name=\"random-forest\"></a>"
      ]
    },
    {
      "cell_type": "code",
      "metadata": {
        "id": "oCaOKZfnB4XW"
      },
      "source": [
        "train, valid, test = split_data()\n",
        "\n",
        "train_in = train.drop(columns=['result'])\n",
        "train_out = train.result\n",
        "valid_in = valid.drop(columns=['result'])\n",
        "valid_out = valid.result\n",
        "test_in = test.drop(columns=['result'])\n",
        "test_out = test.result\n",
        "\n",
        "train_out_winner = train_out\n",
        "train_out_winner[train_out_winner>0] = 1\n",
        "train_out_winner[train_out_winner<0] = 0\n",
        "\n",
        "valid_out_winner = valid_out\n",
        "valid_out_winner[valid_out_winner>0] = 1\n",
        "valid_out_winner[valid_out_winner<0] = 0\n",
        "\n",
        "test_out_winner = test_out\n",
        "test_out_winner[test_out_winner>0] = 1\n",
        "test_out_winner[test_out_winner<0] = 0"
      ],
      "execution_count": 19,
      "outputs": []
    },
    {
      "cell_type": "code",
      "metadata": {
        "colab": {
          "base_uri": "https://localhost:8080/"
        },
        "id": "Hl4lGZvhFh4K",
        "outputId": "e72b9a5b-efac-4e77-c25d-547baef86c29"
      },
      "source": [
        "best_depth = 0\n",
        "best_acc = 0\n",
        "for depth in range(1, 30, 2):\n",
        "  random_model = RandomForestClassifier(max_depth=depth, random_state=0)\n",
        "  random_model.fit(train_in, train_out_winner)\n",
        "  acc = (np.sum(random_model.predict(valid_in)==valid_out_winner) / len(valid_out_winner))*100.0\n",
        "  print('Max Depth: %d \\t Accuracy: %.2f' % (depth, acc))\n",
        "  if acc > best_acc:\n",
        "    best_acc = acc\n",
        "    best_depth = depth\n",
        "  \n",
        "print('Best Max Depth: %d' % best_depth)"
      ],
      "execution_count": 20,
      "outputs": [
        {
          "output_type": "stream",
          "text": [
            "Max Depth: 1 \t Accuracy: 71.38\n",
            "Max Depth: 3 \t Accuracy: 75.86\n",
            "Max Depth: 5 \t Accuracy: 76.55\n",
            "Max Depth: 7 \t Accuracy: 75.52\n",
            "Max Depth: 9 \t Accuracy: 75.98\n",
            "Max Depth: 11 \t Accuracy: 75.52\n",
            "Max Depth: 13 \t Accuracy: 75.75\n",
            "Max Depth: 15 \t Accuracy: 76.09\n",
            "Max Depth: 17 \t Accuracy: 76.44\n",
            "Max Depth: 19 \t Accuracy: 77.47\n",
            "Max Depth: 21 \t Accuracy: 75.75\n",
            "Max Depth: 23 \t Accuracy: 76.32\n",
            "Max Depth: 25 \t Accuracy: 75.63\n",
            "Max Depth: 27 \t Accuracy: 75.86\n",
            "Max Depth: 29 \t Accuracy: 75.98\n",
            "Best Max Depth: 19\n"
          ],
          "name": "stdout"
        }
      ]
    },
    {
      "cell_type": "code",
      "metadata": {
        "colab": {
          "base_uri": "https://localhost:8080/",
          "height": 0
        },
        "id": "1yijoOaTx_Ej",
        "outputId": "480f5d68-6b54-4087-8021-9917ec2221af"
      },
      "source": [
        "MAX_DEPTH = 9\n",
        "random_model = RandomForestClassifier(max_depth=MAX_DEPTH, random_state=0)\n",
        "random_model.fit(train_in, train_out_winner)\n",
        "\n",
        "acc = []\n",
        "for week in range(1, 16):\n",
        "  t = test.loc[(test.week == week)]\n",
        "  t_in = t.drop(columns=['result'])\n",
        "  t_out = t.result\n",
        "  t_out[t_out>0] = 1\n",
        "  t_out[t_out<0] = 0\n",
        "  acc.append((np.sum(random_model.predict(t_in)==t_out) / len(t_out))*100.0)\n",
        "\n",
        "plt.plot(range(1, 16), acc)\n",
        "plt.xlabel('Week')\n",
        "plt.ylabel('% of winners predicted correctly')\n",
        "plt.title('Accuracy by Week on Test Data (2019)')\n",
        "print('Overall game winner accuracy = %.3f%%' % ((np.sum(random_model.predict(test_in)==test_out_winner) / len(test_out_winner))*100.0))"
      ],
      "execution_count": 21,
      "outputs": [
        {
          "output_type": "stream",
          "text": [
            "Overall game winner accuracy = 78.656%\n"
          ],
          "name": "stdout"
        },
        {
          "output_type": "display_data",
          "data": {
            "image/png": "[encoded data removed]",
            "text/plain": [
              "<Figure size 432x288 with 1 Axes>"
            ]
          },
          "metadata": {
            "tags": [],
            "needs_background": "light"
          }
        }
      ]
    },
    {
      "cell_type": "markdown",
      "metadata": {
        "id": "-hLTPwW5gcWg"
      },
      "source": [
        "Our model does better as weeks progress. <br>\n",
        "The reason accuracy is really high the first few weeks is because the first 3-4 weeks of every college football season is full of out-of-conference games where really good teams play really bad teams and it's often easy to predict the outcome because of that.<br>\n",
        "As in-conference games start around week 4, our model accuracy goes down. Since those games are with teams of closer strengths."
      ]
    },
    {
      "cell_type": "markdown",
      "metadata": {
        "id": "PnEjonbLv8sY"
      },
      "source": [
        "# Neural Networks<a name=\"nn\"></a>"
      ]
    },
    {
      "cell_type": "markdown",
      "metadata": {
        "id": "TGLnUB0-q_0J"
      },
      "source": [
        "## John's Neural Net"
      ]
    },
    {
      "cell_type": "code",
      "metadata": {
        "id": "K67FJgS5rXs6"
      },
      "source": [
        "BATCH_SIZE = 200\n",
        "EPOCHS = 100\n",
        "LEARNING_RATE = 0.005"
      ],
      "execution_count": 370,
      "outputs": []
    },
    {
      "cell_type": "code",
      "metadata": {
        "id": "SjTCrO_LDTKp",
        "outputId": "969added-f0fe-4063-eb00-571337b8a00c",
        "colab": {
          "base_uri": "https://localhost:8080/",
          "height": 232
        }
      },
      "source": [
        "# Add Spread Winner Category\n",
        "def spread_winner(df):\n",
        "  df_out = (np.sign((df['spread'] - df['result']).to_numpy())+1)/2\n",
        "  return df_out\n",
        "\n",
        "# Setup the data\n",
        "train, valid, test = split_data()\n",
        "\n",
        "train_in = train.drop(columns=['result'])\n",
        "valid_in = valid.drop(columns=['result'])\n",
        "test_in = test.drop(columns=['result'])\n",
        "\n",
        "train_out = spread_winner(train)\n",
        "valid_out = spread_winner(valid)\n",
        "test_out = spread_winner(test)\n",
        "\n",
        "train_out_winner = train_out\n",
        "train_out_winner[train_out_winner>0] = 1\n",
        "train_out_winner[train_out_winner<0] = 0\n",
        "\n",
        "valid_out_winner = valid_out\n",
        "valid_out_winner[valid_out_winner>0] = 1\n",
        "valid_out_winner[valid_out_winner<0] = 0\n",
        "\n",
        "test_out_winner = test_out\n",
        "test_out_winner[test_out_winner>0] = 1\n",
        "test_out_winner[test_out_winner<0] = 0\n",
        "\n",
        "data_train_vals = torch.tensor(train_in.to_numpy(), dtype=torch.float, device=device)\n",
        "data_train_labels = torch.tensor(train_out_winner.to_numpy(), dtype=torch.long, device=device)\n",
        "data_train = TensorDataset(data_train_vals, data_train_labels)\n",
        "train_loader = DataLoader(dataset = data_train, batch_size = BATCH_SIZE, shuffle = True) \n",
        "\n",
        "data_valid_vals = torch.tensor(valid_in.to_numpy(), dtype=torch.float, device=device)\n",
        "data_valid_labels = torch.tensor(valid_out_winner.to_numpy(), dtype=torch.long, device=device)\n",
        "data_valid = TensorDataset(data_valid_vals, data_valid_labels)\n",
        "valid_loader = DataLoader(dataset = data_valid, batch_size = BATCH_SIZE,  shuffle = False)\n",
        "\n",
        "data_test_vals = torch.tensor(test_in.to_numpy(), dtype=torch.float, device=device)\n",
        "data_test_labels = torch.tensor(test_out_winner.to_numpy(), dtype=torch.long, device=device)\n",
        "data_test = TensorDataset(data_test_vals, data_test_labels)\n",
        "test_loader = DataLoader(dataset = data_test, batch_size = BATCH_SIZE,  shuffle = False)"
      ],
      "execution_count": 374,
      "outputs": [
        {
          "output_type": "error",
          "ename": "RuntimeError",
          "evalue": "ignored",
          "traceback": [
            "\u001b[0;31m---------------------------------------------------------------------------\u001b[0m",
            "\u001b[0;31mRuntimeError\u001b[0m                              Traceback (most recent call last)",
            "\u001b[0;32m<ipython-input-374-08a343aa6d10>\u001b[0m in \u001b[0;36m<module>\u001b[0;34m()\u001b[0m\n\u001b[1;32m     27\u001b[0m \u001b[0mtest_out_winner\u001b[0m\u001b[0;34m[\u001b[0m\u001b[0mtest_out_winner\u001b[0m\u001b[0;34m<\u001b[0m\u001b[0;36m0\u001b[0m\u001b[0;34m]\u001b[0m \u001b[0;34m=\u001b[0m \u001b[0;36m0\u001b[0m\u001b[0;34m\u001b[0m\u001b[0;34m\u001b[0m\u001b[0m\n\u001b[1;32m     28\u001b[0m \u001b[0;34m\u001b[0m\u001b[0m\n\u001b[0;32m---> 29\u001b[0;31m \u001b[0mdata_train_vals\u001b[0m \u001b[0;34m=\u001b[0m \u001b[0mtorch\u001b[0m\u001b[0;34m.\u001b[0m\u001b[0mtensor\u001b[0m\u001b[0;34m(\u001b[0m\u001b[0mtrain_in\u001b[0m\u001b[0;34m.\u001b[0m\u001b[0mto_numpy\u001b[0m\u001b[0;34m(\u001b[0m\u001b[0;34m)\u001b[0m\u001b[0;34m,\u001b[0m \u001b[0mdtype\u001b[0m\u001b[0;34m=\u001b[0m\u001b[0mtorch\u001b[0m\u001b[0;34m.\u001b[0m\u001b[0mfloat\u001b[0m\u001b[0;34m,\u001b[0m \u001b[0mdevice\u001b[0m\u001b[0;34m=\u001b[0m\u001b[0mdevice\u001b[0m\u001b[0;34m)\u001b[0m\u001b[0;34m\u001b[0m\u001b[0;34m\u001b[0m\u001b[0m\n\u001b[0m\u001b[1;32m     30\u001b[0m \u001b[0mdata_train_labels\u001b[0m \u001b[0;34m=\u001b[0m \u001b[0mtorch\u001b[0m\u001b[0;34m.\u001b[0m\u001b[0mtensor\u001b[0m\u001b[0;34m(\u001b[0m\u001b[0mtrain_out_winner\u001b[0m\u001b[0;34m.\u001b[0m\u001b[0mto_numpy\u001b[0m\u001b[0;34m(\u001b[0m\u001b[0;34m)\u001b[0m\u001b[0;34m,\u001b[0m \u001b[0mdtype\u001b[0m\u001b[0;34m=\u001b[0m\u001b[0mtorch\u001b[0m\u001b[0;34m.\u001b[0m\u001b[0mlong\u001b[0m\u001b[0;34m,\u001b[0m \u001b[0mdevice\u001b[0m\u001b[0;34m=\u001b[0m\u001b[0mdevice\u001b[0m\u001b[0;34m)\u001b[0m\u001b[0;34m\u001b[0m\u001b[0;34m\u001b[0m\u001b[0m\n\u001b[1;32m     31\u001b[0m \u001b[0mdata_train\u001b[0m \u001b[0;34m=\u001b[0m \u001b[0mTensorDataset\u001b[0m\u001b[0;34m(\u001b[0m\u001b[0mdata_train_vals\u001b[0m\u001b[0;34m,\u001b[0m \u001b[0mdata_train_labels\u001b[0m\u001b[0;34m)\u001b[0m\u001b[0;34m\u001b[0m\u001b[0;34m\u001b[0m\u001b[0m\n",
            "\u001b[0;31mRuntimeError\u001b[0m: CUDA error: device-side assert triggered"
          ]
        }
      ]
    },
    {
      "cell_type": "code",
      "metadata": {
        "id": "EpSWWj-_rXs9"
      },
      "source": [
        "def trainWinner(model, device, train_loader, optimizer, epochs, criterion, verbose=False):\n",
        "  for epoch in range(epochs):\n",
        "    model.train()\n",
        "    batch_loss = 0\n",
        "    for data, label in train_loader:\n",
        "      data, label = data.to(device), label.to(device)\n",
        "      optimizer.zero_grad()\n",
        "      output = model(data)\n",
        "      loss = criterion(output, label)\n",
        "      loss.backward()\n",
        "      optimizer.step()\n",
        "      batch_loss += loss.item()\n",
        "    if (verbose) & (epochs%10==0):\n",
        "      print('Train Epoch: %d  \\tLoss: %.6f' % (epoch, np.sqrt(batch_loss/len(train_loader))))\n",
        "\n",
        "def testWinner(model, device, test_loader, criterion):\n",
        "  model.eval()\n",
        "  test_loss = 0\n",
        "  correct = 0\n",
        "  wrong = 0\n",
        "  with torch.no_grad():\n",
        "    for data, label in test_loader:\n",
        "      data, label = data.to(device), label.to(device)\n",
        "      output = model(data)\n",
        "      test_loss += criterion(output, label).item()\n",
        "      correct += torch.sum(torch.argmax(output, dim=1) == label)\n",
        "      wrong += torch.sum(torch.argmax(output, dim=1) != label)\n",
        "  print('Test set: Average loss: %.4f' % np.sqrt(test_loss/len(test_loader)))\n",
        "  print('Accuracy: %.3f%%' % (correct*100/(correct+wrong)))"
      ],
      "execution_count": 372,
      "outputs": []
    },
    {
      "cell_type": "code",
      "metadata": {
        "id": "UBeoHbdsrXs9",
        "outputId": "3e9abb0c-0daa-462a-b2f9-4258bce3d591",
        "colab": {
          "base_uri": "https://localhost:8080/",
          "height": 341
        }
      },
      "source": [
        "class Net(nn.Module):\n",
        "    def __init__(self, input_size):\n",
        "        super(Net, self).__init__()\n",
        "        if gpu:\n",
        "          self.fc1 = nn.Linear(input_size, 20).cuda()\n",
        "          self.fc2 = nn.Linear(20, 10).cuda()\n",
        "          self.fc3 = nn.Linear(10, 2).cuda()\n",
        "        else:\n",
        "          self.fc1 = nn.Linear(input_size, 20)\n",
        "          self.fc2 = nn.Linear(20, 10)\n",
        "          self.fc3 = nn.Linear(10, 2)\n",
        "\n",
        "    def forward(self, x):\n",
        "        x = F.relu(self.fc1(x))\n",
        "        x = F.relu(self.fc2(x))\n",
        "        x = self.fc3(x)\n",
        "        return x\n",
        "\n",
        "modelWinner = Net(np.shape(train_in.to_numpy())[1])"
      ],
      "execution_count": 367,
      "outputs": [
        {
          "output_type": "error",
          "ename": "RuntimeError",
          "evalue": "ignored",
          "traceback": [
            "\u001b[0;31m---------------------------------------------------------------------------\u001b[0m",
            "\u001b[0;31mRuntimeError\u001b[0m                              Traceback (most recent call last)",
            "\u001b[0;32m<ipython-input-367-5f5618a98b7e>\u001b[0m in \u001b[0;36m<module>\u001b[0;34m()\u001b[0m\n\u001b[1;32m     17\u001b[0m         \u001b[0;32mreturn\u001b[0m \u001b[0mx\u001b[0m\u001b[0;34m\u001b[0m\u001b[0;34m\u001b[0m\u001b[0m\n\u001b[1;32m     18\u001b[0m \u001b[0;34m\u001b[0m\u001b[0m\n\u001b[0;32m---> 19\u001b[0;31m \u001b[0mmodelWinner\u001b[0m \u001b[0;34m=\u001b[0m \u001b[0mNet\u001b[0m\u001b[0;34m(\u001b[0m\u001b[0mnp\u001b[0m\u001b[0;34m.\u001b[0m\u001b[0mshape\u001b[0m\u001b[0;34m(\u001b[0m\u001b[0mtrain_in\u001b[0m\u001b[0;34m.\u001b[0m\u001b[0mto_numpy\u001b[0m\u001b[0;34m(\u001b[0m\u001b[0;34m)\u001b[0m\u001b[0;34m)\u001b[0m\u001b[0;34m[\u001b[0m\u001b[0;36m1\u001b[0m\u001b[0;34m]\u001b[0m\u001b[0;34m)\u001b[0m\u001b[0;34m\u001b[0m\u001b[0;34m\u001b[0m\u001b[0m\n\u001b[0m",
            "\u001b[0;32m<ipython-input-367-5f5618a98b7e>\u001b[0m in \u001b[0;36m__init__\u001b[0;34m(self, input_size)\u001b[0m\n\u001b[1;32m      3\u001b[0m         \u001b[0msuper\u001b[0m\u001b[0;34m(\u001b[0m\u001b[0mNet\u001b[0m\u001b[0;34m,\u001b[0m \u001b[0mself\u001b[0m\u001b[0;34m)\u001b[0m\u001b[0;34m.\u001b[0m\u001b[0m__init__\u001b[0m\u001b[0;34m(\u001b[0m\u001b[0;34m)\u001b[0m\u001b[0;34m\u001b[0m\u001b[0;34m\u001b[0m\u001b[0m\n\u001b[1;32m      4\u001b[0m         \u001b[0;32mif\u001b[0m \u001b[0mgpu\u001b[0m\u001b[0;34m:\u001b[0m\u001b[0;34m\u001b[0m\u001b[0;34m\u001b[0m\u001b[0m\n\u001b[0;32m----> 5\u001b[0;31m           \u001b[0mself\u001b[0m\u001b[0;34m.\u001b[0m\u001b[0mfc1\u001b[0m \u001b[0;34m=\u001b[0m \u001b[0mnn\u001b[0m\u001b[0;34m.\u001b[0m\u001b[0mLinear\u001b[0m\u001b[0;34m(\u001b[0m\u001b[0minput_size\u001b[0m\u001b[0;34m,\u001b[0m \u001b[0;36m20\u001b[0m\u001b[0;34m)\u001b[0m\u001b[0;34m.\u001b[0m\u001b[0mcuda\u001b[0m\u001b[0;34m(\u001b[0m\u001b[0;34m)\u001b[0m\u001b[0;34m\u001b[0m\u001b[0;34m\u001b[0m\u001b[0m\n\u001b[0m\u001b[1;32m      6\u001b[0m           \u001b[0mself\u001b[0m\u001b[0;34m.\u001b[0m\u001b[0mfc2\u001b[0m \u001b[0;34m=\u001b[0m \u001b[0mnn\u001b[0m\u001b[0;34m.\u001b[0m\u001b[0mLinear\u001b[0m\u001b[0;34m(\u001b[0m\u001b[0;36m20\u001b[0m\u001b[0;34m,\u001b[0m \u001b[0;36m10\u001b[0m\u001b[0;34m)\u001b[0m\u001b[0;34m.\u001b[0m\u001b[0mcuda\u001b[0m\u001b[0;34m(\u001b[0m\u001b[0;34m)\u001b[0m\u001b[0;34m\u001b[0m\u001b[0;34m\u001b[0m\u001b[0m\n\u001b[1;32m      7\u001b[0m           \u001b[0mself\u001b[0m\u001b[0;34m.\u001b[0m\u001b[0mfc3\u001b[0m \u001b[0;34m=\u001b[0m \u001b[0mnn\u001b[0m\u001b[0;34m.\u001b[0m\u001b[0mLinear\u001b[0m\u001b[0;34m(\u001b[0m\u001b[0;36m10\u001b[0m\u001b[0;34m,\u001b[0m \u001b[0;36m2\u001b[0m\u001b[0;34m)\u001b[0m\u001b[0;34m.\u001b[0m\u001b[0mcuda\u001b[0m\u001b[0;34m(\u001b[0m\u001b[0;34m)\u001b[0m\u001b[0;34m\u001b[0m\u001b[0;34m\u001b[0m\u001b[0m\n",
            "\u001b[0;32m/usr/local/lib/python3.7/dist-packages/torch/nn/modules/module.py\u001b[0m in \u001b[0;36mcuda\u001b[0;34m(self, device)\u001b[0m\n\u001b[1;32m    461\u001b[0m             \u001b[0mModule\u001b[0m\u001b[0;34m:\u001b[0m \u001b[0mself\u001b[0m\u001b[0;34m\u001b[0m\u001b[0;34m\u001b[0m\u001b[0m\n\u001b[1;32m    462\u001b[0m         \"\"\"\n\u001b[0;32m--> 463\u001b[0;31m         \u001b[0;32mreturn\u001b[0m \u001b[0mself\u001b[0m\u001b[0;34m.\u001b[0m\u001b[0m_apply\u001b[0m\u001b[0;34m(\u001b[0m\u001b[0;32mlambda\u001b[0m \u001b[0mt\u001b[0m\u001b[0;34m:\u001b[0m \u001b[0mt\u001b[0m\u001b[0;34m.\u001b[0m\u001b[0mcuda\u001b[0m\u001b[0;34m(\u001b[0m\u001b[0mdevice\u001b[0m\u001b[0;34m)\u001b[0m\u001b[0;34m)\u001b[0m\u001b[0;34m\u001b[0m\u001b[0;34m\u001b[0m\u001b[0m\n\u001b[0m\u001b[1;32m    464\u001b[0m \u001b[0;34m\u001b[0m\u001b[0m\n\u001b[1;32m    465\u001b[0m     \u001b[0;32mdef\u001b[0m \u001b[0mcpu\u001b[0m\u001b[0;34m(\u001b[0m\u001b[0mself\u001b[0m\u001b[0;34m:\u001b[0m \u001b[0mT\u001b[0m\u001b[0;34m)\u001b[0m \u001b[0;34m->\u001b[0m \u001b[0mT\u001b[0m\u001b[0;34m:\u001b[0m\u001b[0;34m\u001b[0m\u001b[0;34m\u001b[0m\u001b[0m\n",
            "\u001b[0;32m/usr/local/lib/python3.7/dist-packages/torch/nn/modules/module.py\u001b[0m in \u001b[0;36m_apply\u001b[0;34m(self, fn)\u001b[0m\n\u001b[1;32m    379\u001b[0m                 \u001b[0;31m# `with torch.no_grad():`\u001b[0m\u001b[0;34m\u001b[0m\u001b[0;34m\u001b[0m\u001b[0;34m\u001b[0m\u001b[0m\n\u001b[1;32m    380\u001b[0m                 \u001b[0;32mwith\u001b[0m \u001b[0mtorch\u001b[0m\u001b[0;34m.\u001b[0m\u001b[0mno_grad\u001b[0m\u001b[0;34m(\u001b[0m\u001b[0;34m)\u001b[0m\u001b[0;34m:\u001b[0m\u001b[0;34m\u001b[0m\u001b[0;34m\u001b[0m\u001b[0m\n\u001b[0;32m--> 381\u001b[0;31m                     \u001b[0mparam_applied\u001b[0m \u001b[0;34m=\u001b[0m \u001b[0mfn\u001b[0m\u001b[0;34m(\u001b[0m\u001b[0mparam\u001b[0m\u001b[0;34m)\u001b[0m\u001b[0;34m\u001b[0m\u001b[0;34m\u001b[0m\u001b[0m\n\u001b[0m\u001b[1;32m    382\u001b[0m                 \u001b[0mshould_use_set_data\u001b[0m \u001b[0;34m=\u001b[0m \u001b[0mcompute_should_use_set_data\u001b[0m\u001b[0;34m(\u001b[0m\u001b[0mparam\u001b[0m\u001b[0;34m,\u001b[0m \u001b[0mparam_applied\u001b[0m\u001b[0;34m)\u001b[0m\u001b[0;34m\u001b[0m\u001b[0;34m\u001b[0m\u001b[0m\n\u001b[1;32m    383\u001b[0m                 \u001b[0;32mif\u001b[0m \u001b[0mshould_use_set_data\u001b[0m\u001b[0;34m:\u001b[0m\u001b[0;34m\u001b[0m\u001b[0;34m\u001b[0m\u001b[0m\n",
            "\u001b[0;32m/usr/local/lib/python3.7/dist-packages/torch/nn/modules/module.py\u001b[0m in \u001b[0;36m<lambda>\u001b[0;34m(t)\u001b[0m\n\u001b[1;32m    461\u001b[0m             \u001b[0mModule\u001b[0m\u001b[0;34m:\u001b[0m \u001b[0mself\u001b[0m\u001b[0;34m\u001b[0m\u001b[0;34m\u001b[0m\u001b[0m\n\u001b[1;32m    462\u001b[0m         \"\"\"\n\u001b[0;32m--> 463\u001b[0;31m         \u001b[0;32mreturn\u001b[0m \u001b[0mself\u001b[0m\u001b[0;34m.\u001b[0m\u001b[0m_apply\u001b[0m\u001b[0;34m(\u001b[0m\u001b[0;32mlambda\u001b[0m \u001b[0mt\u001b[0m\u001b[0;34m:\u001b[0m \u001b[0mt\u001b[0m\u001b[0;34m.\u001b[0m\u001b[0mcuda\u001b[0m\u001b[0;34m(\u001b[0m\u001b[0mdevice\u001b[0m\u001b[0;34m)\u001b[0m\u001b[0;34m)\u001b[0m\u001b[0;34m\u001b[0m\u001b[0;34m\u001b[0m\u001b[0m\n\u001b[0m\u001b[1;32m    464\u001b[0m \u001b[0;34m\u001b[0m\u001b[0m\n\u001b[1;32m    465\u001b[0m     \u001b[0;32mdef\u001b[0m \u001b[0mcpu\u001b[0m\u001b[0;34m(\u001b[0m\u001b[0mself\u001b[0m\u001b[0;34m:\u001b[0m \u001b[0mT\u001b[0m\u001b[0;34m)\u001b[0m \u001b[0;34m->\u001b[0m \u001b[0mT\u001b[0m\u001b[0;34m:\u001b[0m\u001b[0;34m\u001b[0m\u001b[0;34m\u001b[0m\u001b[0m\n",
            "\u001b[0;31mRuntimeError\u001b[0m: CUDA error: device-side assert triggered"
          ]
        }
      ]
    },
    {
      "cell_type": "code",
      "metadata": {
        "id": "2aUhgXIFrwXz"
      },
      "source": [
        "optimizer = torch.optim.Adam(modelWinner.parameters(), lr=LEARNING_RATE)\n",
        "criterion = nn.CrossEntropyLoss()"
      ],
      "execution_count": 368,
      "outputs": []
    },
    {
      "cell_type": "code",
      "metadata": {
        "id": "g74xHJgXrimb",
        "outputId": "29c97d52-556f-4e03-b421-cbcc8a9529b1",
        "colab": {
          "base_uri": "https://localhost:8080/",
          "height": 375
        }
      },
      "source": [
        "# Hyperparameters\n",
        "BATCH_SIZE = 50\n",
        "EPOCHS = 100\n",
        "LEARNING_RATE = 0.011\n",
        "\n",
        "trainWinner(modelWinner, device, train_loader, optimizer, EPOCHS, criterion, verbose=True)\n",
        "\n",
        "testWinner(modelSpread, device, valid_loader, criterion)"
      ],
      "execution_count": 369,
      "outputs": [
        {
          "output_type": "error",
          "ename": "RuntimeError",
          "evalue": "ignored",
          "traceback": [
            "\u001b[0;31m---------------------------------------------------------------------------\u001b[0m",
            "\u001b[0;31mRuntimeError\u001b[0m                              Traceback (most recent call last)",
            "\u001b[0;32m<ipython-input-369-6141fda0f2d4>\u001b[0m in \u001b[0;36m<module>\u001b[0;34m()\u001b[0m\n\u001b[1;32m      4\u001b[0m \u001b[0mLEARNING_RATE\u001b[0m \u001b[0;34m=\u001b[0m \u001b[0;36m0.011\u001b[0m\u001b[0;34m\u001b[0m\u001b[0;34m\u001b[0m\u001b[0m\n\u001b[1;32m      5\u001b[0m \u001b[0;34m\u001b[0m\u001b[0m\n\u001b[0;32m----> 6\u001b[0;31m \u001b[0mtrainWinner\u001b[0m\u001b[0;34m(\u001b[0m\u001b[0mmodelWinner\u001b[0m\u001b[0;34m,\u001b[0m \u001b[0mdevice\u001b[0m\u001b[0;34m,\u001b[0m \u001b[0mtrain_loader\u001b[0m\u001b[0;34m,\u001b[0m \u001b[0moptimizer\u001b[0m\u001b[0;34m,\u001b[0m \u001b[0mEPOCHS\u001b[0m\u001b[0;34m,\u001b[0m \u001b[0mcriterion\u001b[0m\u001b[0;34m,\u001b[0m \u001b[0mverbose\u001b[0m\u001b[0;34m=\u001b[0m\u001b[0;32mTrue\u001b[0m\u001b[0;34m)\u001b[0m\u001b[0;34m\u001b[0m\u001b[0;34m\u001b[0m\u001b[0m\n\u001b[0m\u001b[1;32m      7\u001b[0m \u001b[0;34m\u001b[0m\u001b[0m\n\u001b[1;32m      8\u001b[0m \u001b[0mtestWinner\u001b[0m\u001b[0;34m(\u001b[0m\u001b[0mmodelSpread\u001b[0m\u001b[0;34m,\u001b[0m \u001b[0mdevice\u001b[0m\u001b[0;34m,\u001b[0m \u001b[0mvalid_loader\u001b[0m\u001b[0;34m,\u001b[0m \u001b[0mcriterion\u001b[0m\u001b[0;34m)\u001b[0m\u001b[0;34m\u001b[0m\u001b[0;34m\u001b[0m\u001b[0m\n",
            "\u001b[0;32m<ipython-input-366-db1587b3e4c2>\u001b[0m in \u001b[0;36mtrainWinner\u001b[0;34m(model, device, train_loader, optimizer, epochs, criterion, verbose)\u001b[0m\n\u001b[1;32m      3\u001b[0m     \u001b[0mmodel\u001b[0m\u001b[0;34m.\u001b[0m\u001b[0mtrain\u001b[0m\u001b[0;34m(\u001b[0m\u001b[0;34m)\u001b[0m\u001b[0;34m\u001b[0m\u001b[0;34m\u001b[0m\u001b[0m\n\u001b[1;32m      4\u001b[0m     \u001b[0mbatch_loss\u001b[0m \u001b[0;34m=\u001b[0m \u001b[0;36m0\u001b[0m\u001b[0;34m\u001b[0m\u001b[0;34m\u001b[0m\u001b[0m\n\u001b[0;32m----> 5\u001b[0;31m     \u001b[0;32mfor\u001b[0m \u001b[0mdata\u001b[0m\u001b[0;34m,\u001b[0m \u001b[0mlabel\u001b[0m \u001b[0;32min\u001b[0m \u001b[0mtrain_loader\u001b[0m\u001b[0;34m:\u001b[0m\u001b[0;34m\u001b[0m\u001b[0;34m\u001b[0m\u001b[0m\n\u001b[0m\u001b[1;32m      6\u001b[0m       \u001b[0mdata\u001b[0m\u001b[0;34m,\u001b[0m \u001b[0mlabel\u001b[0m \u001b[0;34m=\u001b[0m \u001b[0mdata\u001b[0m\u001b[0;34m.\u001b[0m\u001b[0mto\u001b[0m\u001b[0;34m(\u001b[0m\u001b[0mdevice\u001b[0m\u001b[0;34m)\u001b[0m\u001b[0;34m,\u001b[0m \u001b[0mlabel\u001b[0m\u001b[0;34m.\u001b[0m\u001b[0mto\u001b[0m\u001b[0;34m(\u001b[0m\u001b[0mdevice\u001b[0m\u001b[0;34m)\u001b[0m\u001b[0;34m\u001b[0m\u001b[0;34m\u001b[0m\u001b[0m\n\u001b[1;32m      7\u001b[0m       \u001b[0moptimizer\u001b[0m\u001b[0;34m.\u001b[0m\u001b[0mzero_grad\u001b[0m\u001b[0;34m(\u001b[0m\u001b[0;34m)\u001b[0m\u001b[0;34m\u001b[0m\u001b[0;34m\u001b[0m\u001b[0m\n",
            "\u001b[0;32m/usr/local/lib/python3.7/dist-packages/torch/utils/data/dataloader.py\u001b[0m in \u001b[0;36m__next__\u001b[0;34m(self)\u001b[0m\n\u001b[1;32m    433\u001b[0m         \u001b[0;32mif\u001b[0m \u001b[0mself\u001b[0m\u001b[0;34m.\u001b[0m\u001b[0m_sampler_iter\u001b[0m \u001b[0;32mis\u001b[0m \u001b[0;32mNone\u001b[0m\u001b[0;34m:\u001b[0m\u001b[0;34m\u001b[0m\u001b[0;34m\u001b[0m\u001b[0m\n\u001b[1;32m    434\u001b[0m             \u001b[0mself\u001b[0m\u001b[0;34m.\u001b[0m\u001b[0m_reset\u001b[0m\u001b[0;34m(\u001b[0m\u001b[0;34m)\u001b[0m\u001b[0;34m\u001b[0m\u001b[0;34m\u001b[0m\u001b[0m\n\u001b[0;32m--> 435\u001b[0;31m         \u001b[0mdata\u001b[0m \u001b[0;34m=\u001b[0m \u001b[0mself\u001b[0m\u001b[0;34m.\u001b[0m\u001b[0m_next_data\u001b[0m\u001b[0;34m(\u001b[0m\u001b[0;34m)\u001b[0m\u001b[0;34m\u001b[0m\u001b[0;34m\u001b[0m\u001b[0m\n\u001b[0m\u001b[1;32m    436\u001b[0m         \u001b[0mself\u001b[0m\u001b[0;34m.\u001b[0m\u001b[0m_num_yielded\u001b[0m \u001b[0;34m+=\u001b[0m \u001b[0;36m1\u001b[0m\u001b[0;34m\u001b[0m\u001b[0;34m\u001b[0m\u001b[0m\n\u001b[1;32m    437\u001b[0m         \u001b[0;32mif\u001b[0m \u001b[0mself\u001b[0m\u001b[0;34m.\u001b[0m\u001b[0m_dataset_kind\u001b[0m \u001b[0;34m==\u001b[0m \u001b[0m_DatasetKind\u001b[0m\u001b[0;34m.\u001b[0m\u001b[0mIterable\u001b[0m \u001b[0;32mand\u001b[0m\u001b[0;31m \u001b[0m\u001b[0;31m\\\u001b[0m\u001b[0;34m\u001b[0m\u001b[0;34m\u001b[0m\u001b[0m\n",
            "\u001b[0;32m/usr/local/lib/python3.7/dist-packages/torch/utils/data/dataloader.py\u001b[0m in \u001b[0;36m_next_data\u001b[0;34m(self)\u001b[0m\n\u001b[1;32m    473\u001b[0m     \u001b[0;32mdef\u001b[0m \u001b[0m_next_data\u001b[0m\u001b[0;34m(\u001b[0m\u001b[0mself\u001b[0m\u001b[0;34m)\u001b[0m\u001b[0;34m:\u001b[0m\u001b[0;34m\u001b[0m\u001b[0;34m\u001b[0m\u001b[0m\n\u001b[1;32m    474\u001b[0m         \u001b[0mindex\u001b[0m \u001b[0;34m=\u001b[0m \u001b[0mself\u001b[0m\u001b[0;34m.\u001b[0m\u001b[0m_next_index\u001b[0m\u001b[0;34m(\u001b[0m\u001b[0;34m)\u001b[0m  \u001b[0;31m# may raise StopIteration\u001b[0m\u001b[0;34m\u001b[0m\u001b[0;34m\u001b[0m\u001b[0m\n\u001b[0;32m--> 475\u001b[0;31m         \u001b[0mdata\u001b[0m \u001b[0;34m=\u001b[0m \u001b[0mself\u001b[0m\u001b[0;34m.\u001b[0m\u001b[0m_dataset_fetcher\u001b[0m\u001b[0;34m.\u001b[0m\u001b[0mfetch\u001b[0m\u001b[0;34m(\u001b[0m\u001b[0mindex\u001b[0m\u001b[0;34m)\u001b[0m  \u001b[0;31m# may raise StopIteration\u001b[0m\u001b[0;34m\u001b[0m\u001b[0;34m\u001b[0m\u001b[0m\n\u001b[0m\u001b[1;32m    476\u001b[0m         \u001b[0;32mif\u001b[0m \u001b[0mself\u001b[0m\u001b[0;34m.\u001b[0m\u001b[0m_pin_memory\u001b[0m\u001b[0;34m:\u001b[0m\u001b[0;34m\u001b[0m\u001b[0;34m\u001b[0m\u001b[0m\n\u001b[1;32m    477\u001b[0m             \u001b[0mdata\u001b[0m \u001b[0;34m=\u001b[0m \u001b[0m_utils\u001b[0m\u001b[0;34m.\u001b[0m\u001b[0mpin_memory\u001b[0m\u001b[0;34m.\u001b[0m\u001b[0mpin_memory\u001b[0m\u001b[0;34m(\u001b[0m\u001b[0mdata\u001b[0m\u001b[0;34m)\u001b[0m\u001b[0;34m\u001b[0m\u001b[0;34m\u001b[0m\u001b[0m\n",
            "\u001b[0;32m/usr/local/lib/python3.7/dist-packages/torch/utils/data/_utils/fetch.py\u001b[0m in \u001b[0;36mfetch\u001b[0;34m(self, possibly_batched_index)\u001b[0m\n\u001b[1;32m     45\u001b[0m         \u001b[0;32melse\u001b[0m\u001b[0;34m:\u001b[0m\u001b[0;34m\u001b[0m\u001b[0;34m\u001b[0m\u001b[0m\n\u001b[1;32m     46\u001b[0m             \u001b[0mdata\u001b[0m \u001b[0;34m=\u001b[0m \u001b[0mself\u001b[0m\u001b[0;34m.\u001b[0m\u001b[0mdataset\u001b[0m\u001b[0;34m[\u001b[0m\u001b[0mpossibly_batched_index\u001b[0m\u001b[0;34m]\u001b[0m\u001b[0;34m\u001b[0m\u001b[0;34m\u001b[0m\u001b[0m\n\u001b[0;32m---> 47\u001b[0;31m         \u001b[0;32mreturn\u001b[0m \u001b[0mself\u001b[0m\u001b[0;34m.\u001b[0m\u001b[0mcollate_fn\u001b[0m\u001b[0;34m(\u001b[0m\u001b[0mdata\u001b[0m\u001b[0;34m)\u001b[0m\u001b[0;34m\u001b[0m\u001b[0;34m\u001b[0m\u001b[0m\n\u001b[0m",
            "\u001b[0;32m/usr/local/lib/python3.7/dist-packages/torch/utils/data/_utils/collate.py\u001b[0m in \u001b[0;36mdefault_collate\u001b[0;34m(batch)\u001b[0m\n\u001b[1;32m     81\u001b[0m             \u001b[0;32mraise\u001b[0m \u001b[0mRuntimeError\u001b[0m\u001b[0;34m(\u001b[0m\u001b[0;34m'each element in list of batch should be of equal size'\u001b[0m\u001b[0;34m)\u001b[0m\u001b[0;34m\u001b[0m\u001b[0;34m\u001b[0m\u001b[0m\n\u001b[1;32m     82\u001b[0m         \u001b[0mtransposed\u001b[0m \u001b[0;34m=\u001b[0m \u001b[0mzip\u001b[0m\u001b[0;34m(\u001b[0m\u001b[0;34m*\u001b[0m\u001b[0mbatch\u001b[0m\u001b[0;34m)\u001b[0m\u001b[0;34m\u001b[0m\u001b[0;34m\u001b[0m\u001b[0m\n\u001b[0;32m---> 83\u001b[0;31m         \u001b[0;32mreturn\u001b[0m \u001b[0;34m[\u001b[0m\u001b[0mdefault_collate\u001b[0m\u001b[0;34m(\u001b[0m\u001b[0msamples\u001b[0m\u001b[0;34m)\u001b[0m \u001b[0;32mfor\u001b[0m \u001b[0msamples\u001b[0m \u001b[0;32min\u001b[0m \u001b[0mtransposed\u001b[0m\u001b[0;34m]\u001b[0m\u001b[0;34m\u001b[0m\u001b[0;34m\u001b[0m\u001b[0m\n\u001b[0m\u001b[1;32m     84\u001b[0m \u001b[0;34m\u001b[0m\u001b[0m\n\u001b[1;32m     85\u001b[0m     \u001b[0;32mraise\u001b[0m \u001b[0mTypeError\u001b[0m\u001b[0;34m(\u001b[0m\u001b[0mdefault_collate_err_msg_format\u001b[0m\u001b[0;34m.\u001b[0m\u001b[0mformat\u001b[0m\u001b[0;34m(\u001b[0m\u001b[0melem_type\u001b[0m\u001b[0;34m)\u001b[0m\u001b[0;34m)\u001b[0m\u001b[0;34m\u001b[0m\u001b[0;34m\u001b[0m\u001b[0m\n",
            "\u001b[0;32m/usr/local/lib/python3.7/dist-packages/torch/utils/data/_utils/collate.py\u001b[0m in \u001b[0;36m<listcomp>\u001b[0;34m(.0)\u001b[0m\n\u001b[1;32m     81\u001b[0m             \u001b[0;32mraise\u001b[0m \u001b[0mRuntimeError\u001b[0m\u001b[0;34m(\u001b[0m\u001b[0;34m'each element in list of batch should be of equal size'\u001b[0m\u001b[0;34m)\u001b[0m\u001b[0;34m\u001b[0m\u001b[0;34m\u001b[0m\u001b[0m\n\u001b[1;32m     82\u001b[0m         \u001b[0mtransposed\u001b[0m \u001b[0;34m=\u001b[0m \u001b[0mzip\u001b[0m\u001b[0;34m(\u001b[0m\u001b[0;34m*\u001b[0m\u001b[0mbatch\u001b[0m\u001b[0;34m)\u001b[0m\u001b[0;34m\u001b[0m\u001b[0;34m\u001b[0m\u001b[0m\n\u001b[0;32m---> 83\u001b[0;31m         \u001b[0;32mreturn\u001b[0m \u001b[0;34m[\u001b[0m\u001b[0mdefault_collate\u001b[0m\u001b[0;34m(\u001b[0m\u001b[0msamples\u001b[0m\u001b[0;34m)\u001b[0m \u001b[0;32mfor\u001b[0m \u001b[0msamples\u001b[0m \u001b[0;32min\u001b[0m \u001b[0mtransposed\u001b[0m\u001b[0;34m]\u001b[0m\u001b[0;34m\u001b[0m\u001b[0;34m\u001b[0m\u001b[0m\n\u001b[0m\u001b[1;32m     84\u001b[0m \u001b[0;34m\u001b[0m\u001b[0m\n\u001b[1;32m     85\u001b[0m     \u001b[0;32mraise\u001b[0m \u001b[0mTypeError\u001b[0m\u001b[0;34m(\u001b[0m\u001b[0mdefault_collate_err_msg_format\u001b[0m\u001b[0;34m.\u001b[0m\u001b[0mformat\u001b[0m\u001b[0;34m(\u001b[0m\u001b[0melem_type\u001b[0m\u001b[0;34m)\u001b[0m\u001b[0;34m)\u001b[0m\u001b[0;34m\u001b[0m\u001b[0;34m\u001b[0m\u001b[0m\n",
            "\u001b[0;32m/usr/local/lib/python3.7/dist-packages/torch/utils/data/_utils/collate.py\u001b[0m in \u001b[0;36mdefault_collate\u001b[0;34m(batch)\u001b[0m\n\u001b[1;32m     53\u001b[0m             \u001b[0mstorage\u001b[0m \u001b[0;34m=\u001b[0m \u001b[0melem\u001b[0m\u001b[0;34m.\u001b[0m\u001b[0mstorage\u001b[0m\u001b[0;34m(\u001b[0m\u001b[0;34m)\u001b[0m\u001b[0;34m.\u001b[0m\u001b[0m_new_shared\u001b[0m\u001b[0;34m(\u001b[0m\u001b[0mnumel\u001b[0m\u001b[0;34m)\u001b[0m\u001b[0;34m\u001b[0m\u001b[0;34m\u001b[0m\u001b[0m\n\u001b[1;32m     54\u001b[0m             \u001b[0mout\u001b[0m \u001b[0;34m=\u001b[0m \u001b[0melem\u001b[0m\u001b[0;34m.\u001b[0m\u001b[0mnew\u001b[0m\u001b[0;34m(\u001b[0m\u001b[0mstorage\u001b[0m\u001b[0;34m)\u001b[0m\u001b[0;34m\u001b[0m\u001b[0;34m\u001b[0m\u001b[0m\n\u001b[0;32m---> 55\u001b[0;31m         \u001b[0;32mreturn\u001b[0m \u001b[0mtorch\u001b[0m\u001b[0;34m.\u001b[0m\u001b[0mstack\u001b[0m\u001b[0;34m(\u001b[0m\u001b[0mbatch\u001b[0m\u001b[0;34m,\u001b[0m \u001b[0;36m0\u001b[0m\u001b[0;34m,\u001b[0m \u001b[0mout\u001b[0m\u001b[0;34m=\u001b[0m\u001b[0mout\u001b[0m\u001b[0;34m)\u001b[0m\u001b[0;34m\u001b[0m\u001b[0;34m\u001b[0m\u001b[0m\n\u001b[0m\u001b[1;32m     56\u001b[0m     \u001b[0;32melif\u001b[0m \u001b[0melem_type\u001b[0m\u001b[0;34m.\u001b[0m\u001b[0m__module__\u001b[0m \u001b[0;34m==\u001b[0m \u001b[0;34m'numpy'\u001b[0m \u001b[0;32mand\u001b[0m \u001b[0melem_type\u001b[0m\u001b[0;34m.\u001b[0m\u001b[0m__name__\u001b[0m \u001b[0;34m!=\u001b[0m \u001b[0;34m'str_'\u001b[0m\u001b[0;31m \u001b[0m\u001b[0;31m\\\u001b[0m\u001b[0;34m\u001b[0m\u001b[0;34m\u001b[0m\u001b[0m\n\u001b[1;32m     57\u001b[0m             \u001b[0;32mand\u001b[0m \u001b[0melem_type\u001b[0m\u001b[0;34m.\u001b[0m\u001b[0m__name__\u001b[0m \u001b[0;34m!=\u001b[0m \u001b[0;34m'string_'\u001b[0m\u001b[0;34m:\u001b[0m\u001b[0;34m\u001b[0m\u001b[0;34m\u001b[0m\u001b[0m\n",
            "\u001b[0;31mRuntimeError\u001b[0m: CUDA error: device-side assert triggered"
          ]
        }
      ]
    },
    {
      "cell_type": "markdown",
      "metadata": {
        "id": "nAxuSbxatL0M"
      },
      "source": [
        "## Linear Neural Net for Predicting the Spread<a name=\"linear-spread-nn\"></a>"
      ]
    },
    {
      "cell_type": "code",
      "metadata": {
        "id": "v93eOD06weSC"
      },
      "source": [
        "# Hyperparameters\n",
        "BATCH_SIZE = 50\n",
        "EPOCHS = 100\n",
        "LEARNING_RATE = 0.006"
      ],
      "execution_count": 22,
      "outputs": []
    },
    {
      "cell_type": "code",
      "metadata": {
        "id": "HF7RO-DO8swM"
      },
      "source": [
        "# Setup the data\n",
        "train, valid, test = split_data()\n",
        "\n",
        "train_in = train.drop(columns=['result'])\n",
        "train_out = train.result\n",
        "valid_in = valid.drop(columns=['result'])\n",
        "valid_out = valid.result\n",
        "test_in = test.drop(columns=['result'])\n",
        "test_out = test.result\n",
        "\n",
        "data_train_vals = torch.tensor(train_in.to_numpy(), dtype=torch.float, device=device)\n",
        "data_train_labels = torch.tensor(train_out.to_numpy().reshape(-1, 1), dtype=torch.float, device=device)\n",
        "data_train = TensorDataset(data_train_vals, data_train_labels)\n",
        "train_loader = DataLoader(dataset = data_train, batch_size = BATCH_SIZE, shuffle = True) \n",
        "\n",
        "data_valid_vals = torch.tensor(valid_in.to_numpy(), dtype=torch.float, device=device)\n",
        "data_valid_labels = torch.tensor(valid_out.to_numpy().reshape(-1, 1), dtype=torch.float, device=device)\n",
        "data_valid = TensorDataset(data_valid_vals, data_valid_labels)\n",
        "valid_loader = DataLoader(dataset = data_valid, batch_size = BATCH_SIZE,  shuffle = False)\n",
        "\n",
        "data_test_vals = torch.tensor(test_in.to_numpy(), dtype=torch.float, device=device)\n",
        "data_test_labels = torch.tensor(test_out.to_numpy().reshape(-1, 1), dtype=torch.float, device=device)\n",
        "data_test = TensorDataset(data_test_vals, data_test_labels)\n",
        "test_loader = DataLoader(dataset = data_test, batch_size = BATCH_SIZE,  shuffle = False)"
      ],
      "execution_count": 334,
      "outputs": []
    },
    {
      "cell_type": "code",
      "metadata": {
        "id": "SQJulxXdIuFZ",
        "outputId": "90febcd1-c6f7-4f91-a4c9-f1df1f3c0c2d",
        "colab": {
          "base_uri": "https://localhost:8080/"
        }
      },
      "source": [
        "train_out.to_numpy().reshape(-1,1).shape"
      ],
      "execution_count": 284,
      "outputs": [
        {
          "output_type": "execute_result",
          "data": {
            "text/plain": [
              "(4721, 1)"
            ]
          },
          "metadata": {
            "tags": []
          },
          "execution_count": 284
        }
      ]
    },
    {
      "cell_type": "code",
      "metadata": {
        "id": "N2g_r6i5ym0i"
      },
      "source": [
        "def train(model, device, train_loader, optimizer, epochs, criterion, verbose=False):\n",
        "  for epoch in range(epochs):\n",
        "    model.train()\n",
        "    batch_loss = 0\n",
        "    for data, label in train_loader:\n",
        "      data, label = data.to(device), label.to(device)\n",
        "      optimizer.zero_grad()\n",
        "      output = model(data)\n",
        "      loss = criterion(output, label)\n",
        "      loss.backward()\n",
        "      optimizer.step()\n",
        "      batch_loss += loss.item()\n",
        "    if verbose and epoch % 5 == 0:\n",
        "      print('Train Epoch: %d  \\tLoss: %.6f' % (epoch, np.sqrt(batch_loss/len(train_loader))))\n",
        "\n",
        "def test(model, device, test_loader, criterion):\n",
        "  model.eval()\n",
        "  test_loss = 0\n",
        "  correct = 0\n",
        "  with torch.no_grad():\n",
        "    for data, label in test_loader:\n",
        "      data, label = data.to(device), label.to(device)\n",
        "      output = model(data)\n",
        "      test_loss += criterion(output, label).item()\n",
        "  return np.sqrt(test_loss/len(test_loader))"
      ],
      "execution_count": 24,
      "outputs": []
    },
    {
      "cell_type": "code",
      "metadata": {
        "id": "WsGrGRnet6ur"
      },
      "source": [
        "class Net(nn.Module):\n",
        "  def __init__(self, input_size):\n",
        "    super(Net, self).__init__()\n",
        "    if gpu:\n",
        "      self.fc1 = nn.Linear(input_size, 20).cuda()\n",
        "      self.fc2 = nn.Linear(20, 10).cuda()\n",
        "      self.fc3 = nn.Linear(10, 1).cuda()\n",
        "    else:\n",
        "      self.fc1 = nn.Linear(input_size, 20)\n",
        "      self.fc2 = nn.Linear(20, 10)\n",
        "      self.fc3 = nn.Linear(10, 1)\n",
        "\n",
        "  def forward(self, x):\n",
        "    x = F.relu(self.fc1(x))\n",
        "    x = F.relu(self.fc2(x))\n",
        "    x = self.fc3(x)\n",
        "    return x\n",
        "\n",
        "modelSpread = Net(np.shape(train_in.to_numpy())[1])"
      ],
      "execution_count": 164,
      "outputs": []
    },
    {
      "cell_type": "code",
      "metadata": {
        "colab": {
          "base_uri": "https://localhost:8080/"
        },
        "id": "RhFfzDq0XgAf",
        "outputId": "4effc374-3d3b-4c33-f28d-cf513cb131c4"
      },
      "source": [
        "best_lr = 0\n",
        "best_loss = 50\n",
        "epochs = 50\n",
        "criterion = nn.MSELoss()\n",
        "for i in range(1, 25):\n",
        "  lr = 0.001*i\n",
        "  model = Net(np.shape(train_in.to_numpy())[1])\n",
        "  optimizer = torch.optim.Adam(model.parameters(), lr=lr)\n",
        "  train(model, device, train_loader, optimizer, epochs, criterion)\n",
        "  loss = test(model, device, valid_loader, criterion)\n",
        "  print('LR: %.3f \\t Loss: %.2f' % (lr, loss))\n",
        "  if loss < best_loss:\n",
        "    best_loss = loss\n",
        "    best_lr = lr\n",
        "\n",
        "print('Best LR: %.3f with best loss: %.2f' %(best_lr, best_loss))"
      ],
      "execution_count": 26,
      "outputs": [
        {
          "output_type": "stream",
          "text": [
            "LR: 0.001 \t Loss: 15.44\n",
            "LR: 0.002 \t Loss: 15.54\n",
            "LR: 0.003 \t Loss: 15.08\n",
            "LR: 0.004 \t Loss: 15.12\n",
            "LR: 0.005 \t Loss: 15.14\n",
            "LR: 0.006 \t Loss: 14.84\n",
            "LR: 0.007 \t Loss: 14.82\n",
            "LR: 0.008 \t Loss: 15.30\n",
            "LR: 0.009 \t Loss: 14.85\n",
            "LR: 0.010 \t Loss: 14.86\n",
            "LR: 0.011 \t Loss: 14.62\n",
            "LR: 0.012 \t Loss: 14.96\n",
            "LR: 0.013 \t Loss: 14.93\n",
            "LR: 0.014 \t Loss: 14.72\n",
            "LR: 0.015 \t Loss: 15.28\n",
            "LR: 0.016 \t Loss: 15.09\n",
            "LR: 0.017 \t Loss: 15.77\n",
            "LR: 0.018 \t Loss: 14.87\n",
            "LR: 0.019 \t Loss: 15.10\n",
            "LR: 0.020 \t Loss: 14.94\n",
            "LR: 0.021 \t Loss: 15.17\n",
            "LR: 0.022 \t Loss: 15.38\n",
            "LR: 0.023 \t Loss: 14.86\n",
            "LR: 0.024 \t Loss: 15.14\n",
            "Best LR: 0.011 with best loss: 14.62\n"
          ],
          "name": "stdout"
        }
      ]
    },
    {
      "cell_type": "code",
      "metadata": {
        "id": "b8F6KZ0gw2nk"
      },
      "source": [
        "optimizer = torch.optim.Adam(modelSpread.parameters(), lr=LEARNING_RATE)\n",
        "criterion = nn.MSELoss()"
      ],
      "execution_count": 27,
      "outputs": []
    },
    {
      "cell_type": "code",
      "metadata": {
        "colab": {
          "base_uri": "https://localhost:8080/"
        },
        "id": "VNH_3jeaxFL2",
        "outputId": "5238cf60-1f3b-4b1a-c94c-d7d802521961"
      },
      "source": [
        "train(modelSpread, device, train_loader, optimizer, EPOCHS, criterion, verbose=True)"
      ],
      "execution_count": 28,
      "outputs": [
        {
          "output_type": "stream",
          "text": [
            "Train Epoch: 0  \tLoss: 19.902302\n",
            "Train Epoch: 5  \tLoss: 15.581206\n",
            "Train Epoch: 10  \tLoss: 14.942956\n",
            "Train Epoch: 15  \tLoss: 14.672932\n",
            "Train Epoch: 20  \tLoss: 14.203436\n",
            "Train Epoch: 25  \tLoss: 13.954732\n",
            "Train Epoch: 30  \tLoss: 13.880699\n",
            "Train Epoch: 35  \tLoss: 13.714937\n",
            "Train Epoch: 40  \tLoss: 13.611800\n",
            "Train Epoch: 45  \tLoss: 13.441440\n",
            "Train Epoch: 50  \tLoss: 13.356837\n",
            "Train Epoch: 55  \tLoss: 13.258693\n",
            "Train Epoch: 60  \tLoss: 13.082812\n",
            "Train Epoch: 65  \tLoss: 13.132147\n",
            "Train Epoch: 70  \tLoss: 13.007196\n",
            "Train Epoch: 75  \tLoss: 12.942966\n",
            "Train Epoch: 80  \tLoss: 13.227960\n",
            "Train Epoch: 85  \tLoss: 12.869175\n",
            "Train Epoch: 90  \tLoss: 12.888039\n",
            "Train Epoch: 95  \tLoss: 12.612557\n"
          ],
          "name": "stdout"
        }
      ]
    },
    {
      "cell_type": "code",
      "metadata": {
        "colab": {
          "base_uri": "https://localhost:8080/"
        },
        "id": "uqpAf1dKyrnC",
        "outputId": "315d443f-a3c4-4924-82fa-ce0f54471d24"
      },
      "source": [
        "loss = test(modelSpread, device, valid_loader, criterion)\n",
        "print('Validation set: Average loss: %.2f' % loss)"
      ],
      "execution_count": 29,
      "outputs": [
        {
          "output_type": "stream",
          "text": [
            "Validation set: Average loss: 15.36\n"
          ],
          "name": "stdout"
        }
      ]
    },
    {
      "cell_type": "code",
      "metadata": {
        "colab": {
          "base_uri": "https://localhost:8080/"
        },
        "id": "nwjqwyUOUdbT",
        "outputId": "f02ca80e-cd17-4035-d7e2-a3e9921b9518"
      },
      "source": [
        "loss = test(modelSpread, device, test_loader, criterion)\n",
        "print('Test set: Average loss: %.2f' % loss)"
      ],
      "execution_count": 30,
      "outputs": [
        {
          "output_type": "stream",
          "text": [
            "Test set: Average loss: 13.61\n"
          ],
          "name": "stdout"
        }
      ]
    },
    {
      "cell_type": "markdown",
      "metadata": {
        "id": "1SnMZBBDYry-"
      },
      "source": [
        "## Linear Neural Net for Predicting the Winner<a name=\"linear-winner-nn\"></a>"
      ]
    },
    {
      "cell_type": "code",
      "metadata": {
        "id": "fBYuCCgbZBvL"
      },
      "source": [
        "BATCH_SIZE = 200\n",
        "EPOCHS = 100\n",
        "LEARNING_RATE = 0.005"
      ],
      "execution_count": 346,
      "outputs": []
    },
    {
      "cell_type": "code",
      "metadata": {
        "id": "lNN7muEhax8V"
      },
      "source": [
        "train, valid, test = split_data()\n",
        "\n",
        "train_in = train.drop(columns=['result'])\n",
        "train_out = train.result\n",
        "valid_in = valid.drop(columns=['result'])\n",
        "valid_out = valid.result\n",
        "\n",
        "train_out_winner = train_out\n",
        "train_out_winner[train_out_winner>0] = 1\n",
        "train_out_winner[train_out_winner<0] = 0\n",
        "\n",
        "valid_out_winner = valid_out\n",
        "valid_out_winner[valid_out_winner>0] = 1\n",
        "valid_out_winner[valid_out_winner<0] = 0\n",
        "\n",
        "test_out_winner = test_out\n",
        "test_out_winner[test_out_winner>0] = 1\n",
        "test_out_winner[test_out_winner<0] = 0\n",
        "\n",
        "data_train_vals = torch.tensor(train_in.to_numpy(), dtype=torch.float, device=device)\n",
        "data_train_labels = torch.tensor(train_out_winner.to_numpy(), dtype=torch.long, device=device)\n",
        "data_train = TensorDataset(data_train_vals, data_train_labels)\n",
        "train_loader = DataLoader(dataset = data_train, batch_size = BATCH_SIZE, shuffle = True) \n",
        "\n",
        "data_valid_vals = torch.tensor(valid_in.to_numpy(), dtype=torch.float, device=device)\n",
        "data_valid_labels = torch.tensor(valid_out_winner.to_numpy(), dtype=torch.long, device=device)\n",
        "data_valid = TensorDataset(data_valid_vals, data_valid_labels)\n",
        "valid_loader = DataLoader(dataset = data_valid, batch_size = BATCH_SIZE,  shuffle = False)\n",
        "\n",
        "data_test_vals = torch.tensor(test_in.to_numpy(), dtype=torch.float, device=device)\n",
        "data_test_labels = torch.tensor(test_out_winner.to_numpy(), dtype=torch.long, device=device)\n",
        "data_test = TensorDataset(data_test_vals, data_test_labels)\n",
        "test_loader = DataLoader(dataset = data_test, batch_size = BATCH_SIZE,  shuffle = False)"
      ],
      "execution_count": 347,
      "outputs": []
    },
    {
      "cell_type": "code",
      "metadata": {
        "id": "g8l3zy4eOf2j",
        "outputId": "97934864-a859-4210-974a-0f1407e079cd",
        "colab": {
          "base_uri": "https://localhost:8080/"
        }
      },
      "source": [
        "train_out"
      ],
      "execution_count": 348,
      "outputs": [
        {
          "output_type": "execute_result",
          "data": {
            "text/plain": [
              "0       1.0\n",
              "1       1.0\n",
              "2       1.0\n",
              "3       1.0\n",
              "4       1.0\n",
              "       ... \n",
              "6434    1.0\n",
              "6435    0.0\n",
              "6436    0.0\n",
              "6437    1.0\n",
              "6438    0.0\n",
              "Name: result, Length: 4721, dtype: float64"
            ]
          },
          "metadata": {
            "tags": []
          },
          "execution_count": 348
        }
      ]
    },
    {
      "cell_type": "code",
      "metadata": {
        "id": "nlx0INLPYokp"
      },
      "source": [
        "def trainWinner(model, device, train_loader, optimizer, epochs, criterion, verbose=False):\n",
        "  for epoch in range(epochs):\n",
        "    model.train()\n",
        "    batch_loss = 0\n",
        "    for data, label in train_loader:\n",
        "      data, label = data.to(device), label.to(device)\n",
        "      optimizer.zero_grad()\n",
        "      output = model(data)\n",
        "      loss = criterion(output, label)\n",
        "      loss.backward()\n",
        "      optimizer.step()\n",
        "      batch_loss += loss.item()\n",
        "    if verbose:\n",
        "      print('Train Epoch: %d  \\tLoss: %.6f' % (epoch, np.sqrt(batch_loss/len(train_loader))))\n",
        "\n",
        "def testWinner(model, device, test_loader, criterion):\n",
        "  model.eval()\n",
        "  test_loss = 0\n",
        "  correct = 0\n",
        "  wrong = 0\n",
        "  with torch.no_grad():\n",
        "    for data, label in test_loader:\n",
        "      data, label = data.to(device), label.to(device)\n",
        "      output = model(data)\n",
        "      test_loss += criterion(output, label).item()\n",
        "      correct += torch.sum(torch.argmax(output, dim=1) == label)\n",
        "      wrong += torch.sum(torch.argmax(output, dim=1) != label)\n",
        "  print('Test set: Average loss: %.4f' % np.sqrt(test_loss/len(test_loader)))\n",
        "  print('Accuracy: %.3f%%' % (correct*100/(correct+wrong)))"
      ],
      "execution_count": 342,
      "outputs": []
    },
    {
      "cell_type": "code",
      "metadata": {
        "id": "ErQ_6S9UY0de"
      },
      "source": [
        "class Net(nn.Module):\n",
        "    def __init__(self, input_size):\n",
        "        super(Net, self).__init__()\n",
        "        if gpu:\n",
        "          self.fc1 = nn.Linear(input_size, 20).cuda()\n",
        "          self.fc2 = nn.Linear(20, 10).cuda()\n",
        "          self.fc3 = nn.Linear(10, 2).cuda()\n",
        "        else:\n",
        "          self.fc1 = nn.Linear(input_size, 20)\n",
        "          self.fc2 = nn.Linear(20, 10)\n",
        "          self.fc3 = nn.Linear(10, 2)\n",
        "\n",
        "    def forward(self, x):\n",
        "        x = F.relu(self.fc1(x))\n",
        "        x = F.relu(self.fc2(x))\n",
        "        x = self.fc3(x)\n",
        "        return x\n",
        "\n",
        "modelWinner = Net(np.shape(train_in.to_numpy())[1])"
      ],
      "execution_count": 343,
      "outputs": []
    },
    {
      "cell_type": "code",
      "metadata": {
        "id": "LDkx_IO1ZENR"
      },
      "source": [
        "optimizer = torch.optim.Adam(modelWinner.parameters(), lr=LEARNING_RATE)\n",
        "criterion = nn.CrossEntropyLoss()"
      ],
      "execution_count": 344,
      "outputs": []
    },
    {
      "cell_type": "code",
      "metadata": {
        "colab": {
          "base_uri": "https://localhost:8080/"
        },
        "id": "E7_Gv7AwZIVP",
        "outputId": "1b8b0360-08a0-45d8-dd3d-1d0a331bfb7e"
      },
      "source": [
        "trainWinner(modelWinner, device, train_loader, optimizer, EPOCHS, criterion, verbose=True)"
      ],
      "execution_count": 345,
      "outputs": [
        {
          "output_type": "stream",
          "text": [
            "Train Epoch: 0  \tLoss: 0.844326\n",
            "Train Epoch: 1  \tLoss: 0.741449\n",
            "Train Epoch: 2  \tLoss: 0.709197\n",
            "Train Epoch: 3  \tLoss: 0.698132\n",
            "Train Epoch: 4  \tLoss: 0.693861\n",
            "Train Epoch: 5  \tLoss: 0.688422\n",
            "Train Epoch: 6  \tLoss: 0.684643\n",
            "Train Epoch: 7  \tLoss: 0.682646\n",
            "Train Epoch: 8  \tLoss: 0.679417\n",
            "Train Epoch: 9  \tLoss: 0.675737\n",
            "Train Epoch: 10  \tLoss: 0.669809\n",
            "Train Epoch: 11  \tLoss: 0.667899\n",
            "Train Epoch: 12  \tLoss: 0.668905\n",
            "Train Epoch: 13  \tLoss: 0.661648\n",
            "Train Epoch: 14  \tLoss: 0.664067\n",
            "Train Epoch: 15  \tLoss: 0.661863\n",
            "Train Epoch: 16  \tLoss: 0.665494\n",
            "Train Epoch: 17  \tLoss: 0.658029\n",
            "Train Epoch: 18  \tLoss: 0.653898\n",
            "Train Epoch: 19  \tLoss: 0.651503\n",
            "Train Epoch: 20  \tLoss: 0.647373\n",
            "Train Epoch: 21  \tLoss: 0.650540\n",
            "Train Epoch: 22  \tLoss: 0.651319\n",
            "Train Epoch: 23  \tLoss: 0.644686\n",
            "Train Epoch: 24  \tLoss: 0.644445\n",
            "Train Epoch: 25  \tLoss: 0.644277\n",
            "Train Epoch: 26  \tLoss: 0.647518\n",
            "Train Epoch: 27  \tLoss: 0.638517\n",
            "Train Epoch: 28  \tLoss: 0.658946\n",
            "Train Epoch: 29  \tLoss: 0.652637\n",
            "Train Epoch: 30  \tLoss: 0.640486\n",
            "Train Epoch: 31  \tLoss: 0.640039\n",
            "Train Epoch: 32  \tLoss: 0.633047\n",
            "Train Epoch: 33  \tLoss: 0.635095\n",
            "Train Epoch: 34  \tLoss: 0.637021\n",
            "Train Epoch: 35  \tLoss: 0.632153\n",
            "Train Epoch: 36  \tLoss: 0.627620\n",
            "Train Epoch: 37  \tLoss: 0.628111\n",
            "Train Epoch: 38  \tLoss: 0.634111\n",
            "Train Epoch: 39  \tLoss: 0.627395\n",
            "Train Epoch: 40  \tLoss: 0.625064\n",
            "Train Epoch: 41  \tLoss: 0.624046\n",
            "Train Epoch: 42  \tLoss: 0.621888\n",
            "Train Epoch: 43  \tLoss: 0.619012\n",
            "Train Epoch: 44  \tLoss: 0.619320\n",
            "Train Epoch: 45  \tLoss: 0.616616\n",
            "Train Epoch: 46  \tLoss: 0.617000\n",
            "Train Epoch: 47  \tLoss: 0.616004\n",
            "Train Epoch: 48  \tLoss: 0.615339\n",
            "Train Epoch: 49  \tLoss: 0.611154\n",
            "Train Epoch: 50  \tLoss: 0.606798\n",
            "Train Epoch: 51  \tLoss: 0.606380\n",
            "Train Epoch: 52  \tLoss: 0.611492\n",
            "Train Epoch: 53  \tLoss: 0.613906\n",
            "Train Epoch: 54  \tLoss: 0.619165\n",
            "Train Epoch: 55  \tLoss: 0.614692\n",
            "Train Epoch: 56  \tLoss: 0.610505\n",
            "Train Epoch: 57  \tLoss: 0.609973\n",
            "Train Epoch: 58  \tLoss: 0.603981\n",
            "Train Epoch: 59  \tLoss: 0.604205\n",
            "Train Epoch: 60  \tLoss: 0.604778\n",
            "Train Epoch: 61  \tLoss: 0.602937\n",
            "Train Epoch: 62  \tLoss: 0.601246\n",
            "Train Epoch: 63  \tLoss: 0.603857\n",
            "Train Epoch: 64  \tLoss: 0.606635\n",
            "Train Epoch: 65  \tLoss: 0.602941\n",
            "Train Epoch: 66  \tLoss: 0.600358\n",
            "Train Epoch: 67  \tLoss: 0.594134\n",
            "Train Epoch: 68  \tLoss: 0.598385\n",
            "Train Epoch: 69  \tLoss: 0.592292\n",
            "Train Epoch: 70  \tLoss: 0.604393\n",
            "Train Epoch: 71  \tLoss: 0.593090\n",
            "Train Epoch: 72  \tLoss: 0.594516\n",
            "Train Epoch: 73  \tLoss: 0.599069\n",
            "Train Epoch: 74  \tLoss: 0.593863\n",
            "Train Epoch: 75  \tLoss: 0.591902\n",
            "Train Epoch: 76  \tLoss: 0.591068\n",
            "Train Epoch: 77  \tLoss: 0.586845\n",
            "Train Epoch: 78  \tLoss: 0.585665\n",
            "Train Epoch: 79  \tLoss: 0.588717\n",
            "Train Epoch: 80  \tLoss: 0.587152\n",
            "Train Epoch: 81  \tLoss: 0.596680\n",
            "Train Epoch: 82  \tLoss: 0.592546\n",
            "Train Epoch: 83  \tLoss: 0.590321\n",
            "Train Epoch: 84  \tLoss: 0.582036\n",
            "Train Epoch: 85  \tLoss: 0.583810\n",
            "Train Epoch: 86  \tLoss: 0.584746\n",
            "Train Epoch: 87  \tLoss: 0.584174\n",
            "Train Epoch: 88  \tLoss: 0.597678\n",
            "Train Epoch: 89  \tLoss: 0.583092\n",
            "Train Epoch: 90  \tLoss: 0.576990\n",
            "Train Epoch: 91  \tLoss: 0.580395\n",
            "Train Epoch: 92  \tLoss: 0.569280\n",
            "Train Epoch: 93  \tLoss: 0.580553\n",
            "Train Epoch: 94  \tLoss: 0.586695\n",
            "Train Epoch: 95  \tLoss: 0.587924\n",
            "Train Epoch: 96  \tLoss: 0.580645\n",
            "Train Epoch: 97  \tLoss: 0.575879\n",
            "Train Epoch: 98  \tLoss: 0.578369\n",
            "Train Epoch: 99  \tLoss: 0.582066\n"
          ],
          "name": "stdout"
        }
      ]
    },
    {
      "cell_type": "code",
      "metadata": {
        "colab": {
          "base_uri": "https://localhost:8080/"
        },
        "id": "mudAH5U9ZMsc",
        "outputId": "384e1aee-957d-40ef-a2b7-2b4b0d835b7b"
      },
      "source": [
        "testWinner(modelWinner, device, valid_loader, criterion)"
      ],
      "execution_count": 191,
      "outputs": [
        {
          "output_type": "stream",
          "text": [
            "Test set: Average loss: 0.7771\n",
            "Accuracy: 71.954%\n"
          ],
          "name": "stdout"
        }
      ]
    },
    {
      "cell_type": "code",
      "metadata": {
        "colab": {
          "base_uri": "https://localhost:8080/",
          "height": 312
        },
        "id": "DUNQPq5czBY1",
        "outputId": "ff24e12c-16c5-4b6d-b12a-27fcee9b765b"
      },
      "source": [
        "acc = []\n",
        "for week in range(1, 16):\n",
        "  t = test.loc[test.week == week]\n",
        "  t_in = t.drop(columns=['result'])\n",
        "  t_out = t.result\n",
        "  t_out[t_out>0] = 1\n",
        "  t_out[t_out<0] = 0\n",
        "  tensor_in = torch.tensor(t_in.to_numpy(), dtype=torch.float, device=device)\n",
        "  output = modelWinner(tensor_in)\n",
        "  preds = torch.argmax(output, dim=1).detach().cpu().numpy()\n",
        "  acc.append((np.sum(preds==t_out) / len(t_out))*100.0)\n",
        "  \n",
        "plt.plot(range(1, 16), acc)\n",
        "plt.xlabel('Week')\n",
        "plt.ylabel('% of winners predicted correctly')\n",
        "plt.title('Accuracy by Week on Test Data (2019)')"
      ],
      "execution_count": 38,
      "outputs": [
        {
          "output_type": "execute_result",
          "data": {
            "text/plain": [
              "Text(0.5, 1.0, 'Accuracy by Week on Test Data (2019)')"
            ]
          },
          "metadata": {
            "tags": []
          },
          "execution_count": 38
        },
        {
          "output_type": "display_data",
          "data": {
            "image/png": "[encoded data removed]",
            "text/plain": [
              "<Figure size 432x288 with 1 Axes>"
            ]
          },
          "metadata": {
            "tags": [],
            "needs_background": "light"
          }
        }
      ]
    },
    {
      "cell_type": "markdown",
      "metadata": {
        "id": "jvjv_vNTIrYj"
      },
      "source": [
        "# Compare Best Model to Vegas<a name=\"compare-vegas\"></a>"
      ]
    },
    {
      "cell_type": "code",
      "metadata": {
        "id": "t1oq3RcGJjyW"
      },
      "source": [
        "def predict_betting_wins(pred, spread, result):\n",
        "  '''\n",
        "  predict the percent of the time that you beat vegas in betting\n",
        "\n",
        "  Paramters\n",
        "  ---------\n",
        "  prediction : torch.tensor\n",
        "      vector of predictions of length (N,) where N is number of games\n",
        "  spread : torch.tensor\n",
        "      vector of vegas spreads of length (N,) where N is number of games\n",
        "  result : torch.tensor\n",
        "      vector of actual game results of length (N,) where N is number of games\n",
        "\n",
        "  Returns\n",
        "  -------\n",
        "  winning_percentage : float\n",
        "      percent of time that vegas is beat\n",
        "  '''\n",
        "  spread_v_pred = torch.sign(pred - spread)\n",
        "  spread_v_result = torch.sign(result - spread)\n",
        "  winning_percentage = torch.sum(spread_v_result == spread_v_pred)/result.size()[0]\n",
        "  return winning_percentage\n",
        "\n",
        "def calculate_return(winning_percentage):\n",
        "  return ((winning_percentage * 21/11) - 1) * 100.0"
      ],
      "execution_count": 39,
      "outputs": []
    },
    {
      "cell_type": "code",
      "metadata": {
        "id": "bfcns_PEKFZW",
        "colab": {
          "base_uri": "https://localhost:8080/"
        },
        "outputId": "0b083fab-7981-4877-cb14-6cdd8bf80282"
      },
      "source": [
        "_, _, test = split_data()\n",
        "\n",
        "test_in = test.drop(columns=['result'])\n",
        "test_in_tensor = torch.tensor(test_in.to_numpy(), dtype=torch.float, device=device)\n",
        "pred = modelSpread(test_in_tensor)\n",
        "pred = torch.reshape(pred, (-1,))\n",
        "\n",
        "result = torch.tensor(test.result.to_numpy(), dtype=torch.float, device=device)\n",
        "vegas = torch.tensor(test.spread.to_numpy(), dtype=torch.float, device=device)\n",
        "\n",
        "beating_vegas = predict_betting_wins(pred, vegas, result)\n",
        "print('Percentage of Vegas bets this model would\\'ve won: %.4f%%' % (beating_vegas))\n",
        "print('Average return on investement betting with this model: %.2f%%' % (calculate_return(beating_vegas)))"
      ],
      "execution_count": 40,
      "outputs": [
        {
          "output_type": "stream",
          "text": [
            "Percentage of Vegas bets this model would've won: 0.7017%\n",
            "Average return on investement betting with this model: 33.95%\n"
          ],
          "name": "stdout"
        }
      ]
    },
    {
      "cell_type": "markdown",
      "metadata": {
        "id": "0Rd4-At9p1GL"
      },
      "source": [
        "## New Section John's NN Model"
      ]
    },
    {
      "cell_type": "markdown",
      "metadata": {
        "id": "GWxT6An4IP5S"
      },
      "source": [
        "# Summary<a name=\"summary\"></a>"
      ]
    },
    {
      "cell_type": "markdown",
      "metadata": {
        "id": "4JD1gt80Ji_g"
      },
      "source": [
        "Sample data format:"
      ]
    },
    {
      "cell_type": "code",
      "metadata": {
        "colab": {
          "base_uri": "https://localhost:8080/",
          "height": 320
        },
        "id": "eqzr-sTeuGvK",
        "outputId": "1810d5e2-1646-42e9-910e-c182e9c11604"
      },
      "source": [
        "games.loc[(games.home_team == 'Washington') & (games.season == 2015)]"
      ],
      "execution_count": 41,
      "outputs": [
        {
          "output_type": "execute_result",
          "data": {
            "text/html": [
              "<div>\n",
              "<style scoped>\n",
              "    .dataframe tbody tr th:only-of-type {\n",
              "        vertical-align: middle;\n",
              "    }\n",
              "\n",
              "    .dataframe tbody tr th {\n",
              "        vertical-align: top;\n",
              "    }\n",
              "\n",
              "    .dataframe thead th {\n",
              "        text-align: right;\n",
              "    }\n",
              "</style>\n",
              "<table border=\"1\" class=\"dataframe\">\n",
              "  <thead>\n",
              "    <tr style=\"text-align: right;\">\n",
              "      <th></th>\n",
              "      <th>id</th>\n",
              "      <th>season</th>\n",
              "      <th>week</th>\n",
              "      <th>home_team</th>\n",
              "      <th>away_team</th>\n",
              "      <th>excitement_index</th>\n",
              "      <th>result</th>\n",
              "      <th>spread</th>\n",
              "      <th>homeWinProb</th>\n",
              "      <th>home_games</th>\n",
              "      <th>away_games</th>\n",
              "      <th>firstDowns</th>\n",
              "      <th>fourthDownConversions</th>\n",
              "      <th>fourthDowns</th>\n",
              "      <th>fumblesLost</th>\n",
              "      <th>fumblesRecovered</th>\n",
              "      <th>interceptionTDs</th>\n",
              "      <th>interceptionYards</th>\n",
              "      <th>interceptions</th>\n",
              "      <th>kickReturnTDs</th>\n",
              "      <th>kickReturnYards</th>\n",
              "      <th>kickReturns</th>\n",
              "      <th>netPassingYards</th>\n",
              "      <th>passAttempts</th>\n",
              "      <th>passCompletions</th>\n",
              "      <th>passesIntercepted</th>\n",
              "      <th>passingTDs</th>\n",
              "      <th>penalties</th>\n",
              "      <th>penaltyYards</th>\n",
              "      <th>possessionTime</th>\n",
              "      <th>puntReturnTDs</th>\n",
              "      <th>puntReturnYards</th>\n",
              "      <th>puntReturns</th>\n",
              "      <th>rushingAttempts</th>\n",
              "      <th>rushingTDs</th>\n",
              "      <th>rushingYards</th>\n",
              "      <th>thirdDownConversions</th>\n",
              "      <th>thirdDowns</th>\n",
              "      <th>totalYards</th>\n",
              "      <th>turnovers</th>\n",
              "      <th>home_for</th>\n",
              "      <th>home_against</th>\n",
              "      <th>away_for</th>\n",
              "      <th>away_against</th>\n",
              "      <th>home_rank</th>\n",
              "      <th>away_rank</th>\n",
              "      <th>win_difference</th>\n",
              "    </tr>\n",
              "  </thead>\n",
              "  <tbody>\n",
              "    <tr>\n",
              "      <th>1752</th>\n",
              "      <td>400757020</td>\n",
              "      <td>2015</td>\n",
              "      <td>2</td>\n",
              "      <td>Washington</td>\n",
              "      <td>Sacramento State</td>\n",
              "      <td>0.450862</td>\n",
              "      <td>49.0</td>\n",
              "      <td>30.0</td>\n",
              "      <td>0.961</td>\n",
              "      <td>1.0</td>\n",
              "      <td>0.0</td>\n",
              "      <td>0.000000</td>\n",
              "      <td>0.000000</td>\n",
              "      <td>0.000000</td>\n",
              "      <td>0.000000</td>\n",
              "      <td>0.000000</td>\n",
              "      <td>0.000000</td>\n",
              "      <td>0.000000</td>\n",
              "      <td>0.000000</td>\n",
              "      <td>0.000</td>\n",
              "      <td>0.000000</td>\n",
              "      <td>0.000000</td>\n",
              "      <td>0.000000</td>\n",
              "      <td>0.000000</td>\n",
              "      <td>0.000000</td>\n",
              "      <td>0.000000</td>\n",
              "      <td>0.000000</td>\n",
              "      <td>0.000000</td>\n",
              "      <td>0.000000</td>\n",
              "      <td>0.000000</td>\n",
              "      <td>0.000000</td>\n",
              "      <td>0.000000</td>\n",
              "      <td>0.000000</td>\n",
              "      <td>0.000000</td>\n",
              "      <td>0.000000</td>\n",
              "      <td>0.000000</td>\n",
              "      <td>0.000000</td>\n",
              "      <td>0.000000</td>\n",
              "      <td>0.000000</td>\n",
              "      <td>0.000000</td>\n",
              "      <td>13.000000</td>\n",
              "      <td>16.000000</td>\n",
              "      <td>0.000000</td>\n",
              "      <td>0.000000</td>\n",
              "      <td>-1.0</td>\n",
              "      <td>-1.0</td>\n",
              "      <td>0.000000</td>\n",
              "    </tr>\n",
              "    <tr>\n",
              "      <th>1849</th>\n",
              "      <td>400757032</td>\n",
              "      <td>2015</td>\n",
              "      <td>3</td>\n",
              "      <td>Washington</td>\n",
              "      <td>Utah State</td>\n",
              "      <td>3.141362</td>\n",
              "      <td>14.0</td>\n",
              "      <td>3.5</td>\n",
              "      <td>0.582</td>\n",
              "      <td>2.0</td>\n",
              "      <td>2.0</td>\n",
              "      <td>-1.000000</td>\n",
              "      <td>1.000000</td>\n",
              "      <td>2.000000</td>\n",
              "      <td>0.000000</td>\n",
              "      <td>0.500000</td>\n",
              "      <td>0.000000</td>\n",
              "      <td>3.000000</td>\n",
              "      <td>-1.000000</td>\n",
              "      <td>0.000</td>\n",
              "      <td>24.500000</td>\n",
              "      <td>1.000000</td>\n",
              "      <td>55.000000</td>\n",
              "      <td>-4.000000</td>\n",
              "      <td>-0.500000</td>\n",
              "      <td>1.000000</td>\n",
              "      <td>0.000000</td>\n",
              "      <td>-4.500000</td>\n",
              "      <td>-61.000000</td>\n",
              "      <td>-136.500000</td>\n",
              "      <td>0.000000</td>\n",
              "      <td>-37.000000</td>\n",
              "      <td>-4.000000</td>\n",
              "      <td>-4.500000</td>\n",
              "      <td>2.500000</td>\n",
              "      <td>-5.000000</td>\n",
              "      <td>-1.000000</td>\n",
              "      <td>-3.000000</td>\n",
              "      <td>50.000000</td>\n",
              "      <td>-1.000000</td>\n",
              "      <td>31.000000</td>\n",
              "      <td>8.000000</td>\n",
              "      <td>13.000000</td>\n",
              "      <td>16.500000</td>\n",
              "      <td>-1.0</td>\n",
              "      <td>-1.0</td>\n",
              "      <td>0.000000</td>\n",
              "    </tr>\n",
              "    <tr>\n",
              "      <th>1915</th>\n",
              "      <td>400757040</td>\n",
              "      <td>2015</td>\n",
              "      <td>4</td>\n",
              "      <td>Washington</td>\n",
              "      <td>California</td>\n",
              "      <td>5.311134</td>\n",
              "      <td>-6.0</td>\n",
              "      <td>-2.0</td>\n",
              "      <td>0.453</td>\n",
              "      <td>3.0</td>\n",
              "      <td>3.0</td>\n",
              "      <td>-9.000000</td>\n",
              "      <td>-0.666667</td>\n",
              "      <td>0.333333</td>\n",
              "      <td>0.000000</td>\n",
              "      <td>-0.333333</td>\n",
              "      <td>-0.666667</td>\n",
              "      <td>19.333333</td>\n",
              "      <td>-0.333333</td>\n",
              "      <td>0.000</td>\n",
              "      <td>24.333333</td>\n",
              "      <td>1.000000</td>\n",
              "      <td>-72.000000</td>\n",
              "      <td>-6.666667</td>\n",
              "      <td>-6.333333</td>\n",
              "      <td>-1.333333</td>\n",
              "      <td>-1.666667</td>\n",
              "      <td>-1.000000</td>\n",
              "      <td>-12.000000</td>\n",
              "      <td>-112.333333</td>\n",
              "      <td>0.333333</td>\n",
              "      <td>35.000000</td>\n",
              "      <td>0.333333</td>\n",
              "      <td>-7.666667</td>\n",
              "      <td>-1.000000</td>\n",
              "      <td>-102.666667</td>\n",
              "      <td>0.000000</td>\n",
              "      <td>0.666667</td>\n",
              "      <td>-174.666667</td>\n",
              "      <td>-0.333333</td>\n",
              "      <td>31.000000</td>\n",
              "      <td>11.000000</td>\n",
              "      <td>51.000000</td>\n",
              "      <td>21.666667</td>\n",
              "      <td>-1.0</td>\n",
              "      <td>-1.0</td>\n",
              "      <td>-0.333333</td>\n",
              "    </tr>\n",
              "    <tr>\n",
              "      <th>2110</th>\n",
              "      <td>400757054</td>\n",
              "      <td>2015</td>\n",
              "      <td>7</td>\n",
              "      <td>Washington</td>\n",
              "      <td>Oregon</td>\n",
              "      <td>4.521294</td>\n",
              "      <td>-6.0</td>\n",
              "      <td>0.0</td>\n",
              "      <td>0.000</td>\n",
              "      <td>5.0</td>\n",
              "      <td>6.0</td>\n",
              "      <td>-8.466667</td>\n",
              "      <td>-0.900000</td>\n",
              "      <td>-1.600000</td>\n",
              "      <td>0.533333</td>\n",
              "      <td>-0.400000</td>\n",
              "      <td>-0.166667</td>\n",
              "      <td>14.733333</td>\n",
              "      <td>0.000000</td>\n",
              "      <td>0.000</td>\n",
              "      <td>-65.633333</td>\n",
              "      <td>-3.100000</td>\n",
              "      <td>22.000000</td>\n",
              "      <td>2.066667</td>\n",
              "      <td>1.266667</td>\n",
              "      <td>0.400000</td>\n",
              "      <td>-0.633333</td>\n",
              "      <td>-2.566667</td>\n",
              "      <td>-18.566667</td>\n",
              "      <td>20.666667</td>\n",
              "      <td>0.033333</td>\n",
              "      <td>9.933333</td>\n",
              "      <td>0.233333</td>\n",
              "      <td>-19.300000</td>\n",
              "      <td>-1.200000</td>\n",
              "      <td>-206.066667</td>\n",
              "      <td>-0.800000</td>\n",
              "      <td>-1.400000</td>\n",
              "      <td>-184.066667</td>\n",
              "      <td>0.533333</td>\n",
              "      <td>26.800000</td>\n",
              "      <td>15.000000</td>\n",
              "      <td>41.500000</td>\n",
              "      <td>38.666667</td>\n",
              "      <td>-1.0</td>\n",
              "      <td>-1.0</td>\n",
              "      <td>0.100000</td>\n",
              "    </tr>\n",
              "    <tr>\n",
              "      <th>2219</th>\n",
              "      <td>400757062</td>\n",
              "      <td>2015</td>\n",
              "      <td>9</td>\n",
              "      <td>Washington</td>\n",
              "      <td>Arizona</td>\n",
              "      <td>2.742335</td>\n",
              "      <td>46.0</td>\n",
              "      <td>0.0</td>\n",
              "      <td>0.000</td>\n",
              "      <td>7.0</td>\n",
              "      <td>8.0</td>\n",
              "      <td>-10.214286</td>\n",
              "      <td>-0.321429</td>\n",
              "      <td>-0.875000</td>\n",
              "      <td>-0.017857</td>\n",
              "      <td>0.178571</td>\n",
              "      <td>-0.125000</td>\n",
              "      <td>17.375000</td>\n",
              "      <td>0.732143</td>\n",
              "      <td>0.000</td>\n",
              "      <td>23.892857</td>\n",
              "      <td>0.857143</td>\n",
              "      <td>-40.892857</td>\n",
              "      <td>-5.464286</td>\n",
              "      <td>-3.321429</td>\n",
              "      <td>0.392857</td>\n",
              "      <td>-1.125000</td>\n",
              "      <td>-0.392857</td>\n",
              "      <td>-2.642857</td>\n",
              "      <td>5.375000</td>\n",
              "      <td>0.017857</td>\n",
              "      <td>7.303571</td>\n",
              "      <td>0.803571</td>\n",
              "      <td>-13.750000</td>\n",
              "      <td>-1.410714</td>\n",
              "      <td>-159.964286</td>\n",
              "      <td>-2.964286</td>\n",
              "      <td>-2.446429</td>\n",
              "      <td>-200.857143</td>\n",
              "      <td>0.714286</td>\n",
              "      <td>24.000000</td>\n",
              "      <td>18.857143</td>\n",
              "      <td>41.750000</td>\n",
              "      <td>32.375000</td>\n",
              "      <td>-1.0</td>\n",
              "      <td>-1.0</td>\n",
              "      <td>-0.196429</td>\n",
              "    </tr>\n",
              "    <tr>\n",
              "      <th>2273</th>\n",
              "      <td>400757071</td>\n",
              "      <td>2015</td>\n",
              "      <td>10</td>\n",
              "      <td>Washington</td>\n",
              "      <td>Utah</td>\n",
              "      <td>7.818279</td>\n",
              "      <td>-11.0</td>\n",
              "      <td>0.0</td>\n",
              "      <td>0.000</td>\n",
              "      <td>8.0</td>\n",
              "      <td>8.0</td>\n",
              "      <td>-3.625000</td>\n",
              "      <td>-1.000000</td>\n",
              "      <td>-1.000000</td>\n",
              "      <td>0.375000</td>\n",
              "      <td>-0.250000</td>\n",
              "      <td>-0.125000</td>\n",
              "      <td>1.000000</td>\n",
              "      <td>-0.250000</td>\n",
              "      <td>-0.125</td>\n",
              "      <td>21.875000</td>\n",
              "      <td>0.875000</td>\n",
              "      <td>9.125000</td>\n",
              "      <td>0.250000</td>\n",
              "      <td>-2.625000</td>\n",
              "      <td>-0.250000</td>\n",
              "      <td>-0.125000</td>\n",
              "      <td>0.250000</td>\n",
              "      <td>6.000000</td>\n",
              "      <td>-346.250000</td>\n",
              "      <td>-0.125000</td>\n",
              "      <td>-18.750000</td>\n",
              "      <td>-1.000000</td>\n",
              "      <td>-9.875000</td>\n",
              "      <td>-0.125000</td>\n",
              "      <td>-46.125000</td>\n",
              "      <td>-1.625000</td>\n",
              "      <td>-2.375000</td>\n",
              "      <td>-37.000000</td>\n",
              "      <td>0.125000</td>\n",
              "      <td>27.125000</td>\n",
              "      <td>16.875000</td>\n",
              "      <td>33.750000</td>\n",
              "      <td>21.375000</td>\n",
              "      <td>-1.0</td>\n",
              "      <td>13.0</td>\n",
              "      <td>-0.375000</td>\n",
              "    </tr>\n",
              "    <tr>\n",
              "      <th>2414</th>\n",
              "      <td>400757086</td>\n",
              "      <td>2015</td>\n",
              "      <td>13</td>\n",
              "      <td>Washington</td>\n",
              "      <td>Washington State</td>\n",
              "      <td>3.400944</td>\n",
              "      <td>35.0</td>\n",
              "      <td>5.5</td>\n",
              "      <td>0.627</td>\n",
              "      <td>11.0</td>\n",
              "      <td>11.0</td>\n",
              "      <td>-7.090909</td>\n",
              "      <td>-1.545455</td>\n",
              "      <td>-1.545455</td>\n",
              "      <td>0.272727</td>\n",
              "      <td>-0.272727</td>\n",
              "      <td>-0.090909</td>\n",
              "      <td>7.090909</td>\n",
              "      <td>0.000000</td>\n",
              "      <td>0.000</td>\n",
              "      <td>-0.454545</td>\n",
              "      <td>0.000000</td>\n",
              "      <td>-168.454545</td>\n",
              "      <td>-25.909091</td>\n",
              "      <td>-20.636364</td>\n",
              "      <td>0.272727</td>\n",
              "      <td>-1.909091</td>\n",
              "      <td>-0.454545</td>\n",
              "      <td>7.909091</td>\n",
              "      <td>-116.181818</td>\n",
              "      <td>0.181818</td>\n",
              "      <td>17.454545</td>\n",
              "      <td>0.454545</td>\n",
              "      <td>11.000000</td>\n",
              "      <td>1.000000</td>\n",
              "      <td>60.545455</td>\n",
              "      <td>-1.545455</td>\n",
              "      <td>-2.090909</td>\n",
              "      <td>-107.909091</td>\n",
              "      <td>0.272727</td>\n",
              "      <td>28.090909</td>\n",
              "      <td>18.454545</td>\n",
              "      <td>34.454545</td>\n",
              "      <td>27.363636</td>\n",
              "      <td>-1.0</td>\n",
              "      <td>20.0</td>\n",
              "      <td>-0.272727</td>\n",
              "    </tr>\n",
              "  </tbody>\n",
              "</table>\n",
              "</div>"
            ],
            "text/plain": [
              "             id  season  week  ... home_rank away_rank  win_difference\n",
              "1752  400757020    2015     2  ...      -1.0      -1.0        0.000000\n",
              "1849  400757032    2015     3  ...      -1.0      -1.0        0.000000\n",
              "1915  400757040    2015     4  ...      -1.0      -1.0       -0.333333\n",
              "2110  400757054    2015     7  ...      -1.0      -1.0        0.100000\n",
              "2219  400757062    2015     9  ...      -1.0      -1.0       -0.196429\n",
              "2273  400757071    2015    10  ...      -1.0      13.0       -0.375000\n",
              "2414  400757086    2015    13  ...      -1.0      20.0       -0.272727\n",
              "\n",
              "[7 rows x 47 columns]"
            ]
          },
          "metadata": {
            "tags": []
          },
          "execution_count": 41
        }
      ]
    },
    {
      "cell_type": "markdown",
      "metadata": {
        "id": "DyvHQdpPJdLx"
      },
      "source": [
        "Results:"
      ]
    },
    {
      "cell_type": "markdown",
      "metadata": {
        "id": "fus3d9wxIkUX"
      },
      "source": [
        "| Model | Validation RMSE (points) | Validation Accuracy (%) | Test RMSE (points) | Test Accuracy (%) |\n",
        "| :---: | :---: | :---: | :---: | :---: |\n",
        "| Vegas Spreads | - | - | 16.54 | 75.7 |\n",
        "| Simple Linear | - | - | 20.53 | 72.1 |\n",
        "| Complex Linear | - | - | 15.47 | 77.7 |\n",
        "| Complex Linear w/ L1 | 16.66 | - | 18.35 | 77.5 |\n",
        "| Random Forest | - | 76.67 | - | 78.8 |\n",
        "| Neural Net for Spread Prediction | 14.74 | - | 12.89 | - |\n",
        "| Neural Net for Winner Prediction | - | 72.64 | - | - |"
      ]
    }
  ]
}