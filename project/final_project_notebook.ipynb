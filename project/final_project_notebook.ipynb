{
  "nbformat": 4,
  "nbformat_minor": 0,
  "metadata": {
    "colab": {
      "name": "EE511_Project.ipynb",
      "provenance": [],
      "collapsed_sections": [],
      "toc_visible": true,
      "include_colab_link": true
    },
    "kernelspec": {
      "display_name": "Python 3",
      "language": "python",
      "name": "python3"
    },
    "language_info": {
      "codemirror_mode": {
        "name": "ipython",
        "version": 3
      },
      "file_extension": ".py",
      "mimetype": "text/x-python",
      "name": "python",
      "nbconvert_exporter": "python",
      "pygments_lexer": "ipython3",
      "version": "3.8.3-final"
    },
    "accelerator": "GPU"
  },
  "cells": [
    {
      "cell_type": "markdown",
      "metadata": {
        "id": "view-in-github",
        "colab_type": "text"
      },
      "source": [
        "<a href=\"https://colab.research.google.com/github/John-Ragland/ee511_assignments/blob/main/project/final_project_notebook.ipynb\" target=\"_parent\"><img src=\"https://colab.research.google.com/assets/colab-badge.svg\" alt=\"Open In Colab\"/></a>"
      ]
    },
    {
      "cell_type": "markdown",
      "metadata": {
        "id": "vibcOMuPsohz"
      },
      "source": [
        "# Table of Contents\n",
        "* [Setup & Data Retrieval](#set-up)\n",
        "* [Baseline Models](#baseline)\n",
        "  + [Vegas Baseline](#vegas) : Spread RMSE=16.54, Winner acc=75.7%\n",
        "  + [Simple Linear Baseline](#simple-linear) : Spread RMSE=20.5, Winner acc=72.1%\n",
        "* [More Complex Models](#complex-models)\n",
        "  + [Complex Linear Model](#linear-complex) : Spread RMSE=16.66, Winner acc=%75.2\n",
        "  + [L1 Regularization](#l1) : Spread RMSE=23.22, Winner acc=65%\n",
        "  + [Random Forest Model](#random-forest) : Winner acc=76%\n",
        "* [Neural Networks](#nn)\n",
        "  + [NN for Predicting the Spread](#spread-regression-nn) : Spread RMSE=12.45\n",
        "  + [NN for Classifying the Winner](#winner-classifier-nn) : Winner acc=83%\n",
        "  + [NN for Classifying Bet](#bet-classifier-nn) : Bet Accuracy = 65%\n",
        "* [Compare to Vegas](#compare-vegas)\n",
        "* [Summary](#summary)\n",
        "\n"
      ]
    },
    {
      "cell_type": "markdown",
      "metadata": {
        "id": "0iWWUiEstgqs"
      },
      "source": [
        "# Setup the Notebook and Get Data<a name=\"set-up\"></a>"
      ]
    },
    {
      "cell_type": "code",
      "metadata": {
        "id": "HHKM4gIXPMUY"
      },
      "source": [
        "# Suppress Warnings\n",
        "def warn(*args, **kwargs):\n",
        "    pass\n",
        "import warnings\n",
        "warnings.warn = warn\n",
        "\n",
        "import numpy as np\n",
        "import pandas as pd\n",
        "from matplotlib import pyplot as plt\n",
        "from sklearn.linear_model import LinearRegression, Lasso\n",
        "from sklearn.metrics import mean_squared_error\n",
        "from sklearn.preprocessing import OneHotEncoder\n",
        "from sklearn.ensemble import RandomForestClassifier\n",
        "import torch\n",
        "import torch.nn as nn \n",
        "import torch.optim as optim\n",
        "import torch.nn.functional as F\n",
        "from torch.utils.data import TensorDataset, DataLoader\n",
        "from sklearn.model_selection import KFold"
      ],
      "execution_count": 1,
      "outputs": []
    },
    {
      "cell_type": "code",
      "metadata": {
        "id": "4ZFeQkdrPMUe"
      },
      "source": [
        "# look_back = 3 # games\n",
        "def get_data(data_type, start_year, end_year=2020, week=None):\n",
        "    website = 'https://api.collegefootballdata.com/' + data_type\n",
        "    frames = []\n",
        "    for year in range(start_year, end_year+1):\n",
        "        url = website + '?year=%d' % year\n",
        "        if week:\n",
        "          # start = max(week - look_back, 1)\n",
        "          # url += '&startWeek=%d' % start\n",
        "          url += '&endWeek=%d' % week\n",
        "        frames.append(pd.read_json(url))\n",
        "    return pd.concat(frames)"
      ],
      "execution_count": 2,
      "outputs": []
    },
    {
      "cell_type": "code",
      "metadata": {
        "id": "l5tADrqecXas"
      },
      "source": [
        "def get_weekly_stats(start_year):\n",
        "  frames = []\n",
        "  for week in range(1, 16):\n",
        "    week_frame = get_data('stats/season', start_year, week=week)\n",
        "    week_frame['week'] = week+1\n",
        "    frames.append(week_frame)\n",
        "  return pd.concat(frames)"
      ],
      "execution_count": 3,
      "outputs": []
    },
    {
      "cell_type": "code",
      "metadata": {
        "id": "4Lqv3yilW45-"
      },
      "source": [
        "# collect the data\n",
        "begin = 2013\n",
        "original_stats = get_weekly_stats(begin)\n",
        "original_games = get_data('games', begin)\n",
        "original_teams = pd.read_json('https://api.collegefootballdata.com/teams')\n",
        "original_spread = get_data('metrics/wp/pregame', begin)\n",
        "original_rankings = get_data('rankings', begin)"
      ],
      "execution_count": 4,
      "outputs": []
    },
    {
      "cell_type": "code",
      "metadata": {
        "id": "XktiXvr3olJX",
        "colab": {
          "base_uri": "https://localhost:8080/"
        },
        "outputId": "b726a4bf-51e4-477c-f515-5e2a3c06da72"
      },
      "source": [
        "# get the games and calculate spread (result)\n",
        "games = original_games\n",
        "games = games.assign(result = (games.home_points-games.away_points))\n",
        "games = games.loc[:, games.columns.intersection(['id', 'season', 'week', 'home_team', 'away_team', 'result', 'excitement_index'])]\n",
        "\n",
        "# add pregame predictions\n",
        "spreads = original_spread.loc[:, original_spread.columns.intersection(['gameId', 'spread', 'homeWinProb'])]\n",
        "spreads.spread *= -1\n",
        "games = pd.merge(games, spreads, how='left', left_on=['id'], right_on=['gameId']).drop(['gameId'], axis=1)\n",
        "\n",
        "# get the list of stats\n",
        "stats = original_stats\n",
        "stats = stats.drop(columns=['conference'])\n",
        "w = stats.loc[(stats.team == 'Washington') & (stats.season == begin)]\n",
        "stat_cols = w.statName.to_list()\n",
        "stat_cols = list(set(stat_cols)) # remove duplicates\n",
        "stat_cols.sort()\n",
        "stat_cols.remove('games')\n",
        "print(stat_cols)\n",
        "\n",
        "# add each stat of both teams\n",
        "s = stats.loc[(stats.statName == 'games')]\n",
        "s = s.drop(columns=['statName'])\n",
        "games = pd.merge(games, s.rename(columns={'statValue': 'home_games'}), how='left', left_on=['season', 'home_team', 'week'], right_on=['season', 'team', 'week']).drop(['team'], axis=1)\n",
        "games = pd.merge(games, s.rename(columns={'statValue': 'away_games'}), how='left', left_on=['season', 'away_team', 'week'], right_on=['season', 'team', 'week']).drop(['team'], axis=1)\n",
        "\n",
        "for stat in stat_cols:\n",
        "  s = stats.loc[(stats.statName == stat)]\n",
        "  s = s.drop(columns=['statName'])\n",
        "  games = pd.merge(games, s.rename(columns={'statValue': 'home_'+stat}), how='left', left_on=['season', 'home_team', 'week'], right_on=['season', 'team', 'week']).drop(['team'], axis=1)\n",
        "  games = pd.merge(games, s.rename(columns={'statValue': 'away_'+stat}), how='left', left_on=['season', 'away_team', 'week'], right_on=['season', 'team', 'week']).drop(['team'], axis=1)\n",
        "  games = games.fillna(0)\n",
        "  games[stat] = (games['home_'+stat]/games.home_games) - (games['away_'+stat]/games.away_games)\n",
        "  games = games.drop(columns=['home_'+stat, 'away_'+stat])\n",
        "\n",
        "games = games.fillna(0)"
      ],
      "execution_count": 5,
      "outputs": [
        {
          "output_type": "stream",
          "text": [
            "['firstDowns', 'fourthDownConversions', 'fourthDowns', 'fumblesLost', 'fumblesRecovered', 'interceptionTDs', 'interceptionYards', 'interceptions', 'kickReturnTDs', 'kickReturnYards', 'kickReturns', 'netPassingYards', 'passAttempts', 'passCompletions', 'passesIntercepted', 'passingTDs', 'penalties', 'penaltyYards', 'possessionTime', 'puntReturnTDs', 'puntReturnYards', 'puntReturns', 'rushingAttempts', 'rushingTDs', 'rushingYards', 'thirdDownConversions', 'thirdDowns', 'totalYards', 'turnovers']\n"
          ],
          "name": "stdout"
        }
      ]
    },
    {
      "cell_type": "code",
      "metadata": {
        "id": "HGMQRCUjLlvN"
      },
      "source": [
        "# create the table for total points a team scored for and against before a given week\n",
        "points_per_game = original_teams.loc[:, original_teams.columns.intersection(['school'])]\n",
        "points_per_game['year'] = 2020\n",
        "one_season = points_per_game.copy()\n",
        "for year in range(2004, 2020):\n",
        "  temp = one_season.copy()\n",
        "  temp['year'] = year\n",
        "  points_per_game = pd.concat([points_per_game, temp], ignore_index=True)\n",
        "\n",
        "points_per_game[('points_for_week1')] = 0.0\n",
        "points_per_game[('points_against_week1')] = 0.0\n",
        "scores = original_games.loc[:, original_games.columns.intersection(['season', 'week', 'home_team', 'away_team', 'home_points', 'away_points'])]\n",
        "scores['week'] += 1\n",
        "for week in range(2, 16):\n",
        "  this_scores = scores.loc[scores.week == week]\n",
        "  this_scores = this_scores.rename(columns={'home_points': ('points_for_week%d' % week), 'away_points': ('points_against_week%d' % week)})\n",
        "  points_per_game = pd.merge(points_per_game, this_scores, how='left', left_on=['school', 'year'], right_on=['home_team', 'season']).drop(['home_team', 'away_team', 'season', 'week'], axis=1)\n",
        "  this_scores = scores.loc[scores.week == week]\n",
        "  this_scores = this_scores.rename(columns={'away_points': ('points_for_week%d' % week), 'home_points': ('points_against_week%d' % week)})\n",
        "  points_per_game = pd.merge(points_per_game, this_scores, how='left', left_on=['school', 'year'], right_on=['away_team', 'season']).drop(['home_team', 'away_team', 'season', 'week'], axis=1)\n",
        "  points_per_game = points_per_game.fillna(0)\n",
        "  points_per_game[('points_for_week%d' % week)] = points_per_game[('points_for_week%d_x' % week)] + points_per_game[('points_for_week%d_y' % week)]\n",
        "  points_per_game[('points_against_week%d' % week)] = points_per_game[('points_against_week%d_x' % week)] + points_per_game[('points_against_week%d_y' % week)]\n",
        "  points_per_game = points_per_game.drop(columns=[('points_for_week%d_x' % week), ('points_for_week%d_y' % week), ('points_against_week%d_x' % week), ('points_against_week%d_y' % week)])\n",
        "\n",
        "for week in range(2, 16):\n",
        "  points_per_game[('points_for_week%d' % week)] += points_per_game[('points_for_week%d' % (week-1))]\n",
        "  points_per_game[('points_against_week%d' % week)] += points_per_game[('points_against_week%d' % (week-1))]\n",
        "\n",
        "for week in range(1,16):\n",
        "  points = points_per_game.loc[:, points_per_game.columns.intersection(['year', 'school', ('points_for_week%d' % week), ('points_against_week%d' % week)])]\n",
        "  points = points.rename(columns={('points_for_week%d' % week): 'home_for', ('points_against_week%d' % week): 'home_against'})\n",
        "  points['week'] = week\n",
        "  games = pd.merge(games, points, how='left', left_on=['home_team', 'season', 'week'], right_on=['school', 'year', 'week']).drop(['school', 'year'], axis=1)\n",
        "  points = points.rename(columns={'home_for': 'away_for', 'home_against': 'away_against'})\n",
        "  games = pd.merge(games, points, how='left', left_on=['away_team', 'season', 'week'], right_on=['school', 'year', 'week']).drop(['school', 'year'], axis=1)\n",
        "  if (week > 1):\n",
        "    games['home_for'] = games['home_for_x'].fillna(0) + games['home_for_y'].fillna(0)\n",
        "    games['home_against'] = games['home_against_x'].fillna(0) + games['home_against_y'].fillna(0)\n",
        "    games['away_for'] = games['away_for_x'].fillna(0) + games['away_for_y'].fillna(0)\n",
        "    games['away_against'] = games['away_against_x'].fillna(0) + games['away_against_y'].fillna(0)\n",
        "    games = games.drop(columns=['home_for_x', 'home_for_y', 'home_against_x', 'home_against_y', 'away_for_x', 'away_for_y', 'away_against_x', 'away_against_y'])\n",
        "\n",
        "games['home_for'] /= games['home_games']\n",
        "games['home_against'] /= games['home_games']\n",
        "games['away_for'] /= games['away_games']\n",
        "games['away_against'] /= games['away_games']\n",
        "games = games.fillna(0)\n",
        "\n",
        "# points_per_game.loc[points_per_game.school == 'Washington']"
      ],
      "execution_count": 6,
      "outputs": []
    },
    {
      "cell_type": "code",
      "metadata": {
        "id": "mO5O5r2aZie9"
      },
      "source": [
        "# add ap-top 25 rankings for each team, -1 if not ranked\n",
        "rankings = original_rankings.drop(columns = ['seasonType'])\n",
        "rankings['rank1_name'] = [d[0].get('poll') for d in rankings.polls]\n",
        "rankings['rank1_ranks'] = [d[0].get('ranks') for d in rankings.polls]\n",
        "rankings['rank2_name'] = [d[1].get('poll') for d in rankings.polls]\n",
        "rankings['rank2_ranks'] = [d[1].get('ranks') for d in rankings.polls]\n",
        "rankings.loc[rankings['rank1_name'] == 'AP Top 25', 'ap'] = rankings.loc[rankings['rank1_name'] == 'AP Top 25'].rank1_ranks\n",
        "rankings.loc[rankings['rank2_name'] == 'AP Top 25', 'ap'] = rankings.loc[rankings['rank2_name'] == 'AP Top 25'].rank2_ranks\n",
        "rankings = rankings.drop(columns=['rank1_name', 'rank2_name', 'rank1_ranks', 'rank2_ranks', 'polls'])\n",
        "rankings = rankings.reset_index(drop=True)\n",
        "rankings = rankings.explode('ap').reset_index(drop=True)\n",
        "rankings['school'] = [d.get('school') for d in rankings.ap]\n",
        "rankings['rank'] = [d.get('rank') for d in rankings.ap]\n",
        "rankings = rankings.drop(columns=['ap'])\n",
        "games = pd.merge(games, rankings.rename(columns={'rank': 'home_rank'}), how='left', left_on=['season', 'week', 'home_team'], right_on=['season', 'week', 'school']).drop(['school'], axis=1)\n",
        "games = pd.merge(games, rankings.rename(columns={'rank': 'away_rank'}), how='left', left_on=['season', 'week', 'away_team'], right_on=['season', 'week', 'school']).drop(['school'], axis=1)\n",
        "games = games.fillna(-1)\n"
      ],
      "execution_count": 7,
      "outputs": []
    },
    {
      "cell_type": "code",
      "metadata": {
        "id": "URAp-fVEA8Rn"
      },
      "source": [
        "# Add record up to game\n",
        "# Create list of teams\n",
        "teams = pd.concat((games['home_team'], games['away_team'])).unique()\n",
        "\n",
        "# Create Team ID\n",
        "team_id = np.arange(0,len(teams))\n",
        "team2id = dict(zip(teams, team_id))\n",
        "\n",
        "num_seasons = len(games['season'].unique())\n",
        "season2id = dict(zip(games['season'].unique(), np.arange(0,num_seasons)))\n",
        "# Create Wins Lookup Table\n",
        "win_data = np.zeros((num_seasons, len(teams),17))\n",
        "#print(win_data.shape) #(season, team, week)\n",
        "\n",
        "# loop through every game in games df\n",
        "for k in range(len(games)):\n",
        "  home_team = games['home_team'][k]\n",
        "  away_team = games['away_team'][k]\n",
        "  result = np.sign(games['result'][k])\n",
        "  week = games['week'][k]\n",
        "  season = games['season'][k]\n",
        "  \n",
        "  home_id = team2id[home_team]\n",
        "  away_id = team2id[away_team]\n",
        "  seas_id = season2id[season]\n",
        "  if result == 1: # Home team won\n",
        "      win_data[seas_id, home_id, (week+1):] += 1\n",
        "  else: # Away team won\n",
        "      win_data[seas_id, away_id, (week+1):] += 1\n",
        "\n",
        "# populate games df\n",
        "away_wins = []\n",
        "home_wins = []\n",
        "for k in range(len(games)):\n",
        "    week = games['week'][k]\n",
        "    home = games['home_team'][k]\n",
        "    away = games['away_team'][k]\n",
        "    season = games['season'][k]\n",
        "    away_wins.append(win_data[season2id[season],team2id[away],week])\n",
        "    home_wins.append(win_data[season2id[season],team2id[home],week])\n",
        "    \n",
        "games['home_wins'] = home_wins/games.home_games\n",
        "games['away_wins'] = away_wins/games.away_games\n",
        "games = games.fillna(0)\n",
        "games.replace(np.inf, 0, inplace=True)\n",
        "games.replace(-np.inf, 0, inplace=True)\n",
        "games['win_difference'] = games['home_wins'] - games['away_wins']\n",
        "games = games.drop(columns=['home_wins', 'away_wins'])"
      ],
      "execution_count": 8,
      "outputs": []
    },
    {
      "cell_type": "code",
      "metadata": {
        "id": "CWDx2UKm02LE"
      },
      "source": [
        "def split_data(val_season=2018, test_season=2019):\n",
        "  games_copy = games.copy()\n",
        "  games_copy = games_copy.drop(columns=['id', 'home_team', 'away_team'])\n",
        "  games_copy = games_copy.fillna(0)\n",
        "  \n",
        "  test = games_copy.loc[games_copy.season == test_season]\n",
        "  test = test.drop(columns=['season'])\n",
        "  if val_season:\n",
        "    valid = games_copy.loc[games_copy.season == val_season]\n",
        "    valid = valid.drop(columns=['season'])\n",
        "    train = games_copy.loc[(games_copy.season != val_season) & (games_copy.season != test_season)]\n",
        "    train = train.drop(columns=['season'])\n",
        "    return train, valid, test\n",
        "  else:\n",
        "    train = games_copy.loc[games_copy.season != test_season]\n",
        "    train = train.drop(columns=['season'])\n",
        "    return train, test"
      ],
      "execution_count": 9,
      "outputs": []
    },
    {
      "cell_type": "code",
      "metadata": {
        "id": "4HHeYhQuwkEj",
        "colab": {
          "base_uri": "https://localhost:8080/"
        },
        "outputId": "e5e9cd83-dbdf-4b8c-d2fc-a5d07bffc65c"
      },
      "source": [
        "torch.manual_seed(0)\n",
        "gpu = torch.cuda.is_available()\n",
        "if gpu:\n",
        "  device = torch.device('cuda')\n",
        "else:\n",
        "  device = torch.device('cpu')\n",
        "\n",
        "print('Using device', device)"
      ],
      "execution_count": 10,
      "outputs": [
        {
          "output_type": "stream",
          "text": [
            "Using device cuda\n"
          ],
          "name": "stdout"
        }
      ]
    },
    {
      "cell_type": "code",
      "metadata": {
        "id": "2yJhCvsS7Faw"
      },
      "source": [
        "# Getting Spread Result Vector\n",
        "spread_winner_vector = (np.sign((games['spread'] - games['result']).to_numpy())+1)/2\n",
        "spread_winner = np.zeros((spread_winner_vector.shape[0],2))\n",
        "\n",
        "for k in range(len(spread_winner_vector)):  \n",
        "  if spread_winner_vector[k] == 0:\n",
        "    spread_winner[k,0] = 1\n",
        "  else:\n",
        "    spread_winner[k,1]=1"
      ],
      "execution_count": 11,
      "outputs": []
    },
    {
      "cell_type": "markdown",
      "metadata": {
        "id": "U9wuveVtsO-L"
      },
      "source": [
        "# Baseline Models<a name=\"baseline\"></a>"
      ]
    },
    {
      "cell_type": "markdown",
      "metadata": {
        "id": "MewJ9jzs6oYm"
      },
      "source": [
        "## Vegas Spread Results<a name=\"vegas\"></a>"
      ]
    },
    {
      "cell_type": "code",
      "metadata": {
        "colab": {
          "base_uri": "https://localhost:8080/"
        },
        "id": "KzJNzK9-uGAd",
        "outputId": "298cf6e2-7943-4be6-a90b-ecf79628716c"
      },
      "source": [
        "games_copy = games.copy()\n",
        "vegas_in = games_copy.spread.to_numpy()\n",
        "vegas_out = games_copy.result.to_numpy()\n",
        "\n",
        "print('Vegas spread RMSE = %.2f points' % mean_squared_error(vegas_in, vegas_out, squared=False))\n",
        "\n",
        "vegas_pred = vegas_in\n",
        "vegas_pred[vegas_pred>0] = 1 # home win\n",
        "vegas_pred[vegas_pred<0] = 0 # away win\n",
        "\n",
        "truth = vegas_out\n",
        "truth[truth>0] =  1\n",
        "truth[truth<0] = 0\n",
        "\n",
        "print('Game winner accuracy = %.3f%%' % ((np.sum(vegas_pred==truth) / len(truth))*100.0))"
      ],
      "execution_count": 12,
      "outputs": [
        {
          "output_type": "stream",
          "text": [
            "Vegas spread RMSE = 16.54 points\n",
            "Game winner accuracy = 75.742%\n"
          ],
          "name": "stdout"
        }
      ]
    },
    {
      "cell_type": "markdown",
      "metadata": {
        "id": "f94XS4VVXUET"
      },
      "source": [
        "## Simple linear baseline model<a name=\"simple-linear\"></a>"
      ]
    },
    {
      "cell_type": "code",
      "metadata": {
        "id": "DWqxzx_ST-Ej"
      },
      "source": [
        "train, test = split_data(val_season=None) # no need for validation in this model\n",
        "train_in = train.win_difference\n",
        "train_out = train.result\n",
        "\n",
        "train_in = train.win_difference.to_numpy()\n",
        "train_out = train.result.to_numpy()\n",
        "test_in = test.win_difference.to_numpy()\n",
        "test_out = test.result.to_numpy()\n",
        "baseline_model = LinearRegression().fit(train_in.reshape(-1, 1), train_out)"
      ],
      "execution_count": 13,
      "outputs": []
    },
    {
      "cell_type": "code",
      "metadata": {
        "colab": {
          "base_uri": "https://localhost:8080/",
          "height": 313
        },
        "id": "qLLFds6-PMUo",
        "outputId": "89b091db-54c2-490f-ad30-68f5afb6dfa6"
      },
      "source": [
        "x = np.linspace(-1, 1, 500)\n",
        "y = baseline_model.coef_ * x + baseline_model.intercept_\n",
        "y = baseline_model.predict(x.reshape(-1, 1))\n",
        "\n",
        "plt.xlabel('win percentage difference')\n",
        "plt.ylabel('game result')\n",
        "plt.plot(train_in, train_out, '.', color='black')\n",
        "plt.plot(x, y, '-r', label=\"f(x) = %.3fx + %.3f\" % (baseline_model.coef_, baseline_model.intercept_))\n",
        "plt.legend()\n",
        "plt.grid()\n",
        "\n",
        "prediction = baseline_model.predict(test_in.reshape(-1, 1))\n",
        "print('Spread RMSE = %.2f points' % mean_squared_error(test_out, prediction, squared=False))\n",
        "\n",
        "temp_pred = prediction\n",
        "temp_pred[temp_pred>0] = 1\n",
        "temp_pred[temp_pred<0] = 0\n",
        "\n",
        "temp_tru = test_out\n",
        "temp_tru[temp_tru>0] = 1\n",
        "temp_tru[temp_tru<0] = 0\n",
        "\n",
        "print('Game winner accuracy = %.3f%%' % ((np.sum(temp_pred==temp_tru) / len(temp_tru))*100.0))"
      ],
      "execution_count": 14,
      "outputs": [
        {
          "output_type": "stream",
          "text": [
            "Spread RMSE = 20.53 points\n",
            "Game winner accuracy = 72.052%\n"
          ],
          "name": "stdout"
        },
        {
          "output_type": "display_data",
          "data": {
            "image/png": "[encoded data removed]",
            "text/plain": [
              "<Figure size 432x288 with 1 Axes>"
            ]
          },
          "metadata": {
            "tags": [],
            "needs_background": "light"
          }
        }
      ]
    },
    {
      "cell_type": "markdown",
      "metadata": {
        "id": "Q58rFM-zu6_d"
      },
      "source": [
        "# More Complex Models<a name=\"complex-models\"></a>"
      ]
    },
    {
      "cell_type": "markdown",
      "metadata": {
        "id": "Kyjyl17aXMdM"
      },
      "source": [
        "## Linear model with more features<a name=\"linear-complex\"></a>"
      ]
    },
    {
      "cell_type": "code",
      "metadata": {
        "id": "yeguM4J2UMu7"
      },
      "source": [
        "train, valid, test = split_data()\n",
        "\n",
        "train_in = train.drop(columns=['result'])\n",
        "train_out = train.result\n",
        "valid_in = valid.drop(columns=['result'])\n",
        "valid_out = valid.result\n",
        "test_in = test.drop(columns=['result'])\n",
        "test_out = test.result"
      ],
      "execution_count": 15,
      "outputs": []
    },
    {
      "cell_type": "code",
      "metadata": {
        "colab": {
          "base_uri": "https://localhost:8080/"
        },
        "id": "R6lVGQ7Sbxhd",
        "outputId": "980af9c6-e013-4446-f9ab-6fb84b6ff2da"
      },
      "source": [
        "model = LinearRegression().fit(train_in, train_out)\n",
        "prediction = model.predict(test_in)\n",
        "print('Spread RMSE = %.2f points' % mean_squared_error(test_out, prediction, squared=False))\n",
        "\n",
        "temp_pred = prediction\n",
        "temp_pred[temp_pred>0] = 1\n",
        "temp_pred[temp_pred<0] = 0\n",
        "\n",
        "temp_tru = test_out\n",
        "temp_tru[temp_tru>0] = 1\n",
        "temp_tru[temp_tru<0] = 0\n",
        "\n",
        "print('Game winner accuracy = %.3f%%' % ((np.sum(temp_pred==temp_tru) / len(temp_tru))*100.0))"
      ],
      "execution_count": 16,
      "outputs": [
        {
          "output_type": "stream",
          "text": [
            "Spread RMSE = 15.47 points\n",
            "Game winner accuracy = 77.712%\n"
          ],
          "name": "stdout"
        }
      ]
    },
    {
      "cell_type": "markdown",
      "metadata": {
        "id": "wY4oyKInPsV0"
      },
      "source": [
        "## Linear model with L1 Regularization<a name=\"l1\"></a>"
      ]
    },
    {
      "cell_type": "code",
      "metadata": {
        "id": "3mXkTG44LX3C"
      },
      "source": [
        "alphas = np.linspace(0,600,50)\n",
        "kf = KFold(n_splits=10, shuffle=True, random_state=42)\n",
        "mse_valid = []\n",
        "mse_train = []\n",
        "num_nonzero = []\n",
        "\n",
        "for alpha in alphas:\n",
        "    large_model_lasso = Lasso(alpha=alpha, random_state=77)\n",
        "    mse_kfold = []\n",
        "    # Iterate through all folds\n",
        "    for train_index, test_index in kf.split(train_in):        \n",
        "        large_model_lasso.fit(train_in.iloc[train_index], train_out.iloc[train_index])\n",
        "        kf_test_pred = large_model_lasso.predict(train_in.iloc[test_index])\n",
        "        error = mean_squared_error(train_out.iloc[test_index], kf_test_pred, squared=False)\n",
        "        mse_kfold.append(error)\n",
        "\n",
        "    # count number of nonzero coefficients\n",
        "    num_nonzero.append(np.sum(large_model_lasso.coef_ != 0))\n",
        "    \n",
        "    # create error arrays\n",
        "    mse_train.append(np.mean(mse_kfold))\n",
        "    large_model_lasso.fit(train_in, train_out)\n",
        "    pred_valid = large_model_lasso.predict(valid_in)\n",
        "    mse_valid.append(mean_squared_error(valid_out, pred_valid, squared=False))"
      ],
      "execution_count": 17,
      "outputs": []
    },
    {
      "cell_type": "code",
      "metadata": {
        "colab": {
          "base_uri": "https://localhost:8080/",
          "height": 346
        },
        "id": "iIihisD7NStN",
        "outputId": "7c583060-c993-4e00-ef61-7f571022cdda"
      },
      "source": [
        "best_alpha = alphas[np.argmin(mse_valid)]\n",
        "print('Optimum Alpha at %.2f' % best_alpha)\n",
        "print('Optimum Alpha Validation RMSE: %.2f points' % np.min(mse_valid))\n",
        "\n",
        "plt.plot(alphas,mse_valid, linewidth=3)\n",
        "plt.plot(alphas,mse_train, linewidth=3)\n",
        "plt.plot(best_alpha,np.min(mse_valid),'r.',markersize=10)\n",
        "plt.plot(alphas[np.argmin(mse_train)],np.min(mse_train),'r.',markersize=10)\n",
        "\n",
        "plt.legend(['RMSE for Validation Set','RMSE for Validation Fold of Training Set'])\n",
        "plt.xlabel('α')\n",
        "plt.ylabel('Root Mean Square Error (points)')\n",
        "plt.title('RMSE vs. Regularization Constant (L1)')\n",
        "plt.grid()\n",
        "plt.ylim([0, 50])"
      ],
      "execution_count": 18,
      "outputs": [
        {
          "output_type": "stream",
          "text": [
            "Optimum Alpha at 0.00\n",
            "Optimum Alpha Validation RMSE: 16.66 points\n"
          ],
          "name": "stdout"
        },
        {
          "output_type": "execute_result",
          "data": {
            "text/plain": [
              "(0.0, 50.0)"
            ]
          },
          "metadata": {
            "tags": []
          },
          "execution_count": 18
        },
        {
          "output_type": "display_data",
          "data": {
            "image/png": "[encoded data removed]",
            "text/plain": [
              "<Figure size 432x288 with 1 Axes>"
            ]
          },
          "metadata": {
            "tags": [],
            "needs_background": "light"
          }
        }
      ]
    },
    {
      "cell_type": "code",
      "metadata": {
        "colab": {
          "base_uri": "https://localhost:8080/"
        },
        "id": "pBwPUhDaOpJe",
        "outputId": "f44b6849-8b90-479c-de0a-511706f7b062"
      },
      "source": [
        "lasso_model = Lasso(alpha=best_alpha, random_state=77)\n",
        "lasso_model.fit(train_in, train_out)\n",
        "prediction = lasso_model.predict(test_in)\n",
        "print('Spread RMSE = %.2f points' % mean_squared_error(test_out, prediction, squared=False))\n",
        "\n",
        "temp_pred = prediction\n",
        "temp_pred[temp_pred>0] = 1\n",
        "temp_pred[temp_pred<0] = 0\n",
        "\n",
        "temp_tru = test_out\n",
        "temp_tru[temp_tru>0] = 1\n",
        "temp_tru[temp_tru<0] = 0\n",
        "\n",
        "print('Game winner accuracy = %.3f%%' % ((np.sum(temp_pred==temp_tru) / len(temp_tru))*100.0))"
      ],
      "execution_count": 19,
      "outputs": [
        {
          "output_type": "stream",
          "text": [
            "Spread RMSE = 18.35 points\n",
            "Game winner accuracy = 77.476%\n"
          ],
          "name": "stdout"
        }
      ]
    },
    {
      "cell_type": "markdown",
      "metadata": {
        "id": "CPOwNqTSxrlq"
      },
      "source": [
        "## Random Forest<a name=\"random-forest\"></a>"
      ]
    },
    {
      "cell_type": "code",
      "metadata": {
        "id": "oCaOKZfnB4XW"
      },
      "source": [
        "train, valid, test = split_data()\n",
        "\n",
        "train_in = train.drop(columns=['result'])\n",
        "train_out = train.result\n",
        "valid_in = valid.drop(columns=['result'])\n",
        "valid_out = valid.result\n",
        "test_in = test.drop(columns=['result'])\n",
        "test_out = test.result\n",
        "\n",
        "train_out_winner = train_out\n",
        "train_out_winner[train_out_winner>0] = 1\n",
        "train_out_winner[train_out_winner<0] = 0\n",
        "\n",
        "valid_out_winner = valid_out\n",
        "valid_out_winner[valid_out_winner>0] = 1\n",
        "valid_out_winner[valid_out_winner<0] = 0\n",
        "\n",
        "test_out_winner = test_out\n",
        "test_out_winner[test_out_winner>0] = 1\n",
        "test_out_winner[test_out_winner<0] = 0"
      ],
      "execution_count": 20,
      "outputs": []
    },
    {
      "cell_type": "code",
      "metadata": {
        "colab": {
          "base_uri": "https://localhost:8080/"
        },
        "id": "Hl4lGZvhFh4K",
        "outputId": "f07e16e7-6506-49bc-aa82-5127ff7d0dbf"
      },
      "source": [
        "best_depth = 0\n",
        "best_acc = 0\n",
        "for depth in range(1, 30, 2):\n",
        "  random_model = RandomForestClassifier(max_depth=depth, random_state=0)\n",
        "  random_model.fit(train_in, train_out_winner)\n",
        "  acc = (np.sum(random_model.predict(valid_in)==valid_out_winner) / len(valid_out_winner))*100.0\n",
        "  print('Max Depth: %d \\t Accuracy: %.2f' % (depth, acc))\n",
        "  if acc > best_acc:\n",
        "    best_acc = acc\n",
        "    best_depth = depth\n",
        "  \n",
        "print('Best Max Depth: %d' % best_depth)"
      ],
      "execution_count": 21,
      "outputs": [
        {
          "output_type": "stream",
          "text": [
            "Max Depth: 1 \t Accuracy: 71.61\n",
            "Max Depth: 3 \t Accuracy: 75.98\n",
            "Max Depth: 5 \t Accuracy: 76.44\n",
            "Max Depth: 7 \t Accuracy: 76.44\n",
            "Max Depth: 9 \t Accuracy: 75.98\n",
            "Max Depth: 11 \t Accuracy: 75.75\n",
            "Max Depth: 13 \t Accuracy: 75.52\n",
            "Max Depth: 15 \t Accuracy: 75.86\n",
            "Max Depth: 17 \t Accuracy: 75.86\n",
            "Max Depth: 19 \t Accuracy: 75.40\n",
            "Max Depth: 21 \t Accuracy: 75.40\n",
            "Max Depth: 23 \t Accuracy: 75.29\n",
            "Max Depth: 25 \t Accuracy: 76.21\n",
            "Max Depth: 27 \t Accuracy: 75.52\n",
            "Max Depth: 29 \t Accuracy: 75.06\n",
            "Best Max Depth: 5\n"
          ],
          "name": "stdout"
        }
      ]
    },
    {
      "cell_type": "code",
      "metadata": {
        "colab": {
          "base_uri": "https://localhost:8080/",
          "height": 312
        },
        "id": "1yijoOaTx_Ej",
        "outputId": "9cb9c31d-1d18-401f-f74b-33696da84b7f"
      },
      "source": [
        "MAX_DEPTH = 9\n",
        "random_model = RandomForestClassifier(max_depth=MAX_DEPTH, random_state=0)\n",
        "random_model.fit(train_in, train_out_winner)\n",
        "\n",
        "acc = []\n",
        "for week in range(1, 16):\n",
        "  t = test.loc[(test.week == week)]\n",
        "  t_in = t.drop(columns=['result'])\n",
        "  t_out = t.result\n",
        "  t_out[t_out>0] = 1\n",
        "  t_out[t_out<0] = 0\n",
        "  acc.append((np.sum(random_model.predict(t_in)==t_out) / len(t_out))*100.0)\n",
        "\n",
        "plt.plot(range(1, 16), acc)\n",
        "plt.xlabel('Week')\n",
        "plt.ylabel('% of winners predicted correctly')\n",
        "plt.title('Accuracy by Week on Test Data (2019)')\n",
        "print('Overall game winner accuracy = %.3f%%' % ((np.sum(random_model.predict(test_in)==test_out_winner) / len(test_out_winner))*100.0))"
      ],
      "execution_count": 22,
      "outputs": [
        {
          "output_type": "stream",
          "text": [
            "Overall game winner accuracy = 77.948%\n"
          ],
          "name": "stdout"
        },
        {
          "output_type": "display_data",
          "data": {
            "image/png": "[encoded data removed]",
            "text/plain": [
              "<Figure size 432x288 with 1 Axes>"
            ]
          },
          "metadata": {
            "tags": [],
            "needs_background": "light"
          }
        }
      ]
    },
    {
      "cell_type": "markdown",
      "metadata": {
        "id": "-hLTPwW5gcWg"
      },
      "source": [
        "Our model does better as weeks progress. <br>\n",
        "The reason accuracy is really high the first few weeks is because the first 3-4 weeks of every college football season is full of out-of-conference games where really good teams play really bad teams and it's often easy to predict the outcome because of that.<br>\n",
        "As in-conference games start around week 4, our model accuracy goes down. Since those games are with teams of closer strengths."
      ]
    },
    {
      "cell_type": "markdown",
      "metadata": {
        "id": "PnEjonbLv8sY"
      },
      "source": [
        "# Neural Networks<a name=\"nn\"></a>"
      ]
    },
    {
      "cell_type": "markdown",
      "metadata": {
        "id": "nAxuSbxatL0M"
      },
      "source": [
        "## Neural Net for Predicting the Spread<a name=\"spread-regression-nn\"></a>"
      ]
    },
    {
      "cell_type": "code",
      "metadata": {
        "id": "v93eOD06weSC"
      },
      "source": [
        "# Hyperparameters\n",
        "BATCH_SIZE = 50\n",
        "EPOCHS = 100\n",
        "LEARNING_RATE = 0.006"
      ],
      "execution_count": 48,
      "outputs": []
    },
    {
      "cell_type": "code",
      "metadata": {
        "id": "HF7RO-DO8swM"
      },
      "source": [
        "# Setup the data\n",
        "train, valid, test = split_data()\n",
        "\n",
        "train_in = train.drop(columns=['result'])\n",
        "train_out = train.result\n",
        "valid_in = valid.drop(columns=['result'])\n",
        "valid_out = valid.result\n",
        "test_in = test.drop(columns=['result'])\n",
        "test_out = test.result\n",
        "\n",
        "data_train_vals = torch.tensor(train_in.to_numpy(), dtype=torch.float, device=device)\n",
        "data_train_labels = torch.tensor(train_out.to_numpy().reshape(-1, 1), dtype=torch.float, device=device)\n",
        "data_train = TensorDataset(data_train_vals, data_train_labels)\n",
        "train_loader = DataLoader(dataset = data_train, batch_size = BATCH_SIZE, shuffle = True) \n",
        "\n",
        "data_valid_vals = torch.tensor(valid_in.to_numpy(), dtype=torch.float, device=device)\n",
        "data_valid_labels = torch.tensor(valid_out.to_numpy().reshape(-1, 1), dtype=torch.float, device=device)\n",
        "data_valid = TensorDataset(data_valid_vals, data_valid_labels)\n",
        "valid_loader = DataLoader(dataset = data_valid, batch_size = BATCH_SIZE,  shuffle = False)\n",
        "\n",
        "data_test_vals = torch.tensor(test_in.to_numpy(), dtype=torch.float, device=device)\n",
        "data_test_labels = torch.tensor(test_out.to_numpy().reshape(-1, 1), dtype=torch.float, device=device)\n",
        "data_test = TensorDataset(data_test_vals, data_test_labels)\n",
        "test_loader = DataLoader(dataset = data_test, batch_size = BATCH_SIZE,  shuffle = False)"
      ],
      "execution_count": 49,
      "outputs": []
    },
    {
      "cell_type": "code",
      "metadata": {
        "id": "SQJulxXdIuFZ",
        "colab": {
          "base_uri": "https://localhost:8080/"
        },
        "outputId": "112d9062-3770-4b76-a5d8-d352422d9642"
      },
      "source": [
        "train_out.to_numpy().reshape(-1,1).shape"
      ],
      "execution_count": 50,
      "outputs": [
        {
          "output_type": "execute_result",
          "data": {
            "text/plain": [
              "(4721, 1)"
            ]
          },
          "metadata": {
            "tags": []
          },
          "execution_count": 50
        }
      ]
    },
    {
      "cell_type": "code",
      "metadata": {
        "id": "N2g_r6i5ym0i"
      },
      "source": [
        "def train(model, device, train_loader, optimizer, epochs, criterion, verbose=False):\n",
        "  for epoch in range(epochs):\n",
        "    model.train()\n",
        "    batch_loss = 0\n",
        "    for data, label in train_loader:\n",
        "      data, label = data.to(device), label.to(device)\n",
        "      optimizer.zero_grad()\n",
        "      output = model(data)\n",
        "      loss = criterion(output, label)\n",
        "      loss.backward()\n",
        "      optimizer.step()\n",
        "      batch_loss += loss.item()\n",
        "    if verbose and epoch % 5 == 0:\n",
        "      print('Train Epoch: %d  \\tLoss: %.6f' % (epoch, np.sqrt(batch_loss/len(train_loader))))\n",
        "\n",
        "def test(model, device, test_loader, criterion):\n",
        "  model.eval()\n",
        "  test_loss = 0\n",
        "  correct = 0\n",
        "  with torch.no_grad():\n",
        "    for data, label in test_loader:\n",
        "      data, label = data.to(device), label.to(device)\n",
        "      output = model(data)\n",
        "      test_loss += criterion(output, label).item()\n",
        "  return np.sqrt(test_loss/len(test_loader))"
      ],
      "execution_count": 51,
      "outputs": []
    },
    {
      "cell_type": "code",
      "metadata": {
        "id": "WsGrGRnet6ur"
      },
      "source": [
        "class Net(nn.Module):\n",
        "  def __init__(self, input_size):\n",
        "    super(Net, self).__init__()\n",
        "    if gpu:\n",
        "      self.fc1 = nn.Linear(input_size, 20).cuda()\n",
        "      self.fc2 = nn.Linear(20, 10).cuda()\n",
        "      self.fc3 = nn.Linear(10, 1).cuda()\n",
        "    else:\n",
        "      self.fc1 = nn.Linear(input_size, 20)\n",
        "      self.fc2 = nn.Linear(20, 10)\n",
        "      self.fc3 = nn.Linear(10, 1)\n",
        "\n",
        "  def forward(self, x):\n",
        "    x = F.relu(self.fc1(x))\n",
        "    x = F.relu(self.fc2(x))\n",
        "    x = self.fc3(x)\n",
        "    return x\n",
        "\n",
        "modelSpread = Net(np.shape(train_in.to_numpy())[1])"
      ],
      "execution_count": 52,
      "outputs": []
    },
    {
      "cell_type": "code",
      "metadata": {
        "colab": {
          "base_uri": "https://localhost:8080/",
          "height": 409
        },
        "id": "RhFfzDq0XgAf",
        "outputId": "4fff7411-5985-4275-f6f9-c6b367e03b05"
      },
      "source": [
        "best_lr = 0\n",
        "best_loss = 50\n",
        "epochs = 50\n",
        "criterion = nn.MSELoss()\n",
        "for i in range(1, 25):\n",
        "  lr = 0.001*i\n",
        "  model = Net(np.shape(train_in.to_numpy())[1])\n",
        "  optimizer = torch.optim.Adam(model.parameters(), lr=lr)\n",
        "  train(model, device, train_loader, optimizer, epochs, criterion)\n",
        "  loss = test(model, device, valid_loader, criterion)\n",
        "  print('LR: %.3f \\t Loss: %.2f' % (lr, loss))\n",
        "  if loss < best_loss:\n",
        "    best_loss = loss\n",
        "    best_lr = lr\n",
        "\n",
        "print('Best LR: %.3f with best loss: %.2f' %(best_lr, best_loss))"
      ],
      "execution_count": 53,
      "outputs": [
        {
          "output_type": "stream",
          "text": [
            "LR: 0.001 \t Loss: 15.54\n",
            "LR: 0.002 \t Loss: 15.01\n"
          ],
          "name": "stdout"
        },
        {
          "output_type": "error",
          "ename": "KeyboardInterrupt",
          "evalue": "ignored",
          "traceback": [
            "\u001b[0;31m---------------------------------------------------------------------------\u001b[0m",
            "\u001b[0;31mKeyboardInterrupt\u001b[0m                         Traceback (most recent call last)",
            "\u001b[0;32m<ipython-input-53-96d1cffb6052>\u001b[0m in \u001b[0;36m<module>\u001b[0;34m()\u001b[0m\n\u001b[1;32m      7\u001b[0m   \u001b[0mmodel\u001b[0m \u001b[0;34m=\u001b[0m \u001b[0mNet\u001b[0m\u001b[0;34m(\u001b[0m\u001b[0mnp\u001b[0m\u001b[0;34m.\u001b[0m\u001b[0mshape\u001b[0m\u001b[0;34m(\u001b[0m\u001b[0mtrain_in\u001b[0m\u001b[0;34m.\u001b[0m\u001b[0mto_numpy\u001b[0m\u001b[0;34m(\u001b[0m\u001b[0;34m)\u001b[0m\u001b[0;34m)\u001b[0m\u001b[0;34m[\u001b[0m\u001b[0;36m1\u001b[0m\u001b[0;34m]\u001b[0m\u001b[0;34m)\u001b[0m\u001b[0;34m\u001b[0m\u001b[0;34m\u001b[0m\u001b[0m\n\u001b[1;32m      8\u001b[0m   \u001b[0moptimizer\u001b[0m \u001b[0;34m=\u001b[0m \u001b[0mtorch\u001b[0m\u001b[0;34m.\u001b[0m\u001b[0moptim\u001b[0m\u001b[0;34m.\u001b[0m\u001b[0mAdam\u001b[0m\u001b[0;34m(\u001b[0m\u001b[0mmodel\u001b[0m\u001b[0;34m.\u001b[0m\u001b[0mparameters\u001b[0m\u001b[0;34m(\u001b[0m\u001b[0;34m)\u001b[0m\u001b[0;34m,\u001b[0m \u001b[0mlr\u001b[0m\u001b[0;34m=\u001b[0m\u001b[0mlr\u001b[0m\u001b[0;34m)\u001b[0m\u001b[0;34m\u001b[0m\u001b[0;34m\u001b[0m\u001b[0m\n\u001b[0;32m----> 9\u001b[0;31m   \u001b[0mtrain\u001b[0m\u001b[0;34m(\u001b[0m\u001b[0mmodel\u001b[0m\u001b[0;34m,\u001b[0m \u001b[0mdevice\u001b[0m\u001b[0;34m,\u001b[0m \u001b[0mtrain_loader\u001b[0m\u001b[0;34m,\u001b[0m \u001b[0moptimizer\u001b[0m\u001b[0;34m,\u001b[0m \u001b[0mepochs\u001b[0m\u001b[0;34m,\u001b[0m \u001b[0mcriterion\u001b[0m\u001b[0;34m)\u001b[0m\u001b[0;34m\u001b[0m\u001b[0;34m\u001b[0m\u001b[0m\n\u001b[0m\u001b[1;32m     10\u001b[0m   \u001b[0mloss\u001b[0m \u001b[0;34m=\u001b[0m \u001b[0mtest\u001b[0m\u001b[0;34m(\u001b[0m\u001b[0mmodel\u001b[0m\u001b[0;34m,\u001b[0m \u001b[0mdevice\u001b[0m\u001b[0;34m,\u001b[0m \u001b[0mvalid_loader\u001b[0m\u001b[0;34m,\u001b[0m \u001b[0mcriterion\u001b[0m\u001b[0;34m)\u001b[0m\u001b[0;34m\u001b[0m\u001b[0;34m\u001b[0m\u001b[0m\n\u001b[1;32m     11\u001b[0m   \u001b[0mprint\u001b[0m\u001b[0;34m(\u001b[0m\u001b[0;34m'LR: %.3f \\t Loss: %.2f'\u001b[0m \u001b[0;34m%\u001b[0m \u001b[0;34m(\u001b[0m\u001b[0mlr\u001b[0m\u001b[0;34m,\u001b[0m \u001b[0mloss\u001b[0m\u001b[0;34m)\u001b[0m\u001b[0;34m)\u001b[0m\u001b[0;34m\u001b[0m\u001b[0;34m\u001b[0m\u001b[0m\n",
            "\u001b[0;32m<ipython-input-51-e67cdd197cd5>\u001b[0m in \u001b[0;36mtrain\u001b[0;34m(model, device, train_loader, optimizer, epochs, criterion, verbose)\u001b[0m\n\u001b[1;32m      9\u001b[0m       \u001b[0mloss\u001b[0m \u001b[0;34m=\u001b[0m \u001b[0mcriterion\u001b[0m\u001b[0;34m(\u001b[0m\u001b[0moutput\u001b[0m\u001b[0;34m,\u001b[0m \u001b[0mlabel\u001b[0m\u001b[0;34m)\u001b[0m\u001b[0;34m\u001b[0m\u001b[0;34m\u001b[0m\u001b[0m\n\u001b[1;32m     10\u001b[0m       \u001b[0mloss\u001b[0m\u001b[0;34m.\u001b[0m\u001b[0mbackward\u001b[0m\u001b[0;34m(\u001b[0m\u001b[0;34m)\u001b[0m\u001b[0;34m\u001b[0m\u001b[0;34m\u001b[0m\u001b[0m\n\u001b[0;32m---> 11\u001b[0;31m       \u001b[0moptimizer\u001b[0m\u001b[0;34m.\u001b[0m\u001b[0mstep\u001b[0m\u001b[0;34m(\u001b[0m\u001b[0;34m)\u001b[0m\u001b[0;34m\u001b[0m\u001b[0;34m\u001b[0m\u001b[0m\n\u001b[0m\u001b[1;32m     12\u001b[0m       \u001b[0mbatch_loss\u001b[0m \u001b[0;34m+=\u001b[0m \u001b[0mloss\u001b[0m\u001b[0;34m.\u001b[0m\u001b[0mitem\u001b[0m\u001b[0;34m(\u001b[0m\u001b[0;34m)\u001b[0m\u001b[0;34m\u001b[0m\u001b[0;34m\u001b[0m\u001b[0m\n\u001b[1;32m     13\u001b[0m     \u001b[0;32mif\u001b[0m \u001b[0mverbose\u001b[0m \u001b[0;32mand\u001b[0m \u001b[0mepoch\u001b[0m \u001b[0;34m%\u001b[0m \u001b[0;36m5\u001b[0m \u001b[0;34m==\u001b[0m \u001b[0;36m0\u001b[0m\u001b[0;34m:\u001b[0m\u001b[0;34m\u001b[0m\u001b[0;34m\u001b[0m\u001b[0m\n",
            "\u001b[0;32m/usr/local/lib/python3.7/dist-packages/torch/autograd/grad_mode.py\u001b[0m in \u001b[0;36mdecorate_context\u001b[0;34m(*args, **kwargs)\u001b[0m\n\u001b[1;32m     24\u001b[0m         \u001b[0;32mdef\u001b[0m \u001b[0mdecorate_context\u001b[0m\u001b[0;34m(\u001b[0m\u001b[0;34m*\u001b[0m\u001b[0margs\u001b[0m\u001b[0;34m,\u001b[0m \u001b[0;34m**\u001b[0m\u001b[0mkwargs\u001b[0m\u001b[0;34m)\u001b[0m\u001b[0;34m:\u001b[0m\u001b[0;34m\u001b[0m\u001b[0;34m\u001b[0m\u001b[0m\n\u001b[1;32m     25\u001b[0m             \u001b[0;32mwith\u001b[0m \u001b[0mself\u001b[0m\u001b[0;34m.\u001b[0m\u001b[0m__class__\u001b[0m\u001b[0;34m(\u001b[0m\u001b[0;34m)\u001b[0m\u001b[0;34m:\u001b[0m\u001b[0;34m\u001b[0m\u001b[0;34m\u001b[0m\u001b[0m\n\u001b[0;32m---> 26\u001b[0;31m                 \u001b[0;32mreturn\u001b[0m \u001b[0mfunc\u001b[0m\u001b[0;34m(\u001b[0m\u001b[0;34m*\u001b[0m\u001b[0margs\u001b[0m\u001b[0;34m,\u001b[0m \u001b[0;34m**\u001b[0m\u001b[0mkwargs\u001b[0m\u001b[0;34m)\u001b[0m\u001b[0;34m\u001b[0m\u001b[0;34m\u001b[0m\u001b[0m\n\u001b[0m\u001b[1;32m     27\u001b[0m         \u001b[0;32mreturn\u001b[0m \u001b[0mcast\u001b[0m\u001b[0;34m(\u001b[0m\u001b[0mF\u001b[0m\u001b[0;34m,\u001b[0m \u001b[0mdecorate_context\u001b[0m\u001b[0;34m)\u001b[0m\u001b[0;34m\u001b[0m\u001b[0;34m\u001b[0m\u001b[0m\n\u001b[1;32m     28\u001b[0m \u001b[0;34m\u001b[0m\u001b[0m\n",
            "\u001b[0;32m/usr/local/lib/python3.7/dist-packages/torch/optim/adam.py\u001b[0m in \u001b[0;36mstep\u001b[0;34m(self, closure)\u001b[0m\n\u001b[1;32m    117\u001b[0m                    \u001b[0mgroup\u001b[0m\u001b[0;34m[\u001b[0m\u001b[0;34m'lr'\u001b[0m\u001b[0;34m]\u001b[0m\u001b[0;34m,\u001b[0m\u001b[0;34m\u001b[0m\u001b[0;34m\u001b[0m\u001b[0m\n\u001b[1;32m    118\u001b[0m                    \u001b[0mgroup\u001b[0m\u001b[0;34m[\u001b[0m\u001b[0;34m'weight_decay'\u001b[0m\u001b[0;34m]\u001b[0m\u001b[0;34m,\u001b[0m\u001b[0;34m\u001b[0m\u001b[0;34m\u001b[0m\u001b[0m\n\u001b[0;32m--> 119\u001b[0;31m                    \u001b[0mgroup\u001b[0m\u001b[0;34m[\u001b[0m\u001b[0;34m'eps'\u001b[0m\u001b[0;34m]\u001b[0m\u001b[0;34m\u001b[0m\u001b[0;34m\u001b[0m\u001b[0m\n\u001b[0m\u001b[1;32m    120\u001b[0m                    )\n\u001b[1;32m    121\u001b[0m         \u001b[0;32mreturn\u001b[0m \u001b[0mloss\u001b[0m\u001b[0;34m\u001b[0m\u001b[0;34m\u001b[0m\u001b[0m\n",
            "\u001b[0;32m/usr/local/lib/python3.7/dist-packages/torch/optim/functional.py\u001b[0m in \u001b[0;36madam\u001b[0;34m(params, grads, exp_avgs, exp_avg_sqs, max_exp_avg_sqs, state_steps, amsgrad, beta1, beta2, lr, weight_decay, eps)\u001b[0m\n\u001b[1;32m     85\u001b[0m         \u001b[0;31m# Decay the first and second moment running average coefficient\u001b[0m\u001b[0;34m\u001b[0m\u001b[0;34m\u001b[0m\u001b[0;34m\u001b[0m\u001b[0m\n\u001b[1;32m     86\u001b[0m         \u001b[0mexp_avg\u001b[0m\u001b[0;34m.\u001b[0m\u001b[0mmul_\u001b[0m\u001b[0;34m(\u001b[0m\u001b[0mbeta1\u001b[0m\u001b[0;34m)\u001b[0m\u001b[0;34m.\u001b[0m\u001b[0madd_\u001b[0m\u001b[0;34m(\u001b[0m\u001b[0mgrad\u001b[0m\u001b[0;34m,\u001b[0m \u001b[0malpha\u001b[0m\u001b[0;34m=\u001b[0m\u001b[0;36m1\u001b[0m \u001b[0;34m-\u001b[0m \u001b[0mbeta1\u001b[0m\u001b[0;34m)\u001b[0m\u001b[0;34m\u001b[0m\u001b[0;34m\u001b[0m\u001b[0m\n\u001b[0;32m---> 87\u001b[0;31m         \u001b[0mexp_avg_sq\u001b[0m\u001b[0;34m.\u001b[0m\u001b[0mmul_\u001b[0m\u001b[0;34m(\u001b[0m\u001b[0mbeta2\u001b[0m\u001b[0;34m)\u001b[0m\u001b[0;34m.\u001b[0m\u001b[0maddcmul_\u001b[0m\u001b[0;34m(\u001b[0m\u001b[0mgrad\u001b[0m\u001b[0;34m,\u001b[0m \u001b[0mgrad\u001b[0m\u001b[0;34m,\u001b[0m \u001b[0mvalue\u001b[0m\u001b[0;34m=\u001b[0m\u001b[0;36m1\u001b[0m \u001b[0;34m-\u001b[0m \u001b[0mbeta2\u001b[0m\u001b[0;34m)\u001b[0m\u001b[0;34m\u001b[0m\u001b[0;34m\u001b[0m\u001b[0m\n\u001b[0m\u001b[1;32m     88\u001b[0m         \u001b[0;32mif\u001b[0m \u001b[0mamsgrad\u001b[0m\u001b[0;34m:\u001b[0m\u001b[0;34m\u001b[0m\u001b[0;34m\u001b[0m\u001b[0m\n\u001b[1;32m     89\u001b[0m             \u001b[0;31m# Maintains the maximum of all 2nd moment running avg. till now\u001b[0m\u001b[0;34m\u001b[0m\u001b[0;34m\u001b[0m\u001b[0;34m\u001b[0m\u001b[0m\n",
            "\u001b[0;31mKeyboardInterrupt\u001b[0m: "
          ]
        }
      ]
    },
    {
      "cell_type": "code",
      "metadata": {
        "id": "b8F6KZ0gw2nk"
      },
      "source": [
        "optimizer = torch.optim.Adam(modelSpread.parameters(), lr=LEARNING_RATE)\n",
        "criterion = nn.MSELoss()"
      ],
      "execution_count": 54,
      "outputs": []
    },
    {
      "cell_type": "code",
      "metadata": {
        "colab": {
          "base_uri": "https://localhost:8080/"
        },
        "id": "VNH_3jeaxFL2",
        "outputId": "8e3105c8-a941-44a8-f2b6-d87ae6d8a3c5"
      },
      "source": [
        "train(modelSpread, device, train_loader, optimizer, EPOCHS, criterion, verbose=True)"
      ],
      "execution_count": 55,
      "outputs": [
        {
          "output_type": "stream",
          "text": [
            "Train Epoch: 0  \tLoss: 19.743893\n",
            "Train Epoch: 5  \tLoss: 15.454235\n",
            "Train Epoch: 10  \tLoss: 14.810467\n",
            "Train Epoch: 15  \tLoss: 14.381682\n",
            "Train Epoch: 20  \tLoss: 14.157786\n",
            "Train Epoch: 25  \tLoss: 14.072656\n",
            "Train Epoch: 30  \tLoss: 13.811205\n",
            "Train Epoch: 35  \tLoss: 13.711390\n",
            "Train Epoch: 40  \tLoss: 13.383913\n",
            "Train Epoch: 45  \tLoss: 13.368753\n",
            "Train Epoch: 50  \tLoss: 13.157947\n",
            "Train Epoch: 55  \tLoss: 13.157700\n",
            "Train Epoch: 60  \tLoss: 13.087744\n",
            "Train Epoch: 65  \tLoss: 12.995174\n",
            "Train Epoch: 70  \tLoss: 12.881879\n",
            "Train Epoch: 75  \tLoss: 13.000367\n",
            "Train Epoch: 80  \tLoss: 12.961453\n",
            "Train Epoch: 85  \tLoss: 12.815779\n",
            "Train Epoch: 90  \tLoss: 12.819470\n",
            "Train Epoch: 95  \tLoss: 12.731234\n"
          ],
          "name": "stdout"
        }
      ]
    },
    {
      "cell_type": "code",
      "metadata": {
        "colab": {
          "base_uri": "https://localhost:8080/"
        },
        "id": "uqpAf1dKyrnC",
        "outputId": "2703a91f-5753-45d1-fd07-77292824d34b"
      },
      "source": [
        "loss = test(modelSpread, device, valid_loader, criterion)\n",
        "print('Validation set: Average loss: %.2f' % loss)"
      ],
      "execution_count": 56,
      "outputs": [
        {
          "output_type": "stream",
          "text": [
            "Validation set: Average loss: 15.04\n"
          ],
          "name": "stdout"
        }
      ]
    },
    {
      "cell_type": "code",
      "metadata": {
        "colab": {
          "base_uri": "https://localhost:8080/"
        },
        "id": "nwjqwyUOUdbT",
        "outputId": "2b0b5fc9-3b11-41ad-974a-b94e37ed3df4"
      },
      "source": [
        "loss = test(modelSpread, device, test_loader, criterion)\n",
        "print('Test set: Average loss: %.2f' % loss)"
      ],
      "execution_count": 57,
      "outputs": [
        {
          "output_type": "stream",
          "text": [
            "Test set: Average loss: 13.41\n"
          ],
          "name": "stdout"
        }
      ]
    },
    {
      "cell_type": "markdown",
      "metadata": {
        "id": "1SnMZBBDYry-"
      },
      "source": [
        "## Neural Net for Predicting the Winner<a name=\"winner-classifier-nn\"></a>"
      ]
    },
    {
      "cell_type": "code",
      "metadata": {
        "id": "fBYuCCgbZBvL"
      },
      "source": [
        "BATCH_SIZE = 200\n",
        "EPOCHS = 100\n",
        "LEARNING_RATE = 0.005"
      ],
      "execution_count": null,
      "outputs": []
    },
    {
      "cell_type": "code",
      "metadata": {
        "id": "lNN7muEhax8V"
      },
      "source": [
        "train, valid, test = split_data()\n",
        "\n",
        "train_in = train.drop(columns=['result'])\n",
        "train_out = train.result\n",
        "valid_in = valid.drop(columns=['result'])\n",
        "valid_out = valid.result\n",
        "\n",
        "train_out_winner = train_out\n",
        "train_out_winner[train_out_winner>0] = 1\n",
        "train_out_winner[train_out_winner<0] = 0\n",
        "\n",
        "valid_out_winner = valid_out\n",
        "valid_out_winner[valid_out_winner>0] = 1\n",
        "valid_out_winner[valid_out_winner<0] = 0\n",
        "\n",
        "test_out_winner = test_out\n",
        "test_out_winner[test_out_winner>0] = 1\n",
        "test_out_winner[test_out_winner<0] = 0\n",
        "\n",
        "data_train_vals = torch.tensor(train_in.to_numpy(), dtype=torch.float, device=device)\n",
        "data_train_labels = torch.tensor(train_out_winner.to_numpy(), dtype=torch.long, device=device)\n",
        "data_train = TensorDataset(data_train_vals, data_train_labels)\n",
        "train_loader = DataLoader(dataset = data_train, batch_size = BATCH_SIZE, shuffle = True) \n",
        "\n",
        "data_valid_vals = torch.tensor(valid_in.to_numpy(), dtype=torch.float, device=device)\n",
        "data_valid_labels = torch.tensor(valid_out_winner.to_numpy(), dtype=torch.long, device=device)\n",
        "data_valid = TensorDataset(data_valid_vals, data_valid_labels)\n",
        "valid_loader = DataLoader(dataset = data_valid, batch_size = BATCH_SIZE,  shuffle = False)\n",
        "\n",
        "data_test_vals = torch.tensor(test_in.to_numpy(), dtype=torch.float, device=device)\n",
        "data_test_labels = torch.tensor(test_out_winner.to_numpy(), dtype=torch.long, device=device)\n",
        "data_test = TensorDataset(data_test_vals, data_test_labels)\n",
        "test_loader = DataLoader(dataset = data_test, batch_size = BATCH_SIZE,  shuffle = False)"
      ],
      "execution_count": null,
      "outputs": []
    },
    {
      "cell_type": "code",
      "metadata": {
        "id": "nlx0INLPYokp"
      },
      "source": [
        "def trainWinner(model, device, train_loader, optimizer, epochs, criterion, verbose=False):\n",
        "  for epoch in range(epochs):\n",
        "    model.train()\n",
        "    batch_loss = 0\n",
        "    for data, label in train_loader:\n",
        "      data, label = data.to(device), label.to(device)\n",
        "      optimizer.zero_grad()\n",
        "      output = model(data)\n",
        "      loss = criterion(output, label)\n",
        "      loss.backward()\n",
        "      optimizer.step()\n",
        "      batch_loss += loss.item()\n",
        "    if (verbose) & (epoch % 10 == 0):\n",
        "      print('Train Epoch: %d  \\tLoss: %.6f' % (epoch, np.sqrt(batch_loss/len(train_loader))))\n",
        "\n",
        "def testWinner(model, device, test_loader, criterion):\n",
        "  model.eval()\n",
        "  test_loss = 0\n",
        "  correct = 0\n",
        "  wrong = 0\n",
        "  with torch.no_grad():\n",
        "    for data, label in test_loader:\n",
        "      data, label = data.to(device), label.to(device)\n",
        "      output = model(data)\n",
        "      test_loss += criterion(output, label).item()\n",
        "      correct += torch.sum(torch.argmax(output, dim=1) == label)\n",
        "      wrong += torch.sum(torch.argmax(output, dim=1) != label)\n",
        "  print('Test set: Average loss: %.4f' % np.sqrt(test_loss/len(test_loader)))\n",
        "  print('Accuracy: %.3f%%' % (correct*100/(correct+wrong)))"
      ],
      "execution_count": 37,
      "outputs": []
    },
    {
      "cell_type": "code",
      "metadata": {
        "id": "ErQ_6S9UY0de"
      },
      "source": [
        "class Net(nn.Module):\n",
        "    def __init__(self, input_size):\n",
        "        super(Net, self).__init__()\n",
        "        if gpu:\n",
        "          self.fc1 = nn.Linear(input_size, 20).cuda()\n",
        "          self.fc2 = nn.Linear(20, 10).cuda()\n",
        "          self.fc3 = nn.Linear(10, 2).cuda()\n",
        "        else:\n",
        "          self.fc1 = nn.Linear(input_size, 20)\n",
        "          self.fc2 = nn.Linear(20, 10)\n",
        "          self.fc3 = nn.Linear(10, 2)\n",
        "\n",
        "    def forward(self, x):\n",
        "        x = F.relu(self.fc1(x))\n",
        "        x = F.relu(self.fc2(x))\n",
        "        x = self.fc3(x)\n",
        "        return x\n",
        "\n",
        "modelWinner = Net(np.shape(train_in.to_numpy())[1])"
      ],
      "execution_count": 38,
      "outputs": []
    },
    {
      "cell_type": "code",
      "metadata": {
        "id": "LDkx_IO1ZENR"
      },
      "source": [
        "optimizer = torch.optim.Adam(modelWinner.parameters(), lr=LEARNING_RATE)\n",
        "criterion = nn.CrossEntropyLoss()"
      ],
      "execution_count": 39,
      "outputs": []
    },
    {
      "cell_type": "code",
      "metadata": {
        "colab": {
          "base_uri": "https://localhost:8080/"
        },
        "id": "E7_Gv7AwZIVP",
        "outputId": "0f01833c-d5d7-47ad-a08c-38c20603b5c7"
      },
      "source": [
        "trainWinner(modelWinner, device, train_loader, optimizer, EPOCHS, criterion, verbose=True)"
      ],
      "execution_count": 40,
      "outputs": [
        {
          "output_type": "stream",
          "text": [
            "Train Epoch: 0  \tLoss: 0.961291\n",
            "Train Epoch: 10  \tLoss: 0.822075\n",
            "Train Epoch: 20  \tLoss: 0.811458\n",
            "Train Epoch: 30  \tLoss: 0.802350\n",
            "Train Epoch: 40  \tLoss: 0.797235\n",
            "Train Epoch: 50  \tLoss: 0.777910\n",
            "Train Epoch: 60  \tLoss: 0.759305\n",
            "Train Epoch: 70  \tLoss: 0.747985\n",
            "Train Epoch: 80  \tLoss: 0.731991\n",
            "Train Epoch: 90  \tLoss: 0.734957\n",
            "Train Epoch: 100  \tLoss: 0.723374\n",
            "Train Epoch: 110  \tLoss: 0.728517\n",
            "Train Epoch: 120  \tLoss: 0.730337\n",
            "Train Epoch: 130  \tLoss: 0.723760\n",
            "Train Epoch: 140  \tLoss: 0.711777\n",
            "Train Epoch: 150  \tLoss: 0.716295\n",
            "Train Epoch: 160  \tLoss: 0.710410\n",
            "Train Epoch: 170  \tLoss: 0.701658\n",
            "Train Epoch: 180  \tLoss: 0.702106\n",
            "Train Epoch: 190  \tLoss: 0.705347\n",
            "Train Epoch: 200  \tLoss: 0.699611\n",
            "Train Epoch: 210  \tLoss: 0.693634\n",
            "Train Epoch: 220  \tLoss: 0.703031\n",
            "Train Epoch: 230  \tLoss: 0.689282\n",
            "Train Epoch: 240  \tLoss: 0.688286\n",
            "Train Epoch: 250  \tLoss: 0.694355\n",
            "Train Epoch: 260  \tLoss: 0.688423\n",
            "Train Epoch: 270  \tLoss: 0.687955\n",
            "Train Epoch: 280  \tLoss: 0.688165\n",
            "Train Epoch: 290  \tLoss: 0.679616\n",
            "Train Epoch: 300  \tLoss: 0.678852\n",
            "Train Epoch: 310  \tLoss: 0.677498\n",
            "Train Epoch: 320  \tLoss: 0.677401\n",
            "Train Epoch: 330  \tLoss: 0.685930\n",
            "Train Epoch: 340  \tLoss: 0.680272\n",
            "Train Epoch: 350  \tLoss: 0.683746\n",
            "Train Epoch: 360  \tLoss: 0.674546\n",
            "Train Epoch: 370  \tLoss: 0.675097\n",
            "Train Epoch: 380  \tLoss: 0.671204\n",
            "Train Epoch: 390  \tLoss: 0.667859\n",
            "Train Epoch: 400  \tLoss: 0.676516\n",
            "Train Epoch: 410  \tLoss: 0.659106\n",
            "Train Epoch: 420  \tLoss: 0.678501\n",
            "Train Epoch: 430  \tLoss: 0.671511\n",
            "Train Epoch: 440  \tLoss: 0.668365\n",
            "Train Epoch: 450  \tLoss: 0.670864\n",
            "Train Epoch: 460  \tLoss: 0.662712\n",
            "Train Epoch: 470  \tLoss: 0.666334\n",
            "Train Epoch: 480  \tLoss: 0.665202\n",
            "Train Epoch: 490  \tLoss: 0.664214\n"
          ],
          "name": "stdout"
        }
      ]
    },
    {
      "cell_type": "code",
      "metadata": {
        "colab": {
          "base_uri": "https://localhost:8080/"
        },
        "id": "mudAH5U9ZMsc",
        "outputId": "52dbea13-9367-4379-9fa2-b12d0b2c67cd"
      },
      "source": [
        "testWinner(modelWinner, device, valid_loader, criterion)"
      ],
      "execution_count": 41,
      "outputs": [
        {
          "output_type": "stream",
          "text": [
            "Test set: Average loss: 1.0552\n",
            "Accuracy: 62.644%\n"
          ],
          "name": "stdout"
        }
      ]
    },
    {
      "cell_type": "code",
      "metadata": {
        "colab": {
          "base_uri": "https://localhost:8080/",
          "height": 312
        },
        "id": "DUNQPq5czBY1",
        "outputId": "9c4d99db-2afc-4ce3-abae-57f4921cd647"
      },
      "source": [
        "acc = []\n",
        "for week in range(1, 16):\n",
        "  t = test.loc[test.week == week]\n",
        "  t_in = t.drop(columns=['result'])\n",
        "  t_out = t.result\n",
        "  t_out[t_out>0] = 1\n",
        "  t_out[t_out<0] = 0\n",
        "  tensor_in = torch.tensor(t_in.to_numpy(), dtype=torch.float, device=device)\n",
        "  output = modelWinner(tensor_in)\n",
        "  preds = torch.argmax(output, dim=1).detach().cpu().numpy()\n",
        "  acc.append((np.sum(preds==t_out) / len(t_out))*100.0)\n",
        "  \n",
        "plt.plot(range(1, 16), acc)\n",
        "plt.xlabel('Week')\n",
        "plt.ylabel('% of winners predicted correctly')\n",
        "plt.title('Accuracy by Week on Test Data (2019)')"
      ],
      "execution_count": 44,
      "outputs": [
        {
          "output_type": "execute_result",
          "data": {
            "text/plain": [
              "Text(0.5, 1.0, 'Accuracy by Week on Test Data (2019)')"
            ]
          },
          "metadata": {
            "tags": []
          },
          "execution_count": 44
        },
        {
          "output_type": "display_data",
          "data": {
            "image/png": "[encoded data removed]",
            "text/plain": [
              "<Figure size 432x288 with 1 Axes>"
            ]
          },
          "metadata": {
            "tags": [],
            "needs_background": "light"
          }
        }
      ]
    },
    {
      "cell_type": "markdown",
      "metadata": {
        "id": "TGLnUB0-q_0J"
      },
      "source": [
        "## Neural Net for Predicting Bet<a name=\"bet-classification-nn\"></a>"
      ]
    },
    {
      "cell_type": "code",
      "metadata": {
        "id": "K67FJgS5rXs6"
      },
      "source": [
        "BATCH_SIZE = 200\n",
        "EPOCHS = 100\n",
        "LEARNING_RATE = 0.005"
      ],
      "execution_count": 31,
      "outputs": []
    },
    {
      "cell_type": "code",
      "metadata": {
        "id": "SjTCrO_LDTKp"
      },
      "source": [
        "# Add Spread Winner Category\n",
        "def spread_winner(df):\n",
        "  df_out = (np.sign((df['spread'] - df['result']))+1)/2\n",
        "  return df_out\n",
        "\n",
        "# Setup the data\n",
        "train, valid, test = split_data()\n",
        "\n",
        "train_in = train.drop(columns=['result'])\n",
        "valid_in = valid.drop(columns=['result'])\n",
        "test_in = test.drop(columns=['result'])\n",
        "\n",
        "train_out = spread_winner(train)\n",
        "valid_out = spread_winner(valid)\n",
        "test_out = spread_winner(test)\n",
        "\n",
        "train_out_winner = train_out\n",
        "train_out_winner[train_out_winner>0] = 1\n",
        "train_out_winner[train_out_winner<0] = 0\n",
        "\n",
        "valid_out_winner = valid_out\n",
        "valid_out_winner[valid_out_winner>0] = 1\n",
        "valid_out_winner[valid_out_winner<0] = 0\n",
        "\n",
        "test_out_winner = test_out\n",
        "test_out_winner[test_out_winner>0] = 1\n",
        "test_out_winner[test_out_winner<0] = 0\n",
        "\n",
        "data_train_vals = torch.tensor(train_in.to_numpy(), dtype=torch.float, device=device)\n",
        "data_train_labels = torch.tensor(train_out_winner.to_numpy(), dtype=torch.long, device=device)\n",
        "data_train = TensorDataset(data_train_vals, data_train_labels)\n",
        "train_loader = DataLoader(dataset = data_train, batch_size = BATCH_SIZE, shuffle = True) \n",
        "\n",
        "data_valid_vals = torch.tensor(valid_in.to_numpy(), dtype=torch.float, device=device)\n",
        "data_valid_labels = torch.tensor(valid_out_winner.to_numpy(), dtype=torch.long, device=device)\n",
        "data_valid = TensorDataset(data_valid_vals, data_valid_labels)\n",
        "valid_loader = DataLoader(dataset = data_valid, batch_size = BATCH_SIZE,  shuffle = False)\n",
        "\n",
        "data_test_vals = torch.tensor(test_in.to_numpy(), dtype=torch.float, device=device)\n",
        "data_test_labels = torch.tensor(test_out_winner.to_numpy(), dtype=torch.long, device=device)\n",
        "data_test = TensorDataset(data_test_vals, data_test_labels)\n",
        "test_loader = DataLoader(dataset = data_test, batch_size = BATCH_SIZE,  shuffle = False)"
      ],
      "execution_count": 32,
      "outputs": []
    },
    {
      "cell_type": "code",
      "metadata": {
        "id": "EpSWWj-_rXs9"
      },
      "source": [
        "def trainWinner(model, device, train_loader, optimizer, epochs, criterion, verbose=False):\n",
        "  for epoch in range(epochs):\n",
        "    model.train()\n",
        "    batch_loss = 0\n",
        "    for data, label in train_loader:\n",
        "      data, label = data.to(device), label.to(device)\n",
        "      optimizer.zero_grad()\n",
        "      output = model(data)\n",
        "      loss = criterion(output, label)\n",
        "      loss.backward()\n",
        "      optimizer.step()\n",
        "      batch_loss += loss.item()\n",
        "    if (verbose) & (epochs % 10==0):\n",
        "      print('Train Epoch: %d  \\tLoss: %.6f' % (epoch, np.sqrt(batch_loss/len(train_loader))))\n",
        "\n",
        "def testWinner(model, device, test_loader, criterion):\n",
        "  model.eval()\n",
        "  test_loss = 0\n",
        "  correct = 0\n",
        "  wrong = 0\n",
        "  with torch.no_grad():\n",
        "    for data, label in test_loader:\n",
        "      data, label = data.to(device), label.to(device)\n",
        "      output = model(data)\n",
        "      test_loss += criterion(output, label).item()\n",
        "      correct += torch.sum(torch.argmax(output, dim=1) == label)\n",
        "      wrong += torch.sum(torch.argmax(output, dim=1) != label)\n",
        "  print('Test set: Average loss: %.4f' % np.sqrt(test_loss/len(test_loader)))\n",
        "  print('Accuracy: %.3f%%' % (correct*100/(correct+wrong)))"
      ],
      "execution_count": 33,
      "outputs": []
    },
    {
      "cell_type": "code",
      "metadata": {
        "id": "UBeoHbdsrXs9"
      },
      "source": [
        "class Net(nn.Module):\n",
        "    def __init__(self, input_size):\n",
        "        super(Net, self).__init__()\n",
        "        if gpu:\n",
        "          self.fc1 = nn.Linear(input_size, 20).cuda()\n",
        "          self.fc2 = nn.Linear(20, 10).cuda()\n",
        "          self.fc3 = nn.Linear(10, 2).cuda()\n",
        "        else:\n",
        "          self.fc1 = nn.Linear(input_size, 20)\n",
        "          self.fc2 = nn.Linear(20, 10)\n",
        "          self.fc3 = nn.Linear(10, 2)\n",
        "\n",
        "    def forward(self, x):\n",
        "        x = F.relu(self.fc1(x))\n",
        "        x = F.relu(self.fc2(x))\n",
        "        x = self.fc3(x)\n",
        "        return x\n",
        "\n",
        "modelWinner = Net(np.shape(train_in.to_numpy())[1])"
      ],
      "execution_count": 34,
      "outputs": []
    },
    {
      "cell_type": "code",
      "metadata": {
        "id": "2aUhgXIFrwXz"
      },
      "source": [
        "optimizer = torch.optim.Adam(modelWinner.parameters(), lr=LEARNING_RATE)\n",
        "criterion = nn.CrossEntropyLoss()"
      ],
      "execution_count": 35,
      "outputs": []
    },
    {
      "cell_type": "code",
      "metadata": {
        "id": "g74xHJgXrimb",
        "colab": {
          "base_uri": "https://localhost:8080/"
        },
        "outputId": "e1d83a0d-ef66-479e-d62e-7f6d5e43ac15"
      },
      "source": [
        "# Hyperparameters\n",
        "BATCH_SIZE = 50\n",
        "EPOCHS = 500\n",
        "LEARNING_RATE = 0.011\n",
        "\n",
        "trainWinner(modelWinner, device, train_loader, optimizer, EPOCHS, criterion, verbose=True)\n",
        "\n",
        "testWinner(modelWinner, device, valid_loader, criterion)"
      ],
      "execution_count": 36,
      "outputs": [
        {
          "output_type": "stream",
          "text": [
            "Train Epoch: 0  \tLoss: 0.974863\n",
            "Train Epoch: 1  \tLoss: 0.847673\n",
            "Train Epoch: 2  \tLoss: 0.836798\n",
            "Train Epoch: 3  \tLoss: 0.830669\n",
            "Train Epoch: 4  \tLoss: 0.828067\n",
            "Train Epoch: 5  \tLoss: 0.828348\n",
            "Train Epoch: 6  \tLoss: 0.826577\n",
            "Train Epoch: 7  \tLoss: 0.825956\n",
            "Train Epoch: 8  \tLoss: 0.824057\n",
            "Train Epoch: 9  \tLoss: 0.823413\n",
            "Train Epoch: 10  \tLoss: 0.823282\n",
            "Train Epoch: 11  \tLoss: 0.821027\n",
            "Train Epoch: 12  \tLoss: 0.819201\n",
            "Train Epoch: 13  \tLoss: 0.818847\n",
            "Train Epoch: 14  \tLoss: 0.816179\n",
            "Train Epoch: 15  \tLoss: 0.816639\n",
            "Train Epoch: 16  \tLoss: 0.816454\n",
            "Train Epoch: 17  \tLoss: 0.809931\n",
            "Train Epoch: 18  \tLoss: 0.805616\n",
            "Train Epoch: 19  \tLoss: 0.802838\n",
            "Train Epoch: 20  \tLoss: 0.799092\n",
            "Train Epoch: 21  \tLoss: 0.791766\n",
            "Train Epoch: 22  \tLoss: 0.800303\n",
            "Train Epoch: 23  \tLoss: 0.792171\n",
            "Train Epoch: 24  \tLoss: 0.795156\n",
            "Train Epoch: 25  \tLoss: 0.789255\n",
            "Train Epoch: 26  \tLoss: 0.784008\n",
            "Train Epoch: 27  \tLoss: 0.780613\n",
            "Train Epoch: 28  \tLoss: 0.783558\n",
            "Train Epoch: 29  \tLoss: 0.777663\n",
            "Train Epoch: 30  \tLoss: 0.779343\n",
            "Train Epoch: 31  \tLoss: 0.776453\n",
            "Train Epoch: 32  \tLoss: 0.776826\n",
            "Train Epoch: 33  \tLoss: 0.768526\n",
            "Train Epoch: 34  \tLoss: 0.768127\n",
            "Train Epoch: 35  \tLoss: 0.759897\n",
            "Train Epoch: 36  \tLoss: 0.762349\n",
            "Train Epoch: 37  \tLoss: 0.765102\n",
            "Train Epoch: 38  \tLoss: 0.766177\n",
            "Train Epoch: 39  \tLoss: 0.760771\n",
            "Train Epoch: 40  \tLoss: 0.753634\n",
            "Train Epoch: 41  \tLoss: 0.753895\n",
            "Train Epoch: 42  \tLoss: 0.754527\n",
            "Train Epoch: 43  \tLoss: 0.755566\n",
            "Train Epoch: 44  \tLoss: 0.756116\n",
            "Train Epoch: 45  \tLoss: 0.754483\n",
            "Train Epoch: 46  \tLoss: 0.755236\n",
            "Train Epoch: 47  \tLoss: 0.744329\n",
            "Train Epoch: 48  \tLoss: 0.749147\n",
            "Train Epoch: 49  \tLoss: 0.747919\n",
            "Train Epoch: 50  \tLoss: 0.743528\n",
            "Train Epoch: 51  \tLoss: 0.737166\n",
            "Train Epoch: 52  \tLoss: 0.737347\n",
            "Train Epoch: 53  \tLoss: 0.733386\n",
            "Train Epoch: 54  \tLoss: 0.739890\n",
            "Train Epoch: 55  \tLoss: 0.736306\n",
            "Train Epoch: 56  \tLoss: 0.747916\n",
            "Train Epoch: 57  \tLoss: 0.740369\n",
            "Train Epoch: 58  \tLoss: 0.739170\n",
            "Train Epoch: 59  \tLoss: 0.742662\n",
            "Train Epoch: 60  \tLoss: 0.734263\n",
            "Train Epoch: 61  \tLoss: 0.736886\n",
            "Train Epoch: 62  \tLoss: 0.731386\n",
            "Train Epoch: 63  \tLoss: 0.732146\n",
            "Train Epoch: 64  \tLoss: 0.737712\n",
            "Train Epoch: 65  \tLoss: 0.729390\n",
            "Train Epoch: 66  \tLoss: 0.730222\n",
            "Train Epoch: 67  \tLoss: 0.732546\n",
            "Train Epoch: 68  \tLoss: 0.724052\n",
            "Train Epoch: 69  \tLoss: 0.722269\n",
            "Train Epoch: 70  \tLoss: 0.721528\n",
            "Train Epoch: 71  \tLoss: 0.727788\n",
            "Train Epoch: 72  \tLoss: 0.718460\n",
            "Train Epoch: 73  \tLoss: 0.720819\n",
            "Train Epoch: 74  \tLoss: 0.717488\n",
            "Train Epoch: 75  \tLoss: 0.722869\n",
            "Train Epoch: 76  \tLoss: 0.730000\n",
            "Train Epoch: 77  \tLoss: 0.718431\n",
            "Train Epoch: 78  \tLoss: 0.715769\n",
            "Train Epoch: 79  \tLoss: 0.730568\n",
            "Train Epoch: 80  \tLoss: 0.727457\n",
            "Train Epoch: 81  \tLoss: 0.717816\n",
            "Train Epoch: 82  \tLoss: 0.718367\n",
            "Train Epoch: 83  \tLoss: 0.714710\n",
            "Train Epoch: 84  \tLoss: 0.709410\n",
            "Train Epoch: 85  \tLoss: 0.713307\n",
            "Train Epoch: 86  \tLoss: 0.713711\n",
            "Train Epoch: 87  \tLoss: 0.711950\n",
            "Train Epoch: 88  \tLoss: 0.718453\n",
            "Train Epoch: 89  \tLoss: 0.711468\n",
            "Train Epoch: 90  \tLoss: 0.706722\n",
            "Train Epoch: 91  \tLoss: 0.705807\n",
            "Train Epoch: 92  \tLoss: 0.707742\n",
            "Train Epoch: 93  \tLoss: 0.709839\n",
            "Train Epoch: 94  \tLoss: 0.713279\n",
            "Train Epoch: 95  \tLoss: 0.713881\n",
            "Train Epoch: 96  \tLoss: 0.708126\n",
            "Train Epoch: 97  \tLoss: 0.702700\n",
            "Train Epoch: 98  \tLoss: 0.698538\n",
            "Train Epoch: 99  \tLoss: 0.702438\n",
            "Train Epoch: 100  \tLoss: 0.702883\n",
            "Train Epoch: 101  \tLoss: 0.709537\n",
            "Train Epoch: 102  \tLoss: 0.704065\n",
            "Train Epoch: 103  \tLoss: 0.696412\n",
            "Train Epoch: 104  \tLoss: 0.699201\n",
            "Train Epoch: 105  \tLoss: 0.697275\n",
            "Train Epoch: 106  \tLoss: 0.707687\n",
            "Train Epoch: 107  \tLoss: 0.694482\n",
            "Train Epoch: 108  \tLoss: 0.704445\n",
            "Train Epoch: 109  \tLoss: 0.704247\n",
            "Train Epoch: 110  \tLoss: 0.692651\n",
            "Train Epoch: 111  \tLoss: 0.688204\n",
            "Train Epoch: 112  \tLoss: 0.697222\n",
            "Train Epoch: 113  \tLoss: 0.692756\n",
            "Train Epoch: 114  \tLoss: 0.684407\n",
            "Train Epoch: 115  \tLoss: 0.695282\n",
            "Train Epoch: 116  \tLoss: 0.689563\n",
            "Train Epoch: 117  \tLoss: 0.694138\n",
            "Train Epoch: 118  \tLoss: 0.692696\n",
            "Train Epoch: 119  \tLoss: 0.689825\n",
            "Train Epoch: 120  \tLoss: 0.696396\n",
            "Train Epoch: 121  \tLoss: 0.685971\n",
            "Train Epoch: 122  \tLoss: 0.693263\n",
            "Train Epoch: 123  \tLoss: 0.690769\n",
            "Train Epoch: 124  \tLoss: 0.687910\n",
            "Train Epoch: 125  \tLoss: 0.693515\n",
            "Train Epoch: 126  \tLoss: 0.691724\n",
            "Train Epoch: 127  \tLoss: 0.682923\n",
            "Train Epoch: 128  \tLoss: 0.686172\n",
            "Train Epoch: 129  \tLoss: 0.685180\n",
            "Train Epoch: 130  \tLoss: 0.689997\n",
            "Train Epoch: 131  \tLoss: 0.684002\n",
            "Train Epoch: 132  \tLoss: 0.682315\n",
            "Train Epoch: 133  \tLoss: 0.679766\n",
            "Train Epoch: 134  \tLoss: 0.680320\n",
            "Train Epoch: 135  \tLoss: 0.680745\n",
            "Train Epoch: 136  \tLoss: 0.680748\n",
            "Train Epoch: 137  \tLoss: 0.683960\n",
            "Train Epoch: 138  \tLoss: 0.684956\n",
            "Train Epoch: 139  \tLoss: 0.676465\n",
            "Train Epoch: 140  \tLoss: 0.681304\n",
            "Train Epoch: 141  \tLoss: 0.674175\n",
            "Train Epoch: 142  \tLoss: 0.683241\n",
            "Train Epoch: 143  \tLoss: 0.686525\n",
            "Train Epoch: 144  \tLoss: 0.679866\n",
            "Train Epoch: 145  \tLoss: 0.678153\n",
            "Train Epoch: 146  \tLoss: 0.675213\n",
            "Train Epoch: 147  \tLoss: 0.670523\n",
            "Train Epoch: 148  \tLoss: 0.668104\n",
            "Train Epoch: 149  \tLoss: 0.669479\n",
            "Train Epoch: 150  \tLoss: 0.678439\n",
            "Train Epoch: 151  \tLoss: 0.672223\n",
            "Train Epoch: 152  \tLoss: 0.671927\n",
            "Train Epoch: 153  \tLoss: 0.671874\n",
            "Train Epoch: 154  \tLoss: 0.669267\n",
            "Train Epoch: 155  \tLoss: 0.674274\n",
            "Train Epoch: 156  \tLoss: 0.678880\n",
            "Train Epoch: 157  \tLoss: 0.677975\n",
            "Train Epoch: 158  \tLoss: 0.679411\n",
            "Train Epoch: 159  \tLoss: 0.671954\n",
            "Train Epoch: 160  \tLoss: 0.665048\n",
            "Train Epoch: 161  \tLoss: 0.674190\n",
            "Train Epoch: 162  \tLoss: 0.679378\n",
            "Train Epoch: 163  \tLoss: 0.671048\n",
            "Train Epoch: 164  \tLoss: 0.667578\n",
            "Train Epoch: 165  \tLoss: 0.673131\n",
            "Train Epoch: 166  \tLoss: 0.671749\n",
            "Train Epoch: 167  \tLoss: 0.669368\n",
            "Train Epoch: 168  \tLoss: 0.665811\n",
            "Train Epoch: 169  \tLoss: 0.671631\n",
            "Train Epoch: 170  \tLoss: 0.665179\n",
            "Train Epoch: 171  \tLoss: 0.677620\n",
            "Train Epoch: 172  \tLoss: 0.681089\n",
            "Train Epoch: 173  \tLoss: 0.671216\n",
            "Train Epoch: 174  \tLoss: 0.657030\n",
            "Train Epoch: 175  \tLoss: 0.661647\n",
            "Train Epoch: 176  \tLoss: 0.671863\n",
            "Train Epoch: 177  \tLoss: 0.664292\n",
            "Train Epoch: 178  \tLoss: 0.664636\n",
            "Train Epoch: 179  \tLoss: 0.666992\n",
            "Train Epoch: 180  \tLoss: 0.664828\n",
            "Train Epoch: 181  \tLoss: 0.660056\n",
            "Train Epoch: 182  \tLoss: 0.678171\n",
            "Train Epoch: 183  \tLoss: 0.668593\n",
            "Train Epoch: 184  \tLoss: 0.662632\n",
            "Train Epoch: 185  \tLoss: 0.667493\n",
            "Train Epoch: 186  \tLoss: 0.670204\n",
            "Train Epoch: 187  \tLoss: 0.658272\n",
            "Train Epoch: 188  \tLoss: 0.658728\n",
            "Train Epoch: 189  \tLoss: 0.661843\n",
            "Train Epoch: 190  \tLoss: 0.661594\n",
            "Train Epoch: 191  \tLoss: 0.662703\n",
            "Train Epoch: 192  \tLoss: 0.668863\n",
            "Train Epoch: 193  \tLoss: 0.659461\n",
            "Train Epoch: 194  \tLoss: 0.663626\n",
            "Train Epoch: 195  \tLoss: 0.660001\n",
            "Train Epoch: 196  \tLoss: 0.655690\n",
            "Train Epoch: 197  \tLoss: 0.661164\n",
            "Train Epoch: 198  \tLoss: 0.667281\n",
            "Train Epoch: 199  \tLoss: 0.657333\n",
            "Train Epoch: 200  \tLoss: 0.659100\n",
            "Train Epoch: 201  \tLoss: 0.670107\n",
            "Train Epoch: 202  \tLoss: 0.672024\n",
            "Train Epoch: 203  \tLoss: 0.665923\n",
            "Train Epoch: 204  \tLoss: 0.660716\n",
            "Train Epoch: 205  \tLoss: 0.659727\n",
            "Train Epoch: 206  \tLoss: 0.655833\n",
            "Train Epoch: 207  \tLoss: 0.659700\n",
            "Train Epoch: 208  \tLoss: 0.676681\n",
            "Train Epoch: 209  \tLoss: 0.671627\n",
            "Train Epoch: 210  \tLoss: 0.658960\n",
            "Train Epoch: 211  \tLoss: 0.653833\n",
            "Train Epoch: 212  \tLoss: 0.655838\n",
            "Train Epoch: 213  \tLoss: 0.653316\n",
            "Train Epoch: 214  \tLoss: 0.654853\n",
            "Train Epoch: 215  \tLoss: 0.669291\n",
            "Train Epoch: 216  \tLoss: 0.665317\n",
            "Train Epoch: 217  \tLoss: 0.661419\n",
            "Train Epoch: 218  \tLoss: 0.660226\n",
            "Train Epoch: 219  \tLoss: 0.655834\n",
            "Train Epoch: 220  \tLoss: 0.662265\n",
            "Train Epoch: 221  \tLoss: 0.654796\n",
            "Train Epoch: 222  \tLoss: 0.664472\n",
            "Train Epoch: 223  \tLoss: 0.663593\n",
            "Train Epoch: 224  \tLoss: 0.659485\n",
            "Train Epoch: 225  \tLoss: 0.658541\n",
            "Train Epoch: 226  \tLoss: 0.658547\n",
            "Train Epoch: 227  \tLoss: 0.662412\n",
            "Train Epoch: 228  \tLoss: 0.653335\n",
            "Train Epoch: 229  \tLoss: 0.655221\n",
            "Train Epoch: 230  \tLoss: 0.653947\n",
            "Train Epoch: 231  \tLoss: 0.658288\n",
            "Train Epoch: 232  \tLoss: 0.655463\n",
            "Train Epoch: 233  \tLoss: 0.655454\n",
            "Train Epoch: 234  \tLoss: 0.664951\n",
            "Train Epoch: 235  \tLoss: 0.653731\n",
            "Train Epoch: 236  \tLoss: 0.655900\n",
            "Train Epoch: 237  \tLoss: 0.663327\n",
            "Train Epoch: 238  \tLoss: 0.689786\n",
            "Train Epoch: 239  \tLoss: 0.659688\n",
            "Train Epoch: 240  \tLoss: 0.653188\n",
            "Train Epoch: 241  \tLoss: 0.659340\n",
            "Train Epoch: 242  \tLoss: 0.654548\n",
            "Train Epoch: 243  \tLoss: 0.649324\n",
            "Train Epoch: 244  \tLoss: 0.656577\n",
            "Train Epoch: 245  \tLoss: 0.653832\n",
            "Train Epoch: 246  \tLoss: 0.660198\n",
            "Train Epoch: 247  \tLoss: 0.661762\n",
            "Train Epoch: 248  \tLoss: 0.656538\n",
            "Train Epoch: 249  \tLoss: 0.649543\n",
            "Train Epoch: 250  \tLoss: 0.649098\n",
            "Train Epoch: 251  \tLoss: 0.653360\n",
            "Train Epoch: 252  \tLoss: 0.652701\n",
            "Train Epoch: 253  \tLoss: 0.655747\n",
            "Train Epoch: 254  \tLoss: 0.658491\n",
            "Train Epoch: 255  \tLoss: 0.656659\n",
            "Train Epoch: 256  \tLoss: 0.652318\n",
            "Train Epoch: 257  \tLoss: 0.647857\n",
            "Train Epoch: 258  \tLoss: 0.655430\n",
            "Train Epoch: 259  \tLoss: 0.654873\n",
            "Train Epoch: 260  \tLoss: 0.670139\n",
            "Train Epoch: 261  \tLoss: 0.665370\n",
            "Train Epoch: 262  \tLoss: 0.656022\n",
            "Train Epoch: 263  \tLoss: 0.649348\n",
            "Train Epoch: 264  \tLoss: 0.654857\n",
            "Train Epoch: 265  \tLoss: 0.655926\n",
            "Train Epoch: 266  \tLoss: 0.653905\n",
            "Train Epoch: 267  \tLoss: 0.654680\n",
            "Train Epoch: 268  \tLoss: 0.659241\n",
            "Train Epoch: 269  \tLoss: 0.650147\n",
            "Train Epoch: 270  \tLoss: 0.649665\n",
            "Train Epoch: 271  \tLoss: 0.641961\n",
            "Train Epoch: 272  \tLoss: 0.652471\n",
            "Train Epoch: 273  \tLoss: 0.653957\n",
            "Train Epoch: 274  \tLoss: 0.639279\n",
            "Train Epoch: 275  \tLoss: 0.647920\n",
            "Train Epoch: 276  \tLoss: 0.645796\n",
            "Train Epoch: 277  \tLoss: 0.646581\n",
            "Train Epoch: 278  \tLoss: 0.650147\n",
            "Train Epoch: 279  \tLoss: 0.644072\n",
            "Train Epoch: 280  \tLoss: 0.672759\n",
            "Train Epoch: 281  \tLoss: 0.666698\n",
            "Train Epoch: 282  \tLoss: 0.654287\n",
            "Train Epoch: 283  \tLoss: 0.645608\n",
            "Train Epoch: 284  \tLoss: 0.648730\n",
            "Train Epoch: 285  \tLoss: 0.643439\n",
            "Train Epoch: 286  \tLoss: 0.647287\n",
            "Train Epoch: 287  \tLoss: 0.644449\n",
            "Train Epoch: 288  \tLoss: 0.644275\n",
            "Train Epoch: 289  \tLoss: 0.647165\n",
            "Train Epoch: 290  \tLoss: 0.644264\n",
            "Train Epoch: 291  \tLoss: 0.649294\n",
            "Train Epoch: 292  \tLoss: 0.647009\n",
            "Train Epoch: 293  \tLoss: 0.649707\n",
            "Train Epoch: 294  \tLoss: 0.645028\n",
            "Train Epoch: 295  \tLoss: 0.638471\n",
            "Train Epoch: 296  \tLoss: 0.645221\n",
            "Train Epoch: 297  \tLoss: 0.643674\n",
            "Train Epoch: 298  \tLoss: 0.647750\n",
            "Train Epoch: 299  \tLoss: 0.640875\n",
            "Train Epoch: 300  \tLoss: 0.636766\n",
            "Train Epoch: 301  \tLoss: 0.642025\n",
            "Train Epoch: 302  \tLoss: 0.648079\n",
            "Train Epoch: 303  \tLoss: 0.648593\n",
            "Train Epoch: 304  \tLoss: 0.643193\n",
            "Train Epoch: 305  \tLoss: 0.642111\n",
            "Train Epoch: 306  \tLoss: 0.647271\n",
            "Train Epoch: 307  \tLoss: 0.639627\n",
            "Train Epoch: 308  \tLoss: 0.645775\n",
            "Train Epoch: 309  \tLoss: 0.644440\n",
            "Train Epoch: 310  \tLoss: 0.641113\n",
            "Train Epoch: 311  \tLoss: 0.641591\n",
            "Train Epoch: 312  \tLoss: 0.653095\n",
            "Train Epoch: 313  \tLoss: 0.651562\n",
            "Train Epoch: 314  \tLoss: 0.668241\n",
            "Train Epoch: 315  \tLoss: 0.668615\n",
            "Train Epoch: 316  \tLoss: 0.651602\n",
            "Train Epoch: 317  \tLoss: 0.648716\n",
            "Train Epoch: 318  \tLoss: 0.645245\n",
            "Train Epoch: 319  \tLoss: 0.644856\n",
            "Train Epoch: 320  \tLoss: 0.639593\n",
            "Train Epoch: 321  \tLoss: 0.640162\n",
            "Train Epoch: 322  \tLoss: 0.642028\n",
            "Train Epoch: 323  \tLoss: 0.643413\n",
            "Train Epoch: 324  \tLoss: 0.645158\n",
            "Train Epoch: 325  \tLoss: 0.644100\n",
            "Train Epoch: 326  \tLoss: 0.650557\n",
            "Train Epoch: 327  \tLoss: 0.642517\n",
            "Train Epoch: 328  \tLoss: 0.643190\n",
            "Train Epoch: 329  \tLoss: 0.640279\n",
            "Train Epoch: 330  \tLoss: 0.639153\n",
            "Train Epoch: 331  \tLoss: 0.645963\n",
            "Train Epoch: 332  \tLoss: 0.645806\n",
            "Train Epoch: 333  \tLoss: 0.638831\n",
            "Train Epoch: 334  \tLoss: 0.633445\n",
            "Train Epoch: 335  \tLoss: 0.642441\n",
            "Train Epoch: 336  \tLoss: 0.647381\n",
            "Train Epoch: 337  \tLoss: 0.645627\n",
            "Train Epoch: 338  \tLoss: 0.643739\n",
            "Train Epoch: 339  \tLoss: 0.643853\n",
            "Train Epoch: 340  \tLoss: 0.645261\n",
            "Train Epoch: 341  \tLoss: 0.641116\n",
            "Train Epoch: 342  \tLoss: 0.636231\n",
            "Train Epoch: 343  \tLoss: 0.633898\n",
            "Train Epoch: 344  \tLoss: 0.646056\n",
            "Train Epoch: 345  \tLoss: 0.642668\n",
            "Train Epoch: 346  \tLoss: 0.648415\n",
            "Train Epoch: 347  \tLoss: 0.640338\n",
            "Train Epoch: 348  \tLoss: 0.637197\n",
            "Train Epoch: 349  \tLoss: 0.640351\n",
            "Train Epoch: 350  \tLoss: 0.638408\n",
            "Train Epoch: 351  \tLoss: 0.639369\n",
            "Train Epoch: 352  \tLoss: 0.637025\n",
            "Train Epoch: 353  \tLoss: 0.650458\n",
            "Train Epoch: 354  \tLoss: 0.648243\n",
            "Train Epoch: 355  \tLoss: 0.642883\n",
            "Train Epoch: 356  \tLoss: 0.639027\n",
            "Train Epoch: 357  \tLoss: 0.635794\n",
            "Train Epoch: 358  \tLoss: 0.635028\n",
            "Train Epoch: 359  \tLoss: 0.634480\n",
            "Train Epoch: 360  \tLoss: 0.635149\n",
            "Train Epoch: 361  \tLoss: 0.633868\n",
            "Train Epoch: 362  \tLoss: 0.634351\n",
            "Train Epoch: 363  \tLoss: 0.632571\n",
            "Train Epoch: 364  \tLoss: 0.644745\n",
            "Train Epoch: 365  \tLoss: 0.642620\n",
            "Train Epoch: 366  \tLoss: 0.640728\n",
            "Train Epoch: 367  \tLoss: 0.644388\n",
            "Train Epoch: 368  \tLoss: 0.638584\n",
            "Train Epoch: 369  \tLoss: 0.639815\n",
            "Train Epoch: 370  \tLoss: 0.630766\n",
            "Train Epoch: 371  \tLoss: 0.633456\n",
            "Train Epoch: 372  \tLoss: 0.639958\n",
            "Train Epoch: 373  \tLoss: 0.652658\n",
            "Train Epoch: 374  \tLoss: 0.644584\n",
            "Train Epoch: 375  \tLoss: 0.645957\n",
            "Train Epoch: 376  \tLoss: 0.636252\n",
            "Train Epoch: 377  \tLoss: 0.637011\n",
            "Train Epoch: 378  \tLoss: 0.636069\n",
            "Train Epoch: 379  \tLoss: 0.630281\n",
            "Train Epoch: 380  \tLoss: 0.633032\n",
            "Train Epoch: 381  \tLoss: 0.635504\n",
            "Train Epoch: 382  \tLoss: 0.632724\n",
            "Train Epoch: 383  \tLoss: 0.635597\n",
            "Train Epoch: 384  \tLoss: 0.650314\n",
            "Train Epoch: 385  \tLoss: 0.639155\n",
            "Train Epoch: 386  \tLoss: 0.637408\n",
            "Train Epoch: 387  \tLoss: 0.631534\n",
            "Train Epoch: 388  \tLoss: 0.644169\n",
            "Train Epoch: 389  \tLoss: 0.638421\n",
            "Train Epoch: 390  \tLoss: 0.633211\n",
            "Train Epoch: 391  \tLoss: 0.633402\n",
            "Train Epoch: 392  \tLoss: 0.631337\n",
            "Train Epoch: 393  \tLoss: 0.629859\n",
            "Train Epoch: 394  \tLoss: 0.633035\n",
            "Train Epoch: 395  \tLoss: 0.636250\n",
            "Train Epoch: 396  \tLoss: 0.634914\n",
            "Train Epoch: 397  \tLoss: 0.651363\n",
            "Train Epoch: 398  \tLoss: 0.640999\n",
            "Train Epoch: 399  \tLoss: 0.636714\n",
            "Train Epoch: 400  \tLoss: 0.639368\n",
            "Train Epoch: 401  \tLoss: 0.639040\n",
            "Train Epoch: 402  \tLoss: 0.640288\n",
            "Train Epoch: 403  \tLoss: 0.637679\n",
            "Train Epoch: 404  \tLoss: 0.626166\n",
            "Train Epoch: 405  \tLoss: 0.636158\n",
            "Train Epoch: 406  \tLoss: 0.642178\n",
            "Train Epoch: 407  \tLoss: 0.636088\n",
            "Train Epoch: 408  \tLoss: 0.627427\n",
            "Train Epoch: 409  \tLoss: 0.627481\n",
            "Train Epoch: 410  \tLoss: 0.634245\n",
            "Train Epoch: 411  \tLoss: 0.634740\n",
            "Train Epoch: 412  \tLoss: 0.643616\n",
            "Train Epoch: 413  \tLoss: 0.652822\n",
            "Train Epoch: 414  \tLoss: 0.635263\n",
            "Train Epoch: 415  \tLoss: 0.629943\n",
            "Train Epoch: 416  \tLoss: 0.629977\n",
            "Train Epoch: 417  \tLoss: 0.625417\n",
            "Train Epoch: 418  \tLoss: 0.626565\n",
            "Train Epoch: 419  \tLoss: 0.632733\n",
            "Train Epoch: 420  \tLoss: 0.634669\n",
            "Train Epoch: 421  \tLoss: 0.638703\n",
            "Train Epoch: 422  \tLoss: 0.631255\n",
            "Train Epoch: 423  \tLoss: 0.631226\n",
            "Train Epoch: 424  \tLoss: 0.634569\n",
            "Train Epoch: 425  \tLoss: 0.634950\n",
            "Train Epoch: 426  \tLoss: 0.638581\n",
            "Train Epoch: 427  \tLoss: 0.641061\n",
            "Train Epoch: 428  \tLoss: 0.628547\n",
            "Train Epoch: 429  \tLoss: 0.635013\n",
            "Train Epoch: 430  \tLoss: 0.629648\n",
            "Train Epoch: 431  \tLoss: 0.632288\n",
            "Train Epoch: 432  \tLoss: 0.639754\n",
            "Train Epoch: 433  \tLoss: 0.630485\n",
            "Train Epoch: 434  \tLoss: 0.633475\n",
            "Train Epoch: 435  \tLoss: 0.627589\n",
            "Train Epoch: 436  \tLoss: 0.632422\n",
            "Train Epoch: 437  \tLoss: 0.633328\n",
            "Train Epoch: 438  \tLoss: 0.630566\n",
            "Train Epoch: 439  \tLoss: 0.628496\n",
            "Train Epoch: 440  \tLoss: 0.623595\n",
            "Train Epoch: 441  \tLoss: 0.632083\n",
            "Train Epoch: 442  \tLoss: 0.641128\n",
            "Train Epoch: 443  \tLoss: 0.641309\n",
            "Train Epoch: 444  \tLoss: 0.633159\n",
            "Train Epoch: 445  \tLoss: 0.661058\n",
            "Train Epoch: 446  \tLoss: 0.648895\n",
            "Train Epoch: 447  \tLoss: 0.638943\n",
            "Train Epoch: 448  \tLoss: 0.630751\n",
            "Train Epoch: 449  \tLoss: 0.629320\n",
            "Train Epoch: 450  \tLoss: 0.626998\n",
            "Train Epoch: 451  \tLoss: 0.618702\n",
            "Train Epoch: 452  \tLoss: 0.622533\n",
            "Train Epoch: 453  \tLoss: 0.624562\n",
            "Train Epoch: 454  \tLoss: 0.634766\n",
            "Train Epoch: 455  \tLoss: 0.634252\n",
            "Train Epoch: 456  \tLoss: 0.634583\n",
            "Train Epoch: 457  \tLoss: 0.635915\n",
            "Train Epoch: 458  \tLoss: 0.637416\n",
            "Train Epoch: 459  \tLoss: 0.643454\n",
            "Train Epoch: 460  \tLoss: 0.637344\n",
            "Train Epoch: 461  \tLoss: 0.651713\n",
            "Train Epoch: 462  \tLoss: 0.631953\n",
            "Train Epoch: 463  \tLoss: 0.624790\n",
            "Train Epoch: 464  \tLoss: 0.633951\n",
            "Train Epoch: 465  \tLoss: 0.628394\n",
            "Train Epoch: 466  \tLoss: 0.629119\n",
            "Train Epoch: 467  \tLoss: 0.629635\n",
            "Train Epoch: 468  \tLoss: 0.629207\n",
            "Train Epoch: 469  \tLoss: 0.621625\n",
            "Train Epoch: 470  \tLoss: 0.631158\n",
            "Train Epoch: 471  \tLoss: 0.639245\n",
            "Train Epoch: 472  \tLoss: 0.639154\n",
            "Train Epoch: 473  \tLoss: 0.626680\n",
            "Train Epoch: 474  \tLoss: 0.626307\n",
            "Train Epoch: 475  \tLoss: 0.621758\n",
            "Train Epoch: 476  \tLoss: 0.615825\n",
            "Train Epoch: 477  \tLoss: 0.623308\n",
            "Train Epoch: 478  \tLoss: 0.641406\n",
            "Train Epoch: 479  \tLoss: 0.636613\n",
            "Train Epoch: 480  \tLoss: 0.627006\n",
            "Train Epoch: 481  \tLoss: 0.629348\n",
            "Train Epoch: 482  \tLoss: 0.626750\n",
            "Train Epoch: 483  \tLoss: 0.629149\n",
            "Train Epoch: 484  \tLoss: 0.626911\n",
            "Train Epoch: 485  \tLoss: 0.629023\n",
            "Train Epoch: 486  \tLoss: 0.626335\n",
            "Train Epoch: 487  \tLoss: 0.639638\n",
            "Train Epoch: 488  \tLoss: 0.641444\n",
            "Train Epoch: 489  \tLoss: 0.631647\n",
            "Train Epoch: 490  \tLoss: 0.637129\n",
            "Train Epoch: 491  \tLoss: 0.637784\n",
            "Train Epoch: 492  \tLoss: 0.628872\n",
            "Train Epoch: 493  \tLoss: 0.624579\n",
            "Train Epoch: 494  \tLoss: 0.620595\n",
            "Train Epoch: 495  \tLoss: 0.624718\n",
            "Train Epoch: 496  \tLoss: 0.629103\n",
            "Train Epoch: 497  \tLoss: 0.639827\n",
            "Train Epoch: 498  \tLoss: 0.636902\n",
            "Train Epoch: 499  \tLoss: 0.630161\n",
            "Test set: Average loss: 0.9341\n",
            "Accuracy: 65.977%\n"
          ],
          "name": "stdout"
        }
      ]
    },
    {
      "cell_type": "markdown",
      "metadata": {
        "id": "jvjv_vNTIrYj"
      },
      "source": [
        "# Compare Best Model to Vegas<a name=\"compare-vegas\"></a>"
      ]
    },
    {
      "cell_type": "code",
      "metadata": {
        "id": "t1oq3RcGJjyW"
      },
      "source": [
        "def predict_betting_wins(pred, spread, result):\n",
        "  '''\n",
        "  predict the percent of the time that you beat vegas in betting\n",
        "\n",
        "  Paramters\n",
        "  ---------\n",
        "  prediction : torch.tensor\n",
        "      vector of predictions of length (N,) where N is number of games\n",
        "  spread : torch.tensor\n",
        "      vector of vegas spreads of length (N,) where N is number of games\n",
        "  result : torch.tensor\n",
        "      vector of actual game results of length (N,) where N is number of games\n",
        "\n",
        "  Returns\n",
        "  -------\n",
        "  winning_percentage : float\n",
        "      percent of time that vegas is beat\n",
        "  '''\n",
        "  spread_v_pred = torch.sign(pred - spread)\n",
        "  spread_v_result = torch.sign(result - spread)\n",
        "  winning_percentage = torch.sum(spread_v_result == spread_v_pred)/result.size()[0]\n",
        "  return winning_percentage\n",
        "\n",
        "def calculate_return(winning_percentage):\n",
        "  return ((winning_percentage * 21/11) - 1) * 100.0"
      ],
      "execution_count": 58,
      "outputs": []
    },
    {
      "cell_type": "code",
      "metadata": {
        "id": "bfcns_PEKFZW",
        "colab": {
          "base_uri": "https://localhost:8080/"
        },
        "outputId": "51a525d6-b614-49a9-9225-f4d444e994c6"
      },
      "source": [
        "_, _, test = split_data()\n",
        "\n",
        "test_in = test.drop(columns=['result'])\n",
        "test_in_tensor = torch.tensor(test_in.to_numpy(), dtype=torch.float, device=device)\n",
        "pred = modelSpread(test_in_tensor)\n",
        "pred = torch.reshape(pred, (-1,))\n",
        "\n",
        "result = torch.tensor(test.result.to_numpy(), dtype=torch.float, device=device)\n",
        "vegas = torch.tensor(test.spread.to_numpy(), dtype=torch.float, device=device)\n",
        "\n",
        "beating_vegas = predict_betting_wins(pred, vegas, result)\n",
        "print('Percentage of Vegas bets this model would\\'ve won: %.4f%%' % (beating_vegas*100))\n",
        "print('Average return on investement betting with this model: %.2f%%' % (calculate_return(beating_vegas)))"
      ],
      "execution_count": 59,
      "outputs": [
        {
          "output_type": "stream",
          "text": [
            "Percentage of Vegas bets this model would've won: 68.9858%\n",
            "Average return on investement betting with this model: 31.70%\n"
          ],
          "name": "stdout"
        }
      ]
    },
    {
      "cell_type": "markdown",
      "metadata": {
        "id": "GWxT6An4IP5S"
      },
      "source": [
        "# Summary<a name=\"summary\"></a>"
      ]
    },
    {
      "cell_type": "markdown",
      "metadata": {
        "id": "4JD1gt80Ji_g"
      },
      "source": [
        "Sample data format:"
      ]
    },
    {
      "cell_type": "code",
      "metadata": {
        "colab": {
          "base_uri": "https://localhost:8080/",
          "height": 320
        },
        "id": "eqzr-sTeuGvK",
        "outputId": "1810d5e2-1646-42e9-910e-c182e9c11604"
      },
      "source": [
        "games.loc[(games.home_team == 'Washington') & (games.season == 2015)]"
      ],
      "execution_count": null,
      "outputs": [
        {
          "output_type": "execute_result",
          "data": {
            "text/html": [
              "<div>\n",
              "<style scoped>\n",
              "    .dataframe tbody tr th:only-of-type {\n",
              "        vertical-align: middle;\n",
              "    }\n",
              "\n",
              "    .dataframe tbody tr th {\n",
              "        vertical-align: top;\n",
              "    }\n",
              "\n",
              "    .dataframe thead th {\n",
              "        text-align: right;\n",
              "    }\n",
              "</style>\n",
              "<table border=\"1\" class=\"dataframe\">\n",
              "  <thead>\n",
              "    <tr style=\"text-align: right;\">\n",
              "      <th></th>\n",
              "      <th>id</th>\n",
              "      <th>season</th>\n",
              "      <th>week</th>\n",
              "      <th>home_team</th>\n",
              "      <th>away_team</th>\n",
              "      <th>excitement_index</th>\n",
              "      <th>result</th>\n",
              "      <th>spread</th>\n",
              "      <th>homeWinProb</th>\n",
              "      <th>home_games</th>\n",
              "      <th>away_games</th>\n",
              "      <th>firstDowns</th>\n",
              "      <th>fourthDownConversions</th>\n",
              "      <th>fourthDowns</th>\n",
              "      <th>fumblesLost</th>\n",
              "      <th>fumblesRecovered</th>\n",
              "      <th>interceptionTDs</th>\n",
              "      <th>interceptionYards</th>\n",
              "      <th>interceptions</th>\n",
              "      <th>kickReturnTDs</th>\n",
              "      <th>kickReturnYards</th>\n",
              "      <th>kickReturns</th>\n",
              "      <th>netPassingYards</th>\n",
              "      <th>passAttempts</th>\n",
              "      <th>passCompletions</th>\n",
              "      <th>passesIntercepted</th>\n",
              "      <th>passingTDs</th>\n",
              "      <th>penalties</th>\n",
              "      <th>penaltyYards</th>\n",
              "      <th>possessionTime</th>\n",
              "      <th>puntReturnTDs</th>\n",
              "      <th>puntReturnYards</th>\n",
              "      <th>puntReturns</th>\n",
              "      <th>rushingAttempts</th>\n",
              "      <th>rushingTDs</th>\n",
              "      <th>rushingYards</th>\n",
              "      <th>thirdDownConversions</th>\n",
              "      <th>thirdDowns</th>\n",
              "      <th>totalYards</th>\n",
              "      <th>turnovers</th>\n",
              "      <th>home_for</th>\n",
              "      <th>home_against</th>\n",
              "      <th>away_for</th>\n",
              "      <th>away_against</th>\n",
              "      <th>home_rank</th>\n",
              "      <th>away_rank</th>\n",
              "      <th>win_difference</th>\n",
              "    </tr>\n",
              "  </thead>\n",
              "  <tbody>\n",
              "    <tr>\n",
              "      <th>1752</th>\n",
              "      <td>400757020</td>\n",
              "      <td>2015</td>\n",
              "      <td>2</td>\n",
              "      <td>Washington</td>\n",
              "      <td>Sacramento State</td>\n",
              "      <td>0.450862</td>\n",
              "      <td>49.0</td>\n",
              "      <td>30.0</td>\n",
              "      <td>0.961</td>\n",
              "      <td>1.0</td>\n",
              "      <td>0.0</td>\n",
              "      <td>0.000000</td>\n",
              "      <td>0.000000</td>\n",
              "      <td>0.000000</td>\n",
              "      <td>0.000000</td>\n",
              "      <td>0.000000</td>\n",
              "      <td>0.000000</td>\n",
              "      <td>0.000000</td>\n",
              "      <td>0.000000</td>\n",
              "      <td>0.000</td>\n",
              "      <td>0.000000</td>\n",
              "      <td>0.000000</td>\n",
              "      <td>0.000000</td>\n",
              "      <td>0.000000</td>\n",
              "      <td>0.000000</td>\n",
              "      <td>0.000000</td>\n",
              "      <td>0.000000</td>\n",
              "      <td>0.000000</td>\n",
              "      <td>0.000000</td>\n",
              "      <td>0.000000</td>\n",
              "      <td>0.000000</td>\n",
              "      <td>0.000000</td>\n",
              "      <td>0.000000</td>\n",
              "      <td>0.000000</td>\n",
              "      <td>0.000000</td>\n",
              "      <td>0.000000</td>\n",
              "      <td>0.000000</td>\n",
              "      <td>0.000000</td>\n",
              "      <td>0.000000</td>\n",
              "      <td>0.000000</td>\n",
              "      <td>13.000000</td>\n",
              "      <td>16.000000</td>\n",
              "      <td>0.000000</td>\n",
              "      <td>0.000000</td>\n",
              "      <td>-1.0</td>\n",
              "      <td>-1.0</td>\n",
              "      <td>0.000000</td>\n",
              "    </tr>\n",
              "    <tr>\n",
              "      <th>1849</th>\n",
              "      <td>400757032</td>\n",
              "      <td>2015</td>\n",
              "      <td>3</td>\n",
              "      <td>Washington</td>\n",
              "      <td>Utah State</td>\n",
              "      <td>3.141362</td>\n",
              "      <td>14.0</td>\n",
              "      <td>3.5</td>\n",
              "      <td>0.582</td>\n",
              "      <td>2.0</td>\n",
              "      <td>2.0</td>\n",
              "      <td>-1.000000</td>\n",
              "      <td>1.000000</td>\n",
              "      <td>2.000000</td>\n",
              "      <td>0.000000</td>\n",
              "      <td>0.500000</td>\n",
              "      <td>0.000000</td>\n",
              "      <td>3.000000</td>\n",
              "      <td>-1.000000</td>\n",
              "      <td>0.000</td>\n",
              "      <td>24.500000</td>\n",
              "      <td>1.000000</td>\n",
              "      <td>55.000000</td>\n",
              "      <td>-4.000000</td>\n",
              "      <td>-0.500000</td>\n",
              "      <td>1.000000</td>\n",
              "      <td>0.000000</td>\n",
              "      <td>-4.500000</td>\n",
              "      <td>-61.000000</td>\n",
              "      <td>-136.500000</td>\n",
              "      <td>0.000000</td>\n",
              "      <td>-37.000000</td>\n",
              "      <td>-4.000000</td>\n",
              "      <td>-4.500000</td>\n",
              "      <td>2.500000</td>\n",
              "      <td>-5.000000</td>\n",
              "      <td>-1.000000</td>\n",
              "      <td>-3.000000</td>\n",
              "      <td>50.000000</td>\n",
              "      <td>-1.000000</td>\n",
              "      <td>31.000000</td>\n",
              "      <td>8.000000</td>\n",
              "      <td>13.000000</td>\n",
              "      <td>16.500000</td>\n",
              "      <td>-1.0</td>\n",
              "      <td>-1.0</td>\n",
              "      <td>0.000000</td>\n",
              "    </tr>\n",
              "    <tr>\n",
              "      <th>1915</th>\n",
              "      <td>400757040</td>\n",
              "      <td>2015</td>\n",
              "      <td>4</td>\n",
              "      <td>Washington</td>\n",
              "      <td>California</td>\n",
              "      <td>5.311134</td>\n",
              "      <td>-6.0</td>\n",
              "      <td>-2.0</td>\n",
              "      <td>0.453</td>\n",
              "      <td>3.0</td>\n",
              "      <td>3.0</td>\n",
              "      <td>-9.000000</td>\n",
              "      <td>-0.666667</td>\n",
              "      <td>0.333333</td>\n",
              "      <td>0.000000</td>\n",
              "      <td>-0.333333</td>\n",
              "      <td>-0.666667</td>\n",
              "      <td>19.333333</td>\n",
              "      <td>-0.333333</td>\n",
              "      <td>0.000</td>\n",
              "      <td>24.333333</td>\n",
              "      <td>1.000000</td>\n",
              "      <td>-72.000000</td>\n",
              "      <td>-6.666667</td>\n",
              "      <td>-6.333333</td>\n",
              "      <td>-1.333333</td>\n",
              "      <td>-1.666667</td>\n",
              "      <td>-1.000000</td>\n",
              "      <td>-12.000000</td>\n",
              "      <td>-112.333333</td>\n",
              "      <td>0.333333</td>\n",
              "      <td>35.000000</td>\n",
              "      <td>0.333333</td>\n",
              "      <td>-7.666667</td>\n",
              "      <td>-1.000000</td>\n",
              "      <td>-102.666667</td>\n",
              "      <td>0.000000</td>\n",
              "      <td>0.666667</td>\n",
              "      <td>-174.666667</td>\n",
              "      <td>-0.333333</td>\n",
              "      <td>31.000000</td>\n",
              "      <td>11.000000</td>\n",
              "      <td>51.000000</td>\n",
              "      <td>21.666667</td>\n",
              "      <td>-1.0</td>\n",
              "      <td>-1.0</td>\n",
              "      <td>-0.333333</td>\n",
              "    </tr>\n",
              "    <tr>\n",
              "      <th>2110</th>\n",
              "      <td>400757054</td>\n",
              "      <td>2015</td>\n",
              "      <td>7</td>\n",
              "      <td>Washington</td>\n",
              "      <td>Oregon</td>\n",
              "      <td>4.521294</td>\n",
              "      <td>-6.0</td>\n",
              "      <td>0.0</td>\n",
              "      <td>0.000</td>\n",
              "      <td>5.0</td>\n",
              "      <td>6.0</td>\n",
              "      <td>-8.466667</td>\n",
              "      <td>-0.900000</td>\n",
              "      <td>-1.600000</td>\n",
              "      <td>0.533333</td>\n",
              "      <td>-0.400000</td>\n",
              "      <td>-0.166667</td>\n",
              "      <td>14.733333</td>\n",
              "      <td>0.000000</td>\n",
              "      <td>0.000</td>\n",
              "      <td>-65.633333</td>\n",
              "      <td>-3.100000</td>\n",
              "      <td>22.000000</td>\n",
              "      <td>2.066667</td>\n",
              "      <td>1.266667</td>\n",
              "      <td>0.400000</td>\n",
              "      <td>-0.633333</td>\n",
              "      <td>-2.566667</td>\n",
              "      <td>-18.566667</td>\n",
              "      <td>20.666667</td>\n",
              "      <td>0.033333</td>\n",
              "      <td>9.933333</td>\n",
              "      <td>0.233333</td>\n",
              "      <td>-19.300000</td>\n",
              "      <td>-1.200000</td>\n",
              "      <td>-206.066667</td>\n",
              "      <td>-0.800000</td>\n",
              "      <td>-1.400000</td>\n",
              "      <td>-184.066667</td>\n",
              "      <td>0.533333</td>\n",
              "      <td>26.800000</td>\n",
              "      <td>15.000000</td>\n",
              "      <td>41.500000</td>\n",
              "      <td>38.666667</td>\n",
              "      <td>-1.0</td>\n",
              "      <td>-1.0</td>\n",
              "      <td>0.100000</td>\n",
              "    </tr>\n",
              "    <tr>\n",
              "      <th>2219</th>\n",
              "      <td>400757062</td>\n",
              "      <td>2015</td>\n",
              "      <td>9</td>\n",
              "      <td>Washington</td>\n",
              "      <td>Arizona</td>\n",
              "      <td>2.742335</td>\n",
              "      <td>46.0</td>\n",
              "      <td>0.0</td>\n",
              "      <td>0.000</td>\n",
              "      <td>7.0</td>\n",
              "      <td>8.0</td>\n",
              "      <td>-10.214286</td>\n",
              "      <td>-0.321429</td>\n",
              "      <td>-0.875000</td>\n",
              "      <td>-0.017857</td>\n",
              "      <td>0.178571</td>\n",
              "      <td>-0.125000</td>\n",
              "      <td>17.375000</td>\n",
              "      <td>0.732143</td>\n",
              "      <td>0.000</td>\n",
              "      <td>23.892857</td>\n",
              "      <td>0.857143</td>\n",
              "      <td>-40.892857</td>\n",
              "      <td>-5.464286</td>\n",
              "      <td>-3.321429</td>\n",
              "      <td>0.392857</td>\n",
              "      <td>-1.125000</td>\n",
              "      <td>-0.392857</td>\n",
              "      <td>-2.642857</td>\n",
              "      <td>5.375000</td>\n",
              "      <td>0.017857</td>\n",
              "      <td>7.303571</td>\n",
              "      <td>0.803571</td>\n",
              "      <td>-13.750000</td>\n",
              "      <td>-1.410714</td>\n",
              "      <td>-159.964286</td>\n",
              "      <td>-2.964286</td>\n",
              "      <td>-2.446429</td>\n",
              "      <td>-200.857143</td>\n",
              "      <td>0.714286</td>\n",
              "      <td>24.000000</td>\n",
              "      <td>18.857143</td>\n",
              "      <td>41.750000</td>\n",
              "      <td>32.375000</td>\n",
              "      <td>-1.0</td>\n",
              "      <td>-1.0</td>\n",
              "      <td>-0.196429</td>\n",
              "    </tr>\n",
              "    <tr>\n",
              "      <th>2273</th>\n",
              "      <td>400757071</td>\n",
              "      <td>2015</td>\n",
              "      <td>10</td>\n",
              "      <td>Washington</td>\n",
              "      <td>Utah</td>\n",
              "      <td>7.818279</td>\n",
              "      <td>-11.0</td>\n",
              "      <td>0.0</td>\n",
              "      <td>0.000</td>\n",
              "      <td>8.0</td>\n",
              "      <td>8.0</td>\n",
              "      <td>-3.625000</td>\n",
              "      <td>-1.000000</td>\n",
              "      <td>-1.000000</td>\n",
              "      <td>0.375000</td>\n",
              "      <td>-0.250000</td>\n",
              "      <td>-0.125000</td>\n",
              "      <td>1.000000</td>\n",
              "      <td>-0.250000</td>\n",
              "      <td>-0.125</td>\n",
              "      <td>21.875000</td>\n",
              "      <td>0.875000</td>\n",
              "      <td>9.125000</td>\n",
              "      <td>0.250000</td>\n",
              "      <td>-2.625000</td>\n",
              "      <td>-0.250000</td>\n",
              "      <td>-0.125000</td>\n",
              "      <td>0.250000</td>\n",
              "      <td>6.000000</td>\n",
              "      <td>-346.250000</td>\n",
              "      <td>-0.125000</td>\n",
              "      <td>-18.750000</td>\n",
              "      <td>-1.000000</td>\n",
              "      <td>-9.875000</td>\n",
              "      <td>-0.125000</td>\n",
              "      <td>-46.125000</td>\n",
              "      <td>-1.625000</td>\n",
              "      <td>-2.375000</td>\n",
              "      <td>-37.000000</td>\n",
              "      <td>0.125000</td>\n",
              "      <td>27.125000</td>\n",
              "      <td>16.875000</td>\n",
              "      <td>33.750000</td>\n",
              "      <td>21.375000</td>\n",
              "      <td>-1.0</td>\n",
              "      <td>13.0</td>\n",
              "      <td>-0.375000</td>\n",
              "    </tr>\n",
              "    <tr>\n",
              "      <th>2414</th>\n",
              "      <td>400757086</td>\n",
              "      <td>2015</td>\n",
              "      <td>13</td>\n",
              "      <td>Washington</td>\n",
              "      <td>Washington State</td>\n",
              "      <td>3.400944</td>\n",
              "      <td>35.0</td>\n",
              "      <td>5.5</td>\n",
              "      <td>0.627</td>\n",
              "      <td>11.0</td>\n",
              "      <td>11.0</td>\n",
              "      <td>-7.090909</td>\n",
              "      <td>-1.545455</td>\n",
              "      <td>-1.545455</td>\n",
              "      <td>0.272727</td>\n",
              "      <td>-0.272727</td>\n",
              "      <td>-0.090909</td>\n",
              "      <td>7.090909</td>\n",
              "      <td>0.000000</td>\n",
              "      <td>0.000</td>\n",
              "      <td>-0.454545</td>\n",
              "      <td>0.000000</td>\n",
              "      <td>-168.454545</td>\n",
              "      <td>-25.909091</td>\n",
              "      <td>-20.636364</td>\n",
              "      <td>0.272727</td>\n",
              "      <td>-1.909091</td>\n",
              "      <td>-0.454545</td>\n",
              "      <td>7.909091</td>\n",
              "      <td>-116.181818</td>\n",
              "      <td>0.181818</td>\n",
              "      <td>17.454545</td>\n",
              "      <td>0.454545</td>\n",
              "      <td>11.000000</td>\n",
              "      <td>1.000000</td>\n",
              "      <td>60.545455</td>\n",
              "      <td>-1.545455</td>\n",
              "      <td>-2.090909</td>\n",
              "      <td>-107.909091</td>\n",
              "      <td>0.272727</td>\n",
              "      <td>28.090909</td>\n",
              "      <td>18.454545</td>\n",
              "      <td>34.454545</td>\n",
              "      <td>27.363636</td>\n",
              "      <td>-1.0</td>\n",
              "      <td>20.0</td>\n",
              "      <td>-0.272727</td>\n",
              "    </tr>\n",
              "  </tbody>\n",
              "</table>\n",
              "</div>"
            ],
            "text/plain": [
              "             id  season  week  ... home_rank away_rank  win_difference\n",
              "1752  400757020    2015     2  ...      -1.0      -1.0        0.000000\n",
              "1849  400757032    2015     3  ...      -1.0      -1.0        0.000000\n",
              "1915  400757040    2015     4  ...      -1.0      -1.0       -0.333333\n",
              "2110  400757054    2015     7  ...      -1.0      -1.0        0.100000\n",
              "2219  400757062    2015     9  ...      -1.0      -1.0       -0.196429\n",
              "2273  400757071    2015    10  ...      -1.0      13.0       -0.375000\n",
              "2414  400757086    2015    13  ...      -1.0      20.0       -0.272727\n",
              "\n",
              "[7 rows x 47 columns]"
            ]
          },
          "metadata": {
            "tags": []
          },
          "execution_count": 41
        }
      ]
    },
    {
      "cell_type": "markdown",
      "metadata": {
        "id": "DyvHQdpPJdLx"
      },
      "source": [
        "Results:"
      ]
    },
    {
      "cell_type": "markdown",
      "metadata": {
        "id": "fus3d9wxIkUX"
      },
      "source": [
        "| Model | Validation RMSE (points) | Validation Accuracy (%) | Test RMSE (points) | Test Accuracy (%) |\n",
        "| :---: | :---: | :---: | :---: | :---: |\n",
        "| Vegas Spreads | - | - | 16.54 | 75.7 |\n",
        "| Simple Linear | - | - | 20.53 | 72.1 |\n",
        "| Complex Linear | - | - | 15.47 | 77.7 |\n",
        "| Complex Linear w/ L1 | 16.66 | - | 18.35 | 77.5 |\n",
        "| Random Forest | - | 76.67 | - | 78.8 |\n",
        "| Neural Net for Spread Prediction | 14.74 | - | 12.89 | - |\n",
        "| Neural Net for Winner Prediction | - | 72.64 | - | - |"
      ]
    }
  ]
}