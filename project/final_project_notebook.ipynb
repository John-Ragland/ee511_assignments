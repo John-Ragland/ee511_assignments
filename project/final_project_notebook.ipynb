{
  "nbformat": 4,
  "nbformat_minor": 0,
  "metadata": {
    "colab": {
      "name": "EE511_Project.ipynb",
      "provenance": [],
      "collapsed_sections": [
        "0iWWUiEstgqs",
        "MewJ9jzs6oYm"
      ],
      "include_colab_link": true
    },
    "kernelspec": {
      "display_name": "Python 3",
      "language": "python",
      "name": "python3"
    },
    "language_info": {
      "codemirror_mode": {
        "name": "ipython",
        "version": 3
      },
      "file_extension": ".py",
      "mimetype": "text/x-python",
      "name": "python",
      "nbconvert_exporter": "python",
      "pygments_lexer": "ipython3",
      "version": "3.8.3-final"
    },
    "accelerator": "GPU"
  },
  "cells": [
    {
      "cell_type": "markdown",
      "metadata": {
        "id": "view-in-github",
        "colab_type": "text"
      },
      "source": [
        "<a href=\"https://colab.research.google.com/github/John-Ragland/ee511_assignments/blob/main/project/final_project_notebook.ipynb\" target=\"_parent\"><img src=\"https://colab.research.google.com/assets/colab-badge.svg\" alt=\"Open In Colab\"/></a>"
      ]
    },
    {
      "cell_type": "markdown",
      "metadata": {
        "id": "0iWWUiEstgqs"
      },
      "source": [
        "# Setup the Notebook and Get Data<a name=\"set-up\"></a>"
      ]
    },
    {
      "cell_type": "code",
      "metadata": {
        "id": "HHKM4gIXPMUY"
      },
      "source": [
        "# Suppress Warnings\n",
        "def warn(*args, **kwargs):\n",
        "    pass\n",
        "import warnings\n",
        "warnings.warn = warn\n",
        "\n",
        "import numpy as np\n",
        "import pandas as pd\n",
        "from matplotlib import pyplot as plt\n",
        "from sklearn.linear_model import LinearRegression, Lasso\n",
        "from sklearn.metrics import mean_squared_error\n",
        "from sklearn.preprocessing import OneHotEncoder\n",
        "from sklearn.ensemble import RandomForestClassifier\n",
        "import torch\n",
        "import torch.nn as nn \n",
        "import torch.optim as optim\n",
        "import torch.nn.functional as F\n",
        "from torch.utils.data import TensorDataset, DataLoader\n",
        "from sklearn.model_selection import KFold"
      ],
      "execution_count": 212,
      "outputs": []
    },
    {
      "cell_type": "code",
      "metadata": {
        "id": "4ZFeQkdrPMUe"
      },
      "source": [
        "# look_back = 3 # games\n",
        "def get_data(data_type, start_year, end_year=2019, week=None):\n",
        "    website = 'https://api.collegefootballdata.com/' + data_type\n",
        "    frames = []\n",
        "    for year in range(start_year, end_year+1):\n",
        "        url = website + '?year=%d' % year\n",
        "        if week:\n",
        "          # start = max(week - look_back, 1)\n",
        "          # url += '&startWeek=%d' % start\n",
        "          url += '&endWeek=%d' % week\n",
        "        frames.append(pd.read_json(url))\n",
        "    return pd.concat(frames)"
      ],
      "execution_count": 213,
      "outputs": []
    },
    {
      "cell_type": "code",
      "metadata": {
        "id": "l5tADrqecXas"
      },
      "source": [
        "def get_weekly_stats(start_year):\n",
        "  frames = []\n",
        "  for week in range(1, 16):\n",
        "    week_frame = get_data('stats/season', start_year, week=week)\n",
        "    week_frame['week'] = week+1\n",
        "    frames.append(week_frame)\n",
        "  return pd.concat(frames)"
      ],
      "execution_count": 214,
      "outputs": []
    },
    {
      "cell_type": "code",
      "metadata": {
        "id": "4Lqv3yilW45-"
      },
      "source": [
        "# collect the data\n",
        "begin = 2004\n",
        "original_stats = get_weekly_stats(begin)\n",
        "original_games = get_data('games', begin)\n",
        "original_teams = pd.read_json('https://api.collegefootballdata.com/teams')\n",
        "original_spread = get_data('metrics/wp/pregame', 2013)\n",
        "original_rankings = get_data('rankings', begin)"
      ],
      "execution_count": 215,
      "outputs": []
    },
    {
      "cell_type": "code",
      "metadata": {
        "id": "XktiXvr3olJX",
        "colab": {
          "base_uri": "https://localhost:8080/"
        },
        "outputId": "d475403e-2396-49bb-e42d-2812cee378da"
      },
      "source": [
        "# get the games and calculate spread (result)\n",
        "games = original_games\n",
        "games = games.assign(result = (games.home_points-games.away_points))\n",
        "games = games.loc[:, games.columns.intersection(['id', 'season', 'week', 'home_team', 'away_team', 'result', 'excitement_index'])]\n",
        "\n",
        "# add pregame predictions\n",
        "spreads = original_spread.loc[:, original_spread.columns.intersection(['gameId', 'spread', 'homeWinProb'])]\n",
        "spreads.spread *= -1\n",
        "games = pd.merge(games, spreads, how='left', left_on=['id'], right_on=['gameId']).drop(['gameId'], axis=1)\n",
        "\n",
        "# get the list of stats\n",
        "stats = original_stats\n",
        "stats = stats.drop(columns=['conference'])\n",
        "w = stats.loc[(stats.team == 'Washington') & (stats.season == begin)]\n",
        "stat_cols = w.statName.to_list()\n",
        "stat_cols = list(set(stat_cols)) # remove duplicates\n",
        "stat_cols.sort()\n",
        "stat_cols.remove('games')\n",
        "print(stat_cols)\n",
        "\n",
        "# add each stat of both teams\n",
        "s = stats.loc[(stats.statName == 'games')]\n",
        "s = s.drop(columns=['statName'])\n",
        "games = pd.merge(games, s.rename(columns={'statValue': 'home_games'}), how='left', left_on=['season', 'home_team', 'week'], right_on=['season', 'team', 'week']).drop(['team'], axis=1)\n",
        "games = pd.merge(games, s.rename(columns={'statValue': 'away_games'}), how='left', left_on=['season', 'away_team', 'week'], right_on=['season', 'team', 'week']).drop(['team'], axis=1)\n",
        "\n",
        "for stat in stat_cols:\n",
        "  s = stats.loc[(stats.statName == stat)]\n",
        "  s = s.drop(columns=['statName'])\n",
        "  games = pd.merge(games, s.rename(columns={'statValue': 'home_'+stat}), how='left', left_on=['season', 'home_team', 'week'], right_on=['season', 'team', 'week']).drop(['team'], axis=1)\n",
        "  games = pd.merge(games, s.rename(columns={'statValue': 'away_'+stat}), how='left', left_on=['season', 'away_team', 'week'], right_on=['season', 'team', 'week']).drop(['team'], axis=1)\n",
        "  games = games.fillna(0)\n",
        "  games[stat] = (games['home_'+stat]/games.home_games) - (games['away_'+stat]/games.away_games)\n",
        "  games = games.drop(columns=['home_'+stat, 'away_'+stat])\n",
        "\n",
        "games = games.fillna(0)"
      ],
      "execution_count": 216,
      "outputs": [
        {
          "output_type": "stream",
          "text": [
            "['firstDowns', 'fourthDownConversions', 'fourthDowns', 'fumblesLost', 'fumblesRecovered', 'interceptionTDs', 'interceptionYards', 'interceptions', 'netPassingYards', 'passAttempts', 'passCompletions', 'passesIntercepted', 'passingTDs', 'penalties', 'penaltyYards', 'possessionTime', 'puntReturnTDs', 'puntReturnYards', 'puntReturns', 'rushingAttempts', 'rushingTDs', 'rushingYards', 'thirdDownConversions', 'thirdDowns', 'totalYards', 'turnovers']\n"
          ],
          "name": "stdout"
        }
      ]
    },
    {
      "cell_type": "code",
      "metadata": {
        "id": "HGMQRCUjLlvN"
      },
      "source": [
        "# create the table for total points a team scored for and against before a given week\n",
        "points_per_game = original_teams.loc[:, original_teams.columns.intersection(['school'])]\n",
        "points_per_game['year'] = 2020\n",
        "one_season = points_per_game.copy()\n",
        "for year in range(2004, 2020):\n",
        "  temp = one_season.copy()\n",
        "  temp['year'] = year\n",
        "  points_per_game = pd.concat([points_per_game, temp], ignore_index=True)\n",
        "\n",
        "points_per_game[('points_for_week1')] = 0.0\n",
        "points_per_game[('points_against_week1')] = 0.0\n",
        "scores = original_games.loc[:, original_games.columns.intersection(['season', 'week', 'home_team', 'away_team', 'home_points', 'away_points'])]\n",
        "scores['week'] += 1\n",
        "for week in range(2, 16):\n",
        "  this_scores = scores.loc[scores.week == week]\n",
        "  this_scores = this_scores.rename(columns={'home_points': ('points_for_week%d' % week), 'away_points': ('points_against_week%d' % week)})\n",
        "  points_per_game = pd.merge(points_per_game, this_scores, how='left', left_on=['school', 'year'], right_on=['home_team', 'season']).drop(['home_team', 'away_team', 'season', 'week'], axis=1)\n",
        "  this_scores = scores.loc[scores.week == week]\n",
        "  this_scores = this_scores.rename(columns={'away_points': ('points_for_week%d' % week), 'home_points': ('points_against_week%d' % week)})\n",
        "  points_per_game = pd.merge(points_per_game, this_scores, how='left', left_on=['school', 'year'], right_on=['away_team', 'season']).drop(['home_team', 'away_team', 'season', 'week'], axis=1)\n",
        "  points_per_game = points_per_game.fillna(0)\n",
        "  points_per_game[('points_for_week%d' % week)] = points_per_game[('points_for_week%d_x' % week)] + points_per_game[('points_for_week%d_y' % week)]\n",
        "  points_per_game[('points_against_week%d' % week)] = points_per_game[('points_against_week%d_x' % week)] + points_per_game[('points_against_week%d_y' % week)]\n",
        "  points_per_game = points_per_game.drop(columns=[('points_for_week%d_x' % week), ('points_for_week%d_y' % week), ('points_against_week%d_x' % week), ('points_against_week%d_y' % week)])\n",
        "\n",
        "for week in range(2, 16):\n",
        "  points_per_game[('points_for_week%d' % week)] += points_per_game[('points_for_week%d' % (week-1))]\n",
        "  points_per_game[('points_against_week%d' % week)] += points_per_game[('points_against_week%d' % (week-1))]\n",
        "\n",
        "for week in range(1,16):\n",
        "  points = points_per_game.loc[:, points_per_game.columns.intersection(['year', 'school', ('points_for_week%d' % week), ('points_against_week%d' % week)])]\n",
        "  points = points.rename(columns={('points_for_week%d' % week): 'home_for', ('points_against_week%d' % week): 'home_against'})\n",
        "  points['week'] = week\n",
        "  games = pd.merge(games, points, how='left', left_on=['home_team', 'season', 'week'], right_on=['school', 'year', 'week']).drop(['school', 'year'], axis=1)\n",
        "  points = points.rename(columns={'home_for': 'away_for', 'home_against': 'away_against'})\n",
        "  games = pd.merge(games, points, how='left', left_on=['away_team', 'season', 'week'], right_on=['school', 'year', 'week']).drop(['school', 'year'], axis=1)\n",
        "  if (week > 1):\n",
        "    games['home_for'] = games['home_for_x'].fillna(0) + games['home_for_y'].fillna(0)\n",
        "    games['home_against'] = games['home_against_x'].fillna(0) + games['home_against_y'].fillna(0)\n",
        "    games['away_for'] = games['away_for_x'].fillna(0) + games['away_for_y'].fillna(0)\n",
        "    games['away_against'] = games['away_against_x'].fillna(0) + games['away_against_y'].fillna(0)\n",
        "    games = games.drop(columns=['home_for_x', 'home_for_y', 'home_against_x', 'home_against_y', 'away_for_x', 'away_for_y', 'away_against_x', 'away_against_y'])\n",
        "\n",
        "games['home_for'] /= games['home_games']\n",
        "games['home_against'] /= games['home_games']\n",
        "games['away_for'] /= games['away_games']\n",
        "games['away_against'] /= games['away_games']\n",
        "games = games.fillna(0)"
      ],
      "execution_count": 217,
      "outputs": []
    },
    {
      "cell_type": "code",
      "metadata": {
        "id": "mO5O5r2aZie9"
      },
      "source": [
        "# add ap-top 25 rankings for each team, -1 if not ranked\n",
        "rankings = original_rankings.drop(columns = ['seasonType'])\n",
        "rankings['ap'] = None\n",
        "rankings = rankings.reset_index(drop=True)\n",
        "for i, row in rankings.iterrows():\n",
        "  for d in row.polls:\n",
        "    if d.get('poll') == 'AP Top 25':\n",
        "      rankings['ap'].values[i] = d.get('ranks')\n",
        "\n",
        "rankings = rankings.explode('ap').reset_index(drop=True)\n",
        "rankings = rankings.dropna()\n",
        "rankings['school'] = [d.get('school') for d in rankings.ap]\n",
        "rankings['rank'] = [d.get('rank') for d in rankings.ap]\n",
        "rankings = rankings.drop(columns=['polls', 'ap'])\n",
        "games = pd.merge(games, rankings.rename(columns={'rank': 'home_rank'}), how='left', left_on=['season', 'week', 'home_team'], right_on=['season', 'week', 'school']).drop(['school'], axis=1)\n",
        "games = pd.merge(games, rankings.rename(columns={'rank': 'away_rank'}), how='left', left_on=['season', 'week', 'away_team'], right_on=['season', 'week', 'school']).drop(['school'], axis=1)\n",
        "games = games.fillna(-1)"
      ],
      "execution_count": 218,
      "outputs": []
    },
    {
      "cell_type": "code",
      "metadata": {
        "id": "URAp-fVEA8Rn"
      },
      "source": [
        "# Add record up to game\n",
        "# Create list of teams\n",
        "teams = pd.concat((games['home_team'], games['away_team'])).unique()\n",
        "\n",
        "# Create Team ID\n",
        "team_id = np.arange(0,len(teams))\n",
        "team2id = dict(zip(teams, team_id))\n",
        "\n",
        "num_seasons = len(games['season'].unique())\n",
        "season2id = dict(zip(games['season'].unique(), np.arange(0,num_seasons)))\n",
        "# Create Wins Lookup Table\n",
        "win_data = np.zeros((num_seasons, len(teams),17))\n",
        "#print(win_data.shape) #(season, team, week)\n",
        "\n",
        "# loop through every game in games df\n",
        "for k in range(len(games)):\n",
        "  home_team = games['home_team'][k]\n",
        "  away_team = games['away_team'][k]\n",
        "  result = np.sign(games['result'][k])\n",
        "  week = games['week'][k]\n",
        "  season = games['season'][k]\n",
        "  \n",
        "  home_id = team2id[home_team]\n",
        "  away_id = team2id[away_team]\n",
        "  seas_id = season2id[season]\n",
        "  if result == 1: # Home team won\n",
        "      win_data[seas_id, home_id, (week+1):] += 1\n",
        "  else: # Away team won\n",
        "      win_data[seas_id, away_id, (week+1):] += 1\n",
        "\n",
        "# populate games df\n",
        "away_wins = []\n",
        "home_wins = []\n",
        "for k in range(len(games)):\n",
        "    week = games['week'][k]\n",
        "    home = games['home_team'][k]\n",
        "    away = games['away_team'][k]\n",
        "    season = games['season'][k]\n",
        "    away_wins.append(win_data[season2id[season],team2id[away],week])\n",
        "    home_wins.append(win_data[season2id[season],team2id[home],week])\n",
        "    \n",
        "games['home_wins'] = home_wins/games.home_games\n",
        "games['away_wins'] = away_wins/games.away_games\n",
        "games = games.fillna(0)\n",
        "games.replace(np.inf, 0, inplace=True)\n",
        "games.replace(-np.inf, 0, inplace=True)\n",
        "games['win_difference'] = games['home_wins'] - games['away_wins']\n",
        "games = games.drop(columns=['home_wins', 'away_wins'])"
      ],
      "execution_count": 219,
      "outputs": []
    },
    {
      "cell_type": "code",
      "metadata": {
        "id": "CWDx2UKm02LE"
      },
      "source": [
        "def split_data(start_year=2004, val_season=2018, test_season=2019):\n",
        "  games_copy = games.copy()\n",
        "  games_copy = games_copy.loc[games_copy.season >= start_year]\n",
        "  games_copy = games_copy.drop(columns=['id', 'home_team', 'away_team', 'excitement_index', 'spread'])\n",
        "  games_copy = games_copy.fillna(0)\n",
        "  \n",
        "  test = games_copy.loc[games_copy.season == test_season]\n",
        "  test = test.drop(columns=['season'])\n",
        "  if val_season:\n",
        "    valid = games_copy.loc[games_copy.season == val_season]\n",
        "    valid = valid.drop(columns=['season'])\n",
        "    train = games_copy.loc[(games_copy.season != val_season) & (games_copy.season != test_season)]\n",
        "    train = train.drop(columns=['season'])\n",
        "    return train, valid, test\n",
        "  else:\n",
        "    train = games_copy.loc[games_copy.season != test_season]\n",
        "    train = train.drop(columns=['season'])\n",
        "    return train, test"
      ],
      "execution_count": 220,
      "outputs": []
    },
    {
      "cell_type": "code",
      "metadata": {
        "id": "4HHeYhQuwkEj",
        "colab": {
          "base_uri": "https://localhost:8080/"
        },
        "outputId": "a2c6d28d-e9d5-4027-e6b0-1f98ee35d069"
      },
      "source": [
        "torch.manual_seed(0)\n",
        "gpu = torch.cuda.is_available()\n",
        "if gpu:\n",
        "  device = torch.device('cuda')\n",
        "else:\n",
        "  device = torch.device('cpu')\n",
        "\n",
        "print('Using device', device)"
      ],
      "execution_count": 221,
      "outputs": [
        {
          "output_type": "stream",
          "text": [
            "Using device cuda\n"
          ],
          "name": "stdout"
        }
      ]
    },
    {
      "cell_type": "code",
      "metadata": {
        "id": "2yJhCvsS7Faw"
      },
      "source": [
        "# Getting Spread Result Vector\n",
        "spread_winner_vector = (np.sign((games['spread'] - games['result']).to_numpy())+1)/2\n",
        "spread_winner = np.zeros((spread_winner_vector.shape[0],2))\n",
        "\n",
        "for k in range(len(spread_winner_vector)):  \n",
        "  if spread_winner_vector[k] == 0:\n",
        "    spread_winner[k,0] = 1\n",
        "  else:\n",
        "    spread_winner[k,1]=1"
      ],
      "execution_count": 222,
      "outputs": []
    },
    {
      "cell_type": "markdown",
      "metadata": {
        "id": "U9wuveVtsO-L"
      },
      "source": [
        "# Baseline Models<a name=\"baseline\"></a>"
      ]
    },
    {
      "cell_type": "markdown",
      "metadata": {
        "id": "MewJ9jzs6oYm"
      },
      "source": [
        "## Vegas Spread Results<a name=\"vegas\"></a>"
      ]
    },
    {
      "cell_type": "code",
      "metadata": {
        "colab": {
          "base_uri": "https://localhost:8080/"
        },
        "id": "KzJNzK9-uGAd",
        "outputId": "ef8da941-cda9-421f-995c-dcb390a6157c"
      },
      "source": [
        "games_copy = games.copy()\n",
        "games_copy = games_copy.loc[games_copy.season == 2019]\n",
        "vegas_in = games_copy.spread.to_numpy()\n",
        "vegas_out = games_copy.result.to_numpy()\n",
        "\n",
        "print('Vegas spread RMSE = %.2f points' % mean_squared_error(vegas_in, vegas_out, squared=False))\n",
        "\n",
        "vegas_pred = vegas_in\n",
        "vegas_pred[vegas_pred>0] = 1 # home win\n",
        "vegas_pred[vegas_pred<0] = 0 # away win\n",
        "\n",
        "truth = vegas_out\n",
        "truth[truth>0] =  1\n",
        "truth[truth<0] = 0\n",
        "\n",
        "print('Game winner accuracy = %.3f%%' % ((np.sum(vegas_pred==truth) / len(truth))*100.0))"
      ],
      "execution_count": null,
      "outputs": [
        {
          "output_type": "stream",
          "text": [
            "Vegas spread RMSE = 15.62 points\n",
            "Game winner accuracy = 77.123%\n"
          ],
          "name": "stdout"
        }
      ]
    },
    {
      "cell_type": "markdown",
      "metadata": {
        "id": "f94XS4VVXUET"
      },
      "source": [
        "## Simple linear baseline model<a name=\"simple-linear\"></a>"
      ]
    },
    {
      "cell_type": "code",
      "metadata": {
        "id": "DWqxzx_ST-Ej"
      },
      "source": [
        "train, test = split_data(start_year=2013, val_season=None) # no need for validation in this model\n",
        "train_in = train.win_difference\n",
        "train_out = train.result\n",
        "\n",
        "train_in = train.win_difference.to_numpy()\n",
        "train_out = train.result.to_numpy()\n",
        "test_in = test.win_difference.to_numpy()\n",
        "test_out = test.result.to_numpy()\n",
        "baseline_model = LinearRegression().fit(train_in.reshape(-1, 1), train_out)"
      ],
      "execution_count": 237,
      "outputs": []
    },
    {
      "cell_type": "code",
      "metadata": {
        "colab": {
          "base_uri": "https://localhost:8080/",
          "height": 314
        },
        "id": "qLLFds6-PMUo",
        "outputId": "946a2561-2c89-4664-9630-8d200cc3a6d4"
      },
      "source": [
        "x = np.linspace(-1, 1, 500)\n",
        "y = baseline_model.coef_ * x + baseline_model.intercept_\n",
        "y = baseline_model.predict(x.reshape(-1, 1))\n",
        "\n",
        "plt.xlabel('win percentage difference')\n",
        "plt.ylabel('game result')\n",
        "plt.plot(train_in, train_out, '.', color='black')\n",
        "plt.plot(x, y, '-r', label=\"f(x) = %.3fx + %.3f\" % (baseline_model.coef_, baseline_model.intercept_))\n",
        "plt.xlim(-1.1, 1.1)\n",
        "plt.legend()\n",
        "plt.grid()\n",
        "\n",
        "prediction = baseline_model.predict(test_in.reshape(-1, 1))\n",
        "print('Spread RMSE = %.2f points' % mean_squared_error(test_out, prediction, squared=False))\n",
        "\n",
        "temp_pred = prediction\n",
        "temp_pred[temp_pred>0] = 1\n",
        "temp_pred[temp_pred<0] = 0\n",
        "\n",
        "temp_tru = test_out\n",
        "temp_tru[temp_tru>0] = 1\n",
        "temp_tru[temp_tru<0] = 0\n",
        "\n",
        "print('Game winner accuracy = %.3f%%' % ((np.sum(temp_pred==temp_tru) / len(temp_tru))*100.0))"
      ],
      "execution_count": 238,
      "outputs": [
        {
          "output_type": "stream",
          "text": [
            "Spread RMSE = 20.49 points\n",
            "Game winner accuracy = 72.052%\n"
          ],
          "name": "stdout"
        },
        {
          "output_type": "display_data",
          "data": {
            "image/png": "[encoded data removed]",
            "text/plain": [
              "<Figure size 432x288 with 1 Axes>"
            ]
          },
          "metadata": {
            "tags": [],
            "needs_background": "light"
          }
        }
      ]
    },
    {
      "cell_type": "markdown",
      "metadata": {
        "id": "Q58rFM-zu6_d"
      },
      "source": [
        "# More Complex Models<a name=\"complex-models\"></a>"
      ]
    },
    {
      "cell_type": "markdown",
      "metadata": {
        "id": "Kyjyl17aXMdM"
      },
      "source": [
        "## Linear model with more features<a name=\"linear-complex\"></a>"
      ]
    },
    {
      "cell_type": "code",
      "metadata": {
        "id": "yeguM4J2UMu7"
      },
      "source": [
        "train, valid, test = split_data(start_year=2013)\n",
        "\n",
        "train_in = train.drop(columns=['result'])\n",
        "train_out = train.result\n",
        "valid_in = valid.drop(columns=['result'])\n",
        "valid_out = valid.result\n",
        "test_in = test.drop(columns=['result'])\n",
        "test_out = test.result"
      ],
      "execution_count": 232,
      "outputs": []
    },
    {
      "cell_type": "code",
      "metadata": {
        "colab": {
          "base_uri": "https://localhost:8080/"
        },
        "id": "R6lVGQ7Sbxhd",
        "outputId": "87786a86-00f9-440b-9ccb-1f1d09568943"
      },
      "source": [
        "model = LinearRegression().fit(train_in, train_out)\n",
        "prediction = model.predict(test_in)\n",
        "print('Spread RMSE = %.2f points' % mean_squared_error(test_out, prediction, squared=False))\n",
        "\n",
        "temp_pred = prediction\n",
        "temp_pred[temp_pred>0] = 1\n",
        "temp_pred[temp_pred<0] = 0\n",
        "\n",
        "temp_tru = test_out\n",
        "temp_tru[temp_tru>0] = 1\n",
        "temp_tru[temp_tru<0] = 0\n",
        "\n",
        "print('Game winner accuracy = %.3f%%' % ((np.sum(temp_pred==temp_tru) / len(temp_tru))*100.0))"
      ],
      "execution_count": 233,
      "outputs": [
        {
          "output_type": "stream",
          "text": [
            "Spread RMSE = 16.58 points\n",
            "Game winner accuracy = 77.123%\n"
          ],
          "name": "stdout"
        }
      ]
    },
    {
      "cell_type": "markdown",
      "metadata": {
        "id": "wY4oyKInPsV0"
      },
      "source": [
        "## Linear model with L1 Regularization<a name=\"l1\"></a>"
      ]
    },
    {
      "cell_type": "code",
      "metadata": {
        "id": "3mXkTG44LX3C"
      },
      "source": [
        "alphas = np.linspace(0,2,100)\n",
        "kf = KFold(n_splits=10, shuffle=True, random_state=42)\n",
        "mse_valid = []\n",
        "mse_train = []\n",
        "num_nonzero = []\n",
        "\n",
        "for alpha in alphas:\n",
        "    large_model_lasso = Lasso(alpha=alpha, random_state=77)\n",
        "    mse_kfold = []\n",
        "    # Iterate through all folds\n",
        "    for train_index, test_index in kf.split(train_in):        \n",
        "        large_model_lasso.fit(train_in.iloc[train_index], train_out.iloc[train_index])\n",
        "        kf_test_pred = large_model_lasso.predict(train_in.iloc[test_index])\n",
        "        error = mean_squared_error(train_out.iloc[test_index], kf_test_pred, squared=False)\n",
        "        mse_kfold.append(error)\n",
        "\n",
        "    # count number of nonzero coefficients\n",
        "    num_nonzero.append(np.sum(large_model_lasso.coef_ != 0))\n",
        "    \n",
        "    # create error arrays\n",
        "    mse_train.append(np.mean(mse_kfold))\n",
        "    large_model_lasso.fit(train_in, train_out)\n",
        "    pred_valid = large_model_lasso.predict(valid_in)\n",
        "    mse_valid.append(mean_squared_error(valid_out, pred_valid, squared=False))"
      ],
      "execution_count": 234,
      "outputs": []
    },
    {
      "cell_type": "code",
      "metadata": {
        "colab": {
          "base_uri": "https://localhost:8080/",
          "height": 347
        },
        "id": "iIihisD7NStN",
        "outputId": "a47b1d8e-e11d-4830-85e1-2b50c35527a7"
      },
      "source": [
        "best_alpha = alphas[np.argmin(mse_valid)]\n",
        "print('Optimum Alpha at %.2f' % best_alpha)\n",
        "print('Optimum Alpha Validation RMSE: %.2f points' % np.min(mse_valid))\n",
        "\n",
        "plt.plot(alphas,mse_valid, linewidth=3)\n",
        "plt.plot(alphas,mse_train, linewidth=3)\n",
        "plt.plot(best_alpha,np.min(mse_valid),'r.',markersize=10)\n",
        "\n",
        "plt.legend(['RMSE for Validation Set','RMSE for Validation Fold of Training Set'])\n",
        "plt.xlabel('α')\n",
        "plt.ylabel('Root Mean Square Error (points)')\n",
        "plt.title('RMSE vs. Regularization Constant (L1)')\n",
        "plt.grid()\n",
        "plt.ylim([17.5, 20])"
      ],
      "execution_count": 266,
      "outputs": [
        {
          "output_type": "stream",
          "text": [
            "Optimum Alpha at 0.51\n",
            "Optimum Alpha Validation RMSE: 18.68 points\n"
          ],
          "name": "stdout"
        },
        {
          "output_type": "execute_result",
          "data": {
            "text/plain": [
              "(17.5, 20.0)"
            ]
          },
          "metadata": {
            "tags": []
          },
          "execution_count": 266
        },
        {
          "output_type": "display_data",
          "data": {
            "image/png": "[encoded data removed]",
            "text/plain": [
              "<Figure size 432x288 with 1 Axes>"
            ]
          },
          "metadata": {
            "tags": [],
            "needs_background": "light"
          }
        }
      ]
    },
    {
      "cell_type": "code",
      "metadata": {
        "colab": {
          "base_uri": "https://localhost:8080/"
        },
        "id": "pBwPUhDaOpJe",
        "outputId": "8f1e2036-4124-4ad9-d596-2836678c9fdd"
      },
      "source": [
        "lasso_model = Lasso(alpha=best_alpha, random_state=77)\n",
        "lasso_model.fit(train_in, train_out)\n",
        "prediction = lasso_model.predict(test_in)\n",
        "print('Spread RMSE = %.2f points' % mean_squared_error(test_out, prediction, squared=False))\n",
        "\n",
        "temp_pred = prediction\n",
        "temp_pred[temp_pred>0] = 1\n",
        "temp_pred[temp_pred<0] = 0\n",
        "\n",
        "temp_tru = test_out\n",
        "temp_tru[temp_tru>0] = 1\n",
        "temp_tru[temp_tru<0] = 0\n",
        "\n",
        "print('Game winner accuracy = %.3f%%' % ((np.sum(temp_pred==temp_tru) / len(temp_tru))*100.0))"
      ],
      "execution_count": 236,
      "outputs": [
        {
          "output_type": "stream",
          "text": [
            "Spread RMSE = 15.59 points\n",
            "Game winner accuracy = 77.830%\n"
          ],
          "name": "stdout"
        }
      ]
    },
    {
      "cell_type": "markdown",
      "metadata": {
        "id": "CPOwNqTSxrlq"
      },
      "source": [
        "## Random Forest<a name=\"random-forest\"></a>"
      ]
    },
    {
      "cell_type": "code",
      "metadata": {
        "id": "oCaOKZfnB4XW"
      },
      "source": [
        "train, valid, test = split_data(start_year=2013)\n",
        "\n",
        "train_in = train.drop(columns=['result'])\n",
        "train_out = train.result\n",
        "valid_in = valid.drop(columns=['result'])\n",
        "valid_out = valid.result\n",
        "test_in = test.drop(columns=['result'])\n",
        "test_out = test.result\n",
        "\n",
        "train_out_winner = train_out\n",
        "train_out_winner[train_out_winner>0] = 1\n",
        "train_out_winner[train_out_winner<0] = 0\n",
        "\n",
        "valid_out_winner = valid_out\n",
        "valid_out_winner[valid_out_winner>0] = 1\n",
        "valid_out_winner[valid_out_winner<0] = 0\n",
        "\n",
        "test_out_winner = test_out\n",
        "test_out_winner[test_out_winner>0] = 1\n",
        "test_out_winner[test_out_winner<0] = 0"
      ],
      "execution_count": 240,
      "outputs": []
    },
    {
      "cell_type": "code",
      "metadata": {
        "colab": {
          "base_uri": "https://localhost:8080/"
        },
        "id": "Hl4lGZvhFh4K",
        "outputId": "ce98bebb-c49f-40ea-8f1d-41f914422543"
      },
      "source": [
        "best_depth = 0\n",
        "best_acc = 0\n",
        "for depth in range(1, 30, 2):\n",
        "  random_model = RandomForestClassifier(max_depth=depth, random_state=0)\n",
        "  random_model.fit(train_in, train_out_winner)\n",
        "  acc = (np.sum(random_model.predict(valid_in)==valid_out_winner) / len(valid_out_winner))*100.0\n",
        "  print('Max Depth: %d \\t Accuracy: %.2f' % (depth, acc))\n",
        "  if acc > best_acc:\n",
        "    best_acc = acc\n",
        "    best_depth = depth\n",
        "  \n",
        "print('Best Max Depth: %d' % best_depth)"
      ],
      "execution_count": null,
      "outputs": [
        {
          "output_type": "stream",
          "text": [
            "Max Depth: 1 \t Accuracy: 68.97\n",
            "Max Depth: 3 \t Accuracy: 71.95\n",
            "Max Depth: 5 \t Accuracy: 73.33\n",
            "Max Depth: 7 \t Accuracy: 73.79\n",
            "Max Depth: 9 \t Accuracy: 74.14\n",
            "Max Depth: 11 \t Accuracy: 75.06\n",
            "Max Depth: 13 \t Accuracy: 73.10\n",
            "Max Depth: 15 \t Accuracy: 74.71\n",
            "Max Depth: 17 \t Accuracy: 75.40\n",
            "Max Depth: 19 \t Accuracy: 74.60\n",
            "Max Depth: 21 \t Accuracy: 74.48\n",
            "Max Depth: 23 \t Accuracy: 74.83\n",
            "Max Depth: 25 \t Accuracy: 74.48\n",
            "Max Depth: 27 \t Accuracy: 74.25\n",
            "Max Depth: 29 \t Accuracy: 74.14\n",
            "Best Max Depth: 17\n"
          ],
          "name": "stdout"
        }
      ]
    },
    {
      "cell_type": "code",
      "metadata": {
        "colab": {
          "base_uri": "https://localhost:8080/",
          "height": 312
        },
        "id": "1yijoOaTx_Ej",
        "outputId": "c4febe10-7200-4442-9a5c-2f4b1012b8e8"
      },
      "source": [
        "MAX_DEPTH = 7\n",
        "random_model = RandomForestClassifier(max_depth=MAX_DEPTH, random_state=0)\n",
        "random_model.fit(train_in, train_out_winner)\n",
        "\n",
        "acc = []\n",
        "for week in range(1, 16):\n",
        "  t = test.loc[(test.week == week)]\n",
        "  t_in = t.drop(columns=['result'])\n",
        "  t_out = t.result\n",
        "  t_out[t_out>0] = 1\n",
        "  t_out[t_out<0] = 0\n",
        "  acc.append((np.sum(random_model.predict(t_in)==t_out) / len(t_out))*100.0)\n",
        "\n",
        "plt.plot(range(1, 16), acc)\n",
        "plt.xlabel('Week')\n",
        "plt.ylabel('% of winners predicted correctly')\n",
        "plt.title('Accuracy by Week on Test Data (2019)')\n",
        "print('Overall game winner accuracy = %.3f%%' % ((np.sum(random_model.predict(test_in)==test_out_winner) / len(test_out_winner))*100.0))"
      ],
      "execution_count": 241,
      "outputs": [
        {
          "output_type": "stream",
          "text": [
            "Overall game winner accuracy = 78.538%\n"
          ],
          "name": "stdout"
        },
        {
          "output_type": "display_data",
          "data": {
            "image/png": "[encoded data removed]",
            "text/plain": [
              "<Figure size 432x288 with 1 Axes>"
            ]
          },
          "metadata": {
            "tags": [],
            "needs_background": "light"
          }
        }
      ]
    },
    {
      "cell_type": "markdown",
      "metadata": {
        "id": "-hLTPwW5gcWg"
      },
      "source": [
        "Our model does better as weeks progress. <br>\n",
        "The reason accuracy is really high the first few weeks is because the first 3-4 weeks of every college football season is full of out-of-conference games where really good teams play really bad teams and it's often easy to predict the outcome because of that.<br>\n",
        "As in-conference games start around week 4, our model accuracy goes down. Since those games are with teams of closer strengths."
      ]
    },
    {
      "cell_type": "markdown",
      "metadata": {
        "id": "PnEjonbLv8sY"
      },
      "source": [
        "# Neural Networks<a name=\"nn\"></a>"
      ]
    },
    {
      "cell_type": "markdown",
      "metadata": {
        "id": "nAxuSbxatL0M"
      },
      "source": [
        "## Neural Net for Predicting the Spread<a name=\"spread-regression-nn\"></a>"
      ]
    },
    {
      "cell_type": "code",
      "metadata": {
        "id": "v93eOD06weSC"
      },
      "source": [
        "# Hyperparameters\n",
        "BATCH_SIZE = 800\n",
        "EPOCHS = 100\n",
        "LEARNING_RATE = 0.023"
      ],
      "execution_count": 437,
      "outputs": []
    },
    {
      "cell_type": "code",
      "metadata": {
        "id": "HF7RO-DO8swM"
      },
      "source": [
        "# Setup the data\n",
        "train, valid, test = split_data(start_year=2013)\n",
        "\n",
        "train_in = train.drop(columns=['result'])\n",
        "train_out = train.result\n",
        "valid_in = valid.drop(columns=['result'])\n",
        "valid_out = valid.result\n",
        "test_in = test.drop(columns=['result'])\n",
        "test_out = test.result\n",
        "\n",
        "data_train_vals = torch.tensor(train_in.to_numpy(), dtype=torch.float, device=device)\n",
        "data_train_labels = torch.tensor(train_out.to_numpy().reshape(-1, 1), dtype=torch.float, device=device)\n",
        "data_train = TensorDataset(data_train_vals, data_train_labels)\n",
        "train_loader = DataLoader(dataset = data_train, batch_size = BATCH_SIZE, shuffle = True) \n",
        "\n",
        "data_valid_vals = torch.tensor(valid_in.to_numpy(), dtype=torch.float, device=device)\n",
        "data_valid_labels = torch.tensor(valid_out.to_numpy().reshape(-1, 1), dtype=torch.float, device=device)\n",
        "data_valid = TensorDataset(data_valid_vals, data_valid_labels)\n",
        "valid_loader = DataLoader(dataset = data_valid, batch_size = BATCH_SIZE,  shuffle = False)\n",
        "\n",
        "data_test_vals = torch.tensor(test_in.to_numpy(), dtype=torch.float, device=device)\n",
        "data_test_labels = torch.tensor(test_out.to_numpy().reshape(-1, 1), dtype=torch.float, device=device)\n",
        "data_test = TensorDataset(data_test_vals, data_test_labels)\n",
        "test_loader = DataLoader(dataset = data_test, batch_size = BATCH_SIZE,  shuffle = False)"
      ],
      "execution_count": 438,
      "outputs": []
    },
    {
      "cell_type": "code",
      "metadata": {
        "id": "N2g_r6i5ym0i"
      },
      "source": [
        "def train(model, device, train_loader, optimizer, epochs, criterion, verbose=False):\n",
        "  for epoch in range(epochs):\n",
        "    model.train()\n",
        "    batch_loss = 0\n",
        "    for data, label in train_loader:\n",
        "      data, label = data.to(device), label.to(device)\n",
        "      optimizer.zero_grad()\n",
        "      output = model(data)\n",
        "      loss = criterion(output, label)\n",
        "      loss.backward()\n",
        "      optimizer.step()\n",
        "      batch_loss += loss.item()\n",
        "    if verbose and epoch % 10 == 0:\n",
        "      print('Train Epoch: %d  \\tLoss: %.6f' % (epoch, np.sqrt(batch_loss/len(train_loader))))\n",
        "\n",
        "def test(model, device, test_loader, criterion):\n",
        "  model.eval()\n",
        "  test_loss = 0\n",
        "  correct = 0\n",
        "  with torch.no_grad():\n",
        "    for data, label in test_loader:\n",
        "      data, label = data.to(device), label.to(device)\n",
        "      output = model(data)\n",
        "      test_loss += criterion(output, label).item()\n",
        "  return np.sqrt(test_loss/len(test_loader))"
      ],
      "execution_count": 439,
      "outputs": []
    },
    {
      "cell_type": "code",
      "metadata": {
        "id": "WsGrGRnet6ur"
      },
      "source": [
        "class Net(nn.Module):\n",
        "  def __init__(self, input_size):\n",
        "    super(Net, self).__init__()\n",
        "    if gpu:\n",
        "      self.fc1 = nn.Linear(input_size, 20).cuda()\n",
        "      self.fc2 = nn.Linear(20, 10).cuda()\n",
        "      self.fc3 = nn.Linear(10, 1).cuda()\n",
        "    else:\n",
        "      self.fc1 = nn.Linear(input_size, 20)\n",
        "      self.fc2 = nn.Linear(20, 10)\n",
        "      self.fc3 = nn.Linear(10, 1)\n",
        "\n",
        "  def forward(self, x):\n",
        "    x = F.leaky_relu(self.fc1(x))\n",
        "    x = F.leaky_relu(self.fc2(x))\n",
        "    x = self.fc3(x)\n",
        "    return x\n",
        "\n",
        "modelSpread = Net(np.shape(train_in.to_numpy())[1])"
      ],
      "execution_count": 440,
      "outputs": []
    },
    {
      "cell_type": "code",
      "metadata": {
        "colab": {
          "base_uri": "https://localhost:8080/"
        },
        "id": "RhFfzDq0XgAf",
        "outputId": "83495d0a-3ac1-431f-a1de-33d56a348fbb"
      },
      "source": [
        "best_lr = 0\n",
        "best_loss = 50\n",
        "epochs = 50\n",
        "criterion = nn.MSELoss()\n",
        "for i in range(1, 25):\n",
        "  lr = 0.001*i\n",
        "  model = Net(np.shape(train_in.to_numpy())[1])\n",
        "  optimizer = torch.optim.Adam(model.parameters(), lr=lr)\n",
        "  train(model, device, train_loader, optimizer, epochs, criterion)\n",
        "  loss = test(model, device, valid_loader, criterion)\n",
        "  print('LR: %.3f \\t Loss: %.2f' % (lr, loss))\n",
        "  if loss < best_loss:\n",
        "    best_loss = loss\n",
        "    best_lr = lr\n",
        "\n",
        "print('Best LR: %.3f with best loss: %.2f' %(best_lr, best_loss))"
      ],
      "execution_count": 441,
      "outputs": [
        {
          "output_type": "stream",
          "text": [
            "LR: 0.001 \t Loss: 19.99\n",
            "LR: 0.002 \t Loss: 19.57\n",
            "LR: 0.003 \t Loss: 19.54\n",
            "LR: 0.004 \t Loss: 19.11\n",
            "LR: 0.005 \t Loss: 19.38\n",
            "LR: 0.006 \t Loss: 19.65\n",
            "LR: 0.007 \t Loss: 19.21\n",
            "LR: 0.008 \t Loss: 18.70\n",
            "LR: 0.009 \t Loss: 18.89\n",
            "LR: 0.010 \t Loss: 19.77\n",
            "LR: 0.011 \t Loss: 19.59\n",
            "LR: 0.012 \t Loss: 18.39\n",
            "LR: 0.013 \t Loss: 19.29\n",
            "LR: 0.014 \t Loss: 19.43\n",
            "LR: 0.015 \t Loss: 19.51\n",
            "LR: 0.016 \t Loss: 18.71\n",
            "LR: 0.017 \t Loss: 18.83\n",
            "LR: 0.018 \t Loss: 19.07\n",
            "LR: 0.019 \t Loss: 19.30\n",
            "LR: 0.020 \t Loss: 19.02\n",
            "LR: 0.021 \t Loss: 19.37\n",
            "LR: 0.022 \t Loss: 19.35\n",
            "LR: 0.023 \t Loss: 19.53\n",
            "LR: 0.024 \t Loss: 18.97\n",
            "Best LR: 0.012 with best loss: 18.39\n"
          ],
          "name": "stdout"
        }
      ]
    },
    {
      "cell_type": "code",
      "metadata": {
        "id": "b8F6KZ0gw2nk"
      },
      "source": [
        "optimizer = torch.optim.Adam(modelSpread.parameters(), lr=LEARNING_RATE)\n",
        "criterion = nn.MSELoss()"
      ],
      "execution_count": 418,
      "outputs": []
    },
    {
      "cell_type": "code",
      "metadata": {
        "colab": {
          "base_uri": "https://localhost:8080/"
        },
        "id": "VNH_3jeaxFL2",
        "outputId": "19dfe70a-309c-4021-cf9c-d26e2127c103"
      },
      "source": [
        "train(modelSpread, device, train_loader, optimizer, EPOCHS, criterion, verbose=True)"
      ],
      "execution_count": 419,
      "outputs": [
        {
          "output_type": "stream",
          "text": [
            "Train Epoch: 0  \tLoss: 23.177844\n",
            "Train Epoch: 10  \tLoss: 18.924493\n",
            "Train Epoch: 20  \tLoss: 18.073066\n",
            "Train Epoch: 30  \tLoss: 18.141769\n",
            "Train Epoch: 40  \tLoss: 17.773349\n",
            "Train Epoch: 50  \tLoss: 17.350359\n",
            "Train Epoch: 60  \tLoss: 17.269391\n",
            "Train Epoch: 70  \tLoss: 17.110253\n",
            "Train Epoch: 80  \tLoss: 17.251367\n",
            "Train Epoch: 90  \tLoss: 17.036730\n"
          ],
          "name": "stdout"
        }
      ]
    },
    {
      "cell_type": "code",
      "metadata": {
        "colab": {
          "base_uri": "https://localhost:8080/"
        },
        "id": "uqpAf1dKyrnC",
        "outputId": "7ee60c9a-0f20-42b2-e75f-94d01610f478"
      },
      "source": [
        "loss = test(modelSpread, device, valid_loader, criterion)\n",
        "print('Validation set: Average loss: %.2f' % loss)"
      ],
      "execution_count": 420,
      "outputs": [
        {
          "output_type": "stream",
          "text": [
            "Validation set: Average loss: 19.50\n"
          ],
          "name": "stdout"
        }
      ]
    },
    {
      "cell_type": "code",
      "metadata": {
        "colab": {
          "base_uri": "https://localhost:8080/"
        },
        "id": "nwjqwyUOUdbT",
        "outputId": "5ab93a32-eb5c-40a3-aea5-b7b9def81e74"
      },
      "source": [
        "loss = test(modelSpread, device, test_loader, criterion)\n",
        "print('Test set: Average loss: %.2f' % loss)"
      ],
      "execution_count": 421,
      "outputs": [
        {
          "output_type": "stream",
          "text": [
            "Test set: Average loss: 17.79\n"
          ],
          "name": "stdout"
        }
      ]
    },
    {
      "cell_type": "markdown",
      "metadata": {
        "id": "1SnMZBBDYry-"
      },
      "source": [
        "## Neural Net for Predicting the Winner<a name=\"winner-classifier-nn\"></a>"
      ]
    },
    {
      "cell_type": "code",
      "metadata": {
        "id": "fBYuCCgbZBvL"
      },
      "source": [
        "BATCH_SIZE = 800\n",
        "EPOCHS = 100\n",
        "LEARNING_RATE = 0.02"
      ],
      "execution_count": 422,
      "outputs": []
    },
    {
      "cell_type": "code",
      "metadata": {
        "id": "lNN7muEhax8V"
      },
      "source": [
        "train, valid, test = split_data(start_year=2013)\n",
        "\n",
        "train_in = train.drop(columns=['result'])\n",
        "train_out = train.result\n",
        "valid_in = valid.drop(columns=['result'])\n",
        "valid_out = valid.result\n",
        "\n",
        "train_out_winner = train_out\n",
        "train_out_winner[train_out_winner>0] = 1\n",
        "train_out_winner[train_out_winner<0] = 0\n",
        "\n",
        "valid_out_winner = valid_out\n",
        "valid_out_winner[valid_out_winner>0] = 1\n",
        "valid_out_winner[valid_out_winner<0] = 0\n",
        "\n",
        "test_out_winner = test_out\n",
        "test_out_winner[test_out_winner>0] = 1\n",
        "test_out_winner[test_out_winner<0] = 0\n",
        "\n",
        "data_train_vals = torch.tensor(train_in.to_numpy(), dtype=torch.float, device=device)\n",
        "data_train_labels = torch.tensor(train_out_winner.to_numpy(), dtype=torch.long, device=device)\n",
        "data_train = TensorDataset(data_train_vals, data_train_labels)\n",
        "train_loader = DataLoader(dataset = data_train, batch_size = BATCH_SIZE, shuffle = True) \n",
        "\n",
        "data_valid_vals = torch.tensor(valid_in.to_numpy(), dtype=torch.float, device=device)\n",
        "data_valid_labels = torch.tensor(valid_out_winner.to_numpy(), dtype=torch.long, device=device)\n",
        "data_valid = TensorDataset(data_valid_vals, data_valid_labels)\n",
        "valid_loader = DataLoader(dataset = data_valid, batch_size = BATCH_SIZE,  shuffle = False)\n",
        "\n",
        "data_test_vals = torch.tensor(test_in.to_numpy(), dtype=torch.float, device=device)\n",
        "data_test_labels = torch.tensor(test_out_winner.to_numpy(), dtype=torch.long, device=device)\n",
        "data_test = TensorDataset(data_test_vals, data_test_labels)\n",
        "test_loader = DataLoader(dataset = data_test, batch_size = BATCH_SIZE,  shuffle = False)"
      ],
      "execution_count": 423,
      "outputs": []
    },
    {
      "cell_type": "code",
      "metadata": {
        "id": "nlx0INLPYokp"
      },
      "source": [
        "def trainWinner(model, device, train_loader, optimizer, epochs, criterion, verbose=False):\n",
        "  for epoch in range(epochs):\n",
        "    model.train()\n",
        "    batch_loss = 0\n",
        "    for data, label in train_loader:\n",
        "      data, label = data.to(device), label.to(device)\n",
        "      optimizer.zero_grad()\n",
        "      output = model(data)\n",
        "      loss = criterion(output, label)\n",
        "      loss.backward()\n",
        "      optimizer.step()\n",
        "      batch_loss += loss.item()\n",
        "    if (verbose) & (epoch % 10 == 0):\n",
        "      print('Train Epoch: %d  \\tLoss: %.6f' % (epoch, np.sqrt(batch_loss/len(train_loader))))\n",
        "\n",
        "def testWinner(model, device, test_loader, criterion):\n",
        "  model.eval()\n",
        "  test_loss = 0\n",
        "  correct = 0\n",
        "  wrong = 0\n",
        "  with torch.no_grad():\n",
        "    for data, label in test_loader:\n",
        "      data, label = data.to(device), label.to(device)\n",
        "      output = model(data)\n",
        "      test_loss += criterion(output, label).item()\n",
        "      correct += torch.sum(torch.argmax(output, dim=1) == label)\n",
        "      wrong += torch.sum(torch.argmax(output, dim=1) != label)\n",
        "  print('Test set: Average loss: %.4f' % np.sqrt(test_loss/len(test_loader)))\n",
        "  print('Accuracy: %.3f%%' % (correct*100/(correct+wrong)))"
      ],
      "execution_count": 424,
      "outputs": []
    },
    {
      "cell_type": "code",
      "metadata": {
        "id": "ErQ_6S9UY0de"
      },
      "source": [
        "class Net(nn.Module):\n",
        "    def __init__(self, input_size):\n",
        "        super(Net, self).__init__()\n",
        "        if gpu:\n",
        "          self.fc1 = nn.Linear(input_size, 20).cuda()\n",
        "          self.fc2 = nn.Linear(20, 10).cuda()\n",
        "          self.fc3 = nn.Linear(10, 2).cuda()\n",
        "        else:\n",
        "          self.fc1 = nn.Linear(input_size, 20)\n",
        "          self.fc2 = nn.Linear(20, 10)\n",
        "          self.fc3 = nn.Linear(10, 2)\n",
        "\n",
        "    def forward(self, x):\n",
        "        x = F.relu(self.fc1(x))\n",
        "        x = F.relu(self.fc2(x))\n",
        "        x = self.fc3(x)\n",
        "        return x\n",
        "\n",
        "modelWinner = Net(np.shape(train_in.to_numpy())[1])"
      ],
      "execution_count": 425,
      "outputs": []
    },
    {
      "cell_type": "code",
      "metadata": {
        "id": "LDkx_IO1ZENR"
      },
      "source": [
        "optimizer = torch.optim.Adam(modelWinner.parameters(), lr=LEARNING_RATE)\n",
        "criterion = nn.CrossEntropyLoss()"
      ],
      "execution_count": 426,
      "outputs": []
    },
    {
      "cell_type": "code",
      "metadata": {
        "colab": {
          "base_uri": "https://localhost:8080/"
        },
        "id": "E7_Gv7AwZIVP",
        "outputId": "9d8aa611-cefd-4274-f998-7bf087dead34"
      },
      "source": [
        "trainWinner(modelWinner, device, train_loader, optimizer, EPOCHS, criterion, verbose=True)"
      ],
      "execution_count": 427,
      "outputs": [
        {
          "output_type": "stream",
          "text": [
            "Train Epoch: 0  \tLoss: 1.020091\n",
            "Train Epoch: 10  \tLoss: 0.750063\n",
            "Train Epoch: 20  \tLoss: 0.733090\n",
            "Train Epoch: 30  \tLoss: 0.714225\n",
            "Train Epoch: 40  \tLoss: 0.698014\n",
            "Train Epoch: 50  \tLoss: 0.701760\n",
            "Train Epoch: 60  \tLoss: 0.696841\n",
            "Train Epoch: 70  \tLoss: 0.690197\n",
            "Train Epoch: 80  \tLoss: 0.678964\n",
            "Train Epoch: 90  \tLoss: 0.677725\n"
          ],
          "name": "stdout"
        }
      ]
    },
    {
      "cell_type": "code",
      "metadata": {
        "colab": {
          "base_uri": "https://localhost:8080/"
        },
        "id": "mudAH5U9ZMsc",
        "outputId": "9575bc49-e1c7-4219-fc2f-f36934f6dbbc"
      },
      "source": [
        "testWinner(modelWinner, device, valid_loader, criterion)"
      ],
      "execution_count": 428,
      "outputs": [
        {
          "output_type": "stream",
          "text": [
            "Test set: Average loss: 0.7781\n",
            "Accuracy: 70.460%\n"
          ],
          "name": "stdout"
        }
      ]
    },
    {
      "cell_type": "code",
      "metadata": {
        "colab": {
          "base_uri": "https://localhost:8080/"
        },
        "id": "BLGVXpg2mjjA",
        "outputId": "a13150c5-7e1a-48c8-e278-1fb9b5a81a96"
      },
      "source": [
        "testWinner(modelWinner, device, test_loader, criterion)"
      ],
      "execution_count": 429,
      "outputs": [
        {
          "output_type": "stream",
          "text": [
            "Test set: Average loss: 0.7174\n",
            "Accuracy: 74.175%\n"
          ],
          "name": "stdout"
        }
      ]
    },
    {
      "cell_type": "code",
      "metadata": {
        "colab": {
          "base_uri": "https://localhost:8080/",
          "height": 312
        },
        "id": "DUNQPq5czBY1",
        "outputId": "19903c5c-9f6a-42eb-f0de-156a9b043ddd"
      },
      "source": [
        "acc = []\n",
        "for week in range(1, 16):\n",
        "  t = test.loc[test.week == week]\n",
        "  t_in = t.drop(columns=['result'])\n",
        "  t_out = t.result\n",
        "  t_out[t_out>0] = 1\n",
        "  t_out[t_out<0] = 0\n",
        "  tensor_in = torch.tensor(t_in.to_numpy(), dtype=torch.float, device=device)\n",
        "  output = modelWinner(tensor_in)\n",
        "  preds = torch.argmax(output, dim=1).detach().cpu().numpy()\n",
        "  acc.append((np.sum(preds==t_out) / len(t_out))*100.0)\n",
        "  \n",
        "plt.plot(range(1, 16), acc)\n",
        "plt.xlabel('Week')\n",
        "plt.ylabel('% of winners predicted correctly')\n",
        "plt.title('Accuracy by Week on Test Data (2019)')"
      ],
      "execution_count": 344,
      "outputs": [
        {
          "output_type": "execute_result",
          "data": {
            "text/plain": [
              "Text(0.5, 1.0, 'Accuracy by Week on Test Data (2019)')"
            ]
          },
          "metadata": {
            "tags": []
          },
          "execution_count": 344
        },
        {
          "output_type": "display_data",
          "data": {
            "image/png": "[encoded data removed]",
            "text/plain": [
              "<Figure size 432x288 with 1 Axes>"
            ]
          },
          "metadata": {
            "tags": [],
            "needs_background": "light"
          }
        }
      ]
    },
    {
      "cell_type": "markdown",
      "metadata": {
        "id": "jvjv_vNTIrYj"
      },
      "source": [
        "# Compare Best Model to Vegas<a name=\"compare-vegas\"></a>"
      ]
    },
    {
      "cell_type": "code",
      "metadata": {
        "id": "t1oq3RcGJjyW"
      },
      "source": [
        "def predict_betting_wins(pred, spread, result):\n",
        "  '''\n",
        "  predict the percent of the time that you beat vegas in betting\n",
        "\n",
        "  Paramters\n",
        "  ---------\n",
        "  prediction : torch.tensor\n",
        "      vector of predictions of length (N,) where N is number of games\n",
        "  spread : torch.tensor\n",
        "      vector of vegas spreads of length (N,) where N is number of games\n",
        "  result : torch.tensor\n",
        "      vector of actual game results of length (N,) where N is number of games\n",
        "\n",
        "  Returns\n",
        "  -------\n",
        "  winning_percentage : float\n",
        "      percent of time that vegas is beat\n",
        "  '''\n",
        "  spread_v_pred = torch.sign(pred - spread)\n",
        "  spread_v_result = torch.sign(result - spread)\n",
        "  winning_percentage = torch.sum(spread_v_result == spread_v_pred)/result.size()[0]\n",
        "  return winning_percentage\n",
        "\n",
        "def calculate_return(winning_percentage):\n",
        "  return ((winning_percentage * 21/11) - 1) * 100.0"
      ],
      "execution_count": 447,
      "outputs": []
    },
    {
      "cell_type": "code",
      "metadata": {
        "id": "bfcns_PEKFZW",
        "colab": {
          "base_uri": "https://localhost:8080/"
        },
        "outputId": "e3dd966f-1d30-46cc-eba2-7a25d5da4dc9"
      },
      "source": [
        "test = games.copy()\n",
        "test = test.loc[test.season == 2019]\n",
        "test_in = test.drop(columns=['result', 'season', 'id', 'home_team', 'away_team', 'excitement_index', 'spread'])\n",
        "\n",
        "# NN spread model\n",
        "# test_in_tensor = torch.tensor(test_in.to_numpy(), dtype=torch.float, device=device)\n",
        "# pred = modelSpread(test_in_tensor)\n",
        "# pred = torch.reshape(pred, (-1,))\n",
        "\n",
        "# lasso model\n",
        "# pred = lasso_model.predict(test_in)\n",
        "# pred = torch.tensor(pred, dtype=torch.float, device=device)\n",
        "\n",
        "# single feature linear model\n",
        "pred = baseline_model.predict(test_in.win_difference.to_numpy().reshape(-1, 1))\n",
        "pred = torch.tensor(pred, dtype=torch.float, device=device)\n",
        "\n",
        "result = torch.tensor(test.result.to_numpy(), dtype=torch.float, device=device)\n",
        "vegas = torch.tensor(test.spread.to_numpy(), dtype=torch.float, device=device)\n",
        "beating_vegas = predict_betting_wins(pred, vegas, result)\n",
        "print('Percentage of Vegas bets the Test data would\\'ve won: %.4f%%' % (beating_vegas * 100.0))\n",
        "print('Average return on investement betting on the Test Data: %.2f%%' % (calculate_return(beating_vegas)))"
      ],
      "execution_count": 451,
      "outputs": [
        {
          "output_type": "stream",
          "text": [
            "Percentage of Vegas bets the Test data would've won: 47.7594%\n",
            "Average return on investement betting on the Test Data: -8.82%\n"
          ],
          "name": "stdout"
        }
      ]
    },
    {
      "cell_type": "code",
      "metadata": {
        "id": "phLXzUHWcIIK"
      },
      "source": [
        ""
      ],
      "execution_count": null,
      "outputs": []
    }
  ]
}