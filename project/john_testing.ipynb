{
 "cells": [
  {
   "cell_type": "code",
   "execution_count": 1,
   "metadata": {},
   "outputs": [],
   "source": [
    "import numpy as np\n",
    "import pandas as pd\n",
    "import pickle\n",
    "import project_tools as tools\n",
    "from matplotlib import pyplot as plt\n",
    "from sklearn.linear_model import LinearRegression\n",
    "from sklearn.metrics import mean_squared_error\n",
    "from sklearn.linear_model import Ridge\n",
    "from sklearn.model_selection import train_test_split\n",
    "\n",
    "import torch\n",
    "from torch import nn\n",
    "import torch.optim as optim\n",
    "from torch.utils.data import TensorDataset, DataLoader\n",
    "# Some magic so that the notebook will reload external python modules;\n",
    "# see http://stackoverflow.com/questions/1907993/autoreload-of-modules-in-ipython\n",
    "%load_ext autoreload\n",
    "%autoreload 2"
   ]
  },
  {
   "cell_type": "code",
   "execution_count": 32,
   "metadata": {},
   "outputs": [],
   "source": [
    "original_stats, original_games, original_records, original_teams, original_spread, original_rankings = tools.load_data_pkl()"
   ]
  },
  {
   "cell_type": "code",
   "execution_count": 33,
   "metadata": {},
   "outputs": [
    {
     "data": {
      "text/html": [
       "<div>\n",
       "<style scoped>\n",
       "    .dataframe tbody tr th:only-of-type {\n",
       "        vertical-align: middle;\n",
       "    }\n",
       "\n",
       "    .dataframe tbody tr th {\n",
       "        vertical-align: top;\n",
       "    }\n",
       "\n",
       "    .dataframe thead th {\n",
       "        text-align: right;\n",
       "    }\n",
       "</style>\n",
       "<table border=\"1\" class=\"dataframe\">\n",
       "  <thead>\n",
       "    <tr style=\"text-align: right;\">\n",
       "      <th></th>\n",
       "      <th>season</th>\n",
       "      <th>seasonType</th>\n",
       "      <th>week</th>\n",
       "      <th>gameId</th>\n",
       "      <th>homeTeam</th>\n",
       "      <th>awayTeam</th>\n",
       "      <th>spread</th>\n",
       "      <th>homeWinProb</th>\n",
       "    </tr>\n",
       "  </thead>\n",
       "  <tbody>\n",
       "    <tr>\n",
       "      <th>0</th>\n",
       "      <td>2013</td>\n",
       "      <td>regular</td>\n",
       "      <td>1</td>\n",
       "      <td>332432005</td>\n",
       "      <td>Air Force</td>\n",
       "      <td>Colgate</td>\n",
       "      <td>-31.5</td>\n",
       "      <td>0.968</td>\n",
       "    </tr>\n",
       "    <tr>\n",
       "      <th>1</th>\n",
       "      <td>2013</td>\n",
       "      <td>regular</td>\n",
       "      <td>1</td>\n",
       "      <td>332420012</td>\n",
       "      <td>Arizona</td>\n",
       "      <td>Northern Arizona</td>\n",
       "      <td>-35.0</td>\n",
       "      <td>0.980</td>\n",
       "    </tr>\n",
       "    <tr>\n",
       "      <th>2</th>\n",
       "      <td>2013</td>\n",
       "      <td>regular</td>\n",
       "      <td>1</td>\n",
       "      <td>332430008</td>\n",
       "      <td>Arkansas</td>\n",
       "      <td>Louisiana</td>\n",
       "      <td>-14.0</td>\n",
       "      <td>0.795</td>\n",
       "    </tr>\n",
       "    <tr>\n",
       "      <th>3</th>\n",
       "      <td>2013</td>\n",
       "      <td>regular</td>\n",
       "      <td>1</td>\n",
       "      <td>332432032</td>\n",
       "      <td>Arkansas State</td>\n",
       "      <td>Arkansas-Pine Bluff</td>\n",
       "      <td>-17.5</td>\n",
       "      <td>0.848</td>\n",
       "    </tr>\n",
       "    <tr>\n",
       "      <th>4</th>\n",
       "      <td>2013</td>\n",
       "      <td>regular</td>\n",
       "      <td>1</td>\n",
       "      <td>332420349</td>\n",
       "      <td>Army</td>\n",
       "      <td>Morgan State</td>\n",
       "      <td>-31.0</td>\n",
       "      <td>0.966</td>\n",
       "    </tr>\n",
       "    <tr>\n",
       "      <th>...</th>\n",
       "      <td>...</td>\n",
       "      <td>...</td>\n",
       "      <td>...</td>\n",
       "      <td>...</td>\n",
       "      <td>...</td>\n",
       "      <td>...</td>\n",
       "      <td>...</td>\n",
       "      <td>...</td>\n",
       "    </tr>\n",
       "    <tr>\n",
       "      <th>6111</th>\n",
       "      <td>2020</td>\n",
       "      <td>regular</td>\n",
       "      <td>16</td>\n",
       "      <td>401260158</td>\n",
       "      <td>Tennessee</td>\n",
       "      <td>Texas A&amp;M</td>\n",
       "      <td>13.5</td>\n",
       "      <td>0.214</td>\n",
       "    </tr>\n",
       "    <tr>\n",
       "      <th>6112</th>\n",
       "      <td>2020</td>\n",
       "      <td>regular</td>\n",
       "      <td>16</td>\n",
       "      <td>401269376</td>\n",
       "      <td>UCLA</td>\n",
       "      <td>Stanford</td>\n",
       "      <td>-6.5</td>\n",
       "      <td>0.649</td>\n",
       "    </tr>\n",
       "    <tr>\n",
       "      <th>6113</th>\n",
       "      <td>2020</td>\n",
       "      <td>regular</td>\n",
       "      <td>16</td>\n",
       "      <td>401249434</td>\n",
       "      <td>USC</td>\n",
       "      <td>Oregon</td>\n",
       "      <td>-3.0</td>\n",
       "      <td>0.570</td>\n",
       "    </tr>\n",
       "    <tr>\n",
       "      <th>6114</th>\n",
       "      <td>2020</td>\n",
       "      <td>regular</td>\n",
       "      <td>16</td>\n",
       "      <td>401269375</td>\n",
       "      <td>Utah</td>\n",
       "      <td>Washington State</td>\n",
       "      <td>-11.5</td>\n",
       "      <td>0.751</td>\n",
       "    </tr>\n",
       "    <tr>\n",
       "      <th>6115</th>\n",
       "      <td>2020</td>\n",
       "      <td>regular</td>\n",
       "      <td>16</td>\n",
       "      <td>401269384</td>\n",
       "      <td>Wisconsin</td>\n",
       "      <td>Minnesota</td>\n",
       "      <td>-10.5</td>\n",
       "      <td>0.732</td>\n",
       "    </tr>\n",
       "  </tbody>\n",
       "</table>\n",
       "<p>6116 rows × 8 columns</p>\n",
       "</div>"
      ],
      "text/plain": [
       "      season seasonType  week     gameId        homeTeam             awayTeam  \\\n",
       "0       2013    regular     1  332432005       Air Force              Colgate   \n",
       "1       2013    regular     1  332420012         Arizona     Northern Arizona   \n",
       "2       2013    regular     1  332430008        Arkansas            Louisiana   \n",
       "3       2013    regular     1  332432032  Arkansas State  Arkansas-Pine Bluff   \n",
       "4       2013    regular     1  332420349            Army         Morgan State   \n",
       "...      ...        ...   ...        ...             ...                  ...   \n",
       "6111    2020    regular    16  401260158       Tennessee            Texas A&M   \n",
       "6112    2020    regular    16  401269376            UCLA             Stanford   \n",
       "6113    2020    regular    16  401249434             USC               Oregon   \n",
       "6114    2020    regular    16  401269375            Utah     Washington State   \n",
       "6115    2020    regular    16  401269384       Wisconsin            Minnesota   \n",
       "\n",
       "      spread  homeWinProb  \n",
       "0      -31.5        0.968  \n",
       "1      -35.0        0.980  \n",
       "2      -14.0        0.795  \n",
       "3      -17.5        0.848  \n",
       "4      -31.0        0.966  \n",
       "...      ...          ...  \n",
       "6111    13.5        0.214  \n",
       "6112    -6.5        0.649  \n",
       "6113    -3.0        0.570  \n",
       "6114   -11.5        0.751  \n",
       "6115   -10.5        0.732  \n",
       "\n",
       "[6116 rows x 8 columns]"
      ]
     },
     "execution_count": 33,
     "metadata": {},
     "output_type": "execute_result"
    }
   ],
   "source": [
    "original_spread"
   ]
  },
  {
   "cell_type": "code",
   "execution_count": 57,
   "metadata": {},
   "outputs": [],
   "source": [
    "spreads = tools.get_games_df('train')"
   ]
  },
  {
   "cell_type": "code",
   "execution_count": 59,
   "metadata": {},
   "outputs": [
    {
     "data": {
      "text/html": [
       "<div>\n",
       "<style scoped>\n",
       "    .dataframe tbody tr th:only-of-type {\n",
       "        vertical-align: middle;\n",
       "    }\n",
       "\n",
       "    .dataframe tbody tr th {\n",
       "        vertical-align: top;\n",
       "    }\n",
       "\n",
       "    .dataframe thead th {\n",
       "        text-align: right;\n",
       "    }\n",
       "</style>\n",
       "<table border=\"1\" class=\"dataframe\">\n",
       "  <thead>\n",
       "    <tr style=\"text-align: right;\">\n",
       "      <th></th>\n",
       "      <th>gameId</th>\n",
       "      <th>spread</th>\n",
       "      <th>homeWinProb</th>\n",
       "    </tr>\n",
       "  </thead>\n",
       "  <tbody>\n",
       "    <tr>\n",
       "      <th>0</th>\n",
       "      <td>332432005</td>\n",
       "      <td>31.5</td>\n",
       "      <td>0.968</td>\n",
       "    </tr>\n",
       "    <tr>\n",
       "      <th>1</th>\n",
       "      <td>332420012</td>\n",
       "      <td>35.0</td>\n",
       "      <td>0.980</td>\n",
       "    </tr>\n",
       "    <tr>\n",
       "      <th>2</th>\n",
       "      <td>332430008</td>\n",
       "      <td>14.0</td>\n",
       "      <td>0.795</td>\n",
       "    </tr>\n",
       "    <tr>\n",
       "      <th>3</th>\n",
       "      <td>332432032</td>\n",
       "      <td>17.5</td>\n",
       "      <td>0.848</td>\n",
       "    </tr>\n",
       "    <tr>\n",
       "      <th>4</th>\n",
       "      <td>332420349</td>\n",
       "      <td>31.0</td>\n",
       "      <td>0.966</td>\n",
       "    </tr>\n",
       "    <tr>\n",
       "      <th>...</th>\n",
       "      <td>...</td>\n",
       "      <td>...</td>\n",
       "      <td>...</td>\n",
       "    </tr>\n",
       "    <tr>\n",
       "      <th>6111</th>\n",
       "      <td>401260158</td>\n",
       "      <td>-13.5</td>\n",
       "      <td>0.214</td>\n",
       "    </tr>\n",
       "    <tr>\n",
       "      <th>6112</th>\n",
       "      <td>401269376</td>\n",
       "      <td>6.5</td>\n",
       "      <td>0.649</td>\n",
       "    </tr>\n",
       "    <tr>\n",
       "      <th>6113</th>\n",
       "      <td>401249434</td>\n",
       "      <td>3.0</td>\n",
       "      <td>0.570</td>\n",
       "    </tr>\n",
       "    <tr>\n",
       "      <th>6114</th>\n",
       "      <td>401269375</td>\n",
       "      <td>11.5</td>\n",
       "      <td>0.751</td>\n",
       "    </tr>\n",
       "    <tr>\n",
       "      <th>6115</th>\n",
       "      <td>401269384</td>\n",
       "      <td>10.5</td>\n",
       "      <td>0.732</td>\n",
       "    </tr>\n",
       "  </tbody>\n",
       "</table>\n",
       "<p>6116 rows × 3 columns</p>\n",
       "</div>"
      ],
      "text/plain": [
       "         gameId  spread  homeWinProb\n",
       "0     332432005    31.5        0.968\n",
       "1     332420012    35.0        0.980\n",
       "2     332430008    14.0        0.795\n",
       "3     332432032    17.5        0.848\n",
       "4     332420349    31.0        0.966\n",
       "...         ...     ...          ...\n",
       "6111  401260158   -13.5        0.214\n",
       "6112  401269376     6.5        0.649\n",
       "6113  401249434     3.0        0.570\n",
       "6114  401269375    11.5        0.751\n",
       "6115  401269384    10.5        0.732\n",
       "\n",
       "[6116 rows x 3 columns]"
      ]
     },
     "execution_count": 59,
     "metadata": {},
     "output_type": "execute_result"
    }
   ],
   "source": [
    "spreads"
   ]
  },
  {
   "cell_type": "markdown",
   "metadata": {},
   "source": [
    "## Single Variable Linear Regression"
   ]
  },
  {
   "cell_type": "code",
   "execution_count": 5,
   "metadata": {},
   "outputs": [],
   "source": [
    "pd.options.display.max_columns = None\n",
    "train = games[games['season'] < 2018]\n",
    "valid = games[games['season'] == 2018]\n",
    "\n",
    "X_train = train['home_wins'].to_numpy() - train['away_wins'].to_numpy()\n",
    "y_train = train['result'].to_numpy()\n",
    "\n",
    "X_valid = valid['home_wins'].to_numpy() - valid['away_wins'].to_numpy()\n",
    "y_valid = valid['result'].to_numpy()"
   ]
  },
  {
   "cell_type": "code",
   "execution_count": 113,
   "metadata": {},
   "outputs": [],
   "source": [
    "pd.options.display.max_columns = None\n",
    "train = games[games['season'] < 2018]\n",
    "valid = games[games['season'] == 2018]\n",
    "\n",
    "X_train = train['totalYards_spread'].to_numpy()\n",
    "y_train = train['result'].to_numpy()\n",
    "\n",
    "X_valid = valid['totalYards_spread'].to_numpy()\n",
    "y_valid = valid['result'].to_numpy()"
   ]
  },
  {
   "cell_type": "code",
   "execution_count": 7,
   "metadata": {},
   "outputs": [
    {
     "data": {
      "image/png": "[encoded data removed]",
      "text/plain": [
       "<Figure size 432x288 with 1 Axes>"
      ]
     },
     "metadata": {
      "needs_background": "light"
     },
     "output_type": "display_data"
    }
   ],
   "source": [
    "baseline_model = LinearRegression().fit(X_train.reshape(-1, 1), y_train)\n",
    "\n",
    "x = np.linspace(-10, 10, 500)\n",
    "y = baseline_model.coef_[0] * x + baseline_model.intercept_\n",
    "\n",
    "plt.xlabel('win percentage difference')\n",
    "plt.ylabel('game result')\n",
    "plt.plot(X_train, y_train, '.', color='black')\n",
    "plt.plot(x, y, '-r', label=\"f(x) = %.3fx + %.3f\" % (baseline_model.coef_[0], baseline_model.intercept_))\n",
    "plt.legend()\n",
    "plt.grid()"
   ]
  },
  {
   "cell_type": "code",
   "execution_count": 8,
   "metadata": {},
   "outputs": [
    {
     "name": "stdout",
     "output_type": "stream",
     "text": [
      "RMSE on train = 18.97 points\n",
      "RMSE on valid = 19.74 points\n"
     ]
    }
   ],
   "source": [
    "prediction_train = baseline_model.predict(X_train.reshape(-1, 1))\n",
    "prediction_valid = baseline_model.predict(X_valid.reshape(-1, 1))\n",
    "print('RMSE on train = %.2f points' % mean_squared_error(y_train, prediction_train, squared=False))\n",
    "print('RMSE on valid = %.2f points' % mean_squared_error(y_valid, prediction_valid, squared=False))"
   ]
  },
  {
   "cell_type": "markdown",
   "metadata": {},
   "source": [
    "## Ridge Regression Baseline"
   ]
  },
  {
   "cell_type": "code",
   "execution_count": 24,
   "metadata": {},
   "outputs": [],
   "source": [
    "X= games.drop(['home_team','away_team','result'], axis=1).to_numpy()\n",
    "y = games['result']\n",
    "\n",
    "X_train, X_valid, y_train, y_valid = train_test_split(X, y, test_size=0.1, random_state=0)"
   ]
  },
  {
   "cell_type": "code",
   "execution_count": 25,
   "metadata": {},
   "outputs": [
    {
     "data": {
      "text/plain": [
       "LinearRegression()"
      ]
     },
     "execution_count": 25,
     "metadata": {},
     "output_type": "execute_result"
    }
   ],
   "source": [
    "LinRegMod = LinearRegression()\n",
    "LinRegMod.fit(X_train, y_train)"
   ]
  },
  {
   "cell_type": "code",
   "execution_count": 26,
   "metadata": {},
   "outputs": [
    {
     "name": "stdout",
     "output_type": "stream",
     "text": [
      "RMSE on train = 17.56 points\n",
      "Percent Correct (W/L) = 70.88%\n",
      "\n",
      "RMSE on valid = 17.90 points\n",
      "Percent Correct (W/L) = 70.05%\n"
     ]
    }
   ],
   "source": [
    "pred_train = LinRegMod.predict(X_train)\n",
    "print('RMSE on train = %.2f points' % mean_squared_error(y_train, pred_train, squared=False))\n",
    "print(f'Percent Correct (W/L) = {np.sum(np.sign(pred_train)==np.sign(y_train))/len(y_train)*100:.4}%\\n')\n",
    "\n",
    "pred_valid = LinRegMod.predict(X_valid)\n",
    "print('RMSE on valid = %.2f points' % mean_squared_error(y_valid, pred_valid, squared=False))\n",
    "print(f'Percent Correct (W/L) = {np.sum(np.sign(pred_valid)==np.sign(y_valid))/len(y_valid)*100:.4}%')"
   ]
  },
  {
   "cell_type": "markdown",
   "metadata": {},
   "source": [
    "## Playing around with a Neural Net"
   ]
  },
  {
   "cell_type": "code",
   "execution_count": 163,
   "metadata": {},
   "outputs": [
    {
     "name": "stdout",
     "output_type": "stream",
     "text": [
      "Using device cpu\n"
     ]
    }
   ],
   "source": [
    "torch.manual_seed(0)\n",
    "device = torch.device(\"cpu\")\n",
    "print('Using device', device)"
   ]
  },
  {
   "cell_type": "code",
   "execution_count": 164,
   "metadata": {},
   "outputs": [
    {
     "name": "stdout",
     "output_type": "stream",
     "text": [
      "torch.Size([10458])\n",
      "torch.Size([10458, 36])\n"
     ]
    }
   ],
   "source": [
    "# Prepare Data\n",
    "X_train = torch.tensor(games.drop(['home_team','away_team','result'], axis=1).to_numpy())\n",
    "y_train = torch.tensor(games['result'])\n",
    "print(y.size())\n",
    "print(X.size())"
   ]
  },
  {
   "cell_type": "code",
   "execution_count": 181,
   "metadata": {},
   "outputs": [],
   "source": [
    "train_in = games.drop(columns=['home_team','away_team','result'])\n",
    "train_out = games.result\n",
    "\n",
    "data_train_vals = torch.tensor(train_in.to_numpy(), dtype=torch.float, device=device)\n",
    "data_train_labels = torch.tensor(train_out.to_numpy(), dtype=torch.float, device=device)\n",
    "\n",
    "data_train = TensorDataset(data_train_vals, data_train_labels)\n",
    "train_loader = DataLoader(dataset = data_train, batch_size = BATCH_SIZE, shuffle = True) "
   ]
  },
  {
   "cell_type": "code",
   "execution_count": 211,
   "metadata": {},
   "outputs": [],
   "source": [
    "class Network(nn.Module):\n",
    "    def __init__(self):\n",
    "        super().__init__()\n",
    "        \n",
    "        # Inputs to hidden layer linear transformation\n",
    "        self.h1 = nn.Linear(36, 1)       \n",
    "        \n",
    "        \n",
    "    def forward(self, x):\n",
    "        # Pass the input tensor through each of our operations\n",
    "        x = self.h1(x)\n",
    "        return x\n",
    "    \n",
    "def train(model, device, train_loader, optimizer, epochs, criterion, verbose=False, log_freq = 10):\n",
    "    for epoch in range(epochs):\n",
    "        model.train()\n",
    "        for data, label in train_loader:\n",
    "            data, label = data.to(device), label.to(device)\n",
    "            optimizer.zero_grad()\n",
    "            output = model(data)\n",
    "            loss = criterion(output, label)\n",
    "            loss.backward()\n",
    "            optimizer.step()\n",
    "        if verbose & (epoch%log_freq==0):\n",
    "            print('Train Epoch: %d  \\tLoss: %.6f' % (epoch, loss.item()/len(data)))\n",
    "model = Network()"
   ]
  },
  {
   "cell_type": "code",
   "execution_count": 231,
   "metadata": {},
   "outputs": [],
   "source": [
    "model = nn.Sequential(nn.Linear(36,1))"
   ]
  },
  {
   "cell_type": "code",
   "execution_count": 264,
   "metadata": {},
   "outputs": [],
   "source": [
    "BATCH_SIZE = 10458\n",
    "EPOCHS = 100\n",
    "LEARNING_RATE = 0.0000001\n",
    "MOMENTUM = 0.00005"
   ]
  },
  {
   "cell_type": "code",
   "execution_count": 265,
   "metadata": {},
   "outputs": [],
   "source": [
    "optimizer = torch.optim.Adam(model.parameters())\n",
    "criterion = nn.MSELoss()"
   ]
  },
  {
   "cell_type": "code",
   "execution_count": 266,
   "metadata": {},
   "outputs": [
    {
     "name": "stderr",
     "output_type": "stream",
     "text": [
      "/Users/jhrag/opt/anaconda3/envs/ee511/lib/python3.9/site-packages/torch/nn/modules/loss.py:446: UserWarning: Using a target size (torch.Size([64])) that is different to the input size (torch.Size([64, 1])). This will likely lead to incorrect results due to broadcasting. Please ensure they have the same size.\n",
      "  return F.mse_loss(input, target, reduction=self.reduction)\n",
      "/Users/jhrag/opt/anaconda3/envs/ee511/lib/python3.9/site-packages/torch/nn/modules/loss.py:446: UserWarning: Using a target size (torch.Size([26])) that is different to the input size (torch.Size([26, 1])). This will likely lead to incorrect results due to broadcasting. Please ensure they have the same size.\n",
      "  return F.mse_loss(input, target, reduction=self.reduction)\n"
     ]
    },
    {
     "name": "stdout",
     "output_type": "stream",
     "text": [
      "Train Epoch: 0  \tLoss: 14.141275\n",
      "Train Epoch: 10  \tLoss: 27.226220\n",
      "Train Epoch: 20  \tLoss: 14.480957\n",
      "Train Epoch: 30  \tLoss: 14.313484\n",
      "Train Epoch: 40  \tLoss: 23.511364\n",
      "Train Epoch: 50  \tLoss: 24.157180\n",
      "Train Epoch: 60  \tLoss: 11.251363\n",
      "Train Epoch: 70  \tLoss: 18.246010\n",
      "Train Epoch: 80  \tLoss: 15.482465\n",
      "Train Epoch: 90  \tLoss: 12.670204\n"
     ]
    }
   ],
   "source": [
    "train(model, device, train_loader, optimizer, EPOCHS, criterion, verbose=True)"
   ]
  },
  {
   "cell_type": "code",
   "execution_count": 267,
   "metadata": {},
   "outputs": [
    {
     "data": {
      "text/plain": [
       "<matplotlib.legend.Legend at 0x7fce06e036d0>"
      ]
     },
     "execution_count": 267,
     "metadata": {},
     "output_type": "execute_result"
    },
    {
     "data": {
      "image/png": "[encoded data removed]",
      "text/plain": [
       "<Figure size 432x288 with 1 Axes>"
      ]
     },
     "metadata": {
      "needs_background": "light"
     },
     "output_type": "display_data"
    }
   ],
   "source": [
    "nn_weights = model[0].weight.detach().numpy().T\n",
    "lreg_weights = LinRegMod.coef_\n",
    "\n",
    "plt.plot(lreg_weights, '.')\n",
    "plt.plot(nn_weights, '.')\n",
    "plt.grid()\n",
    "plt.legend(['Linear Regression','Single Layer NN'])"
   ]
  },
  {
   "cell_type": "code",
   "execution_count": null,
   "metadata": {},
   "outputs": [],
   "source": []
  }
 ],
 "metadata": {
  "kernelspec": {
   "display_name": "Python 3",
   "language": "python",
   "name": "python3"
  },
  "language_info": {
   "codemirror_mode": {
    "name": "ipython",
    "version": 3
   },
   "file_extension": ".py",
   "mimetype": "text/x-python",
   "name": "python",
   "nbconvert_exporter": "python",
   "pygments_lexer": "ipython3",
   "version": "3.9.1"
  }
 },
 "nbformat": 4,
 "nbformat_minor": 4
}
