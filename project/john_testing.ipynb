{
 "cells": [
  {
   "cell_type": "code",
   "execution_count": 154,
   "metadata": {},
   "outputs": [
    {
     "name": "stdout",
     "output_type": "stream",
     "text": [
      "The autoreload extension is already loaded. To reload it, use:\n",
      "  %reload_ext autoreload\n"
     ]
    }
   ],
   "source": [
    "import numpy as np\n",
    "import pandas as pd\n",
    "import pickle\n",
    "import project_tools as tools\n",
    "from matplotlib import pyplot as plt\n",
    "from sklearn.linear_model import LinearRegression\n",
    "from sklearn.metrics import mean_squared_error\n",
    "from sklearn.linear_model import Ridge\n",
    "from sklearn.model_selection import train_test_split\n",
    "\n",
    "import torch\n",
    "from torch import nn\n",
    "import torch.optim as optim\n",
    "from torch.utils.data import TensorDataset, DataLoader\n",
    "# Some magic so that the notebook will reload external python modules;\n",
    "# see http://stackoverflow.com/questions/1907993/autoreload-of-modules-in-ipython\n",
    "%load_ext autoreload\n",
    "%autoreload 2"
   ]
  },
  {
   "cell_type": "code",
   "execution_count": 3,
   "metadata": {},
   "outputs": [],
   "source": [
    "# Read all Data into Notebook\n",
    "original_stats = tools.get_weekly_stats()\n",
    "original_games = tools.get_data('games', 2004)\n",
    "original_records = tools.get_data('records', 2004)\n",
    "original_teams = pd.read_json('https://api.collegefootballdata.com/teams')"
   ]
  },
  {
   "cell_type": "code",
   "execution_count": 22,
   "metadata": {},
   "outputs": [],
   "source": [
    "# Reset indecis of all dataframes\n",
    "original_stats = original_stats.reset_index(drop=True)\n",
    "original_games = original_games.reset_index(drop=True)\n",
    "original_records = original_records.reset_index(drop=True)\n",
    "original_teams = original_teams.reset_index(drop=True)"
   ]
  },
  {
   "cell_type": "code",
   "execution_count": 24,
   "metadata": {},
   "outputs": [],
   "source": [
    "# Save all Data into Pickle File\n",
    "with open('cfb_data.pkl','wb') as f:\n",
    "    pickle.dump([original_stats, original_games, original_records, original_teams], f )"
   ]
  },
  {
   "cell_type": "code",
   "execution_count": 2,
   "metadata": {},
   "outputs": [],
   "source": [
    "# Load all Data into Pickle File\n",
    "with open('cfb_data.pkl', 'rb') as f:\n",
    "    original_stats, original_games, original_records, original_teams = pickle.load(f)"
   ]
  },
  {
   "cell_type": "code",
   "execution_count": 111,
   "metadata": {},
   "outputs": [],
   "source": [
    "games = tools.get_games_df('train')"
   ]
  },
  {
   "cell_type": "code",
   "execution_count": 112,
   "metadata": {},
   "outputs": [
    {
     "data": {
      "text/html": [
       "<div>\n",
       "<style scoped>\n",
       "    .dataframe tbody tr th:only-of-type {\n",
       "        vertical-align: middle;\n",
       "    }\n",
       "\n",
       "    .dataframe tbody tr th {\n",
       "        vertical-align: top;\n",
       "    }\n",
       "\n",
       "    .dataframe thead th {\n",
       "        text-align: right;\n",
       "    }\n",
       "</style>\n",
       "<table border=\"1\" class=\"dataframe\">\n",
       "  <thead>\n",
       "    <tr style=\"text-align: right;\">\n",
       "      <th></th>\n",
       "      <th>season</th>\n",
       "      <th>week</th>\n",
       "      <th>home_team</th>\n",
       "      <th>away_team</th>\n",
       "      <th>result</th>\n",
       "      <th>home_games</th>\n",
       "      <th>away_games</th>\n",
       "      <th>firstDowns_spread</th>\n",
       "      <th>fourthDownConversions_spread</th>\n",
       "      <th>fourthDowns_spread</th>\n",
       "      <th>...</th>\n",
       "      <th>thirdDownConversions_spread</th>\n",
       "      <th>thirdDowns_spread</th>\n",
       "      <th>totalYards_spread</th>\n",
       "      <th>turnovers_spread</th>\n",
       "      <th>home_for</th>\n",
       "      <th>home_against</th>\n",
       "      <th>away_for</th>\n",
       "      <th>away_against</th>\n",
       "      <th>away_wins</th>\n",
       "      <th>home_wins</th>\n",
       "    </tr>\n",
       "  </thead>\n",
       "  <tbody>\n",
       "    <tr>\n",
       "      <th>0</th>\n",
       "      <td>2004</td>\n",
       "      <td>1</td>\n",
       "      <td>Virginia Tech</td>\n",
       "      <td>USC</td>\n",
       "      <td>-11.0</td>\n",
       "      <td>0.0</td>\n",
       "      <td>0.0</td>\n",
       "      <td>0.000000</td>\n",
       "      <td>0.000000</td>\n",
       "      <td>0.000000</td>\n",
       "      <td>...</td>\n",
       "      <td>0.000000</td>\n",
       "      <td>0.000000</td>\n",
       "      <td>0.000000</td>\n",
       "      <td>0.000000</td>\n",
       "      <td>0.000000</td>\n",
       "      <td>0.000000</td>\n",
       "      <td>0.000000</td>\n",
       "      <td>0.000000</td>\n",
       "      <td>0.0</td>\n",
       "      <td>0.0</td>\n",
       "    </tr>\n",
       "    <tr>\n",
       "      <th>1</th>\n",
       "      <td>2004</td>\n",
       "      <td>2</td>\n",
       "      <td>Eastern Michigan</td>\n",
       "      <td>Buffalo</td>\n",
       "      <td>3.0</td>\n",
       "      <td>0.0</td>\n",
       "      <td>0.0</td>\n",
       "      <td>0.000000</td>\n",
       "      <td>0.000000</td>\n",
       "      <td>0.000000</td>\n",
       "      <td>...</td>\n",
       "      <td>0.000000</td>\n",
       "      <td>0.000000</td>\n",
       "      <td>0.000000</td>\n",
       "      <td>0.000000</td>\n",
       "      <td>0.000000</td>\n",
       "      <td>0.000000</td>\n",
       "      <td>0.000000</td>\n",
       "      <td>0.000000</td>\n",
       "      <td>0.0</td>\n",
       "      <td>0.0</td>\n",
       "    </tr>\n",
       "    <tr>\n",
       "      <th>2</th>\n",
       "      <td>2004</td>\n",
       "      <td>2</td>\n",
       "      <td>Utah</td>\n",
       "      <td>Texas A&amp;M</td>\n",
       "      <td>20.0</td>\n",
       "      <td>0.0</td>\n",
       "      <td>0.0</td>\n",
       "      <td>0.000000</td>\n",
       "      <td>0.000000</td>\n",
       "      <td>0.000000</td>\n",
       "      <td>...</td>\n",
       "      <td>0.000000</td>\n",
       "      <td>0.000000</td>\n",
       "      <td>0.000000</td>\n",
       "      <td>0.000000</td>\n",
       "      <td>0.000000</td>\n",
       "      <td>0.000000</td>\n",
       "      <td>0.000000</td>\n",
       "      <td>0.000000</td>\n",
       "      <td>0.0</td>\n",
       "      <td>0.0</td>\n",
       "    </tr>\n",
       "    <tr>\n",
       "      <th>3</th>\n",
       "      <td>2004</td>\n",
       "      <td>2</td>\n",
       "      <td>Ball State</td>\n",
       "      <td>Boston College</td>\n",
       "      <td>-8.0</td>\n",
       "      <td>0.0</td>\n",
       "      <td>0.0</td>\n",
       "      <td>0.000000</td>\n",
       "      <td>0.000000</td>\n",
       "      <td>0.000000</td>\n",
       "      <td>...</td>\n",
       "      <td>0.000000</td>\n",
       "      <td>0.000000</td>\n",
       "      <td>0.000000</td>\n",
       "      <td>0.000000</td>\n",
       "      <td>0.000000</td>\n",
       "      <td>0.000000</td>\n",
       "      <td>0.000000</td>\n",
       "      <td>0.000000</td>\n",
       "      <td>0.0</td>\n",
       "      <td>0.0</td>\n",
       "    </tr>\n",
       "    <tr>\n",
       "      <th>4</th>\n",
       "      <td>2004</td>\n",
       "      <td>2</td>\n",
       "      <td>TCU</td>\n",
       "      <td>Northwestern</td>\n",
       "      <td>3.0</td>\n",
       "      <td>0.0</td>\n",
       "      <td>0.0</td>\n",
       "      <td>0.000000</td>\n",
       "      <td>0.000000</td>\n",
       "      <td>0.000000</td>\n",
       "      <td>...</td>\n",
       "      <td>0.000000</td>\n",
       "      <td>0.000000</td>\n",
       "      <td>0.000000</td>\n",
       "      <td>0.000000</td>\n",
       "      <td>0.000000</td>\n",
       "      <td>0.000000</td>\n",
       "      <td>0.000000</td>\n",
       "      <td>0.000000</td>\n",
       "      <td>0.0</td>\n",
       "      <td>0.0</td>\n",
       "    </tr>\n",
       "    <tr>\n",
       "      <th>...</th>\n",
       "      <td>...</td>\n",
       "      <td>...</td>\n",
       "      <td>...</td>\n",
       "      <td>...</td>\n",
       "      <td>...</td>\n",
       "      <td>...</td>\n",
       "      <td>...</td>\n",
       "      <td>...</td>\n",
       "      <td>...</td>\n",
       "      <td>...</td>\n",
       "      <td>...</td>\n",
       "      <td>...</td>\n",
       "      <td>...</td>\n",
       "      <td>...</td>\n",
       "      <td>...</td>\n",
       "      <td>...</td>\n",
       "      <td>...</td>\n",
       "      <td>...</td>\n",
       "      <td>...</td>\n",
       "      <td>...</td>\n",
       "      <td>...</td>\n",
       "    </tr>\n",
       "    <tr>\n",
       "      <th>10453</th>\n",
       "      <td>2018</td>\n",
       "      <td>14</td>\n",
       "      <td>Georgia</td>\n",
       "      <td>Alabama</td>\n",
       "      <td>-7.0</td>\n",
       "      <td>12.0</td>\n",
       "      <td>12.0</td>\n",
       "      <td>0.750000</td>\n",
       "      <td>0.166667</td>\n",
       "      <td>-0.083333</td>\n",
       "      <td>...</td>\n",
       "      <td>0.166667</td>\n",
       "      <td>0.750000</td>\n",
       "      <td>2.666667</td>\n",
       "      <td>0.083333</td>\n",
       "      <td>40.083333</td>\n",
       "      <td>17.166667</td>\n",
       "      <td>49.000000</td>\n",
       "      <td>13.750000</td>\n",
       "      <td>11.0</td>\n",
       "      <td>10.0</td>\n",
       "    </tr>\n",
       "    <tr>\n",
       "      <th>10454</th>\n",
       "      <td>2018</td>\n",
       "      <td>14</td>\n",
       "      <td>Boise State</td>\n",
       "      <td>Fresno State</td>\n",
       "      <td>-3.0</td>\n",
       "      <td>12.0</td>\n",
       "      <td>12.0</td>\n",
       "      <td>1.333333</td>\n",
       "      <td>0.500000</td>\n",
       "      <td>0.916667</td>\n",
       "      <td>...</td>\n",
       "      <td>1.416667</td>\n",
       "      <td>1.166667</td>\n",
       "      <td>-2.083333</td>\n",
       "      <td>0.250000</td>\n",
       "      <td>37.000000</td>\n",
       "      <td>22.333333</td>\n",
       "      <td>36.250000</td>\n",
       "      <td>13.500000</td>\n",
       "      <td>9.0</td>\n",
       "      <td>11.0</td>\n",
       "    </tr>\n",
       "    <tr>\n",
       "      <th>10455</th>\n",
       "      <td>2018</td>\n",
       "      <td>14</td>\n",
       "      <td>Ohio State</td>\n",
       "      <td>Northwestern</td>\n",
       "      <td>21.0</td>\n",
       "      <td>12.0</td>\n",
       "      <td>12.0</td>\n",
       "      <td>8.083333</td>\n",
       "      <td>0.000000</td>\n",
       "      <td>-0.750000</td>\n",
       "      <td>...</td>\n",
       "      <td>0.166667</td>\n",
       "      <td>-2.000000</td>\n",
       "      <td>190.666667</td>\n",
       "      <td>0.000000</td>\n",
       "      <td>43.333333</td>\n",
       "      <td>25.833333</td>\n",
       "      <td>23.666667</td>\n",
       "      <td>21.666667</td>\n",
       "      <td>8.0</td>\n",
       "      <td>11.0</td>\n",
       "    </tr>\n",
       "    <tr>\n",
       "      <th>10456</th>\n",
       "      <td>2018</td>\n",
       "      <td>14</td>\n",
       "      <td>Pittsburgh</td>\n",
       "      <td>Clemson</td>\n",
       "      <td>-32.0</td>\n",
       "      <td>12.0</td>\n",
       "      <td>12.0</td>\n",
       "      <td>-3.083333</td>\n",
       "      <td>0.000000</td>\n",
       "      <td>0.333333</td>\n",
       "      <td>...</td>\n",
       "      <td>0.083333</td>\n",
       "      <td>1.500000</td>\n",
       "      <td>-107.250000</td>\n",
       "      <td>-0.250000</td>\n",
       "      <td>28.000000</td>\n",
       "      <td>27.750000</td>\n",
       "      <td>45.666667</td>\n",
       "      <td>14.000000</td>\n",
       "      <td>11.0</td>\n",
       "      <td>6.0</td>\n",
       "    </tr>\n",
       "    <tr>\n",
       "      <th>10457</th>\n",
       "      <td>2018</td>\n",
       "      <td>15</td>\n",
       "      <td>Army</td>\n",
       "      <td>Navy</td>\n",
       "      <td>7.0</td>\n",
       "      <td>11.0</td>\n",
       "      <td>12.0</td>\n",
       "      <td>3.681818</td>\n",
       "      <td>1.060606</td>\n",
       "      <td>0.250000</td>\n",
       "      <td>...</td>\n",
       "      <td>3.416667</td>\n",
       "      <td>1.568182</td>\n",
       "      <td>23.340909</td>\n",
       "      <td>-0.537879</td>\n",
       "      <td>30.818182</td>\n",
       "      <td>18.727273</td>\n",
       "      <td>26.250000</td>\n",
       "      <td>34.916667</td>\n",
       "      <td>2.0</td>\n",
       "      <td>7.0</td>\n",
       "    </tr>\n",
       "  </tbody>\n",
       "</table>\n",
       "<p>10458 rows × 39 columns</p>\n",
       "</div>"
      ],
      "text/plain": [
       "       season  week         home_team       away_team  result  home_games  \\\n",
       "0        2004     1     Virginia Tech             USC   -11.0         0.0   \n",
       "1        2004     2  Eastern Michigan         Buffalo     3.0         0.0   \n",
       "2        2004     2              Utah       Texas A&M    20.0         0.0   \n",
       "3        2004     2        Ball State  Boston College    -8.0         0.0   \n",
       "4        2004     2               TCU    Northwestern     3.0         0.0   \n",
       "...       ...   ...               ...             ...     ...         ...   \n",
       "10453    2018    14           Georgia         Alabama    -7.0        12.0   \n",
       "10454    2018    14       Boise State    Fresno State    -3.0        12.0   \n",
       "10455    2018    14        Ohio State    Northwestern    21.0        12.0   \n",
       "10456    2018    14        Pittsburgh         Clemson   -32.0        12.0   \n",
       "10457    2018    15              Army            Navy     7.0        11.0   \n",
       "\n",
       "       away_games  firstDowns_spread  fourthDownConversions_spread  \\\n",
       "0             0.0           0.000000                      0.000000   \n",
       "1             0.0           0.000000                      0.000000   \n",
       "2             0.0           0.000000                      0.000000   \n",
       "3             0.0           0.000000                      0.000000   \n",
       "4             0.0           0.000000                      0.000000   \n",
       "...           ...                ...                           ...   \n",
       "10453        12.0           0.750000                      0.166667   \n",
       "10454        12.0           1.333333                      0.500000   \n",
       "10455        12.0           8.083333                      0.000000   \n",
       "10456        12.0          -3.083333                      0.000000   \n",
       "10457        12.0           3.681818                      1.060606   \n",
       "\n",
       "       fourthDowns_spread  ...  thirdDownConversions_spread  \\\n",
       "0                0.000000  ...                     0.000000   \n",
       "1                0.000000  ...                     0.000000   \n",
       "2                0.000000  ...                     0.000000   \n",
       "3                0.000000  ...                     0.000000   \n",
       "4                0.000000  ...                     0.000000   \n",
       "...                   ...  ...                          ...   \n",
       "10453           -0.083333  ...                     0.166667   \n",
       "10454            0.916667  ...                     1.416667   \n",
       "10455           -0.750000  ...                     0.166667   \n",
       "10456            0.333333  ...                     0.083333   \n",
       "10457            0.250000  ...                     3.416667   \n",
       "\n",
       "       thirdDowns_spread  totalYards_spread  turnovers_spread   home_for  \\\n",
       "0               0.000000           0.000000          0.000000   0.000000   \n",
       "1               0.000000           0.000000          0.000000   0.000000   \n",
       "2               0.000000           0.000000          0.000000   0.000000   \n",
       "3               0.000000           0.000000          0.000000   0.000000   \n",
       "4               0.000000           0.000000          0.000000   0.000000   \n",
       "...                  ...                ...               ...        ...   \n",
       "10453           0.750000           2.666667          0.083333  40.083333   \n",
       "10454           1.166667          -2.083333          0.250000  37.000000   \n",
       "10455          -2.000000         190.666667          0.000000  43.333333   \n",
       "10456           1.500000        -107.250000         -0.250000  28.000000   \n",
       "10457           1.568182          23.340909         -0.537879  30.818182   \n",
       "\n",
       "       home_against   away_for  away_against  away_wins  home_wins  \n",
       "0          0.000000   0.000000      0.000000        0.0        0.0  \n",
       "1          0.000000   0.000000      0.000000        0.0        0.0  \n",
       "2          0.000000   0.000000      0.000000        0.0        0.0  \n",
       "3          0.000000   0.000000      0.000000        0.0        0.0  \n",
       "4          0.000000   0.000000      0.000000        0.0        0.0  \n",
       "...             ...        ...           ...        ...        ...  \n",
       "10453     17.166667  49.000000     13.750000       11.0       10.0  \n",
       "10454     22.333333  36.250000     13.500000        9.0       11.0  \n",
       "10455     25.833333  23.666667     21.666667        8.0       11.0  \n",
       "10456     27.750000  45.666667     14.000000       11.0        6.0  \n",
       "10457     18.727273  26.250000     34.916667        2.0        7.0  \n",
       "\n",
       "[10458 rows x 39 columns]"
      ]
     },
     "execution_count": 112,
     "metadata": {},
     "output_type": "execute_result"
    }
   ],
   "source": [
    "games"
   ]
  },
  {
   "cell_type": "markdown",
   "metadata": {},
   "source": [
    "## Single Variable Linear Regression"
   ]
  },
  {
   "cell_type": "code",
   "execution_count": 113,
   "metadata": {},
   "outputs": [],
   "source": [
    "pd.options.display.max_columns = None\n",
    "train = games[games['season'] < 2018]\n",
    "valid = games[games['season'] == 2018]\n",
    "\n",
    "X_train = train['totalYards_spread'].to_numpy()\n",
    "y_train = train['result'].to_numpy()\n",
    "\n",
    "X_valid = valid['totalYards_spread'].to_numpy()\n",
    "y_valid = valid['result'].to_numpy()"
   ]
  },
  {
   "cell_type": "code",
   "execution_count": 115,
   "metadata": {},
   "outputs": [
    {
     "data": {
      "image/png": "[encoded data removed]",
      "text/plain": [
       "<Figure size 432x288 with 1 Axes>"
      ]
     },
     "metadata": {
      "needs_background": "light"
     },
     "output_type": "display_data"
    }
   ],
   "source": [
    "baseline_model = LinearRegression().fit(X_train.reshape(-1, 1), y_train)\n",
    "\n",
    "x = np.linspace(-600, 600, 500)\n",
    "y = baseline_model.coef_[0] * x + baseline_model.intercept_\n",
    "\n",
    "plt.xlabel('win percentage difference')\n",
    "plt.ylabel('game result')\n",
    "plt.plot(X_train, y_train, '.', color='black')\n",
    "plt.plot(x, y, '-r', label=\"f(x) = %.3fx + %.3f\" % (baseline_model.coef_[0], baseline_model.intercept_))\n",
    "plt.legend()\n",
    "plt.grid()"
   ]
  },
  {
   "cell_type": "code",
   "execution_count": 116,
   "metadata": {},
   "outputs": [
    {
     "name": "stdout",
     "output_type": "stream",
     "text": [
      "RMSE on train = 19.91 points\n",
      "RMSE on valid = 21.11 points\n"
     ]
    }
   ],
   "source": [
    "prediction_train = baseline_model.predict(X_train.reshape(-1, 1))\n",
    "prediction_valid = baseline_model.predict(X_valid.reshape(-1, 1))\n",
    "print('RMSE on train = %.2f points' % mean_squared_error(y_train, prediction_train, squared=False))\n",
    "print('RMSE on valid = %.2f points' % mean_squared_error(y_valid, prediction_valid, squared=False))"
   ]
  },
  {
   "cell_type": "markdown",
   "metadata": {},
   "source": [
    "## Ridge Regression Baseline"
   ]
  },
  {
   "cell_type": "code",
   "execution_count": 128,
   "metadata": {},
   "outputs": [],
   "source": [
    "X= games.drop(['home_team','away_team','result'], axis=1).to_numpy()\n",
    "y = games['result']\n",
    "\n",
    "X_train, X_valid, y_train, y_valid = train_test_split(X, y, test_size=0.1, random_state=0)"
   ]
  },
  {
   "cell_type": "code",
   "execution_count": 129,
   "metadata": {},
   "outputs": [
    {
     "data": {
      "text/plain": [
       "Ridge()"
      ]
     },
     "execution_count": 129,
     "metadata": {},
     "output_type": "execute_result"
    }
   ],
   "source": [
    "LinRegMod = Ridge(alpha=1.0)\n",
    "LinRegMod.fit(X_train, y_train)"
   ]
  },
  {
   "cell_type": "code",
   "execution_count": 130,
   "metadata": {},
   "outputs": [
    {
     "name": "stdout",
     "output_type": "stream",
     "text": [
      "RMSE on train = 17.85 points\n",
      "Percent Correct (W/L) = 70.51%\n",
      "\n",
      "RMSE on valid = 17.75 points\n",
      "Percent Correct (W/L) = 70.08%\n"
     ]
    }
   ],
   "source": [
    "pred_train = LinRegMod.predict(X_train)\n",
    "print('RMSE on train = %.2f points' % mean_squared_error(y_train, pred_train, squared=False))\n",
    "print(f'Percent Correct (W/L) = {np.sum(np.sign(pred_train)==np.sign(y_train))/len(y_train)*100:.4}%\\n')\n",
    "\n",
    "pred_valid = LinRegMod.predict(X_valid)\n",
    "print('RMSE on valid = %.2f points' % mean_squared_error(y_valid, pred_valid, squared=False))\n",
    "print(f'Percent Correct (W/L) = {np.sum(np.sign(pred_valid)==np.sign(y_valid))/len(y_valid)*100:.4}%')"
   ]
  },
  {
   "cell_type": "code",
   "execution_count": 131,
   "metadata": {},
   "outputs": [],
   "source": [
    "alphas = np.linspace(0, 2, 1000)\n",
    "train_loss = []\n",
    "valid_loss = []\n",
    "for alpha in alphas:\n",
    "    X_train, X_valid, y_train, y_valid = train_test_split(X, y, test_size=0.2)\n",
    "    LinRegMod = Ridge(alpha=alpha)\n",
    "    LinRegMod.fit(X_train, y_train)\n",
    "    pred_valid = LinRegMod.predict(X_valid)\n",
    "    pred_train = LinRegMod.predict(X_train)\n",
    "    train_loss.append(mean_squared_error(y_train, pred_train, squared=False))\n",
    "    valid_loss.append(mean_squared_error(y_valid, pred_valid, squared=False))"
   ]
  },
  {
   "cell_type": "code",
   "execution_count": 132,
   "metadata": {},
   "outputs": [
    {
     "data": {
      "text/plain": [
       "[<matplotlib.lines.Line2D at 0x7fce05f61910>]"
      ]
     },
     "execution_count": 132,
     "metadata": {},
     "output_type": "execute_result"
    },
    {
     "data": {
      "image/png": "[encoded data removed]",
      "text/plain": [
       "<Figure size 432x288 with 1 Axes>"
      ]
     },
     "metadata": {
      "needs_background": "light"
     },
     "output_type": "display_data"
    }
   ],
   "source": [
    "plt.plot(alphas,valid_loss)\n",
    "plt.plot(alphas,train_loss)"
   ]
  },
  {
   "cell_type": "markdown",
   "metadata": {},
   "source": [
    "## Playing around with a Neural Net"
   ]
  },
  {
   "cell_type": "code",
   "execution_count": 163,
   "metadata": {},
   "outputs": [
    {
     "name": "stdout",
     "output_type": "stream",
     "text": [
      "Using device cpu\n"
     ]
    }
   ],
   "source": [
    "torch.manual_seed(0)\n",
    "device = torch.device(\"cpu\")\n",
    "print('Using device', device)"
   ]
  },
  {
   "cell_type": "code",
   "execution_count": 164,
   "metadata": {},
   "outputs": [
    {
     "name": "stdout",
     "output_type": "stream",
     "text": [
      "torch.Size([10458])\n",
      "torch.Size([10458, 36])\n"
     ]
    }
   ],
   "source": [
    "# Prepare Data\n",
    "X_train = torch.tensor(games.drop(['home_team','away_team','result'], axis=1).to_numpy())\n",
    "y_train = torch.tensor(games['result'])\n",
    "print(y.size())\n",
    "print(X.size())"
   ]
  },
  {
   "cell_type": "code",
   "execution_count": 181,
   "metadata": {},
   "outputs": [],
   "source": [
    "train_in = games.drop(columns=['home_team','away_team','result'])\n",
    "train_out = games.result\n",
    "\n",
    "data_train_vals = torch.tensor(train_in.to_numpy(), dtype=torch.float, device=device)\n",
    "data_train_labels = torch.tensor(train_out.to_numpy(), dtype=torch.float, device=device)\n",
    "\n",
    "data_train = TensorDataset(data_train_vals, data_train_labels)\n",
    "train_loader = DataLoader(dataset = data_train, batch_size = BATCH_SIZE, shuffle = True) "
   ]
  },
  {
   "cell_type": "code",
   "execution_count": 211,
   "metadata": {},
   "outputs": [],
   "source": [
    "class Network(nn.Module):\n",
    "    def __init__(self):\n",
    "        super().__init__()\n",
    "        \n",
    "        # Inputs to hidden layer linear transformation\n",
    "        self.h1 = nn.Linear(36, 1)       \n",
    "        \n",
    "        \n",
    "    def forward(self, x):\n",
    "        # Pass the input tensor through each of our operations\n",
    "        x = self.h1(x)\n",
    "        return x\n",
    "    \n",
    "def train(model, device, train_loader, optimizer, epochs, criterion, verbose=False, log_freq = 10):\n",
    "    for epoch in range(epochs):\n",
    "        model.train()\n",
    "        for data, label in train_loader:\n",
    "            data, label = data.to(device), label.to(device)\n",
    "            optimizer.zero_grad()\n",
    "            output = model(data)\n",
    "            loss = criterion(output, label)\n",
    "            loss.backward()\n",
    "            optimizer.step()\n",
    "        if verbose & (epoch%log_freq==0):\n",
    "            print('Train Epoch: %d  \\tLoss: %.6f' % (epoch, loss.item()/len(data)))\n",
    "model = Network()"
   ]
  },
  {
   "cell_type": "code",
   "execution_count": 231,
   "metadata": {},
   "outputs": [],
   "source": [
    "model = nn.Sequential(nn.Linear(36,1))"
   ]
  },
  {
   "cell_type": "code",
   "execution_count": 264,
   "metadata": {},
   "outputs": [],
   "source": [
    "BATCH_SIZE = 10458\n",
    "EPOCHS = 100\n",
    "LEARNING_RATE = 0.0000001\n",
    "MOMENTUM = 0.00005"
   ]
  },
  {
   "cell_type": "code",
   "execution_count": 265,
   "metadata": {},
   "outputs": [],
   "source": [
    "optimizer = torch.optim.Adam(model.parameters())\n",
    "criterion = nn.MSELoss()"
   ]
  },
  {
   "cell_type": "code",
   "execution_count": 266,
   "metadata": {},
   "outputs": [
    {
     "name": "stderr",
     "output_type": "stream",
     "text": [
      "/Users/jhrag/opt/anaconda3/envs/ee511/lib/python3.9/site-packages/torch/nn/modules/loss.py:446: UserWarning: Using a target size (torch.Size([64])) that is different to the input size (torch.Size([64, 1])). This will likely lead to incorrect results due to broadcasting. Please ensure they have the same size.\n",
      "  return F.mse_loss(input, target, reduction=self.reduction)\n",
      "/Users/jhrag/opt/anaconda3/envs/ee511/lib/python3.9/site-packages/torch/nn/modules/loss.py:446: UserWarning: Using a target size (torch.Size([26])) that is different to the input size (torch.Size([26, 1])). This will likely lead to incorrect results due to broadcasting. Please ensure they have the same size.\n",
      "  return F.mse_loss(input, target, reduction=self.reduction)\n"
     ]
    },
    {
     "name": "stdout",
     "output_type": "stream",
     "text": [
      "Train Epoch: 0  \tLoss: 14.141275\n",
      "Train Epoch: 10  \tLoss: 27.226220\n",
      "Train Epoch: 20  \tLoss: 14.480957\n",
      "Train Epoch: 30  \tLoss: 14.313484\n",
      "Train Epoch: 40  \tLoss: 23.511364\n",
      "Train Epoch: 50  \tLoss: 24.157180\n",
      "Train Epoch: 60  \tLoss: 11.251363\n",
      "Train Epoch: 70  \tLoss: 18.246010\n",
      "Train Epoch: 80  \tLoss: 15.482465\n",
      "Train Epoch: 90  \tLoss: 12.670204\n"
     ]
    }
   ],
   "source": [
    "train(model, device, train_loader, optimizer, EPOCHS, criterion, verbose=True)"
   ]
  },
  {
   "cell_type": "code",
   "execution_count": 267,
   "metadata": {},
   "outputs": [
    {
     "data": {
      "text/plain": [
       "<matplotlib.legend.Legend at 0x7fce06e036d0>"
      ]
     },
     "execution_count": 267,
     "metadata": {},
     "output_type": "execute_result"
    },
    {
     "data": {
      "image/png": "[encoded data removed]",
      "text/plain": [
       "<Figure size 432x288 with 1 Axes>"
      ]
     },
     "metadata": {
      "needs_background": "light"
     },
     "output_type": "display_data"
    }
   ],
   "source": [
    "nn_weights = model[0].weight.detach().numpy().T\n",
    "lreg_weights = LinRegMod.coef_\n",
    "\n",
    "plt.plot(lreg_weights, '.')\n",
    "plt.plot(nn_weights, '.')\n",
    "plt.grid()\n",
    "plt.legend(['Linear Regression','Single Layer NN'])"
   ]
  },
  {
   "cell_type": "code",
   "execution_count": null,
   "metadata": {},
   "outputs": [],
   "source": []
  }
 ],
 "metadata": {
  "kernelspec": {
   "display_name": "Python 3",
   "language": "python",
   "name": "python3"
  },
  "language_info": {
   "codemirror_mode": {
    "name": "ipython",
    "version": 3
   },
   "file_extension": ".py",
   "mimetype": "text/x-python",
   "name": "python",
   "nbconvert_exporter": "python",
   "pygments_lexer": "ipython3",
   "version": "3.9.1"
  }
 },
 "nbformat": 4,
 "nbformat_minor": 4
}
