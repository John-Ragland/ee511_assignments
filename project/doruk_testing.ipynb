{
  "nbformat": 4,
  "nbformat_minor": 0,
  "metadata": {
    "accelerator": "GPU",
    "colab": {
      "name": "EE511_Project.ipynb",
      "provenance": [],
      "collapsed_sections": [],
      "include_colab_link": true
    },
    "kernelspec": {
      "display_name": "Python 3",
      "language": "python",
      "name": "python3"
    },
    "language_info": {
      "codemirror_mode": {
        "name": "ipython",
        "version": 3
      },
      "file_extension": ".py",
      "mimetype": "text/x-python",
      "name": "python",
      "nbconvert_exporter": "python",
      "pygments_lexer": "ipython3",
      "version": "3.8.3-final"
    }
  },
  "cells": [
    {
      "cell_type": "markdown",
      "metadata": {
        "id": "view-in-github",
        "colab_type": "text"
      },
      "source": [
        "<a href=\"https://colab.research.google.com/github/John-Ragland/ee511_assignments/blob/main/project/doruk_testing.ipynb\" target=\"_parent\"><img src=\"https://colab.research.google.com/assets/colab-badge.svg\" alt=\"Open In Colab\"/></a>"
      ]
    },
    {
      "cell_type": "markdown",
      "metadata": {
        "id": "vibcOMuPsohz"
      },
      "source": [
        "# Table of Contents\n",
        "* [Setup & Data Retrieval](#set-up)\n",
        "* [Baseline Models](#baseline)\n",
        "  + [Vegas Baseline](#vegas) : Spread RMSE=16.54, Winner acc=75.7%\n",
        "  + [Simple Linear Baseline](#simple-linear) : Spread RMSE=21.2, Winner acc=69.7%\n",
        "* [More Complex Models](#complex-models)\n",
        "  + [Complex Linear Model](#linear-complex) : Spread RMSE=16.66, Winner acc=%75.2\n",
        "  + [L1 Regularization](#l1)\n",
        "  + [Random Forest Model](#random-forest) : Winner acc=76%\n",
        "* [Neural Networks](#nn)\n",
        "  + [Linear NN for Predicting the Spread](#linear-spread-nn) : Spread RMSE=12.45\n",
        "  + [Linear NN for Predicting the Winner](#linear-winner-nn) : Winner acc=82.1%\n",
        "* [Compare to Vegas](#compare-vegas)\n",
        "* [Summary](#summary)\n",
        "\n"
      ]
    },
    {
      "cell_type": "markdown",
      "metadata": {
        "id": "0iWWUiEstgqs"
      },
      "source": [
        "# Setup the Notebook and Get Data<a name=\"set-up\"></a>"
      ]
    },
    {
      "cell_type": "code",
      "metadata": {
        "id": "HHKM4gIXPMUY",
        "colab": {
          "base_uri": "https://localhost:8080/",
          "height": 356
        },
        "outputId": "bfb9bb72-6429-41cb-cb00-021838a5595a"
      },
      "source": [
        "# Suppress Warnings\n",
        "def warn(*args, **kwargs):\n",
        "    pass\n",
        "import warnings\n",
        "warnings.warn = warn\n",
        "\n",
        "import numpy as np\n",
        "import pandas as pd\n",
        "from matplotlib import pyplot as plt\n",
        "from sklearn.linear_model import LinearRegression, Lasso\n",
        "from sklearn.metrics import mean_squared_error\n",
        "from sklearn.preprocessing import OneHotEncoder\n",
        "from sklearn.ensemble import RandomForestClassifier\n",
        "import torch\n",
        "import torch.nn as nn \n",
        "import torch.optim as optim\n",
        "import torch.nn.functional as F\n",
        "from torch.utils.data import TensorDataset, DataLoader\n",
        "from sklearn.model_selection import KFold"
      ],
      "execution_count": null,
      "outputs": [
        {
          "output_type": "error",
          "ename": "NameError",
          "evalue": "ignored",
          "traceback": [
            "\u001b[0;31m---------------------------------------------------------------------------\u001b[0m",
            "\u001b[0;31mNameError\u001b[0m                                 Traceback (most recent call last)",
            "\u001b[0;32m<ipython-input-12-18b0e507204b>\u001b[0m in \u001b[0;36m<module>\u001b[0;34m()\u001b[0m\n\u001b[1;32m     12\u001b[0m \u001b[0;32mfrom\u001b[0m \u001b[0msklearn\u001b[0m\u001b[0;34m.\u001b[0m\u001b[0mpreprocessing\u001b[0m \u001b[0;32mimport\u001b[0m \u001b[0mOneHotEncoder\u001b[0m\u001b[0;34m\u001b[0m\u001b[0;34m\u001b[0m\u001b[0m\n\u001b[1;32m     13\u001b[0m \u001b[0;32mfrom\u001b[0m \u001b[0msklearn\u001b[0m\u001b[0;34m.\u001b[0m\u001b[0mensemble\u001b[0m \u001b[0;32mimport\u001b[0m \u001b[0mRandomForestClassifier\u001b[0m\u001b[0;34m\u001b[0m\u001b[0;34m\u001b[0m\u001b[0m\n\u001b[0;32m---> 14\u001b[0;31m \u001b[0;32mimport\u001b[0m \u001b[0mtorch\u001b[0m\u001b[0;34m\u001b[0m\u001b[0;34m\u001b[0m\u001b[0m\n\u001b[0m\u001b[1;32m     15\u001b[0m \u001b[0;32mimport\u001b[0m \u001b[0mtorch\u001b[0m\u001b[0;34m.\u001b[0m\u001b[0mnn\u001b[0m \u001b[0;32mas\u001b[0m \u001b[0mnn\u001b[0m\u001b[0;34m\u001b[0m\u001b[0;34m\u001b[0m\u001b[0m\n\u001b[1;32m     16\u001b[0m \u001b[0;32mimport\u001b[0m \u001b[0mtorch\u001b[0m\u001b[0;34m.\u001b[0m\u001b[0moptim\u001b[0m \u001b[0;32mas\u001b[0m \u001b[0moptim\u001b[0m\u001b[0;34m\u001b[0m\u001b[0;34m\u001b[0m\u001b[0m\n",
            "\u001b[0;32m/usr/local/lib/python3.7/dist-packages/torch/__init__.py\u001b[0m in \u001b[0;36m<module>\u001b[0;34m()\u001b[0m\n\u001b[1;32m    220\u001b[0m \u001b[0;34m\u001b[0m\u001b[0m\n\u001b[1;32m    221\u001b[0m \u001b[0;34m\u001b[0m\u001b[0m\n\u001b[0;32m--> 222\u001b[0;31m __all__ += [name for name in dir(_C)\n\u001b[0m\u001b[1;32m    223\u001b[0m             \u001b[0;32mif\u001b[0m \u001b[0mname\u001b[0m\u001b[0;34m[\u001b[0m\u001b[0;36m0\u001b[0m\u001b[0;34m]\u001b[0m \u001b[0;34m!=\u001b[0m \u001b[0;34m'_'\u001b[0m \u001b[0;32mand\u001b[0m\u001b[0;34m\u001b[0m\u001b[0;34m\u001b[0m\u001b[0m\n\u001b[1;32m    224\u001b[0m             not name.endswith('Base')]\n",
            "\u001b[0;31mNameError\u001b[0m: name '_C' is not defined"
          ]
        }
      ]
    },
    {
      "cell_type": "code",
      "metadata": {
        "id": "4ZFeQkdrPMUe"
      },
      "source": [
        "# look_back = 3 # games\n",
        "def get_data(data_type, start_year, end_year=2020, week=None):\n",
        "    website = 'https://api.collegefootballdata.com/' + data_type\n",
        "    frames = []\n",
        "    for year in range(start_year, end_year+1):\n",
        "        url = website + '?year=%d' % year\n",
        "        if week:\n",
        "          # start = max(week - look_back, 1)\n",
        "          # url += '&startWeek=%d' % start\n",
        "          url += '&endWeek=%d' % week\n",
        "        frames.append(pd.read_json(url))\n",
        "    return pd.concat(frames)"
      ],
      "execution_count": null,
      "outputs": []
    },
    {
      "cell_type": "code",
      "metadata": {
        "id": "l5tADrqecXas"
      },
      "source": [
        "def get_weekly_stats(start_year):\n",
        "  frames = []\n",
        "  for week in range(1, 16):\n",
        "    week_frame = get_data('stats/season', start_year, week=week)\n",
        "    week_frame['week'] = week+1\n",
        "    frames.append(week_frame)\n",
        "  return pd.concat(frames)"
      ],
      "execution_count": null,
      "outputs": []
    },
    {
      "cell_type": "code",
      "metadata": {
        "id": "4Lqv3yilW45-",
        "colab": {
          "base_uri": "https://localhost:8080/",
          "height": 380
        },
        "outputId": "1a5431b5-8fab-447b-a007-6b5b3efbe483"
      },
      "source": [
        "# collect the data\n",
        "begin = 2013\n",
        "original_stats = get_weekly_stats(begin)\n",
        "original_games = get_data('games', begin)\n",
        "original_teams = pd.read_json('https://api.collegefootballdata.com/teams')\n",
        "original_spread = get_data('metrics/wp/pregame', begin)\n",
        "original_rankings = get_data('rankings', begin)"
      ],
      "execution_count": null,
      "outputs": [
        {
          "output_type": "error",
          "ename": "KeyboardInterrupt",
          "evalue": "ignored",
          "traceback": [
            "\u001b[0;31m---------------------------------------------------------------------------\u001b[0m",
            "\u001b[0;31mKeyboardInterrupt\u001b[0m                         Traceback (most recent call last)",
            "\u001b[0;32m<ipython-input-11-b59cce52ee07>\u001b[0m in \u001b[0;36m<module>\u001b[0;34m()\u001b[0m\n\u001b[1;32m      1\u001b[0m \u001b[0;31m# collect the data\u001b[0m\u001b[0;34m\u001b[0m\u001b[0;34m\u001b[0m\u001b[0;34m\u001b[0m\u001b[0m\n\u001b[1;32m      2\u001b[0m \u001b[0mbegin\u001b[0m \u001b[0;34m=\u001b[0m \u001b[0;36m2013\u001b[0m\u001b[0;34m\u001b[0m\u001b[0;34m\u001b[0m\u001b[0m\n\u001b[0;32m----> 3\u001b[0;31m \u001b[0moriginal_stats\u001b[0m \u001b[0;34m=\u001b[0m \u001b[0mget_weekly_stats\u001b[0m\u001b[0;34m(\u001b[0m\u001b[0mbegin\u001b[0m\u001b[0;34m)\u001b[0m\u001b[0;34m\u001b[0m\u001b[0;34m\u001b[0m\u001b[0m\n\u001b[0m\u001b[1;32m      4\u001b[0m \u001b[0moriginal_games\u001b[0m \u001b[0;34m=\u001b[0m \u001b[0mget_data\u001b[0m\u001b[0;34m(\u001b[0m\u001b[0;34m'games'\u001b[0m\u001b[0;34m,\u001b[0m \u001b[0mbegin\u001b[0m\u001b[0;34m)\u001b[0m\u001b[0;34m\u001b[0m\u001b[0;34m\u001b[0m\u001b[0m\n\u001b[1;32m      5\u001b[0m \u001b[0moriginal_teams\u001b[0m \u001b[0;34m=\u001b[0m \u001b[0mpd\u001b[0m\u001b[0;34m.\u001b[0m\u001b[0mread_json\u001b[0m\u001b[0;34m(\u001b[0m\u001b[0;34m'https://api.collegefootballdata.com/teams'\u001b[0m\u001b[0;34m)\u001b[0m\u001b[0;34m\u001b[0m\u001b[0;34m\u001b[0m\u001b[0m\n",
            "\u001b[0;32m<ipython-input-10-123e6587a050>\u001b[0m in \u001b[0;36mget_weekly_stats\u001b[0;34m(start_year)\u001b[0m\n\u001b[1;32m      2\u001b[0m   \u001b[0mframes\u001b[0m \u001b[0;34m=\u001b[0m \u001b[0;34m[\u001b[0m\u001b[0;34m]\u001b[0m\u001b[0;34m\u001b[0m\u001b[0;34m\u001b[0m\u001b[0m\n\u001b[1;32m      3\u001b[0m   \u001b[0;32mfor\u001b[0m \u001b[0mweek\u001b[0m \u001b[0;32min\u001b[0m \u001b[0mrange\u001b[0m\u001b[0;34m(\u001b[0m\u001b[0;36m1\u001b[0m\u001b[0;34m,\u001b[0m \u001b[0;36m16\u001b[0m\u001b[0;34m)\u001b[0m\u001b[0;34m:\u001b[0m\u001b[0;34m\u001b[0m\u001b[0;34m\u001b[0m\u001b[0m\n\u001b[0;32m----> 4\u001b[0;31m     \u001b[0mweek_frame\u001b[0m \u001b[0;34m=\u001b[0m \u001b[0mget_data\u001b[0m\u001b[0;34m(\u001b[0m\u001b[0;34m'stats/season'\u001b[0m\u001b[0;34m,\u001b[0m \u001b[0mstart_year\u001b[0m\u001b[0;34m,\u001b[0m \u001b[0mweek\u001b[0m\u001b[0;34m=\u001b[0m\u001b[0mweek\u001b[0m\u001b[0;34m)\u001b[0m\u001b[0;34m\u001b[0m\u001b[0;34m\u001b[0m\u001b[0m\n\u001b[0m\u001b[1;32m      5\u001b[0m     \u001b[0mweek_frame\u001b[0m\u001b[0;34m[\u001b[0m\u001b[0;34m'week'\u001b[0m\u001b[0;34m]\u001b[0m \u001b[0;34m=\u001b[0m \u001b[0mweek\u001b[0m\u001b[0;34m+\u001b[0m\u001b[0;36m1\u001b[0m\u001b[0;34m\u001b[0m\u001b[0;34m\u001b[0m\u001b[0m\n\u001b[1;32m      6\u001b[0m     \u001b[0mframes\u001b[0m\u001b[0;34m.\u001b[0m\u001b[0mappend\u001b[0m\u001b[0;34m(\u001b[0m\u001b[0mweek_frame\u001b[0m\u001b[0;34m)\u001b[0m\u001b[0;34m\u001b[0m\u001b[0;34m\u001b[0m\u001b[0m\n",
            "\u001b[0;32m<ipython-input-9-3ab64c9a372d>\u001b[0m in \u001b[0;36mget_data\u001b[0;34m(data_type, start_year, end_year, week)\u001b[0m\n\u001b[1;32m      9\u001b[0m           \u001b[0;31m# url += '&startWeek=%d' % start\u001b[0m\u001b[0;34m\u001b[0m\u001b[0;34m\u001b[0m\u001b[0;34m\u001b[0m\u001b[0m\n\u001b[1;32m     10\u001b[0m           \u001b[0murl\u001b[0m \u001b[0;34m+=\u001b[0m \u001b[0;34m'&endWeek=%d'\u001b[0m \u001b[0;34m%\u001b[0m \u001b[0mweek\u001b[0m\u001b[0;34m\u001b[0m\u001b[0;34m\u001b[0m\u001b[0m\n\u001b[0;32m---> 11\u001b[0;31m         \u001b[0mframes\u001b[0m\u001b[0;34m.\u001b[0m\u001b[0mappend\u001b[0m\u001b[0;34m(\u001b[0m\u001b[0mpd\u001b[0m\u001b[0;34m.\u001b[0m\u001b[0mread_json\u001b[0m\u001b[0;34m(\u001b[0m\u001b[0murl\u001b[0m\u001b[0;34m)\u001b[0m\u001b[0;34m)\u001b[0m\u001b[0;34m\u001b[0m\u001b[0;34m\u001b[0m\u001b[0m\n\u001b[0m\u001b[1;32m     12\u001b[0m     \u001b[0;32mreturn\u001b[0m \u001b[0mpd\u001b[0m\u001b[0;34m.\u001b[0m\u001b[0mconcat\u001b[0m\u001b[0;34m(\u001b[0m\u001b[0mframes\u001b[0m\u001b[0;34m)\u001b[0m\u001b[0;34m\u001b[0m\u001b[0;34m\u001b[0m\u001b[0m\n",
            "\u001b[0;32m/usr/local/lib/python3.7/dist-packages/pandas/util/_decorators.py\u001b[0m in \u001b[0;36mwrapper\u001b[0;34m(*args, **kwargs)\u001b[0m\n\u001b[1;32m    197\u001b[0m                 \u001b[0;32melse\u001b[0m\u001b[0;34m:\u001b[0m\u001b[0;34m\u001b[0m\u001b[0;34m\u001b[0m\u001b[0m\n\u001b[1;32m    198\u001b[0m                     \u001b[0mkwargs\u001b[0m\u001b[0;34m[\u001b[0m\u001b[0mnew_arg_name\u001b[0m\u001b[0;34m]\u001b[0m \u001b[0;34m=\u001b[0m \u001b[0mnew_arg_value\u001b[0m\u001b[0;34m\u001b[0m\u001b[0;34m\u001b[0m\u001b[0m\n\u001b[0;32m--> 199\u001b[0;31m             \u001b[0;32mreturn\u001b[0m \u001b[0mfunc\u001b[0m\u001b[0;34m(\u001b[0m\u001b[0;34m*\u001b[0m\u001b[0margs\u001b[0m\u001b[0;34m,\u001b[0m \u001b[0;34m**\u001b[0m\u001b[0mkwargs\u001b[0m\u001b[0;34m)\u001b[0m\u001b[0;34m\u001b[0m\u001b[0;34m\u001b[0m\u001b[0m\n\u001b[0m\u001b[1;32m    200\u001b[0m \u001b[0;34m\u001b[0m\u001b[0m\n\u001b[1;32m    201\u001b[0m         \u001b[0;32mreturn\u001b[0m \u001b[0mcast\u001b[0m\u001b[0;34m(\u001b[0m\u001b[0mF\u001b[0m\u001b[0;34m,\u001b[0m \u001b[0mwrapper\u001b[0m\u001b[0;34m)\u001b[0m\u001b[0;34m\u001b[0m\u001b[0;34m\u001b[0m\u001b[0m\n",
            "\u001b[0;32m/usr/local/lib/python3.7/dist-packages/pandas/util/_decorators.py\u001b[0m in \u001b[0;36mwrapper\u001b[0;34m(*args, **kwargs)\u001b[0m\n\u001b[1;32m    294\u001b[0m                 )\n\u001b[1;32m    295\u001b[0m                 \u001b[0mwarnings\u001b[0m\u001b[0;34m.\u001b[0m\u001b[0mwarn\u001b[0m\u001b[0;34m(\u001b[0m\u001b[0mmsg\u001b[0m\u001b[0;34m,\u001b[0m \u001b[0mFutureWarning\u001b[0m\u001b[0;34m,\u001b[0m \u001b[0mstacklevel\u001b[0m\u001b[0;34m=\u001b[0m\u001b[0mstacklevel\u001b[0m\u001b[0;34m)\u001b[0m\u001b[0;34m\u001b[0m\u001b[0;34m\u001b[0m\u001b[0m\n\u001b[0;32m--> 296\u001b[0;31m             \u001b[0;32mreturn\u001b[0m \u001b[0mfunc\u001b[0m\u001b[0;34m(\u001b[0m\u001b[0;34m*\u001b[0m\u001b[0margs\u001b[0m\u001b[0;34m,\u001b[0m \u001b[0;34m**\u001b[0m\u001b[0mkwargs\u001b[0m\u001b[0;34m)\u001b[0m\u001b[0;34m\u001b[0m\u001b[0;34m\u001b[0m\u001b[0m\n\u001b[0m\u001b[1;32m    297\u001b[0m \u001b[0;34m\u001b[0m\u001b[0m\n\u001b[1;32m    298\u001b[0m         \u001b[0;32mreturn\u001b[0m \u001b[0mwrapper\u001b[0m\u001b[0;34m\u001b[0m\u001b[0;34m\u001b[0m\u001b[0m\n",
            "\u001b[0;32m/usr/local/lib/python3.7/dist-packages/pandas/io/json/_json.py\u001b[0m in \u001b[0;36mread_json\u001b[0;34m(path_or_buf, orient, typ, dtype, convert_axes, convert_dates, keep_default_dates, numpy, precise_float, date_unit, encoding, lines, chunksize, compression, nrows)\u001b[0m\n\u001b[1;32m    592\u001b[0m     \u001b[0mcompression\u001b[0m \u001b[0;34m=\u001b[0m \u001b[0minfer_compression\u001b[0m\u001b[0;34m(\u001b[0m\u001b[0mpath_or_buf\u001b[0m\u001b[0;34m,\u001b[0m \u001b[0mcompression\u001b[0m\u001b[0;34m)\u001b[0m\u001b[0;34m\u001b[0m\u001b[0;34m\u001b[0m\u001b[0m\n\u001b[1;32m    593\u001b[0m     filepath_or_buffer, _, compression, should_close = get_filepath_or_buffer(\n\u001b[0;32m--> 594\u001b[0;31m         \u001b[0mpath_or_buf\u001b[0m\u001b[0;34m,\u001b[0m \u001b[0mencoding\u001b[0m\u001b[0;34m=\u001b[0m\u001b[0mencoding\u001b[0m\u001b[0;34m,\u001b[0m \u001b[0mcompression\u001b[0m\u001b[0;34m=\u001b[0m\u001b[0mcompression\u001b[0m\u001b[0;34m\u001b[0m\u001b[0;34m\u001b[0m\u001b[0m\n\u001b[0m\u001b[1;32m    595\u001b[0m     )\n\u001b[1;32m    596\u001b[0m \u001b[0;34m\u001b[0m\u001b[0m\n",
            "\u001b[0;32m/usr/local/lib/python3.7/dist-packages/pandas/io/common.py\u001b[0m in \u001b[0;36mget_filepath_or_buffer\u001b[0;34m(filepath_or_buffer, encoding, compression, mode, storage_options)\u001b[0m\n\u001b[1;32m    181\u001b[0m     \u001b[0;32mif\u001b[0m \u001b[0misinstance\u001b[0m\u001b[0;34m(\u001b[0m\u001b[0mfilepath_or_buffer\u001b[0m\u001b[0;34m,\u001b[0m \u001b[0mstr\u001b[0m\u001b[0;34m)\u001b[0m \u001b[0;32mand\u001b[0m \u001b[0mis_url\u001b[0m\u001b[0;34m(\u001b[0m\u001b[0mfilepath_or_buffer\u001b[0m\u001b[0;34m)\u001b[0m\u001b[0;34m:\u001b[0m\u001b[0;34m\u001b[0m\u001b[0;34m\u001b[0m\u001b[0m\n\u001b[1;32m    182\u001b[0m         \u001b[0;31m# TODO: fsspec can also handle HTTP via requests, but leaving this unchanged\u001b[0m\u001b[0;34m\u001b[0m\u001b[0;34m\u001b[0m\u001b[0;34m\u001b[0m\u001b[0m\n\u001b[0;32m--> 183\u001b[0;31m         \u001b[0mreq\u001b[0m \u001b[0;34m=\u001b[0m \u001b[0murlopen\u001b[0m\u001b[0;34m(\u001b[0m\u001b[0mfilepath_or_buffer\u001b[0m\u001b[0;34m)\u001b[0m\u001b[0;34m\u001b[0m\u001b[0;34m\u001b[0m\u001b[0m\n\u001b[0m\u001b[1;32m    184\u001b[0m         \u001b[0mcontent_encoding\u001b[0m \u001b[0;34m=\u001b[0m \u001b[0mreq\u001b[0m\u001b[0;34m.\u001b[0m\u001b[0mheaders\u001b[0m\u001b[0;34m.\u001b[0m\u001b[0mget\u001b[0m\u001b[0;34m(\u001b[0m\u001b[0;34m\"Content-Encoding\"\u001b[0m\u001b[0;34m,\u001b[0m \u001b[0;32mNone\u001b[0m\u001b[0;34m)\u001b[0m\u001b[0;34m\u001b[0m\u001b[0;34m\u001b[0m\u001b[0m\n\u001b[1;32m    185\u001b[0m         \u001b[0;32mif\u001b[0m \u001b[0mcontent_encoding\u001b[0m \u001b[0;34m==\u001b[0m \u001b[0;34m\"gzip\"\u001b[0m\u001b[0;34m:\u001b[0m\u001b[0;34m\u001b[0m\u001b[0;34m\u001b[0m\u001b[0m\n",
            "\u001b[0;32m/usr/local/lib/python3.7/dist-packages/pandas/io/common.py\u001b[0m in \u001b[0;36murlopen\u001b[0;34m(*args, **kwargs)\u001b[0m\n\u001b[1;32m    135\u001b[0m     \u001b[0;32mimport\u001b[0m \u001b[0murllib\u001b[0m\u001b[0;34m.\u001b[0m\u001b[0mrequest\u001b[0m\u001b[0;34m\u001b[0m\u001b[0;34m\u001b[0m\u001b[0m\n\u001b[1;32m    136\u001b[0m \u001b[0;34m\u001b[0m\u001b[0m\n\u001b[0;32m--> 137\u001b[0;31m     \u001b[0;32mreturn\u001b[0m \u001b[0murllib\u001b[0m\u001b[0;34m.\u001b[0m\u001b[0mrequest\u001b[0m\u001b[0;34m.\u001b[0m\u001b[0murlopen\u001b[0m\u001b[0;34m(\u001b[0m\u001b[0;34m*\u001b[0m\u001b[0margs\u001b[0m\u001b[0;34m,\u001b[0m \u001b[0;34m**\u001b[0m\u001b[0mkwargs\u001b[0m\u001b[0;34m)\u001b[0m\u001b[0;34m\u001b[0m\u001b[0;34m\u001b[0m\u001b[0m\n\u001b[0m\u001b[1;32m    138\u001b[0m \u001b[0;34m\u001b[0m\u001b[0m\n\u001b[1;32m    139\u001b[0m \u001b[0;34m\u001b[0m\u001b[0m\n",
            "\u001b[0;32m/usr/lib/python3.7/urllib/request.py\u001b[0m in \u001b[0;36murlopen\u001b[0;34m(url, data, timeout, cafile, capath, cadefault, context)\u001b[0m\n\u001b[1;32m    220\u001b[0m     \u001b[0;32melse\u001b[0m\u001b[0;34m:\u001b[0m\u001b[0;34m\u001b[0m\u001b[0;34m\u001b[0m\u001b[0m\n\u001b[1;32m    221\u001b[0m         \u001b[0mopener\u001b[0m \u001b[0;34m=\u001b[0m \u001b[0m_opener\u001b[0m\u001b[0;34m\u001b[0m\u001b[0;34m\u001b[0m\u001b[0m\n\u001b[0;32m--> 222\u001b[0;31m     \u001b[0;32mreturn\u001b[0m \u001b[0mopener\u001b[0m\u001b[0;34m.\u001b[0m\u001b[0mopen\u001b[0m\u001b[0;34m(\u001b[0m\u001b[0murl\u001b[0m\u001b[0;34m,\u001b[0m \u001b[0mdata\u001b[0m\u001b[0;34m,\u001b[0m \u001b[0mtimeout\u001b[0m\u001b[0;34m)\u001b[0m\u001b[0;34m\u001b[0m\u001b[0;34m\u001b[0m\u001b[0m\n\u001b[0m\u001b[1;32m    223\u001b[0m \u001b[0;34m\u001b[0m\u001b[0m\n\u001b[1;32m    224\u001b[0m \u001b[0;32mdef\u001b[0m \u001b[0minstall_opener\u001b[0m\u001b[0;34m(\u001b[0m\u001b[0mopener\u001b[0m\u001b[0;34m)\u001b[0m\u001b[0;34m:\u001b[0m\u001b[0;34m\u001b[0m\u001b[0;34m\u001b[0m\u001b[0m\n",
            "\u001b[0;32m/usr/lib/python3.7/urllib/request.py\u001b[0m in \u001b[0;36mopen\u001b[0;34m(self, fullurl, data, timeout)\u001b[0m\n\u001b[1;32m    523\u001b[0m             \u001b[0mreq\u001b[0m \u001b[0;34m=\u001b[0m \u001b[0mmeth\u001b[0m\u001b[0;34m(\u001b[0m\u001b[0mreq\u001b[0m\u001b[0;34m)\u001b[0m\u001b[0;34m\u001b[0m\u001b[0;34m\u001b[0m\u001b[0m\n\u001b[1;32m    524\u001b[0m \u001b[0;34m\u001b[0m\u001b[0m\n\u001b[0;32m--> 525\u001b[0;31m         \u001b[0mresponse\u001b[0m \u001b[0;34m=\u001b[0m \u001b[0mself\u001b[0m\u001b[0;34m.\u001b[0m\u001b[0m_open\u001b[0m\u001b[0;34m(\u001b[0m\u001b[0mreq\u001b[0m\u001b[0;34m,\u001b[0m \u001b[0mdata\u001b[0m\u001b[0;34m)\u001b[0m\u001b[0;34m\u001b[0m\u001b[0;34m\u001b[0m\u001b[0m\n\u001b[0m\u001b[1;32m    526\u001b[0m \u001b[0;34m\u001b[0m\u001b[0m\n\u001b[1;32m    527\u001b[0m         \u001b[0;31m# post-process response\u001b[0m\u001b[0;34m\u001b[0m\u001b[0;34m\u001b[0m\u001b[0;34m\u001b[0m\u001b[0m\n",
            "\u001b[0;32m/usr/lib/python3.7/urllib/request.py\u001b[0m in \u001b[0;36m_open\u001b[0;34m(self, req, data)\u001b[0m\n\u001b[1;32m    541\u001b[0m         \u001b[0mprotocol\u001b[0m \u001b[0;34m=\u001b[0m \u001b[0mreq\u001b[0m\u001b[0;34m.\u001b[0m\u001b[0mtype\u001b[0m\u001b[0;34m\u001b[0m\u001b[0;34m\u001b[0m\u001b[0m\n\u001b[1;32m    542\u001b[0m         result = self._call_chain(self.handle_open, protocol, protocol +\n\u001b[0;32m--> 543\u001b[0;31m                                   '_open', req)\n\u001b[0m\u001b[1;32m    544\u001b[0m         \u001b[0;32mif\u001b[0m \u001b[0mresult\u001b[0m\u001b[0;34m:\u001b[0m\u001b[0;34m\u001b[0m\u001b[0;34m\u001b[0m\u001b[0m\n\u001b[1;32m    545\u001b[0m             \u001b[0;32mreturn\u001b[0m \u001b[0mresult\u001b[0m\u001b[0;34m\u001b[0m\u001b[0;34m\u001b[0m\u001b[0m\n",
            "\u001b[0;32m/usr/lib/python3.7/urllib/request.py\u001b[0m in \u001b[0;36m_call_chain\u001b[0;34m(self, chain, kind, meth_name, *args)\u001b[0m\n\u001b[1;32m    501\u001b[0m         \u001b[0;32mfor\u001b[0m \u001b[0mhandler\u001b[0m \u001b[0;32min\u001b[0m \u001b[0mhandlers\u001b[0m\u001b[0;34m:\u001b[0m\u001b[0;34m\u001b[0m\u001b[0;34m\u001b[0m\u001b[0m\n\u001b[1;32m    502\u001b[0m             \u001b[0mfunc\u001b[0m \u001b[0;34m=\u001b[0m \u001b[0mgetattr\u001b[0m\u001b[0;34m(\u001b[0m\u001b[0mhandler\u001b[0m\u001b[0;34m,\u001b[0m \u001b[0mmeth_name\u001b[0m\u001b[0;34m)\u001b[0m\u001b[0;34m\u001b[0m\u001b[0;34m\u001b[0m\u001b[0m\n\u001b[0;32m--> 503\u001b[0;31m             \u001b[0mresult\u001b[0m \u001b[0;34m=\u001b[0m \u001b[0mfunc\u001b[0m\u001b[0;34m(\u001b[0m\u001b[0;34m*\u001b[0m\u001b[0margs\u001b[0m\u001b[0;34m)\u001b[0m\u001b[0;34m\u001b[0m\u001b[0;34m\u001b[0m\u001b[0m\n\u001b[0m\u001b[1;32m    504\u001b[0m             \u001b[0;32mif\u001b[0m \u001b[0mresult\u001b[0m \u001b[0;32mis\u001b[0m \u001b[0;32mnot\u001b[0m \u001b[0;32mNone\u001b[0m\u001b[0;34m:\u001b[0m\u001b[0;34m\u001b[0m\u001b[0;34m\u001b[0m\u001b[0m\n\u001b[1;32m    505\u001b[0m                 \u001b[0;32mreturn\u001b[0m \u001b[0mresult\u001b[0m\u001b[0;34m\u001b[0m\u001b[0;34m\u001b[0m\u001b[0m\n",
            "\u001b[0;32m/usr/lib/python3.7/urllib/request.py\u001b[0m in \u001b[0;36mhttps_open\u001b[0;34m(self, req)\u001b[0m\n\u001b[1;32m   1391\u001b[0m         \u001b[0;32mdef\u001b[0m \u001b[0mhttps_open\u001b[0m\u001b[0;34m(\u001b[0m\u001b[0mself\u001b[0m\u001b[0;34m,\u001b[0m \u001b[0mreq\u001b[0m\u001b[0;34m)\u001b[0m\u001b[0;34m:\u001b[0m\u001b[0;34m\u001b[0m\u001b[0;34m\u001b[0m\u001b[0m\n\u001b[1;32m   1392\u001b[0m             return self.do_open(http.client.HTTPSConnection, req,\n\u001b[0;32m-> 1393\u001b[0;31m                 context=self._context, check_hostname=self._check_hostname)\n\u001b[0m\u001b[1;32m   1394\u001b[0m \u001b[0;34m\u001b[0m\u001b[0m\n\u001b[1;32m   1395\u001b[0m         \u001b[0mhttps_request\u001b[0m \u001b[0;34m=\u001b[0m \u001b[0mAbstractHTTPHandler\u001b[0m\u001b[0;34m.\u001b[0m\u001b[0mdo_request_\u001b[0m\u001b[0;34m\u001b[0m\u001b[0;34m\u001b[0m\u001b[0m\n",
            "\u001b[0;32m/usr/lib/python3.7/urllib/request.py\u001b[0m in \u001b[0;36mdo_open\u001b[0;34m(self, http_class, req, **http_conn_args)\u001b[0m\n\u001b[1;32m   1348\u001b[0m             \u001b[0;32mtry\u001b[0m\u001b[0;34m:\u001b[0m\u001b[0;34m\u001b[0m\u001b[0;34m\u001b[0m\u001b[0m\n\u001b[1;32m   1349\u001b[0m                 h.request(req.get_method(), req.selector, req.data, headers,\n\u001b[0;32m-> 1350\u001b[0;31m                           encode_chunked=req.has_header('Transfer-encoding'))\n\u001b[0m\u001b[1;32m   1351\u001b[0m             \u001b[0;32mexcept\u001b[0m \u001b[0mOSError\u001b[0m \u001b[0;32mas\u001b[0m \u001b[0merr\u001b[0m\u001b[0;34m:\u001b[0m \u001b[0;31m# timeout error\u001b[0m\u001b[0;34m\u001b[0m\u001b[0;34m\u001b[0m\u001b[0m\n\u001b[1;32m   1352\u001b[0m                 \u001b[0;32mraise\u001b[0m \u001b[0mURLError\u001b[0m\u001b[0;34m(\u001b[0m\u001b[0merr\u001b[0m\u001b[0;34m)\u001b[0m\u001b[0;34m\u001b[0m\u001b[0;34m\u001b[0m\u001b[0m\n",
            "\u001b[0;32m/usr/lib/python3.7/http/client.py\u001b[0m in \u001b[0;36mrequest\u001b[0;34m(self, method, url, body, headers, encode_chunked)\u001b[0m\n\u001b[1;32m   1275\u001b[0m                 encode_chunked=False):\n\u001b[1;32m   1276\u001b[0m         \u001b[0;34m\"\"\"Send a complete request to the server.\"\"\"\u001b[0m\u001b[0;34m\u001b[0m\u001b[0;34m\u001b[0m\u001b[0m\n\u001b[0;32m-> 1277\u001b[0;31m         \u001b[0mself\u001b[0m\u001b[0;34m.\u001b[0m\u001b[0m_send_request\u001b[0m\u001b[0;34m(\u001b[0m\u001b[0mmethod\u001b[0m\u001b[0;34m,\u001b[0m \u001b[0murl\u001b[0m\u001b[0;34m,\u001b[0m \u001b[0mbody\u001b[0m\u001b[0;34m,\u001b[0m \u001b[0mheaders\u001b[0m\u001b[0;34m,\u001b[0m \u001b[0mencode_chunked\u001b[0m\u001b[0;34m)\u001b[0m\u001b[0;34m\u001b[0m\u001b[0;34m\u001b[0m\u001b[0m\n\u001b[0m\u001b[1;32m   1278\u001b[0m \u001b[0;34m\u001b[0m\u001b[0m\n\u001b[1;32m   1279\u001b[0m     \u001b[0;32mdef\u001b[0m \u001b[0m_send_request\u001b[0m\u001b[0;34m(\u001b[0m\u001b[0mself\u001b[0m\u001b[0;34m,\u001b[0m \u001b[0mmethod\u001b[0m\u001b[0;34m,\u001b[0m \u001b[0murl\u001b[0m\u001b[0;34m,\u001b[0m \u001b[0mbody\u001b[0m\u001b[0;34m,\u001b[0m \u001b[0mheaders\u001b[0m\u001b[0;34m,\u001b[0m \u001b[0mencode_chunked\u001b[0m\u001b[0;34m)\u001b[0m\u001b[0;34m:\u001b[0m\u001b[0;34m\u001b[0m\u001b[0;34m\u001b[0m\u001b[0m\n",
            "\u001b[0;32m/usr/lib/python3.7/http/client.py\u001b[0m in \u001b[0;36m_send_request\u001b[0;34m(self, method, url, body, headers, encode_chunked)\u001b[0m\n\u001b[1;32m   1321\u001b[0m             \u001b[0;31m# default charset of iso-8859-1.\u001b[0m\u001b[0;34m\u001b[0m\u001b[0;34m\u001b[0m\u001b[0;34m\u001b[0m\u001b[0m\n\u001b[1;32m   1322\u001b[0m             \u001b[0mbody\u001b[0m \u001b[0;34m=\u001b[0m \u001b[0m_encode\u001b[0m\u001b[0;34m(\u001b[0m\u001b[0mbody\u001b[0m\u001b[0;34m,\u001b[0m \u001b[0;34m'body'\u001b[0m\u001b[0;34m)\u001b[0m\u001b[0;34m\u001b[0m\u001b[0;34m\u001b[0m\u001b[0m\n\u001b[0;32m-> 1323\u001b[0;31m         \u001b[0mself\u001b[0m\u001b[0;34m.\u001b[0m\u001b[0mendheaders\u001b[0m\u001b[0;34m(\u001b[0m\u001b[0mbody\u001b[0m\u001b[0;34m,\u001b[0m \u001b[0mencode_chunked\u001b[0m\u001b[0;34m=\u001b[0m\u001b[0mencode_chunked\u001b[0m\u001b[0;34m)\u001b[0m\u001b[0;34m\u001b[0m\u001b[0;34m\u001b[0m\u001b[0m\n\u001b[0m\u001b[1;32m   1324\u001b[0m \u001b[0;34m\u001b[0m\u001b[0m\n\u001b[1;32m   1325\u001b[0m     \u001b[0;32mdef\u001b[0m \u001b[0mgetresponse\u001b[0m\u001b[0;34m(\u001b[0m\u001b[0mself\u001b[0m\u001b[0;34m)\u001b[0m\u001b[0;34m:\u001b[0m\u001b[0;34m\u001b[0m\u001b[0;34m\u001b[0m\u001b[0m\n",
            "\u001b[0;32m/usr/lib/python3.7/http/client.py\u001b[0m in \u001b[0;36mendheaders\u001b[0;34m(self, message_body, encode_chunked)\u001b[0m\n\u001b[1;32m   1270\u001b[0m         \u001b[0;32melse\u001b[0m\u001b[0;34m:\u001b[0m\u001b[0;34m\u001b[0m\u001b[0;34m\u001b[0m\u001b[0m\n\u001b[1;32m   1271\u001b[0m             \u001b[0;32mraise\u001b[0m \u001b[0mCannotSendHeader\u001b[0m\u001b[0;34m(\u001b[0m\u001b[0;34m)\u001b[0m\u001b[0;34m\u001b[0m\u001b[0;34m\u001b[0m\u001b[0m\n\u001b[0;32m-> 1272\u001b[0;31m         \u001b[0mself\u001b[0m\u001b[0;34m.\u001b[0m\u001b[0m_send_output\u001b[0m\u001b[0;34m(\u001b[0m\u001b[0mmessage_body\u001b[0m\u001b[0;34m,\u001b[0m \u001b[0mencode_chunked\u001b[0m\u001b[0;34m=\u001b[0m\u001b[0mencode_chunked\u001b[0m\u001b[0;34m)\u001b[0m\u001b[0;34m\u001b[0m\u001b[0;34m\u001b[0m\u001b[0m\n\u001b[0m\u001b[1;32m   1273\u001b[0m \u001b[0;34m\u001b[0m\u001b[0m\n\u001b[1;32m   1274\u001b[0m     def request(self, method, url, body=None, headers={}, *,\n",
            "\u001b[0;32m/usr/lib/python3.7/http/client.py\u001b[0m in \u001b[0;36m_send_output\u001b[0;34m(self, message_body, encode_chunked)\u001b[0m\n\u001b[1;32m   1030\u001b[0m         \u001b[0mmsg\u001b[0m \u001b[0;34m=\u001b[0m \u001b[0;34mb\"\\r\\n\"\u001b[0m\u001b[0;34m.\u001b[0m\u001b[0mjoin\u001b[0m\u001b[0;34m(\u001b[0m\u001b[0mself\u001b[0m\u001b[0;34m.\u001b[0m\u001b[0m_buffer\u001b[0m\u001b[0;34m)\u001b[0m\u001b[0;34m\u001b[0m\u001b[0;34m\u001b[0m\u001b[0m\n\u001b[1;32m   1031\u001b[0m         \u001b[0;32mdel\u001b[0m \u001b[0mself\u001b[0m\u001b[0;34m.\u001b[0m\u001b[0m_buffer\u001b[0m\u001b[0;34m[\u001b[0m\u001b[0;34m:\u001b[0m\u001b[0;34m]\u001b[0m\u001b[0;34m\u001b[0m\u001b[0;34m\u001b[0m\u001b[0m\n\u001b[0;32m-> 1032\u001b[0;31m         \u001b[0mself\u001b[0m\u001b[0;34m.\u001b[0m\u001b[0msend\u001b[0m\u001b[0;34m(\u001b[0m\u001b[0mmsg\u001b[0m\u001b[0;34m)\u001b[0m\u001b[0;34m\u001b[0m\u001b[0;34m\u001b[0m\u001b[0m\n\u001b[0m\u001b[1;32m   1033\u001b[0m \u001b[0;34m\u001b[0m\u001b[0m\n\u001b[1;32m   1034\u001b[0m         \u001b[0;32mif\u001b[0m \u001b[0mmessage_body\u001b[0m \u001b[0;32mis\u001b[0m \u001b[0;32mnot\u001b[0m \u001b[0;32mNone\u001b[0m\u001b[0;34m:\u001b[0m\u001b[0;34m\u001b[0m\u001b[0;34m\u001b[0m\u001b[0m\n",
            "\u001b[0;32m/usr/lib/python3.7/http/client.py\u001b[0m in \u001b[0;36msend\u001b[0;34m(self, data)\u001b[0m\n\u001b[1;32m    970\u001b[0m         \u001b[0;32mif\u001b[0m \u001b[0mself\u001b[0m\u001b[0;34m.\u001b[0m\u001b[0msock\u001b[0m \u001b[0;32mis\u001b[0m \u001b[0;32mNone\u001b[0m\u001b[0;34m:\u001b[0m\u001b[0;34m\u001b[0m\u001b[0;34m\u001b[0m\u001b[0m\n\u001b[1;32m    971\u001b[0m             \u001b[0;32mif\u001b[0m \u001b[0mself\u001b[0m\u001b[0;34m.\u001b[0m\u001b[0mauto_open\u001b[0m\u001b[0;34m:\u001b[0m\u001b[0;34m\u001b[0m\u001b[0;34m\u001b[0m\u001b[0m\n\u001b[0;32m--> 972\u001b[0;31m                 \u001b[0mself\u001b[0m\u001b[0;34m.\u001b[0m\u001b[0mconnect\u001b[0m\u001b[0;34m(\u001b[0m\u001b[0;34m)\u001b[0m\u001b[0;34m\u001b[0m\u001b[0;34m\u001b[0m\u001b[0m\n\u001b[0m\u001b[1;32m    973\u001b[0m             \u001b[0;32melse\u001b[0m\u001b[0;34m:\u001b[0m\u001b[0;34m\u001b[0m\u001b[0;34m\u001b[0m\u001b[0m\n\u001b[1;32m    974\u001b[0m                 \u001b[0;32mraise\u001b[0m \u001b[0mNotConnected\u001b[0m\u001b[0;34m(\u001b[0m\u001b[0;34m)\u001b[0m\u001b[0;34m\u001b[0m\u001b[0;34m\u001b[0m\u001b[0m\n",
            "\u001b[0;32m/usr/lib/python3.7/http/client.py\u001b[0m in \u001b[0;36mconnect\u001b[0;34m(self)\u001b[0m\n\u001b[1;32m   1437\u001b[0m             \u001b[0;34m\"Connect to a host on a given (SSL) port.\"\u001b[0m\u001b[0;34m\u001b[0m\u001b[0;34m\u001b[0m\u001b[0m\n\u001b[1;32m   1438\u001b[0m \u001b[0;34m\u001b[0m\u001b[0m\n\u001b[0;32m-> 1439\u001b[0;31m             \u001b[0msuper\u001b[0m\u001b[0;34m(\u001b[0m\u001b[0;34m)\u001b[0m\u001b[0;34m.\u001b[0m\u001b[0mconnect\u001b[0m\u001b[0;34m(\u001b[0m\u001b[0;34m)\u001b[0m\u001b[0;34m\u001b[0m\u001b[0;34m\u001b[0m\u001b[0m\n\u001b[0m\u001b[1;32m   1440\u001b[0m \u001b[0;34m\u001b[0m\u001b[0m\n\u001b[1;32m   1441\u001b[0m             \u001b[0;32mif\u001b[0m \u001b[0mself\u001b[0m\u001b[0;34m.\u001b[0m\u001b[0m_tunnel_host\u001b[0m\u001b[0;34m:\u001b[0m\u001b[0;34m\u001b[0m\u001b[0;34m\u001b[0m\u001b[0m\n",
            "\u001b[0;32m/usr/lib/python3.7/http/client.py\u001b[0m in \u001b[0;36mconnect\u001b[0;34m(self)\u001b[0m\n\u001b[1;32m    942\u001b[0m         \u001b[0;34m\"\"\"Connect to the host and port specified in __init__.\"\"\"\u001b[0m\u001b[0;34m\u001b[0m\u001b[0;34m\u001b[0m\u001b[0m\n\u001b[1;32m    943\u001b[0m         self.sock = self._create_connection(\n\u001b[0;32m--> 944\u001b[0;31m             (self.host,self.port), self.timeout, self.source_address)\n\u001b[0m\u001b[1;32m    945\u001b[0m         \u001b[0mself\u001b[0m\u001b[0;34m.\u001b[0m\u001b[0msock\u001b[0m\u001b[0;34m.\u001b[0m\u001b[0msetsockopt\u001b[0m\u001b[0;34m(\u001b[0m\u001b[0msocket\u001b[0m\u001b[0;34m.\u001b[0m\u001b[0mIPPROTO_TCP\u001b[0m\u001b[0;34m,\u001b[0m \u001b[0msocket\u001b[0m\u001b[0;34m.\u001b[0m\u001b[0mTCP_NODELAY\u001b[0m\u001b[0;34m,\u001b[0m \u001b[0;36m1\u001b[0m\u001b[0;34m)\u001b[0m\u001b[0;34m\u001b[0m\u001b[0;34m\u001b[0m\u001b[0m\n\u001b[1;32m    946\u001b[0m \u001b[0;34m\u001b[0m\u001b[0m\n",
            "\u001b[0;32m/usr/lib/python3.7/socket.py\u001b[0m in \u001b[0;36mcreate_connection\u001b[0;34m(address, timeout, source_address)\u001b[0m\n\u001b[1;32m    714\u001b[0m             \u001b[0;32mif\u001b[0m \u001b[0msource_address\u001b[0m\u001b[0;34m:\u001b[0m\u001b[0;34m\u001b[0m\u001b[0;34m\u001b[0m\u001b[0m\n\u001b[1;32m    715\u001b[0m                 \u001b[0msock\u001b[0m\u001b[0;34m.\u001b[0m\u001b[0mbind\u001b[0m\u001b[0;34m(\u001b[0m\u001b[0msource_address\u001b[0m\u001b[0;34m)\u001b[0m\u001b[0;34m\u001b[0m\u001b[0;34m\u001b[0m\u001b[0m\n\u001b[0;32m--> 716\u001b[0;31m             \u001b[0msock\u001b[0m\u001b[0;34m.\u001b[0m\u001b[0mconnect\u001b[0m\u001b[0;34m(\u001b[0m\u001b[0msa\u001b[0m\u001b[0;34m)\u001b[0m\u001b[0;34m\u001b[0m\u001b[0;34m\u001b[0m\u001b[0m\n\u001b[0m\u001b[1;32m    717\u001b[0m             \u001b[0;31m# Break explicitly a reference cycle\u001b[0m\u001b[0;34m\u001b[0m\u001b[0;34m\u001b[0m\u001b[0;34m\u001b[0m\u001b[0m\n\u001b[1;32m    718\u001b[0m             \u001b[0merr\u001b[0m \u001b[0;34m=\u001b[0m \u001b[0;32mNone\u001b[0m\u001b[0;34m\u001b[0m\u001b[0;34m\u001b[0m\u001b[0m\n",
            "\u001b[0;31mKeyboardInterrupt\u001b[0m: "
          ]
        }
      ]
    },
    {
      "cell_type": "code",
      "metadata": {
        "id": "XktiXvr3olJX"
      },
      "source": [
        "# get the games and calculate spread (result)\n",
        "games = original_games\n",
        "games = games.assign(result = (games.home_points-games.away_points))\n",
        "games = games.loc[:, games.columns.intersection(['id', 'season', 'week', 'home_team', 'away_team', 'result', 'excitement_index'])]\n",
        "\n",
        "# add pregame predictions\n",
        "spreads = original_spread.loc[:, original_spread.columns.intersection(['gameId', 'spread', 'homeWinProb'])]\n",
        "spreads.spread *= -1\n",
        "games = pd.merge(games, spreads, how='left', left_on=['id'], right_on=['gameId']).drop(['gameId'], axis=1)\n",
        "\n",
        "# get the list of stats\n",
        "stats = original_stats\n",
        "stats = stats.drop(columns=['conference'])\n",
        "w = stats.loc[(stats.team == 'Washington') & (stats.season == begin)]\n",
        "stat_cols = w.statName.to_list()\n",
        "stat_cols = list(set(stat_cols)) # remove duplicates\n",
        "stat_cols.sort()\n",
        "stat_cols.remove('games')\n",
        "print(stat_cols)\n",
        "\n",
        "# add each stat of both teams\n",
        "s = stats.loc[(stats.statName == 'games')]\n",
        "s = s.drop(columns=['statName'])\n",
        "games = pd.merge(games, s.rename(columns={'statValue': 'home_games'}), how='left', left_on=['season', 'home_team', 'week'], right_on=['season', 'team', 'week']).drop(['team'], axis=1)\n",
        "games = pd.merge(games, s.rename(columns={'statValue': 'away_games'}), how='left', left_on=['season', 'away_team', 'week'], right_on=['season', 'team', 'week']).drop(['team'], axis=1)\n",
        "\n",
        "for stat in stat_cols:\n",
        "  s = stats.loc[(stats.statName == stat)]\n",
        "  s = s.drop(columns=['statName'])\n",
        "  games = pd.merge(games, s.rename(columns={'statValue': 'home_'+stat}), how='left', left_on=['season', 'home_team', 'week'], right_on=['season', 'team', 'week']).drop(['team'], axis=1)\n",
        "  games = pd.merge(games, s.rename(columns={'statValue': 'away_'+stat}), how='left', left_on=['season', 'away_team', 'week'], right_on=['season', 'team', 'week']).drop(['team'], axis=1)\n",
        "  games = games.fillna(0)\n",
        "  games[stat] = (games['home_'+stat]/games.home_games) - (games['away_'+stat]/games.away_games)\n",
        "  games = games.drop(columns=['home_'+stat, 'away_'+stat])\n",
        "\n",
        "games = games.fillna(0)"
      ],
      "execution_count": null,
      "outputs": []
    },
    {
      "cell_type": "code",
      "metadata": {
        "id": "HGMQRCUjLlvN"
      },
      "source": [
        "# create the table for total points a team scored for and against before a given week\n",
        "points_per_game = original_teams.loc[:, original_teams.columns.intersection(['school'])]\n",
        "points_per_game['year'] = 2020\n",
        "one_season = points_per_game.copy()\n",
        "for year in range(2004, 2020):\n",
        "  temp = one_season.copy()\n",
        "  temp['year'] = year\n",
        "  points_per_game = pd.concat([points_per_game, temp], ignore_index=True)\n",
        "\n",
        "points_per_game[('points_for_week1')] = 0.0\n",
        "points_per_game[('points_against_week1')] = 0.0\n",
        "scores = original_games.loc[:, original_games.columns.intersection(['season', 'week', 'home_team', 'away_team', 'home_points', 'away_points'])]\n",
        "scores['week'] += 1\n",
        "for week in range(2, 16):\n",
        "  this_scores = scores.loc[scores.week == week]\n",
        "  this_scores = this_scores.rename(columns={'home_points': ('points_for_week%d' % week), 'away_points': ('points_against_week%d' % week)})\n",
        "  points_per_game = pd.merge(points_per_game, this_scores, how='left', left_on=['school', 'year'], right_on=['home_team', 'season']).drop(['home_team', 'away_team', 'season', 'week'], axis=1)\n",
        "  this_scores = scores.loc[scores.week == week]\n",
        "  this_scores = this_scores.rename(columns={'away_points': ('points_for_week%d' % week), 'home_points': ('points_against_week%d' % week)})\n",
        "  points_per_game = pd.merge(points_per_game, this_scores, how='left', left_on=['school', 'year'], right_on=['away_team', 'season']).drop(['home_team', 'away_team', 'season', 'week'], axis=1)\n",
        "  points_per_game = points_per_game.fillna(0)\n",
        "  points_per_game[('points_for_week%d' % week)] = points_per_game[('points_for_week%d_x' % week)] + points_per_game[('points_for_week%d_y' % week)]\n",
        "  points_per_game[('points_against_week%d' % week)] = points_per_game[('points_against_week%d_x' % week)] + points_per_game[('points_against_week%d_y' % week)]\n",
        "  points_per_game = points_per_game.drop(columns=[('points_for_week%d_x' % week), ('points_for_week%d_y' % week), ('points_against_week%d_x' % week), ('points_against_week%d_y' % week)])\n",
        "\n",
        "for week in range(2, 16):\n",
        "  points_per_game[('points_for_week%d' % week)] += points_per_game[('points_for_week%d' % (week-1))]\n",
        "  points_per_game[('points_against_week%d' % week)] += points_per_game[('points_against_week%d' % (week-1))]\n",
        "\n",
        "for week in range(1,16):\n",
        "  points = points_per_game.loc[:, points_per_game.columns.intersection(['year', 'school', ('points_for_week%d' % week), ('points_against_week%d' % week)])]\n",
        "  points = points.rename(columns={('points_for_week%d' % week): 'home_for', ('points_against_week%d' % week): 'home_against'})\n",
        "  points['week'] = week\n",
        "  games = pd.merge(games, points, how='left', left_on=['home_team', 'season', 'week'], right_on=['school', 'year', 'week']).drop(['school', 'year'], axis=1)\n",
        "  points = points.rename(columns={'home_for': 'away_for', 'home_against': 'away_against'})\n",
        "  games = pd.merge(games, points, how='left', left_on=['away_team', 'season', 'week'], right_on=['school', 'year', 'week']).drop(['school', 'year'], axis=1)\n",
        "  if (week > 1):\n",
        "    games['home_for'] = games['home_for_x'].fillna(0) + games['home_for_y'].fillna(0)\n",
        "    games['home_against'] = games['home_against_x'].fillna(0) + games['home_against_y'].fillna(0)\n",
        "    games['away_for'] = games['away_for_x'].fillna(0) + games['away_for_y'].fillna(0)\n",
        "    games['away_against'] = games['away_against_x'].fillna(0) + games['away_against_y'].fillna(0)\n",
        "    games = games.drop(columns=['home_for_x', 'home_for_y', 'home_against_x', 'home_against_y', 'away_for_x', 'away_for_y', 'away_against_x', 'away_against_y'])\n",
        "\n",
        "games['home_for'] /= games['home_games']\n",
        "games['home_against'] /= games['home_games']\n",
        "games['away_for'] /= games['away_games']\n",
        "games['away_against'] /= games['away_games']\n",
        "games = games.fillna(0)\n",
        "\n",
        "# points_per_game.loc[points_per_game.school == 'Washington']"
      ],
      "execution_count": null,
      "outputs": []
    },
    {
      "cell_type": "code",
      "metadata": {
        "id": "mO5O5r2aZie9"
      },
      "source": [
        "# add ap-top 25 rankings for each team, -1 if not ranked\n",
        "rankings = original_rankings.drop(columns = ['seasonType'])\n",
        "rankings['rank1_name'] = [d[0].get('poll') for d in rankings.polls]\n",
        "rankings['rank1_ranks'] = [d[0].get('ranks') for d in rankings.polls]\n",
        "rankings['rank2_name'] = [d[1].get('poll') for d in rankings.polls]\n",
        "rankings['rank2_ranks'] = [d[1].get('ranks') for d in rankings.polls]\n",
        "rankings.loc[rankings['rank1_name'] == 'AP Top 25', 'ap'] = rankings.loc[rankings['rank1_name'] == 'AP Top 25'].rank1_ranks\n",
        "rankings.loc[rankings['rank2_name'] == 'AP Top 25', 'ap'] = rankings.loc[rankings['rank2_name'] == 'AP Top 25'].rank2_ranks\n",
        "rankings = rankings.drop(columns=['rank1_name', 'rank2_name', 'rank1_ranks', 'rank2_ranks', 'polls'])\n",
        "rankings = rankings.reset_index(drop=True)\n",
        "rankings = rankings.explode('ap').reset_index(drop=True)\n",
        "rankings['school'] = [d.get('school') for d in rankings.ap]\n",
        "rankings['rank'] = [d.get('rank') for d in rankings.ap]\n",
        "rankings = rankings.drop(columns=['ap'])\n",
        "games = pd.merge(games, rankings.rename(columns={'rank': 'home_rank'}), how='left', left_on=['season', 'week', 'home_team'], right_on=['season', 'week', 'school']).drop(['school'], axis=1)\n",
        "games = pd.merge(games, rankings.rename(columns={'rank': 'away_rank'}), how='left', left_on=['season', 'week', 'away_team'], right_on=['season', 'week', 'school']).drop(['school'], axis=1)\n",
        "games = games.fillna(-1)\n"
      ],
      "execution_count": null,
      "outputs": []
    },
    {
      "cell_type": "code",
      "metadata": {
        "id": "URAp-fVEA8Rn"
      },
      "source": [
        "# Add record up to game\n",
        "# Create list of teams\n",
        "teams = pd.concat((games['home_team'], games['away_team'])).unique()\n",
        "\n",
        "# Create Team ID\n",
        "team_id = np.arange(0,len(teams))\n",
        "team2id = dict(zip(teams, team_id))\n",
        "\n",
        "num_seasons = len(games['season'].unique())\n",
        "season2id = dict(zip(games['season'].unique(), np.arange(0,num_seasons)))\n",
        "# Create Wins Lookup Table\n",
        "win_data = np.zeros((num_seasons, len(teams),17))\n",
        "#print(win_data.shape) #(season, team, week)\n",
        "\n",
        "# loop through every game in games df\n",
        "for k in range(len(games)):\n",
        "  home_team = games['home_team'][k]\n",
        "  away_team = games['away_team'][k]\n",
        "  result = np.sign(games['result'][k])\n",
        "  week = games['week'][k]\n",
        "  season = games['season'][k]\n",
        "  \n",
        "  home_id = team2id[home_team]\n",
        "  away_id = team2id[away_team]\n",
        "  seas_id = season2id[season]\n",
        "  if result == 1: # Home team won\n",
        "      win_data[seas_id, home_id, (week+1):] += 1\n",
        "  else: # Away team won\n",
        "      win_data[seas_id, away_id, (week+1):] += 1\n",
        "\n",
        "# populate games df\n",
        "away_wins = []\n",
        "home_wins = []\n",
        "for k in range(len(games)):\n",
        "    week = games['week'][k]\n",
        "    home = games['home_team'][k]\n",
        "    away = games['away_team'][k]\n",
        "    season = games['season'][k]\n",
        "    away_wins.append(win_data[season2id[season],team2id[away],week])\n",
        "    home_wins.append(win_data[season2id[season],team2id[home],week])\n",
        "    \n",
        "games['home_wins'] = home_wins/games.home_games\n",
        "games['away_wins'] = away_wins/games.away_games\n",
        "games = games.fillna(0)\n",
        "games.replace(np.inf, 0, inplace=True)\n",
        "games.replace(-np.inf, 0, inplace=True)\n",
        "games['win_difference'] = games['home_wins'] - games['away_wins']\n",
        "games = games.drop(columns=['home_wins', 'away_wins'])"
      ],
      "execution_count": null,
      "outputs": []
    },
    {
      "cell_type": "code",
      "metadata": {
        "id": "CWDx2UKm02LE"
      },
      "source": [
        "def split_data():\n",
        "  games_copy = games.copy()\n",
        "  test = games_copy.loc[games_copy.season == 2019]\n",
        "  valid = games_copy.loc[games_copy.season == 2018]\n",
        "  train = games_copy.loc[(games_copy.season != 2018) & (games_copy.season != 2019)]\n",
        "  return train, valid, test"
      ],
      "execution_count": null,
      "outputs": []
    },
    {
      "cell_type": "code",
      "metadata": {
        "id": "4HHeYhQuwkEj"
      },
      "source": [
        "torch.manual_seed(0)\n",
        "device = torch.device(\"cuda\")\n",
        "print('Using device', device)"
      ],
      "execution_count": null,
      "outputs": []
    },
    {
      "cell_type": "markdown",
      "metadata": {
        "id": "U9wuveVtsO-L"
      },
      "source": [
        "# Baseline Models<a name=\"baseline\"></a>"
      ]
    },
    {
      "cell_type": "markdown",
      "metadata": {
        "id": "MewJ9jzs6oYm"
      },
      "source": [
        "## Vegas RMSE<a name=\"vegas\"></a>"
      ]
    },
    {
      "cell_type": "code",
      "metadata": {
        "colab": {
          "base_uri": "https://localhost:8080/"
        },
        "id": "KzJNzK9-uGAd",
        "outputId": "3482a390-0d8d-499c-83af-2f661db1465a"
      },
      "source": [
        "games_copy = games.copy()\n",
        "vegas_in = games_copy.spread.to_numpy()\n",
        "vegas_out = games_copy.result.to_numpy()\n",
        "\n",
        "print('Vegas spread RMSE = %.2f points' % mean_squared_error(vegas_in, vegas_out, squared=False))\n",
        "\n",
        "vegas_pred = vegas_in\n",
        "vegas_pred[vegas_pred>0] = 1 # home win\n",
        "vegas_pred[vegas_pred<0] = 0 # away win\n",
        "\n",
        "truth = vegas_out\n",
        "truth[truth>0] =  1\n",
        "truth[truth<0] = 0\n",
        "\n",
        "print('Game winner accuracy = %.3f%%' % ((np.sum(vegas_pred==truth) / len(truth))*100.0))"
      ],
      "execution_count": null,
      "outputs": [
        {
          "output_type": "stream",
          "text": [
            "Vegas spread RMSE = 16.54 points\n",
            "Game winner accuracy = 75.742%\n"
          ],
          "name": "stdout"
        }
      ]
    },
    {
      "cell_type": "markdown",
      "metadata": {
        "id": "f94XS4VVXUET"
      },
      "source": [
        "## Simple linear baseline model<a name=\"simple-linear\"></a>"
      ]
    },
    {
      "cell_type": "code",
      "metadata": {
        "id": "DWqxzx_ST-Ej"
      },
      "source": [
        "train, valid, test = split_data()\n",
        "train_in = train.win_difference\n",
        "train_out = train.result\n",
        "\n",
        "train_in = train.win_difference.to_numpy()\n",
        "train_out = train.result.to_numpy()\n",
        "valid_in = valid.win_difference.to_numpy()\n",
        "valid_out = valid.result.to_numpy()\n",
        "baseline_model = LinearRegression().fit(train_in.reshape(-1, 1), train_out)"
      ],
      "execution_count": null,
      "outputs": []
    },
    {
      "cell_type": "code",
      "metadata": {
        "colab": {
          "base_uri": "https://localhost:8080/",
          "height": 314
        },
        "id": "qLLFds6-PMUo",
        "outputId": "7823d254-6093-47c3-e0bb-4b866394cd08"
      },
      "source": [
        "x = np.linspace(-1, 1, 500)\n",
        "y = baseline_model.coef_ * x + baseline_model.intercept_\n",
        "y = baseline_model.predict(x.reshape(-1, 1))\n",
        "\n",
        "plt.xlabel('win percentage difference')\n",
        "plt.ylabel('game result')\n",
        "plt.plot(train_in, train_out, '.', color='black')\n",
        "plt.plot(x, y, '-r', label=\"f(x) = %.3fx + %.3f\" % (baseline_model.coef_, baseline_model.intercept_))\n",
        "plt.legend()\n",
        "plt.grid()\n",
        "\n",
        "prediction = baseline_model.predict(valid_in.reshape(-1, 1))\n",
        "print('Spread RMSE = %.2f points' % mean_squared_error(valid_out, prediction, squared=False))\n",
        "\n",
        "temp_pred = prediction\n",
        "temp_pred[temp_pred>0] = 1\n",
        "temp_pred[temp_pred<0] = 0\n",
        "\n",
        "temp_tru = valid_out\n",
        "temp_tru[temp_tru>0] = 1\n",
        "temp_tru[temp_tru<0] = 0\n",
        "\n",
        "print('Game winner accuracy = %.3f%%' % ((np.sum(temp_pred==temp_tru) / len(temp_tru))*100.0))"
      ],
      "execution_count": null,
      "outputs": [
        {
          "output_type": "stream",
          "text": [
            "Spread RMSE = 21.19 points\n",
            "Game winner accuracy = 69.655%\n"
          ],
          "name": "stdout"
        },
        {
          "output_type": "display_data",
          "data": {
            "image/png": "[encoded data removed]",
            "text/plain": [
              "<Figure size 432x288 with 1 Axes>"
            ]
          },
          "metadata": {
            "tags": [],
            "needs_background": "light"
          }
        }
      ]
    },
    {
      "cell_type": "markdown",
      "metadata": {
        "id": "Q58rFM-zu6_d"
      },
      "source": [
        "# More Complex Models<a name=\"complex-models\"></a>"
      ]
    },
    {
      "cell_type": "markdown",
      "metadata": {
        "id": "Kyjyl17aXMdM"
      },
      "source": [
        "## Linear model with more features<a name=\"linear-complex\"></a>"
      ]
    },
    {
      "cell_type": "code",
      "metadata": {
        "colab": {
          "base_uri": "https://localhost:8080/",
          "height": 324
        },
        "id": "iNPFSuguJyee",
        "outputId": "634a842c-38b7-4ff2-88e5-854781d673f6"
      },
      "source": [
        "games.loc[(games.home_team == 'Washington') & (games.season == 2015)]"
      ],
      "execution_count": null,
      "outputs": [
        {
          "output_type": "execute_result",
          "data": {
            "text/html": [
              "<div>\n",
              "<style scoped>\n",
              "    .dataframe tbody tr th:only-of-type {\n",
              "        vertical-align: middle;\n",
              "    }\n",
              "\n",
              "    .dataframe tbody tr th {\n",
              "        vertical-align: top;\n",
              "    }\n",
              "\n",
              "    .dataframe thead th {\n",
              "        text-align: right;\n",
              "    }\n",
              "</style>\n",
              "<table border=\"1\" class=\"dataframe\">\n",
              "  <thead>\n",
              "    <tr style=\"text-align: right;\">\n",
              "      <th></th>\n",
              "      <th>id</th>\n",
              "      <th>season</th>\n",
              "      <th>week</th>\n",
              "      <th>home_team</th>\n",
              "      <th>away_team</th>\n",
              "      <th>excitement_index</th>\n",
              "      <th>result</th>\n",
              "      <th>spread</th>\n",
              "      <th>homeWinProb</th>\n",
              "      <th>home_games</th>\n",
              "      <th>away_games</th>\n",
              "      <th>firstDowns</th>\n",
              "      <th>fourthDownConversions</th>\n",
              "      <th>fourthDowns</th>\n",
              "      <th>fumblesLost</th>\n",
              "      <th>fumblesRecovered</th>\n",
              "      <th>interceptionTDs</th>\n",
              "      <th>interceptionYards</th>\n",
              "      <th>interceptions</th>\n",
              "      <th>kickReturnTDs</th>\n",
              "      <th>kickReturnYards</th>\n",
              "      <th>kickReturns</th>\n",
              "      <th>netPassingYards</th>\n",
              "      <th>passAttempts</th>\n",
              "      <th>passCompletions</th>\n",
              "      <th>passesIntercepted</th>\n",
              "      <th>passingTDs</th>\n",
              "      <th>penalties</th>\n",
              "      <th>penaltyYards</th>\n",
              "      <th>possessionTime</th>\n",
              "      <th>puntReturnTDs</th>\n",
              "      <th>puntReturnYards</th>\n",
              "      <th>puntReturns</th>\n",
              "      <th>rushingAttempts</th>\n",
              "      <th>rushingTDs</th>\n",
              "      <th>rushingYards</th>\n",
              "      <th>thirdDownConversions</th>\n",
              "      <th>thirdDowns</th>\n",
              "      <th>totalYards</th>\n",
              "      <th>turnovers</th>\n",
              "      <th>home_for</th>\n",
              "      <th>home_against</th>\n",
              "      <th>away_for</th>\n",
              "      <th>away_against</th>\n",
              "      <th>home_rank</th>\n",
              "      <th>away_rank</th>\n",
              "      <th>win_difference</th>\n",
              "    </tr>\n",
              "  </thead>\n",
              "  <tbody>\n",
              "    <tr>\n",
              "      <th>1752</th>\n",
              "      <td>400757020</td>\n",
              "      <td>2015</td>\n",
              "      <td>2</td>\n",
              "      <td>Washington</td>\n",
              "      <td>Sacramento State</td>\n",
              "      <td>0.450862</td>\n",
              "      <td>49.0</td>\n",
              "      <td>30.0</td>\n",
              "      <td>0.961</td>\n",
              "      <td>1.0</td>\n",
              "      <td>0.0</td>\n",
              "      <td>0.000000</td>\n",
              "      <td>0.000000</td>\n",
              "      <td>0.000000</td>\n",
              "      <td>0.000000</td>\n",
              "      <td>0.000000</td>\n",
              "      <td>0.000000</td>\n",
              "      <td>0.000000</td>\n",
              "      <td>0.000000</td>\n",
              "      <td>0.000</td>\n",
              "      <td>0.000000</td>\n",
              "      <td>0.000000</td>\n",
              "      <td>0.000000</td>\n",
              "      <td>0.000000</td>\n",
              "      <td>0.000000</td>\n",
              "      <td>0.000000</td>\n",
              "      <td>0.000000</td>\n",
              "      <td>0.000000</td>\n",
              "      <td>0.000000</td>\n",
              "      <td>0.000000</td>\n",
              "      <td>0.000000</td>\n",
              "      <td>0.000000</td>\n",
              "      <td>0.000000</td>\n",
              "      <td>0.000000</td>\n",
              "      <td>0.000000</td>\n",
              "      <td>0.000000</td>\n",
              "      <td>0.000000</td>\n",
              "      <td>0.000000</td>\n",
              "      <td>0.000000</td>\n",
              "      <td>0.000000</td>\n",
              "      <td>13.000000</td>\n",
              "      <td>16.000000</td>\n",
              "      <td>0.000000</td>\n",
              "      <td>0.000000</td>\n",
              "      <td>-1.0</td>\n",
              "      <td>-1.0</td>\n",
              "      <td>0.000000</td>\n",
              "    </tr>\n",
              "    <tr>\n",
              "      <th>1848</th>\n",
              "      <td>400757032</td>\n",
              "      <td>2015</td>\n",
              "      <td>3</td>\n",
              "      <td>Washington</td>\n",
              "      <td>Utah State</td>\n",
              "      <td>3.141362</td>\n",
              "      <td>14.0</td>\n",
              "      <td>3.5</td>\n",
              "      <td>0.582</td>\n",
              "      <td>2.0</td>\n",
              "      <td>2.0</td>\n",
              "      <td>-1.000000</td>\n",
              "      <td>1.000000</td>\n",
              "      <td>2.000000</td>\n",
              "      <td>0.000000</td>\n",
              "      <td>0.500000</td>\n",
              "      <td>0.000000</td>\n",
              "      <td>3.000000</td>\n",
              "      <td>-1.000000</td>\n",
              "      <td>0.000</td>\n",
              "      <td>24.500000</td>\n",
              "      <td>1.000000</td>\n",
              "      <td>55.000000</td>\n",
              "      <td>-4.000000</td>\n",
              "      <td>-0.500000</td>\n",
              "      <td>1.000000</td>\n",
              "      <td>0.000000</td>\n",
              "      <td>-4.500000</td>\n",
              "      <td>-61.000000</td>\n",
              "      <td>-136.500000</td>\n",
              "      <td>0.000000</td>\n",
              "      <td>-37.000000</td>\n",
              "      <td>-4.000000</td>\n",
              "      <td>-4.500000</td>\n",
              "      <td>2.500000</td>\n",
              "      <td>-5.000000</td>\n",
              "      <td>-1.000000</td>\n",
              "      <td>-3.000000</td>\n",
              "      <td>50.000000</td>\n",
              "      <td>-1.000000</td>\n",
              "      <td>31.000000</td>\n",
              "      <td>8.000000</td>\n",
              "      <td>13.000000</td>\n",
              "      <td>16.500000</td>\n",
              "      <td>-1.0</td>\n",
              "      <td>-1.0</td>\n",
              "      <td>0.000000</td>\n",
              "    </tr>\n",
              "    <tr>\n",
              "      <th>1915</th>\n",
              "      <td>400757040</td>\n",
              "      <td>2015</td>\n",
              "      <td>4</td>\n",
              "      <td>Washington</td>\n",
              "      <td>California</td>\n",
              "      <td>5.311134</td>\n",
              "      <td>-6.0</td>\n",
              "      <td>-2.0</td>\n",
              "      <td>0.453</td>\n",
              "      <td>3.0</td>\n",
              "      <td>3.0</td>\n",
              "      <td>-9.000000</td>\n",
              "      <td>-0.666667</td>\n",
              "      <td>0.333333</td>\n",
              "      <td>0.000000</td>\n",
              "      <td>-0.333333</td>\n",
              "      <td>-0.666667</td>\n",
              "      <td>19.333333</td>\n",
              "      <td>-0.333333</td>\n",
              "      <td>0.000</td>\n",
              "      <td>24.333333</td>\n",
              "      <td>1.000000</td>\n",
              "      <td>-72.000000</td>\n",
              "      <td>-6.666667</td>\n",
              "      <td>-6.333333</td>\n",
              "      <td>-1.333333</td>\n",
              "      <td>-1.666667</td>\n",
              "      <td>-1.000000</td>\n",
              "      <td>-12.000000</td>\n",
              "      <td>-112.333333</td>\n",
              "      <td>0.333333</td>\n",
              "      <td>35.000000</td>\n",
              "      <td>0.333333</td>\n",
              "      <td>-7.666667</td>\n",
              "      <td>-1.000000</td>\n",
              "      <td>-102.666667</td>\n",
              "      <td>0.000000</td>\n",
              "      <td>0.666667</td>\n",
              "      <td>-174.666667</td>\n",
              "      <td>-0.333333</td>\n",
              "      <td>31.000000</td>\n",
              "      <td>11.000000</td>\n",
              "      <td>51.000000</td>\n",
              "      <td>21.666667</td>\n",
              "      <td>-1.0</td>\n",
              "      <td>-1.0</td>\n",
              "      <td>-0.333333</td>\n",
              "    </tr>\n",
              "    <tr>\n",
              "      <th>2110</th>\n",
              "      <td>400757054</td>\n",
              "      <td>2015</td>\n",
              "      <td>7</td>\n",
              "      <td>Washington</td>\n",
              "      <td>Oregon</td>\n",
              "      <td>4.521294</td>\n",
              "      <td>-6.0</td>\n",
              "      <td>0.0</td>\n",
              "      <td>0.000</td>\n",
              "      <td>5.0</td>\n",
              "      <td>6.0</td>\n",
              "      <td>-8.466667</td>\n",
              "      <td>-0.900000</td>\n",
              "      <td>-1.600000</td>\n",
              "      <td>0.533333</td>\n",
              "      <td>-0.400000</td>\n",
              "      <td>-0.166667</td>\n",
              "      <td>14.733333</td>\n",
              "      <td>0.000000</td>\n",
              "      <td>0.000</td>\n",
              "      <td>-65.633333</td>\n",
              "      <td>-3.100000</td>\n",
              "      <td>22.000000</td>\n",
              "      <td>2.066667</td>\n",
              "      <td>1.266667</td>\n",
              "      <td>0.400000</td>\n",
              "      <td>-0.633333</td>\n",
              "      <td>-2.566667</td>\n",
              "      <td>-18.566667</td>\n",
              "      <td>20.666667</td>\n",
              "      <td>0.033333</td>\n",
              "      <td>9.933333</td>\n",
              "      <td>0.233333</td>\n",
              "      <td>-19.300000</td>\n",
              "      <td>-1.200000</td>\n",
              "      <td>-206.066667</td>\n",
              "      <td>-0.800000</td>\n",
              "      <td>-1.400000</td>\n",
              "      <td>-184.066667</td>\n",
              "      <td>0.533333</td>\n",
              "      <td>26.800000</td>\n",
              "      <td>15.000000</td>\n",
              "      <td>41.500000</td>\n",
              "      <td>38.666667</td>\n",
              "      <td>-1.0</td>\n",
              "      <td>-1.0</td>\n",
              "      <td>0.100000</td>\n",
              "    </tr>\n",
              "    <tr>\n",
              "      <th>2219</th>\n",
              "      <td>400757062</td>\n",
              "      <td>2015</td>\n",
              "      <td>9</td>\n",
              "      <td>Washington</td>\n",
              "      <td>Arizona</td>\n",
              "      <td>2.742335</td>\n",
              "      <td>46.0</td>\n",
              "      <td>0.0</td>\n",
              "      <td>0.000</td>\n",
              "      <td>7.0</td>\n",
              "      <td>8.0</td>\n",
              "      <td>-10.214286</td>\n",
              "      <td>-0.321429</td>\n",
              "      <td>-0.875000</td>\n",
              "      <td>-0.017857</td>\n",
              "      <td>0.178571</td>\n",
              "      <td>-0.125000</td>\n",
              "      <td>17.375000</td>\n",
              "      <td>0.732143</td>\n",
              "      <td>0.000</td>\n",
              "      <td>23.892857</td>\n",
              "      <td>0.857143</td>\n",
              "      <td>-40.892857</td>\n",
              "      <td>-5.464286</td>\n",
              "      <td>-3.321429</td>\n",
              "      <td>0.392857</td>\n",
              "      <td>-1.125000</td>\n",
              "      <td>-0.392857</td>\n",
              "      <td>-2.642857</td>\n",
              "      <td>5.375000</td>\n",
              "      <td>0.017857</td>\n",
              "      <td>7.303571</td>\n",
              "      <td>0.803571</td>\n",
              "      <td>-13.750000</td>\n",
              "      <td>-1.410714</td>\n",
              "      <td>-159.964286</td>\n",
              "      <td>-2.964286</td>\n",
              "      <td>-2.446429</td>\n",
              "      <td>-200.857143</td>\n",
              "      <td>0.714286</td>\n",
              "      <td>24.000000</td>\n",
              "      <td>18.857143</td>\n",
              "      <td>41.750000</td>\n",
              "      <td>32.375000</td>\n",
              "      <td>-1.0</td>\n",
              "      <td>-1.0</td>\n",
              "      <td>-0.196429</td>\n",
              "    </tr>\n",
              "    <tr>\n",
              "      <th>2272</th>\n",
              "      <td>400757071</td>\n",
              "      <td>2015</td>\n",
              "      <td>10</td>\n",
              "      <td>Washington</td>\n",
              "      <td>Utah</td>\n",
              "      <td>7.818279</td>\n",
              "      <td>-11.0</td>\n",
              "      <td>0.0</td>\n",
              "      <td>0.000</td>\n",
              "      <td>8.0</td>\n",
              "      <td>8.0</td>\n",
              "      <td>-3.625000</td>\n",
              "      <td>-1.000000</td>\n",
              "      <td>-1.000000</td>\n",
              "      <td>0.375000</td>\n",
              "      <td>-0.250000</td>\n",
              "      <td>-0.125000</td>\n",
              "      <td>1.000000</td>\n",
              "      <td>-0.250000</td>\n",
              "      <td>-0.125</td>\n",
              "      <td>21.875000</td>\n",
              "      <td>0.875000</td>\n",
              "      <td>9.125000</td>\n",
              "      <td>0.250000</td>\n",
              "      <td>-2.625000</td>\n",
              "      <td>-0.250000</td>\n",
              "      <td>-0.125000</td>\n",
              "      <td>0.250000</td>\n",
              "      <td>6.000000</td>\n",
              "      <td>-346.250000</td>\n",
              "      <td>-0.125000</td>\n",
              "      <td>-18.750000</td>\n",
              "      <td>-1.000000</td>\n",
              "      <td>-9.875000</td>\n",
              "      <td>-0.125000</td>\n",
              "      <td>-46.125000</td>\n",
              "      <td>-1.625000</td>\n",
              "      <td>-2.375000</td>\n",
              "      <td>-37.000000</td>\n",
              "      <td>0.125000</td>\n",
              "      <td>27.125000</td>\n",
              "      <td>16.875000</td>\n",
              "      <td>33.750000</td>\n",
              "      <td>21.375000</td>\n",
              "      <td>-1.0</td>\n",
              "      <td>13.0</td>\n",
              "      <td>-0.375000</td>\n",
              "    </tr>\n",
              "    <tr>\n",
              "      <th>2413</th>\n",
              "      <td>400757086</td>\n",
              "      <td>2015</td>\n",
              "      <td>13</td>\n",
              "      <td>Washington</td>\n",
              "      <td>Washington State</td>\n",
              "      <td>3.400944</td>\n",
              "      <td>35.0</td>\n",
              "      <td>5.5</td>\n",
              "      <td>0.627</td>\n",
              "      <td>11.0</td>\n",
              "      <td>11.0</td>\n",
              "      <td>-7.090909</td>\n",
              "      <td>-1.545455</td>\n",
              "      <td>-1.545455</td>\n",
              "      <td>0.272727</td>\n",
              "      <td>-0.272727</td>\n",
              "      <td>-0.090909</td>\n",
              "      <td>7.090909</td>\n",
              "      <td>0.000000</td>\n",
              "      <td>0.000</td>\n",
              "      <td>-0.454545</td>\n",
              "      <td>0.000000</td>\n",
              "      <td>-168.454545</td>\n",
              "      <td>-25.909091</td>\n",
              "      <td>-20.636364</td>\n",
              "      <td>0.272727</td>\n",
              "      <td>-1.909091</td>\n",
              "      <td>-0.454545</td>\n",
              "      <td>7.909091</td>\n",
              "      <td>-116.181818</td>\n",
              "      <td>0.181818</td>\n",
              "      <td>17.454545</td>\n",
              "      <td>0.454545</td>\n",
              "      <td>11.000000</td>\n",
              "      <td>1.000000</td>\n",
              "      <td>60.545455</td>\n",
              "      <td>-1.545455</td>\n",
              "      <td>-2.090909</td>\n",
              "      <td>-107.909091</td>\n",
              "      <td>0.272727</td>\n",
              "      <td>28.090909</td>\n",
              "      <td>18.454545</td>\n",
              "      <td>34.454545</td>\n",
              "      <td>27.363636</td>\n",
              "      <td>-1.0</td>\n",
              "      <td>20.0</td>\n",
              "      <td>-0.272727</td>\n",
              "    </tr>\n",
              "  </tbody>\n",
              "</table>\n",
              "</div>"
            ],
            "text/plain": [
              "             id  season  week  ... home_rank away_rank  win_difference\n",
              "1752  400757020    2015     2  ...      -1.0      -1.0        0.000000\n",
              "1848  400757032    2015     3  ...      -1.0      -1.0        0.000000\n",
              "1915  400757040    2015     4  ...      -1.0      -1.0       -0.333333\n",
              "2110  400757054    2015     7  ...      -1.0      -1.0        0.100000\n",
              "2219  400757062    2015     9  ...      -1.0      -1.0       -0.196429\n",
              "2272  400757071    2015    10  ...      -1.0      13.0       -0.375000\n",
              "2413  400757086    2015    13  ...      -1.0      20.0       -0.272727\n",
              "\n",
              "[7 rows x 47 columns]"
            ]
          },
          "metadata": {
            "tags": []
          },
          "execution_count": 16
        }
      ]
    },
    {
      "cell_type": "code",
      "metadata": {
        "id": "yeguM4J2UMu7"
      },
      "source": [
        "train, valid, test = split_data()\n",
        "\n",
        "valid = valid.drop(columns=['season', 'id', 'home_team', 'away_team'])\n",
        "valid = valid.fillna(0)\n",
        "train = train.drop(columns=['season', 'id', 'home_team', 'away_team'])\n",
        "train = train.fillna(0)\n",
        "test = test.drop(columns=['season', 'id', 'home_team', 'away_team'])\n",
        "test = test.fillna(0)\n",
        "train_in = train.drop(columns=['result'])\n",
        "train_out = train.result\n",
        "valid_in = valid.drop(columns=['result'])\n",
        "valid_out = valid.result\n",
        "test_in = test.drop(columns=['result'])\n",
        "test_out = test.result"
      ],
      "execution_count": null,
      "outputs": []
    },
    {
      "cell_type": "code",
      "metadata": {
        "colab": {
          "base_uri": "https://localhost:8080/"
        },
        "id": "R6lVGQ7Sbxhd",
        "outputId": "132cef47-21ac-421d-8507-e82e8b72f901"
      },
      "source": [
        "model = LinearRegression().fit(train_in, train_out)\n",
        "prediction = model.predict(valid_in)\n",
        "print('Spread RMSE = %.2f points' % mean_squared_error(valid_out, prediction, squared=False))\n",
        "\n",
        "temp_pred = prediction\n",
        "temp_pred[temp_pred>0] = 1\n",
        "temp_pred[temp_pred<0] = 0\n",
        "\n",
        "temp_tru = valid_out\n",
        "temp_tru[temp_tru>0] = 1\n",
        "temp_tru[temp_tru<0] = 0\n",
        "\n",
        "print('Game winner accuracy = %.3f%%' % ((np.sum(temp_pred==temp_tru) / len(temp_tru))*100.0))"
      ],
      "execution_count": null,
      "outputs": [
        {
          "output_type": "stream",
          "text": [
            "Spread RMSE = 16.66 points\n",
            "Game winner accuracy = 75.172%\n"
          ],
          "name": "stdout"
        }
      ]
    },
    {
      "cell_type": "markdown",
      "metadata": {
        "id": "wY4oyKInPsV0"
      },
      "source": [
        "## Linear model with L1 Regularization<a name=\"l1\"></a>"
      ]
    },
    {
      "cell_type": "code",
      "metadata": {
        "id": "3mXkTG44LX3C"
      },
      "source": [
        "alphas = np.linspace(1,1000,50)\n",
        "kf = KFold(n_splits=10, shuffle=True, random_state=42)\n",
        "mse_valid = []\n",
        "mse_train = []\n",
        "num_nonzero = []\n",
        "\n",
        "for alpha in alphas:\n",
        "    large_model_lasso = Lasso(alpha=alpha, random_state=77)\n",
        "    mse_kfold = []\n",
        "    # Iterate through all folds\n",
        "    for train_index, test_index in kf.split(train_in):        \n",
        "        large_model_lasso.fit(train_in.iloc[train_index], train_out.iloc[train_index])\n",
        "        kf_test_pred = large_model_lasso.predict(train_in.iloc[test_index])\n",
        "        error = mean_squared_error(train_out.iloc[test_index], kf_test_pred, squared=False)\n",
        "        mse_kfold.append(error)\n",
        "\n",
        "    # count number of nonzero coefficients\n",
        "    num_nonzero.append(np.sum(large_model_lasso.coef_ != 0))\n",
        "    \n",
        "    # create error arrays\n",
        "    mse_train.append(np.mean(mse_kfold))\n",
        "    large_model_lasso.fit(train_in, train_out)\n",
        "    pred_valid = large_model_lasso.predict(valid_in)\n",
        "    mse_valid.append(mean_squared_error(valid_out, pred_valid, squared=False))"
      ],
      "execution_count": null,
      "outputs": []
    },
    {
      "cell_type": "code",
      "metadata": {
        "colab": {
          "base_uri": "https://localhost:8080/",
          "height": 330
        },
        "id": "iIihisD7NStN",
        "outputId": "46ada4c7-0472-4d0d-f8a6-3ee8bedf3783"
      },
      "source": [
        "best_alpha = alphas[np.argmin(mse_valid)]\n",
        "print(f'Optimum Alpha at {best_alpha}')\n",
        "plt.plot(alphas,mse_valid, linewidth=3)\n",
        "plt.plot(alphas,mse_train, linewidth=3)\n",
        "plt.plot(best_alpha,np.min(mse_valid),'r.',markersize=10)\n",
        "plt.plot(alphas[np.argmin(mse_train)],np.min(mse_train),'r.',markersize=10)\n",
        "\n",
        "plt.legend(['RMSE for Validation Set','RMSE for Validation Fold of Training Set'])\n",
        "plt.xlabel('α')\n",
        "plt.ylabel('Root Mean Square Error (points)')\n",
        "plt.title('RMSE vs. Regularization Constant (L1)')\n",
        "plt.grid()\n",
        "plt.ylim([0, 50])"
      ],
      "execution_count": null,
      "outputs": [
        {
          "output_type": "stream",
          "text": [
            "Optimum Alpha at 734.9591836734694\n"
          ],
          "name": "stdout"
        },
        {
          "output_type": "execute_result",
          "data": {
            "text/plain": [
              "(0.0, 50.0)"
            ]
          },
          "metadata": {
            "tags": []
          },
          "execution_count": 20
        },
        {
          "output_type": "display_data",
          "data": {
            "image/png": "[encoded data removed]",
            "text/plain": [
              "<Figure size 432x288 with 1 Axes>"
            ]
          },
          "metadata": {
            "tags": [],
            "needs_background": "light"
          }
        }
      ]
    },
    {
      "cell_type": "code",
      "metadata": {
        "colab": {
          "base_uri": "https://localhost:8080/"
        },
        "id": "pBwPUhDaOpJe",
        "outputId": "04ff301d-1a01-414f-a944-6ec86744ecc3"
      },
      "source": [
        "lasso_model = Lasso(alpha=best_alpha, random_state=77)\n",
        "lasso_model.fit(train_in, train_out)\n",
        "prediction = lasso_model.predict(test_in)\n",
        "print('Spread RMSE = %.2f points' % mean_squared_error(test_out, prediction, squared=False))\n",
        "\n",
        "temp_pred = prediction\n",
        "temp_pred[temp_pred>0] = 1\n",
        "temp_pred[temp_pred<0] = 0\n",
        "\n",
        "temp_tru = test_out\n",
        "temp_tru[temp_tru>0] = 1\n",
        "temp_tru[temp_tru<0] = 0\n",
        "\n",
        "print('Game winner accuracy = %.3f%%' % ((np.sum(temp_pred==temp_tru) / len(temp_tru))*100.0))\n",
        "# THIS MODEL OVERFIT! BAD RESULT!\n",
        "# CONCLUSION: LASSO DID NOT IMPROVE RESULTS"
      ],
      "execution_count": null,
      "outputs": [
        {
          "output_type": "stream",
          "text": [
            "Spread RMSE = 23.22 points\n",
            "Game winner accuracy = 64.976%\n"
          ],
          "name": "stdout"
        }
      ]
    },
    {
      "cell_type": "markdown",
      "metadata": {
        "id": "CPOwNqTSxrlq"
      },
      "source": [
        "## Random Forest<a name=\"random-forest\"></a>"
      ]
    },
    {
      "cell_type": "code",
      "metadata": {
        "id": "oCaOKZfnB4XW"
      },
      "source": [
        "train, valid, test = split_data()\n",
        "\n",
        "valid = valid.drop(columns=['season', 'id', 'home_team', 'away_team'])\n",
        "valid = valid.fillna(0)\n",
        "train = train.drop(columns=['season', 'id', 'home_team', 'away_team'])\n",
        "train = train.fillna(0)\n",
        "\n",
        "train_in = train.drop(columns=['result'])\n",
        "train_out = train.result\n",
        "valid_in = valid.drop(columns=['result'])\n",
        "valid_out = valid.result\n",
        "\n",
        "train_out_winner = train_out\n",
        "train_out_winner[train_out_winner>0] = 1\n",
        "train_out_winner[train_out_winner<0] = 0\n",
        "\n",
        "valid_out_winner = valid_out\n",
        "valid_out_winner[valid_out_winner>0] = 1\n",
        "valid_out_winner[valid_out_winner<0] = 0"
      ],
      "execution_count": null,
      "outputs": []
    },
    {
      "cell_type": "code",
      "metadata": {
        "colab": {
          "base_uri": "https://localhost:8080/",
          "height": 312
        },
        "id": "1yijoOaTx_Ej",
        "outputId": "03ee8f3c-dbc2-45a2-928b-dd99a2cba31d"
      },
      "source": [
        "MAX_DEPTH = 15\n",
        "random_model = RandomForestClassifier(max_depth=MAX_DEPTH)\n",
        "random_model.fit(train_in, train_out_winner)\n",
        "\n",
        "acc = []\n",
        "for week in range(1, 16):\n",
        "  t = games.loc[(games.season == 2019) & (games.week == week)]\n",
        "  t = t.drop(columns=['season', 'id', 'home_team', 'away_team'])\n",
        "  t = t.fillna(0)\n",
        "  t_in = t.drop(columns=['result'])\n",
        "  t_out = t.result\n",
        "  t_out[t_out>0] = 1\n",
        "  t_out[t_out<0] = 0\n",
        "  acc.append((np.sum(random_model.predict(t_in)==t_out) / len(t_out))*100.0)\n",
        "\n",
        "plt.plot(range(1, 16), acc)\n",
        "plt.xlabel('Week')\n",
        "plt.ylabel('% of winners predicted correctly')\n",
        "plt.title('Accuracy by Week on Test Data (2019)')\n",
        "print('Overall game winner accuracy = %.3f%%' % ((np.sum(random_model.predict(valid_in)==valid_out_winner) / len(valid_out_winner))*100.0))"
      ],
      "execution_count": null,
      "outputs": [
        {
          "output_type": "stream",
          "text": [
            "Overall game winner accuracy = 76.437%\n"
          ],
          "name": "stdout"
        },
        {
          "output_type": "display_data",
          "data": {
            "image/png": "[encoded data removed]",
            "text/plain": [
              "<Figure size 432x288 with 1 Axes>"
            ]
          },
          "metadata": {
            "tags": [],
            "needs_background": "light"
          }
        }
      ]
    },
    {
      "cell_type": "markdown",
      "metadata": {
        "id": "-hLTPwW5gcWg"
      },
      "source": [
        "Our model does better as weeks progress. <br>\n",
        "The reason accuracy is really high the first few weeks is because the first 3-4 weeks of every college football season is full of out-of-conference games where really good teams play really bad teams and it's often easy to predict the outcome because of that.<br>\n",
        "As in-conference games start around week 4, our model accuracy goes down. Since those games are with teams of closer strengths."
      ]
    },
    {
      "cell_type": "markdown",
      "metadata": {
        "id": "PnEjonbLv8sY"
      },
      "source": [
        "# Neural Networks<a name=\"nn\"></a>"
      ]
    },
    {
      "cell_type": "markdown",
      "metadata": {
        "id": "nAxuSbxatL0M"
      },
      "source": [
        "## Linear Neural Net for Predicting the Spread<a name=\"linear-spread-nn\"></a>"
      ]
    },
    {
      "cell_type": "code",
      "metadata": {
        "id": "v93eOD06weSC"
      },
      "source": [
        "# Hyperparameters\n",
        "BATCH_SIZE = 100\n",
        "EPOCHS = 100\n",
        "LEARNING_RATE = 0.005"
      ],
      "execution_count": null,
      "outputs": []
    },
    {
      "cell_type": "code",
      "metadata": {
        "id": "HF7RO-DO8swM"
      },
      "source": [
        "# Setup the data\n",
        "train, valid, test = split_data()\n",
        "\n",
        "valid = valid.drop(columns=['season', 'id', 'home_team', 'away_team'])\n",
        "valid = valid.fillna(0)\n",
        "train = train.drop(columns=['season', 'id', 'home_team', 'away_team'])\n",
        "train = train.fillna(0)\n",
        "\n",
        "train_in = train.drop(columns=['result'])\n",
        "train_out = train.result\n",
        "valid_in = valid.drop(columns=['result'])\n",
        "valid_out = valid.result\n",
        "\n",
        "data_train_vals = torch.tensor(train_in.to_numpy(), dtype=torch.float, device=device)\n",
        "data_train_labels = torch.tensor(train_out.to_numpy().reshape(-1, 1), dtype=torch.float, device=device)\n",
        "data_train = TensorDataset(data_train_vals, data_train_labels)\n",
        "train_loader = DataLoader(dataset = data_train, batch_size = BATCH_SIZE, shuffle = True) \n",
        "\n",
        "data_valid_vals = torch.tensor(valid_in.to_numpy(), dtype=torch.float, device=device)\n",
        "data_valid_labels = torch.tensor(valid_out.to_numpy().reshape(-1, 1), dtype=torch.float, device=device)\n",
        "data_valid = TensorDataset(data_train_vals, data_train_labels)\n",
        "valid_loader = DataLoader(dataset = data_valid, batch_size = BATCH_SIZE,  shuffle = False)"
      ],
      "execution_count": null,
      "outputs": []
    },
    {
      "cell_type": "code",
      "metadata": {
        "id": "N2g_r6i5ym0i"
      },
      "source": [
        "def train(model, device, train_loader, optimizer, epochs, criterion, verbose=False):\n",
        "  for epoch in range(epochs):\n",
        "    model.train()\n",
        "    batch_loss = 0\n",
        "    for data, label in train_loader:\n",
        "      data, label = data.to(device), label.to(device)\n",
        "      optimizer.zero_grad()\n",
        "      output = model(data)\n",
        "      loss = criterion(output, label)\n",
        "      loss.backward()\n",
        "      optimizer.step()\n",
        "      batch_loss += loss.item()\n",
        "    if verbose:\n",
        "      print('Train Epoch: %d  \\tLoss: %.6f' % (epoch, np.sqrt(batch_loss/len(train_loader))))\n",
        "\n",
        "def test(model, device, test_loader, criterion):\n",
        "  model.eval()\n",
        "  test_loss = 0\n",
        "  correct = 0\n",
        "  with torch.no_grad():\n",
        "    for data, label in test_loader:\n",
        "      data, label = data.to(device), label.to(device)\n",
        "      output = model(data)\n",
        "      test_loss += criterion(output, label).item()\n",
        "  print('Validation set: Average loss: %.4f' % np.sqrt(test_loss/len(test_loader)))"
      ],
      "execution_count": null,
      "outputs": []
    },
    {
      "cell_type": "code",
      "metadata": {
        "id": "WsGrGRnet6ur"
      },
      "source": [
        "class Net(nn.Module):\n",
        "    def __init__(self, input_size):\n",
        "        super(Net, self).__init__()\n",
        "        self.fc1 = nn.Linear(input_size, 20).cuda()\n",
        "        self.fc2 = nn.Linear(20, 10).cuda()\n",
        "        self.fc3 = nn.Linear(10, 1).cuda()\n",
        " \n",
        "    def forward(self, x):\n",
        "        x = F.relu(self.fc1(x))\n",
        "        x = F.relu(self.fc2(x))\n",
        "        x = self.fc3(x)\n",
        "        return x\n",
        "\n",
        "modelSpread = Net(np.shape(train_in.to_numpy())[1])"
      ],
      "execution_count": null,
      "outputs": []
    },
    {
      "cell_type": "code",
      "metadata": {
        "id": "b8F6KZ0gw2nk"
      },
      "source": [
        "optimizer = torch.optim.Adam(modelSpread.parameters(), lr=LEARNING_RATE)\n",
        "criterion = nn.MSELoss()"
      ],
      "execution_count": null,
      "outputs": []
    },
    {
      "cell_type": "code",
      "metadata": {
        "colab": {
          "base_uri": "https://localhost:8080/"
        },
        "id": "VNH_3jeaxFL2",
        "outputId": "ff9caa51-23bb-4a35-e46b-ad3cdb626e28"
      },
      "source": [
        "train(modelSpread, device, train_loader, optimizer, EPOCHS, criterion, verbose=True)"
      ],
      "execution_count": null,
      "outputs": [
        {
          "output_type": "stream",
          "text": [
            "Train Epoch: 0  \tLoss: 21.887333\n",
            "Train Epoch: 1  \tLoss: 17.763401\n",
            "Train Epoch: 2  \tLoss: 16.788424\n",
            "Train Epoch: 3  \tLoss: 16.330893\n",
            "Train Epoch: 4  \tLoss: 16.226455\n",
            "Train Epoch: 5  \tLoss: 16.039422\n",
            "Train Epoch: 6  \tLoss: 15.637130\n",
            "Train Epoch: 7  \tLoss: 15.574153\n",
            "Train Epoch: 8  \tLoss: 15.315453\n",
            "Train Epoch: 9  \tLoss: 15.294532\n",
            "Train Epoch: 10  \tLoss: 15.212895\n",
            "Train Epoch: 11  \tLoss: 15.196388\n",
            "Train Epoch: 12  \tLoss: 15.089425\n",
            "Train Epoch: 13  \tLoss: 14.963650\n",
            "Train Epoch: 14  \tLoss: 14.862810\n",
            "Train Epoch: 15  \tLoss: 14.834174\n",
            "Train Epoch: 16  \tLoss: 14.843168\n",
            "Train Epoch: 17  \tLoss: 14.723140\n",
            "Train Epoch: 18  \tLoss: 14.797155\n",
            "Train Epoch: 19  \tLoss: 14.614054\n",
            "Train Epoch: 20  \tLoss: 14.523282\n",
            "Train Epoch: 21  \tLoss: 14.445624\n",
            "Train Epoch: 22  \tLoss: 14.448965\n",
            "Train Epoch: 23  \tLoss: 14.410167\n",
            "Train Epoch: 24  \tLoss: 14.197555\n",
            "Train Epoch: 25  \tLoss: 14.306306\n",
            "Train Epoch: 26  \tLoss: 14.313059\n",
            "Train Epoch: 27  \tLoss: 14.311444\n",
            "Train Epoch: 28  \tLoss: 14.256263\n",
            "Train Epoch: 29  \tLoss: 14.117345\n",
            "Train Epoch: 30  \tLoss: 14.197245\n",
            "Train Epoch: 31  \tLoss: 14.093111\n",
            "Train Epoch: 32  \tLoss: 14.159125\n",
            "Train Epoch: 33  \tLoss: 14.010982\n",
            "Train Epoch: 34  \tLoss: 14.083377\n",
            "Train Epoch: 35  \tLoss: 14.157275\n",
            "Train Epoch: 36  \tLoss: 13.983065\n",
            "Train Epoch: 37  \tLoss: 13.891446\n",
            "Train Epoch: 38  \tLoss: 14.062362\n",
            "Train Epoch: 39  \tLoss: 14.058891\n",
            "Train Epoch: 40  \tLoss: 13.859750\n",
            "Train Epoch: 41  \tLoss: 13.816029\n",
            "Train Epoch: 42  \tLoss: 13.805953\n",
            "Train Epoch: 43  \tLoss: 13.794927\n",
            "Train Epoch: 44  \tLoss: 13.819875\n",
            "Train Epoch: 45  \tLoss: 13.942929\n",
            "Train Epoch: 46  \tLoss: 13.729866\n",
            "Train Epoch: 47  \tLoss: 13.731975\n",
            "Train Epoch: 48  \tLoss: 13.718750\n",
            "Train Epoch: 49  \tLoss: 13.598943\n",
            "Train Epoch: 50  \tLoss: 13.626555\n",
            "Train Epoch: 51  \tLoss: 13.628331\n",
            "Train Epoch: 52  \tLoss: 13.740425\n",
            "Train Epoch: 53  \tLoss: 13.540916\n",
            "Train Epoch: 54  \tLoss: 13.536338\n",
            "Train Epoch: 55  \tLoss: 13.511124\n",
            "Train Epoch: 56  \tLoss: 13.537628\n",
            "Train Epoch: 57  \tLoss: 13.653015\n",
            "Train Epoch: 58  \tLoss: 13.620253\n",
            "Train Epoch: 59  \tLoss: 13.547431\n",
            "Train Epoch: 60  \tLoss: 13.410027\n",
            "Train Epoch: 61  \tLoss: 13.339348\n",
            "Train Epoch: 62  \tLoss: 13.518068\n",
            "Train Epoch: 63  \tLoss: 13.543725\n",
            "Train Epoch: 64  \tLoss: 13.601616\n",
            "Train Epoch: 65  \tLoss: 13.417835\n",
            "Train Epoch: 66  \tLoss: 13.306666\n",
            "Train Epoch: 67  \tLoss: 13.364845\n",
            "Train Epoch: 68  \tLoss: 13.446660\n",
            "Train Epoch: 69  \tLoss: 13.453358\n",
            "Train Epoch: 70  \tLoss: 13.333605\n",
            "Train Epoch: 71  \tLoss: 13.444544\n",
            "Train Epoch: 72  \tLoss: 13.216187\n",
            "Train Epoch: 73  \tLoss: 13.341500\n",
            "Train Epoch: 74  \tLoss: 13.389658\n",
            "Train Epoch: 75  \tLoss: 13.245321\n",
            "Train Epoch: 76  \tLoss: 13.418146\n",
            "Train Epoch: 77  \tLoss: 13.378075\n",
            "Train Epoch: 78  \tLoss: 13.350415\n",
            "Train Epoch: 79  \tLoss: 13.203691\n",
            "Train Epoch: 80  \tLoss: 13.209055\n",
            "Train Epoch: 81  \tLoss: 13.345018\n",
            "Train Epoch: 82  \tLoss: 13.204237\n",
            "Train Epoch: 83  \tLoss: 13.099150\n",
            "Train Epoch: 84  \tLoss: 13.129433\n",
            "Train Epoch: 85  \tLoss: 13.068711\n",
            "Train Epoch: 86  \tLoss: 13.109242\n",
            "Train Epoch: 87  \tLoss: 13.203821\n",
            "Train Epoch: 88  \tLoss: 13.277068\n",
            "Train Epoch: 89  \tLoss: 13.313424\n",
            "Train Epoch: 90  \tLoss: 12.985440\n",
            "Train Epoch: 91  \tLoss: 13.070256\n",
            "Train Epoch: 92  \tLoss: 13.328474\n",
            "Train Epoch: 93  \tLoss: 13.055472\n",
            "Train Epoch: 94  \tLoss: 13.113745\n",
            "Train Epoch: 95  \tLoss: 13.135733\n",
            "Train Epoch: 96  \tLoss: 13.104593\n",
            "Train Epoch: 97  \tLoss: 13.190100\n",
            "Train Epoch: 98  \tLoss: 13.045182\n",
            "Train Epoch: 99  \tLoss: 13.033791\n"
          ],
          "name": "stdout"
        }
      ]
    },
    {
      "cell_type": "code",
      "metadata": {
        "colab": {
          "base_uri": "https://localhost:8080/"
        },
        "id": "uqpAf1dKyrnC",
        "outputId": "f95ff912-3df9-46ec-f5fd-a5c5549bcfaf"
      },
      "source": [
        "test(modelSpread, device, valid_loader, criterion)"
      ],
      "execution_count": null,
      "outputs": [
        {
          "output_type": "stream",
          "text": [
            "Validation set: Average loss: 12.6644\n"
          ],
          "name": "stdout"
        }
      ]
    },
    {
      "cell_type": "markdown",
      "metadata": {
        "id": "1SnMZBBDYry-"
      },
      "source": [
        "## Linear Neural Net for Predicting the Winner<a name=\"linear-winner-nn\"></a>"
      ]
    },
    {
      "cell_type": "code",
      "metadata": {
        "id": "fBYuCCgbZBvL"
      },
      "source": [
        "BATCH_SIZE = 200\n",
        "EPOCHS = 100\n",
        "LEARNING_RATE = 0.005"
      ],
      "execution_count": null,
      "outputs": []
    },
    {
      "cell_type": "code",
      "metadata": {
        "id": "lNN7muEhax8V"
      },
      "source": [
        "train, valid, test = split_data()\n",
        "\n",
        "valid = valid.drop(columns=['season', 'id', 'home_team', 'away_team'])\n",
        "valid = valid.fillna(0)\n",
        "train = train.drop(columns=['season', 'id', 'home_team', 'away_team'])\n",
        "train = train.fillna(0)\n",
        "\n",
        "train_in = train.drop(columns=['result'])\n",
        "train_out = train.result\n",
        "valid_in = valid.drop(columns=['result'])\n",
        "valid_out = valid.result\n",
        "\n",
        "train_out_winner = train_out\n",
        "train_out_winner[train_out_winner>0] = 1\n",
        "train_out_winner[train_out_winner<0] = 0\n",
        "\n",
        "valid_out_winner = valid_out\n",
        "valid_out_winner[valid_out_winner>0] = 1\n",
        "valid_out_winner[valid_out_winner<0] = 0\n",
        "\n",
        "data_train_vals = torch.tensor(train_in.to_numpy(), dtype=torch.float, device=device)\n",
        "data_train_labels = torch.tensor(train_out_winner.to_numpy(), dtype=torch.long, device=device)\n",
        "data_train = TensorDataset(data_train_vals, data_train_labels)\n",
        "train_loader = DataLoader(dataset = data_train, batch_size = BATCH_SIZE, shuffle = True) \n",
        "\n",
        "data_valid_vals = torch.tensor(valid_in.to_numpy(), dtype=torch.float, device=device)\n",
        "data_valid_labels = torch.tensor(valid_out_winner.to_numpy(), dtype=torch.long, device=device)\n",
        "data_valid = TensorDataset(data_train_vals, data_train_labels)\n",
        "valid_loader = DataLoader(dataset = data_valid, batch_size = BATCH_SIZE,  shuffle = False)"
      ],
      "execution_count": null,
      "outputs": []
    },
    {
      "cell_type": "code",
      "metadata": {
        "id": "nlx0INLPYokp"
      },
      "source": [
        "def trainWinner(model, device, train_loader, optimizer, epochs, criterion, verbose=False):\n",
        "  for epoch in range(epochs):\n",
        "    model.train()\n",
        "    batch_loss = 0\n",
        "    for data, label in train_loader:\n",
        "      data, label = data.to(device), label.to(device)\n",
        "      optimizer.zero_grad()\n",
        "      output = model(data)\n",
        "      loss = criterion(output, label)\n",
        "      loss.backward()\n",
        "      optimizer.step()\n",
        "      batch_loss += loss.item()\n",
        "    if verbose:\n",
        "      print('Train Epoch: %d  \\tLoss: %.6f' % (epoch, np.sqrt(batch_loss/len(train_loader))))\n",
        "\n",
        "def testWinner(model, device, test_loader, criterion):\n",
        "  model.eval()\n",
        "  test_loss = 0\n",
        "  correct = 0\n",
        "  wrong = 0\n",
        "  with torch.no_grad():\n",
        "    for data, label in test_loader:\n",
        "      data, label = data.to(device), label.to(device)\n",
        "      output = model(data)\n",
        "      test_loss += criterion(output, label).item()\n",
        "      correct += torch.sum(torch.argmax(output, dim=1) == label)\n",
        "      wrong += torch.sum(torch.argmax(output, dim=1) != label)\n",
        "  print('Test set: Average loss: %.4f' % np.sqrt(test_loss/len(test_loader)))\n",
        "  print('Accuracy: %.3f%%' % (correct*100/(correct+wrong)))"
      ],
      "execution_count": null,
      "outputs": []
    },
    {
      "cell_type": "code",
      "metadata": {
        "id": "ErQ_6S9UY0de"
      },
      "source": [
        "class Net(nn.Module):\n",
        "    def __init__(self, input_size):\n",
        "        super(Net, self).__init__()\n",
        "        self.fc1 = nn.Linear(input_size, 20).cuda()\n",
        "        self.fc2 = nn.Linear(20, 10).cuda()\n",
        "        self.fc3 = nn.Linear(10, 2).cuda()\n",
        " \n",
        "    def forward(self, x):\n",
        "        x = F.relu(self.fc1(x))\n",
        "        x = F.relu(self.fc2(x))\n",
        "        x = self.fc3(x)\n",
        "        return x\n",
        "\n",
        "modelWinner = Net(np.shape(train_in.to_numpy())[1])"
      ],
      "execution_count": null,
      "outputs": []
    },
    {
      "cell_type": "code",
      "metadata": {
        "id": "LDkx_IO1ZENR"
      },
      "source": [
        "optimizer = torch.optim.Adam(modelWinner.parameters(), lr=LEARNING_RATE)\n",
        "criterion = nn.CrossEntropyLoss()"
      ],
      "execution_count": null,
      "outputs": []
    },
    {
      "cell_type": "code",
      "metadata": {
        "colab": {
          "base_uri": "https://localhost:8080/"
        },
        "id": "E7_Gv7AwZIVP",
        "outputId": "27b8d069-a504-449e-a7fe-ed7b01915c3d"
      },
      "source": [
        "trainWinner(modelWinner, device, train_loader, optimizer, EPOCHS, criterion, verbose=True)"
      ],
      "execution_count": null,
      "outputs": [
        {
          "output_type": "stream",
          "text": [
            "Train Epoch: 0  \tLoss: 0.880138\n",
            "Train Epoch: 1  \tLoss: 0.745956\n",
            "Train Epoch: 2  \tLoss: 0.716288\n",
            "Train Epoch: 3  \tLoss: 0.699194\n",
            "Train Epoch: 4  \tLoss: 0.692812\n",
            "Train Epoch: 5  \tLoss: 0.686258\n",
            "Train Epoch: 6  \tLoss: 0.683924\n",
            "Train Epoch: 7  \tLoss: 0.678843\n",
            "Train Epoch: 8  \tLoss: 0.675876\n",
            "Train Epoch: 9  \tLoss: 0.675102\n",
            "Train Epoch: 10  \tLoss: 0.668036\n",
            "Train Epoch: 11  \tLoss: 0.664588\n",
            "Train Epoch: 12  \tLoss: 0.670909\n",
            "Train Epoch: 13  \tLoss: 0.666385\n",
            "Train Epoch: 14  \tLoss: 0.665684\n",
            "Train Epoch: 15  \tLoss: 0.666390\n",
            "Train Epoch: 16  \tLoss: 0.660346\n",
            "Train Epoch: 17  \tLoss: 0.669236\n",
            "Train Epoch: 18  \tLoss: 0.660223\n",
            "Train Epoch: 19  \tLoss: 0.653588\n",
            "Train Epoch: 20  \tLoss: 0.651438\n",
            "Train Epoch: 21  \tLoss: 0.652856\n",
            "Train Epoch: 22  \tLoss: 0.646153\n",
            "Train Epoch: 23  \tLoss: 0.646612\n",
            "Train Epoch: 24  \tLoss: 0.647457\n",
            "Train Epoch: 25  \tLoss: 0.643310\n",
            "Train Epoch: 26  \tLoss: 0.647377\n",
            "Train Epoch: 27  \tLoss: 0.643898\n",
            "Train Epoch: 28  \tLoss: 0.643728\n",
            "Train Epoch: 29  \tLoss: 0.635774\n",
            "Train Epoch: 30  \tLoss: 0.641981\n",
            "Train Epoch: 31  \tLoss: 0.637797\n",
            "Train Epoch: 32  \tLoss: 0.639811\n",
            "Train Epoch: 33  \tLoss: 0.634085\n",
            "Train Epoch: 34  \tLoss: 0.636945\n",
            "Train Epoch: 35  \tLoss: 0.633597\n",
            "Train Epoch: 36  \tLoss: 0.631105\n",
            "Train Epoch: 37  \tLoss: 0.628035\n",
            "Train Epoch: 38  \tLoss: 0.626341\n",
            "Train Epoch: 39  \tLoss: 0.627800\n",
            "Train Epoch: 40  \tLoss: 0.629890\n",
            "Train Epoch: 41  \tLoss: 0.642098\n",
            "Train Epoch: 42  \tLoss: 0.635150\n",
            "Train Epoch: 43  \tLoss: 0.630681\n",
            "Train Epoch: 44  \tLoss: 0.622469\n",
            "Train Epoch: 45  \tLoss: 0.618662\n",
            "Train Epoch: 46  \tLoss: 0.618036\n",
            "Train Epoch: 47  \tLoss: 0.622576\n",
            "Train Epoch: 48  \tLoss: 0.622819\n",
            "Train Epoch: 49  \tLoss: 0.620625\n",
            "Train Epoch: 50  \tLoss: 0.616158\n",
            "Train Epoch: 51  \tLoss: 0.618404\n",
            "Train Epoch: 52  \tLoss: 0.619030\n",
            "Train Epoch: 53  \tLoss: 0.615598\n",
            "Train Epoch: 54  \tLoss: 0.613917\n",
            "Train Epoch: 55  \tLoss: 0.620618\n",
            "Train Epoch: 56  \tLoss: 0.617720\n",
            "Train Epoch: 57  \tLoss: 0.610669\n",
            "Train Epoch: 58  \tLoss: 0.616619\n",
            "Train Epoch: 59  \tLoss: 0.606154\n",
            "Train Epoch: 60  \tLoss: 0.608872\n",
            "Train Epoch: 61  \tLoss: 0.608295\n",
            "Train Epoch: 62  \tLoss: 0.605016\n",
            "Train Epoch: 63  \tLoss: 0.604523\n",
            "Train Epoch: 64  \tLoss: 0.605684\n",
            "Train Epoch: 65  \tLoss: 0.608597\n",
            "Train Epoch: 66  \tLoss: 0.606531\n",
            "Train Epoch: 67  \tLoss: 0.608123\n",
            "Train Epoch: 68  \tLoss: 0.608635\n",
            "Train Epoch: 69  \tLoss: 0.611544\n",
            "Train Epoch: 70  \tLoss: 0.609566\n",
            "Train Epoch: 71  \tLoss: 0.596479\n",
            "Train Epoch: 72  \tLoss: 0.597003\n",
            "Train Epoch: 73  \tLoss: 0.596009\n",
            "Train Epoch: 74  \tLoss: 0.596325\n",
            "Train Epoch: 75  \tLoss: 0.595680\n",
            "Train Epoch: 76  \tLoss: 0.597668\n",
            "Train Epoch: 77  \tLoss: 0.599101\n",
            "Train Epoch: 78  \tLoss: 0.601126\n",
            "Train Epoch: 79  \tLoss: 0.601588\n",
            "Train Epoch: 80  \tLoss: 0.601950\n",
            "Train Epoch: 81  \tLoss: 0.596083\n",
            "Train Epoch: 82  \tLoss: 0.591018\n",
            "Train Epoch: 83  \tLoss: 0.589035\n",
            "Train Epoch: 84  \tLoss: 0.594895\n",
            "Train Epoch: 85  \tLoss: 0.589062\n",
            "Train Epoch: 86  \tLoss: 0.591840\n",
            "Train Epoch: 87  \tLoss: 0.591561\n",
            "Train Epoch: 88  \tLoss: 0.591456\n",
            "Train Epoch: 89  \tLoss: 0.599907\n",
            "Train Epoch: 90  \tLoss: 0.590131\n",
            "Train Epoch: 91  \tLoss: 0.589165\n",
            "Train Epoch: 92  \tLoss: 0.590972\n",
            "Train Epoch: 93  \tLoss: 0.586322\n",
            "Train Epoch: 94  \tLoss: 0.591553\n",
            "Train Epoch: 95  \tLoss: 0.585003\n",
            "Train Epoch: 96  \tLoss: 0.582997\n",
            "Train Epoch: 97  \tLoss: 0.585517\n",
            "Train Epoch: 98  \tLoss: 0.585060\n",
            "Train Epoch: 99  \tLoss: 0.581480\n"
          ],
          "name": "stdout"
        }
      ]
    },
    {
      "cell_type": "code",
      "metadata": {
        "colab": {
          "base_uri": "https://localhost:8080/"
        },
        "id": "mudAH5U9ZMsc",
        "outputId": "a577e101-243d-4c4e-fc00-89c4d8947a09"
      },
      "source": [
        "testWinner(modelWinner, device, valid_loader, criterion)"
      ],
      "execution_count": null,
      "outputs": [
        {
          "output_type": "stream",
          "text": [
            "Test set: Average loss: 0.5804\n",
            "Accuracy: 82.059%\n"
          ],
          "name": "stdout"
        }
      ]
    },
    {
      "cell_type": "code",
      "metadata": {
        "colab": {
          "base_uri": "https://localhost:8080/",
          "height": 312
        },
        "id": "DUNQPq5czBY1",
        "outputId": "1a225b35-c1d9-448f-abf8-d5d179ee637c"
      },
      "source": [
        "acc = []\n",
        "for week in range(1, 16):\n",
        "  t = games.loc[(games.season == 2019) & (games.week == week)]\n",
        "  t = t.drop(columns=['season', 'id', 'home_team', 'away_team'])\n",
        "  t = t.fillna(0)\n",
        "  t_in = t.drop(columns=['result'])\n",
        "  t_out = t.result\n",
        "  t_out[t_out>0] = 1\n",
        "  t_out[t_out<0] = 0\n",
        "  tensor_in = torch.tensor(t_in.to_numpy(), dtype=torch.float, device=device)\n",
        "  output = modelWinner(tensor_in)\n",
        "  preds = torch.argmax(output, dim=1).detach().cpu().numpy()\n",
        "  acc.append((np.sum(preds==t_out) / len(t_out))*100.0)\n",
        "plt.plot(range(1, 16), acc)\n",
        "plt.xlabel('Week')\n",
        "plt.ylabel('% of winners predicted correctly')\n",
        "plt.title('Accuracy by Week on Test Data (2019)')"
      ],
      "execution_count": null,
      "outputs": [
        {
          "output_type": "execute_result",
          "data": {
            "text/plain": [
              "Text(0.5, 1.0, 'Accuracy by Week on Test Data (2019)')"
            ]
          },
          "metadata": {
            "tags": []
          },
          "execution_count": 40
        },
        {
          "output_type": "display_data",
          "data": {
            "image/png": "[encoded data removed]",
            "text/plain": [
              "<Figure size 432x288 with 1 Axes>"
            ]
          },
          "metadata": {
            "tags": [],
            "needs_background": "light"
          }
        }
      ]
    },
    {
      "cell_type": "markdown",
      "metadata": {
        "id": "jvjv_vNTIrYj"
      },
      "source": [
        "# Compare Best Model to Vegas<a name=\"compare-vegas\"></a>"
      ]
    },
    {
      "cell_type": "code",
      "metadata": {
        "id": "t1oq3RcGJjyW"
      },
      "source": [
        "def predict_betting_wins(pred, spread, result):\n",
        "  '''\n",
        "  predict the percent of the time that you beat vegas in betting\n",
        "\n",
        "  Paramters\n",
        "  ---------\n",
        "  prediction : torch.tensor\n",
        "      vector of predictions of length (N,) where N is number of games\n",
        "  spread : torch.tensor\n",
        "      vector of vegas spreads of length (N,) where N is number of games\n",
        "  result : torch.tensor\n",
        "      vector of actual game results of length (N,) where N is number of games\n",
        "\n",
        "  Returns\n",
        "  -------\n",
        "  winning_percentage : float\n",
        "      percent of time that vegas is beat\n",
        "  '''\n",
        "  spread_v_pred = torch.sign(pred - spread)\n",
        "  spread_v_result = torch.sign(result - spread)\n",
        "  winning_percentage = torch.sum(spread_v_result == spread_v_pred)/result.size()[0]*100\n",
        "  return winning_percentage"
      ],
      "execution_count": null,
      "outputs": []
    },
    {
      "cell_type": "code",
      "metadata": {
        "id": "bfcns_PEKFZW"
      },
      "source": [
        "_, _, test = split_data()\n",
        "\n",
        "test = test.drop(columns=['season', 'id', 'home_team', 'away_team'])\n",
        "test = test.fillna(0)\n",
        "test_in = test.drop(columns=['result'])\n",
        "\n",
        "test_in_tensor = torch.tensor(test_in.to_numpy(), dtype=torch.float, device=device)\n",
        "pred = modelSpread(test_in_tensor)\n",
        "pred = torch.reshape(pred, (-1,))\n",
        "\n",
        "result = torch.tensor(test.result.to_numpy(), dtype=torch.float, device=device)\n",
        "vegas = torch.tensor(test.spread.to_numpy(), dtype=torch.float, device=device)\n",
        "\n",
        "predict_betting_wins(pred, vegas, result)"
      ],
      "execution_count": null,
      "outputs": []
    },
    {
      "cell_type": "markdown",
      "metadata": {
        "id": "GWxT6An4IP5S"
      },
      "source": [
        "# Summary<a name=\"summary\"></a>"
      ]
    },
    {
      "cell_type": "markdown",
      "metadata": {
        "id": "fus3d9wxIkUX"
      },
      "source": [
        "Adding summary of all models here..."
      ]
    }
  ]
}