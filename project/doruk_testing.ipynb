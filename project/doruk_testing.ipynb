{
  "nbformat": 4,
  "nbformat_minor": 0,
  "metadata": {
    "accelerator": "GPU",
    "colab": {
      "name": "EE511_Project.ipynb",
      "provenance": [],
      "collapsed_sections": [],
      "include_colab_link": true
    },
    "kernelspec": {
      "display_name": "Python 3",
      "language": "python",
      "name": "python3"
    },
    "language_info": {
      "codemirror_mode": {
        "name": "ipython",
        "version": 3
      },
      "file_extension": ".py",
      "mimetype": "text/x-python",
      "name": "python",
      "nbconvert_exporter": "python",
      "pygments_lexer": "ipython3",
      "version": "3.8.3-final"
    }
  },
  "cells": [
    {
      "cell_type": "markdown",
      "metadata": {
        "id": "view-in-github",
        "colab_type": "text"
      },
      "source": [
        "<a href=\"https://colab.research.google.com/github/John-Ragland/ee511_assignments/blob/main/project/doruk_testing.ipynb\" target=\"_parent\"><img src=\"https://colab.research.google.com/assets/colab-badge.svg\" alt=\"Open In Colab\"/></a>"
      ]
    },
    {
      "cell_type": "code",
      "metadata": {
        "id": "HHKM4gIXPMUY"
      },
      "source": [
        "# Suppress Warnings\n",
        "def warn(*args, **kwargs):\n",
        "    pass\n",
        "import warnings\n",
        "warnings.warn = warn\n",
        "\n",
        "import numpy as np\n",
        "import pandas as pd\n",
        "from matplotlib import pyplot as plt\n",
        "from sklearn.linear_model import LinearRegression, LogisticRegression\n",
        "from sklearn.metrics import mean_squared_error\n",
        "from sklearn.preprocessing import OneHotEncoder\n",
        "import torch\n",
        "import torch.nn as nn \n",
        "import torch.optim as optim\n",
        "import torch.nn.functional as F\n",
        "from torch.utils.data import TensorDataset, DataLoader"
      ],
      "execution_count": null,
      "outputs": []
    },
    {
      "cell_type": "code",
      "metadata": {
        "id": "4ZFeQkdrPMUe"
      },
      "source": [
        "# look_back = 3 # games\n",
        "def get_data(data_type, start_year, end_year=2020, week=None):\n",
        "    website = 'https://api.collegefootballdata.com/' + data_type\n",
        "    frames = []\n",
        "    for year in range(start_year, end_year+1):\n",
        "        url = website + '?year=%d' % year\n",
        "        if week:\n",
        "          # start = max(week - look_back, 1)\n",
        "          # url += '&startWeek=%d' % start\n",
        "          url += '&endWeek=%d' % week\n",
        "        frames.append(pd.read_json(url))\n",
        "    return pd.concat(frames)"
      ],
      "execution_count": 554,
      "outputs": []
    },
    {
      "cell_type": "code",
      "metadata": {
        "id": "l5tADrqecXas"
      },
      "source": [
        "def get_weekly_stats(start_year):\n",
        "  frames = []\n",
        "  for week in range(1, 16):\n",
        "    week_frame = get_data('stats/season', start_year, week=week)\n",
        "    week_frame['week'] = week+1\n",
        "    frames.append(week_frame)\n",
        "  return pd.concat(frames)"
      ],
      "execution_count": null,
      "outputs": []
    },
    {
      "cell_type": "code",
      "metadata": {
        "colab": {
          "background_save": true
        },
        "id": "4Lqv3yilW45-"
      },
      "source": [
        "# collect the data\n",
        "begin = 2013\n",
        "original_stats = get_weekly_stats(begin)\n",
        "original_games = get_data('games', begin)\n",
        "original_records = get_data('records', begin)\n",
        "original_teams = pd.read_json('https://api.collegefootballdata.com/teams')\n",
        "original_spread = get_data('metrics/wp/pregame', begin)\n",
        "original_rankings = get_data('rankings', begin)"
      ],
      "execution_count": null,
      "outputs": []
    },
    {
      "cell_type": "code",
      "metadata": {
        "colab": {
          "background_save": true
        },
        "id": "vHsBhF8xTmt4"
      },
      "source": [
        "def one_hot(column):\n",
        "  column = column.reshape(-1, 1)\n",
        "  enc = OneHotEncoder()\n",
        "  enc.fit(column)\n",
        "  return enc.transform(column).toarray()\n",
        "\n",
        "def replace_categorical_with_one_hot(df, column):\n",
        "  one_hot_matrix = one_hot(np.array(df[column]))\n",
        "  _, new_cols = one_hot_matrix.shape\n",
        "  for i in range(new_cols):\n",
        "      df[\"%s_%d\" % (column, i)] = one_hot_matrix[:,i]\n",
        "  df = df.drop(column, 1)\n",
        "  return df"
      ],
      "execution_count": null,
      "outputs": []
    },
    {
      "cell_type": "markdown",
      "metadata": {
        "id": "MewJ9jzs6oYm"
      },
      "source": [
        "## Vegas RMSE"
      ]
    },
    {
      "cell_type": "code",
      "metadata": {
        "id": "z6Sa1Tbs6rxJ"
      },
      "source": [
        "# get vegas spread predictions for games\n",
        "games = original_games\n",
        "games = games.assign(result = (games.home_points-games.away_points))\n",
        "games = games.loc[:, games.columns.intersection(['id', 'season', 'week', 'home_team', 'away_team', 'result', 'excitement_index'])]\n",
        "\n",
        "spreads = original_spread.loc[:, original_spread.columns.intersection(['gameId', 'spread', 'homeWinProb'])]\n",
        "spreads.spread *= -1\n",
        "games = pd.merge(games, spreads, how='left', left_on=['id'], right_on=['gameId']).drop(['gameId'], axis=1)\n",
        "games = games.dropna()"
      ],
      "execution_count": 590,
      "outputs": []
    },
    {
      "cell_type": "code",
      "metadata": {
        "id": "3ABHAdkE7AYr"
      },
      "source": [
        "valid = games.loc[games.season == 2019]\n",
        "train = games.loc[games.season != 2019]"
      ],
      "execution_count": 591,
      "outputs": []
    },
    {
      "cell_type": "code",
      "metadata": {
        "id": "9mOVmWqC7CL0"
      },
      "source": [
        "train_in = train.spread.to_numpy()\n",
        "train_out = train.result.to_numpy()\n",
        "valid_in = valid.spread.to_numpy()\n",
        "valid_out = valid.result.to_numpy()\n",
        "baseline_model = LinearRegression().fit(train_in.reshape(-1, 1), train_out)"
      ],
      "execution_count": 592,
      "outputs": []
    },
    {
      "cell_type": "code",
      "metadata": {
        "colab": {
          "base_uri": "https://localhost:8080/",
          "height": 279
        },
        "id": "SIYEqNfB7E46",
        "outputId": "cddc55ec-918c-4501-ab87-77b11b44ecbd"
      },
      "source": [
        "x = np.linspace(-40, 60, 500)\n",
        "y = baseline_model.coef_ * x + baseline_model.intercept_\n",
        "y = baseline_model.predict(x.reshape(-1, 1))\n",
        "\n",
        "plt.xlabel('win percentage difference')\n",
        "plt.ylabel('game result')\n",
        "plt.plot(train_in, train_out, '.', color='black')\n",
        "plt.plot(x, y, '-r', label=\"f(x) = %.3fx + %.3f\" % (baseline_model.coef_, baseline_model.intercept_))\n",
        "plt.legend()\n",
        "plt.grid()"
      ],
      "execution_count": 593,
      "outputs": [
        {
          "output_type": "display_data",
          "data": {
            "image/png": "[encoded data removed]",
            "text/plain": [
              "<Figure size 432x288 with 1 Axes>"
            ]
          },
          "metadata": {
            "tags": [],
            "needs_background": "light"
          }
        }
      ]
    },
    {
      "cell_type": "code",
      "metadata": {
        "colab": {
          "base_uri": "https://localhost:8080/"
        },
        "id": "V2b3iz6s7d4N",
        "outputId": "fa08a413-d3b3-4ea2-b28f-86fad68dfc4d"
      },
      "source": [
        "prediction = baseline_model.predict(valid_in.reshape(-1, 1))\n",
        "print('Vegas RMSE = %.2f points' % mean_squared_error(valid_out, prediction, squared=False))"
      ],
      "execution_count": 594,
      "outputs": [
        {
          "output_type": "stream",
          "text": [
            "Vegas RMSE = 15.30 points\n"
          ],
          "name": "stdout"
        }
      ]
    },
    {
      "cell_type": "markdown",
      "metadata": {
        "id": "f94XS4VVXUET"
      },
      "source": [
        "## Simple (baseline) model"
      ]
    },
    {
      "cell_type": "code",
      "metadata": {
        "id": "K4u_LN2UPMUh"
      },
      "source": [
        "# get season, home team, away team, and the differential result of the game\n",
        "games = original_games\n",
        "games = games.assign(result = (games.home_points-games.away_points))\n",
        "games = games.loc[:, games.columns.intersection(['season', 'home_team', 'away_team', 'result'])]\n",
        "\n",
        "# get the winning percentage of a team for a season\n",
        "records = original_records\n",
        "records = records.assign(percentage = [d.get('wins') / d.get('games') for d in records.total])\n",
        "records = records.loc[:, records.columns.intersection(['year', 'team', 'percentage'])]\n",
        "\n",
        "# add the winning percentage differences to game table\n",
        "games = pd.merge(games, records.rename(columns={'percentage': 'home_percentage'}), how='left', left_on=['season', 'home_team'], right_on=['year', 'team']).drop(['team', 'year'], axis=1)\n",
        "games = pd.merge(games, records.rename(columns={'percentage': 'away_percentage'}), how='left', left_on=['season', 'away_team'], right_on=['year', 'team']).drop(['team', 'year'], axis=1)\n",
        "games = games.dropna()\n",
        "games = games.assign(percent_difference = (games.home_percentage-games.away_percentage))\n",
        "games = games.drop(['home_percentage', 'away_percentage'], axis=1)"
      ],
      "execution_count": 600,
      "outputs": []
    },
    {
      "cell_type": "code",
      "metadata": {
        "id": "jxkKiXE5PMUk"
      },
      "source": [
        "valid = games.loc[games.season == 2019]\n",
        "train = games.loc[games.season != 2019]"
      ],
      "execution_count": 601,
      "outputs": []
    },
    {
      "cell_type": "code",
      "metadata": {
        "id": "aEYOh6-TPMUl"
      },
      "source": [
        "train_in = train.percent_difference.to_numpy()\n",
        "train_out = train.result.to_numpy()\n",
        "valid_in = valid.percent_difference.to_numpy()\n",
        "valid_out = valid.result.to_numpy()\n",
        "baseline_model = LinearRegression().fit(train_in.reshape(-1, 1), train_out)"
      ],
      "execution_count": 602,
      "outputs": []
    },
    {
      "cell_type": "code",
      "metadata": {
        "colab": {
          "base_uri": "https://localhost:8080/",
          "height": 281
        },
        "id": "qLLFds6-PMUo",
        "outputId": "aeb81967-1b90-4e83-83a9-b3548cc85643"
      },
      "source": [
        "x = np.linspace(-1, 1, 500)\n",
        "y = baseline_model.coef_ * x + baseline_model.intercept_\n",
        "y = baseline_model.predict(x.reshape(-1, 1))\n",
        "\n",
        "plt.xlabel('win percentage difference')\n",
        "plt.ylabel('game result')\n",
        "plt.plot(train_in, train_out, '.', color='black')\n",
        "plt.plot(x, y, '-r', label=\"f(x) = %.3fx + %.3f\" % (baseline_model.coef_, baseline_model.intercept_))\n",
        "plt.legend()\n",
        "plt.grid()"
      ],
      "execution_count": 603,
      "outputs": [
        {
          "output_type": "display_data",
          "data": {
            "image/png": "[encoded data removed]",
            "text/plain": [
              "<Figure size 432x288 with 1 Axes>"
            ]
          },
          "metadata": {
            "tags": [],
            "needs_background": "light"
          }
        }
      ]
    },
    {
      "cell_type": "code",
      "metadata": {
        "colab": {
          "base_uri": "https://localhost:8080/"
        },
        "id": "N8y7f3M-PMUr",
        "outputId": "217dfd01-d4d5-4b85-92ad-d51e4e3ecccb"
      },
      "source": [
        "prediction = baseline_model.predict(valid_in.reshape(-1, 1))\n",
        "print('RMSE = %.2f points' % mean_squared_error(valid_out, prediction, squared=False))"
      ],
      "execution_count": 604,
      "outputs": [
        {
          "output_type": "stream",
          "text": [
            "RMSE = 15.75 points\n"
          ],
          "name": "stdout"
        }
      ]
    },
    {
      "cell_type": "markdown",
      "metadata": {
        "id": "Kyjyl17aXMdM"
      },
      "source": [
        "## Simple model with more features"
      ]
    },
    {
      "cell_type": "code",
      "metadata": {
        "colab": {
          "background_save": true
        },
        "id": "XktiXvr3olJX",
        "outputId": "57f8028c-7580-4907-d1eb-3678213635e6"
      },
      "source": [
        "# get the games and calculate spread (result)\n",
        "games = original_games\n",
        "games = games.assign(result = (games.home_points-games.away_points))\n",
        "games = games.loc[:, games.columns.intersection(['id', 'season', 'week', 'home_team', 'away_team', 'result', 'excitement_index'])]\n",
        "\n",
        "# add pregame predictions\n",
        "spreads = original_spread.loc[:, original_spread.columns.intersection(['gameId', 'spread', 'homeWinProb'])]\n",
        "spreads.spread *= -1\n",
        "games = pd.merge(games, spreads, how='left', left_on=['id'], right_on=['gameId']).drop(['gameId'], axis=1)\n",
        "\n",
        "# get winning percentages from the current season\n",
        "# TODO: get this for upto the current games that season\n",
        "records = original_records\n",
        "records = records.assign(total_games = [d.get('games') for d in records.total])\n",
        "records = records.assign(total_wins = [d.get('wins') for d in records.total])\n",
        "records = records.loc[:, records.columns.intersection(['year', 'team', 'total_games', 'total_wins'])]\n",
        "\n",
        "# add winning percentage difference\n",
        "games = pd.merge(games, records.rename(columns={'total_games': 'home_total_games', 'total_wins': 'home_wins'}), how='left', left_on=['season', 'home_team'], right_on=['year', 'team']).drop(['year', 'team'], axis=1)\n",
        "games = pd.merge(games, records.rename(columns={'total_games': 'away_total_games', 'total_wins': 'away_wins'}), how='left', left_on=['season', 'away_team'], right_on=['year', 'team']).drop(['year', 'team'], axis=1)\n",
        "games = games.assign(win_difference = ((games.home_wins / games.home_total_games)-(games.away_wins / games.away_total_games)))\n",
        "games = games.drop(['home_wins', 'away_wins'], axis=1)\n",
        "games = games.dropna()\n",
        "games = games.drop(columns=['home_total_games', 'away_total_games'])\n",
        "\n",
        "# get the list of stats\n",
        "stats = original_stats\n",
        "stats = stats.drop(columns=['conference'])\n",
        "w = stats.loc[(stats.team == 'Washington') & (stats.season == begin)]\n",
        "stat_cols = w.statName.to_list()\n",
        "stat_cols = list(set(stat_cols)) # remove duplicates\n",
        "stat_cols.sort()\n",
        "stat_cols.remove('games')\n",
        "print(stat_cols)\n",
        "\n",
        "# add each stat of both teams\n",
        "s = stats.loc[(stats.statName == 'games')]\n",
        "s = s.drop(columns=['statName'])\n",
        "games = pd.merge(games, s.rename(columns={'statValue': 'home_games'}), how='left', left_on=['season', 'home_team', 'week'], right_on=['season', 'team', 'week']).drop(['team'], axis=1)\n",
        "games = pd.merge(games, s.rename(columns={'statValue': 'away_games'}), how='left', left_on=['season', 'away_team', 'week'], right_on=['season', 'team', 'week']).drop(['team'], axis=1)\n",
        "\n",
        "for stat in stat_cols:\n",
        "  s = stats.loc[(stats.statName == stat)]\n",
        "  s = s.drop(columns=['statName'])\n",
        "  games = pd.merge(games, s.rename(columns={'statValue': 'home_'+stat}), how='left', left_on=['season', 'home_team', 'week'], right_on=['season', 'team', 'week']).drop(['team'], axis=1)\n",
        "  games = pd.merge(games, s.rename(columns={'statValue': 'away_'+stat}), how='left', left_on=['season', 'away_team', 'week'], right_on=['season', 'team', 'week']).drop(['team'], axis=1)\n",
        "  games = games.fillna(0)\n",
        "  games[stat] = (games['home_'+stat]/games.home_games) - (games['away_'+stat]/games.away_games)\n",
        "  games = games.drop(columns=['home_'+stat, 'away_'+stat])\n",
        "\n",
        "games = games.fillna(0)"
      ],
      "execution_count": null,
      "outputs": [
        {
          "output_type": "stream",
          "text": [
            "['firstDowns', 'fourthDownConversions', 'fourthDowns', 'fumblesLost', 'fumblesRecovered', 'interceptionTDs', 'interceptionYards', 'interceptions', 'kickReturnTDs', 'kickReturnYards', 'kickReturns', 'netPassingYards', 'passAttempts', 'passCompletions', 'passesIntercepted', 'passingTDs', 'penalties', 'penaltyYards', 'possessionTime', 'puntReturnTDs', 'puntReturnYards', 'puntReturns', 'rushingAttempts', 'rushingTDs', 'rushingYards', 'thirdDownConversions', 'thirdDowns', 'totalYards', 'turnovers']\n"
          ],
          "name": "stdout"
        }
      ]
    },
    {
      "cell_type": "code",
      "metadata": {
        "colab": {
          "background_save": true
        },
        "id": "HGMQRCUjLlvN"
      },
      "source": [
        "# create the table for total points a team scored for an against before a given week\n",
        "points_per_game = original_teams.loc[:, original_teams.columns.intersection(['school'])]\n",
        "points_per_game['year'] = 2020\n",
        "one_season = points_per_game.copy()\n",
        "for year in range(2004, 2020):\n",
        "  temp = one_season.copy()\n",
        "  temp['year'] = year\n",
        "  points_per_game = pd.concat([points_per_game, temp], ignore_index=True)\n",
        "\n",
        "points_per_game[('points_for_week1')] = 0.0\n",
        "points_per_game[('points_against_week1')] = 0.0\n",
        "scores = original_games.loc[:, original_games.columns.intersection(['season', 'week', 'home_team', 'away_team', 'home_points', 'away_points'])]\n",
        "scores['week'] += 1\n",
        "for week in range(2, 16):\n",
        "  this_scores = scores.loc[scores.week == week]\n",
        "  this_scores = this_scores.rename(columns={'home_points': ('points_for_week%d' % week), 'away_points': ('points_against_week%d' % week)})\n",
        "  points_per_game = pd.merge(points_per_game, this_scores, how='left', left_on=['school', 'year'], right_on=['home_team', 'season']).drop(['home_team', 'away_team', 'season', 'week'], axis=1)\n",
        "  this_scores = scores.loc[scores.week == week]\n",
        "  this_scores = this_scores.rename(columns={'away_points': ('points_for_week%d' % week), 'home_points': ('points_against_week%d' % week)})\n",
        "  points_per_game = pd.merge(points_per_game, this_scores, how='left', left_on=['school', 'year'], right_on=['away_team', 'season']).drop(['home_team', 'away_team', 'season', 'week'], axis=1)\n",
        "  points_per_game = points_per_game.fillna(0)\n",
        "  points_per_game[('points_for_week%d' % week)] = points_per_game[('points_for_week%d_x' % week)] + points_per_game[('points_for_week%d_y' % week)]\n",
        "  points_per_game[('points_against_week%d' % week)] = points_per_game[('points_against_week%d_x' % week)] + points_per_game[('points_against_week%d_y' % week)]\n",
        "  points_per_game = points_per_game.drop(columns=[('points_for_week%d_x' % week), ('points_for_week%d_y' % week), ('points_against_week%d_x' % week), ('points_against_week%d_y' % week)])\n",
        "\n",
        "for week in range(2, 16):\n",
        "  points_per_game[('points_for_week%d' % week)] += points_per_game[('points_for_week%d' % (week-1))]\n",
        "  points_per_game[('points_against_week%d' % week)] += points_per_game[('points_against_week%d' % (week-1))]\n",
        "\n",
        "for week in range(1,16):\n",
        "  points = points_per_game.loc[:, points_per_game.columns.intersection(['year', 'school', ('points_for_week%d' % week), ('points_against_week%d' % week)])]\n",
        "  points = points.rename(columns={('points_for_week%d' % week): 'home_for', ('points_against_week%d' % week): 'home_against'})\n",
        "  points['week'] = week\n",
        "  games = pd.merge(games, points, how='left', left_on=['home_team', 'season', 'week'], right_on=['school', 'year', 'week']).drop(['school', 'year'], axis=1)\n",
        "  points = points.rename(columns={'home_for': 'away_for', 'home_against': 'away_against'})\n",
        "  games = pd.merge(games, points, how='left', left_on=['away_team', 'season', 'week'], right_on=['school', 'year', 'week']).drop(['school', 'year'], axis=1)\n",
        "  if (week > 1):\n",
        "    games['home_for'] = games['home_for_x'].fillna(0) + games['home_for_y'].fillna(0)\n",
        "    games['home_against'] = games['home_against_x'].fillna(0) + games['home_against_y'].fillna(0)\n",
        "    games['away_for'] = games['away_for_x'].fillna(0) + games['away_for_y'].fillna(0)\n",
        "    games['away_against'] = games['away_against_x'].fillna(0) + games['away_against_y'].fillna(0)\n",
        "    games = games.drop(columns=['home_for_x', 'home_for_y', 'home_against_x', 'home_against_y', 'away_for_x', 'away_for_y', 'away_against_x', 'away_against_y'])\n",
        "\n",
        "games['home_for'] /= games['home_games']\n",
        "games['home_against'] /= games['home_games']\n",
        "games['away_for'] /= games['away_games']\n",
        "games['away_against'] /= games['away_games']\n",
        "games = games.fillna(0)\n",
        "\n",
        "# points_per_game.loc[points_per_game.school == 'Washington']"
      ],
      "execution_count": null,
      "outputs": []
    },
    {
      "cell_type": "code",
      "metadata": {
        "colab": {
          "background_save": true
        },
        "id": "mO5O5r2aZie9"
      },
      "source": [
        "# add one hot ap-top 25 rankings for each team\n",
        "rankings = original_rankings.drop(columns = ['seasonType'])\n",
        "rankings['rank1_name'] = [d[0].get('poll') for d in rankings.polls]\n",
        "rankings['rank1_ranks'] = [d[0].get('ranks') for d in rankings.polls]\n",
        "rankings['rank2_name'] = [d[1].get('poll') for d in rankings.polls]\n",
        "rankings['rank2_ranks'] = [d[1].get('ranks') for d in rankings.polls]\n",
        "rankings.loc[rankings['rank1_name'] == 'AP Top 25', 'ap'] = rankings.loc[rankings['rank1_name'] == 'AP Top 25'].rank1_ranks\n",
        "rankings.loc[rankings['rank2_name'] == 'AP Top 25', 'ap'] = rankings.loc[rankings['rank2_name'] == 'AP Top 25'].rank2_ranks\n",
        "rankings = rankings.drop(columns=['rank1_name', 'rank2_name', 'rank1_ranks', 'rank2_ranks', 'polls'])\n",
        "rankings = rankings.reset_index(drop=True)\n",
        "rankings = rankings.explode('ap').reset_index(drop=True)\n",
        "rankings['school'] = [d.get('school') for d in rankings.ap]\n",
        "rankings['rank'] = [d.get('rank') for d in rankings.ap]\n",
        "rankings = rankings.drop(columns=['ap'])\n",
        "games = pd.merge(games, rankings.rename(columns={'rank': 'home_rank'}), how='left', left_on=['season', 'week', 'home_team'], right_on=['season', 'week', 'school']).drop(['school'], axis=1)\n",
        "games = pd.merge(games, rankings.rename(columns={'rank': 'away_rank'}), how='left', left_on=['season', 'week', 'away_team'], right_on=['season', 'week', 'school']).drop(['school'], axis=1)\n",
        "games = games.fillna(0)\n",
        "games = replace_categorical_with_one_hot(games, 'home_rank')\n",
        "games = replace_categorical_with_one_hot(games, 'away_rank')\n"
      ],
      "execution_count": null,
      "outputs": []
    },
    {
      "cell_type": "code",
      "metadata": {
        "colab": {
          "background_save": true
        },
        "id": "iNPFSuguJyee",
        "outputId": "901973ee-19a9-4efa-daf5-3dbb294c6311"
      },
      "source": [
        "games.loc[(games.home_team == 'Washington') & (games.season == 2013)]"
      ],
      "execution_count": null,
      "outputs": [
        {
          "output_type": "execute_result",
          "data": {
            "text/html": [
              "<div>\n",
              "<style scoped>\n",
              "    .dataframe tbody tr th:only-of-type {\n",
              "        vertical-align: middle;\n",
              "    }\n",
              "\n",
              "    .dataframe tbody tr th {\n",
              "        vertical-align: top;\n",
              "    }\n",
              "\n",
              "    .dataframe thead th {\n",
              "        text-align: right;\n",
              "    }\n",
              "</style>\n",
              "<table border=\"1\" class=\"dataframe\">\n",
              "  <thead>\n",
              "    <tr style=\"text-align: right;\">\n",
              "      <th></th>\n",
              "      <th>id</th>\n",
              "      <th>season</th>\n",
              "      <th>week</th>\n",
              "      <th>home_team</th>\n",
              "      <th>away_team</th>\n",
              "      <th>excitement_index</th>\n",
              "      <th>result</th>\n",
              "      <th>spread</th>\n",
              "      <th>homeWinProb</th>\n",
              "      <th>win_difference</th>\n",
              "      <th>home_games</th>\n",
              "      <th>away_games</th>\n",
              "      <th>firstDowns</th>\n",
              "      <th>fourthDownConversions</th>\n",
              "      <th>fourthDowns</th>\n",
              "      <th>fumblesLost</th>\n",
              "      <th>fumblesRecovered</th>\n",
              "      <th>interceptionTDs</th>\n",
              "      <th>interceptionYards</th>\n",
              "      <th>interceptions</th>\n",
              "      <th>kickReturnTDs</th>\n",
              "      <th>kickReturnYards</th>\n",
              "      <th>kickReturns</th>\n",
              "      <th>netPassingYards</th>\n",
              "      <th>passAttempts</th>\n",
              "      <th>passCompletions</th>\n",
              "      <th>passesIntercepted</th>\n",
              "      <th>passingTDs</th>\n",
              "      <th>penalties</th>\n",
              "      <th>penaltyYards</th>\n",
              "      <th>possessionTime</th>\n",
              "      <th>puntReturnTDs</th>\n",
              "      <th>puntReturnYards</th>\n",
              "      <th>puntReturns</th>\n",
              "      <th>rushingAttempts</th>\n",
              "      <th>rushingTDs</th>\n",
              "      <th>rushingYards</th>\n",
              "      <th>thirdDownConversions</th>\n",
              "      <th>thirdDowns</th>\n",
              "      <th>totalYards</th>\n",
              "      <th>...</th>\n",
              "      <th>home_rank_12</th>\n",
              "      <th>home_rank_13</th>\n",
              "      <th>home_rank_14</th>\n",
              "      <th>home_rank_15</th>\n",
              "      <th>home_rank_16</th>\n",
              "      <th>home_rank_17</th>\n",
              "      <th>home_rank_18</th>\n",
              "      <th>home_rank_19</th>\n",
              "      <th>home_rank_20</th>\n",
              "      <th>home_rank_21</th>\n",
              "      <th>home_rank_22</th>\n",
              "      <th>home_rank_23</th>\n",
              "      <th>home_rank_24</th>\n",
              "      <th>home_rank_25</th>\n",
              "      <th>away_rank_0</th>\n",
              "      <th>away_rank_1</th>\n",
              "      <th>away_rank_2</th>\n",
              "      <th>away_rank_3</th>\n",
              "      <th>away_rank_4</th>\n",
              "      <th>away_rank_5</th>\n",
              "      <th>away_rank_6</th>\n",
              "      <th>away_rank_7</th>\n",
              "      <th>away_rank_8</th>\n",
              "      <th>away_rank_9</th>\n",
              "      <th>away_rank_10</th>\n",
              "      <th>away_rank_11</th>\n",
              "      <th>away_rank_12</th>\n",
              "      <th>away_rank_13</th>\n",
              "      <th>away_rank_14</th>\n",
              "      <th>away_rank_15</th>\n",
              "      <th>away_rank_16</th>\n",
              "      <th>away_rank_17</th>\n",
              "      <th>away_rank_18</th>\n",
              "      <th>away_rank_19</th>\n",
              "      <th>away_rank_20</th>\n",
              "      <th>away_rank_21</th>\n",
              "      <th>away_rank_22</th>\n",
              "      <th>away_rank_23</th>\n",
              "      <th>away_rank_24</th>\n",
              "      <th>away_rank_25</th>\n",
              "    </tr>\n",
              "  </thead>\n",
              "  <tbody>\n",
              "    <tr>\n",
              "      <th>38</th>\n",
              "      <td>332430264</td>\n",
              "      <td>2013</td>\n",
              "      <td>1</td>\n",
              "      <td>Washington</td>\n",
              "      <td>Boise State</td>\n",
              "      <td>4.016148</td>\n",
              "      <td>32</td>\n",
              "      <td>2.5</td>\n",
              "      <td>0.558</td>\n",
              "      <td>0.076923</td>\n",
              "      <td>0.0</td>\n",
              "      <td>0.0</td>\n",
              "      <td>0.000000</td>\n",
              "      <td>0.000000</td>\n",
              "      <td>0.000000</td>\n",
              "      <td>0.000000</td>\n",
              "      <td>0.000000</td>\n",
              "      <td>0.000000</td>\n",
              "      <td>0.000000</td>\n",
              "      <td>0.000000</td>\n",
              "      <td>0.0</td>\n",
              "      <td>0.000000</td>\n",
              "      <td>0.000000</td>\n",
              "      <td>0.000000</td>\n",
              "      <td>0.000000</td>\n",
              "      <td>0.000000</td>\n",
              "      <td>0.000000</td>\n",
              "      <td>0.000000</td>\n",
              "      <td>0.000000</td>\n",
              "      <td>0.000000</td>\n",
              "      <td>0.000000</td>\n",
              "      <td>0.0</td>\n",
              "      <td>0.000000</td>\n",
              "      <td>0.000000</td>\n",
              "      <td>0.000000</td>\n",
              "      <td>0.000000</td>\n",
              "      <td>0.000000</td>\n",
              "      <td>0.000000</td>\n",
              "      <td>0.000000</td>\n",
              "      <td>0.000000</td>\n",
              "      <td>...</td>\n",
              "      <td>0.0</td>\n",
              "      <td>0.0</td>\n",
              "      <td>0.0</td>\n",
              "      <td>0.0</td>\n",
              "      <td>0.0</td>\n",
              "      <td>0.0</td>\n",
              "      <td>0.0</td>\n",
              "      <td>0.0</td>\n",
              "      <td>0.0</td>\n",
              "      <td>0.0</td>\n",
              "      <td>0.0</td>\n",
              "      <td>0.0</td>\n",
              "      <td>0.0</td>\n",
              "      <td>0.0</td>\n",
              "      <td>0.0</td>\n",
              "      <td>0.0</td>\n",
              "      <td>0.0</td>\n",
              "      <td>0.0</td>\n",
              "      <td>0.0</td>\n",
              "      <td>0.0</td>\n",
              "      <td>0.0</td>\n",
              "      <td>0.0</td>\n",
              "      <td>0.0</td>\n",
              "      <td>0.0</td>\n",
              "      <td>0.0</td>\n",
              "      <td>0.0</td>\n",
              "      <td>0.0</td>\n",
              "      <td>0.0</td>\n",
              "      <td>0.0</td>\n",
              "      <td>0.0</td>\n",
              "      <td>0.0</td>\n",
              "      <td>0.0</td>\n",
              "      <td>0.0</td>\n",
              "      <td>1.0</td>\n",
              "      <td>0.0</td>\n",
              "      <td>0.0</td>\n",
              "      <td>0.0</td>\n",
              "      <td>0.0</td>\n",
              "      <td>0.0</td>\n",
              "      <td>0.0</td>\n",
              "    </tr>\n",
              "    <tr>\n",
              "      <th>203</th>\n",
              "      <td>332710264</td>\n",
              "      <td>2013</td>\n",
              "      <td>5</td>\n",
              "      <td>Washington</td>\n",
              "      <td>Arizona</td>\n",
              "      <td>5.958433</td>\n",
              "      <td>18</td>\n",
              "      <td>7.0</td>\n",
              "      <td>0.660</td>\n",
              "      <td>0.076923</td>\n",
              "      <td>3.0</td>\n",
              "      <td>3.0</td>\n",
              "      <td>9.666667</td>\n",
              "      <td>-0.666667</td>\n",
              "      <td>-0.666667</td>\n",
              "      <td>0.333333</td>\n",
              "      <td>-0.333333</td>\n",
              "      <td>-1.000000</td>\n",
              "      <td>-48.666667</td>\n",
              "      <td>0.333333</td>\n",
              "      <td>0.0</td>\n",
              "      <td>32.000000</td>\n",
              "      <td>1.666667</td>\n",
              "      <td>216.666667</td>\n",
              "      <td>13.000000</td>\n",
              "      <td>13.666667</td>\n",
              "      <td>-0.666667</td>\n",
              "      <td>2.000000</td>\n",
              "      <td>8.666667</td>\n",
              "      <td>71.666667</td>\n",
              "      <td>182.666667</td>\n",
              "      <td>0.0</td>\n",
              "      <td>-26.666667</td>\n",
              "      <td>-3.666667</td>\n",
              "      <td>2.000000</td>\n",
              "      <td>-1.000000</td>\n",
              "      <td>-18.666667</td>\n",
              "      <td>2.000000</td>\n",
              "      <td>-0.666667</td>\n",
              "      <td>198.000000</td>\n",
              "      <td>...</td>\n",
              "      <td>0.0</td>\n",
              "      <td>0.0</td>\n",
              "      <td>0.0</td>\n",
              "      <td>0.0</td>\n",
              "      <td>1.0</td>\n",
              "      <td>0.0</td>\n",
              "      <td>0.0</td>\n",
              "      <td>0.0</td>\n",
              "      <td>0.0</td>\n",
              "      <td>0.0</td>\n",
              "      <td>0.0</td>\n",
              "      <td>0.0</td>\n",
              "      <td>0.0</td>\n",
              "      <td>0.0</td>\n",
              "      <td>1.0</td>\n",
              "      <td>0.0</td>\n",
              "      <td>0.0</td>\n",
              "      <td>0.0</td>\n",
              "      <td>0.0</td>\n",
              "      <td>0.0</td>\n",
              "      <td>0.0</td>\n",
              "      <td>0.0</td>\n",
              "      <td>0.0</td>\n",
              "      <td>0.0</td>\n",
              "      <td>0.0</td>\n",
              "      <td>0.0</td>\n",
              "      <td>0.0</td>\n",
              "      <td>0.0</td>\n",
              "      <td>0.0</td>\n",
              "      <td>0.0</td>\n",
              "      <td>0.0</td>\n",
              "      <td>0.0</td>\n",
              "      <td>0.0</td>\n",
              "      <td>0.0</td>\n",
              "      <td>0.0</td>\n",
              "      <td>0.0</td>\n",
              "      <td>0.0</td>\n",
              "      <td>0.0</td>\n",
              "      <td>0.0</td>\n",
              "      <td>0.0</td>\n",
              "    </tr>\n",
              "    <tr>\n",
              "      <th>304</th>\n",
              "      <td>332850264</td>\n",
              "      <td>2013</td>\n",
              "      <td>7</td>\n",
              "      <td>Washington</td>\n",
              "      <td>Oregon</td>\n",
              "      <td>4.255697</td>\n",
              "      <td>-21</td>\n",
              "      <td>-10.5</td>\n",
              "      <td>0.268</td>\n",
              "      <td>-0.153846</td>\n",
              "      <td>5.0</td>\n",
              "      <td>5.0</td>\n",
              "      <td>1.800000</td>\n",
              "      <td>-0.600000</td>\n",
              "      <td>-1.200000</td>\n",
              "      <td>0.000000</td>\n",
              "      <td>-1.400000</td>\n",
              "      <td>0.000000</td>\n",
              "      <td>-19.000000</td>\n",
              "      <td>0.200000</td>\n",
              "      <td>0.0</td>\n",
              "      <td>2.600000</td>\n",
              "      <td>0.200000</td>\n",
              "      <td>3.600000</td>\n",
              "      <td>3.400000</td>\n",
              "      <td>6.600000</td>\n",
              "      <td>0.200000</td>\n",
              "      <td>-0.600000</td>\n",
              "      <td>3.000000</td>\n",
              "      <td>22.400000</td>\n",
              "      <td>202.800000</td>\n",
              "      <td>-0.4</td>\n",
              "      <td>-37.800000</td>\n",
              "      <td>-0.600000</td>\n",
              "      <td>4.400000</td>\n",
              "      <td>-2.200000</td>\n",
              "      <td>-77.000000</td>\n",
              "      <td>2.800000</td>\n",
              "      <td>1.600000</td>\n",
              "      <td>-73.400000</td>\n",
              "      <td>...</td>\n",
              "      <td>0.0</td>\n",
              "      <td>0.0</td>\n",
              "      <td>0.0</td>\n",
              "      <td>0.0</td>\n",
              "      <td>1.0</td>\n",
              "      <td>0.0</td>\n",
              "      <td>0.0</td>\n",
              "      <td>0.0</td>\n",
              "      <td>0.0</td>\n",
              "      <td>0.0</td>\n",
              "      <td>0.0</td>\n",
              "      <td>0.0</td>\n",
              "      <td>0.0</td>\n",
              "      <td>0.0</td>\n",
              "      <td>0.0</td>\n",
              "      <td>0.0</td>\n",
              "      <td>1.0</td>\n",
              "      <td>0.0</td>\n",
              "      <td>0.0</td>\n",
              "      <td>0.0</td>\n",
              "      <td>0.0</td>\n",
              "      <td>0.0</td>\n",
              "      <td>0.0</td>\n",
              "      <td>0.0</td>\n",
              "      <td>0.0</td>\n",
              "      <td>0.0</td>\n",
              "      <td>0.0</td>\n",
              "      <td>0.0</td>\n",
              "      <td>0.0</td>\n",
              "      <td>0.0</td>\n",
              "      <td>0.0</td>\n",
              "      <td>0.0</td>\n",
              "      <td>0.0</td>\n",
              "      <td>0.0</td>\n",
              "      <td>0.0</td>\n",
              "      <td>0.0</td>\n",
              "      <td>0.0</td>\n",
              "      <td>0.0</td>\n",
              "      <td>0.0</td>\n",
              "      <td>0.0</td>\n",
              "    </tr>\n",
              "    <tr>\n",
              "      <th>422</th>\n",
              "      <td>332990264</td>\n",
              "      <td>2013</td>\n",
              "      <td>9</td>\n",
              "      <td>Washington</td>\n",
              "      <td>California</td>\n",
              "      <td>2.546683</td>\n",
              "      <td>24</td>\n",
              "      <td>23.0</td>\n",
              "      <td>0.912</td>\n",
              "      <td>0.608974</td>\n",
              "      <td>7.0</td>\n",
              "      <td>7.0</td>\n",
              "      <td>0.428571</td>\n",
              "      <td>-0.857143</td>\n",
              "      <td>-1.714286</td>\n",
              "      <td>-1.000000</td>\n",
              "      <td>-0.714286</td>\n",
              "      <td>0.000000</td>\n",
              "      <td>2.857143</td>\n",
              "      <td>-0.857143</td>\n",
              "      <td>0.0</td>\n",
              "      <td>-56.000000</td>\n",
              "      <td>-2.285714</td>\n",
              "      <td>-89.857143</td>\n",
              "      <td>-18.285714</td>\n",
              "      <td>-9.142857</td>\n",
              "      <td>0.571429</td>\n",
              "      <td>0.285714</td>\n",
              "      <td>0.857143</td>\n",
              "      <td>2.714286</td>\n",
              "      <td>18.000000</td>\n",
              "      <td>0.0</td>\n",
              "      <td>-1.714286</td>\n",
              "      <td>-0.285714</td>\n",
              "      <td>9.142857</td>\n",
              "      <td>1.571429</td>\n",
              "      <td>105.428571</td>\n",
              "      <td>1.000000</td>\n",
              "      <td>-2.857143</td>\n",
              "      <td>15.571429</td>\n",
              "      <td>...</td>\n",
              "      <td>0.0</td>\n",
              "      <td>0.0</td>\n",
              "      <td>0.0</td>\n",
              "      <td>0.0</td>\n",
              "      <td>0.0</td>\n",
              "      <td>0.0</td>\n",
              "      <td>0.0</td>\n",
              "      <td>0.0</td>\n",
              "      <td>0.0</td>\n",
              "      <td>0.0</td>\n",
              "      <td>0.0</td>\n",
              "      <td>0.0</td>\n",
              "      <td>0.0</td>\n",
              "      <td>0.0</td>\n",
              "      <td>1.0</td>\n",
              "      <td>0.0</td>\n",
              "      <td>0.0</td>\n",
              "      <td>0.0</td>\n",
              "      <td>0.0</td>\n",
              "      <td>0.0</td>\n",
              "      <td>0.0</td>\n",
              "      <td>0.0</td>\n",
              "      <td>0.0</td>\n",
              "      <td>0.0</td>\n",
              "      <td>0.0</td>\n",
              "      <td>0.0</td>\n",
              "      <td>0.0</td>\n",
              "      <td>0.0</td>\n",
              "      <td>0.0</td>\n",
              "      <td>0.0</td>\n",
              "      <td>0.0</td>\n",
              "      <td>0.0</td>\n",
              "      <td>0.0</td>\n",
              "      <td>0.0</td>\n",
              "      <td>0.0</td>\n",
              "      <td>0.0</td>\n",
              "      <td>0.0</td>\n",
              "      <td>0.0</td>\n",
              "      <td>0.0</td>\n",
              "      <td>0.0</td>\n",
              "    </tr>\n",
              "    <tr>\n",
              "      <th>515</th>\n",
              "      <td>333130264</td>\n",
              "      <td>2013</td>\n",
              "      <td>11</td>\n",
              "      <td>Washington</td>\n",
              "      <td>Colorado</td>\n",
              "      <td>1.934312</td>\n",
              "      <td>52</td>\n",
              "      <td>27.0</td>\n",
              "      <td>0.944</td>\n",
              "      <td>0.358974</td>\n",
              "      <td>8.0</td>\n",
              "      <td>8.0</td>\n",
              "      <td>5.750000</td>\n",
              "      <td>0.000000</td>\n",
              "      <td>0.000000</td>\n",
              "      <td>0.000000</td>\n",
              "      <td>-0.500000</td>\n",
              "      <td>-0.250000</td>\n",
              "      <td>-21.375000</td>\n",
              "      <td>-0.750000</td>\n",
              "      <td>0.0</td>\n",
              "      <td>-14.625000</td>\n",
              "      <td>-0.250000</td>\n",
              "      <td>34.625000</td>\n",
              "      <td>0.375000</td>\n",
              "      <td>2.250000</td>\n",
              "      <td>0.000000</td>\n",
              "      <td>0.500000</td>\n",
              "      <td>3.750000</td>\n",
              "      <td>31.750000</td>\n",
              "      <td>35.125000</td>\n",
              "      <td>0.0</td>\n",
              "      <td>2.750000</td>\n",
              "      <td>0.625000</td>\n",
              "      <td>9.875000</td>\n",
              "      <td>1.375000</td>\n",
              "      <td>89.500000</td>\n",
              "      <td>2.625000</td>\n",
              "      <td>0.875000</td>\n",
              "      <td>124.125000</td>\n",
              "      <td>...</td>\n",
              "      <td>0.0</td>\n",
              "      <td>0.0</td>\n",
              "      <td>0.0</td>\n",
              "      <td>0.0</td>\n",
              "      <td>0.0</td>\n",
              "      <td>0.0</td>\n",
              "      <td>0.0</td>\n",
              "      <td>0.0</td>\n",
              "      <td>0.0</td>\n",
              "      <td>0.0</td>\n",
              "      <td>0.0</td>\n",
              "      <td>0.0</td>\n",
              "      <td>0.0</td>\n",
              "      <td>0.0</td>\n",
              "      <td>1.0</td>\n",
              "      <td>0.0</td>\n",
              "      <td>0.0</td>\n",
              "      <td>0.0</td>\n",
              "      <td>0.0</td>\n",
              "      <td>0.0</td>\n",
              "      <td>0.0</td>\n",
              "      <td>0.0</td>\n",
              "      <td>0.0</td>\n",
              "      <td>0.0</td>\n",
              "      <td>0.0</td>\n",
              "      <td>0.0</td>\n",
              "      <td>0.0</td>\n",
              "      <td>0.0</td>\n",
              "      <td>0.0</td>\n",
              "      <td>0.0</td>\n",
              "      <td>0.0</td>\n",
              "      <td>0.0</td>\n",
              "      <td>0.0</td>\n",
              "      <td>0.0</td>\n",
              "      <td>0.0</td>\n",
              "      <td>0.0</td>\n",
              "      <td>0.0</td>\n",
              "      <td>0.0</td>\n",
              "      <td>0.0</td>\n",
              "      <td>0.0</td>\n",
              "    </tr>\n",
              "    <tr>\n",
              "      <th>635</th>\n",
              "      <td>333330264</td>\n",
              "      <td>2013</td>\n",
              "      <td>14</td>\n",
              "      <td>Washington</td>\n",
              "      <td>Washington State</td>\n",
              "      <td>5.738191</td>\n",
              "      <td>10</td>\n",
              "      <td>14.5</td>\n",
              "      <td>0.803</td>\n",
              "      <td>0.230769</td>\n",
              "      <td>11.0</td>\n",
              "      <td>11.0</td>\n",
              "      <td>2.454545</td>\n",
              "      <td>-0.545455</td>\n",
              "      <td>-0.545455</td>\n",
              "      <td>-0.181818</td>\n",
              "      <td>-0.363636</td>\n",
              "      <td>-0.181818</td>\n",
              "      <td>-9.181818</td>\n",
              "      <td>-1.363636</td>\n",
              "      <td>0.0</td>\n",
              "      <td>-16.454545</td>\n",
              "      <td>-0.636364</td>\n",
              "      <td>-92.545455</td>\n",
              "      <td>-24.818182</td>\n",
              "      <td>-14.909091</td>\n",
              "      <td>-0.090909</td>\n",
              "      <td>-0.454545</td>\n",
              "      <td>3.000000</td>\n",
              "      <td>29.727273</td>\n",
              "      <td>0.000000</td>\n",
              "      <td>0.0</td>\n",
              "      <td>-7.818182</td>\n",
              "      <td>-0.454545</td>\n",
              "      <td>28.454545</td>\n",
              "      <td>1.909091</td>\n",
              "      <td>184.818182</td>\n",
              "      <td>1.909091</td>\n",
              "      <td>0.454545</td>\n",
              "      <td>92.272727</td>\n",
              "      <td>...</td>\n",
              "      <td>0.0</td>\n",
              "      <td>0.0</td>\n",
              "      <td>0.0</td>\n",
              "      <td>0.0</td>\n",
              "      <td>0.0</td>\n",
              "      <td>0.0</td>\n",
              "      <td>0.0</td>\n",
              "      <td>0.0</td>\n",
              "      <td>0.0</td>\n",
              "      <td>0.0</td>\n",
              "      <td>0.0</td>\n",
              "      <td>0.0</td>\n",
              "      <td>0.0</td>\n",
              "      <td>0.0</td>\n",
              "      <td>1.0</td>\n",
              "      <td>0.0</td>\n",
              "      <td>0.0</td>\n",
              "      <td>0.0</td>\n",
              "      <td>0.0</td>\n",
              "      <td>0.0</td>\n",
              "      <td>0.0</td>\n",
              "      <td>0.0</td>\n",
              "      <td>0.0</td>\n",
              "      <td>0.0</td>\n",
              "      <td>0.0</td>\n",
              "      <td>0.0</td>\n",
              "      <td>0.0</td>\n",
              "      <td>0.0</td>\n",
              "      <td>0.0</td>\n",
              "      <td>0.0</td>\n",
              "      <td>0.0</td>\n",
              "      <td>0.0</td>\n",
              "      <td>0.0</td>\n",
              "      <td>0.0</td>\n",
              "      <td>0.0</td>\n",
              "      <td>0.0</td>\n",
              "      <td>0.0</td>\n",
              "      <td>0.0</td>\n",
              "      <td>0.0</td>\n",
              "      <td>0.0</td>\n",
              "    </tr>\n",
              "  </tbody>\n",
              "</table>\n",
              "<p>6 rows × 97 columns</p>\n",
              "</div>"
            ],
            "text/plain": [
              "            id  season  week  ... away_rank_23 away_rank_24  away_rank_25\n",
              "38   332430264    2013     1  ...          0.0          0.0           0.0\n",
              "203  332710264    2013     5  ...          0.0          0.0           0.0\n",
              "304  332850264    2013     7  ...          0.0          0.0           0.0\n",
              "422  332990264    2013     9  ...          0.0          0.0           0.0\n",
              "515  333130264    2013    11  ...          0.0          0.0           0.0\n",
              "635  333330264    2013    14  ...          0.0          0.0           0.0\n",
              "\n",
              "[6 rows x 97 columns]"
            ]
          },
          "metadata": {
            "tags": []
          },
          "execution_count": 0
        }
      ]
    },
    {
      "cell_type": "code",
      "metadata": {
        "colab": {
          "background_save": true
        },
        "id": "1IxBm9FP4_Mr"
      },
      "source": [
        "games = games.drop(columns=['id', 'home_team', 'away_team'])\n",
        "games = games.fillna(0)"
      ],
      "execution_count": null,
      "outputs": []
    },
    {
      "cell_type": "code",
      "metadata": {
        "colab": {
          "background_save": true
        },
        "id": "8jRvG_YZ4a40"
      },
      "source": [
        "valid = games.loc[games.season == 2019]\n",
        "train = games.loc[games.season != 2019]"
      ],
      "execution_count": null,
      "outputs": []
    },
    {
      "cell_type": "code",
      "metadata": {
        "colab": {
          "background_save": true
        },
        "id": "m4ci1daJ5tja"
      },
      "source": [
        "valid = valid.drop(columns=['season'])\n",
        "train = train.drop(columns=['season'])"
      ],
      "execution_count": null,
      "outputs": []
    },
    {
      "cell_type": "code",
      "metadata": {
        "colab": {
          "background_save": true
        },
        "id": "C80JrFQi4mL4"
      },
      "source": [
        "train_in = train.drop(columns=['result'])\n",
        "train_out = train.result\n",
        "valid_in = valid.drop(columns=['result'])\n",
        "valid_out = valid.result\n",
        "model = LinearRegression().fit(train_in, train_out)"
      ],
      "execution_count": null,
      "outputs": []
    },
    {
      "cell_type": "code",
      "metadata": {
        "colab": {
          "background_save": true
        },
        "id": "R6lVGQ7Sbxhd",
        "outputId": "d3d7f111-8544-4d85-bf08-87ad8744bf68"
      },
      "source": [
        "prediction = model.predict(valid_in)\n",
        "print('RMSE = %.2f points' % mean_squared_error(valid_out, prediction, squared=False))"
      ],
      "execution_count": null,
      "outputs": [
        {
          "output_type": "stream",
          "text": [
            "RMSE = 14.35 points\n"
          ],
          "name": "stdout"
        }
      ]
    },
    {
      "cell_type": "markdown",
      "metadata": {
        "id": "nAxuSbxatL0M"
      },
      "source": [
        "# Simple ML Model"
      ]
    },
    {
      "cell_type": "code",
      "metadata": {
        "colab": {
          "base_uri": "https://localhost:8080/"
        },
        "id": "4HHeYhQuwkEj",
        "outputId": "16b941b7-d76e-4c1c-fcf4-4491a72bdb85"
      },
      "source": [
        "torch.manual_seed(0)\n",
        "device = torch.device(\"cuda\")\n",
        "print('Using device', device)"
      ],
      "execution_count": null,
      "outputs": [
        {
          "output_type": "stream",
          "text": [
            "Using device cuda\n"
          ],
          "name": "stdout"
        }
      ]
    },
    {
      "cell_type": "code",
      "metadata": {
        "id": "N2g_r6i5ym0i"
      },
      "source": [
        "def train(model, device, train_loader, optimizer, epochs, criterion, verbose=False):\n",
        "  for epoch in range(epochs):\n",
        "    model.train()\n",
        "    for data, label in train_loader:\n",
        "      data, label = data.to(device), label.to(device)\n",
        "      optimizer.zero_grad()\n",
        "      output = model(data)\n",
        "      loss = criterion(output, label)\n",
        "      loss.backward()\n",
        "      optimizer.step()\n",
        "    if verbose:\n",
        "      print('Train Epoch: %d  \\tLoss: %.6f' % (epoch, loss.item()/len(data)))\n",
        "\n",
        "def test(model, device, test_loader, criterion):\n",
        "  model.eval()\n",
        "  test_loss = 0\n",
        "  correct = 0\n",
        "  with torch.no_grad():\n",
        "    for data, label in test_loader:\n",
        "      data, label = data.to(device), label.to(device)\n",
        "      output = model(data)\n",
        "      test_loss += criterion(output, label)\n",
        "\n",
        "  test_loss /= len(test_loader.dataset)\n",
        "  print('Test set: Average loss: %.4f' % test_loss)\n",
        "\n",
        "  return test_loss"
      ],
      "execution_count": null,
      "outputs": []
    },
    {
      "cell_type": "code",
      "metadata": {
        "id": "WsGrGRnet6ur"
      },
      "source": [
        "class Net(nn.Module):\n",
        "    def __init__(self, input_size):\n",
        "        super(Net, self).__init__()\n",
        "        self.fc1 = nn.Linear(input_size, 200).cuda()\n",
        "        self.fc2 = nn.Linear(200, 100).cuda()\n",
        "        self.fc3 = nn.Linear(100, 1).cuda()\n",
        " \n",
        "    def forward(self, x):\n",
        "        x = F.leaky_relu(self.fc1(x))\n",
        "        x = F.leaky_relu(self.fc2(x))\n",
        "        x = self.fc3(x)\n",
        "        return x\n",
        "\n",
        "model = Net(np.shape(train_in.to_numpy())[1])"
      ],
      "execution_count": null,
      "outputs": []
    },
    {
      "cell_type": "code",
      "metadata": {
        "id": "v93eOD06weSC"
      },
      "source": [
        "BATCH_SIZE = 64\n",
        "EPOCHS = 100\n",
        "LEARNING_RATE = 0.0000001\n",
        "MOMENTUM = 0.05"
      ],
      "execution_count": null,
      "outputs": []
    },
    {
      "cell_type": "code",
      "metadata": {
        "id": "pFUZfaGMxduT"
      },
      "source": [
        "data_train_vals = torch.tensor(train_in.to_numpy(), dtype=torch.float, device=device)\n",
        "data_train_labels = torch.tensor(train_out.to_numpy(), dtype=torch.float, device=device)\n",
        "data_train = TensorDataset(data_train_vals, data_train_labels)\n",
        "train_loader = DataLoader(dataset = data_train, batch_size = BATCH_SIZE, shuffle = True) \n",
        "\n",
        "data_valid_vals = torch.tensor(valid_in.to_numpy(), dtype=torch.float, device=device)\n",
        "data_valid_labels = torch.tensor(valid_out.to_numpy(), dtype=torch.float, device=device)\n",
        "data_valid = TensorDataset(data_train_vals, data_train_labels)\n",
        "valid_loader = DataLoader(dataset = data_valid, batch_size = BATCH_SIZE,  shuffle = False)"
      ],
      "execution_count": null,
      "outputs": []
    },
    {
      "cell_type": "code",
      "metadata": {
        "id": "b8F6KZ0gw2nk"
      },
      "source": [
        "optimizer = torch.optim.SGD(model.parameters(), lr=LEARNING_RATE, momentum=MOMENTUM)\n",
        "criterion = nn.MSELoss()"
      ],
      "execution_count": null,
      "outputs": []
    },
    {
      "cell_type": "code",
      "metadata": {
        "colab": {
          "base_uri": "https://localhost:8080/"
        },
        "id": "VNH_3jeaxFL2",
        "outputId": "b1d054e4-5669-4a10-d4b0-ea95161c8ef1"
      },
      "source": [
        "train(model, device, train_loader, optimizer, EPOCHS, criterion, verbose=True)"
      ],
      "execution_count": null,
      "outputs": [
        {
          "output_type": "stream",
          "text": [
            "Train Epoch: 0  \tLoss: 11.271716\n",
            "Train Epoch: 1  \tLoss: 8.862033\n",
            "Train Epoch: 2  \tLoss: 9.425058\n",
            "Train Epoch: 3  \tLoss: 11.580536\n",
            "Train Epoch: 4  \tLoss: 6.923114\n",
            "Train Epoch: 5  \tLoss: 7.862934\n",
            "Train Epoch: 6  \tLoss: 6.594270\n",
            "Train Epoch: 7  \tLoss: 8.397828\n",
            "Train Epoch: 8  \tLoss: 12.722653\n",
            "Train Epoch: 9  \tLoss: 8.564087\n",
            "Train Epoch: 10  \tLoss: 8.580998\n",
            "Train Epoch: 11  \tLoss: 6.374945\n",
            "Train Epoch: 12  \tLoss: 8.578032\n",
            "Train Epoch: 13  \tLoss: 9.695422\n",
            "Train Epoch: 14  \tLoss: 7.345809\n",
            "Train Epoch: 15  \tLoss: 11.283880\n",
            "Train Epoch: 16  \tLoss: 6.749410\n",
            "Train Epoch: 17  \tLoss: 8.196576\n",
            "Train Epoch: 18  \tLoss: 6.226734\n",
            "Train Epoch: 19  \tLoss: 6.697576\n",
            "Train Epoch: 20  \tLoss: 8.369818\n",
            "Train Epoch: 21  \tLoss: 8.673046\n",
            "Train Epoch: 22  \tLoss: 6.009303\n",
            "Train Epoch: 23  \tLoss: 8.842555\n",
            "Train Epoch: 24  \tLoss: 10.175337\n",
            "Train Epoch: 25  \tLoss: 10.004174\n",
            "Train Epoch: 26  \tLoss: 10.840820\n",
            "Train Epoch: 27  \tLoss: 12.298882\n",
            "Train Epoch: 28  \tLoss: 9.640116\n",
            "Train Epoch: 29  \tLoss: 6.245278\n",
            "Train Epoch: 30  \tLoss: 7.052047\n",
            "Train Epoch: 31  \tLoss: 9.382019\n",
            "Train Epoch: 32  \tLoss: 8.192655\n",
            "Train Epoch: 33  \tLoss: 8.935189\n",
            "Train Epoch: 34  \tLoss: 9.967874\n",
            "Train Epoch: 35  \tLoss: 7.664262\n",
            "Train Epoch: 36  \tLoss: 6.575611\n",
            "Train Epoch: 37  \tLoss: 7.592678\n",
            "Train Epoch: 38  \tLoss: 8.561892\n",
            "Train Epoch: 39  \tLoss: 11.177277\n",
            "Train Epoch: 40  \tLoss: 10.049529\n",
            "Train Epoch: 41  \tLoss: 8.284830\n",
            "Train Epoch: 42  \tLoss: 8.849974\n",
            "Train Epoch: 43  \tLoss: 8.163154\n",
            "Train Epoch: 44  \tLoss: 6.634240\n",
            "Train Epoch: 45  \tLoss: 9.593090\n",
            "Train Epoch: 46  \tLoss: 8.961605\n",
            "Train Epoch: 47  \tLoss: 7.154476\n",
            "Train Epoch: 48  \tLoss: 10.405027\n",
            "Train Epoch: 49  \tLoss: 8.981686\n",
            "Train Epoch: 50  \tLoss: 8.395806\n",
            "Train Epoch: 51  \tLoss: 7.924423\n",
            "Train Epoch: 52  \tLoss: 10.958207\n",
            "Train Epoch: 53  \tLoss: 7.778481\n",
            "Train Epoch: 54  \tLoss: 9.171504\n",
            "Train Epoch: 55  \tLoss: 10.766317\n",
            "Train Epoch: 56  \tLoss: 7.957309\n",
            "Train Epoch: 57  \tLoss: 7.295615\n",
            "Train Epoch: 58  \tLoss: 7.876425\n",
            "Train Epoch: 59  \tLoss: 7.699728\n",
            "Train Epoch: 60  \tLoss: 10.527832\n",
            "Train Epoch: 61  \tLoss: 8.796887\n",
            "Train Epoch: 62  \tLoss: 8.030516\n",
            "Train Epoch: 63  \tLoss: 5.530489\n",
            "Train Epoch: 64  \tLoss: 10.658551\n",
            "Train Epoch: 65  \tLoss: 8.388459\n",
            "Train Epoch: 66  \tLoss: 9.023894\n",
            "Train Epoch: 67  \tLoss: 10.536821\n",
            "Train Epoch: 68  \tLoss: 12.069208\n",
            "Train Epoch: 69  \tLoss: 8.326045\n",
            "Train Epoch: 70  \tLoss: 10.461476\n",
            "Train Epoch: 71  \tLoss: 9.465539\n",
            "Train Epoch: 72  \tLoss: 7.000557\n",
            "Train Epoch: 73  \tLoss: 7.964622\n",
            "Train Epoch: 74  \tLoss: 11.371189\n",
            "Train Epoch: 75  \tLoss: 5.365209\n",
            "Train Epoch: 76  \tLoss: 9.666173\n",
            "Train Epoch: 77  \tLoss: 10.866487\n",
            "Train Epoch: 78  \tLoss: 9.164243\n",
            "Train Epoch: 79  \tLoss: 12.499287\n",
            "Train Epoch: 80  \tLoss: 6.808911\n",
            "Train Epoch: 81  \tLoss: 5.522688\n",
            "Train Epoch: 82  \tLoss: 10.134666\n",
            "Train Epoch: 83  \tLoss: 6.605488\n",
            "Train Epoch: 84  \tLoss: 7.813267\n",
            "Train Epoch: 85  \tLoss: 8.419421\n",
            "Train Epoch: 86  \tLoss: 10.167670\n",
            "Train Epoch: 87  \tLoss: 8.326211\n",
            "Train Epoch: 88  \tLoss: 12.717715\n",
            "Train Epoch: 89  \tLoss: 8.118843\n",
            "Train Epoch: 90  \tLoss: 8.541546\n",
            "Train Epoch: 91  \tLoss: 10.668754\n",
            "Train Epoch: 92  \tLoss: 7.459342\n",
            "Train Epoch: 93  \tLoss: 8.330874\n",
            "Train Epoch: 94  \tLoss: 9.152049\n",
            "Train Epoch: 95  \tLoss: 9.680735\n",
            "Train Epoch: 96  \tLoss: 8.105084\n",
            "Train Epoch: 97  \tLoss: 8.422642\n",
            "Train Epoch: 98  \tLoss: 8.191880\n",
            "Train Epoch: 99  \tLoss: 7.409853\n"
          ],
          "name": "stdout"
        }
      ]
    },
    {
      "cell_type": "code",
      "metadata": {
        "colab": {
          "base_uri": "https://localhost:8080/"
        },
        "id": "uqpAf1dKyrnC",
        "outputId": "c22e8dc1-52f2-4ae9-add6-3e7ef8812839"
      },
      "source": [
        "result = test(model, device, valid_loader, criterion)"
      ],
      "execution_count": null,
      "outputs": [
        {
          "output_type": "stream",
          "text": [
            "Test set: Average loss: 7.0036\n"
          ],
          "name": "stdout"
        }
      ]
    },
    {
      "cell_type": "code",
      "metadata": {
        "colab": {
          "base_uri": "https://localhost:8080/"
        },
        "id": "bBww8Bk_8d95",
        "outputId": "8ae0fe04-e175-4bf2-e148-7b82c36a1a63"
      },
      "source": [
        "game = np.array([10.0, 11.0, -0.063636, -1.118182, -0.854545, -1.390909, -0.118182, 0.054545, -0.090909, -8.081818, 0.354545, -35.790909, -4.618182, -2.918182, -0.036364, -0.436364, 0.581818, 1.790909, -107.918182, 0.000000, 2.663636, 0.172727, -1.390909, 1.163636, 46.954545, -0.390909, -1.681818, 11.163636, 0.236364])\n",
        "game = torch.tensor(game, dtype=torch.float, device=device)\n",
        "model(game).item()"
      ],
      "execution_count": null,
      "outputs": [
        {
          "output_type": "execute_result",
          "data": {
            "text/plain": [
              "3.5620248317718506"
            ]
          },
          "metadata": {
            "tags": []
          },
          "execution_count": 108
        }
      ]
    },
    {
      "cell_type": "markdown",
      "metadata": {
        "id": "9bCr3NTa6WHH"
      },
      "source": [
        "## Best so far: <br>\n",
        "Average Loss: 0.1072 <br>\n",
        "BATCH_SIZE = 200 <br>\n",
        "EPOCHS = 10 <br>\n",
        "LEARNING_RATE = 0.01 <br>\n",
        "\n",
        "## Model <br>\n",
        "``` \n",
        "class Net(nn.Module):\n",
        "    def __init__(self):\n",
        "        super(Net, self).__init__()\n",
        "        self.fc1 = nn.Linear(29, 200).cuda()\n",
        "        self.fc2 = nn.Linear(200, 100).cuda()\n",
        "        self.fc3 = nn.Linear(100, 1).cuda()\n",
        "\n",
        "    def forward(self, x):\n",
        "        x = F.leaky_relu(self.fc1(x))\n",
        "        x = F.leaky_relu(self.fc2(x))\n",
        "        x = self.fc3(x)\n",
        "        return x\n",
        "```"
      ]
    },
    {
      "cell_type": "code",
      "metadata": {
        "colab": {
          "base_uri": "https://localhost:8080/"
        },
        "id": "oXRaM_Oy5sqY",
        "outputId": "c7fd3b59-3a5e-4bb2-997b-5e619408168e"
      },
      "source": [
        "result = test(model, device, valid_loader, criterion)"
      ],
      "execution_count": null,
      "outputs": [
        {
          "output_type": "stream",
          "text": [
            "Test set: Average loss: 0.1072\n"
          ],
          "name": "stdout"
        }
      ]
    },
    {
      "cell_type": "code",
      "metadata": {
        "id": "I4NEfWcJbjOX"
      },
      "source": [
        ""
      ],
      "execution_count": null,
      "outputs": []
    }
  ]
}