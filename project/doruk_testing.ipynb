{
  "nbformat": 4,
  "nbformat_minor": 0,
  "metadata": {
    "accelerator": "GPU",
    "colab": {
      "name": "EE511_Project.ipynb",
      "provenance": [],
      "collapsed_sections": [],
      "include_colab_link": true
    },
    "kernelspec": {
      "display_name": "Python 3",
      "language": "python",
      "name": "python3"
    },
    "language_info": {
      "codemirror_mode": {
        "name": "ipython",
        "version": 3
      },
      "file_extension": ".py",
      "mimetype": "text/x-python",
      "name": "python",
      "nbconvert_exporter": "python",
      "pygments_lexer": "ipython3",
      "version": "3.8.3-final"
    }
  },
  "cells": [
    {
      "cell_type": "markdown",
      "metadata": {
        "id": "view-in-github",
        "colab_type": "text"
      },
      "source": [
        "<a href=\"https://colab.research.google.com/github/John-Ragland/ee511_assignments/blob/main/project/doruk_testing.ipynb\" target=\"_parent\"><img src=\"https://colab.research.google.com/assets/colab-badge.svg\" alt=\"Open In Colab\"/></a>"
      ]
    },
    {
      "cell_type": "code",
      "metadata": {
        "id": "HHKM4gIXPMUY"
      },
      "source": [
        "# Suppress Warnings\n",
        "def warn(*args, **kwargs):\n",
        "    pass\n",
        "import warnings\n",
        "warnings.warn = warn\n",
        "\n",
        "import numpy as np\n",
        "import pandas as pd\n",
        "from matplotlib import pyplot as plt\n",
        "from sklearn.linear_model import LinearRegression, LogisticRegression\n",
        "from sklearn.metrics import mean_squared_error\n",
        "from sklearn.preprocessing import OneHotEncoder\n",
        "import torch\n",
        "import torch.nn as nn \n",
        "import torch.optim as optim\n",
        "import torch.nn.functional as F\n",
        "from torch.utils.data import TensorDataset, DataLoader"
      ],
      "execution_count": 5,
      "outputs": []
    },
    {
      "cell_type": "code",
      "metadata": {
        "id": "4ZFeQkdrPMUe"
      },
      "source": [
        "# look_back = 3 # games\n",
        "def get_data(data_type, start_year, end_year=2020, week=None):\n",
        "    website = 'https://api.collegefootballdata.com/' + data_type\n",
        "    frames = []\n",
        "    for year in range(start_year, end_year+1):\n",
        "        url = website + '?year=%d' % year\n",
        "        if week:\n",
        "          # start = max(week - look_back, 1)\n",
        "          # url += '&startWeek=%d' % start\n",
        "          url += '&endWeek=%d' % week\n",
        "        frames.append(pd.read_json(url))\n",
        "    return pd.concat(frames)"
      ],
      "execution_count": 6,
      "outputs": []
    },
    {
      "cell_type": "code",
      "metadata": {
        "id": "l5tADrqecXas"
      },
      "source": [
        "def get_weekly_stats(start_year):\n",
        "  frames = []\n",
        "  for week in range(1, 16):\n",
        "    week_frame = get_data('stats/season', start_year, week=week)\n",
        "    week_frame['week'] = week+1\n",
        "    frames.append(week_frame)\n",
        "  return pd.concat(frames)"
      ],
      "execution_count": 7,
      "outputs": []
    },
    {
      "cell_type": "code",
      "metadata": {
        "id": "4Lqv3yilW45-"
      },
      "source": [
        "# collect the data\n",
        "begin = 2013\n",
        "original_stats = get_weekly_stats(begin)\n",
        "original_games = get_data('games', begin)\n",
        "original_records = get_data('records', begin)\n",
        "original_teams = pd.read_json('https://api.collegefootballdata.com/teams')\n",
        "original_spread = get_data('metrics/wp/pregame', begin)\n",
        "original_rankings = get_data('rankings', begin)"
      ],
      "execution_count": 8,
      "outputs": []
    },
    {
      "cell_type": "code",
      "metadata": {
        "id": "vHsBhF8xTmt4"
      },
      "source": [
        "def one_hot(column):\n",
        "  column = column.reshape(-1, 1)\n",
        "  enc = OneHotEncoder()\n",
        "  enc.fit(column)\n",
        "  return enc.transform(column).toarray()\n",
        "\n",
        "def replace_categorical_with_one_hot(df, column):\n",
        "  one_hot_matrix = one_hot(np.array(df[column]))\n",
        "  _, new_cols = one_hot_matrix.shape\n",
        "  for i in range(new_cols):\n",
        "      df[\"%s_%d\" % (column, i)] = one_hot_matrix[:,i]\n",
        "  df = df.drop(column, 1)\n",
        "  return df"
      ],
      "execution_count": 9,
      "outputs": []
    },
    {
      "cell_type": "markdown",
      "metadata": {
        "id": "MewJ9jzs6oYm"
      },
      "source": [
        "## Vegas RMSE"
      ]
    },
    {
      "cell_type": "code",
      "metadata": {
        "id": "z6Sa1Tbs6rxJ"
      },
      "source": [
        "# get vegas spread predictions for games\n",
        "games = original_games\n",
        "games = games.assign(result = (games.home_points-games.away_points))\n",
        "games = games.loc[:, games.columns.intersection(['id', 'season', 'week', 'home_team', 'away_team', 'result', 'excitement_index'])]\n",
        "\n",
        "spreads = original_spread.loc[:, original_spread.columns.intersection(['gameId', 'spread', 'homeWinProb'])]\n",
        "spreads.spread *= -1\n",
        "games = pd.merge(games, spreads, how='left', left_on=['id'], right_on=['gameId']).drop(['gameId'], axis=1)\n",
        "games = games.dropna()"
      ],
      "execution_count": 289,
      "outputs": []
    },
    {
      "cell_type": "code",
      "metadata": {
        "id": "3ABHAdkE7AYr"
      },
      "source": [
        "valid = games.loc[games.season == 2019]\n",
        "train = games.loc[games.season != 2019]"
      ],
      "execution_count": 290,
      "outputs": []
    },
    {
      "cell_type": "code",
      "metadata": {
        "id": "9mOVmWqC7CL0"
      },
      "source": [
        "train_in = train.spread.to_numpy()\n",
        "train_out = train.result.to_numpy()\n",
        "valid_in = valid.spread.to_numpy()\n",
        "valid_out = valid.result.to_numpy()\n",
        "baseline_model = LinearRegression().fit(train_in.reshape(-1, 1), train_out)"
      ],
      "execution_count": 291,
      "outputs": []
    },
    {
      "cell_type": "code",
      "metadata": {
        "colab": {
          "base_uri": "https://localhost:8080/",
          "height": 279
        },
        "id": "SIYEqNfB7E46",
        "outputId": "79a40637-e3f7-48ec-e3fa-85dd9afd277d"
      },
      "source": [
        "x = np.linspace(-40, 60, 500)\n",
        "y = baseline_model.coef_ * x + baseline_model.intercept_\n",
        "y = baseline_model.predict(x.reshape(-1, 1))\n",
        "\n",
        "plt.xlabel('win percentage difference')\n",
        "plt.ylabel('game result')\n",
        "plt.plot(train_in, train_out, '.', color='black')\n",
        "plt.plot(x, y, '-r', label=\"f(x) = %.3fx + %.3f\" % (baseline_model.coef_, baseline_model.intercept_))\n",
        "plt.legend()\n",
        "plt.grid()"
      ],
      "execution_count": 292,
      "outputs": [
        {
          "output_type": "display_data",
          "data": {
            "image/png": "[encoded data removed]",
            "text/plain": [
              "<Figure size 432x288 with 1 Axes>"
            ]
          },
          "metadata": {
            "tags": [],
            "needs_background": "light"
          }
        }
      ]
    },
    {
      "cell_type": "code",
      "metadata": {
        "colab": {
          "base_uri": "https://localhost:8080/"
        },
        "id": "V2b3iz6s7d4N",
        "outputId": "b79f9d53-51a0-4e0a-aa22-c5b29705515f"
      },
      "source": [
        "prediction = baseline_model.predict(valid_in.reshape(-1, 1))\n",
        "print('Vegas RMSE = %.2f points' % mean_squared_error(valid_out, prediction, squared=False))"
      ],
      "execution_count": 293,
      "outputs": [
        {
          "output_type": "stream",
          "text": [
            "Vegas RMSE = 15.31 points\n"
          ],
          "name": "stdout"
        }
      ]
    },
    {
      "cell_type": "code",
      "metadata": {
        "colab": {
          "base_uri": "https://localhost:8080/"
        },
        "id": "ae36ZP3wJrVu",
        "outputId": "5e6fb074-c832-46f6-ee3f-5de09c7f1e51"
      },
      "source": [
        "temp_pred = prediction\n",
        "temp_pred[temp_pred>0] = 1 # home win\n",
        "temp_pred[temp_pred<0] = 0 # away win\n",
        "\n",
        "temp_tru = valid_out\n",
        "temp_tru[temp_tru>0] =  1\n",
        "temp_tru[temp_tru<0] = 0\n",
        "\n",
        "print('Game winner accuracy = %.3f%%' % ((np.sum(temp_pred==temp_tru) / len(temp_tru))*100.0))"
      ],
      "execution_count": 294,
      "outputs": [
        {
          "output_type": "stream",
          "text": [
            "Game winner accuracy = 77.712%\n"
          ],
          "name": "stdout"
        }
      ]
    },
    {
      "cell_type": "markdown",
      "metadata": {
        "id": "f94XS4VVXUET"
      },
      "source": [
        "## Simple (baseline) model"
      ]
    },
    {
      "cell_type": "code",
      "metadata": {
        "id": "K4u_LN2UPMUh"
      },
      "source": [
        "# get season, home team, away team, and the differential result of the game\n",
        "games = original_games\n",
        "games = games.assign(result = (games.home_points-games.away_points))\n",
        "games = games.loc[:, games.columns.intersection(['season', 'home_team', 'away_team', 'result'])]\n",
        "\n",
        "# get the winning percentage of a team for a season\n",
        "records = original_records\n",
        "records = records.assign(percentage = [d.get('wins') / d.get('games') for d in records.total])\n",
        "records = records.loc[:, records.columns.intersection(['year', 'team', 'percentage'])]\n",
        "\n",
        "# add the winning percentage differences to game table\n",
        "games = pd.merge(games, records.rename(columns={'percentage': 'home_percentage'}), how='left', left_on=['season', 'home_team'], right_on=['year', 'team']).drop(['team', 'year'], axis=1)\n",
        "games = pd.merge(games, records.rename(columns={'percentage': 'away_percentage'}), how='left', left_on=['season', 'away_team'], right_on=['year', 'team']).drop(['team', 'year'], axis=1)\n",
        "games = games.dropna()\n",
        "games = games.assign(percent_difference = (games.home_percentage-games.away_percentage))\n",
        "games = games.drop(['home_percentage', 'away_percentage'], axis=1)"
      ],
      "execution_count": 295,
      "outputs": []
    },
    {
      "cell_type": "code",
      "metadata": {
        "id": "jxkKiXE5PMUk"
      },
      "source": [
        "valid = games.loc[games.season == 2019]\n",
        "train = games.loc[games.season != 2019]"
      ],
      "execution_count": 296,
      "outputs": []
    },
    {
      "cell_type": "code",
      "metadata": {
        "id": "aEYOh6-TPMUl"
      },
      "source": [
        "train_in = train.percent_difference.to_numpy()\n",
        "train_out = train.result.to_numpy()\n",
        "valid_in = valid.percent_difference.to_numpy()\n",
        "valid_out = valid.result.to_numpy()\n",
        "baseline_model = LinearRegression().fit(train_in.reshape(-1, 1), train_out)"
      ],
      "execution_count": 297,
      "outputs": []
    },
    {
      "cell_type": "code",
      "metadata": {
        "colab": {
          "base_uri": "https://localhost:8080/",
          "height": 281
        },
        "id": "qLLFds6-PMUo",
        "outputId": "4597a39b-6693-4a1d-f981-9a11164db1ce"
      },
      "source": [
        "x = np.linspace(-1, 1, 500)\n",
        "y = baseline_model.coef_ * x + baseline_model.intercept_\n",
        "y = baseline_model.predict(x.reshape(-1, 1))\n",
        "\n",
        "plt.xlabel('win percentage difference')\n",
        "plt.ylabel('game result')\n",
        "plt.plot(train_in, train_out, '.', color='black')\n",
        "plt.plot(x, y, '-r', label=\"f(x) = %.3fx + %.3f\" % (baseline_model.coef_, baseline_model.intercept_))\n",
        "plt.legend()\n",
        "plt.grid()"
      ],
      "execution_count": 298,
      "outputs": [
        {
          "output_type": "display_data",
          "data": {
            "image/png": "[encoded data removed]",
            "text/plain": [
              "<Figure size 432x288 with 1 Axes>"
            ]
          },
          "metadata": {
            "tags": [],
            "needs_background": "light"
          }
        }
      ]
    },
    {
      "cell_type": "code",
      "metadata": {
        "colab": {
          "base_uri": "https://localhost:8080/"
        },
        "id": "N8y7f3M-PMUr",
        "outputId": "ac3a7448-1582-4150-9823-7dff9740d2e3"
      },
      "source": [
        "prediction = baseline_model.predict(valid_in.reshape(-1, 1))\n",
        "print('RMSE = %.2f points' % mean_squared_error(valid_out, prediction, squared=False))"
      ],
      "execution_count": 299,
      "outputs": [
        {
          "output_type": "stream",
          "text": [
            "RMSE = 15.78 points\n"
          ],
          "name": "stdout"
        }
      ]
    },
    {
      "cell_type": "code",
      "metadata": {
        "colab": {
          "base_uri": "https://localhost:8080/"
        },
        "id": "-gBBUqtIKBpy",
        "outputId": "887c0351-0a3d-44f5-cda9-5db9c747608a"
      },
      "source": [
        "temp_pred = prediction\n",
        "temp_pred[temp_pred>0] = 1\n",
        "temp_pred[temp_pred<0] = 0\n",
        "\n",
        "temp_tru = valid_out\n",
        "temp_tru[temp_tru>0] = 1\n",
        "temp_tru[temp_tru<0] = 0\n",
        "\n",
        "print('Game winner accuracy = %.3f%%' % ((np.sum(temp_pred==temp_tru) / len(temp_tru))*100.0))"
      ],
      "execution_count": 300,
      "outputs": [
        {
          "output_type": "stream",
          "text": [
            "Game winner accuracy = 81.199%\n"
          ],
          "name": "stdout"
        }
      ]
    },
    {
      "cell_type": "markdown",
      "metadata": {
        "id": "Kyjyl17aXMdM"
      },
      "source": [
        "## Simple model with more features"
      ]
    },
    {
      "cell_type": "code",
      "metadata": {
        "colab": {
          "base_uri": "https://localhost:8080/"
        },
        "id": "XktiXvr3olJX",
        "outputId": "252d86ca-83ff-4892-870f-99ad4a8464da"
      },
      "source": [
        "# get the games and calculate spread (result)\n",
        "games = original_games\n",
        "games = games.assign(result = (games.home_points-games.away_points))\n",
        "games = games.loc[:, games.columns.intersection(['id', 'season', 'week', 'home_team', 'away_team', 'result', 'excitement_index'])]\n",
        "\n",
        "# add pregame predictions\n",
        "spreads = original_spread.loc[:, original_spread.columns.intersection(['gameId', 'spread', 'homeWinProb'])]\n",
        "spreads.spread *= -1\n",
        "games = pd.merge(games, spreads, how='left', left_on=['id'], right_on=['gameId']).drop(['gameId'], axis=1)\n",
        "\n",
        "# get winning percentages from the current season\n",
        "# TODO: get this for upto the current games that season\n",
        "records = original_records\n",
        "records = records.assign(total_games = [d.get('games') for d in records.total])\n",
        "records = records.assign(total_wins = [d.get('wins') for d in records.total])\n",
        "records = records.loc[:, records.columns.intersection(['year', 'team', 'total_games', 'total_wins'])]\n",
        "\n",
        "# add winning percentage difference\n",
        "games = pd.merge(games, records.rename(columns={'total_games': 'home_total_games', 'total_wins': 'home_wins'}), how='left', left_on=['season', 'home_team'], right_on=['year', 'team']).drop(['year', 'team'], axis=1)\n",
        "games = pd.merge(games, records.rename(columns={'total_games': 'away_total_games', 'total_wins': 'away_wins'}), how='left', left_on=['season', 'away_team'], right_on=['year', 'team']).drop(['year', 'team'], axis=1)\n",
        "games = games.assign(win_difference = ((games.home_wins / games.home_total_games)-(games.away_wins / games.away_total_games)))\n",
        "games = games.drop(['home_wins', 'away_wins'], axis=1)\n",
        "games = games.dropna()\n",
        "games = games.drop(columns=['home_total_games', 'away_total_games'])\n",
        "\n",
        "# get the list of stats\n",
        "stats = original_stats\n",
        "stats = stats.drop(columns=['conference'])\n",
        "w = stats.loc[(stats.team == 'Washington') & (stats.season == begin)]\n",
        "stat_cols = w.statName.to_list()\n",
        "stat_cols = list(set(stat_cols)) # remove duplicates\n",
        "stat_cols.sort()\n",
        "stat_cols.remove('games')\n",
        "print(stat_cols)\n",
        "\n",
        "# add each stat of both teams\n",
        "s = stats.loc[(stats.statName == 'games')]\n",
        "s = s.drop(columns=['statName'])\n",
        "games = pd.merge(games, s.rename(columns={'statValue': 'home_games'}), how='left', left_on=['season', 'home_team', 'week'], right_on=['season', 'team', 'week']).drop(['team'], axis=1)\n",
        "games = pd.merge(games, s.rename(columns={'statValue': 'away_games'}), how='left', left_on=['season', 'away_team', 'week'], right_on=['season', 'team', 'week']).drop(['team'], axis=1)\n",
        "\n",
        "for stat in stat_cols:\n",
        "  s = stats.loc[(stats.statName == stat)]\n",
        "  s = s.drop(columns=['statName'])\n",
        "  games = pd.merge(games, s.rename(columns={'statValue': 'home_'+stat}), how='left', left_on=['season', 'home_team', 'week'], right_on=['season', 'team', 'week']).drop(['team'], axis=1)\n",
        "  games = pd.merge(games, s.rename(columns={'statValue': 'away_'+stat}), how='left', left_on=['season', 'away_team', 'week'], right_on=['season', 'team', 'week']).drop(['team'], axis=1)\n",
        "  games = games.fillna(0)\n",
        "  games[stat] = (games['home_'+stat]/games.home_games) - (games['away_'+stat]/games.away_games)\n",
        "  games = games.drop(columns=['home_'+stat, 'away_'+stat])\n",
        "\n",
        "games = games.fillna(0)"
      ],
      "execution_count": 301,
      "outputs": [
        {
          "output_type": "stream",
          "text": [
            "['firstDowns', 'fourthDownConversions', 'fourthDowns', 'fumblesLost', 'fumblesRecovered', 'interceptionTDs', 'interceptionYards', 'interceptions', 'kickReturnTDs', 'kickReturnYards', 'kickReturns', 'netPassingYards', 'passAttempts', 'passCompletions', 'passesIntercepted', 'passingTDs', 'penalties', 'penaltyYards', 'possessionTime', 'puntReturnTDs', 'puntReturnYards', 'puntReturns', 'rushingAttempts', 'rushingTDs', 'rushingYards', 'thirdDownConversions', 'thirdDowns', 'totalYards', 'turnovers']\n"
          ],
          "name": "stdout"
        }
      ]
    },
    {
      "cell_type": "code",
      "metadata": {
        "id": "HGMQRCUjLlvN"
      },
      "source": [
        "# create the table for total points a team scored for an against before a given week\n",
        "points_per_game = original_teams.loc[:, original_teams.columns.intersection(['school'])]\n",
        "points_per_game['year'] = 2020\n",
        "one_season = points_per_game.copy()\n",
        "for year in range(2004, 2020):\n",
        "  temp = one_season.copy()\n",
        "  temp['year'] = year\n",
        "  points_per_game = pd.concat([points_per_game, temp], ignore_index=True)\n",
        "\n",
        "points_per_game[('points_for_week1')] = 0.0\n",
        "points_per_game[('points_against_week1')] = 0.0\n",
        "scores = original_games.loc[:, original_games.columns.intersection(['season', 'week', 'home_team', 'away_team', 'home_points', 'away_points'])]\n",
        "scores['week'] += 1\n",
        "for week in range(2, 16):\n",
        "  this_scores = scores.loc[scores.week == week]\n",
        "  this_scores = this_scores.rename(columns={'home_points': ('points_for_week%d' % week), 'away_points': ('points_against_week%d' % week)})\n",
        "  points_per_game = pd.merge(points_per_game, this_scores, how='left', left_on=['school', 'year'], right_on=['home_team', 'season']).drop(['home_team', 'away_team', 'season', 'week'], axis=1)\n",
        "  this_scores = scores.loc[scores.week == week]\n",
        "  this_scores = this_scores.rename(columns={'away_points': ('points_for_week%d' % week), 'home_points': ('points_against_week%d' % week)})\n",
        "  points_per_game = pd.merge(points_per_game, this_scores, how='left', left_on=['school', 'year'], right_on=['away_team', 'season']).drop(['home_team', 'away_team', 'season', 'week'], axis=1)\n",
        "  points_per_game = points_per_game.fillna(0)\n",
        "  points_per_game[('points_for_week%d' % week)] = points_per_game[('points_for_week%d_x' % week)] + points_per_game[('points_for_week%d_y' % week)]\n",
        "  points_per_game[('points_against_week%d' % week)] = points_per_game[('points_against_week%d_x' % week)] + points_per_game[('points_against_week%d_y' % week)]\n",
        "  points_per_game = points_per_game.drop(columns=[('points_for_week%d_x' % week), ('points_for_week%d_y' % week), ('points_against_week%d_x' % week), ('points_against_week%d_y' % week)])\n",
        "\n",
        "for week in range(2, 16):\n",
        "  points_per_game[('points_for_week%d' % week)] += points_per_game[('points_for_week%d' % (week-1))]\n",
        "  points_per_game[('points_against_week%d' % week)] += points_per_game[('points_against_week%d' % (week-1))]\n",
        "\n",
        "for week in range(1,16):\n",
        "  points = points_per_game.loc[:, points_per_game.columns.intersection(['year', 'school', ('points_for_week%d' % week), ('points_against_week%d' % week)])]\n",
        "  points = points.rename(columns={('points_for_week%d' % week): 'home_for', ('points_against_week%d' % week): 'home_against'})\n",
        "  points['week'] = week\n",
        "  games = pd.merge(games, points, how='left', left_on=['home_team', 'season', 'week'], right_on=['school', 'year', 'week']).drop(['school', 'year'], axis=1)\n",
        "  points = points.rename(columns={'home_for': 'away_for', 'home_against': 'away_against'})\n",
        "  games = pd.merge(games, points, how='left', left_on=['away_team', 'season', 'week'], right_on=['school', 'year', 'week']).drop(['school', 'year'], axis=1)\n",
        "  if (week > 1):\n",
        "    games['home_for'] = games['home_for_x'].fillna(0) + games['home_for_y'].fillna(0)\n",
        "    games['home_against'] = games['home_against_x'].fillna(0) + games['home_against_y'].fillna(0)\n",
        "    games['away_for'] = games['away_for_x'].fillna(0) + games['away_for_y'].fillna(0)\n",
        "    games['away_against'] = games['away_against_x'].fillna(0) + games['away_against_y'].fillna(0)\n",
        "    games = games.drop(columns=['home_for_x', 'home_for_y', 'home_against_x', 'home_against_y', 'away_for_x', 'away_for_y', 'away_against_x', 'away_against_y'])\n",
        "\n",
        "games['home_for'] /= games['home_games']\n",
        "games['home_against'] /= games['home_games']\n",
        "games['away_for'] /= games['away_games']\n",
        "games['away_against'] /= games['away_games']\n",
        "games = games.fillna(0)\n",
        "\n",
        "# points_per_game.loc[points_per_game.school == 'Washington']"
      ],
      "execution_count": 302,
      "outputs": []
    },
    {
      "cell_type": "code",
      "metadata": {
        "id": "mO5O5r2aZie9"
      },
      "source": [
        "# add one hot ap-top 25 rankings for each team\n",
        "rankings = original_rankings.drop(columns = ['seasonType'])\n",
        "rankings['rank1_name'] = [d[0].get('poll') for d in rankings.polls]\n",
        "rankings['rank1_ranks'] = [d[0].get('ranks') for d in rankings.polls]\n",
        "rankings['rank2_name'] = [d[1].get('poll') for d in rankings.polls]\n",
        "rankings['rank2_ranks'] = [d[1].get('ranks') for d in rankings.polls]\n",
        "rankings.loc[rankings['rank1_name'] == 'AP Top 25', 'ap'] = rankings.loc[rankings['rank1_name'] == 'AP Top 25'].rank1_ranks\n",
        "rankings.loc[rankings['rank2_name'] == 'AP Top 25', 'ap'] = rankings.loc[rankings['rank2_name'] == 'AP Top 25'].rank2_ranks\n",
        "rankings = rankings.drop(columns=['rank1_name', 'rank2_name', 'rank1_ranks', 'rank2_ranks', 'polls'])\n",
        "rankings = rankings.reset_index(drop=True)\n",
        "rankings = rankings.explode('ap').reset_index(drop=True)\n",
        "rankings['school'] = [d.get('school') for d in rankings.ap]\n",
        "rankings['rank'] = [d.get('rank') for d in rankings.ap]\n",
        "rankings = rankings.drop(columns=['ap'])\n",
        "games = pd.merge(games, rankings.rename(columns={'rank': 'home_rank'}), how='left', left_on=['season', 'week', 'home_team'], right_on=['season', 'week', 'school']).drop(['school'], axis=1)\n",
        "games = pd.merge(games, rankings.rename(columns={'rank': 'away_rank'}), how='left', left_on=['season', 'week', 'away_team'], right_on=['season', 'week', 'school']).drop(['school'], axis=1)\n",
        "games = games.fillna(-1)\n",
        "# games = replace_categorical_with_one_hot(games, 'home_rank')\n",
        "# games = replace_categorical_with_one_hot(games, 'away_rank')\n"
      ],
      "execution_count": 303,
      "outputs": []
    },
    {
      "cell_type": "code",
      "metadata": {
        "colab": {
          "base_uri": "https://localhost:8080/",
          "height": 275
        },
        "id": "iNPFSuguJyee",
        "outputId": "29de17e0-2e1e-4a6b-b763-02e7ce1bcb28"
      },
      "source": [
        "games.loc[(games.home_team == 'Washington') & (games.season == 2013)]"
      ],
      "execution_count": 304,
      "outputs": [
        {
          "output_type": "execute_result",
          "data": {
            "text/html": [
              "<div>\n",
              "<style scoped>\n",
              "    .dataframe tbody tr th:only-of-type {\n",
              "        vertical-align: middle;\n",
              "    }\n",
              "\n",
              "    .dataframe tbody tr th {\n",
              "        vertical-align: top;\n",
              "    }\n",
              "\n",
              "    .dataframe thead th {\n",
              "        text-align: right;\n",
              "    }\n",
              "</style>\n",
              "<table border=\"1\" class=\"dataframe\">\n",
              "  <thead>\n",
              "    <tr style=\"text-align: right;\">\n",
              "      <th></th>\n",
              "      <th>id</th>\n",
              "      <th>season</th>\n",
              "      <th>week</th>\n",
              "      <th>home_team</th>\n",
              "      <th>away_team</th>\n",
              "      <th>excitement_index</th>\n",
              "      <th>result</th>\n",
              "      <th>spread</th>\n",
              "      <th>homeWinProb</th>\n",
              "      <th>win_difference</th>\n",
              "      <th>home_games</th>\n",
              "      <th>away_games</th>\n",
              "      <th>firstDowns</th>\n",
              "      <th>fourthDownConversions</th>\n",
              "      <th>fourthDowns</th>\n",
              "      <th>fumblesLost</th>\n",
              "      <th>fumblesRecovered</th>\n",
              "      <th>interceptionTDs</th>\n",
              "      <th>interceptionYards</th>\n",
              "      <th>interceptions</th>\n",
              "      <th>kickReturnTDs</th>\n",
              "      <th>kickReturnYards</th>\n",
              "      <th>kickReturns</th>\n",
              "      <th>netPassingYards</th>\n",
              "      <th>passAttempts</th>\n",
              "      <th>passCompletions</th>\n",
              "      <th>passesIntercepted</th>\n",
              "      <th>passingTDs</th>\n",
              "      <th>penalties</th>\n",
              "      <th>penaltyYards</th>\n",
              "      <th>possessionTime</th>\n",
              "      <th>puntReturnTDs</th>\n",
              "      <th>puntReturnYards</th>\n",
              "      <th>puntReturns</th>\n",
              "      <th>rushingAttempts</th>\n",
              "      <th>rushingTDs</th>\n",
              "      <th>rushingYards</th>\n",
              "      <th>thirdDownConversions</th>\n",
              "      <th>thirdDowns</th>\n",
              "      <th>totalYards</th>\n",
              "      <th>turnovers</th>\n",
              "      <th>home_for</th>\n",
              "      <th>home_against</th>\n",
              "      <th>away_for</th>\n",
              "      <th>away_against</th>\n",
              "      <th>home_rank</th>\n",
              "      <th>away_rank</th>\n",
              "    </tr>\n",
              "  </thead>\n",
              "  <tbody>\n",
              "    <tr>\n",
              "      <th>38</th>\n",
              "      <td>332430264</td>\n",
              "      <td>2013</td>\n",
              "      <td>1</td>\n",
              "      <td>Washington</td>\n",
              "      <td>Boise State</td>\n",
              "      <td>4.016148</td>\n",
              "      <td>32.0</td>\n",
              "      <td>2.5</td>\n",
              "      <td>0.558</td>\n",
              "      <td>0.076923</td>\n",
              "      <td>0.0</td>\n",
              "      <td>0.0</td>\n",
              "      <td>0.000000</td>\n",
              "      <td>0.000000</td>\n",
              "      <td>0.000000</td>\n",
              "      <td>0.000000</td>\n",
              "      <td>0.000000</td>\n",
              "      <td>0.000000</td>\n",
              "      <td>0.000000</td>\n",
              "      <td>0.000000</td>\n",
              "      <td>0.0</td>\n",
              "      <td>0.000000</td>\n",
              "      <td>0.000000</td>\n",
              "      <td>0.000000</td>\n",
              "      <td>0.000000</td>\n",
              "      <td>0.000000</td>\n",
              "      <td>0.000000</td>\n",
              "      <td>0.000000</td>\n",
              "      <td>0.000000</td>\n",
              "      <td>0.000000</td>\n",
              "      <td>0.000000</td>\n",
              "      <td>0.0</td>\n",
              "      <td>0.000000</td>\n",
              "      <td>0.000000</td>\n",
              "      <td>0.000000</td>\n",
              "      <td>0.000000</td>\n",
              "      <td>0.000000</td>\n",
              "      <td>0.000000</td>\n",
              "      <td>0.000000</td>\n",
              "      <td>0.000000</td>\n",
              "      <td>0.000000</td>\n",
              "      <td>0.000000</td>\n",
              "      <td>0.000000</td>\n",
              "      <td>0.000000</td>\n",
              "      <td>0.000000</td>\n",
              "      <td>-1.0</td>\n",
              "      <td>19.0</td>\n",
              "    </tr>\n",
              "    <tr>\n",
              "      <th>203</th>\n",
              "      <td>332710264</td>\n",
              "      <td>2013</td>\n",
              "      <td>5</td>\n",
              "      <td>Washington</td>\n",
              "      <td>Arizona</td>\n",
              "      <td>5.958433</td>\n",
              "      <td>18.0</td>\n",
              "      <td>7.0</td>\n",
              "      <td>0.660</td>\n",
              "      <td>0.076923</td>\n",
              "      <td>3.0</td>\n",
              "      <td>3.0</td>\n",
              "      <td>9.666667</td>\n",
              "      <td>-0.666667</td>\n",
              "      <td>-0.666667</td>\n",
              "      <td>0.333333</td>\n",
              "      <td>-0.333333</td>\n",
              "      <td>-1.000000</td>\n",
              "      <td>-48.666667</td>\n",
              "      <td>0.333333</td>\n",
              "      <td>0.0</td>\n",
              "      <td>32.000000</td>\n",
              "      <td>1.666667</td>\n",
              "      <td>216.666667</td>\n",
              "      <td>13.000000</td>\n",
              "      <td>13.666667</td>\n",
              "      <td>-0.666667</td>\n",
              "      <td>2.000000</td>\n",
              "      <td>8.666667</td>\n",
              "      <td>71.666667</td>\n",
              "      <td>182.666667</td>\n",
              "      <td>0.0</td>\n",
              "      <td>-26.666667</td>\n",
              "      <td>-3.666667</td>\n",
              "      <td>2.000000</td>\n",
              "      <td>-1.000000</td>\n",
              "      <td>-18.666667</td>\n",
              "      <td>2.000000</td>\n",
              "      <td>-0.666667</td>\n",
              "      <td>198.000000</td>\n",
              "      <td>0.666667</td>\n",
              "      <td>42.666667</td>\n",
              "      <td>10.000000</td>\n",
              "      <td>43.666667</td>\n",
              "      <td>8.666667</td>\n",
              "      <td>16.0</td>\n",
              "      <td>-1.0</td>\n",
              "    </tr>\n",
              "    <tr>\n",
              "      <th>304</th>\n",
              "      <td>332850264</td>\n",
              "      <td>2013</td>\n",
              "      <td>7</td>\n",
              "      <td>Washington</td>\n",
              "      <td>Oregon</td>\n",
              "      <td>4.255697</td>\n",
              "      <td>-21.0</td>\n",
              "      <td>-10.5</td>\n",
              "      <td>0.268</td>\n",
              "      <td>-0.153846</td>\n",
              "      <td>5.0</td>\n",
              "      <td>5.0</td>\n",
              "      <td>1.800000</td>\n",
              "      <td>-0.600000</td>\n",
              "      <td>-1.200000</td>\n",
              "      <td>0.000000</td>\n",
              "      <td>-1.400000</td>\n",
              "      <td>0.000000</td>\n",
              "      <td>-19.000000</td>\n",
              "      <td>0.200000</td>\n",
              "      <td>0.0</td>\n",
              "      <td>2.600000</td>\n",
              "      <td>0.200000</td>\n",
              "      <td>3.600000</td>\n",
              "      <td>3.400000</td>\n",
              "      <td>6.600000</td>\n",
              "      <td>0.200000</td>\n",
              "      <td>-0.600000</td>\n",
              "      <td>3.000000</td>\n",
              "      <td>22.400000</td>\n",
              "      <td>202.800000</td>\n",
              "      <td>-0.4</td>\n",
              "      <td>-37.800000</td>\n",
              "      <td>-0.600000</td>\n",
              "      <td>4.400000</td>\n",
              "      <td>-2.200000</td>\n",
              "      <td>-77.000000</td>\n",
              "      <td>2.800000</td>\n",
              "      <td>1.600000</td>\n",
              "      <td>-73.400000</td>\n",
              "      <td>0.200000</td>\n",
              "      <td>37.400000</td>\n",
              "      <td>14.800000</td>\n",
              "      <td>59.200000</td>\n",
              "      <td>11.800000</td>\n",
              "      <td>16.0</td>\n",
              "      <td>2.0</td>\n",
              "    </tr>\n",
              "    <tr>\n",
              "      <th>422</th>\n",
              "      <td>332990264</td>\n",
              "      <td>2013</td>\n",
              "      <td>9</td>\n",
              "      <td>Washington</td>\n",
              "      <td>California</td>\n",
              "      <td>2.546683</td>\n",
              "      <td>24.0</td>\n",
              "      <td>23.0</td>\n",
              "      <td>0.912</td>\n",
              "      <td>0.608974</td>\n",
              "      <td>7.0</td>\n",
              "      <td>7.0</td>\n",
              "      <td>0.428571</td>\n",
              "      <td>-0.857143</td>\n",
              "      <td>-1.714286</td>\n",
              "      <td>-1.000000</td>\n",
              "      <td>-0.714286</td>\n",
              "      <td>0.000000</td>\n",
              "      <td>2.857143</td>\n",
              "      <td>-0.857143</td>\n",
              "      <td>0.0</td>\n",
              "      <td>-56.000000</td>\n",
              "      <td>-2.285714</td>\n",
              "      <td>-89.857143</td>\n",
              "      <td>-18.285714</td>\n",
              "      <td>-9.142857</td>\n",
              "      <td>0.571429</td>\n",
              "      <td>0.285714</td>\n",
              "      <td>0.857143</td>\n",
              "      <td>2.714286</td>\n",
              "      <td>18.000000</td>\n",
              "      <td>0.0</td>\n",
              "      <td>-1.714286</td>\n",
              "      <td>-0.285714</td>\n",
              "      <td>9.142857</td>\n",
              "      <td>1.571429</td>\n",
              "      <td>105.428571</td>\n",
              "      <td>1.000000</td>\n",
              "      <td>-2.857143</td>\n",
              "      <td>15.571429</td>\n",
              "      <td>-1.857143</td>\n",
              "      <td>33.571429</td>\n",
              "      <td>24.571429</td>\n",
              "      <td>23.714286</td>\n",
              "      <td>44.428571</td>\n",
              "      <td>-1.0</td>\n",
              "      <td>-1.0</td>\n",
              "    </tr>\n",
              "    <tr>\n",
              "      <th>515</th>\n",
              "      <td>333130264</td>\n",
              "      <td>2013</td>\n",
              "      <td>11</td>\n",
              "      <td>Washington</td>\n",
              "      <td>Colorado</td>\n",
              "      <td>1.934312</td>\n",
              "      <td>52.0</td>\n",
              "      <td>27.0</td>\n",
              "      <td>0.944</td>\n",
              "      <td>0.358974</td>\n",
              "      <td>8.0</td>\n",
              "      <td>8.0</td>\n",
              "      <td>5.750000</td>\n",
              "      <td>0.000000</td>\n",
              "      <td>0.000000</td>\n",
              "      <td>0.000000</td>\n",
              "      <td>-0.500000</td>\n",
              "      <td>-0.250000</td>\n",
              "      <td>-21.375000</td>\n",
              "      <td>-0.750000</td>\n",
              "      <td>0.0</td>\n",
              "      <td>-14.625000</td>\n",
              "      <td>-0.250000</td>\n",
              "      <td>34.625000</td>\n",
              "      <td>0.375000</td>\n",
              "      <td>2.250000</td>\n",
              "      <td>0.000000</td>\n",
              "      <td>0.500000</td>\n",
              "      <td>3.750000</td>\n",
              "      <td>31.750000</td>\n",
              "      <td>35.125000</td>\n",
              "      <td>0.0</td>\n",
              "      <td>2.750000</td>\n",
              "      <td>0.625000</td>\n",
              "      <td>9.875000</td>\n",
              "      <td>1.375000</td>\n",
              "      <td>89.500000</td>\n",
              "      <td>2.625000</td>\n",
              "      <td>0.875000</td>\n",
              "      <td>124.125000</td>\n",
              "      <td>-0.750000</td>\n",
              "      <td>34.500000</td>\n",
              "      <td>23.625000</td>\n",
              "      <td>26.375000</td>\n",
              "      <td>38.125000</td>\n",
              "      <td>-1.0</td>\n",
              "      <td>-1.0</td>\n",
              "    </tr>\n",
              "    <tr>\n",
              "      <th>635</th>\n",
              "      <td>333330264</td>\n",
              "      <td>2013</td>\n",
              "      <td>14</td>\n",
              "      <td>Washington</td>\n",
              "      <td>Washington State</td>\n",
              "      <td>5.738191</td>\n",
              "      <td>10.0</td>\n",
              "      <td>14.5</td>\n",
              "      <td>0.803</td>\n",
              "      <td>0.230769</td>\n",
              "      <td>11.0</td>\n",
              "      <td>11.0</td>\n",
              "      <td>2.454545</td>\n",
              "      <td>-0.545455</td>\n",
              "      <td>-0.545455</td>\n",
              "      <td>-0.181818</td>\n",
              "      <td>-0.363636</td>\n",
              "      <td>-0.181818</td>\n",
              "      <td>-9.181818</td>\n",
              "      <td>-1.363636</td>\n",
              "      <td>0.0</td>\n",
              "      <td>-16.454545</td>\n",
              "      <td>-0.636364</td>\n",
              "      <td>-92.545455</td>\n",
              "      <td>-24.818182</td>\n",
              "      <td>-14.909091</td>\n",
              "      <td>-0.090909</td>\n",
              "      <td>-0.454545</td>\n",
              "      <td>3.000000</td>\n",
              "      <td>29.727273</td>\n",
              "      <td>0.000000</td>\n",
              "      <td>0.0</td>\n",
              "      <td>-7.818182</td>\n",
              "      <td>-0.454545</td>\n",
              "      <td>28.454545</td>\n",
              "      <td>1.909091</td>\n",
              "      <td>184.818182</td>\n",
              "      <td>1.909091</td>\n",
              "      <td>0.454545</td>\n",
              "      <td>92.272727</td>\n",
              "      <td>-1.545455</td>\n",
              "      <td>39.545455</td>\n",
              "      <td>24.000000</td>\n",
              "      <td>31.000000</td>\n",
              "      <td>31.636364</td>\n",
              "      <td>-1.0</td>\n",
              "      <td>-1.0</td>\n",
              "    </tr>\n",
              "  </tbody>\n",
              "</table>\n",
              "</div>"
            ],
            "text/plain": [
              "            id  season  week  ... away_against home_rank  away_rank\n",
              "38   332430264    2013     1  ...     0.000000      -1.0       19.0\n",
              "203  332710264    2013     5  ...     8.666667      16.0       -1.0\n",
              "304  332850264    2013     7  ...    11.800000      16.0        2.0\n",
              "422  332990264    2013     9  ...    44.428571      -1.0       -1.0\n",
              "515  333130264    2013    11  ...    38.125000      -1.0       -1.0\n",
              "635  333330264    2013    14  ...    31.636364      -1.0       -1.0\n",
              "\n",
              "[6 rows x 47 columns]"
            ]
          },
          "metadata": {
            "tags": []
          },
          "execution_count": 304
        }
      ]
    },
    {
      "cell_type": "code",
      "metadata": {
        "id": "1IxBm9FP4_Mr"
      },
      "source": [
        "games = games.drop(columns=['id', 'home_team', 'away_team'])\n",
        "games = games.fillna(0)"
      ],
      "execution_count": 305,
      "outputs": []
    },
    {
      "cell_type": "code",
      "metadata": {
        "id": "8jRvG_YZ4a40"
      },
      "source": [
        "valid = games.loc[games.season == 2019]\n",
        "train = games.loc[games.season != 2019]"
      ],
      "execution_count": 306,
      "outputs": []
    },
    {
      "cell_type": "code",
      "metadata": {
        "id": "m4ci1daJ5tja"
      },
      "source": [
        "valid = valid.drop(columns=['season'])\n",
        "train = train.drop(columns=['season'])"
      ],
      "execution_count": 307,
      "outputs": []
    },
    {
      "cell_type": "code",
      "metadata": {
        "id": "C80JrFQi4mL4"
      },
      "source": [
        "train_in = train.drop(columns=['result'])\n",
        "train_out = train.result\n",
        "valid_in = valid.drop(columns=['result'])\n",
        "valid_out = valid.result\n",
        "model = LinearRegression().fit(train_in, train_out)"
      ],
      "execution_count": 308,
      "outputs": []
    },
    {
      "cell_type": "code",
      "metadata": {
        "colab": {
          "base_uri": "https://localhost:8080/"
        },
        "id": "R6lVGQ7Sbxhd",
        "outputId": "4e769480-acbb-478b-f0f8-009fe936c416"
      },
      "source": [
        "prediction = model.predict(valid_in)\n",
        "print('RMSE = %.2f points' % mean_squared_error(valid_out, prediction, squared=False))"
      ],
      "execution_count": 309,
      "outputs": [
        {
          "output_type": "stream",
          "text": [
            "RMSE = 14.25 points\n"
          ],
          "name": "stdout"
        }
      ]
    },
    {
      "cell_type": "code",
      "metadata": {
        "colab": {
          "base_uri": "https://localhost:8080/"
        },
        "id": "TvhLTO66Go4m",
        "outputId": "fde62a42-bd64-465b-9a29-5b901ca4b983"
      },
      "source": [
        "temp_pred = prediction\n",
        "temp_pred[temp_pred>0] = 1\n",
        "temp_pred[temp_pred<0] = 0\n",
        "\n",
        "temp_tru = valid_out\n",
        "temp_tru[temp_tru>0] = 1\n",
        "temp_tru[temp_tru<0] = 0\n",
        "\n",
        "print('Game winner accuracy = %.3f%%' % ((np.sum(temp_pred==temp_tru) / len(temp_tru))*100.0))"
      ],
      "execution_count": 310,
      "outputs": [
        {
          "output_type": "stream",
          "text": [
            "Game winner accuracy = 81.557%\n"
          ],
          "name": "stdout"
        }
      ]
    },
    {
      "cell_type": "markdown",
      "metadata": {
        "id": "nAxuSbxatL0M"
      },
      "source": [
        "# Simple ML Model"
      ]
    },
    {
      "cell_type": "code",
      "metadata": {
        "colab": {
          "base_uri": "https://localhost:8080/"
        },
        "id": "4HHeYhQuwkEj",
        "outputId": "c5ca7b10-3b11-4eb7-a361-62546bbc4f83"
      },
      "source": [
        "torch.manual_seed(0)\n",
        "device = torch.device(\"cuda\")\n",
        "print('Using device', device)"
      ],
      "execution_count": 201,
      "outputs": [
        {
          "output_type": "stream",
          "text": [
            "Using device cuda\n"
          ],
          "name": "stdout"
        }
      ]
    },
    {
      "cell_type": "code",
      "metadata": {
        "id": "N2g_r6i5ym0i"
      },
      "source": [
        "def train(model, device, train_loader, optimizer, epochs, criterion, verbose=False):\n",
        "  for epoch in range(epochs):\n",
        "    model.train()\n",
        "    batch_loss = 0\n",
        "    for data, label in train_loader:\n",
        "      data, label = data.to(device), label.to(device)\n",
        "      optimizer.zero_grad()\n",
        "      output = model(data)\n",
        "      loss = criterion(output, label)\n",
        "      loss.backward()\n",
        "      optimizer.step()\n",
        "      batch_loss += loss.item()\n",
        "    if verbose:\n",
        "      print('Train Epoch: %d  \\tLoss: %.6f' % (epoch, np.sqrt(batch_loss/len(train_loader))))\n",
        "\n",
        "def test(model, device, test_loader, criterion):\n",
        "  model.eval()\n",
        "  test_loss = 0\n",
        "  correct = 0\n",
        "  with torch.no_grad():\n",
        "    for data, label in test_loader:\n",
        "      data, label = data.to(device), label.to(device)\n",
        "      output = model(data)\n",
        "      test_loss += criterion(output, label).item()\n",
        "  print('Test set: Average loss: %.4f' % np.sqrt(test_loss/len(test_loader)))\n",
        "\n",
        "  return test_loss"
      ],
      "execution_count": 53,
      "outputs": []
    },
    {
      "cell_type": "code",
      "metadata": {
        "id": "WsGrGRnet6ur"
      },
      "source": [
        "class Net(nn.Module):\n",
        "    def __init__(self, input_size):\n",
        "        super(Net, self).__init__()\n",
        "        self.fc1 = nn.Linear(input_size, 500).cuda()\n",
        "        self.fc2 = nn.Linear(500, 200).cuda()\n",
        "        self.fc3 = nn.Linear(200, 50).cuda()\n",
        "        self.fc4 = nn.Linear(50, 10).cuda()\n",
        "        self.fc5 = nn.Linear(10, 1).cuda()\n",
        "        # self.fc = nn.Linear(input_size, 1).cuda()\n",
        " \n",
        "    def forward(self, x):\n",
        "        x = F.relu(self.fc1(x))\n",
        "        x = F.relu(self.fc2(x))\n",
        "        x = F.relu(self.fc3(x))\n",
        "        x = F.softmax(self.fc4(x))\n",
        "        x = self.fc5(x)\n",
        "        return x\n",
        "        # return self.fc(x)\n",
        "\n",
        "model = Net(np.shape(train_in.to_numpy())[1])"
      ],
      "execution_count": 54,
      "outputs": []
    },
    {
      "cell_type": "code",
      "metadata": {
        "id": "v93eOD06weSC"
      },
      "source": [
        "BATCH_SIZE = 600\n",
        "EPOCHS = 100\n",
        "LEARNING_RATE = 0.005"
      ],
      "execution_count": 41,
      "outputs": []
    },
    {
      "cell_type": "code",
      "metadata": {
        "id": "pFUZfaGMxduT"
      },
      "source": [
        "data_train_vals = torch.tensor(train_in.to_numpy(), dtype=torch.float, device=device)\n",
        "data_train_labels = torch.tensor(train_out.to_numpy(), dtype=torch.float, device=device)\n",
        "data_train = TensorDataset(data_train_vals, data_train_labels)\n",
        "train_loader = DataLoader(dataset = data_train, batch_size = BATCH_SIZE, shuffle = True) \n",
        "\n",
        "data_valid_vals = torch.tensor(valid_in.to_numpy(), dtype=torch.float, device=device)\n",
        "data_valid_labels = torch.tensor(valid_out.to_numpy(), dtype=torch.float, device=device)\n",
        "data_valid = TensorDataset(data_train_vals, data_train_labels)\n",
        "valid_loader = DataLoader(dataset = data_valid, batch_size = BATCH_SIZE,  shuffle = False)"
      ],
      "execution_count": 42,
      "outputs": []
    },
    {
      "cell_type": "code",
      "metadata": {
        "id": "b8F6KZ0gw2nk"
      },
      "source": [
        "optimizer = torch.optim.Adam(model.parameters(), lr=LEARNING_RATE)\n",
        "criterion = nn.MSELoss()"
      ],
      "execution_count": 43,
      "outputs": []
    },
    {
      "cell_type": "code",
      "metadata": {
        "colab": {
          "base_uri": "https://localhost:8080/"
        },
        "id": "VNH_3jeaxFL2",
        "outputId": "d69b81b5-d88f-4d86-f25f-c3875723ae8e"
      },
      "source": [
        "train(model, device, train_loader, optimizer, EPOCHS, criterion, verbose=True)"
      ],
      "execution_count": 44,
      "outputs": [
        {
          "output_type": "stream",
          "text": [
            "Train Epoch: 0  \tLoss: 22.064103\n",
            "Train Epoch: 1  \tLoss: 22.051531\n",
            "Train Epoch: 2  \tLoss: 22.048500\n",
            "Train Epoch: 3  \tLoss: 21.996066\n",
            "Train Epoch: 4  \tLoss: 21.990254\n",
            "Train Epoch: 5  \tLoss: 22.037704\n",
            "Train Epoch: 6  \tLoss: 21.967393\n",
            "Train Epoch: 7  \tLoss: 21.971334\n",
            "Train Epoch: 8  \tLoss: 21.951392\n",
            "Train Epoch: 9  \tLoss: 21.985106\n",
            "Train Epoch: 10  \tLoss: 21.946847\n",
            "Train Epoch: 11  \tLoss: 21.917568\n",
            "Train Epoch: 12  \tLoss: 21.937586\n",
            "Train Epoch: 13  \tLoss: 21.912315\n",
            "Train Epoch: 14  \tLoss: 21.883736\n",
            "Train Epoch: 15  \tLoss: 21.901869\n",
            "Train Epoch: 16  \tLoss: 21.865867\n",
            "Train Epoch: 17  \tLoss: 21.878750\n",
            "Train Epoch: 18  \tLoss: 21.845565\n",
            "Train Epoch: 19  \tLoss: 21.858591\n",
            "Train Epoch: 20  \tLoss: 21.847540\n",
            "Train Epoch: 21  \tLoss: 21.830331\n",
            "Train Epoch: 22  \tLoss: 21.836037\n",
            "Train Epoch: 23  \tLoss: 21.818804\n",
            "Train Epoch: 24  \tLoss: 21.786068\n",
            "Train Epoch: 25  \tLoss: 21.812169\n",
            "Train Epoch: 26  \tLoss: 21.809787\n",
            "Train Epoch: 27  \tLoss: 21.812717\n",
            "Train Epoch: 28  \tLoss: 21.795787\n",
            "Train Epoch: 29  \tLoss: 21.792537\n",
            "Train Epoch: 30  \tLoss: 21.751665\n",
            "Train Epoch: 31  \tLoss: 21.757969\n",
            "Train Epoch: 32  \tLoss: 21.733706\n",
            "Train Epoch: 33  \tLoss: 21.773057\n",
            "Train Epoch: 34  \tLoss: 21.699888\n",
            "Train Epoch: 35  \tLoss: 21.749435\n",
            "Train Epoch: 36  \tLoss: 21.722170\n",
            "Train Epoch: 37  \tLoss: 21.752636\n",
            "Train Epoch: 38  \tLoss: 21.703415\n",
            "Train Epoch: 39  \tLoss: 21.700878\n",
            "Train Epoch: 40  \tLoss: 21.706536\n",
            "Train Epoch: 41  \tLoss: 21.719248\n",
            "Train Epoch: 42  \tLoss: 21.698638\n",
            "Train Epoch: 43  \tLoss: 21.718751\n",
            "Train Epoch: 44  \tLoss: 21.719689\n",
            "Train Epoch: 45  \tLoss: 21.731074\n",
            "Train Epoch: 46  \tLoss: 21.706880\n",
            "Train Epoch: 47  \tLoss: 21.679418\n",
            "Train Epoch: 48  \tLoss: 21.716488\n",
            "Train Epoch: 49  \tLoss: 21.689094\n",
            "Train Epoch: 50  \tLoss: 21.683465\n",
            "Train Epoch: 51  \tLoss: 21.685321\n",
            "Train Epoch: 52  \tLoss: 21.682694\n",
            "Train Epoch: 53  \tLoss: 21.709793\n",
            "Train Epoch: 54  \tLoss: 21.682622\n",
            "Train Epoch: 55  \tLoss: 21.662354\n",
            "Train Epoch: 56  \tLoss: 21.657788\n",
            "Train Epoch: 57  \tLoss: 21.683043\n",
            "Train Epoch: 58  \tLoss: 21.694805\n",
            "Train Epoch: 59  \tLoss: 21.682327\n",
            "Train Epoch: 60  \tLoss: 21.668457\n",
            "Train Epoch: 61  \tLoss: 21.675247\n",
            "Train Epoch: 62  \tLoss: 21.682737\n",
            "Train Epoch: 63  \tLoss: 21.647589\n",
            "Train Epoch: 64  \tLoss: 21.661200\n",
            "Train Epoch: 65  \tLoss: 21.656335\n",
            "Train Epoch: 66  \tLoss: 21.703696\n",
            "Train Epoch: 67  \tLoss: 21.660850\n",
            "Train Epoch: 68  \tLoss: 21.663413\n",
            "Train Epoch: 69  \tLoss: 21.697446\n",
            "Train Epoch: 70  \tLoss: 21.645066\n",
            "Train Epoch: 71  \tLoss: 21.660338\n",
            "Train Epoch: 72  \tLoss: 21.648252\n",
            "Train Epoch: 73  \tLoss: 21.621594\n",
            "Train Epoch: 74  \tLoss: 21.664581\n",
            "Train Epoch: 75  \tLoss: 21.645579\n",
            "Train Epoch: 76  \tLoss: 21.653568\n",
            "Train Epoch: 77  \tLoss: 21.677586\n",
            "Train Epoch: 78  \tLoss: 21.713230\n",
            "Train Epoch: 79  \tLoss: 21.647445\n",
            "Train Epoch: 80  \tLoss: 21.647455\n",
            "Train Epoch: 81  \tLoss: 21.654052\n",
            "Train Epoch: 82  \tLoss: 21.638789\n",
            "Train Epoch: 83  \tLoss: 21.636656\n",
            "Train Epoch: 84  \tLoss: 21.658582\n",
            "Train Epoch: 85  \tLoss: 21.654253\n",
            "Train Epoch: 86  \tLoss: 21.664019\n",
            "Train Epoch: 87  \tLoss: 21.636940\n",
            "Train Epoch: 88  \tLoss: 21.677068\n",
            "Train Epoch: 89  \tLoss: 21.646626\n",
            "Train Epoch: 90  \tLoss: 21.642620\n",
            "Train Epoch: 91  \tLoss: 21.673858\n",
            "Train Epoch: 92  \tLoss: 21.663538\n",
            "Train Epoch: 93  \tLoss: 21.646959\n",
            "Train Epoch: 94  \tLoss: 21.674503\n",
            "Train Epoch: 95  \tLoss: 21.655197\n",
            "Train Epoch: 96  \tLoss: 21.661485\n",
            "Train Epoch: 97  \tLoss: 21.643230\n",
            "Train Epoch: 98  \tLoss: 21.672931\n",
            "Train Epoch: 99  \tLoss: 21.635170\n"
          ],
          "name": "stdout"
        }
      ]
    },
    {
      "cell_type": "code",
      "metadata": {
        "colab": {
          "base_uri": "https://localhost:8080/"
        },
        "id": "uqpAf1dKyrnC",
        "outputId": "3486969b-a7fb-4a14-c3b9-c76cc966f37c"
      },
      "source": [
        "result = test(model, device, valid_loader, criterion)"
      ],
      "execution_count": 45,
      "outputs": [
        {
          "output_type": "stream",
          "text": [
            "Test set: Average loss: 21.6336\n"
          ],
          "name": "stdout"
        }
      ]
    },
    {
      "cell_type": "markdown",
      "metadata": {
        "id": "1SnMZBBDYry-"
      },
      "source": [
        "## Neural network to predict the winner (instead of spread)"
      ]
    },
    {
      "cell_type": "code",
      "metadata": {
        "id": "nlx0INLPYokp"
      },
      "source": [
        "def trainWinner(model, device, train_loader, optimizer, epochs, criterion, verbose=False):\n",
        "  for epoch in range(epochs):\n",
        "    model.train()\n",
        "    batch_loss = 0\n",
        "    for data, label in train_loader:\n",
        "      data, label = data.to(device), label.to(device)\n",
        "      optimizer.zero_grad()\n",
        "      output = model(data)\n",
        "      loss = criterion(output, label)\n",
        "      loss.backward()\n",
        "      optimizer.step()\n",
        "      batch_loss += loss.item()\n",
        "    if verbose:\n",
        "      print('Train Epoch: %d  \\tLoss: %.6f' % (epoch, np.sqrt(batch_loss/len(train_loader))))\n",
        "\n",
        "def testWinner(model, device, test_loader, criterion):\n",
        "  model.eval()\n",
        "  test_loss = 0\n",
        "  correct = 0\n",
        "  wrong = 0\n",
        "  with torch.no_grad():\n",
        "    for data, label in test_loader:\n",
        "      data, label = data.to(device), label.to(device)\n",
        "      output = model(data)\n",
        "      test_loss += criterion(output, label).item()\n",
        "      correct += torch.sum(torch.argmax(output, dim=1) == label)\n",
        "      wrong += torch.sum(torch.argmax(output, dim=1) != label)\n",
        "  print('Test set: Average loss: %.4f' % np.sqrt(test_loss/len(test_loader)))\n",
        "  print('Accuracy: %.3f%%' % (correct*100/(correct+wrong)))"
      ],
      "execution_count": 311,
      "outputs": []
    },
    {
      "cell_type": "code",
      "metadata": {
        "id": "ErQ_6S9UY0de"
      },
      "source": [
        "class Net(nn.Module):\n",
        "    def __init__(self, input_size):\n",
        "        super(Net, self).__init__()\n",
        "        self.fc1 = nn.Linear(input_size, 500).cuda()\n",
        "        self.fc2 = nn.Linear(500, 200).cuda()\n",
        "        self.fc3 = nn.Linear(200, 50).cuda()\n",
        "        self.fc4 = nn.Linear(50, 10).cuda()\n",
        "        self.fc5 = nn.Linear(10, 3).cuda()\n",
        " \n",
        "    def forward(self, x):\n",
        "        x = F.relu(self.fc1(x))\n",
        "        x = F.relu(self.fc2(x))\n",
        "        x = F.relu(self.fc3(x))\n",
        "        x = F.softmax(self.fc4(x))\n",
        "        x = self.fc5(x)\n",
        "        return x\n",
        "\n",
        "modelWinner = Net(np.shape(train_in.to_numpy())[1])"
      ],
      "execution_count": 312,
      "outputs": []
    },
    {
      "cell_type": "code",
      "metadata": {
        "id": "fBYuCCgbZBvL"
      },
      "source": [
        "BATCH_SIZE = 200\n",
        "EPOCHS = 100\n",
        "LEARNING_RATE = 0.005"
      ],
      "execution_count": 313,
      "outputs": []
    },
    {
      "cell_type": "code",
      "metadata": {
        "id": "lNN7muEhax8V"
      },
      "source": [
        "train_out_winner = train_out\n",
        "train_out_winner[train_out_winner>0] = 1\n",
        "train_out_winner[train_out_winner<0] = 0\n",
        "\n",
        "valid_out_winner = valid_out\n",
        "valid_out_winner[valid_out_winner>0] = 1\n",
        "valid_out_winner[valid_out_winner<0] = 0"
      ],
      "execution_count": 314,
      "outputs": []
    },
    {
      "cell_type": "code",
      "metadata": {
        "id": "0XlVBQ8EY_Rn"
      },
      "source": [
        "data_train_vals = torch.tensor(train_in.to_numpy(), dtype=torch.float, device=device)\n",
        "data_train_labels = torch.tensor(train_out_winner.to_numpy(), dtype=torch.long, device=device)\n",
        "data_train = TensorDataset(data_train_vals, data_train_labels)\n",
        "train_loader = DataLoader(dataset = data_train, batch_size = BATCH_SIZE, shuffle = True) \n",
        "\n",
        "data_valid_vals = torch.tensor(valid_in.to_numpy(), dtype=torch.float, device=device)\n",
        "data_valid_labels = torch.tensor(valid_out_winner.to_numpy(), dtype=torch.long, device=device)\n",
        "data_valid = TensorDataset(data_train_vals, data_train_labels)\n",
        "valid_loader = DataLoader(dataset = data_valid, batch_size = BATCH_SIZE,  shuffle = False)"
      ],
      "execution_count": 315,
      "outputs": []
    },
    {
      "cell_type": "code",
      "metadata": {
        "id": "LDkx_IO1ZENR"
      },
      "source": [
        "optimizer = torch.optim.Adam(modelWinner.parameters(), lr=LEARNING_RATE)\n",
        "criterion = nn.CrossEntropyLoss()"
      ],
      "execution_count": 316,
      "outputs": []
    },
    {
      "cell_type": "code",
      "metadata": {
        "colab": {
          "base_uri": "https://localhost:8080/"
        },
        "id": "E7_Gv7AwZIVP",
        "outputId": "abba1d96-ec6f-47c6-9297-69a7c7874f1c"
      },
      "source": [
        "trainWinner(modelWinner, device, train_loader, optimizer, EPOCHS, criterion, verbose=True)"
      ],
      "execution_count": 317,
      "outputs": [
        {
          "output_type": "stream",
          "text": [
            "Train Epoch: 0  \tLoss: 0.955901\n",
            "Train Epoch: 1  \tLoss: 0.915045\n",
            "Train Epoch: 2  \tLoss: 0.890417\n",
            "Train Epoch: 3  \tLoss: 0.874125\n",
            "Train Epoch: 4  \tLoss: 0.864465\n",
            "Train Epoch: 5  \tLoss: 0.856276\n",
            "Train Epoch: 6  \tLoss: 0.851385\n",
            "Train Epoch: 7  \tLoss: 0.847829\n",
            "Train Epoch: 8  \tLoss: 0.844332\n",
            "Train Epoch: 9  \tLoss: 0.842090\n",
            "Train Epoch: 10  \tLoss: 0.839932\n",
            "Train Epoch: 11  \tLoss: 0.839431\n",
            "Train Epoch: 12  \tLoss: 0.836927\n",
            "Train Epoch: 13  \tLoss: 0.835638\n",
            "Train Epoch: 14  \tLoss: 0.834591\n",
            "Train Epoch: 15  \tLoss: 0.833894\n",
            "Train Epoch: 16  \tLoss: 0.833425\n",
            "Train Epoch: 17  \tLoss: 0.832928\n",
            "Train Epoch: 18  \tLoss: 0.832253\n",
            "Train Epoch: 19  \tLoss: 0.831463\n",
            "Train Epoch: 20  \tLoss: 0.831366\n",
            "Train Epoch: 21  \tLoss: 0.830880\n",
            "Train Epoch: 22  \tLoss: 0.830329\n",
            "Train Epoch: 23  \tLoss: 0.829883\n",
            "Train Epoch: 24  \tLoss: 0.830257\n",
            "Train Epoch: 25  \tLoss: 0.829986\n",
            "Train Epoch: 26  \tLoss: 0.829077\n",
            "Train Epoch: 27  \tLoss: 0.829327\n",
            "Train Epoch: 28  \tLoss: 0.829515\n",
            "Train Epoch: 29  \tLoss: 0.829608\n",
            "Train Epoch: 30  \tLoss: 0.828595\n",
            "Train Epoch: 31  \tLoss: 0.828387\n",
            "Train Epoch: 32  \tLoss: 0.828020\n",
            "Train Epoch: 33  \tLoss: 0.827970\n",
            "Train Epoch: 34  \tLoss: 0.828352\n",
            "Train Epoch: 35  \tLoss: 0.827700\n",
            "Train Epoch: 36  \tLoss: 0.827746\n",
            "Train Epoch: 37  \tLoss: 0.828060\n",
            "Train Epoch: 38  \tLoss: 0.826882\n",
            "Train Epoch: 39  \tLoss: 0.827571\n",
            "Train Epoch: 40  \tLoss: 0.827418\n",
            "Train Epoch: 41  \tLoss: 0.827439\n",
            "Train Epoch: 42  \tLoss: 0.827010\n",
            "Train Epoch: 43  \tLoss: 0.827361\n",
            "Train Epoch: 44  \tLoss: 0.827178\n",
            "Train Epoch: 45  \tLoss: 0.827203\n",
            "Train Epoch: 46  \tLoss: 0.827011\n",
            "Train Epoch: 47  \tLoss: 0.826920\n",
            "Train Epoch: 48  \tLoss: 0.827360\n",
            "Train Epoch: 49  \tLoss: 0.827105\n",
            "Train Epoch: 50  \tLoss: 0.827236\n",
            "Train Epoch: 51  \tLoss: 0.826781\n",
            "Train Epoch: 52  \tLoss: 0.826621\n",
            "Train Epoch: 53  \tLoss: 0.827252\n",
            "Train Epoch: 54  \tLoss: 0.826687\n",
            "Train Epoch: 55  \tLoss: 0.826426\n",
            "Train Epoch: 56  \tLoss: 0.827536\n",
            "Train Epoch: 57  \tLoss: 0.826584\n",
            "Train Epoch: 58  \tLoss: 0.826390\n",
            "Train Epoch: 59  \tLoss: 0.826213\n",
            "Train Epoch: 60  \tLoss: 0.826745\n",
            "Train Epoch: 61  \tLoss: 0.825978\n",
            "Train Epoch: 62  \tLoss: 0.826015\n",
            "Train Epoch: 63  \tLoss: 0.825580\n",
            "Train Epoch: 64  \tLoss: 0.826356\n",
            "Train Epoch: 65  \tLoss: 0.825926\n",
            "Train Epoch: 66  \tLoss: 0.826415\n",
            "Train Epoch: 67  \tLoss: 0.826526\n",
            "Train Epoch: 68  \tLoss: 0.825821\n",
            "Train Epoch: 69  \tLoss: 0.826298\n",
            "Train Epoch: 70  \tLoss: 0.825685\n",
            "Train Epoch: 71  \tLoss: 0.825428\n",
            "Train Epoch: 72  \tLoss: 0.826213\n",
            "Train Epoch: 73  \tLoss: 0.826253\n",
            "Train Epoch: 74  \tLoss: 0.826305\n",
            "Train Epoch: 75  \tLoss: 0.825908\n",
            "Train Epoch: 76  \tLoss: 0.825960\n",
            "Train Epoch: 77  \tLoss: 0.825501\n",
            "Train Epoch: 78  \tLoss: 0.825529\n",
            "Train Epoch: 79  \tLoss: 0.825434\n",
            "Train Epoch: 80  \tLoss: 0.825588\n",
            "Train Epoch: 81  \tLoss: 0.825887\n",
            "Train Epoch: 82  \tLoss: 0.826036\n",
            "Train Epoch: 83  \tLoss: 0.826010\n",
            "Train Epoch: 84  \tLoss: 0.825977\n",
            "Train Epoch: 85  \tLoss: 0.826400\n",
            "Train Epoch: 86  \tLoss: 0.825597\n",
            "Train Epoch: 87  \tLoss: 0.825855\n",
            "Train Epoch: 88  \tLoss: 0.825487\n",
            "Train Epoch: 89  \tLoss: 0.825460\n",
            "Train Epoch: 90  \tLoss: 0.825666\n",
            "Train Epoch: 91  \tLoss: 0.825484\n",
            "Train Epoch: 92  \tLoss: 0.825504\n",
            "Train Epoch: 93  \tLoss: 0.825876\n",
            "Train Epoch: 94  \tLoss: 0.826194\n",
            "Train Epoch: 95  \tLoss: 0.825774\n",
            "Train Epoch: 96  \tLoss: 0.825784\n",
            "Train Epoch: 97  \tLoss: 0.825993\n",
            "Train Epoch: 98  \tLoss: 0.825453\n",
            "Train Epoch: 99  \tLoss: 0.825329\n"
          ],
          "name": "stdout"
        }
      ]
    },
    {
      "cell_type": "code",
      "metadata": {
        "colab": {
          "base_uri": "https://localhost:8080/"
        },
        "id": "mudAH5U9ZMsc",
        "outputId": "357e6bcf-0ff4-4651-b50e-4da0bec990b1"
      },
      "source": [
        "testWinner(modelWinner, device, valid_loader, criterion)"
      ],
      "execution_count": 318,
      "outputs": [
        {
          "output_type": "stream",
          "text": [
            "Test set: Average loss: 0.8259\n",
            "Accuracy: 57.937%\n"
          ],
          "name": "stdout"
        }
      ]
    }
  ]
}