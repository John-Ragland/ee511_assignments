{
  "nbformat": 4,
  "nbformat_minor": 0,
  "metadata": {
    "accelerator": "GPU",
    "colab": {
      "name": "EE511_Project.ipynb",
      "provenance": [],
      "collapsed_sections": [],
      "toc_visible": true,
      "include_colab_link": true
    },
    "kernelspec": {
      "display_name": "Python 3",
      "language": "python",
      "name": "python3"
    },
    "language_info": {
      "codemirror_mode": {
        "name": "ipython",
        "version": 3
      },
      "file_extension": ".py",
      "mimetype": "text/x-python",
      "name": "python",
      "nbconvert_exporter": "python",
      "pygments_lexer": "ipython3",
      "version": "3.8.3-final"
    }
  },
  "cells": [
    {
      "cell_type": "markdown",
      "metadata": {
        "id": "view-in-github",
        "colab_type": "text"
      },
      "source": [
        "<a href=\"https://colab.research.google.com/github/John-Ragland/ee511_assignments/blob/main/project/doruk_testing.ipynb\" target=\"_parent\"><img src=\"https://colab.research.google.com/assets/colab-badge.svg\" alt=\"Open In Colab\"/></a>"
      ]
    },
    {
      "cell_type": "markdown",
      "metadata": {
        "id": "vibcOMuPsohz"
      },
      "source": [
        "# Table of Contents\n",
        "* [Setup & Data Retrieval](#set-up)\n",
        "* [Baseline Models](#baseline)\n",
        "  + [Vegas Baseline](#vegas) : Spread RMSE=15.44, Winner acc=74.86%\n",
        "  + [Simple Linear Baseline](#linear-model) : Spread RMSE=15.78, Winner acc=81.28%\n",
        "* [More Complex Models](#complex-models)\n",
        "  + [Complex Linear Model](#linear-complex) : Spread RMSE=14.25, Winner acc=%81.56\n",
        "  + [L1 Regularization](#l1) : Spread RMSE = 3.64, Winner acc = 59.97%\n",
        "  + [Random Forest Model](#random-forest) : Winner acc=~84%\n",
        "* [Neural Networks](#nn)\n",
        "  + [Linear NN for Predicting the Spread](#linear-spread-nn) : Spread RMSE=21.63\n",
        "  + [Linear NN for Predicting the Winner](#linear-winner-nn) : Winner acc=67.11%\n",
        "\n"
      ]
    },
    {
      "cell_type": "markdown",
      "metadata": {
        "id": "7vREujFTDrq_"
      },
      "source": [
        "# TODOs\n",
        "\n",
        "*   Find the most optimal hyperparameter for each model\n",
        "*   Try different training loss function for neural nets\n",
        "*   Implement cross validation for all models\n",
        "*   Get winning percentage difference prior to the game\n",
        "*   Add the \"Advanced team metrics by season\" table into data\n",
        "\n",
        "\n",
        "\n"
      ]
    },
    {
      "cell_type": "markdown",
      "metadata": {
        "id": "0iWWUiEstgqs"
      },
      "source": [
        "# Setup the Notebook and Get Data<a name=\"set-up\"></a>"
      ]
    },
    {
      "cell_type": "code",
      "metadata": {
        "id": "HHKM4gIXPMUY"
      },
      "source": [
        "# Suppress Warnings\n",
        "def warn(*args, **kwargs):\n",
        "    pass\n",
        "import warnings\n",
        "warnings.warn = warn\n",
        "\n",
        "import numpy as np\n",
        "import pandas as pd\n",
        "from matplotlib import pyplot as plt\n",
        "from sklearn.linear_model import LinearRegression, Lasso\n",
        "from sklearn.metrics import mean_squared_error\n",
        "from sklearn.preprocessing import OneHotEncoder\n",
        "from sklearn.ensemble import RandomForestClassifier\n",
        "import torch\n",
        "import torch.nn as nn \n",
        "import torch.optim as optim\n",
        "import torch.nn.functional as F\n",
        "from torch.utils.data import TensorDataset, DataLoader\n",
        "from sklearn.model_selection import KFold"
      ],
      "execution_count": 59,
      "outputs": []
    },
    {
      "cell_type": "code",
      "metadata": {
        "id": "4ZFeQkdrPMUe"
      },
      "source": [
        "# look_back = 3 # games\n",
        "def get_data(data_type, start_year, end_year=2020, week=None):\n",
        "    website = 'https://api.collegefootballdata.com/' + data_type\n",
        "    frames = []\n",
        "    for year in range(start_year, end_year+1):\n",
        "        url = website + '?year=%d' % year\n",
        "        if week:\n",
        "          # start = max(week - look_back, 1)\n",
        "          # url += '&startWeek=%d' % start\n",
        "          url += '&endWeek=%d' % week\n",
        "        frames.append(pd.read_json(url))\n",
        "    return pd.concat(frames)"
      ],
      "execution_count": null,
      "outputs": []
    },
    {
      "cell_type": "code",
      "metadata": {
        "id": "l5tADrqecXas"
      },
      "source": [
        "def get_weekly_stats(start_year):\n",
        "  frames = []\n",
        "  for week in range(1, 16):\n",
        "    week_frame = get_data('stats/season', start_year, week=week)\n",
        "    week_frame['week'] = week+1\n",
        "    frames.append(week_frame)\n",
        "  return pd.concat(frames)"
      ],
      "execution_count": null,
      "outputs": []
    },
    {
      "cell_type": "code",
      "metadata": {
        "id": "4Lqv3yilW45-"
      },
      "source": [
        "# collect the data\n",
        "begin = 2013\n",
        "original_stats = get_weekly_stats(begin)\n",
        "original_games = get_data('games', begin)\n",
        "original_records = get_data('records', begin)\n",
        "original_teams = pd.read_json('https://api.collegefootballdata.com/teams')\n",
        "original_spread = get_data('metrics/wp/pregame', begin)\n",
        "original_rankings = get_data('rankings', begin)"
      ],
      "execution_count": null,
      "outputs": []
    },
    {
      "cell_type": "code",
      "metadata": {
        "colab": {
          "base_uri": "https://localhost:8080/"
        },
        "id": "XktiXvr3olJX",
        "outputId": "7284aee9-457d-4624-80eb-18a3632498b9"
      },
      "source": [
        "# get the games and calculate spread (result)\n",
        "games = original_games\n",
        "games = games.assign(result = (games.home_points-games.away_points))\n",
        "games = games.loc[:, games.columns.intersection(['id', 'season', 'week', 'home_team', 'away_team', 'result', 'excitement_index'])]\n",
        "\n",
        "# add pregame predictions\n",
        "spreads = original_spread.loc[:, original_spread.columns.intersection(['gameId', 'spread', 'homeWinProb'])]\n",
        "spreads.spread *= -1\n",
        "games = pd.merge(games, spreads, how='left', left_on=['id'], right_on=['gameId']).drop(['gameId'], axis=1)\n",
        "\n",
        "# get winning percentages from the current season\n",
        "# TODO: get this for upto the current games that season\n",
        "records = original_records\n",
        "records = records.assign(total_games = [d.get('games') for d in records.total])\n",
        "records = records.assign(total_wins = [d.get('wins') for d in records.total])\n",
        "records = records.loc[:, records.columns.intersection(['year', 'team', 'total_games', 'total_wins'])]\n",
        "\n",
        "# add winning percentage difference\n",
        "games = pd.merge(games, records.rename(columns={'total_games': 'home_total_games', 'total_wins': 'home_wins'}), how='left', left_on=['season', 'home_team'], right_on=['year', 'team']).drop(['year', 'team'], axis=1)\n",
        "games = pd.merge(games, records.rename(columns={'total_games': 'away_total_games', 'total_wins': 'away_wins'}), how='left', left_on=['season', 'away_team'], right_on=['year', 'team']).drop(['year', 'team'], axis=1)\n",
        "games = games.assign(win_difference = ((games.home_wins / games.home_total_games)-(games.away_wins / games.away_total_games)))\n",
        "games = games.drop(['home_wins', 'away_wins'], axis=1)\n",
        "games = games.dropna()\n",
        "games = games.drop(columns=['home_total_games', 'away_total_games'])\n",
        "\n",
        "# get the list of stats\n",
        "stats = original_stats\n",
        "stats = stats.drop(columns=['conference'])\n",
        "w = stats.loc[(stats.team == 'Washington') & (stats.season == begin)]\n",
        "stat_cols = w.statName.to_list()\n",
        "stat_cols = list(set(stat_cols)) # remove duplicates\n",
        "stat_cols.sort()\n",
        "stat_cols.remove('games')\n",
        "print(stat_cols)\n",
        "\n",
        "# add each stat of both teams\n",
        "s = stats.loc[(stats.statName == 'games')]\n",
        "s = s.drop(columns=['statName'])\n",
        "games = pd.merge(games, s.rename(columns={'statValue': 'home_games'}), how='left', left_on=['season', 'home_team', 'week'], right_on=['season', 'team', 'week']).drop(['team'], axis=1)\n",
        "games = pd.merge(games, s.rename(columns={'statValue': 'away_games'}), how='left', left_on=['season', 'away_team', 'week'], right_on=['season', 'team', 'week']).drop(['team'], axis=1)\n",
        "\n",
        "for stat in stat_cols:\n",
        "  s = stats.loc[(stats.statName == stat)]\n",
        "  s = s.drop(columns=['statName'])\n",
        "  games = pd.merge(games, s.rename(columns={'statValue': 'home_'+stat}), how='left', left_on=['season', 'home_team', 'week'], right_on=['season', 'team', 'week']).drop(['team'], axis=1)\n",
        "  games = pd.merge(games, s.rename(columns={'statValue': 'away_'+stat}), how='left', left_on=['season', 'away_team', 'week'], right_on=['season', 'team', 'week']).drop(['team'], axis=1)\n",
        "  games = games.fillna(0)\n",
        "  games[stat] = (games['home_'+stat]/games.home_games) - (games['away_'+stat]/games.away_games)\n",
        "  games = games.drop(columns=['home_'+stat, 'away_'+stat])\n",
        "\n",
        "games = games.fillna(0)"
      ],
      "execution_count": null,
      "outputs": [
        {
          "output_type": "stream",
          "text": [
            "['firstDowns', 'fourthDownConversions', 'fourthDowns', 'fumblesLost', 'fumblesRecovered', 'interceptionTDs', 'interceptionYards', 'interceptions', 'kickReturnTDs', 'kickReturnYards', 'kickReturns', 'netPassingYards', 'passAttempts', 'passCompletions', 'passesIntercepted', 'passingTDs', 'penalties', 'penaltyYards', 'possessionTime', 'puntReturnTDs', 'puntReturnYards', 'puntReturns', 'rushingAttempts', 'rushingTDs', 'rushingYards', 'thirdDownConversions', 'thirdDowns', 'totalYards', 'turnovers']\n"
          ],
          "name": "stdout"
        }
      ]
    },
    {
      "cell_type": "code",
      "metadata": {
        "id": "HGMQRCUjLlvN"
      },
      "source": [
        "# create the table for total points a team scored for and against before a given week\n",
        "points_per_game = original_teams.loc[:, original_teams.columns.intersection(['school'])]\n",
        "points_per_game['year'] = 2020\n",
        "one_season = points_per_game.copy()\n",
        "for year in range(2004, 2020):\n",
        "  temp = one_season.copy()\n",
        "  temp['year'] = year\n",
        "  points_per_game = pd.concat([points_per_game, temp], ignore_index=True)\n",
        "\n",
        "points_per_game[('points_for_week1')] = 0.0\n",
        "points_per_game[('points_against_week1')] = 0.0\n",
        "scores = original_games.loc[:, original_games.columns.intersection(['season', 'week', 'home_team', 'away_team', 'home_points', 'away_points'])]\n",
        "scores['week'] += 1\n",
        "for week in range(2, 16):\n",
        "  this_scores = scores.loc[scores.week == week]\n",
        "  this_scores = this_scores.rename(columns={'home_points': ('points_for_week%d' % week), 'away_points': ('points_against_week%d' % week)})\n",
        "  points_per_game = pd.merge(points_per_game, this_scores, how='left', left_on=['school', 'year'], right_on=['home_team', 'season']).drop(['home_team', 'away_team', 'season', 'week'], axis=1)\n",
        "  this_scores = scores.loc[scores.week == week]\n",
        "  this_scores = this_scores.rename(columns={'away_points': ('points_for_week%d' % week), 'home_points': ('points_against_week%d' % week)})\n",
        "  points_per_game = pd.merge(points_per_game, this_scores, how='left', left_on=['school', 'year'], right_on=['away_team', 'season']).drop(['home_team', 'away_team', 'season', 'week'], axis=1)\n",
        "  points_per_game = points_per_game.fillna(0)\n",
        "  points_per_game[('points_for_week%d' % week)] = points_per_game[('points_for_week%d_x' % week)] + points_per_game[('points_for_week%d_y' % week)]\n",
        "  points_per_game[('points_against_week%d' % week)] = points_per_game[('points_against_week%d_x' % week)] + points_per_game[('points_against_week%d_y' % week)]\n",
        "  points_per_game = points_per_game.drop(columns=[('points_for_week%d_x' % week), ('points_for_week%d_y' % week), ('points_against_week%d_x' % week), ('points_against_week%d_y' % week)])\n",
        "\n",
        "for week in range(2, 16):\n",
        "  points_per_game[('points_for_week%d' % week)] += points_per_game[('points_for_week%d' % (week-1))]\n",
        "  points_per_game[('points_against_week%d' % week)] += points_per_game[('points_against_week%d' % (week-1))]\n",
        "\n",
        "for week in range(1,16):\n",
        "  points = points_per_game.loc[:, points_per_game.columns.intersection(['year', 'school', ('points_for_week%d' % week), ('points_against_week%d' % week)])]\n",
        "  points = points.rename(columns={('points_for_week%d' % week): 'home_for', ('points_against_week%d' % week): 'home_against'})\n",
        "  points['week'] = week\n",
        "  games = pd.merge(games, points, how='left', left_on=['home_team', 'season', 'week'], right_on=['school', 'year', 'week']).drop(['school', 'year'], axis=1)\n",
        "  points = points.rename(columns={'home_for': 'away_for', 'home_against': 'away_against'})\n",
        "  games = pd.merge(games, points, how='left', left_on=['away_team', 'season', 'week'], right_on=['school', 'year', 'week']).drop(['school', 'year'], axis=1)\n",
        "  if (week > 1):\n",
        "    games['home_for'] = games['home_for_x'].fillna(0) + games['home_for_y'].fillna(0)\n",
        "    games['home_against'] = games['home_against_x'].fillna(0) + games['home_against_y'].fillna(0)\n",
        "    games['away_for'] = games['away_for_x'].fillna(0) + games['away_for_y'].fillna(0)\n",
        "    games['away_against'] = games['away_against_x'].fillna(0) + games['away_against_y'].fillna(0)\n",
        "    games = games.drop(columns=['home_for_x', 'home_for_y', 'home_against_x', 'home_against_y', 'away_for_x', 'away_for_y', 'away_against_x', 'away_against_y'])\n",
        "\n",
        "games['home_for'] /= games['home_games']\n",
        "games['home_against'] /= games['home_games']\n",
        "games['away_for'] /= games['away_games']\n",
        "games['away_against'] /= games['away_games']\n",
        "games = games.fillna(0)\n",
        "\n",
        "# points_per_game.loc[points_per_game.school == 'Washington']"
      ],
      "execution_count": null,
      "outputs": []
    },
    {
      "cell_type": "code",
      "metadata": {
        "id": "mO5O5r2aZie9"
      },
      "source": [
        "# add ap-top 25 rankings for each team, -1 if not ranked\n",
        "rankings = original_rankings.drop(columns = ['seasonType'])\n",
        "rankings['rank1_name'] = [d[0].get('poll') for d in rankings.polls]\n",
        "rankings['rank1_ranks'] = [d[0].get('ranks') for d in rankings.polls]\n",
        "rankings['rank2_name'] = [d[1].get('poll') for d in rankings.polls]\n",
        "rankings['rank2_ranks'] = [d[1].get('ranks') for d in rankings.polls]\n",
        "rankings.loc[rankings['rank1_name'] == 'AP Top 25', 'ap'] = rankings.loc[rankings['rank1_name'] == 'AP Top 25'].rank1_ranks\n",
        "rankings.loc[rankings['rank2_name'] == 'AP Top 25', 'ap'] = rankings.loc[rankings['rank2_name'] == 'AP Top 25'].rank2_ranks\n",
        "rankings = rankings.drop(columns=['rank1_name', 'rank2_name', 'rank1_ranks', 'rank2_ranks', 'polls'])\n",
        "rankings = rankings.reset_index(drop=True)\n",
        "rankings = rankings.explode('ap').reset_index(drop=True)\n",
        "rankings['school'] = [d.get('school') for d in rankings.ap]\n",
        "rankings['rank'] = [d.get('rank') for d in rankings.ap]\n",
        "rankings = rankings.drop(columns=['ap'])\n",
        "games = pd.merge(games, rankings.rename(columns={'rank': 'home_rank'}), how='left', left_on=['season', 'week', 'home_team'], right_on=['season', 'week', 'school']).drop(['school'], axis=1)\n",
        "games = pd.merge(games, rankings.rename(columns={'rank': 'away_rank'}), how='left', left_on=['season', 'week', 'away_team'], right_on=['season', 'week', 'school']).drop(['school'], axis=1)\n",
        "games = games.fillna(-1)\n"
      ],
      "execution_count": null,
      "outputs": []
    },
    {
      "cell_type": "code",
      "metadata": {
        "id": "vHsBhF8xTmt4"
      },
      "source": [
        "def one_hot(column):\n",
        "  column = column.reshape(-1, 1)\n",
        "  enc = OneHotEncoder()\n",
        "  enc.fit(column)\n",
        "  return enc.transform(column).toarray()\n",
        "\n",
        "def replace_categorical_with_one_hot(df, column):\n",
        "  one_hot_matrix = one_hot(np.array(df[column]))\n",
        "  _, new_cols = one_hot_matrix.shape\n",
        "  for i in range(new_cols):\n",
        "      df[\"%s_%d\" % (column, i)] = one_hot_matrix[:,i]\n",
        "  df = df.drop(column, 1)\n",
        "  return df"
      ],
      "execution_count": null,
      "outputs": []
    },
    {
      "cell_type": "code",
      "metadata": {
        "colab": {
          "base_uri": "https://localhost:8080/"
        },
        "id": "4HHeYhQuwkEj",
        "outputId": "5412f2d0-f20d-49e0-af09-bcfb79201b0d"
      },
      "source": [
        "torch.manual_seed(0)\n",
        "device = torch.device(\"cuda\")\n",
        "print('Using device', device)"
      ],
      "execution_count": null,
      "outputs": [
        {
          "output_type": "stream",
          "text": [
            "Using device cuda\n"
          ],
          "name": "stdout"
        }
      ]
    },
    {
      "cell_type": "markdown",
      "metadata": {
        "id": "U9wuveVtsO-L"
      },
      "source": [
        "# Baseline Models<a name=\"baseline\"></a>"
      ]
    },
    {
      "cell_type": "markdown",
      "metadata": {
        "id": "MewJ9jzs6oYm"
      },
      "source": [
        "## Vegas RMSE<a name=\"vegas\"></a>"
      ]
    },
    {
      "cell_type": "code",
      "metadata": {
        "id": "3ABHAdkE7AYr"
      },
      "source": [
        "valid = games.loc[games.season == 2019]\n",
        "train = games.loc[games.season != 2019]"
      ],
      "execution_count": null,
      "outputs": []
    },
    {
      "cell_type": "code",
      "metadata": {
        "id": "9mOVmWqC7CL0"
      },
      "source": [
        "train_in = train.spread.to_numpy()\n",
        "train_out = train.result.to_numpy()\n",
        "valid_in = valid.spread.to_numpy()\n",
        "valid_out = valid.result.to_numpy()\n",
        "baseline_model = LinearRegression().fit(train_in.reshape(-1, 1), train_out)"
      ],
      "execution_count": null,
      "outputs": []
    },
    {
      "cell_type": "code",
      "metadata": {
        "colab": {
          "base_uri": "https://localhost:8080/",
          "height": 316
        },
        "id": "SIYEqNfB7E46",
        "outputId": "b53e1ad7-e4d5-46f9-af89-218eb3eefb02"
      },
      "source": [
        "x = np.linspace(-40, 60, 500)\n",
        "y = baseline_model.coef_ * x + baseline_model.intercept_\n",
        "y = baseline_model.predict(x.reshape(-1, 1))\n",
        "\n",
        "plt.xlabel('vegas spread')\n",
        "plt.ylabel('game result')\n",
        "plt.plot(train_in, train_out, '.', color='black')\n",
        "plt.plot(x, y, '-r', label=\"f(x) = %.3fx + %.3f\" % (baseline_model.coef_, baseline_model.intercept_))\n",
        "plt.legend()\n",
        "plt.grid()\n",
        "\n",
        "prediction = baseline_model.predict(valid_in.reshape(-1, 1))\n",
        "print('Vegas spread RMSE = %.2f points' % mean_squared_error(valid_out, prediction, squared=False))\n",
        "\n",
        "temp_pred = prediction\n",
        "temp_pred[temp_pred>0] = 1 # home win\n",
        "temp_pred[temp_pred<0] = 0 # away win\n",
        "\n",
        "temp_tru = valid_out\n",
        "temp_tru[temp_tru>0] =  1\n",
        "temp_tru[temp_tru<0] = 0\n",
        "\n",
        "print('Game winner accuracy = %.3f%%' % ((np.sum(temp_pred==temp_tru) / len(temp_tru))*100.0))"
      ],
      "execution_count": null,
      "outputs": [
        {
          "output_type": "stream",
          "text": [
            "Vegas spread RMSE = 15.44 points\n",
            "Game winner accuracy = 74.863%\n"
          ],
          "name": "stdout"
        },
        {
          "output_type": "display_data",
          "data": {
            "image/png": "[encoded data removed]",
            "text/plain": [
              "<Figure size 432x288 with 1 Axes>"
            ]
          },
          "metadata": {
            "tags": [],
            "needs_background": "light"
          }
        }
      ]
    },
    {
      "cell_type": "markdown",
      "metadata": {
        "id": "f94XS4VVXUET"
      },
      "source": [
        "## Simple linear baseline model<a name=\"simple-linear\"></a>"
      ]
    },
    {
      "cell_type": "code",
      "metadata": {
        "id": "jxkKiXE5PMUk"
      },
      "source": [
        "valid = games.loc[games.season == 2019]\n",
        "train = games.loc[games.season != 2019]"
      ],
      "execution_count": null,
      "outputs": []
    },
    {
      "cell_type": "code",
      "metadata": {
        "id": "aEYOh6-TPMUl"
      },
      "source": [
        "train_in = train.win_difference.to_numpy()\n",
        "train_out = train.result.to_numpy()\n",
        "valid_in = valid.win_difference.to_numpy()\n",
        "valid_out = valid.result.to_numpy()\n",
        "baseline_model = LinearRegression().fit(train_in.reshape(-1, 1), train_out)"
      ],
      "execution_count": null,
      "outputs": []
    },
    {
      "cell_type": "code",
      "metadata": {
        "colab": {
          "base_uri": "https://localhost:8080/",
          "height": 316
        },
        "id": "qLLFds6-PMUo",
        "outputId": "d5d47503-2df7-4df8-ae6a-4981f5b4826e"
      },
      "source": [
        "x = np.linspace(-1, 1, 500)\n",
        "y = baseline_model.coef_ * x + baseline_model.intercept_\n",
        "y = baseline_model.predict(x.reshape(-1, 1))\n",
        "\n",
        "plt.xlabel('win percentage difference')\n",
        "plt.ylabel('game result')\n",
        "plt.plot(train_in, train_out, '.', color='black')\n",
        "plt.plot(x, y, '-r', label=\"f(x) = %.3fx + %.3f\" % (baseline_model.coef_, baseline_model.intercept_))\n",
        "plt.legend()\n",
        "plt.grid()\n",
        "\n",
        "prediction = baseline_model.predict(valid_in.reshape(-1, 1))\n",
        "print('Spread RMSE = %.2f points' % mean_squared_error(valid_out, prediction, squared=False))\n",
        "\n",
        "temp_pred = prediction\n",
        "temp_pred[temp_pred>0] = 1\n",
        "temp_pred[temp_pred<0] = 0\n",
        "\n",
        "temp_tru = valid_out\n",
        "temp_tru[temp_tru>0] = 1\n",
        "temp_tru[temp_tru<0] = 0\n",
        "\n",
        "print('Game winner accuracy = %.3f%%' % ((np.sum(temp_pred==temp_tru) / len(temp_tru))*100.0))"
      ],
      "execution_count": null,
      "outputs": [
        {
          "output_type": "stream",
          "text": [
            "Spread RMSE = 15.78 points\n",
            "Game winner accuracy = 81.284%\n"
          ],
          "name": "stdout"
        },
        {
          "output_type": "display_data",
          "data": {
            "image/png": "[encoded data removed]",
            "text/plain": [
              "<Figure size 432x288 with 1 Axes>"
            ]
          },
          "metadata": {
            "tags": [],
            "needs_background": "light"
          }
        }
      ]
    },
    {
      "cell_type": "markdown",
      "metadata": {
        "id": "Q58rFM-zu6_d"
      },
      "source": [
        "# More Complex Models<a name=\"complex-models\"></a>"
      ]
    },
    {
      "cell_type": "markdown",
      "metadata": {
        "id": "Kyjyl17aXMdM"
      },
      "source": [
        "## Linear model with more features<a name=\"linear-complex\"></a>"
      ]
    },
    {
      "cell_type": "code",
      "metadata": {
        "colab": {
          "base_uri": "https://localhost:8080/",
          "height": 275
        },
        "id": "iNPFSuguJyee",
        "outputId": "fdfe4694-5aa8-44e5-905f-92b47e19fbe8"
      },
      "source": [
        "games.loc[(games.home_team == 'Washington') & (games.season == 2013)]"
      ],
      "execution_count": null,
      "outputs": [
        {
          "output_type": "execute_result",
          "data": {
            "text/html": [
              "<div>\n",
              "<style scoped>\n",
              "    .dataframe tbody tr th:only-of-type {\n",
              "        vertical-align: middle;\n",
              "    }\n",
              "\n",
              "    .dataframe tbody tr th {\n",
              "        vertical-align: top;\n",
              "    }\n",
              "\n",
              "    .dataframe thead th {\n",
              "        text-align: right;\n",
              "    }\n",
              "</style>\n",
              "<table border=\"1\" class=\"dataframe\">\n",
              "  <thead>\n",
              "    <tr style=\"text-align: right;\">\n",
              "      <th></th>\n",
              "      <th>id</th>\n",
              "      <th>season</th>\n",
              "      <th>week</th>\n",
              "      <th>home_team</th>\n",
              "      <th>away_team</th>\n",
              "      <th>excitement_index</th>\n",
              "      <th>result</th>\n",
              "      <th>spread</th>\n",
              "      <th>homeWinProb</th>\n",
              "      <th>win_difference</th>\n",
              "      <th>home_games</th>\n",
              "      <th>away_games</th>\n",
              "      <th>firstDowns</th>\n",
              "      <th>fourthDownConversions</th>\n",
              "      <th>fourthDowns</th>\n",
              "      <th>fumblesLost</th>\n",
              "      <th>fumblesRecovered</th>\n",
              "      <th>interceptionTDs</th>\n",
              "      <th>interceptionYards</th>\n",
              "      <th>interceptions</th>\n",
              "      <th>kickReturnTDs</th>\n",
              "      <th>kickReturnYards</th>\n",
              "      <th>kickReturns</th>\n",
              "      <th>netPassingYards</th>\n",
              "      <th>passAttempts</th>\n",
              "      <th>passCompletions</th>\n",
              "      <th>passesIntercepted</th>\n",
              "      <th>passingTDs</th>\n",
              "      <th>penalties</th>\n",
              "      <th>penaltyYards</th>\n",
              "      <th>possessionTime</th>\n",
              "      <th>puntReturnTDs</th>\n",
              "      <th>puntReturnYards</th>\n",
              "      <th>puntReturns</th>\n",
              "      <th>rushingAttempts</th>\n",
              "      <th>rushingTDs</th>\n",
              "      <th>rushingYards</th>\n",
              "      <th>thirdDownConversions</th>\n",
              "      <th>thirdDowns</th>\n",
              "      <th>totalYards</th>\n",
              "      <th>turnovers</th>\n",
              "      <th>home_for</th>\n",
              "      <th>home_against</th>\n",
              "      <th>away_for</th>\n",
              "      <th>away_against</th>\n",
              "      <th>home_rank</th>\n",
              "      <th>away_rank</th>\n",
              "    </tr>\n",
              "  </thead>\n",
              "  <tbody>\n",
              "    <tr>\n",
              "      <th>38</th>\n",
              "      <td>332430264</td>\n",
              "      <td>2013</td>\n",
              "      <td>1</td>\n",
              "      <td>Washington</td>\n",
              "      <td>Boise State</td>\n",
              "      <td>4.016148</td>\n",
              "      <td>32.0</td>\n",
              "      <td>2.5</td>\n",
              "      <td>0.558</td>\n",
              "      <td>0.076923</td>\n",
              "      <td>0.0</td>\n",
              "      <td>0.0</td>\n",
              "      <td>0.000000</td>\n",
              "      <td>0.000000</td>\n",
              "      <td>0.000000</td>\n",
              "      <td>0.000000</td>\n",
              "      <td>0.000000</td>\n",
              "      <td>0.000000</td>\n",
              "      <td>0.000000</td>\n",
              "      <td>0.000000</td>\n",
              "      <td>0.0</td>\n",
              "      <td>0.000000</td>\n",
              "      <td>0.000000</td>\n",
              "      <td>0.000000</td>\n",
              "      <td>0.000000</td>\n",
              "      <td>0.000000</td>\n",
              "      <td>0.000000</td>\n",
              "      <td>0.000000</td>\n",
              "      <td>0.000000</td>\n",
              "      <td>0.000000</td>\n",
              "      <td>0.000000</td>\n",
              "      <td>0.0</td>\n",
              "      <td>0.000000</td>\n",
              "      <td>0.000000</td>\n",
              "      <td>0.000000</td>\n",
              "      <td>0.000000</td>\n",
              "      <td>0.000000</td>\n",
              "      <td>0.000000</td>\n",
              "      <td>0.000000</td>\n",
              "      <td>0.000000</td>\n",
              "      <td>0.000000</td>\n",
              "      <td>0.000000</td>\n",
              "      <td>0.000000</td>\n",
              "      <td>0.000000</td>\n",
              "      <td>0.000000</td>\n",
              "      <td>-1.0</td>\n",
              "      <td>19.0</td>\n",
              "    </tr>\n",
              "    <tr>\n",
              "      <th>202</th>\n",
              "      <td>332710264</td>\n",
              "      <td>2013</td>\n",
              "      <td>5</td>\n",
              "      <td>Washington</td>\n",
              "      <td>Arizona</td>\n",
              "      <td>5.958433</td>\n",
              "      <td>18.0</td>\n",
              "      <td>7.0</td>\n",
              "      <td>0.660</td>\n",
              "      <td>0.076923</td>\n",
              "      <td>3.0</td>\n",
              "      <td>3.0</td>\n",
              "      <td>9.666667</td>\n",
              "      <td>-0.666667</td>\n",
              "      <td>-0.666667</td>\n",
              "      <td>0.333333</td>\n",
              "      <td>-0.333333</td>\n",
              "      <td>-1.000000</td>\n",
              "      <td>-48.666667</td>\n",
              "      <td>0.333333</td>\n",
              "      <td>0.0</td>\n",
              "      <td>32.000000</td>\n",
              "      <td>1.666667</td>\n",
              "      <td>216.666667</td>\n",
              "      <td>13.000000</td>\n",
              "      <td>13.666667</td>\n",
              "      <td>-0.666667</td>\n",
              "      <td>2.000000</td>\n",
              "      <td>8.666667</td>\n",
              "      <td>71.666667</td>\n",
              "      <td>182.666667</td>\n",
              "      <td>0.0</td>\n",
              "      <td>-26.666667</td>\n",
              "      <td>-3.666667</td>\n",
              "      <td>2.000000</td>\n",
              "      <td>-1.000000</td>\n",
              "      <td>-18.666667</td>\n",
              "      <td>2.000000</td>\n",
              "      <td>-0.666667</td>\n",
              "      <td>198.000000</td>\n",
              "      <td>0.666667</td>\n",
              "      <td>42.666667</td>\n",
              "      <td>10.000000</td>\n",
              "      <td>43.666667</td>\n",
              "      <td>8.666667</td>\n",
              "      <td>16.0</td>\n",
              "      <td>-1.0</td>\n",
              "    </tr>\n",
              "    <tr>\n",
              "      <th>305</th>\n",
              "      <td>332850264</td>\n",
              "      <td>2013</td>\n",
              "      <td>7</td>\n",
              "      <td>Washington</td>\n",
              "      <td>Oregon</td>\n",
              "      <td>4.255697</td>\n",
              "      <td>-21.0</td>\n",
              "      <td>-10.5</td>\n",
              "      <td>0.268</td>\n",
              "      <td>-0.153846</td>\n",
              "      <td>5.0</td>\n",
              "      <td>5.0</td>\n",
              "      <td>1.800000</td>\n",
              "      <td>-0.600000</td>\n",
              "      <td>-1.200000</td>\n",
              "      <td>0.000000</td>\n",
              "      <td>-1.400000</td>\n",
              "      <td>0.000000</td>\n",
              "      <td>-19.000000</td>\n",
              "      <td>0.200000</td>\n",
              "      <td>0.0</td>\n",
              "      <td>2.600000</td>\n",
              "      <td>0.200000</td>\n",
              "      <td>3.600000</td>\n",
              "      <td>3.400000</td>\n",
              "      <td>6.600000</td>\n",
              "      <td>0.200000</td>\n",
              "      <td>-0.600000</td>\n",
              "      <td>3.000000</td>\n",
              "      <td>22.400000</td>\n",
              "      <td>202.800000</td>\n",
              "      <td>-0.4</td>\n",
              "      <td>-37.800000</td>\n",
              "      <td>-0.600000</td>\n",
              "      <td>4.400000</td>\n",
              "      <td>-2.200000</td>\n",
              "      <td>-77.000000</td>\n",
              "      <td>2.800000</td>\n",
              "      <td>1.600000</td>\n",
              "      <td>-73.400000</td>\n",
              "      <td>0.200000</td>\n",
              "      <td>37.400000</td>\n",
              "      <td>14.800000</td>\n",
              "      <td>59.200000</td>\n",
              "      <td>11.800000</td>\n",
              "      <td>16.0</td>\n",
              "      <td>2.0</td>\n",
              "    </tr>\n",
              "    <tr>\n",
              "      <th>422</th>\n",
              "      <td>332990264</td>\n",
              "      <td>2013</td>\n",
              "      <td>9</td>\n",
              "      <td>Washington</td>\n",
              "      <td>California</td>\n",
              "      <td>2.546683</td>\n",
              "      <td>24.0</td>\n",
              "      <td>23.0</td>\n",
              "      <td>0.912</td>\n",
              "      <td>0.608974</td>\n",
              "      <td>7.0</td>\n",
              "      <td>7.0</td>\n",
              "      <td>0.428571</td>\n",
              "      <td>-0.857143</td>\n",
              "      <td>-1.714286</td>\n",
              "      <td>-1.000000</td>\n",
              "      <td>-0.714286</td>\n",
              "      <td>0.000000</td>\n",
              "      <td>2.857143</td>\n",
              "      <td>-0.857143</td>\n",
              "      <td>0.0</td>\n",
              "      <td>-56.000000</td>\n",
              "      <td>-2.285714</td>\n",
              "      <td>-89.857143</td>\n",
              "      <td>-18.285714</td>\n",
              "      <td>-9.142857</td>\n",
              "      <td>0.571429</td>\n",
              "      <td>0.285714</td>\n",
              "      <td>0.857143</td>\n",
              "      <td>2.714286</td>\n",
              "      <td>18.000000</td>\n",
              "      <td>0.0</td>\n",
              "      <td>-1.714286</td>\n",
              "      <td>-0.285714</td>\n",
              "      <td>9.142857</td>\n",
              "      <td>1.571429</td>\n",
              "      <td>105.428571</td>\n",
              "      <td>1.000000</td>\n",
              "      <td>-2.857143</td>\n",
              "      <td>15.571429</td>\n",
              "      <td>-1.857143</td>\n",
              "      <td>33.571429</td>\n",
              "      <td>24.571429</td>\n",
              "      <td>23.714286</td>\n",
              "      <td>44.428571</td>\n",
              "      <td>-1.0</td>\n",
              "      <td>-1.0</td>\n",
              "    </tr>\n",
              "    <tr>\n",
              "      <th>515</th>\n",
              "      <td>333130264</td>\n",
              "      <td>2013</td>\n",
              "      <td>11</td>\n",
              "      <td>Washington</td>\n",
              "      <td>Colorado</td>\n",
              "      <td>1.934312</td>\n",
              "      <td>52.0</td>\n",
              "      <td>27.0</td>\n",
              "      <td>0.944</td>\n",
              "      <td>0.358974</td>\n",
              "      <td>8.0</td>\n",
              "      <td>8.0</td>\n",
              "      <td>5.750000</td>\n",
              "      <td>0.000000</td>\n",
              "      <td>0.000000</td>\n",
              "      <td>0.000000</td>\n",
              "      <td>-0.500000</td>\n",
              "      <td>-0.250000</td>\n",
              "      <td>-21.375000</td>\n",
              "      <td>-0.750000</td>\n",
              "      <td>0.0</td>\n",
              "      <td>-14.625000</td>\n",
              "      <td>-0.250000</td>\n",
              "      <td>34.625000</td>\n",
              "      <td>0.375000</td>\n",
              "      <td>2.250000</td>\n",
              "      <td>0.000000</td>\n",
              "      <td>0.500000</td>\n",
              "      <td>3.750000</td>\n",
              "      <td>31.750000</td>\n",
              "      <td>35.125000</td>\n",
              "      <td>0.0</td>\n",
              "      <td>2.750000</td>\n",
              "      <td>0.625000</td>\n",
              "      <td>9.875000</td>\n",
              "      <td>1.375000</td>\n",
              "      <td>89.500000</td>\n",
              "      <td>2.625000</td>\n",
              "      <td>0.875000</td>\n",
              "      <td>124.125000</td>\n",
              "      <td>-0.750000</td>\n",
              "      <td>34.500000</td>\n",
              "      <td>23.625000</td>\n",
              "      <td>26.375000</td>\n",
              "      <td>38.125000</td>\n",
              "      <td>-1.0</td>\n",
              "      <td>-1.0</td>\n",
              "    </tr>\n",
              "    <tr>\n",
              "      <th>635</th>\n",
              "      <td>333330264</td>\n",
              "      <td>2013</td>\n",
              "      <td>14</td>\n",
              "      <td>Washington</td>\n",
              "      <td>Washington State</td>\n",
              "      <td>5.738191</td>\n",
              "      <td>10.0</td>\n",
              "      <td>14.5</td>\n",
              "      <td>0.803</td>\n",
              "      <td>0.230769</td>\n",
              "      <td>11.0</td>\n",
              "      <td>11.0</td>\n",
              "      <td>2.454545</td>\n",
              "      <td>-0.545455</td>\n",
              "      <td>-0.545455</td>\n",
              "      <td>-0.181818</td>\n",
              "      <td>-0.363636</td>\n",
              "      <td>-0.181818</td>\n",
              "      <td>-9.181818</td>\n",
              "      <td>-1.363636</td>\n",
              "      <td>0.0</td>\n",
              "      <td>-16.454545</td>\n",
              "      <td>-0.636364</td>\n",
              "      <td>-92.545455</td>\n",
              "      <td>-24.818182</td>\n",
              "      <td>-14.909091</td>\n",
              "      <td>-0.090909</td>\n",
              "      <td>-0.454545</td>\n",
              "      <td>3.000000</td>\n",
              "      <td>29.727273</td>\n",
              "      <td>0.000000</td>\n",
              "      <td>0.0</td>\n",
              "      <td>-7.818182</td>\n",
              "      <td>-0.454545</td>\n",
              "      <td>28.454545</td>\n",
              "      <td>1.909091</td>\n",
              "      <td>184.818182</td>\n",
              "      <td>1.909091</td>\n",
              "      <td>0.454545</td>\n",
              "      <td>92.272727</td>\n",
              "      <td>-1.545455</td>\n",
              "      <td>39.545455</td>\n",
              "      <td>24.000000</td>\n",
              "      <td>31.000000</td>\n",
              "      <td>31.636364</td>\n",
              "      <td>-1.0</td>\n",
              "      <td>-1.0</td>\n",
              "    </tr>\n",
              "  </tbody>\n",
              "</table>\n",
              "</div>"
            ],
            "text/plain": [
              "            id  season  week  ... away_against home_rank  away_rank\n",
              "38   332430264    2013     1  ...     0.000000      -1.0       19.0\n",
              "202  332710264    2013     5  ...     8.666667      16.0       -1.0\n",
              "305  332850264    2013     7  ...    11.800000      16.0        2.0\n",
              "422  332990264    2013     9  ...    44.428571      -1.0       -1.0\n",
              "515  333130264    2013    11  ...    38.125000      -1.0       -1.0\n",
              "635  333330264    2013    14  ...    31.636364      -1.0       -1.0\n",
              "\n",
              "[6 rows x 47 columns]"
            ]
          },
          "metadata": {
            "tags": []
          },
          "execution_count": 99
        }
      ]
    },
    {
      "cell_type": "code",
      "metadata": {
        "id": "8jRvG_YZ4a40"
      },
      "source": [
        "valid = games.loc[games.season == 2019]\n",
        "train = games.loc[games.season != 2019]\n",
        "\n",
        "valid = valid.drop(columns=['season', 'id', 'home_team', 'away_team'])\n",
        "valid = valid.fillna(0)\n",
        "train = train.drop(columns=['season', 'id', 'home_team', 'away_team'])\n",
        "train = train.fillna(0)\n",
        "\n",
        "train_in = train.drop(columns=['result'])\n",
        "train_out = train.result\n",
        "valid_in = valid.drop(columns=['result'])\n",
        "valid_out = valid.result\n",
        "model = LinearRegression().fit(train_in, train_out)"
      ],
      "execution_count": 60,
      "outputs": []
    },
    {
      "cell_type": "code",
      "metadata": {
        "colab": {
          "base_uri": "https://localhost:8080/"
        },
        "id": "R6lVGQ7Sbxhd",
        "outputId": "085f7956-db82-4aa7-c6eb-2670d58c134a"
      },
      "source": [
        "prediction = model.predict(valid_in)\n",
        "print('Spread RMSE = %.2f points' % mean_squared_error(valid_out, prediction, squared=False))\n",
        "\n",
        "temp_pred = prediction\n",
        "temp_pred[temp_pred>0] = 1\n",
        "temp_pred[temp_pred<0] = 0\n",
        "\n",
        "temp_tru = valid_out\n",
        "temp_tru[temp_tru>0] = 1\n",
        "temp_tru[temp_tru<0] = 0\n",
        "\n",
        "print('Game winner accuracy = %.3f%%' % ((np.sum(temp_pred==temp_tru) / len(temp_tru))*100.0))"
      ],
      "execution_count": 61,
      "outputs": [
        {
          "output_type": "stream",
          "text": [
            "Spread RMSE = 14.25 points\n",
            "Game winner accuracy = 81.557%\n"
          ],
          "name": "stdout"
        }
      ]
    },
    {
      "cell_type": "markdown",
      "metadata": {
        "id": "wY4oyKInPsV0"
      },
      "source": [
        "## Linear model with L1 Regularization<a name=\"l1\"></a>"
      ]
    },
    {
      "cell_type": "code",
      "metadata": {
        "id": "3mXkTG44LX3C"
      },
      "source": [
        "alphas = np.linspace(1,1000,50)\n",
        "kf = KFold(n_splits=10, shuffle=True, random_state=42)\n",
        "mse_valid = []\n",
        "mse_train = []\n",
        "num_nonzero = []\n",
        "\n",
        "for alpha in alphas:\n",
        "    large_model_lasso = Lasso(alpha=alpha, random_state=77)\n",
        "    mse_kfold = []\n",
        "    # Iterate through all folds\n",
        "    for train_index, test_index in kf.split(train_in):        \n",
        "        large_model_lasso.fit(train_in.iloc[train_index], train_out.iloc[train_index])\n",
        "        kf_test_pred = large_model_lasso.predict(train_in.iloc[test_index])\n",
        "        error = mean_squared_error(train_out.iloc[test_index], kf_test_pred, squared=False)\n",
        "        mse_kfold.append(error)\n",
        "\n",
        "    # count number of nonzero coefficients\n",
        "    num_nonzero.append(np.sum(large_model_lasso.coef_ != 0))\n",
        "    \n",
        "    # create error arrays\n",
        "    mse_train.append(np.mean(mse_kfold))\n",
        "    large_model_lasso.fit(train_in, train_out)\n",
        "    pred_valid = large_model_lasso.predict(valid_in)\n",
        "    mse_valid.append(mean_squared_error(valid_out, pred_valid, squared=False))"
      ],
      "execution_count": 80,
      "outputs": []
    },
    {
      "cell_type": "code",
      "metadata": {
        "colab": {
          "base_uri": "https://localhost:8080/",
          "height": 330
        },
        "id": "iIihisD7NStN",
        "outputId": "1e70da30-1fd2-4454-d995-2706375558eb"
      },
      "source": [
        "best_alpha = alphas[np.argmin(mse_valid)]\n",
        "print(f'Optimum Alpha at {best_alpha}')\n",
        "plt.plot(alphas,mse_valid, linewidth=3)\n",
        "plt.plot(alphas,mse_train, linewidth=3)\n",
        "plt.plot(best_alpha,np.min(mse_valid),'r.',markersize=10)\n",
        "plt.plot(alphas[np.argmin(mse_train)],np.min(mse_train),'r.',markersize=10)\n",
        "\n",
        "plt.legend(['RMSE for Validation Set','RMSE for Validation Fold of Training Set'])\n",
        "plt.xlabel('α')\n",
        "plt.ylabel('Root Mean Square Error (points)')\n",
        "plt.title('RMSE vs. Regularization Constant (L1)')\n",
        "plt.grid()\n",
        "plt.ylim([0, 50])"
      ],
      "execution_count": 88,
      "outputs": [
        {
          "output_type": "stream",
          "text": [
            "Optimum Alpha at 755.3469387755102\n"
          ],
          "name": "stdout"
        },
        {
          "output_type": "execute_result",
          "data": {
            "text/plain": [
              "(0.0, 50.0)"
            ]
          },
          "metadata": {
            "tags": []
          },
          "execution_count": 88
        },
        {
          "output_type": "display_data",
          "data": {
            "image/png": "[encoded data removed]",
            "text/plain": [
              "<Figure size 432x288 with 1 Axes>"
            ]
          },
          "metadata": {
            "tags": [],
            "needs_background": "light"
          }
        }
      ]
    },
    {
      "cell_type": "code",
      "metadata": {
        "colab": {
          "base_uri": "https://localhost:8080/"
        },
        "id": "pBwPUhDaOpJe",
        "outputId": "609d8796-13f2-4375-a861-b9828aa6cee5"
      },
      "source": [
        "lasso_model = Lasso(alpha=best_alpha, random_state=77)\n",
        "lasso_model.fit(train_in, train_out)\n",
        "prediction = lasso_model.predict(valid_in)\n",
        "print('Spread RMSE = %.2f points' % mean_squared_error(valid_out, prediction, squared=False))\n",
        "\n",
        "temp_pred = prediction\n",
        "temp_pred[temp_pred>0] = 1\n",
        "temp_pred[temp_pred<0] = 0\n",
        "\n",
        "temp_tru = valid_out\n",
        "temp_tru[temp_tru>0] = 1\n",
        "temp_tru[temp_tru<0] = 0\n",
        "\n",
        "print('Game winner accuracy = %.3f%%' % ((np.sum(temp_pred==temp_tru) / len(temp_tru))*100.0))\n",
        "# THIS MODEL OVERFIT! BAD RESULT!\n",
        "# CONCLUSION: LASSO DID NOT IMPROVE RESULTS"
      ],
      "execution_count": 97,
      "outputs": [
        {
          "output_type": "stream",
          "text": [
            "Spread RMSE = 3.64 points\n",
            "Game winner accuracy = 59.973%\n"
          ],
          "name": "stdout"
        }
      ]
    },
    {
      "cell_type": "markdown",
      "metadata": {
        "id": "CPOwNqTSxrlq"
      },
      "source": [
        "## Random Forest<a name=\"random-forest\"></a>"
      ]
    },
    {
      "cell_type": "code",
      "metadata": {
        "id": "oCaOKZfnB4XW"
      },
      "source": [
        "valid = games.loc[games.season == 2019]\n",
        "train = games.loc[games.season != 2019]\n",
        "\n",
        "valid = valid.drop(columns=['season', 'id', 'home_team', 'away_team'])\n",
        "valid = valid.fillna(0)\n",
        "train = train.drop(columns=['season', 'id', 'home_team', 'away_team'])\n",
        "train = train.fillna(0)\n",
        "\n",
        "train_in = train.drop(columns=['result'])\n",
        "train_out = train.result\n",
        "valid_in = valid.drop(columns=['result'])\n",
        "valid_out = valid.result\n",
        "\n",
        "train_out_winner = train_out\n",
        "train_out_winner[train_out_winner>0] = 1\n",
        "train_out_winner[train_out_winner<0] = 0\n",
        "\n",
        "valid_out_winner = valid_out\n",
        "valid_out_winner[valid_out_winner>0] = 1\n",
        "valid_out_winner[valid_out_winner<0] = 0"
      ],
      "execution_count": null,
      "outputs": []
    },
    {
      "cell_type": "code",
      "metadata": {
        "colab": {
          "base_uri": "https://localhost:8080/"
        },
        "id": "1yijoOaTx_Ej",
        "outputId": "f9770b59-acd5-4269-e0cc-a20cd729755e"
      },
      "source": [
        "MAX_DEPTH = 15\n",
        "random_model = RandomForestClassifier(max_depth=MAX_DEPTH)\n",
        "random_model.fit(train_in, train_out_winner)\n",
        "print('Game winner accuracy = %.3f%%' % ((np.sum(random_model.predict(valid_in)==valid_out_winner) / len(valid_out_winner))*100.0))"
      ],
      "execution_count": null,
      "outputs": [
        {
          "output_type": "stream",
          "text": [
            "Game winner accuracy = 84.016%\n"
          ],
          "name": "stdout"
        }
      ]
    },
    {
      "cell_type": "markdown",
      "metadata": {
        "id": "PnEjonbLv8sY"
      },
      "source": [
        "# Neural Networks<a name=\"nn\"></a>"
      ]
    },
    {
      "cell_type": "markdown",
      "metadata": {
        "id": "nAxuSbxatL0M"
      },
      "source": [
        "## Linear Neural Net for Predicting the Spread<a name=\"linear-spread-nn\"></a>"
      ]
    },
    {
      "cell_type": "code",
      "metadata": {
        "id": "v93eOD06weSC"
      },
      "source": [
        "# Hyperparameters\n",
        "BATCH_SIZE = 600\n",
        "EPOCHS = 100\n",
        "LEARNING_RATE = 0.005"
      ],
      "execution_count": null,
      "outputs": []
    },
    {
      "cell_type": "code",
      "metadata": {
        "id": "HF7RO-DO8swM"
      },
      "source": [
        "# Setup the data\n",
        "valid = games.loc[games.season == 2019]\n",
        "train = games.loc[games.season != 2019]\n",
        "\n",
        "valid = valid.drop(columns=['season', 'id', 'home_team', 'away_team'])\n",
        "valid = valid.fillna(0)\n",
        "train = train.drop(columns=['season', 'id', 'home_team', 'away_team'])\n",
        "train = train.fillna(0)\n",
        "\n",
        "train_in = train.drop(columns=['result'])\n",
        "train_out = train.result\n",
        "valid_in = valid.drop(columns=['result'])\n",
        "valid_out = valid.result\n",
        "\n",
        "data_train_vals = torch.tensor(train_in.to_numpy(), dtype=torch.float, device=device)\n",
        "data_train_labels = torch.tensor(train_out.to_numpy(), dtype=torch.float, device=device)\n",
        "data_train = TensorDataset(data_train_vals, data_train_labels)\n",
        "train_loader = DataLoader(dataset = data_train, batch_size = BATCH_SIZE, shuffle = True) \n",
        "\n",
        "data_valid_vals = torch.tensor(valid_in.to_numpy(), dtype=torch.float, device=device)\n",
        "data_valid_labels = torch.tensor(valid_out.to_numpy(), dtype=torch.float, device=device)\n",
        "data_valid = TensorDataset(data_train_vals, data_train_labels)\n",
        "valid_loader = DataLoader(dataset = data_valid, batch_size = BATCH_SIZE,  shuffle = False)"
      ],
      "execution_count": null,
      "outputs": []
    },
    {
      "cell_type": "code",
      "metadata": {
        "id": "N2g_r6i5ym0i"
      },
      "source": [
        "def train(model, device, train_loader, optimizer, epochs, criterion, verbose=False):\n",
        "  for epoch in range(epochs):\n",
        "    model.train()\n",
        "    batch_loss = 0\n",
        "    for data, label in train_loader:\n",
        "      data, label = data.to(device), label.to(device)\n",
        "      optimizer.zero_grad()\n",
        "      output = model(data)\n",
        "      loss = criterion(output, label)\n",
        "      loss.backward()\n",
        "      optimizer.step()\n",
        "      batch_loss += loss.item()\n",
        "    if verbose:\n",
        "      print('Train Epoch: %d  \\tLoss: %.6f' % (epoch, np.sqrt(batch_loss/len(train_loader))))\n",
        "\n",
        "def test(model, device, test_loader, criterion):\n",
        "  model.eval()\n",
        "  test_loss = 0\n",
        "  correct = 0\n",
        "  with torch.no_grad():\n",
        "    for data, label in test_loader:\n",
        "      data, label = data.to(device), label.to(device)\n",
        "      output = model(data)\n",
        "      test_loss += criterion(output, label).item()\n",
        "  print('Test set: Average loss: %.4f' % np.sqrt(test_loss/len(test_loader)))\n",
        "\n",
        "  return test_loss"
      ],
      "execution_count": null,
      "outputs": []
    },
    {
      "cell_type": "code",
      "metadata": {
        "id": "WsGrGRnet6ur"
      },
      "source": [
        "class Net(nn.Module):\n",
        "    def __init__(self, input_size):\n",
        "        super(Net, self).__init__()\n",
        "        self.fc1 = nn.Linear(input_size, 500).cuda()\n",
        "        self.fc2 = nn.Linear(500, 200).cuda()\n",
        "        self.fc3 = nn.Linear(200, 50).cuda()\n",
        "        self.fc4 = nn.Linear(50, 10).cuda()\n",
        "        self.fc5 = nn.Linear(10, 1).cuda()\n",
        "        # self.fc = nn.Linear(input_size, 1).cuda()\n",
        " \n",
        "    def forward(self, x):\n",
        "        x = F.relu(self.fc1(x))\n",
        "        x = F.relu(self.fc2(x))\n",
        "        x = F.relu(self.fc3(x))\n",
        "        x = F.softmax(self.fc4(x))\n",
        "        x = self.fc5(x)\n",
        "        return x\n",
        "        # return self.fc(x)\n",
        "\n",
        "model = Net(np.shape(train_in.to_numpy())[1])"
      ],
      "execution_count": null,
      "outputs": []
    },
    {
      "cell_type": "code",
      "metadata": {
        "id": "b8F6KZ0gw2nk"
      },
      "source": [
        "optimizer = torch.optim.Adam(model.parameters(), lr=LEARNING_RATE)\n",
        "criterion = nn.MSELoss()"
      ],
      "execution_count": null,
      "outputs": []
    },
    {
      "cell_type": "code",
      "metadata": {
        "colab": {
          "base_uri": "https://localhost:8080/"
        },
        "id": "VNH_3jeaxFL2",
        "outputId": "fa6d6944-bb6b-47ac-b0c7-f195d41b941a"
      },
      "source": [
        "train(model, device, train_loader, optimizer, EPOCHS, criterion, verbose=True)"
      ],
      "execution_count": null,
      "outputs": [
        {
          "output_type": "stream",
          "text": [
            "Train Epoch: 0  \tLoss: 22.078227\n",
            "Train Epoch: 1  \tLoss: 22.044913\n",
            "Train Epoch: 2  \tLoss: 22.024239\n",
            "Train Epoch: 3  \tLoss: 22.040351\n",
            "Train Epoch: 4  \tLoss: 22.027571\n",
            "Train Epoch: 5  \tLoss: 21.977918\n",
            "Train Epoch: 6  \tLoss: 22.018238\n",
            "Train Epoch: 7  \tLoss: 21.972643\n",
            "Train Epoch: 8  \tLoss: 21.972460\n",
            "Train Epoch: 9  \tLoss: 21.982245\n",
            "Train Epoch: 10  \tLoss: 21.941217\n",
            "Train Epoch: 11  \tLoss: 21.921824\n",
            "Train Epoch: 12  \tLoss: 21.882554\n",
            "Train Epoch: 13  \tLoss: 21.890300\n",
            "Train Epoch: 14  \tLoss: 21.876700\n",
            "Train Epoch: 15  \tLoss: 21.885297\n",
            "Train Epoch: 16  \tLoss: 21.919260\n",
            "Train Epoch: 17  \tLoss: 21.847682\n",
            "Train Epoch: 18  \tLoss: 21.866933\n",
            "Train Epoch: 19  \tLoss: 21.878307\n",
            "Train Epoch: 20  \tLoss: 21.785236\n",
            "Train Epoch: 21  \tLoss: 21.836362\n",
            "Train Epoch: 22  \tLoss: 21.780742\n",
            "Train Epoch: 23  \tLoss: 21.819541\n",
            "Train Epoch: 24  \tLoss: 21.795496\n",
            "Train Epoch: 25  \tLoss: 21.810168\n",
            "Train Epoch: 26  \tLoss: 21.782397\n",
            "Train Epoch: 27  \tLoss: 21.830589\n",
            "Train Epoch: 28  \tLoss: 21.816156\n",
            "Train Epoch: 29  \tLoss: 21.786175\n",
            "Train Epoch: 30  \tLoss: 21.769370\n",
            "Train Epoch: 31  \tLoss: 21.778369\n",
            "Train Epoch: 32  \tLoss: 21.753855\n",
            "Train Epoch: 33  \tLoss: 21.753097\n",
            "Train Epoch: 34  \tLoss: 21.753340\n",
            "Train Epoch: 35  \tLoss: 21.743585\n",
            "Train Epoch: 36  \tLoss: 21.705735\n",
            "Train Epoch: 37  \tLoss: 21.722680\n",
            "Train Epoch: 38  \tLoss: 21.727155\n",
            "Train Epoch: 39  \tLoss: 21.737000\n",
            "Train Epoch: 40  \tLoss: 21.710383\n",
            "Train Epoch: 41  \tLoss: 21.764940\n",
            "Train Epoch: 42  \tLoss: 21.730729\n",
            "Train Epoch: 43  \tLoss: 21.722911\n",
            "Train Epoch: 44  \tLoss: 21.705220\n",
            "Train Epoch: 45  \tLoss: 21.708077\n",
            "Train Epoch: 46  \tLoss: 21.708008\n",
            "Train Epoch: 47  \tLoss: 21.703641\n",
            "Train Epoch: 48  \tLoss: 21.692946\n",
            "Train Epoch: 49  \tLoss: 21.679166\n",
            "Train Epoch: 50  \tLoss: 21.703785\n",
            "Train Epoch: 51  \tLoss: 21.730512\n",
            "Train Epoch: 52  \tLoss: 21.670615\n",
            "Train Epoch: 53  \tLoss: 21.676344\n",
            "Train Epoch: 54  \tLoss: 21.701660\n",
            "Train Epoch: 55  \tLoss: 21.669105\n",
            "Train Epoch: 56  \tLoss: 21.710263\n",
            "Train Epoch: 57  \tLoss: 21.656719\n",
            "Train Epoch: 58  \tLoss: 21.662782\n",
            "Train Epoch: 59  \tLoss: 21.668839\n",
            "Train Epoch: 60  \tLoss: 21.679889\n",
            "Train Epoch: 61  \tLoss: 21.678982\n",
            "Train Epoch: 62  \tLoss: 21.667554\n",
            "Train Epoch: 63  \tLoss: 21.662132\n",
            "Train Epoch: 64  \tLoss: 21.645320\n",
            "Train Epoch: 65  \tLoss: 21.690503\n",
            "Train Epoch: 66  \tLoss: 21.679665\n",
            "Train Epoch: 67  \tLoss: 21.674801\n",
            "Train Epoch: 68  \tLoss: 21.659686\n",
            "Train Epoch: 69  \tLoss: 21.651889\n",
            "Train Epoch: 70  \tLoss: 21.677100\n",
            "Train Epoch: 71  \tLoss: 21.712879\n",
            "Train Epoch: 72  \tLoss: 21.676563\n",
            "Train Epoch: 73  \tLoss: 21.662108\n",
            "Train Epoch: 74  \tLoss: 21.663238\n",
            "Train Epoch: 75  \tLoss: 21.670003\n",
            "Train Epoch: 76  \tLoss: 21.665718\n",
            "Train Epoch: 77  \tLoss: 21.655163\n",
            "Train Epoch: 78  \tLoss: 21.642461\n",
            "Train Epoch: 79  \tLoss: 21.698097\n",
            "Train Epoch: 80  \tLoss: 21.668521\n",
            "Train Epoch: 81  \tLoss: 21.663740\n",
            "Train Epoch: 82  \tLoss: 21.666828\n",
            "Train Epoch: 83  \tLoss: 21.654941\n",
            "Train Epoch: 84  \tLoss: 21.650232\n",
            "Train Epoch: 85  \tLoss: 21.668313\n",
            "Train Epoch: 86  \tLoss: 21.654128\n",
            "Train Epoch: 87  \tLoss: 21.686715\n",
            "Train Epoch: 88  \tLoss: 21.643390\n",
            "Train Epoch: 89  \tLoss: 21.655026\n",
            "Train Epoch: 90  \tLoss: 21.638623\n",
            "Train Epoch: 91  \tLoss: 21.684033\n",
            "Train Epoch: 92  \tLoss: 21.638812\n",
            "Train Epoch: 93  \tLoss: 21.646148\n",
            "Train Epoch: 94  \tLoss: 21.672203\n",
            "Train Epoch: 95  \tLoss: 21.647626\n",
            "Train Epoch: 96  \tLoss: 21.621269\n",
            "Train Epoch: 97  \tLoss: 21.673408\n",
            "Train Epoch: 98  \tLoss: 21.634884\n",
            "Train Epoch: 99  \tLoss: 21.662230\n"
          ],
          "name": "stdout"
        }
      ]
    },
    {
      "cell_type": "code",
      "metadata": {
        "colab": {
          "base_uri": "https://localhost:8080/"
        },
        "id": "uqpAf1dKyrnC",
        "outputId": "36e09071-609c-412f-b8e1-42fa340f524a"
      },
      "source": [
        "result = test(model, device, valid_loader, criterion)"
      ],
      "execution_count": null,
      "outputs": [
        {
          "output_type": "stream",
          "text": [
            "Test set: Average loss: 21.6336\n"
          ],
          "name": "stdout"
        }
      ]
    },
    {
      "cell_type": "markdown",
      "metadata": {
        "id": "1SnMZBBDYry-"
      },
      "source": [
        "## Linear Neural Net for Predicting the Winner<a name=\"linear-winner-nn\"></a>"
      ]
    },
    {
      "cell_type": "code",
      "metadata": {
        "id": "fBYuCCgbZBvL"
      },
      "source": [
        "BATCH_SIZE = 200\n",
        "EPOCHS = 100\n",
        "LEARNING_RATE = 0.005"
      ],
      "execution_count": null,
      "outputs": []
    },
    {
      "cell_type": "code",
      "metadata": {
        "id": "lNN7muEhax8V"
      },
      "source": [
        "valid = games.loc[games.season == 2019]\n",
        "train = games.loc[games.season != 2019]\n",
        "\n",
        "valid = valid.drop(columns=['season', 'id', 'home_team', 'away_team'])\n",
        "valid = valid.fillna(0)\n",
        "train = train.drop(columns=['season', 'id', 'home_team', 'away_team'])\n",
        "train = train.fillna(0)\n",
        "\n",
        "train_in = train.drop(columns=['result'])\n",
        "train_out = train.result\n",
        "valid_in = valid.drop(columns=['result'])\n",
        "valid_out = valid.result\n",
        "\n",
        "train_out_winner = train_out\n",
        "train_out_winner[train_out_winner>0] = 1\n",
        "train_out_winner[train_out_winner<0] = 0\n",
        "\n",
        "valid_out_winner = valid_out\n",
        "valid_out_winner[valid_out_winner>0] = 1\n",
        "valid_out_winner[valid_out_winner<0] = 0\n",
        "\n",
        "data_train_vals = torch.tensor(train_in.to_numpy(), dtype=torch.float, device=device)\n",
        "data_train_labels = torch.tensor(train_out_winner.to_numpy(), dtype=torch.long, device=device)\n",
        "data_train = TensorDataset(data_train_vals, data_train_labels)\n",
        "train_loader = DataLoader(dataset = data_train, batch_size = BATCH_SIZE, shuffle = True) \n",
        "\n",
        "data_valid_vals = torch.tensor(valid_in.to_numpy(), dtype=torch.float, device=device)\n",
        "data_valid_labels = torch.tensor(valid_out_winner.to_numpy(), dtype=torch.long, device=device)\n",
        "data_valid = TensorDataset(data_train_vals, data_train_labels)\n",
        "valid_loader = DataLoader(dataset = data_valid, batch_size = BATCH_SIZE,  shuffle = False)"
      ],
      "execution_count": null,
      "outputs": []
    },
    {
      "cell_type": "code",
      "metadata": {
        "id": "nlx0INLPYokp"
      },
      "source": [
        "def trainWinner(model, device, train_loader, optimizer, epochs, criterion, verbose=False):\n",
        "  for epoch in range(epochs):\n",
        "    model.train()\n",
        "    batch_loss = 0\n",
        "    for data, label in train_loader:\n",
        "      data, label = data.to(device), label.to(device)\n",
        "      optimizer.zero_grad()\n",
        "      output = model(data)\n",
        "      loss = criterion(output, label)\n",
        "      loss.backward()\n",
        "      optimizer.step()\n",
        "      batch_loss += loss.item()\n",
        "    if verbose:\n",
        "      print('Train Epoch: %d  \\tLoss: %.6f' % (epoch, np.sqrt(batch_loss/len(train_loader))))\n",
        "\n",
        "def testWinner(model, device, test_loader, criterion):\n",
        "  model.eval()\n",
        "  test_loss = 0\n",
        "  correct = 0\n",
        "  wrong = 0\n",
        "  with torch.no_grad():\n",
        "    for data, label in test_loader:\n",
        "      data, label = data.to(device), label.to(device)\n",
        "      output = model(data)\n",
        "      test_loss += criterion(output, label).item()\n",
        "      correct += torch.sum(torch.argmax(output, dim=1) == label)\n",
        "      wrong += torch.sum(torch.argmax(output, dim=1) != label)\n",
        "  print('Test set: Average loss: %.4f' % np.sqrt(test_loss/len(test_loader)))\n",
        "  print('Accuracy: %.3f%%' % (correct*100/(correct+wrong)))"
      ],
      "execution_count": null,
      "outputs": []
    },
    {
      "cell_type": "code",
      "metadata": {
        "id": "ErQ_6S9UY0de"
      },
      "source": [
        "class Net(nn.Module):\n",
        "    def __init__(self, input_size):\n",
        "        super(Net, self).__init__()\n",
        "        self.fc1 = nn.Linear(input_size, 500).cuda()\n",
        "        self.fc2 = nn.Linear(500, 200).cuda()\n",
        "        self.fc3 = nn.Linear(200, 50).cuda()\n",
        "        self.fc4 = nn.Linear(50, 10).cuda()\n",
        "        self.fc5 = nn.Linear(10, 3).cuda()\n",
        " \n",
        "    def forward(self, x):\n",
        "        x = F.relu(self.fc1(x))\n",
        "        x = F.relu(self.fc2(x))\n",
        "        x = F.relu(self.fc3(x))\n",
        "        x = F.softmax(self.fc4(x))\n",
        "        x = self.fc5(x)\n",
        "        return x\n",
        "\n",
        "modelWinner = Net(np.shape(train_in.to_numpy())[1])"
      ],
      "execution_count": null,
      "outputs": []
    },
    {
      "cell_type": "code",
      "metadata": {
        "id": "LDkx_IO1ZENR"
      },
      "source": [
        "optimizer = torch.optim.Adam(modelWinner.parameters(), lr=LEARNING_RATE)\n",
        "criterion = nn.CrossEntropyLoss()"
      ],
      "execution_count": null,
      "outputs": []
    },
    {
      "cell_type": "code",
      "metadata": {
        "colab": {
          "base_uri": "https://localhost:8080/"
        },
        "id": "E7_Gv7AwZIVP",
        "outputId": "6c2dc5f0-b884-4701-e4a5-34e9bda60a06"
      },
      "source": [
        "trainWinner(modelWinner, device, train_loader, optimizer, EPOCHS, criterion, verbose=True)"
      ],
      "execution_count": null,
      "outputs": [
        {
          "output_type": "stream",
          "text": [
            "Train Epoch: 0  \tLoss: 0.973981\n",
            "Train Epoch: 1  \tLoss: 0.918567\n",
            "Train Epoch: 2  \tLoss: 0.886359\n",
            "Train Epoch: 3  \tLoss: 0.856260\n",
            "Train Epoch: 4  \tLoss: 0.842172\n",
            "Train Epoch: 5  \tLoss: 0.834567\n",
            "Train Epoch: 6  \tLoss: 0.829575\n",
            "Train Epoch: 7  \tLoss: 0.821116\n",
            "Train Epoch: 8  \tLoss: 0.817322\n",
            "Train Epoch: 9  \tLoss: 0.812353\n",
            "Train Epoch: 10  \tLoss: 0.813504\n",
            "Train Epoch: 11  \tLoss: 0.810675\n",
            "Train Epoch: 12  \tLoss: 0.808017\n",
            "Train Epoch: 13  \tLoss: 0.807920\n",
            "Train Epoch: 14  \tLoss: 0.805367\n",
            "Train Epoch: 15  \tLoss: 0.802529\n",
            "Train Epoch: 16  \tLoss: 0.800317\n",
            "Train Epoch: 17  \tLoss: 0.798140\n",
            "Train Epoch: 18  \tLoss: 0.798323\n",
            "Train Epoch: 19  \tLoss: 0.799412\n",
            "Train Epoch: 20  \tLoss: 0.798321\n",
            "Train Epoch: 21  \tLoss: 0.798014\n",
            "Train Epoch: 22  \tLoss: 0.793818\n",
            "Train Epoch: 23  \tLoss: 0.794956\n",
            "Train Epoch: 24  \tLoss: 0.794472\n",
            "Train Epoch: 25  \tLoss: 0.800490\n",
            "Train Epoch: 26  \tLoss: 0.799416\n",
            "Train Epoch: 27  \tLoss: 0.819572\n",
            "Train Epoch: 28  \tLoss: 0.805293\n",
            "Train Epoch: 29  \tLoss: 0.799915\n",
            "Train Epoch: 30  \tLoss: 0.799232\n",
            "Train Epoch: 31  \tLoss: 0.795729\n",
            "Train Epoch: 32  \tLoss: 0.794771\n",
            "Train Epoch: 33  \tLoss: 0.795108\n",
            "Train Epoch: 34  \tLoss: 0.796575\n",
            "Train Epoch: 35  \tLoss: 0.795988\n",
            "Train Epoch: 36  \tLoss: 0.795921\n",
            "Train Epoch: 37  \tLoss: 0.800232\n",
            "Train Epoch: 38  \tLoss: 0.800171\n",
            "Train Epoch: 39  \tLoss: 0.800026\n",
            "Train Epoch: 40  \tLoss: 0.794901\n",
            "Train Epoch: 41  \tLoss: 0.796032\n",
            "Train Epoch: 42  \tLoss: 0.795748\n",
            "Train Epoch: 43  \tLoss: 0.797079\n",
            "Train Epoch: 44  \tLoss: 0.795458\n",
            "Train Epoch: 45  \tLoss: 0.796454\n",
            "Train Epoch: 46  \tLoss: 0.796225\n",
            "Train Epoch: 47  \tLoss: 0.795844\n",
            "Train Epoch: 48  \tLoss: 0.796364\n",
            "Train Epoch: 49  \tLoss: 0.795894\n",
            "Train Epoch: 50  \tLoss: 0.794950\n",
            "Train Epoch: 51  \tLoss: 0.795660\n",
            "Train Epoch: 52  \tLoss: 0.795945\n",
            "Train Epoch: 53  \tLoss: 0.795912\n",
            "Train Epoch: 54  \tLoss: 0.795012\n",
            "Train Epoch: 55  \tLoss: 0.794754\n",
            "Train Epoch: 56  \tLoss: 0.795574\n",
            "Train Epoch: 57  \tLoss: 0.795700\n",
            "Train Epoch: 58  \tLoss: 0.793521\n",
            "Train Epoch: 59  \tLoss: 0.795406\n",
            "Train Epoch: 60  \tLoss: 0.795033\n",
            "Train Epoch: 61  \tLoss: 0.794352\n",
            "Train Epoch: 62  \tLoss: 0.796110\n",
            "Train Epoch: 63  \tLoss: 0.795435\n",
            "Train Epoch: 64  \tLoss: 0.793803\n",
            "Train Epoch: 65  \tLoss: 0.795649\n",
            "Train Epoch: 66  \tLoss: 0.795922\n",
            "Train Epoch: 67  \tLoss: 0.794505\n",
            "Train Epoch: 68  \tLoss: 0.795310\n",
            "Train Epoch: 69  \tLoss: 0.794409\n",
            "Train Epoch: 70  \tLoss: 0.794628\n",
            "Train Epoch: 71  \tLoss: 0.794392\n",
            "Train Epoch: 72  \tLoss: 0.796656\n",
            "Train Epoch: 73  \tLoss: 0.795355\n",
            "Train Epoch: 74  \tLoss: 0.794811\n",
            "Train Epoch: 75  \tLoss: 0.794972\n",
            "Train Epoch: 76  \tLoss: 0.795545\n",
            "Train Epoch: 77  \tLoss: 0.795338\n",
            "Train Epoch: 78  \tLoss: 0.795758\n",
            "Train Epoch: 79  \tLoss: 0.795035\n",
            "Train Epoch: 80  \tLoss: 0.793708\n",
            "Train Epoch: 81  \tLoss: 0.793707\n",
            "Train Epoch: 82  \tLoss: 0.792765\n",
            "Train Epoch: 83  \tLoss: 0.795260\n",
            "Train Epoch: 84  \tLoss: 0.795662\n",
            "Train Epoch: 85  \tLoss: 0.795174\n",
            "Train Epoch: 86  \tLoss: 0.795625\n",
            "Train Epoch: 87  \tLoss: 0.795081\n",
            "Train Epoch: 88  \tLoss: 0.793506\n",
            "Train Epoch: 89  \tLoss: 0.794178\n",
            "Train Epoch: 90  \tLoss: 0.795191\n",
            "Train Epoch: 91  \tLoss: 0.794197\n",
            "Train Epoch: 92  \tLoss: 0.794762\n",
            "Train Epoch: 93  \tLoss: 0.793295\n",
            "Train Epoch: 94  \tLoss: 0.794148\n",
            "Train Epoch: 95  \tLoss: 0.793040\n",
            "Train Epoch: 96  \tLoss: 0.794019\n",
            "Train Epoch: 97  \tLoss: 0.795284\n",
            "Train Epoch: 98  \tLoss: 0.793939\n",
            "Train Epoch: 99  \tLoss: 0.795728\n"
          ],
          "name": "stdout"
        }
      ]
    },
    {
      "cell_type": "code",
      "metadata": {
        "colab": {
          "base_uri": "https://localhost:8080/"
        },
        "id": "mudAH5U9ZMsc",
        "outputId": "4cd1bb4c-dcca-48b1-8d1c-f5a0f8917c27"
      },
      "source": [
        "testWinner(modelWinner, device, valid_loader, criterion)"
      ],
      "execution_count": null,
      "outputs": [
        {
          "output_type": "stream",
          "text": [
            "Test set: Average loss: 0.7949\n",
            "Accuracy: 67.117%\n"
          ],
          "name": "stdout"
        }
      ]
    }
  ]
}