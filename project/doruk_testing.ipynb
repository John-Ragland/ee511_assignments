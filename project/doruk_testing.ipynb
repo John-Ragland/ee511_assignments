{
  "nbformat": 4,
  "nbformat_minor": 0,
  "metadata": {
    "language_info": {
      "codemirror_mode": {
        "name": "ipython",
        "version": 3
      },
      "file_extension": ".py",
      "mimetype": "text/x-python",
      "name": "python",
      "nbconvert_exporter": "python",
      "pygments_lexer": "ipython3",
      "version": "3.8.3-final"
    },
    "orig_nbformat": 2,
    "kernelspec": {
      "name": "python3",
      "display_name": "Python 3",
      "language": "python"
    },
    "colab": {
      "name": "EE511_Project.ipynb",
      "provenance": [],
      "collapsed_sections": [],
      "include_colab_link": true
    },
    "accelerator": "GPU"
  },
  "cells": [
    {
      "cell_type": "markdown",
      "metadata": {
        "id": "view-in-github",
        "colab_type": "text"
      },
      "source": [
        "<a href=\"https://colab.research.google.com/github/John-Ragland/ee511_assignments/blob/main/project/doruk_testing.ipynb\" target=\"_parent\"><img src=\"https://colab.research.google.com/assets/colab-badge.svg\" alt=\"Open In Colab\"/></a>"
      ]
    },
    {
      "cell_type": "code",
      "metadata": {
        "id": "HHKM4gIXPMUY"
      },
      "source": [
        "# Suppress Warnings\n",
        "def warn(*args, **kwargs):\n",
        "    pass\n",
        "import warnings\n",
        "warnings.warn = warn\n",
        "\n",
        "import numpy as np\n",
        "import pandas as pd\n",
        "from matplotlib import pyplot as plt\n",
        "from sklearn.linear_model import LinearRegression\n",
        "from sklearn.metrics import mean_squared_error\n",
        "import torch\n",
        "import torch.nn as nn \n",
        "import torch.optim as optim\n",
        "import torch.nn.functional as F\n",
        "from torch.utils.data import TensorDataset, DataLoader"
      ],
      "execution_count": 132,
      "outputs": []
    },
    {
      "cell_type": "code",
      "metadata": {
        "id": "4ZFeQkdrPMUe"
      },
      "source": [
        "# look_back = 3 # games\n",
        "def get_data(data_type, start_year, end_year=2020, week=None):\n",
        "    website = 'https://api.collegefootballdata.com/' + data_type\n",
        "    frames = []\n",
        "    for year in range(start_year, end_year+1):\n",
        "        url = website + '?year=%d' % year\n",
        "        if week:\n",
        "          # start = max(week - look_back, 1)\n",
        "          # url += '&startWeek=%d' % start\n",
        "          url += '&endWeek=%d' % week\n",
        "        frames.append(pd.read_json(url))\n",
        "    return pd.concat(frames)"
      ],
      "execution_count": 192,
      "outputs": []
    },
    {
      "cell_type": "code",
      "metadata": {
        "id": "l5tADrqecXas"
      },
      "source": [
        "def get_weekly_stats():\n",
        "  frames = []\n",
        "  for week in range(1, 16):\n",
        "    week_frame = get_data('stats/season', 2004, week=week)\n",
        "    week_frame['week'] = week+1\n",
        "    frames.append(week_frame)\n",
        "  return pd.concat(frames)"
      ],
      "execution_count": 193,
      "outputs": []
    },
    {
      "cell_type": "code",
      "metadata": {
        "id": "4Lqv3yilW45-"
      },
      "source": [
        "original_stats = get_weekly_stats()\n",
        "original_games = get_data('games', 2004)\n",
        "original_records = get_data('records', 2004)\n",
        "original_teams = pd.read_json('https://api.collegefootballdata.com/teams')"
      ],
      "execution_count": 194,
      "outputs": []
    },
    {
      "cell_type": "markdown",
      "metadata": {
        "id": "f94XS4VVXUET"
      },
      "source": [
        "## Simple (baseline) model"
      ]
    },
    {
      "cell_type": "code",
      "metadata": {
        "id": "K4u_LN2UPMUh"
      },
      "source": [
        "# get season, home team, away team, and the differential result of the game\n",
        "games = original_games\n",
        "games = games.assign(result = (games.home_points-games.away_points))\n",
        "games = games.loc[:, games.columns.intersection(['season', 'home_team', 'away_team', 'result'])]\n",
        "\n",
        "# get the winning percentage of a team for a season\n",
        "records = original_records\n",
        "records = records.assign(percentage = [d.get('wins') / d.get('games') for d in records.total])\n",
        "records = records.loc[:, records.columns.intersection(['year', 'team', 'percentage'])]\n",
        "\n",
        "# add the winning percentage differences to game table\n",
        "games = pd.merge(games, records.rename(columns={'percentage': 'home_percentage'}), how='left', left_on=['season', 'home_team'], right_on=['year', 'team']).drop(['team', 'year'], axis=1)\n",
        "games = pd.merge(games, records.rename(columns={'percentage': 'away_percentage'}), how='left', left_on=['season', 'away_team'], right_on=['year', 'team']).drop(['team', 'year'], axis=1)\n",
        "games = games.dropna()\n",
        "games = games.assign(percent_difference = (games.home_percentage-games.away_percentage))\n",
        "games = games.drop(['home_percentage', 'away_percentage'], axis=1)"
      ],
      "execution_count": 195,
      "outputs": []
    },
    {
      "cell_type": "code",
      "metadata": {
        "id": "jxkKiXE5PMUk"
      },
      "source": [
        "valid = games.loc[games.season == 2019]\n",
        "train = games.loc[games.season != 2019]"
      ],
      "execution_count": 196,
      "outputs": []
    },
    {
      "cell_type": "code",
      "metadata": {
        "id": "aEYOh6-TPMUl"
      },
      "source": [
        "train_in = train.percent_difference.to_numpy()\n",
        "train_out = train.result.to_numpy()\n",
        "valid_in = valid.percent_difference.to_numpy()\n",
        "valid_out = valid.result.to_numpy()\n",
        "baseline_model = LinearRegression().fit(train_in.reshape(-1, 1), train_out)"
      ],
      "execution_count": 197,
      "outputs": []
    },
    {
      "cell_type": "code",
      "metadata": {
        "colab": {
          "base_uri": "https://localhost:8080/",
          "height": 281
        },
        "id": "qLLFds6-PMUo",
        "outputId": "1499bc6f-63ec-4518-ff3f-7c0f07bef16b"
      },
      "source": [
        "x = np.linspace(-1, 1, 500)\n",
        "y = baseline_model.coef_[0] * x + baseline_model.intercept_\n",
        "\n",
        "plt.xlabel('win percentage difference')\n",
        "plt.ylabel('game result')\n",
        "plt.plot(train_in, train_out, '.', color='black')\n",
        "plt.plot(x, y, '-r', label=\"f(x) = %.3fx + %.3f\" % (baseline_model.coef_[0], baseline_model.intercept_))\n",
        "plt.legend()\n",
        "plt.grid()"
      ],
      "execution_count": 198,
      "outputs": [
        {
          "output_type": "display_data",
          "data": {
            "image/png": "[encoded data removed]",
            "text/plain": [
              "<Figure size 432x288 with 1 Axes>"
            ]
          },
          "metadata": {
            "tags": [],
            "needs_background": "light"
          }
        }
      ]
    },
    {
      "cell_type": "code",
      "metadata": {
        "colab": {
          "base_uri": "https://localhost:8080/"
        },
        "id": "N8y7f3M-PMUr",
        "outputId": "317120ad-468f-433e-efc4-be268688b37d"
      },
      "source": [
        "prediction = baseline_model.predict(valid_in.reshape(-1, 1))\n",
        "print('RMSE = %.2f points' % mean_squared_error(valid_out, prediction, squared=False))"
      ],
      "execution_count": 199,
      "outputs": [
        {
          "output_type": "stream",
          "text": [
            "RMSE = 15.77 points\n"
          ],
          "name": "stdout"
        }
      ]
    },
    {
      "cell_type": "markdown",
      "metadata": {
        "id": "Kyjyl17aXMdM"
      },
      "source": [
        "## Simple model with more features"
      ]
    },
    {
      "cell_type": "code",
      "metadata": {
        "id": "XktiXvr3olJX",
        "colab": {
          "base_uri": "https://localhost:8080/"
        },
        "outputId": "6110e0d0-f6a4-4c79-8e29-bb89a7474462"
      },
      "source": [
        "# get the games and calculate spread (result)\n",
        "games = original_games\n",
        "games = games.assign(result = (games.home_points-games.away_points))\n",
        "games = games.loc[:, games.columns.intersection(['season', 'week', 'home_team', 'away_team', 'result'])]\n",
        "\n",
        "# get winning percentages for the season\n",
        "# TODO: make this win percentage up to that week's game\n",
        "records = original_records\n",
        "records = records.assign(total_games = [d.get('games') for d in records.total])\n",
        "records = records.assign(total_wins = [d.get('wins') for d in records.total])\n",
        "records = records.loc[:, records.columns.intersection(['year', 'team', 'total_games', 'total_wins'])]\n",
        "\n",
        "# add winning percentage difference\n",
        "games = pd.merge(games, records.rename(columns={'total_games': 'home_total_games', 'total_wins': 'home_wins'}), how='left', left_on=['season', 'home_team'], right_on=['year', 'team']).drop(['year', 'team'], axis=1)\n",
        "games = pd.merge(games, records.rename(columns={'total_games': 'away_total_games', 'total_wins': 'away_wins'}), how='left', left_on=['season', 'away_team'], right_on=['year', 'team']).drop(['year', 'team'], axis=1)\n",
        "games = games.assign(win_difference = ((games.home_wins / games.home_total_games)-(games.away_wins / games.away_total_games)))\n",
        "games = games.drop(['home_wins', 'away_wins'], axis=1)\n",
        "games = games.dropna()\n",
        "games = games.drop(columns=['home_total_games', 'away_total_games'])\n",
        "\n",
        "stats = original_stats\n",
        "stats = stats.drop(columns=['conference'])\n",
        "\n",
        "# get the list of stats\n",
        "w = stats.loc[(stats.team == 'Washington') & (stats.season == 2004)]\n",
        "stat_cols = w.statName.to_list()\n",
        "stat_cols = list(set(stat_cols)) # remove duplicates\n",
        "stat_cols.sort()\n",
        "stat_cols.remove('games')\n",
        "print(stat_cols)\n",
        "\n",
        "# add each stat of both teams\n",
        "s = stats.loc[(stats.statName == 'games')]\n",
        "s = s.drop(columns=['statName'])\n",
        "games = pd.merge(games, s.rename(columns={'statValue': 'home_games'}), how='left', left_on=['season', 'home_team', 'week'], right_on=['season', 'team', 'week']).drop(['team'], axis=1)\n",
        "games = pd.merge(games, s.rename(columns={'statValue': 'away_games'}), how='left', left_on=['season', 'away_team', 'week'], right_on=['season', 'team', 'week']).drop(['team'], axis=1)\n",
        "\n",
        "for stat in stat_cols:\n",
        "  s = stats.loc[(stats.statName == stat)]\n",
        "  s = s.drop(columns=['statName'])\n",
        "  games = pd.merge(games, s.rename(columns={'statValue': 'home_'+stat}), how='left', left_on=['season', 'home_team', 'week'], right_on=['season', 'team', 'week']).drop(['team'], axis=1)\n",
        "  games = pd.merge(games, s.rename(columns={'statValue': 'away_'+stat}), how='left', left_on=['season', 'away_team', 'week'], right_on=['season', 'team', 'week']).drop(['team'], axis=1)\n",
        "  games = games.fillna(0)\n",
        "  games[stat] = (games['home_'+stat]/games.home_games) - (games['away_'+stat]/games.away_games)\n",
        "  games = games.drop(columns=['home_'+stat, 'away_'+stat])\n",
        "\n",
        "games = games.fillna(0)"
      ],
      "execution_count": 246,
      "outputs": [
        {
          "output_type": "stream",
          "text": [
            "['firstDowns', 'fourthDownConversions', 'fourthDowns', 'fumblesLost', 'fumblesRecovered', 'interceptionTDs', 'interceptionYards', 'interceptions', 'netPassingYards', 'passAttempts', 'passCompletions', 'passesIntercepted', 'passingTDs', 'penalties', 'penaltyYards', 'possessionTime', 'puntReturnTDs', 'puntReturnYards', 'puntReturns', 'rushingAttempts', 'rushingTDs', 'rushingYards', 'thirdDownConversions', 'thirdDowns', 'totalYards', 'turnovers']\n"
          ],
          "name": "stdout"
        }
      ]
    },
    {
      "cell_type": "code",
      "metadata": {
        "id": "HGMQRCUjLlvN"
      },
      "source": [
        "# create the table for total points a team scored for an against before a given week\n",
        "points_per_game = original_teams.loc[:, original_teams.columns.intersection(['school'])]\n",
        "points_per_game['year'] = 2020\n",
        "one_season = points_per_game.copy()\n",
        "for year in range(2004, 2020):\n",
        "  temp = one_season.copy()\n",
        "  temp['year'] = year\n",
        "  points_per_game = pd.concat([points_per_game, temp], ignore_index=True)\n",
        "\n",
        "points_per_game[('points_for_week1')] = 0.0\n",
        "points_per_game[('points_against_week1')] = 0.0\n",
        "scores = original_games.loc[:, original_games.columns.intersection(['season', 'week', 'home_team', 'away_team', 'home_points', 'away_points'])]\n",
        "scores['week'] += 1\n",
        "for week in range(2, 16):\n",
        "  this_scores = scores.loc[scores.week == week]\n",
        "  this_scores = this_scores.rename(columns={'home_points': ('points_for_week%d' % week), 'away_points': ('points_against_week%d' % week)})\n",
        "  points_per_game = pd.merge(points_per_game, this_scores, how='left', left_on=['school', 'year'], right_on=['home_team', 'season']).drop(['home_team', 'away_team', 'season', 'week'], axis=1)\n",
        "  this_scores = scores.loc[scores.week == week]\n",
        "  this_scores = this_scores.rename(columns={'away_points': ('points_for_week%d' % week), 'home_points': ('points_against_week%d' % week)})\n",
        "  points_per_game = pd.merge(points_per_game, this_scores, how='left', left_on=['school', 'year'], right_on=['away_team', 'season']).drop(['home_team', 'away_team', 'season', 'week'], axis=1)\n",
        "  points_per_game = points_per_game.fillna(0)\n",
        "  points_per_game[('points_for_week%d' % week)] = points_per_game[('points_for_week%d_x' % week)] + points_per_game[('points_for_week%d_y' % week)]\n",
        "  points_per_game[('points_against_week%d' % week)] = points_per_game[('points_against_week%d_x' % week)] + points_per_game[('points_against_week%d_y' % week)]\n",
        "  points_per_game = points_per_game.drop(columns=[('points_for_week%d_x' % week), ('points_for_week%d_y' % week), ('points_against_week%d_x' % week), ('points_against_week%d_y' % week)])\n",
        "\n",
        "for week in range(2, 16):\n",
        "  points_per_game[('points_for_week%d' % week)] += points_per_game[('points_for_week%d' % (week-1))]\n",
        "  points_per_game[('points_against_week%d' % week)] += points_per_game[('points_against_week%d' % (week-1))]\n",
        "\n",
        "# points_per_game.loc[points_per_game.school == 'Washington']"
      ],
      "execution_count": 247,
      "outputs": []
    },
    {
      "cell_type": "code",
      "metadata": {
        "id": "iNPFSuguJyee"
      },
      "source": [
        "for week in range(1,16):\n",
        "  points = points_per_game.loc[:, points_per_game.columns.intersection(['year', 'school', ('points_for_week%d' % week), ('points_against_week%d' % week)])]\n",
        "  points = points.rename(columns={('points_for_week%d' % week): 'home_for', ('points_against_week%d' % week): 'home_against'})\n",
        "  points['week'] = week\n",
        "  games = pd.merge(games, points, how='left', left_on=['home_team', 'season', 'week'], right_on=['school', 'year', 'week']).drop(['school', 'year'], axis=1)\n",
        "  points = points.rename(columns={'home_for': 'away_for', 'home_against': 'away_against'})\n",
        "  games = pd.merge(games, points, how='left', left_on=['away_team', 'season', 'week'], right_on=['school', 'year', 'week']).drop(['school', 'year'], axis=1)\n",
        "  if (week > 1):\n",
        "    games['home_for'] = games['home_for_x'].fillna(0) + games['home_for_y'].fillna(0)\n",
        "    games['home_against'] = games['home_against_x'].fillna(0) + games['home_against_y'].fillna(0)\n",
        "    games['away_for'] = games['away_for_x'].fillna(0) + games['away_for_y'].fillna(0)\n",
        "    games['away_against'] = games['away_against_x'].fillna(0) + games['away_against_y'].fillna(0)\n",
        "    games = games.drop(columns=['home_for_x', 'home_for_y', 'home_against_x', 'home_against_y', 'away_for_x', 'away_for_y', 'away_against_x', 'away_against_y'])\n",
        "\n",
        "games['home_for'] /= games['home_games']\n",
        "games['home_against'] /= games['home_games']\n",
        "games['away_for'] /= games['away_games']\n",
        "games['away_against'] /= games['away_games']\n",
        "games = games.fillna(0)\n",
        "\n",
        "# games.loc[(games.home_team == 'Washington') & (games.season == 2020)]"
      ],
      "execution_count": 248,
      "outputs": []
    },
    {
      "cell_type": "code",
      "metadata": {
        "id": "1IxBm9FP4_Mr"
      },
      "source": [
        "games = games.drop(columns=['home_team', 'away_team'])\n",
        "games = games.fillna(0)"
      ],
      "execution_count": 250,
      "outputs": []
    },
    {
      "cell_type": "code",
      "metadata": {
        "id": "8jRvG_YZ4a40"
      },
      "source": [
        "valid = games.loc[games.season == 2019]\n",
        "train = games.loc[games.season != 2019]"
      ],
      "execution_count": 251,
      "outputs": []
    },
    {
      "cell_type": "code",
      "metadata": {
        "id": "m4ci1daJ5tja"
      },
      "source": [
        "valid = valid.drop(columns=['season'])\n",
        "train = train.drop(columns=['season'])"
      ],
      "execution_count": 252,
      "outputs": []
    },
    {
      "cell_type": "code",
      "metadata": {
        "id": "C80JrFQi4mL4"
      },
      "source": [
        "train_in = train.drop(columns=['result'])\n",
        "train_out = train.result\n",
        "valid_in = valid.drop(columns=['result'])\n",
        "valid_out = valid.result\n",
        "model = LinearRegression().fit(train_in, train_out)"
      ],
      "execution_count": 253,
      "outputs": []
    },
    {
      "cell_type": "code",
      "metadata": {
        "colab": {
          "base_uri": "https://localhost:8080/"
        },
        "id": "R6lVGQ7Sbxhd",
        "outputId": "a2ec0026-814e-47e2-b9d6-3928151d16f3"
      },
      "source": [
        "prediction = model.predict(valid_in)\n",
        "print('RMSE = %.2f points' % mean_squared_error(valid_out, prediction, squared=False))"
      ],
      "execution_count": 254,
      "outputs": [
        {
          "output_type": "stream",
          "text": [
            "RMSE = 15.56 points\n"
          ],
          "name": "stdout"
        }
      ]
    },
    {
      "cell_type": "markdown",
      "metadata": {
        "id": "nAxuSbxatL0M"
      },
      "source": [
        "# Simple ML Model"
      ]
    },
    {
      "cell_type": "code",
      "metadata": {
        "colab": {
          "base_uri": "https://localhost:8080/"
        },
        "id": "4HHeYhQuwkEj",
        "outputId": "85b9e03c-fd7b-4986-bf68-55cdbfb045c1"
      },
      "source": [
        "torch.manual_seed(0)\n",
        "device = torch.device(\"cuda\")\n",
        "print('Using device', device)"
      ],
      "execution_count": 352,
      "outputs": [
        {
          "output_type": "stream",
          "text": [
            "Using device cuda\n"
          ],
          "name": "stdout"
        }
      ]
    },
    {
      "cell_type": "code",
      "metadata": {
        "id": "N2g_r6i5ym0i"
      },
      "source": [
        "def train(model, device, train_loader, optimizer, epochs, criterion, verbose=False):\n",
        "  for epoch in range(epochs):\n",
        "    model.train()\n",
        "    for data, label in train_loader:\n",
        "      data, label = data.to(device), label.to(device)\n",
        "      optimizer.zero_grad()\n",
        "      output = model(data)\n",
        "      loss = criterion(output, label)\n",
        "      loss.backward()\n",
        "      optimizer.step()\n",
        "    if verbose:\n",
        "      print('Train Epoch: %d  \\tLoss: %.6f' % (epoch, loss.item()/len(data)))\n",
        "\n",
        "def test(model, device, test_loader, criterion):\n",
        "  model.eval()\n",
        "  test_loss = 0\n",
        "  correct = 0\n",
        "  with torch.no_grad():\n",
        "    for data, label in test_loader:\n",
        "      data, label = data.to(device), label.to(device)\n",
        "      output = model(data)\n",
        "      test_loss += criterion(output, label)\n",
        "\n",
        "  test_loss /= len(test_loader.dataset)\n",
        "  print('Test set: Average loss: %.4f' % test_loss)\n",
        "\n",
        "  return test_loss"
      ],
      "execution_count": 353,
      "outputs": []
    },
    {
      "cell_type": "code",
      "metadata": {
        "id": "WsGrGRnet6ur"
      },
      "source": [
        "class Net(nn.Module):\n",
        "    def __init__(self):\n",
        "        super(Net, self).__init__()\n",
        "        self.fc1 = nn.Linear(30, 200).cuda()\n",
        "        self.fc2 = nn.Linear(200, 100).cuda()\n",
        "        self.fc3 = nn.Linear(100, 1).cuda()\n",
        " \n",
        "    def forward(self, x):\n",
        "        x = F.leaky_relu(self.fc1(x))\n",
        "        x = F.leaky_relu(self.fc2(x))\n",
        "        x = self.fc3(x)\n",
        "        return x\n",
        "\n",
        "model = Net()"
      ],
      "execution_count": 354,
      "outputs": []
    },
    {
      "cell_type": "code",
      "metadata": {
        "id": "v93eOD06weSC"
      },
      "source": [
        "BATCH_SIZE = 64\n",
        "EPOCHS = 100\n",
        "LEARNING_RATE = 0.0000001\n",
        "MOMENTUM = 0.05"
      ],
      "execution_count": 355,
      "outputs": []
    },
    {
      "cell_type": "code",
      "metadata": {
        "id": "pFUZfaGMxduT"
      },
      "source": [
        "data_train_vals = torch.tensor(train_in.to_numpy(), dtype=torch.float, device=device)\n",
        "data_train_labels = torch.tensor(train_out.to_numpy(), dtype=torch.float, device=device)\n",
        "data_train = TensorDataset(data_train_vals, data_train_labels)\n",
        "train_loader = DataLoader(dataset = data_train, batch_size = BATCH_SIZE, shuffle = True) \n",
        "\n",
        "data_valid_vals = torch.tensor(valid_in.to_numpy(), dtype=torch.float, device=device)\n",
        "data_valid_labels = torch.tensor(valid_out.to_numpy(), dtype=torch.float, device=device)\n",
        "data_valid = TensorDataset(data_train_vals, data_train_labels)\n",
        "valid_loader = DataLoader(dataset = data_valid, batch_size = BATCH_SIZE,  shuffle = False)"
      ],
      "execution_count": 356,
      "outputs": []
    },
    {
      "cell_type": "code",
      "metadata": {
        "id": "b8F6KZ0gw2nk"
      },
      "source": [
        "optimizer = torch.optim.SGD(model.parameters(), lr=LEARNING_RATE, momentum=MOMENTUM)\n",
        "criterion = nn.MSELoss()"
      ],
      "execution_count": 357,
      "outputs": []
    },
    {
      "cell_type": "code",
      "metadata": {
        "colab": {
          "base_uri": "https://localhost:8080/"
        },
        "id": "VNH_3jeaxFL2",
        "outputId": "ead2a1ae-02b5-414c-b749-54b48218b631"
      },
      "source": [
        "train(model, device, train_loader, optimizer, EPOCHS, criterion, verbose=True)"
      ],
      "execution_count": 358,
      "outputs": [
        {
          "output_type": "stream",
          "text": [
            "Train Epoch: 0  \tLoss: 26.969817\n",
            "Train Epoch: 1  \tLoss: 10.843242\n",
            "Train Epoch: 2  \tLoss: 10.638082\n",
            "Train Epoch: 3  \tLoss: 27.444312\n",
            "Train Epoch: 4  \tLoss: 21.125175\n",
            "Train Epoch: 5  \tLoss: 17.239989\n",
            "Train Epoch: 6  \tLoss: 15.892258\n",
            "Train Epoch: 7  \tLoss: 14.949001\n",
            "Train Epoch: 8  \tLoss: 21.110556\n",
            "Train Epoch: 9  \tLoss: 18.853387\n",
            "Train Epoch: 10  \tLoss: 17.033764\n",
            "Train Epoch: 11  \tLoss: 16.299086\n",
            "Train Epoch: 12  \tLoss: 7.714097\n",
            "Train Epoch: 13  \tLoss: 13.695746\n",
            "Train Epoch: 14  \tLoss: 15.269124\n",
            "Train Epoch: 15  \tLoss: 13.113052\n",
            "Train Epoch: 16  \tLoss: 16.178527\n",
            "Train Epoch: 17  \tLoss: 23.754718\n",
            "Train Epoch: 18  \tLoss: 24.531056\n",
            "Train Epoch: 19  \tLoss: 17.813852\n",
            "Train Epoch: 20  \tLoss: 18.602174\n",
            "Train Epoch: 21  \tLoss: 20.849908\n",
            "Train Epoch: 22  \tLoss: 10.348478\n",
            "Train Epoch: 23  \tLoss: 16.061263\n",
            "Train Epoch: 24  \tLoss: 20.047711\n",
            "Train Epoch: 25  \tLoss: 27.085210\n",
            "Train Epoch: 26  \tLoss: 17.427404\n",
            "Train Epoch: 27  \tLoss: 9.122279\n",
            "Train Epoch: 28  \tLoss: 16.175828\n",
            "Train Epoch: 29  \tLoss: 14.185572\n",
            "Train Epoch: 30  \tLoss: 19.480729\n",
            "Train Epoch: 31  \tLoss: 8.644675\n",
            "Train Epoch: 32  \tLoss: 16.688412\n",
            "Train Epoch: 33  \tLoss: 25.578178\n",
            "Train Epoch: 34  \tLoss: 26.666124\n",
            "Train Epoch: 35  \tLoss: 30.467651\n",
            "Train Epoch: 36  \tLoss: 15.379816\n",
            "Train Epoch: 37  \tLoss: 25.152792\n",
            "Train Epoch: 38  \tLoss: 11.586907\n",
            "Train Epoch: 39  \tLoss: 10.668149\n",
            "Train Epoch: 40  \tLoss: 18.544085\n",
            "Train Epoch: 41  \tLoss: 9.167217\n",
            "Train Epoch: 42  \tLoss: 27.431548\n",
            "Train Epoch: 43  \tLoss: 34.195742\n",
            "Train Epoch: 44  \tLoss: 20.036126\n",
            "Train Epoch: 45  \tLoss: 26.720655\n",
            "Train Epoch: 46  \tLoss: 13.932845\n",
            "Train Epoch: 47  \tLoss: 18.070614\n",
            "Train Epoch: 48  \tLoss: 31.796442\n",
            "Train Epoch: 49  \tLoss: 22.446440\n",
            "Train Epoch: 50  \tLoss: 18.030486\n",
            "Train Epoch: 51  \tLoss: 21.616463\n",
            "Train Epoch: 52  \tLoss: 16.376136\n",
            "Train Epoch: 53  \tLoss: 15.582313\n",
            "Train Epoch: 54  \tLoss: 14.665246\n",
            "Train Epoch: 55  \tLoss: 18.254680\n",
            "Train Epoch: 56  \tLoss: 18.003180\n",
            "Train Epoch: 57  \tLoss: 15.745511\n",
            "Train Epoch: 58  \tLoss: 13.913504\n",
            "Train Epoch: 59  \tLoss: 23.981363\n",
            "Train Epoch: 60  \tLoss: 27.207551\n",
            "Train Epoch: 61  \tLoss: 17.444605\n",
            "Train Epoch: 62  \tLoss: 31.153838\n",
            "Train Epoch: 63  \tLoss: 26.273660\n",
            "Train Epoch: 64  \tLoss: 16.813471\n",
            "Train Epoch: 65  \tLoss: 23.477053\n",
            "Train Epoch: 66  \tLoss: 13.169974\n",
            "Train Epoch: 67  \tLoss: 10.877144\n",
            "Train Epoch: 68  \tLoss: 27.965658\n",
            "Train Epoch: 69  \tLoss: 21.989613\n",
            "Train Epoch: 70  \tLoss: 12.679816\n",
            "Train Epoch: 71  \tLoss: 18.478930\n",
            "Train Epoch: 72  \tLoss: 24.062107\n",
            "Train Epoch: 73  \tLoss: 22.319811\n",
            "Train Epoch: 74  \tLoss: 15.830829\n",
            "Train Epoch: 75  \tLoss: 14.058628\n",
            "Train Epoch: 76  \tLoss: 13.836507\n",
            "Train Epoch: 77  \tLoss: 25.236851\n",
            "Train Epoch: 78  \tLoss: 23.987753\n",
            "Train Epoch: 79  \tLoss: 12.577256\n",
            "Train Epoch: 80  \tLoss: 24.467797\n",
            "Train Epoch: 81  \tLoss: 26.596276\n",
            "Train Epoch: 82  \tLoss: 16.892127\n",
            "Train Epoch: 83  \tLoss: 17.333862\n",
            "Train Epoch: 84  \tLoss: 13.392613\n",
            "Train Epoch: 85  \tLoss: 13.883355\n",
            "Train Epoch: 86  \tLoss: 15.033865\n",
            "Train Epoch: 87  \tLoss: 18.967813\n",
            "Train Epoch: 88  \tLoss: 18.813857\n",
            "Train Epoch: 89  \tLoss: 14.730757\n",
            "Train Epoch: 90  \tLoss: 22.590770\n",
            "Train Epoch: 91  \tLoss: 18.623356\n",
            "Train Epoch: 92  \tLoss: 12.646957\n",
            "Train Epoch: 93  \tLoss: 23.936370\n",
            "Train Epoch: 94  \tLoss: 19.802722\n",
            "Train Epoch: 95  \tLoss: 11.791637\n",
            "Train Epoch: 96  \tLoss: 9.906235\n",
            "Train Epoch: 97  \tLoss: 17.831126\n",
            "Train Epoch: 98  \tLoss: 22.091704\n",
            "Train Epoch: 99  \tLoss: 18.742138\n"
          ],
          "name": "stdout"
        }
      ]
    },
    {
      "cell_type": "code",
      "metadata": {
        "colab": {
          "base_uri": "https://localhost:8080/"
        },
        "id": "uqpAf1dKyrnC",
        "outputId": "c22e8dc1-52f2-4ae9-add6-3e7ef8812839"
      },
      "source": [
        "result = test(model, device, valid_loader, criterion)"
      ],
      "execution_count": null,
      "outputs": [
        {
          "output_type": "stream",
          "text": [
            "Test set: Average loss: 7.0036\n"
          ],
          "name": "stdout"
        }
      ]
    },
    {
      "cell_type": "code",
      "metadata": {
        "colab": {
          "base_uri": "https://localhost:8080/"
        },
        "id": "bBww8Bk_8d95",
        "outputId": "8ae0fe04-e175-4bf2-e148-7b82c36a1a63"
      },
      "source": [
        "game = np.array([10.0, 11.0, -0.063636, -1.118182, -0.854545, -1.390909, -0.118182, 0.054545, -0.090909, -8.081818, 0.354545, -35.790909, -4.618182, -2.918182, -0.036364, -0.436364, 0.581818, 1.790909, -107.918182, 0.000000, 2.663636, 0.172727, -1.390909, 1.163636, 46.954545, -0.390909, -1.681818, 11.163636, 0.236364])\n",
        "game = torch.tensor(game, dtype=torch.float, device=device)\n",
        "model(game).item()"
      ],
      "execution_count": null,
      "outputs": [
        {
          "output_type": "execute_result",
          "data": {
            "text/plain": [
              "3.5620248317718506"
            ]
          },
          "metadata": {
            "tags": []
          },
          "execution_count": 108
        }
      ]
    },
    {
      "cell_type": "markdown",
      "metadata": {
        "id": "9bCr3NTa6WHH"
      },
      "source": [
        "## Best so far: <br>\n",
        "Average Loss: 0.1072 <br>\n",
        "BATCH_SIZE = 200 <br>\n",
        "EPOCHS = 10 <br>\n",
        "LEARNING_RATE = 0.01 <br>\n",
        "\n",
        "## Model <br>\n",
        "``` \n",
        "class Net(nn.Module):\n",
        "    def __init__(self):\n",
        "        super(Net, self).__init__()\n",
        "        self.fc1 = nn.Linear(29, 200).cuda()\n",
        "        self.fc2 = nn.Linear(200, 100).cuda()\n",
        "        self.fc3 = nn.Linear(100, 1).cuda()\n",
        "\n",
        "    def forward(self, x):\n",
        "        x = F.leaky_relu(self.fc1(x))\n",
        "        x = F.leaky_relu(self.fc2(x))\n",
        "        x = self.fc3(x)\n",
        "        return x\n",
        "```"
      ]
    },
    {
      "cell_type": "code",
      "metadata": {
        "colab": {
          "base_uri": "https://localhost:8080/"
        },
        "id": "oXRaM_Oy5sqY",
        "outputId": "c7fd3b59-3a5e-4bb2-997b-5e619408168e"
      },
      "source": [
        "result = test(model, device, valid_loader, criterion)"
      ],
      "execution_count": null,
      "outputs": [
        {
          "output_type": "stream",
          "text": [
            "Test set: Average loss: 0.1072\n"
          ],
          "name": "stdout"
        }
      ]
    },
    {
      "cell_type": "code",
      "metadata": {
        "id": "I4NEfWcJbjOX"
      },
      "source": [
        ""
      ],
      "execution_count": null,
      "outputs": []
    }
  ]
}