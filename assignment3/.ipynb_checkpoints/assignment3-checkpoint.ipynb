{
 "cells": [
  {
   "cell_type": "markdown",
   "metadata": {},
   "source": [
    "# EE 511 Assignment 3 - PartII\n",
    "University of Washington<br>\n",
    "Code by John Ragland and Doruk Arisoy<br>\n",
    "Winter 2021"
   ]
  },
  {
   "cell_type": "code",
   "execution_count": 26,
   "metadata": {},
   "outputs": [
    {
     "name": "stdout",
     "output_type": "stream",
     "text": [
      "The autoreload extension is already loaded. To reload it, use:\n",
      "  %reload_ext autoreload\n"
     ]
    }
   ],
   "source": [
    "# Suppress Warnings\n",
    "def warn(*args, **kwargs):\n",
    "    pass\n",
    "import warnings\n",
    "warnings.warn = warn\n",
    "\n",
    "import numpy as np\n",
    "from tools import Data\n",
    "from collections import Counter\n",
    "import time\n",
    "import sklearn\n",
    "from sklearn import metrics\n",
    "from sklearn.linear_model import LogisticRegression\n",
    "import matplotlib.pyplot as plt\n",
    "import seaborn as sns\n",
    "\n",
    "# Some magic so that the notebook will reload external python modules;\n",
    "# see http://stackoverflow.com/questions/1907993/autoreload-of-modules-in-ipython\n",
    "%load_ext autoreload\n",
    "%autoreload 2"
   ]
  },
  {
   "cell_type": "markdown",
   "metadata": {},
   "source": [
    "## Processing the data"
   ]
  },
  {
   "cell_type": "code",
   "execution_count": 27,
   "metadata": {},
   "outputs": [],
   "source": [
    "categories = [\n",
    "    'alt.atheism', 'comp.graphics', 'comp.os.ms-windows.misc',\n",
    "    'comp.sys.ibm.pc.hardware', 'comp.sys.mac.hardware', 'comp.windows.x',\n",
    "    'misc.forsale', 'rec.autos', 'rec.motorcycles', \n",
    "    'rec.sport.baseball', 'rec.sport.hockey', 'sci.crypt', \n",
    "    'sci.electronics', 'sci.med', 'sci.space', \n",
    "    'soc.religion.christian', 'talk.politics.guns', 'talk.politics.mideast', \n",
    "    'talk.politics.misc', 'talk.religion.misc']\n",
    "\n",
    "categories_short = [\n",
    "    'atheism', 'graphics', 'win misc', \n",
    "    'win hard', 'mac hard', 'win x', \n",
    "    'forsale', 'auto', 'motocycles', \n",
    "    'baseball', 'hockey', 'crypt', \n",
    "    'elct', 'med', 'space', \n",
    "    'christian', 'guns', 'mideast',\n",
    "    'politics misc', 'religion misc']"
   ]
  },
  {
   "cell_type": "code",
   "execution_count": 3,
   "metadata": {
    "tags": []
   },
   "outputs": [
    {
     "name": "stdout",
     "output_type": "stream",
     "text": [
      "Calculating Vocabulary...\n",
      "73686\n",
      "Loading Testing Data...\n",
      "Loading Training Data...\n",
      "Splitting Training Data into Training and Validation...\n",
      "371.28062200546265\n"
     ]
    }
   ],
   "source": [
    "start = time.time()\n",
    "data = Data(categories)\n",
    "print(time.time() - start)"
   ]
  },
  {
   "cell_type": "code",
   "execution_count": 4,
   "metadata": {
    "tags": []
   },
   "outputs": [
    {
     "name": "stdout",
     "output_type": "stream",
     "text": [
      "Top 10 words in the vocab: windows, god, sale, clipper, dod, government, re, he, team, people\n",
      "Top 10 values in the vocab: 0.10689056198319917, 0.10450424621579651, 0.08432975343017271, 0.08230290678040691, 0.08023929848257759, 0.07921074939243042, 0.07865298183263716, 0.07569191875770331, 0.07458830854669563, 0.07416557350736769\n"
     ]
    }
   ],
   "source": [
    "print('Top 10 words in the vocab: %s' % (', '.join(map(str, (data.vocab[-10:])[::-1]))))\n",
    "print('Top 10 values in the vocab: %s' % (', '.join(map(str, (data.vocab_vals[-10:])[::-1]))))"
   ]
  },
  {
   "cell_type": "markdown",
   "metadata": {},
   "source": [
    "## Comparing Data Representation Methods with Logistic Regression"
   ]
  },
  {
   "cell_type": "code",
   "execution_count": 12,
   "metadata": {},
   "outputs": [
    {
     "name": "stdout",
     "output_type": "stream",
     "text": [
      "Binary input representation accuracy:  85.49%\n"
     ]
    }
   ],
   "source": [
    "model_bin = LogisticRegression()\n",
    "model_bin.fit(data.train_bin, data.train_bin_labels)\n",
    "bin_acc = 100.0 * model_bin.score(data.valid_bin, data.valid_bin_labels)\n",
    "print('Binary input representation accuracy:  %.2f%%' % bin_acc)"
   ]
  },
  {
   "cell_type": "code",
   "execution_count": 18,
   "metadata": {},
   "outputs": [
    {
     "name": "stdout",
     "output_type": "stream",
     "text": [
      "Max input representation accuracy: 83.98%\n"
     ]
    }
   ],
   "source": [
    "model_max = LogisticRegression()\n",
    "model_max.fit(data.train_max, data.train_max_labels)\n",
    "max_acc = 100.0 * model_max.score(data.valid_max, data.valid_max_labels)\n",
    "print('Max input representation accuracy: %.2f%%' % max_acc)"
   ]
  },
  {
   "cell_type": "code",
   "execution_count": 7,
   "metadata": {},
   "outputs": [
    {
     "name": "stdout",
     "output_type": "stream",
     "text": [
      "Log input representation accuracy: 86.46%\n"
     ]
    }
   ],
   "source": [
    "model_log = LogisticRegression()\n",
    "model_log.fit(data.train_log, data.train_log_labels)\n",
    "log_acc = 100.0 * model_log.score(data.valid_log, data.valid_log_labels)\n",
    "print('Log input representation accuracy: %.2f%%' % log_acc)"
   ]
  },
  {
   "cell_type": "markdown",
   "metadata": {},
   "source": [
    "## Tuning Hyperparameters"
   ]
  },
  {
   "cell_type": "code",
   "execution_count": 10,
   "metadata": {},
   "outputs": [
    {
     "name": "stdout",
     "output_type": "stream",
     "text": [
      "Fitting Model no. 1/20...\n",
      "    C=[5.80324545];    l_ratio=[0.95428952];    accuracy=82.30088495575221\n",
      "Fitting Model no. 2/20...\n",
      "    C=[2.15096753];    l_ratio=[0.85278244];    accuracy=82.7433628318584\n",
      "Fitting Model no. 3/20...\n",
      "    C=[5.65498401];    l_ratio=[0.05526234];    accuracy=82.0353982300885\n",
      "Fitting Model no. 4/20...\n",
      "    C=[2.88409857];    l_ratio=[0.71786856];    accuracy=82.56637168141593\n",
      "Fitting Model no. 5/20...\n",
      "    C=[3.64962727];    l_ratio=[0.95757522];    accuracy=82.30088495575221\n",
      "Fitting Model no. 6/20...\n",
      "    C=[1.92918327];    l_ratio=[0.46399866];    accuracy=82.47787610619469\n",
      "Fitting Model no. 7/20...\n",
      "    C=[5.45409785];    l_ratio=[0.7786398];    accuracy=81.94690265486726\n",
      "Fitting Model no. 8/20...\n",
      "    C=[3.51433784];    l_ratio=[0.34374997];    accuracy=82.38938053097345\n",
      "Fitting Model no. 9/20...\n",
      "    C=[5.38965585];    l_ratio=[0.8531815];    accuracy=82.0353982300885\n",
      "Fitting Model no. 10/20...\n",
      "    C=[2.90801246];    l_ratio=[0.09977056];    accuracy=82.21238938053096\n",
      "Fitting Model no. 11/20...\n",
      "    C=[3.68974255];    l_ratio=[0.12299283];    accuracy=82.38938053097345\n",
      "Fitting Model no. 12/20...\n",
      "    C=[0.8258631];    l_ratio=[0.40699604];    accuracy=82.38938053097345\n",
      "Fitting Model no. 13/20...\n",
      "    C=[0.45988539];    l_ratio=[0.55154183];    accuracy=82.38938053097345\n",
      "Fitting Model no. 14/20...\n",
      "    C=[2.83221498];    l_ratio=[0.1621119];    accuracy=82.30088495575221\n",
      "Fitting Model no. 15/20...\n",
      "    C=[5.29710417];    l_ratio=[0.76162628];    accuracy=82.38938053097345\n",
      "Fitting Model no. 16/20...\n",
      "    C=[2.9153644];    l_ratio=[0.15698521];    accuracy=82.0353982300885\n",
      "Fitting Model no. 17/20...\n",
      "    C=[5.05846566];    l_ratio=[0.67983774];    accuracy=82.21238938053096\n",
      "Fitting Model no. 18/20...\n",
      "    C=[2.76560266];    l_ratio=[0.18497697];    accuracy=81.94690265486726\n",
      "Fitting Model no. 19/20...\n",
      "    C=[1.85087963];    l_ratio=[0.99609838];    accuracy=82.47787610619469\n",
      "Fitting Model no. 20/20...\n",
      "    C=[0.99377276];    l_ratio=[0.78679834];    accuracy=82.30088495575221\n"
     ]
    }
   ],
   "source": [
    "Cs = np.random.uniform(0.01, 6, (20,1))\n",
    "l_ratio = np.random.uniform(0,1,(20,1))\n",
    "\n",
    "rand_search_acc = []\n",
    "\n",
    "# Do 20 random searches for Hyperparameters (with very small iterations)\n",
    "for k in range(20):\n",
    "    print(f'Fitting Model no. {k+1}/20...')\n",
    "    \n",
    "    rand_search_mod = LogisticRegression(C=float(Cs[k]), penalty='elasticnet', l1_ratio=float(l_ratio[k]), solver='saga', max_iter=10)\n",
    "    rand_search_mod.fit(data.train_log, data.train_log_labels)\n",
    "    \n",
    "    acc = 100 * rand_search_mod.score(data.valid_log, data.valid_log_labels)\n",
    "    rand_search_acc.append(acc)\n",
    "    print(f'    C={Cs[k]};    l_ratio={l_ratio[k]};    accuracy={rand_search_acc[k]}')"
   ]
  },
  {
   "cell_type": "code",
   "execution_count": 19,
   "metadata": {},
   "outputs": [
    {
     "name": "stdout",
     "output_type": "stream",
     "text": [
      "Best Regularization: [2.15096753]\n",
      "Best L Ratio: [0.85278244]\n"
     ]
    },
    {
     "data": {
      "image/png": "[encoded data removed]",
      "text/plain": [
       "<Figure size 432x288 with 2 Axes>"
      ]
     },
     "metadata": {
      "needs_background": "light"
     },
     "output_type": "display_data"
    }
   ],
   "source": [
    "plt.tricontourf(np.squeeze(Cs),np.squeeze(l_ratio),np.array(rand_search_acc))\n",
    "plt.xlabel('Regularization Strength Inverse')\n",
    "plt.ylabel('Ratio of L1 and L2')\n",
    "cbar = plt.colorbar()\n",
    "cbar.set_label('Model Accuracy (%)')\n",
    "plt.title('2 Dimensional Hyperparameter Search')\n",
    "plt.plot(np.squeeze(Cs), np.squeeze(l_ratio), 'ko ')\n",
    "\n",
    "best_C = Cs[np.argmax(np.array(rand_search_acc))]\n",
    "best_lratio = l_ratio[np.argmax(np.array(rand_search_acc))]\n",
    "print(f'Best Regularization: {best_C}')\n",
    "print(f'Best L Ratio: {best_lratio}')"
   ]
  },
  {
   "cell_type": "code",
   "execution_count": 5,
   "metadata": {},
   "outputs": [],
   "source": [
    "best_C = 2.15096753\n",
    "best_lratio = 0.85278244"
   ]
  },
  {
   "cell_type": "code",
   "execution_count": 6,
   "metadata": {},
   "outputs": [
    {
     "data": {
      "text/plain": [
       "LogisticRegression(C=2.15096753, l1_ratio=0.85278244, max_iter=150,\n",
       "                   penalty='elasticnet', solver='saga')"
      ]
     },
     "execution_count": 6,
     "metadata": {},
     "output_type": "execute_result"
    }
   ],
   "source": [
    "# Train Model With Best Parametecrs\n",
    "best_model = LogisticRegression(C=float(best_C), penalty='elasticnet', l1_ratio=float(best_lratio), solver='saga',max_iter=150)\n",
    "best_model.fit(data.train_log, data.train_log_labels)"
   ]
  },
  {
   "cell_type": "markdown",
   "metadata": {},
   "source": [
    "## Evaluate the best model"
   ]
  },
  {
   "cell_type": "code",
   "execution_count": 7,
   "metadata": {},
   "outputs": [
    {
     "name": "stdout",
     "output_type": "stream",
     "text": [
      "Best model accuracy: 75.27%\n"
     ]
    }
   ],
   "source": [
    "best_acc = 100.0 * best_model.score(data.test_log, data.test_labels)\n",
    "print('Best model accuracy: %.2f%%' % best_acc)"
   ]
  },
  {
   "cell_type": "code",
   "execution_count": 8,
   "metadata": {},
   "outputs": [],
   "source": [
    "pred = best_model.predict(data.test_log)\n",
    "confusion = metrics.confusion_matrix(data.test_labels, pred)"
   ]
  },
  {
   "cell_type": "code",
   "execution_count": 9,
   "metadata": {},
   "outputs": [
    {
     "data": {
      "image/png": "[encoded data removed]",
      "text/plain": [
       "<Figure size 648x648 with 1 Axes>"
      ]
     },
     "metadata": {
      "needs_background": "light"
     },
     "output_type": "display_data"
    }
   ],
   "source": [
    "plt.figure(figsize=(9,9))\n",
    "plt.imshow(confusion, interpolation='nearest', cmap='Blues')\n",
    "plt.title('Confusion matrix', size = 20)\n",
    "tick_marks = np.arange(20)\n",
    "plt.xticks(tick_marks, categories_short, size = 20, rotation=90)\n",
    "plt.yticks(tick_marks, categories_short, size = 20)\n",
    "plt.tight_layout()\n",
    "plt.ylabel('Actual label', size = 20)\n",
    "plt.xlabel('Predicted label', size = 20)\n",
    "width, height = confusion.shape\n",
    "for x in range(width):\n",
    "    for y in range(height):\n",
    "        plt.annotate(confusion[x][y], xy=(y, x), horizontalalignment='center', verticalalignment='center')"
   ]
  },
  {
   "cell_type": "code",
   "execution_count": 12,
   "metadata": {},
   "outputs": [
    {
     "name": "stdout",
     "output_type": "stream",
     "text": [
      "Top 5 misclassified labels from worst to best: ['comp.sys.ibm.pc.hardware', 'comp.windows.x', 'talk.religion.misc', 'sci.electronics', 'talk.politics.misc']\n"
     ]
    }
   ],
   "source": [
    "misses = np.array([sum(line) - line[cat] for cat, line in enumerate(confusion)])\n",
    "top_five = [categories[cat] for cat in misses.argsort()[-5::]]\n",
    "\n",
    "# electronics, MS windows, computer graphics and PC hardware are very similar topics\n",
    "# so it is understandable that the model confuses those 4 the most\n",
    "print('Top 5 misclassified labels from worst to best: %s' % top_five)"
   ]
  },
  {
   "cell_type": "markdown",
   "metadata": {},
   "source": [
    "## Model Inspection of the best model"
   ]
  },
  {
   "cell_type": "code",
   "execution_count": 11,
   "metadata": {
    "tags": []
   },
   "outputs": [
    {
     "name": "stdout",
     "output_type": "stream",
     "text": [
      "Highest features for atheism: writes, mathew, political, bible, religion, islamic, atheism, god, keith, atheists\n",
      "Lowest features for atheism: mail, ca, rutgers, get, thanks, may, with, use, called, used\n",
      "\n",
      "Highest features for graphics: cview, format, polygon, tiff, points, pov, files, images, image, graphics\n",
      "Lowest features for graphics: list, people, right, questions, who, really, us, drive, down, mit\n",
      "\n",
      "Highest features for win misc: using, use, ftp, driver, drivers, cica, files, file, win, windows\n",
      "Lowest features for win misc: of, he, we, who, by, his, question, ibm, mac, long\n",
      "\n",
      "Highest features for win hard: motherboard, dos, scsi, gateway, ide, monitors, dx, monitor, card, pc\n",
      "Lowest features for win hard: re, mac, sun, years, apple, we, code, latest, in, before\n",
      "\n",
      "Highest features for mac hard: simms, monitor, duo, se, powerbook, lc, centris, quadra, apple, mac\n",
      "Lowest features for mac hard: was, windows, who, com, dos, pc, were, his, controller, re\n",
      "\n",
      "Highest features for win x: color, display, xlib, mit, widget, xterm, sun, server, window, motif\n",
      "Lowest features for win x: he, they, go, re, who, post, was, these, buy, someone\n",
      "\n",
      "Highest features for forsale: drive, interested, price, for, offer, shipping, sell, wanted, forsale, sale\n",
      "Lowest features for forsale: re, that, help, anyone, thanks, the, where, think, but, do\n",
      "\n",
      "Highest features for auto: automotive, warning, oil, dealer, toyota, auto, engine, ford, cars, car\n",
      "Lowest features for auto: david, to, uk, bike, one, card, software, that, of, etc\n",
      "\n",
      "Highest features for motocycles: ama, honda, motorcycles, riding, ride, bmw, motorcycle, bikes, bike, dod\n",
      "Lowest features for motocycles: of, does, using, could, windows, believe, computer, an, these, de\n",
      "\n",
      "Highest features for baseball: cubs, year, games, he, team, game, runs, players, phillies, baseball\n",
      "Lowest features for baseball: by, of, which, from, it, com, hockey, system, nhl, its\n",
      "\n",
      "Highest features for hockey: ca, season, players, play, go, playoff, game, team, nhl, hockey\n",
      "Lowest features for hockey: com, of, about, use, work, do, is, god, run, such\n",
      "\n",
      "Highest features for crypt: cryptography, government, nsa, crypto, security, code, chip, encryption, key, clipper\n",
      "Lowest features for crypt: out, an, thanks, help, you, god, anyone, much, edu, want\n",
      "\n",
      "Highest features for elct: mhz, hc, line, radio, voltage, radar, tv, power, electronics, circuit\n",
      "Lowest features for elct: windows, who, he, been, because, did, think, we, steve, not\n",
      "\n",
      "Highest features for med: medicine, food, information, pitt, health, treatment, medical, msg, disease, doctor\n",
      "Lowest features for med: god, out, them, the, government, someone, so, car, drive, internet\n",
      "\n",
      "Highest features for space: earth, flight, times, shuttle, launch, nasa, pat, moon, orbit, space\n",
      "Lowest features for space: your, my, have, too, do, windows, computer, people, because, file\n",
      "\n",
      "Highest features for christian: geneva, jesus, christian, clh, christ, christians, athos, church, god, rutgers\n",
      "Lowest features for christian: article, com, using, on, system, next, mr, still, too, getting\n",
      "\n",
      "Highest features for guns: rights, government, atf, weapons, firearms, batf, fbi, waco, guns, gun\n",
      "Lowest features for guns: is, mail, go, some, computer, there, message, please, any, new\n",
      "\n",
      "Highest features for mideast: armenia, american, arab, argic, jewish, serdar, turkish, jews, israeli, israel\n",
      "Lowest features for mideast: thanks, use, for, anyone, my, the, than, out, little, but\n",
      "\n",
      "Highest features for politics misc: president, top, drugs, optilink, cramer, tax, government, gay, kaldis, clinton\n",
      "Lowest features for politics misc: read, any, ca, christian, does, jim, can, but, is, those\n",
      "\n",
      "Highest features for religion misc: religion, frank, promise, biblical, jesus, morality, koresh, order, god, christian\n",
      "Lowest features for religion misc: thanks, it, for, rutgers, year, need, problem, up, work, any\n",
      "\n"
     ]
    }
   ],
   "source": [
    "for cat, features in enumerate(best_model.coef_):\n",
    "    top_ten = [data.vocab[word] for word in features.argsort()[-10::]]\n",
    "    bottom_ten = [data.vocab[word] for word in features.argsort()[:10]]\n",
    "    print('Highest features for %s: %s' % (categories_short[cat], ', '.join(map(str, top_ten))))\n",
    "    print('Lowest features for %s: %s' % (categories_short[cat], ', '.join(map(str, bottom_ten))))\n",
    "    print()"
   ]
  },
  {
   "cell_type": "code",
   "execution_count": 103,
   "metadata": {},
   "outputs": [
    {
     "data": {
      "text/html": [
       "<div>\n",
       "<style scoped>\n",
       "    .dataframe tbody tr th:only-of-type {\n",
       "        vertical-align: middle;\n",
       "    }\n",
       "\n",
       "    .dataframe tbody tr th {\n",
       "        vertical-align: top;\n",
       "    }\n",
       "\n",
       "    .dataframe thead tr th {\n",
       "        text-align: left;\n",
       "    }\n",
       "</style>\n",
       "<table border=\"1\" class=\"dataframe\">\n",
       "  <thead>\n",
       "    <tr>\n",
       "      <th></th>\n",
       "      <th colspan=\"4\" halign=\"left\">alt.atheism</th>\n",
       "      <th colspan=\"4\" halign=\"left\">comp.graphics</th>\n",
       "      <th colspan=\"2\" halign=\"left\">comp.os.ms-windows.misc</th>\n",
       "      <th>...</th>\n",
       "      <th colspan=\"2\" halign=\"left\">talk.politics.mideast</th>\n",
       "      <th colspan=\"4\" halign=\"left\">talk.politics.misc</th>\n",
       "      <th colspan=\"4\" halign=\"left\">talk.religion.misc</th>\n",
       "    </tr>\n",
       "    <tr>\n",
       "      <th></th>\n",
       "      <th>Most Positive Word Weights</th>\n",
       "      <th>Mutual Information</th>\n",
       "      <th>Most Negative Word Weights</th>\n",
       "      <th>Mutual Information</th>\n",
       "      <th>Most Positive Word Weights</th>\n",
       "      <th>Mutual Information</th>\n",
       "      <th>Most Negative Word Weights</th>\n",
       "      <th>Mutual Information</th>\n",
       "      <th>Most Positive Word Weights</th>\n",
       "      <th>Mutual Information</th>\n",
       "      <th>...</th>\n",
       "      <th>Most Negative Word Weights</th>\n",
       "      <th>Mutual Information</th>\n",
       "      <th>Most Positive Word Weights</th>\n",
       "      <th>Mutual Information</th>\n",
       "      <th>Most Negative Word Weights</th>\n",
       "      <th>Mutual Information</th>\n",
       "      <th>Most Positive Word Weights</th>\n",
       "      <th>Mutual Information</th>\n",
       "      <th>Most Negative Word Weights</th>\n",
       "      <th>Mutual Information</th>\n",
       "    </tr>\n",
       "  </thead>\n",
       "  <tbody>\n",
       "    <tr>\n",
       "      <th>0</th>\n",
       "      <td>writes</td>\n",
       "      <td>0.06379903590812087</td>\n",
       "      <td>mail</td>\n",
       "      <td>0.01832372889031742</td>\n",
       "      <td>cview</td>\n",
       "      <td>0.005546811450652552</td>\n",
       "      <td>list</td>\n",
       "      <td>0.006094090132132507</td>\n",
       "      <td>using</td>\n",
       "      <td>0.031743683789274696</td>\n",
       "      <td>...</td>\n",
       "      <td>thanks</td>\n",
       "      <td>0.04424730220588836</td>\n",
       "      <td>president</td>\n",
       "      <td>0.022982585273536846</td>\n",
       "      <td>read</td>\n",
       "      <td>0.012461578056114628</td>\n",
       "      <td>religion</td>\n",
       "      <td>0.04077150543349095</td>\n",
       "      <td>thanks</td>\n",
       "      <td>0.04424730220588836</td>\n",
       "    </tr>\n",
       "    <tr>\n",
       "      <th>1</th>\n",
       "      <td>mathew</td>\n",
       "      <td>0.009004579679546291</td>\n",
       "      <td>ca</td>\n",
       "      <td>0.01764323439984224</td>\n",
       "      <td>format</td>\n",
       "      <td>0.013381020110263554</td>\n",
       "      <td>people</td>\n",
       "      <td>0.07416557350736769</td>\n",
       "      <td>use</td>\n",
       "      <td>0.029850752091182375</td>\n",
       "      <td>...</td>\n",
       "      <td>use</td>\n",
       "      <td>0.029850752091182375</td>\n",
       "      <td>top</td>\n",
       "      <td>0.009085967177941523</td>\n",
       "      <td>any</td>\n",
       "      <td>0.016082005839639302</td>\n",
       "      <td>frank</td>\n",
       "      <td>0.014375599241017079</td>\n",
       "      <td>it</td>\n",
       "      <td>0.024781152576688264</td>\n",
       "    </tr>\n",
       "    <tr>\n",
       "      <th>2</th>\n",
       "      <td>political</td>\n",
       "      <td>0.03370988632595016</td>\n",
       "      <td>rutgers</td>\n",
       "      <td>0.05239963810769727</td>\n",
       "      <td>polygon</td>\n",
       "      <td>0.00739765994835285</td>\n",
       "      <td>right</td>\n",
       "      <td>0.015789895663952672</td>\n",
       "      <td>ftp</td>\n",
       "      <td>0.025237298199392747</td>\n",
       "      <td>...</td>\n",
       "      <td>for</td>\n",
       "      <td>0.008392044311204341</td>\n",
       "      <td>drugs</td>\n",
       "      <td>0.0143535095828623</td>\n",
       "      <td>ca</td>\n",
       "      <td>0.01764323439984224</td>\n",
       "      <td>promise</td>\n",
       "      <td>0.007417288096871746</td>\n",
       "      <td>for</td>\n",
       "      <td>0.008392044311204341</td>\n",
       "    </tr>\n",
       "    <tr>\n",
       "      <th>3</th>\n",
       "      <td>bible</td>\n",
       "      <td>0.052473010434919004</td>\n",
       "      <td>get</td>\n",
       "      <td>0.009899722407617549</td>\n",
       "      <td>tiff</td>\n",
       "      <td>0.008819441733723322</td>\n",
       "      <td>questions</td>\n",
       "      <td>0.006978758411525351</td>\n",
       "      <td>driver</td>\n",
       "      <td>0.02159865578040958</td>\n",
       "      <td>...</td>\n",
       "      <td>anyone</td>\n",
       "      <td>0.01668559950589528</td>\n",
       "      <td>optilink</td>\n",
       "      <td>0.014366513307068453</td>\n",
       "      <td>christian</td>\n",
       "      <td>0.06657894224068943</td>\n",
       "      <td>biblical</td>\n",
       "      <td>0.021088139602927755</td>\n",
       "      <td>rutgers</td>\n",
       "      <td>0.05239963810769727</td>\n",
       "    </tr>\n",
       "    <tr>\n",
       "      <th>4</th>\n",
       "      <td>religion</td>\n",
       "      <td>0.04077150543349095</td>\n",
       "      <td>thanks</td>\n",
       "      <td>0.04424730220588836</td>\n",
       "      <td>points</td>\n",
       "      <td>0.010319889109000085</td>\n",
       "      <td>who</td>\n",
       "      <td>0.06876118766809201</td>\n",
       "      <td>drivers</td>\n",
       "      <td>0.020376216732701118</td>\n",
       "      <td>...</td>\n",
       "      <td>my</td>\n",
       "      <td>0.021668019107045244</td>\n",
       "      <td>cramer</td>\n",
       "      <td>0.015696160890691754</td>\n",
       "      <td>does</td>\n",
       "      <td>0.015466948219059013</td>\n",
       "      <td>jesus</td>\n",
       "      <td>0.060321621336069706</td>\n",
       "      <td>year</td>\n",
       "      <td>0.03627256470253578</td>\n",
       "    </tr>\n",
       "    <tr>\n",
       "      <th>5</th>\n",
       "      <td>islamic</td>\n",
       "      <td>0.02111815448821228</td>\n",
       "      <td>may</td>\n",
       "      <td>0.017474609763932943</td>\n",
       "      <td>pov</td>\n",
       "      <td>0.006625663766971251</td>\n",
       "      <td>really</td>\n",
       "      <td>0.012205938105336198</td>\n",
       "      <td>cica</td>\n",
       "      <td>0.01199003436389485</td>\n",
       "      <td>...</td>\n",
       "      <td>the</td>\n",
       "      <td>0.02277150454939437</td>\n",
       "      <td>tax</td>\n",
       "      <td>0.014260189142353382</td>\n",
       "      <td>jim</td>\n",
       "      <td>0.013365980705343627</td>\n",
       "      <td>morality</td>\n",
       "      <td>0.02581389512308628</td>\n",
       "      <td>need</td>\n",
       "      <td>0.010352323869811865</td>\n",
       "    </tr>\n",
       "    <tr>\n",
       "      <th>6</th>\n",
       "      <td>atheism</td>\n",
       "      <td>0.024121034685860993</td>\n",
       "      <td>with</td>\n",
       "      <td>0.00947941375554605</td>\n",
       "      <td>files</td>\n",
       "      <td>0.030714806633768715</td>\n",
       "      <td>us</td>\n",
       "      <td>0.033273747667493754</td>\n",
       "      <td>files</td>\n",
       "      <td>0.030714806633768715</td>\n",
       "      <td>...</td>\n",
       "      <td>than</td>\n",
       "      <td>0.01799926311190681</td>\n",
       "      <td>government</td>\n",
       "      <td>0.07921074939243042</td>\n",
       "      <td>can</td>\n",
       "      <td>0.013647231451748822</td>\n",
       "      <td>koresh</td>\n",
       "      <td>0.01825383632701338</td>\n",
       "      <td>problem</td>\n",
       "      <td>0.020829072889509175</td>\n",
       "    </tr>\n",
       "    <tr>\n",
       "      <th>7</th>\n",
       "      <td>god</td>\n",
       "      <td>0.10450424621579651</td>\n",
       "      <td>use</td>\n",
       "      <td>0.029850752091182375</td>\n",
       "      <td>images</td>\n",
       "      <td>0.014409153283424547</td>\n",
       "      <td>drive</td>\n",
       "      <td>0.03274147841405679</td>\n",
       "      <td>file</td>\n",
       "      <td>0.03614206102630237</td>\n",
       "      <td>...</td>\n",
       "      <td>out</td>\n",
       "      <td>0.01398596889128314</td>\n",
       "      <td>gay</td>\n",
       "      <td>0.016879387566645383</td>\n",
       "      <td>but</td>\n",
       "      <td>0.01882851182677552</td>\n",
       "      <td>order</td>\n",
       "      <td>0.008762138552321386</td>\n",
       "      <td>up</td>\n",
       "      <td>0.009967095238614741</td>\n",
       "    </tr>\n",
       "    <tr>\n",
       "      <th>8</th>\n",
       "      <td>keith</td>\n",
       "      <td>0.024457637074981914</td>\n",
       "      <td>called</td>\n",
       "      <td>0.009519045092001376</td>\n",
       "      <td>image</td>\n",
       "      <td>0.019218217913999327</td>\n",
       "      <td>down</td>\n",
       "      <td>0.016497489980811016</td>\n",
       "      <td>win</td>\n",
       "      <td>0.04867410961850969</td>\n",
       "      <td>...</td>\n",
       "      <td>little</td>\n",
       "      <td>0.008833305916829138</td>\n",
       "      <td>kaldis</td>\n",
       "      <td>0.007200317301232396</td>\n",
       "      <td>is</td>\n",
       "      <td>0.02749602400281534</td>\n",
       "      <td>god</td>\n",
       "      <td>0.10450424621579651</td>\n",
       "      <td>work</td>\n",
       "      <td>0.014942077882040227</td>\n",
       "    </tr>\n",
       "    <tr>\n",
       "      <th>9</th>\n",
       "      <td>atheists</td>\n",
       "      <td>0.040563410000126025</td>\n",
       "      <td>used</td>\n",
       "      <td>0.009382633304606735</td>\n",
       "      <td>graphics</td>\n",
       "      <td>0.04673240737986587</td>\n",
       "      <td>mit</td>\n",
       "      <td>0.01488671351385685</td>\n",
       "      <td>windows</td>\n",
       "      <td>0.10689056198319917</td>\n",
       "      <td>...</td>\n",
       "      <td>but</td>\n",
       "      <td>0.01882851182677552</td>\n",
       "      <td>clinton</td>\n",
       "      <td>0.03964793452301512</td>\n",
       "      <td>those</td>\n",
       "      <td>0.023213786606408573</td>\n",
       "      <td>christian</td>\n",
       "      <td>0.06657894224068943</td>\n",
       "      <td>any</td>\n",
       "      <td>0.016082005839639302</td>\n",
       "    </tr>\n",
       "  </tbody>\n",
       "</table>\n",
       "<p>10 rows × 80 columns</p>\n",
       "</div>"
      ],
      "text/plain": [
       "                 alt.atheism                                                   \\\n",
       "  Most Positive Word Weights    Mutual Information Most Negative Word Weights   \n",
       "0                     writes   0.06379903590812087                       mail   \n",
       "1                     mathew  0.009004579679546291                         ca   \n",
       "2                  political   0.03370988632595016                    rutgers   \n",
       "3                      bible  0.052473010434919004                        get   \n",
       "4                   religion   0.04077150543349095                     thanks   \n",
       "5                    islamic   0.02111815448821228                        may   \n",
       "6                    atheism  0.024121034685860993                       with   \n",
       "7                        god   0.10450424621579651                        use   \n",
       "8                      keith  0.024457637074981914                     called   \n",
       "9                   atheists  0.040563410000126025                       used   \n",
       "\n",
       "                                     comp.graphics                        \\\n",
       "     Mutual Information Most Positive Word Weights    Mutual Information   \n",
       "0   0.01832372889031742                      cview  0.005546811450652552   \n",
       "1   0.01764323439984224                     format  0.013381020110263554   \n",
       "2   0.05239963810769727                    polygon   0.00739765994835285   \n",
       "3  0.009899722407617549                       tiff  0.008819441733723322   \n",
       "4   0.04424730220588836                     points  0.010319889109000085   \n",
       "5  0.017474609763932943                        pov  0.006625663766971251   \n",
       "6   0.00947941375554605                      files  0.030714806633768715   \n",
       "7  0.029850752091182375                     images  0.014409153283424547   \n",
       "8  0.009519045092001376                      image  0.019218217913999327   \n",
       "9  0.009382633304606735                   graphics   0.04673240737986587   \n",
       "\n",
       "                                                      comp.os.ms-windows.misc  \\\n",
       "  Most Negative Word Weights    Mutual Information Most Positive Word Weights   \n",
       "0                       list  0.006094090132132507                      using   \n",
       "1                     people   0.07416557350736769                        use   \n",
       "2                      right  0.015789895663952672                        ftp   \n",
       "3                  questions  0.006978758411525351                     driver   \n",
       "4                        who   0.06876118766809201                    drivers   \n",
       "5                     really  0.012205938105336198                       cica   \n",
       "6                         us  0.033273747667493754                      files   \n",
       "7                      drive   0.03274147841405679                       file   \n",
       "8                       down  0.016497489980811016                        win   \n",
       "9                        mit   0.01488671351385685                    windows   \n",
       "\n",
       "                         ...      talk.politics.mideast                        \\\n",
       "     Mutual Information  ... Most Negative Word Weights    Mutual Information   \n",
       "0  0.031743683789274696  ...                     thanks   0.04424730220588836   \n",
       "1  0.029850752091182375  ...                        use  0.029850752091182375   \n",
       "2  0.025237298199392747  ...                        for  0.008392044311204341   \n",
       "3   0.02159865578040958  ...                     anyone   0.01668559950589528   \n",
       "4  0.020376216732701118  ...                         my  0.021668019107045244   \n",
       "5   0.01199003436389485  ...                        the   0.02277150454939437   \n",
       "6  0.030714806633768715  ...                       than   0.01799926311190681   \n",
       "7   0.03614206102630237  ...                        out   0.01398596889128314   \n",
       "8   0.04867410961850969  ...                     little  0.008833305916829138   \n",
       "9   0.10689056198319917  ...                        but   0.01882851182677552   \n",
       "\n",
       "          talk.politics.misc                                                   \\\n",
       "  Most Positive Word Weights    Mutual Information Most Negative Word Weights   \n",
       "0                  president  0.022982585273536846                       read   \n",
       "1                        top  0.009085967177941523                        any   \n",
       "2                      drugs    0.0143535095828623                         ca   \n",
       "3                   optilink  0.014366513307068453                  christian   \n",
       "4                     cramer  0.015696160890691754                       does   \n",
       "5                        tax  0.014260189142353382                        jim   \n",
       "6                 government   0.07921074939243042                        can   \n",
       "7                        gay  0.016879387566645383                        but   \n",
       "8                     kaldis  0.007200317301232396                         is   \n",
       "9                    clinton   0.03964793452301512                      those   \n",
       "\n",
       "                                talk.religion.misc                        \\\n",
       "     Mutual Information Most Positive Word Weights    Mutual Information   \n",
       "0  0.012461578056114628                   religion   0.04077150543349095   \n",
       "1  0.016082005839639302                      frank  0.014375599241017079   \n",
       "2   0.01764323439984224                    promise  0.007417288096871746   \n",
       "3   0.06657894224068943                   biblical  0.021088139602927755   \n",
       "4  0.015466948219059013                      jesus  0.060321621336069706   \n",
       "5  0.013365980705343627                   morality   0.02581389512308628   \n",
       "6  0.013647231451748822                     koresh   0.01825383632701338   \n",
       "7   0.01882851182677552                      order  0.008762138552321386   \n",
       "8   0.02749602400281534                        god   0.10450424621579651   \n",
       "9  0.023213786606408573                  christian   0.06657894224068943   \n",
       "\n",
       "                                                    \n",
       "  Most Negative Word Weights    Mutual Information  \n",
       "0                     thanks   0.04424730220588836  \n",
       "1                         it  0.024781152576688264  \n",
       "2                        for  0.008392044311204341  \n",
       "3                    rutgers   0.05239963810769727  \n",
       "4                       year   0.03627256470253578  \n",
       "5                       need  0.010352323869811865  \n",
       "6                    problem  0.020829072889509175  \n",
       "7                         up  0.009967095238614741  \n",
       "8                       work  0.014942077882040227  \n",
       "9                        any  0.016082005839639302  \n",
       "\n",
       "[10 rows x 80 columns]"
      ]
     },
     "execution_count": 103,
     "metadata": {},
     "output_type": "execute_result"
    }
   ],
   "source": [
    "top_ten_mi_comp = []\n",
    "for cat, features in enumerate(best_model.coef_):\n",
    "    top_ten = [data.vocab[word] for word in features.argsort()[-10::]]\n",
    "    bot_ten = [data.vocab[word] for word in features.argsort()[:10]]\n",
    "    mi = []\n",
    "    mi_bot = []\n",
    "    for k in range(10):\n",
    "        mi.append(data.vocab_vals[data.vocab.index(top_ten[k])])\n",
    "        mi_bot.append(data.vocab_vals[data.vocab.index(bot_ten[k])])\n",
    "    \n",
    "    top_ten_mi_comp.append(top_ten)\n",
    "    top_ten_mi_comp.append(mi)\n",
    "    top_ten_mi_comp.append(bot_ten)\n",
    "    top_ten_mi_comp.append(mi_bot)\n",
    "    \n",
    "top_ten_mi_comp = np.array(top_ten_mi_comp)\n",
    "\n",
    "cat_expanded = []\n",
    "for item in categories:\n",
    "    cat_expanded.extend([item] * 4)\n",
    "    \n",
    "header = ['Most Positive Word Weights','Mutual Information','Most Negative Word Weights','Mutual Information']*20\n",
    "\n",
    "top_words_table = pd.DataFrame(data=top_ten_mi_comp.T, columns=pd.MultiIndex.from_tuples(zip(cat_expanded,header)))\n",
    "top_words_table.to_csv('problem_f_table.csv')\n",
    "top_words_table"
   ]
  }
 ],
 "metadata": {
  "kernelspec": {
   "display_name": "Python 3",
   "language": "python",
   "name": "python3"
  },
  "language_info": {
   "codemirror_mode": {
    "name": "ipython",
    "version": 3
   },
   "file_extension": ".py",
   "mimetype": "text/x-python",
   "name": "python",
   "nbconvert_exporter": "python",
   "pygments_lexer": "ipython3",
   "version": "3.9.1"
  }
 },
 "nbformat": 4,
 "nbformat_minor": 4
}
