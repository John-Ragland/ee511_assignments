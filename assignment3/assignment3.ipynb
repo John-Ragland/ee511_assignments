{
 "cells": [
  {
   "source": [
    "# EE 511 Assignment 3 - PartII\n",
    "University of Washington<br>\n",
    "Code by John Ragland and Doruk Arisoy<br>\n",
    "Winter 2021"
   ],
   "cell_type": "markdown",
   "metadata": {}
  },
  {
   "cell_type": "code",
   "execution_count": 1,
   "metadata": {},
   "outputs": [],
   "source": [
    "# Suppress Warnings\n",
    "def warn(*args, **kwargs):\n",
    "    pass\n",
    "import warnings\n",
    "warnings.warn = warn\n",
    "\n",
    "import numpy as np\n",
    "from tools import Data\n",
    "from collections import Counter\n",
    "import time\n",
    "import sklearn\n",
    "from sklearn import metrics\n",
    "from sklearn.linear_model import LogisticRegression\n",
    "import matplotlib.pyplot as plt\n",
    "import seaborn as sns\n",
    "\n",
    "# Some magic so that the notebook will reload external python modules;\n",
    "# see http://stackoverflow.com/questions/1907993/autoreload-of-modules-in-ipython\n",
    "%load_ext autoreload\n",
    "%autoreload 2"
   ]
  },
  {
   "cell_type": "markdown",
   "metadata": {},
   "source": [
    "## Processing the data"
   ]
  },
  {
   "cell_type": "code",
   "execution_count": 14,
   "metadata": {},
   "outputs": [],
   "source": [
    "categories = [\n",
    "    'alt.atheism', 'comp.graphics', 'comp.os.ms-windows.misc',\n",
    "    'comp.sys.ibm.pc.hardware', 'comp.sys.mac.hardware', 'comp.windows.x',\n",
    "    'misc.forsale', 'rec.autos', 'rec.motorcycles', \n",
    "    'rec.sport.baseball', 'rec.sport.hockey', 'sci.crypt', \n",
    "    'sci.electronics', 'sci.med', 'sci.space', \n",
    "    'soc.religion.christian', 'talk.politics.guns', 'talk.politics.mideast', \n",
    "    'talk.politics.misc', 'talk.religion.misc']\n",
    "\n",
    "categories_short = [\n",
    "    'atheism', 'graphics', 'win misc', \n",
    "    'win hard', 'mac hard', 'win x', \n",
    "    'forsale', 'auto', 'motocycles', \n",
    "    'baseball', 'hockey', 'crypt', \n",
    "    'elct', 'med', 'space', \n",
    "    'christian', 'guns', 'mideast',\n",
    "    'politics misc', 'religion misc']"
   ]
  },
  {
   "cell_type": "code",
   "execution_count": 16,
   "metadata": {
    "tags": []
   },
   "outputs": [
    {
     "output_type": "stream",
     "name": "stdout",
     "text": [
      "Calculating Vocabulary...\n",
      "73686\n",
      "Loading Testing Data...\n",
      "Loading Training Data...\n",
      "Splitting Training Data into Training and Validation...\n",
      "925.2865362167358\n"
     ]
    }
   ],
   "source": [
    "start = time.time()\n",
    "data = Data(categories)\n",
    "print(time.time() - start)"
   ]
  },
  {
   "cell_type": "code",
   "execution_count": 17,
   "metadata": {},
   "outputs": [
    {
     "output_type": "execute_result",
     "data": {
      "text/plain": [
       "5000"
      ]
     },
     "metadata": {},
     "execution_count": 17
    }
   ],
   "source": [
    "len(data.vocab)"
   ]
  },
  {
   "cell_type": "code",
   "execution_count": 18,
   "metadata": {},
   "outputs": [
    {
     "output_type": "stream",
     "name": "stdout",
     "text": [
      "Top 10 words in the vocab: prescription, lyme, overpass, commander, shield, chintan, practicing, stress, intrinsics, colormaps\n"
     ]
    }
   ],
   "source": [
    "print('Top 10 words in the vocab: %s' % (', '.join(map(str, data.vocab[:10]))))"
   ]
  },
  {
   "cell_type": "markdown",
   "metadata": {},
   "source": [
    "## Comparing Data Representation Methods with Logistic Regression"
   ]
  },
  {
   "cell_type": "code",
   "execution_count": 19,
   "metadata": {},
   "outputs": [
    {
     "output_type": "stream",
     "name": "stdout",
     "text": [
      "Binary input representation accuracy:  86.02%\n"
     ]
    }
   ],
   "source": [
    "model_bin = LogisticRegression()\n",
    "model_bin.fit(data.train_bin, data.train_bin_labels)\n",
    "bin_acc = 100.0 * model_bin.score(data.valid_bin, data.valid_bin_labels)\n",
    "print('Binary input representation accuracy:  %.2f%%' % bin_acc)"
   ]
  },
  {
   "cell_type": "code",
   "execution_count": 20,
   "metadata": {},
   "outputs": [
    {
     "output_type": "stream",
     "name": "stdout",
     "text": [
      "Max input representation accuracy: 86.02%\n"
     ]
    }
   ],
   "source": [
    "model_max = LogisticRegression()\n",
    "model_max.fit(data.train_max, data.train_max_labels)\n",
    "max_acc = 100.0 * model_max.score(data.valid_max, data.valid_max_labels)\n",
    "print('Max input representation accuracy: %.2f%%' % max_acc)"
   ]
  },
  {
   "cell_type": "code",
   "execution_count": 21,
   "metadata": {},
   "outputs": [
    {
     "output_type": "stream",
     "name": "stdout",
     "text": [
      "Log input representation accuracy: 86.19%\n"
     ]
    }
   ],
   "source": [
    "model_log = LogisticRegression()\n",
    "model_log.fit(data.train_log, data.train_log_labels)\n",
    "log_acc = 100.0 * model_log.score(data.valid_log, data.valid_log_labels)\n",
    "print('Log input representation accuracy: %.2f%%' % log_acc)"
   ]
  },
  {
   "cell_type": "markdown",
   "metadata": {},
   "source": [
    "## Tuning Hyperparameters"
   ]
  },
  {
   "cell_type": "code",
   "execution_count": 10,
   "metadata": {},
   "outputs": [
    {
     "name": "stdout",
     "output_type": "stream",
     "text": [
      "Fitting Model no. 1/20...\n",
      "    C=[5.80324545];    l_ratio=[0.95428952];    accuracy=82.30088495575221\n",
      "Fitting Model no. 2/20...\n",
      "    C=[2.15096753];    l_ratio=[0.85278244];    accuracy=82.7433628318584\n",
      "Fitting Model no. 3/20...\n",
      "    C=[5.65498401];    l_ratio=[0.05526234];    accuracy=82.0353982300885\n",
      "Fitting Model no. 4/20...\n",
      "    C=[2.88409857];    l_ratio=[0.71786856];    accuracy=82.56637168141593\n",
      "Fitting Model no. 5/20...\n",
      "    C=[3.64962727];    l_ratio=[0.95757522];    accuracy=82.30088495575221\n",
      "Fitting Model no. 6/20...\n",
      "    C=[1.92918327];    l_ratio=[0.46399866];    accuracy=82.47787610619469\n",
      "Fitting Model no. 7/20...\n",
      "    C=[5.45409785];    l_ratio=[0.7786398];    accuracy=81.94690265486726\n",
      "Fitting Model no. 8/20...\n",
      "    C=[3.51433784];    l_ratio=[0.34374997];    accuracy=82.38938053097345\n",
      "Fitting Model no. 9/20...\n",
      "    C=[5.38965585];    l_ratio=[0.8531815];    accuracy=82.0353982300885\n",
      "Fitting Model no. 10/20...\n",
      "    C=[2.90801246];    l_ratio=[0.09977056];    accuracy=82.21238938053096\n",
      "Fitting Model no. 11/20...\n",
      "    C=[3.68974255];    l_ratio=[0.12299283];    accuracy=82.38938053097345\n",
      "Fitting Model no. 12/20...\n",
      "    C=[0.8258631];    l_ratio=[0.40699604];    accuracy=82.38938053097345\n",
      "Fitting Model no. 13/20...\n",
      "    C=[0.45988539];    l_ratio=[0.55154183];    accuracy=82.38938053097345\n",
      "Fitting Model no. 14/20...\n",
      "    C=[2.83221498];    l_ratio=[0.1621119];    accuracy=82.30088495575221\n",
      "Fitting Model no. 15/20...\n",
      "    C=[5.29710417];    l_ratio=[0.76162628];    accuracy=82.38938053097345\n",
      "Fitting Model no. 16/20...\n",
      "    C=[2.9153644];    l_ratio=[0.15698521];    accuracy=82.0353982300885\n",
      "Fitting Model no. 17/20...\n",
      "    C=[5.05846566];    l_ratio=[0.67983774];    accuracy=82.21238938053096\n",
      "Fitting Model no. 18/20...\n",
      "    C=[2.76560266];    l_ratio=[0.18497697];    accuracy=81.94690265486726\n",
      "Fitting Model no. 19/20...\n",
      "    C=[1.85087963];    l_ratio=[0.99609838];    accuracy=82.47787610619469\n",
      "Fitting Model no. 20/20...\n",
      "    C=[0.99377276];    l_ratio=[0.78679834];    accuracy=82.30088495575221\n"
     ]
    }
   ],
   "source": [
    "Cs = np.random.uniform(0.01, 6, (20,1))\n",
    "l_ratio = np.random.uniform(0,1,(20,1))\n",
    "\n",
    "rand_search_acc = []\n",
    "\n",
    "# Do 20 random searches for Hyperparameters (with very small iterations)\n",
    "for k in range(20):\n",
    "    print(f'Fitting Model no. {k+1}/20...')\n",
    "    \n",
    "    rand_search_mod = LogisticRegression(C=float(Cs[k]), penalty='elasticnet', l1_ratio=float(l_ratio[k]), solver='saga', max_iter=10)\n",
    "    rand_search_mod.fit(data.train_log, data.train_log_labels)\n",
    "    \n",
    "    acc = 100 * rand_search_mod.score(data.valid_log, data.valid_log_labels)\n",
    "    rand_search_acc.append(acc)\n",
    "    print(f'    C={Cs[k]};    l_ratio={l_ratio[k]};    accuracy={rand_search_acc[k]}')"
   ]
  },
  {
   "cell_type": "code",
   "execution_count": 19,
   "metadata": {},
   "outputs": [
    {
     "name": "stdout",
     "output_type": "stream",
     "text": [
      "Best Regularization: [2.15096753]\n",
      "Best L Ratio: [0.85278244]\n"
     ]
    },
    {
     "data": {
      "image/png": "[encoded data removed]",
      "text/plain": [
       "<Figure size 432x288 with 2 Axes>"
      ]
     },
     "metadata": {
      "needs_background": "light"
     },
     "output_type": "display_data"
    }
   ],
   "source": [
    "plt.tricontourf(np.squeeze(Cs),np.squeeze(l_ratio),np.array(rand_search_acc))\n",
    "plt.xlabel('Regularization Strength Inverse')\n",
    "plt.ylabel('Ratio of L1 and L2')\n",
    "cbar = plt.colorbar()\n",
    "cbar.set_label('Model Accuracy (%)')\n",
    "plt.title('2 Dimensional Hyperparameter Search')\n",
    "plt.plot(np.squeeze(Cs), np.squeeze(l_ratio), 'ko ')\n",
    "\n",
    "best_C = Cs[np.argmax(np.array(rand_search_acc))]\n",
    "best_lratio = l_ratio[np.argmax(np.array(rand_search_acc))]\n",
    "print(f'Best Regularization: {best_C}')\n",
    "print(f'Best L Ratio: {best_lratio}')"
   ]
  },
  {
   "cell_type": "code",
   "execution_count": 13,
   "metadata": {},
   "outputs": [],
   "source": [
    "best_C = 2.15096753\n",
    "best_lratio = 0.85278244"
   ]
  },
  {
   "cell_type": "code",
   "execution_count": 14,
   "metadata": {},
   "outputs": [],
   "source": [
    "# Train Model With Best Parametecrs\n",
    "best_model = LogisticRegression(C=float(best_C), penalty='elasticnet', l1_ratio=float(best_lratio), solver='saga',max_iter=150)\n",
    "best_model.fit(data.train_log, data.train_log_labels)"
   ]
  },
  {
   "cell_type": "markdown",
   "metadata": {},
   "source": [
    "## Evaluate the best model"
   ]
  },
  {
   "cell_type": "code",
   "execution_count": null,
   "metadata": {},
   "outputs": [],
   "source": [
    "best_acc = 100.0 * best_model.score(data.test_log, data.test_labels)\n",
    "print('Best model accuracy: %.2f%%' % best_acc)"
   ]
  },
  {
   "cell_type": "code",
   "execution_count": null,
   "metadata": {},
   "outputs": [],
   "source": [
    "pred = best_model.predict(data.test_log)\n",
    "confusion = metrics.confusion_matrix(data.test_labels, pred)"
   ]
  },
  {
   "cell_type": "code",
   "execution_count": null,
   "metadata": {},
   "outputs": [],
   "source": [
    "plt.figure(figsize=(9,9))\n",
    "plt.imshow(confusion, interpolation='nearest', cmap='Blues')\n",
    "plt.title('Confusion matrix', size = 20)\n",
    "tick_marks = np.arange(20)\n",
    "plt.xticks(tick_marks, categories_short, size = 20, rotation=90)\n",
    "plt.yticks(tick_marks, categories_short, size = 20)\n",
    "plt.tight_layout()\n",
    "plt.ylabel('Actual label', size = 20)\n",
    "plt.xlabel('Predicted label', size = 20)\n",
    "width, height = confusion.shape\n",
    "for x in range(width):\n",
    "    for y in range(height):\n",
    "        plt.annotate(confusion[x][y], xy=(y, x), horizontalalignment='center', verticalalignment='center')"
   ]
  },
  {
   "cell_type": "code",
   "execution_count": 16,
   "metadata": {},
   "outputs": [
    {
     "name": "stdout",
     "output_type": "stream",
     "text": [
      "Top 5 misclassified labels from worst to best: ['comp.sys.ibm.pc.hardware', 'comp.os.ms-windows.misc', 'talk.religion.misc', 'sci.electronics', 'talk.politics.misc']\n"
     ]
    }
   ],
   "source": [
    "misses = np.array([sum(line) - line[cat] for cat, line in enumerate(confusion)])\n",
    "top_five = [categories_short[cat] for cat in misses.argsort()[-5::]]\n",
    "\n",
    "# electronics, MS windows, computer graphics and PC hardware are very similar topics\n",
    "# so it is understandable that the model confuses those 4 the most\n",
    "print('Top 5 misclassified labels from worst to best: %s' % top_five)"
   ]
  },
  {
   "cell_type": "markdown",
   "metadata": {},
   "source": [
    "## Model Inspection of the best model"
   ]
  },
  {
   "cell_type": "code",
   "execution_count": 17,
   "metadata": {
    "tags": []
   },
   "outputs": [
    {
     "name": "stdout",
     "output_type": "stream",
     "text": [
      "Highest features for alt.atheism: thoughts, rushdie, islamic, mozumder, mathew, umd, atheism, benedikt, keith, atheists\n",
      "Lowest features for alt.atheism: thanks, mail, interested, rutgers, ca, help, internet, wondering, phone, use\n",
      "\n",
      "Highest features for comp.graphics: surface, sphere, cview, polygon, animation, images, image, tiff, pov, graphics\n",
      "Lowest features for comp.graphics: re, sale, my, list, drive, writes, who, mike, people, s\n",
      "\n",
      "Highest features for comp.os.ms-windows.misc: nt, ini, file, drivers, microsoft, dos, driver, win, cica, windows\n",
      "Lowest features for comp.os.ms-windows.misc: of, sale, re, stack, r, replies, mac, they, apple, he\n",
      "\n",
      "Highest features for comp.sys.ibm.pc.hardware: drive, dos, controller, monitor, monitors, ide, card, dx, gateway, pc\n",
      "Lowest features for comp.sys.ibm.pc.hardware: re, writes, in, mac, latest, apple, article, sun, we, macintosh\n",
      "\n",
      "Highest features for comp.sys.mac.hardware: adb, lc, se, iisi, duo, quadra, powerbook, centris, apple, mac\n",
      "Lowest features for comp.sys.mac.hardware: windows, was, com, dos, who, thanx, pc, r, gateway, re\n",
      "\n",
      "Highest features for comp.windows.x: application, widgets, r, xlib, xterm, widget, server, window, motif, x\n",
      "Lowest features for comp.windows.x: re, writes, edu, article, sale, they, was, mac, he, post\n",
      "\n",
      "Highest features for misc.forsale: asking, for, obo, wanted, condition, sell, offer, shipping, forsale, sale\n",
      "Lowest features for misc.forsale: re, the, anyone, writes, that, i, article, of, thanks, appreciated\n",
      "\n",
      "Highest features for rec.autos: warning, oil, auto, ford, engine, dealer, automotive, toyota, cars, car\n",
      "Lowest features for rec.autos: bike, software, card, pc, sale, david, monitor, bill, video, program\n",
      "\n",
      "Highest features for rec.motorcycles: honda, ama, riding, motorcycles, ride, bmw, motorcycle, bikes, bike, dod\n",
      "Lowest features for rec.motorcycles: does, windows, be, computer, card, appreciated, using, are, of, information\n",
      "\n",
      "Highest features for rec.sport.baseball: yankees, pitching, sox, cubs, tigers, stadium, mets, players, phillies, baseball\n",
      "Lowest features for rec.sport.baseball: of, it, you, my, to, email, sale, windows, com, or\n",
      "\n",
      "Highest features for rec.sport.hockey: pens, detroit, play, penguins, playoffs, game, team, playoff, nhl, hockey\n",
      "Lowest features for rec.sport.hockey: com, use, i, looking, windows, any, work, a, c, hi\n",
      "\n",
      "Highest features for sci.crypt: denning, nsa, announcement, crypto, pgp, chip, key, encryption, tapped, clipper\n",
      "Lowest features for sci.crypt: thanks, appreciated, advance, help, wondering, hello, windows, hi, card, michael\n",
      "\n",
      "Highest features for sci.electronics: radar, tv, scope, mc, amp, circuits, voltage, hc, electronics, circuit\n",
      "Lowest features for sci.electronics: windows, not, he, sale, who, x, did, steve, his, access\n",
      "\n",
      "Highest features for sci.med: physician, syndrome, foods, med, medicine, cancer, photography, treatment, disease, doctor\n",
      "Lowest features for sci.med: windows, god, card, drive, out, car, you, video, government, call\n",
      "\n",
      "Highest features for sci.space: nsmca, sky, mining, shuttle, nasa, launch, pat, moon, orbit, space\n",
      "Lowest features for sci.space: me, windows, my, your, hp, i, with, does, car, netcom\n",
      "\n",
      "Highest features for soc.religion.christian: christian, christ, verse, church, christians, geneva, god, clh, rutgers, athos\n",
      "Lowest features for soc.religion.christian: article, com, brian, writes, using, c, windows, k, x, buy\n",
      "\n",
      "Highest features for talk.politics.guns: fbi, weapons, firearms, atf, nra, batf, ranch, waco, guns, gun\n",
      "Lowest features for talk.politics.guns: mail, message, computer, warning, org, anyone, please, advance, is, windows\n",
      "\n",
      "Highest features for talk.politics.mideast: adl, soldiers, arab, hezbollah, holocaust, jews, argic, serdar, israeli, israel\n",
      "Lowest features for talk.politics.mideast: thanks, i, anyone, for, hi, looking, m, advance, please, my\n",
      "\n",
      "Highest features for talk.politics.misc: clayton, drugs, cramer, slick, concentrate, optilink, tax, gay, clinton, kaldis\n",
      "Lowest features for talk.politics.misc: thanks, i, phone, read, any, advance, an, please, jim, software\n",
      "\n",
      "Highest features for talk.religion.misc: abortion, sandvik, thou, mormons, morality, biblical, beast, koresh, promise, christian\n",
      "Lowest features for talk.religion.misc: thanks, hi, for, rutgers, anyone, advance, need, i, ac, phone\n",
      "\n"
     ]
    }
   ],
   "source": [
    "for cat, features in enumerate(best_model.coef_):\n",
    "    top_ten = [data.vocab[word] for word in features.argsort()[-10::]]\n",
    "    bottom_ten = [data.vocab[word] for word in features.argsort()[:10]]\n",
    "    print('Highest features for %s: %s' % (categories_short[cat], ', '.join(map(str, top_ten))))\n",
    "    print('Lowest features for %s: %s' % (categories_short[cat], ', '.join(map(str, bottom_ten))))\n",
    "    print()"
   ]
  },
  {
   "cell_type": "markdown",
   "metadata": {},
   "source": [
    "# TODO List\n",
    "- code TODO:\n",
    "    + \\[step b\\] \\[kind of optional\\] implement the more complex vocabulary\n",
    "- report TODO:\n",
    "    + \\[step b \\] table of top 10 words\n",
    "    + \\[step b\\] mutual information of the top 10 words?? what is mutual information? the fact that they are all filler words??\n",
    "        * Do we have to calculate I from part (b)?\n",
    "    + \\[step e\\] Comment on whether the top 5 misclassified labels make sense given the topics.\n",
    "    + \\[step f\\] Compare the results to what you found using mutual information."
   ]
  }
 ],
 "metadata": {
  "kernelspec": {
   "display_name": "Python 3",
   "language": "python",
   "name": "python3"
  },
  "language_info": {
   "codemirror_mode": {
    "name": "ipython",
    "version": 3
   },
   "file_extension": ".py",
   "mimetype": "text/x-python",
   "name": "python",
   "nbconvert_exporter": "python",
   "pygments_lexer": "ipython3",
   "version": "3.8.3-final"
  }
 },
 "nbformat": 4,
 "nbformat_minor": 4
}